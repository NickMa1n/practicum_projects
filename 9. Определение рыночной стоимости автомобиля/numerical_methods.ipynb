{
 "cells": [
  {
   "cell_type": "markdown",
   "metadata": {
    "id": "wmr6QJFN7Lmy"
   },
   "source": [
    "# Определение стоимости автомобилей"
   ]
  },
  {
   "cell_type": "markdown",
   "metadata": {
    "id": "Hj0l34tq7Lmz"
   },
   "source": [
    "Сервис по продаже автомобилей с пробегом «Не бит, не крашен» разрабатывает приложение для привлечения новых клиентов. В нём можно быстро узнать рыночную стоимость своего автомобиля. В вашем распоряжении исторические данные: технические характеристики, комплектации и цены автомобилей. Вам нужно построить модель для определения стоимости.\n",
    "\n",
    "Заказчику важны:\n",
    "\n",
    "- качество предсказания;\n",
    "- скорость предсказания;\n",
    "- время обучения."
   ]
  },
  {
   "cell_type": "markdown",
   "metadata": {
    "id": "obeURHLR7Lmz"
   },
   "source": [
    "**Цель проекта**: создать модель, которая сможет качественно и быстро определить стоимость автомобиля по различным признакам.  \n",
    "\n",
    "Для оценки качества моделей будет применятся метрика RMSE, ее значение должно быть меньше 2500."
   ]
  },
  {
   "cell_type": "markdown",
   "metadata": {
    "id": "hKjwDKEj7Lmz"
   },
   "source": [
    "Описание признаков:\n",
    "* DateCrawled — дата скачивания анкеты из базы\n",
    "* VehicleType — тип автомобильного кузова\n",
    "* RegistrationYear — год регистрации автомобиля\n",
    "* Gearbox — тип коробки передач\n",
    "* Power — мощность (л. с.)\n",
    "* Model — модель автомобиля\n",
    "* Kilometer — пробег (км)\n",
    "* RegistrationMonth — месяц регистрации автомобиля\n",
    "* FuelType — тип топлива\n",
    "* Brand — марка автомобиля\n",
    "* Repaired — была машина в ремонте или нет\n",
    "* DateCreated — дата создания анкеты\n",
    "* NumberOfPictures — количество фотографий автомобиля\n",
    "* PostalCode — почтовый индекс владельца анкеты (пользователя)\n",
    "* LastSeen — дата последней активности пользователя  \n",
    "\n",
    "Целевой признак:\n",
    "* Price — цена (евро)"
   ]
  },
  {
   "cell_type": "markdown",
   "metadata": {
    "id": "8yVkM2ur7Lmz"
   },
   "source": [
    "## Подготовка данных"
   ]
  },
  {
   "cell_type": "code",
   "execution_count": 1,
   "metadata": {},
   "outputs": [
    {
     "name": "stdout",
     "output_type": "stream",
     "text": [
      "Requirement already satisfied: scikit-learn in /opt/conda/lib/python3.9/site-packages (1.5.2)\n",
      "Requirement already satisfied: joblib>=1.2.0 in /opt/conda/lib/python3.9/site-packages (from scikit-learn) (1.4.2)\n",
      "Requirement already satisfied: threadpoolctl>=3.1.0 in /opt/conda/lib/python3.9/site-packages (from scikit-learn) (3.1.0)\n",
      "Requirement already satisfied: scipy>=1.6.0 in /opt/conda/lib/python3.9/site-packages (from scikit-learn) (1.9.1)\n",
      "Requirement already satisfied: numpy>=1.19.5 in /opt/conda/lib/python3.9/site-packages (from scikit-learn) (1.21.1)\n",
      "Note: you may need to restart the kernel to use updated packages.\n"
     ]
    }
   ],
   "source": [
    "pip install --upgrade scikit-learn "
   ]
  },
  {
   "cell_type": "code",
   "execution_count": 2,
   "metadata": {
    "id": "gpuIek1_7Lm0"
   },
   "outputs": [],
   "source": [
    "import warnings\n",
    "warnings.filterwarnings('ignore')\n",
    "from time import time\n",
    "\n",
    "import pandas as pd\n",
    "import numpy as np\n",
    "import matplotlib.pyplot as plt\n",
    "\n",
    "from sklearn.model_selection import train_test_split, RandomizedSearchCV, cross_val_score\n",
    "from sklearn.preprocessing import StandardScaler, OneHotEncoder, OrdinalEncoder\n",
    "from sklearn.compose import ColumnTransformer\n",
    "from sklearn.pipeline import Pipeline\n",
    "from sklearn.impute import SimpleImputer\n",
    "from sklearn.linear_model import LinearRegression\n",
    "from sklearn.metrics import mean_squared_error\n",
    "from sklearn.tree import DecisionTreeRegressor\n",
    "from sklearn.dummy import DummyRegressor\n",
    "\n",
    "from lightgbm import LGBMRegressor"
   ]
  },
  {
   "cell_type": "code",
   "execution_count": 3,
   "metadata": {
    "id": "9udHzRPR7Lm1"
   },
   "outputs": [],
   "source": [
    "autos_df = pd.read_csv('/datasets/autos.csv')"
   ]
  },
  {
   "cell_type": "code",
   "execution_count": 4,
   "metadata": {
    "colab": {
     "base_uri": "https://localhost:8080/",
     "height": 617
    },
    "id": "Sv16G3Bi7Lm2",
    "outputId": "89d8b786-4587-4215-b361-e4285db48cd2",
    "scrolled": true
   },
   "outputs": [
    {
     "name": "stdout",
     "output_type": "stream",
     "text": [
      "<class 'pandas.core.frame.DataFrame'>\n",
      "RangeIndex: 354369 entries, 0 to 354368\n",
      "Data columns (total 16 columns):\n",
      " #   Column             Non-Null Count   Dtype \n",
      "---  ------             --------------   ----- \n",
      " 0   DateCrawled        354369 non-null  object\n",
      " 1   Price              354369 non-null  int64 \n",
      " 2   VehicleType        316879 non-null  object\n",
      " 3   RegistrationYear   354369 non-null  int64 \n",
      " 4   Gearbox            334536 non-null  object\n",
      " 5   Power              354369 non-null  int64 \n",
      " 6   Model              334664 non-null  object\n",
      " 7   Kilometer          354369 non-null  int64 \n",
      " 8   RegistrationMonth  354369 non-null  int64 \n",
      " 9   FuelType           321474 non-null  object\n",
      " 10  Brand              354369 non-null  object\n",
      " 11  Repaired           283215 non-null  object\n",
      " 12  DateCreated        354369 non-null  object\n",
      " 13  NumberOfPictures   354369 non-null  int64 \n",
      " 14  PostalCode         354369 non-null  int64 \n",
      " 15  LastSeen           354369 non-null  object\n",
      "dtypes: int64(7), object(9)\n",
      "memory usage: 43.3+ MB\n"
     ]
    },
    {
     "data": {
      "text/html": [
       "<div>\n",
       "<style scoped>\n",
       "    .dataframe tbody tr th:only-of-type {\n",
       "        vertical-align: middle;\n",
       "    }\n",
       "\n",
       "    .dataframe tbody tr th {\n",
       "        vertical-align: top;\n",
       "    }\n",
       "\n",
       "    .dataframe thead th {\n",
       "        text-align: right;\n",
       "    }\n",
       "</style>\n",
       "<table border=\"1\" class=\"dataframe\">\n",
       "  <thead>\n",
       "    <tr style=\"text-align: right;\">\n",
       "      <th></th>\n",
       "      <th>DateCrawled</th>\n",
       "      <th>Price</th>\n",
       "      <th>VehicleType</th>\n",
       "      <th>RegistrationYear</th>\n",
       "      <th>Gearbox</th>\n",
       "      <th>Power</th>\n",
       "      <th>Model</th>\n",
       "      <th>Kilometer</th>\n",
       "      <th>RegistrationMonth</th>\n",
       "      <th>FuelType</th>\n",
       "      <th>Brand</th>\n",
       "      <th>Repaired</th>\n",
       "      <th>DateCreated</th>\n",
       "      <th>NumberOfPictures</th>\n",
       "      <th>PostalCode</th>\n",
       "      <th>LastSeen</th>\n",
       "    </tr>\n",
       "  </thead>\n",
       "  <tbody>\n",
       "    <tr>\n",
       "      <th>0</th>\n",
       "      <td>2016-03-24 11:52:17</td>\n",
       "      <td>480</td>\n",
       "      <td>NaN</td>\n",
       "      <td>1993</td>\n",
       "      <td>manual</td>\n",
       "      <td>0</td>\n",
       "      <td>golf</td>\n",
       "      <td>150000</td>\n",
       "      <td>0</td>\n",
       "      <td>petrol</td>\n",
       "      <td>volkswagen</td>\n",
       "      <td>NaN</td>\n",
       "      <td>2016-03-24 00:00:00</td>\n",
       "      <td>0</td>\n",
       "      <td>70435</td>\n",
       "      <td>2016-04-07 03:16:57</td>\n",
       "    </tr>\n",
       "    <tr>\n",
       "      <th>1</th>\n",
       "      <td>2016-03-24 10:58:45</td>\n",
       "      <td>18300</td>\n",
       "      <td>coupe</td>\n",
       "      <td>2011</td>\n",
       "      <td>manual</td>\n",
       "      <td>190</td>\n",
       "      <td>NaN</td>\n",
       "      <td>125000</td>\n",
       "      <td>5</td>\n",
       "      <td>gasoline</td>\n",
       "      <td>audi</td>\n",
       "      <td>yes</td>\n",
       "      <td>2016-03-24 00:00:00</td>\n",
       "      <td>0</td>\n",
       "      <td>66954</td>\n",
       "      <td>2016-04-07 01:46:50</td>\n",
       "    </tr>\n",
       "    <tr>\n",
       "      <th>2</th>\n",
       "      <td>2016-03-14 12:52:21</td>\n",
       "      <td>9800</td>\n",
       "      <td>suv</td>\n",
       "      <td>2004</td>\n",
       "      <td>auto</td>\n",
       "      <td>163</td>\n",
       "      <td>grand</td>\n",
       "      <td>125000</td>\n",
       "      <td>8</td>\n",
       "      <td>gasoline</td>\n",
       "      <td>jeep</td>\n",
       "      <td>NaN</td>\n",
       "      <td>2016-03-14 00:00:00</td>\n",
       "      <td>0</td>\n",
       "      <td>90480</td>\n",
       "      <td>2016-04-05 12:47:46</td>\n",
       "    </tr>\n",
       "    <tr>\n",
       "      <th>3</th>\n",
       "      <td>2016-03-17 16:54:04</td>\n",
       "      <td>1500</td>\n",
       "      <td>small</td>\n",
       "      <td>2001</td>\n",
       "      <td>manual</td>\n",
       "      <td>75</td>\n",
       "      <td>golf</td>\n",
       "      <td>150000</td>\n",
       "      <td>6</td>\n",
       "      <td>petrol</td>\n",
       "      <td>volkswagen</td>\n",
       "      <td>no</td>\n",
       "      <td>2016-03-17 00:00:00</td>\n",
       "      <td>0</td>\n",
       "      <td>91074</td>\n",
       "      <td>2016-03-17 17:40:17</td>\n",
       "    </tr>\n",
       "    <tr>\n",
       "      <th>4</th>\n",
       "      <td>2016-03-31 17:25:20</td>\n",
       "      <td>3600</td>\n",
       "      <td>small</td>\n",
       "      <td>2008</td>\n",
       "      <td>manual</td>\n",
       "      <td>69</td>\n",
       "      <td>fabia</td>\n",
       "      <td>90000</td>\n",
       "      <td>7</td>\n",
       "      <td>gasoline</td>\n",
       "      <td>skoda</td>\n",
       "      <td>no</td>\n",
       "      <td>2016-03-31 00:00:00</td>\n",
       "      <td>0</td>\n",
       "      <td>60437</td>\n",
       "      <td>2016-04-06 10:17:21</td>\n",
       "    </tr>\n",
       "  </tbody>\n",
       "</table>\n",
       "</div>"
      ],
      "text/plain": [
       "           DateCrawled  Price VehicleType  RegistrationYear Gearbox  Power  \\\n",
       "0  2016-03-24 11:52:17    480         NaN              1993  manual      0   \n",
       "1  2016-03-24 10:58:45  18300       coupe              2011  manual    190   \n",
       "2  2016-03-14 12:52:21   9800         suv              2004    auto    163   \n",
       "3  2016-03-17 16:54:04   1500       small              2001  manual     75   \n",
       "4  2016-03-31 17:25:20   3600       small              2008  manual     69   \n",
       "\n",
       "   Model  Kilometer  RegistrationMonth  FuelType       Brand Repaired  \\\n",
       "0   golf     150000                  0    petrol  volkswagen      NaN   \n",
       "1    NaN     125000                  5  gasoline        audi      yes   \n",
       "2  grand     125000                  8  gasoline        jeep      NaN   \n",
       "3   golf     150000                  6    petrol  volkswagen       no   \n",
       "4  fabia      90000                  7  gasoline       skoda       no   \n",
       "\n",
       "           DateCreated  NumberOfPictures  PostalCode             LastSeen  \n",
       "0  2016-03-24 00:00:00                 0       70435  2016-04-07 03:16:57  \n",
       "1  2016-03-24 00:00:00                 0       66954  2016-04-07 01:46:50  \n",
       "2  2016-03-14 00:00:00                 0       90480  2016-04-05 12:47:46  \n",
       "3  2016-03-17 00:00:00                 0       91074  2016-03-17 17:40:17  \n",
       "4  2016-03-31 00:00:00                 0       60437  2016-04-06 10:17:21  "
      ]
     },
     "execution_count": 4,
     "metadata": {},
     "output_type": "execute_result"
    }
   ],
   "source": [
    "autos_df.info()\n",
    "autos_df.head()"
   ]
  },
  {
   "cell_type": "code",
   "execution_count": 5,
   "metadata": {
    "colab": {
     "base_uri": "https://localhost:8080/",
     "height": 586
    },
    "id": "CNJ1i_JX7Lm3",
    "outputId": "fd39bfc1-02ff-4c7d-9daa-24f6f144f894"
   },
   "outputs": [
    {
     "data": {
      "text/plain": [
       "DateCrawled           0.0\n",
       "Price                 0.0\n",
       "VehicleType          10.6\n",
       "RegistrationYear      0.0\n",
       "Gearbox               5.6\n",
       "Power                 0.0\n",
       "Model                 5.6\n",
       "Kilometer             0.0\n",
       "RegistrationMonth     0.0\n",
       "FuelType              9.3\n",
       "Brand                 0.0\n",
       "Repaired             20.1\n",
       "DateCreated           0.0\n",
       "NumberOfPictures      0.0\n",
       "PostalCode            0.0\n",
       "LastSeen              0.0\n",
       "dtype: float64"
      ]
     },
     "execution_count": 5,
     "metadata": {},
     "output_type": "execute_result"
    }
   ],
   "source": [
    "autos_df.isna().mean().round(3)*100 # % пропущенных значений по столбцам"
   ]
  },
  {
   "cell_type": "markdown",
   "metadata": {
    "id": "efXYj_Yr7Lm3"
   },
   "source": [
    "В 5 столбцах есть пропущенные значения. Посмотрим какие значения есть в этих столбцах"
   ]
  },
  {
   "cell_type": "code",
   "execution_count": 6,
   "metadata": {
    "colab": {
     "base_uri": "https://localhost:8080/"
    },
    "id": "dBJ14Qe_7Lm3",
    "outputId": "622871b1-539a-462c-c80c-9a53c7db9f08"
   },
   "outputs": [
    {
     "name": "stdout",
     "output_type": "stream",
     "text": [
      "Unique values VehicleType: [nan 'coupe' 'suv' 'small' 'sedan' 'convertible' 'bus' 'wagon' 'other'] \n",
      "\n",
      "Unique values Gearbox: ['manual' 'auto' nan] \n",
      "\n",
      "Unique values Model: ['golf' nan 'grand' 'fabia' '3er' '2_reihe' 'other' 'c_max' '3_reihe'\n",
      " 'passat' 'navara' 'ka' 'polo' 'twingo' 'a_klasse' 'scirocco' '5er'\n",
      " 'meriva' 'arosa' 'c4' 'civic' 'transporter' 'punto' 'e_klasse' 'clio'\n",
      " 'kadett' 'kangoo' 'corsa' 'one' 'fortwo' '1er' 'b_klasse' 'signum'\n",
      " 'astra' 'a8' 'jetta' 'fiesta' 'c_klasse' 'micra' 'vito' 'sprinter' '156'\n",
      " 'escort' 'forester' 'xc_reihe' 'scenic' 'a4' 'a1' 'insignia' 'combo'\n",
      " 'focus' 'tt' 'a6' 'jazz' 'omega' 'slk' '7er' '80' '147' '100' 'z_reihe'\n",
      " 'sportage' 'sorento' 'v40' 'ibiza' 'mustang' 'eos' 'touran' 'getz' 'a3'\n",
      " 'almera' 'megane' 'lupo' 'r19' 'zafira' 'caddy' 'mondeo' 'cordoba' 'colt'\n",
      " 'impreza' 'vectra' 'berlingo' 'tiguan' 'i_reihe' 'espace' 'sharan'\n",
      " '6_reihe' 'panda' 'up' 'seicento' 'ceed' '5_reihe' 'yeti' 'octavia' 'mii'\n",
      " 'rx_reihe' '6er' 'modus' 'fox' 'matiz' 'beetle' 'c1' 'rio' 'touareg'\n",
      " 'logan' 'spider' 'cuore' 's_max' 'a2' 'galaxy' 'c3' 'viano' 's_klasse'\n",
      " '1_reihe' 'avensis' 'roomster' 'sl' 'kaefer' 'santa' 'cooper' 'leon'\n",
      " '4_reihe' 'a5' '500' 'laguna' 'ptcruiser' 'clk' 'primera' 'x_reihe'\n",
      " 'exeo' '159' 'transit' 'juke' 'qashqai' 'carisma' 'accord' 'corolla'\n",
      " 'lanos' 'phaeton' 'verso' 'swift' 'rav' 'picanto' 'boxster' 'kalos'\n",
      " 'superb' 'stilo' 'alhambra' 'mx_reihe' 'roadster' 'ypsilon' 'cayenne'\n",
      " 'galant' 'justy' '90' 'sirion' 'crossfire' 'agila' 'duster' 'cr_reihe'\n",
      " 'v50' 'c_reihe' 'v_klasse' 'm_klasse' 'yaris' 'c5' 'aygo' 'cc' 'carnival'\n",
      " 'fusion' '911' 'bora' 'forfour' 'm_reihe' 'cl' 'tigra' '300c' 'spark'\n",
      " 'v70' 'kuga' 'x_type' 'ducato' 's_type' 'x_trail' 'toledo' 'altea'\n",
      " 'voyager' 'calibra' 'bravo' 'antara' 'tucson' 'citigo' 'jimny' 'wrangler'\n",
      " 'lybra' 'q7' 'lancer' 'captiva' 'c2' 'discovery' 'freelander' 'sandero'\n",
      " 'note' '900' 'cherokee' 'clubman' 'samara' 'defender' '601' 'cx_reihe'\n",
      " 'legacy' 'pajero' 'auris' 'niva' 's60' 'nubira' 'vivaro' 'g_klasse'\n",
      " 'lodgy' '850' 'range_rover' 'q3' 'serie_2' 'glk' 'charade' 'croma'\n",
      " 'outlander' 'doblo' 'musa' 'move' '9000' 'v60' '145' 'aveo' '200' 'b_max'\n",
      " 'range_rover_sport' 'terios' 'rangerover' 'q5' 'range_rover_evoque'\n",
      " 'materia' 'delta' 'gl' 'kalina' 'amarok' 'elefantino' 'i3' 'kappa'\n",
      " 'serie_3' 'serie_1'] \n",
      "\n",
      "Unique values FuelType: ['petrol' 'gasoline' nan 'lpg' 'other' 'hybrid' 'cng' 'electric'] \n",
      "\n",
      "Unique values Repaired: [nan 'yes' 'no'] \n",
      "\n"
     ]
    }
   ],
   "source": [
    "cols_nan = ['VehicleType', 'Gearbox', 'Model', 'FuelType', 'Repaired']\n",
    "for col in cols_nan:\n",
    "    print(f'Unique values {col}: {autos_df[col].unique()} \\n')"
   ]
  },
  {
   "cell_type": "markdown",
   "metadata": {
    "id": "fONh8RSZ7Lm3"
   },
   "source": [
    "В связи с тем что все столбцы содержащие пропуски типа 'object', а также чтобы не терять и не искажать данные, заменим все пропущенные значения на 'unknown'"
   ]
  },
  {
   "cell_type": "code",
   "execution_count": 7,
   "metadata": {
    "colab": {
     "base_uri": "https://localhost:8080/",
     "height": 586
    },
    "id": "2Ki69RNp7Lm4",
    "outputId": "751d3def-3d3e-4326-e8d0-7575a12c0cbc"
   },
   "outputs": [
    {
     "data": {
      "text/plain": [
       "DateCrawled          0\n",
       "Price                0\n",
       "VehicleType          0\n",
       "RegistrationYear     0\n",
       "Gearbox              0\n",
       "Power                0\n",
       "Model                0\n",
       "Kilometer            0\n",
       "RegistrationMonth    0\n",
       "FuelType             0\n",
       "Brand                0\n",
       "Repaired             0\n",
       "DateCreated          0\n",
       "NumberOfPictures     0\n",
       "PostalCode           0\n",
       "LastSeen             0\n",
       "dtype: int64"
      ]
     },
     "execution_count": 7,
     "metadata": {},
     "output_type": "execute_result"
    }
   ],
   "source": [
    "autos_df = autos_df.fillna('unknown')\n",
    "autos_df.isna().sum()"
   ]
  },
  {
   "cell_type": "markdown",
   "metadata": {
    "id": "vhkHce127Lm4"
   },
   "source": [
    "Также были замечены неявные дубликаты, а именно, в столбце Model rangerover и range_rover, в столбце FuelType значения petrol и gasoline обозначают одно и тоже - бензин. Исправим это"
   ]
  },
  {
   "cell_type": "code",
   "execution_count": 8,
   "metadata": {
    "id": "ADMTrriC7Lm4"
   },
   "outputs": [],
   "source": [
    "autos_df['Model'] = autos_df['Model'].replace('rangerover', 'range_rover')\n",
    "autos_df['FuelType'] = autos_df['FuelType'].replace('gasoline', 'petrol')"
   ]
  },
  {
   "cell_type": "code",
   "execution_count": 9,
   "metadata": {
    "colab": {
     "base_uri": "https://localhost:8080/"
    },
    "id": "KYt4sNS77Lm5",
    "outputId": "14133885-8435-4bd2-90bc-ca27cd0ea241",
    "scrolled": true
   },
   "outputs": [
    {
     "data": {
      "text/plain": [
       "['100',\n",
       " '145',\n",
       " '147',\n",
       " '156',\n",
       " '159',\n",
       " '1_reihe',\n",
       " '1er',\n",
       " '200',\n",
       " '2_reihe',\n",
       " '300c',\n",
       " '3_reihe',\n",
       " '3er',\n",
       " '4_reihe',\n",
       " '500',\n",
       " '5_reihe',\n",
       " '5er',\n",
       " '601',\n",
       " '6_reihe',\n",
       " '6er',\n",
       " '7er',\n",
       " '80',\n",
       " '850',\n",
       " '90',\n",
       " '900',\n",
       " '9000',\n",
       " '911',\n",
       " 'a1',\n",
       " 'a2',\n",
       " 'a3',\n",
       " 'a4',\n",
       " 'a5',\n",
       " 'a6',\n",
       " 'a8',\n",
       " 'a_klasse',\n",
       " 'accord',\n",
       " 'agila',\n",
       " 'alhambra',\n",
       " 'almera',\n",
       " 'altea',\n",
       " 'amarok',\n",
       " 'antara',\n",
       " 'arosa',\n",
       " 'astra',\n",
       " 'auris',\n",
       " 'avensis',\n",
       " 'aveo',\n",
       " 'aygo',\n",
       " 'b_klasse',\n",
       " 'b_max',\n",
       " 'beetle',\n",
       " 'berlingo',\n",
       " 'bora',\n",
       " 'boxster',\n",
       " 'bravo',\n",
       " 'c1',\n",
       " 'c2',\n",
       " 'c3',\n",
       " 'c4',\n",
       " 'c5',\n",
       " 'c_klasse',\n",
       " 'c_max',\n",
       " 'c_reihe',\n",
       " 'caddy',\n",
       " 'calibra',\n",
       " 'captiva',\n",
       " 'carisma',\n",
       " 'carnival',\n",
       " 'cayenne',\n",
       " 'cc',\n",
       " 'ceed',\n",
       " 'charade',\n",
       " 'cherokee',\n",
       " 'citigo',\n",
       " 'civic',\n",
       " 'cl',\n",
       " 'clio',\n",
       " 'clk',\n",
       " 'clubman',\n",
       " 'colt',\n",
       " 'combo',\n",
       " 'cooper',\n",
       " 'cordoba',\n",
       " 'corolla',\n",
       " 'corsa',\n",
       " 'cr_reihe',\n",
       " 'croma',\n",
       " 'crossfire',\n",
       " 'cuore',\n",
       " 'cx_reihe',\n",
       " 'defender',\n",
       " 'delta',\n",
       " 'discovery',\n",
       " 'doblo',\n",
       " 'ducato',\n",
       " 'duster',\n",
       " 'e_klasse',\n",
       " 'elefantino',\n",
       " 'eos',\n",
       " 'escort',\n",
       " 'espace',\n",
       " 'exeo',\n",
       " 'fabia',\n",
       " 'fiesta',\n",
       " 'focus',\n",
       " 'forester',\n",
       " 'forfour',\n",
       " 'fortwo',\n",
       " 'fox',\n",
       " 'freelander',\n",
       " 'fusion',\n",
       " 'g_klasse',\n",
       " 'galant',\n",
       " 'galaxy',\n",
       " 'getz',\n",
       " 'gl',\n",
       " 'glk',\n",
       " 'golf',\n",
       " 'grand',\n",
       " 'i3',\n",
       " 'i_reihe',\n",
       " 'ibiza',\n",
       " 'impreza',\n",
       " 'insignia',\n",
       " 'jazz',\n",
       " 'jetta',\n",
       " 'jimny',\n",
       " 'juke',\n",
       " 'justy',\n",
       " 'ka',\n",
       " 'kadett',\n",
       " 'kaefer',\n",
       " 'kalina',\n",
       " 'kalos',\n",
       " 'kangoo',\n",
       " 'kappa',\n",
       " 'kuga',\n",
       " 'laguna',\n",
       " 'lancer',\n",
       " 'lanos',\n",
       " 'legacy',\n",
       " 'leon',\n",
       " 'lodgy',\n",
       " 'logan',\n",
       " 'lupo',\n",
       " 'lybra',\n",
       " 'm_klasse',\n",
       " 'm_reihe',\n",
       " 'materia',\n",
       " 'matiz',\n",
       " 'megane',\n",
       " 'meriva',\n",
       " 'micra',\n",
       " 'mii',\n",
       " 'modus',\n",
       " 'mondeo',\n",
       " 'move',\n",
       " 'musa',\n",
       " 'mustang',\n",
       " 'mx_reihe',\n",
       " 'navara',\n",
       " 'niva',\n",
       " 'note',\n",
       " 'nubira',\n",
       " 'octavia',\n",
       " 'omega',\n",
       " 'one',\n",
       " 'other',\n",
       " 'outlander',\n",
       " 'pajero',\n",
       " 'panda',\n",
       " 'passat',\n",
       " 'phaeton',\n",
       " 'picanto',\n",
       " 'polo',\n",
       " 'primera',\n",
       " 'ptcruiser',\n",
       " 'punto',\n",
       " 'q3',\n",
       " 'q5',\n",
       " 'q7',\n",
       " 'qashqai',\n",
       " 'r19',\n",
       " 'range_rover',\n",
       " 'range_rover_evoque',\n",
       " 'range_rover_sport',\n",
       " 'rav',\n",
       " 'rio',\n",
       " 'roadster',\n",
       " 'roomster',\n",
       " 'rx_reihe',\n",
       " 's60',\n",
       " 's_klasse',\n",
       " 's_max',\n",
       " 's_type',\n",
       " 'samara',\n",
       " 'sandero',\n",
       " 'santa',\n",
       " 'scenic',\n",
       " 'scirocco',\n",
       " 'seicento',\n",
       " 'serie_1',\n",
       " 'serie_2',\n",
       " 'serie_3',\n",
       " 'sharan',\n",
       " 'signum',\n",
       " 'sirion',\n",
       " 'sl',\n",
       " 'slk',\n",
       " 'sorento',\n",
       " 'spark',\n",
       " 'spider',\n",
       " 'sportage',\n",
       " 'sprinter',\n",
       " 'stilo',\n",
       " 'superb',\n",
       " 'swift',\n",
       " 'terios',\n",
       " 'tigra',\n",
       " 'tiguan',\n",
       " 'toledo',\n",
       " 'touareg',\n",
       " 'touran',\n",
       " 'transit',\n",
       " 'transporter',\n",
       " 'tt',\n",
       " 'tucson',\n",
       " 'twingo',\n",
       " 'unknown',\n",
       " 'up',\n",
       " 'v40',\n",
       " 'v50',\n",
       " 'v60',\n",
       " 'v70',\n",
       " 'v_klasse',\n",
       " 'vectra',\n",
       " 'verso',\n",
       " 'viano',\n",
       " 'vito',\n",
       " 'vivaro',\n",
       " 'voyager',\n",
       " 'wrangler',\n",
       " 'x_reihe',\n",
       " 'x_trail',\n",
       " 'x_type',\n",
       " 'xc_reihe',\n",
       " 'yaris',\n",
       " 'yeti',\n",
       " 'ypsilon',\n",
       " 'z_reihe',\n",
       " 'zafira']"
      ]
     },
     "execution_count": 9,
     "metadata": {},
     "output_type": "execute_result"
    }
   ],
   "source": [
    "sorted(autos_df['Model'].unique())"
   ]
  },
  {
   "cell_type": "code",
   "execution_count": 10,
   "metadata": {
    "colab": {
     "base_uri": "https://localhost:8080/"
    },
    "id": "mT-IQA697Lm5",
    "outputId": "37020096-46df-4df8-b3c2-b6f42b25e8b2"
   },
   "outputs": [
    {
     "data": {
      "text/plain": [
       "array(['petrol', 'unknown', 'lpg', 'other', 'hybrid', 'cng', 'electric'],\n",
       "      dtype=object)"
      ]
     },
     "execution_count": 10,
     "metadata": {},
     "output_type": "execute_result"
    }
   ],
   "source": [
    "autos_df['FuelType'].unique()"
   ]
  },
  {
   "cell_type": "markdown",
   "metadata": {
    "id": "oGE2atUT7Lm5"
   },
   "source": [
    "Далее удалим заведомо неинформативные столбцы для модели, такие как DateCrawled, RegistrationMonth, DateCreated, NumberOfPictures, PostalCode, LastSeen. Перед этим проверим данные на явные дубликаты и удалим их."
   ]
  },
  {
   "cell_type": "code",
   "execution_count": 11,
   "metadata": {
    "colab": {
     "base_uri": "https://localhost:8080/"
    },
    "id": "f4BJIXE_7Lm5",
    "outputId": "2187d402-4a73-435a-ac04-babe6070fc23"
   },
   "outputs": [
    {
     "data": {
      "text/plain": [
       "4"
      ]
     },
     "execution_count": 11,
     "metadata": {},
     "output_type": "execute_result"
    }
   ],
   "source": [
    "autos_df.duplicated().sum()"
   ]
  },
  {
   "cell_type": "code",
   "execution_count": 12,
   "metadata": {
    "id": "Fi_pJt_l7Lm5"
   },
   "outputs": [],
   "source": [
    "autos_df = autos_df.drop_duplicates()"
   ]
  },
  {
   "cell_type": "code",
   "execution_count": 13,
   "metadata": {
    "id": "26ik5_P-7Lm5",
    "scrolled": true
   },
   "outputs": [],
   "source": [
    "autos_df = autos_df.drop(['DateCrawled', 'RegistrationMonth', 'DateCreated', 'NumberOfPictures', 'PostalCode', 'LastSeen'], axis=1)"
   ]
  },
  {
   "cell_type": "code",
   "execution_count": 14,
   "metadata": {
    "colab": {
     "base_uri": "https://localhost:8080/",
     "height": 206
    },
    "id": "6HRRSWN67Lm6",
    "outputId": "e259458b-c167-4195-fa3b-dd8f47683852"
   },
   "outputs": [
    {
     "data": {
      "text/html": [
       "<div>\n",
       "<style scoped>\n",
       "    .dataframe tbody tr th:only-of-type {\n",
       "        vertical-align: middle;\n",
       "    }\n",
       "\n",
       "    .dataframe tbody tr th {\n",
       "        vertical-align: top;\n",
       "    }\n",
       "\n",
       "    .dataframe thead th {\n",
       "        text-align: right;\n",
       "    }\n",
       "</style>\n",
       "<table border=\"1\" class=\"dataframe\">\n",
       "  <thead>\n",
       "    <tr style=\"text-align: right;\">\n",
       "      <th></th>\n",
       "      <th>Price</th>\n",
       "      <th>VehicleType</th>\n",
       "      <th>RegistrationYear</th>\n",
       "      <th>Gearbox</th>\n",
       "      <th>Power</th>\n",
       "      <th>Model</th>\n",
       "      <th>Kilometer</th>\n",
       "      <th>FuelType</th>\n",
       "      <th>Brand</th>\n",
       "      <th>Repaired</th>\n",
       "    </tr>\n",
       "  </thead>\n",
       "  <tbody>\n",
       "    <tr>\n",
       "      <th>0</th>\n",
       "      <td>480</td>\n",
       "      <td>unknown</td>\n",
       "      <td>1993</td>\n",
       "      <td>manual</td>\n",
       "      <td>0</td>\n",
       "      <td>golf</td>\n",
       "      <td>150000</td>\n",
       "      <td>petrol</td>\n",
       "      <td>volkswagen</td>\n",
       "      <td>unknown</td>\n",
       "    </tr>\n",
       "    <tr>\n",
       "      <th>1</th>\n",
       "      <td>18300</td>\n",
       "      <td>coupe</td>\n",
       "      <td>2011</td>\n",
       "      <td>manual</td>\n",
       "      <td>190</td>\n",
       "      <td>unknown</td>\n",
       "      <td>125000</td>\n",
       "      <td>petrol</td>\n",
       "      <td>audi</td>\n",
       "      <td>yes</td>\n",
       "    </tr>\n",
       "    <tr>\n",
       "      <th>2</th>\n",
       "      <td>9800</td>\n",
       "      <td>suv</td>\n",
       "      <td>2004</td>\n",
       "      <td>auto</td>\n",
       "      <td>163</td>\n",
       "      <td>grand</td>\n",
       "      <td>125000</td>\n",
       "      <td>petrol</td>\n",
       "      <td>jeep</td>\n",
       "      <td>unknown</td>\n",
       "    </tr>\n",
       "    <tr>\n",
       "      <th>3</th>\n",
       "      <td>1500</td>\n",
       "      <td>small</td>\n",
       "      <td>2001</td>\n",
       "      <td>manual</td>\n",
       "      <td>75</td>\n",
       "      <td>golf</td>\n",
       "      <td>150000</td>\n",
       "      <td>petrol</td>\n",
       "      <td>volkswagen</td>\n",
       "      <td>no</td>\n",
       "    </tr>\n",
       "    <tr>\n",
       "      <th>4</th>\n",
       "      <td>3600</td>\n",
       "      <td>small</td>\n",
       "      <td>2008</td>\n",
       "      <td>manual</td>\n",
       "      <td>69</td>\n",
       "      <td>fabia</td>\n",
       "      <td>90000</td>\n",
       "      <td>petrol</td>\n",
       "      <td>skoda</td>\n",
       "      <td>no</td>\n",
       "    </tr>\n",
       "  </tbody>\n",
       "</table>\n",
       "</div>"
      ],
      "text/plain": [
       "   Price VehicleType  RegistrationYear Gearbox  Power    Model  Kilometer  \\\n",
       "0    480     unknown              1993  manual      0     golf     150000   \n",
       "1  18300       coupe              2011  manual    190  unknown     125000   \n",
       "2   9800         suv              2004    auto    163    grand     125000   \n",
       "3   1500       small              2001  manual     75     golf     150000   \n",
       "4   3600       small              2008  manual     69    fabia      90000   \n",
       "\n",
       "  FuelType       Brand Repaired  \n",
       "0   petrol  volkswagen  unknown  \n",
       "1   petrol        audi      yes  \n",
       "2   petrol        jeep  unknown  \n",
       "3   petrol  volkswagen       no  \n",
       "4   petrol       skoda       no  "
      ]
     },
     "execution_count": 14,
     "metadata": {},
     "output_type": "execute_result"
    }
   ],
   "source": [
    "autos_df.head()"
   ]
  },
  {
   "cell_type": "markdown",
   "metadata": {
    "id": "BCzuWx1N7Lm6"
   },
   "source": [
    "Далее проверим уникальные значения столбца Brand"
   ]
  },
  {
   "cell_type": "code",
   "execution_count": 15,
   "metadata": {
    "colab": {
     "base_uri": "https://localhost:8080/"
    },
    "id": "Fgux_TBu7Lm6",
    "outputId": "903fc47b-cc82-43cc-d6a5-bc900b08f1bd",
    "scrolled": true
   },
   "outputs": [
    {
     "data": {
      "text/plain": [
       "['alfa_romeo',\n",
       " 'audi',\n",
       " 'bmw',\n",
       " 'chevrolet',\n",
       " 'chrysler',\n",
       " 'citroen',\n",
       " 'dacia',\n",
       " 'daewoo',\n",
       " 'daihatsu',\n",
       " 'fiat',\n",
       " 'ford',\n",
       " 'honda',\n",
       " 'hyundai',\n",
       " 'jaguar',\n",
       " 'jeep',\n",
       " 'kia',\n",
       " 'lada',\n",
       " 'lancia',\n",
       " 'land_rover',\n",
       " 'mazda',\n",
       " 'mercedes_benz',\n",
       " 'mini',\n",
       " 'mitsubishi',\n",
       " 'nissan',\n",
       " 'opel',\n",
       " 'peugeot',\n",
       " 'porsche',\n",
       " 'renault',\n",
       " 'rover',\n",
       " 'saab',\n",
       " 'seat',\n",
       " 'skoda',\n",
       " 'smart',\n",
       " 'sonstige_autos',\n",
       " 'subaru',\n",
       " 'suzuki',\n",
       " 'toyota',\n",
       " 'trabant',\n",
       " 'volkswagen',\n",
       " 'volvo']"
      ]
     },
     "execution_count": 15,
     "metadata": {},
     "output_type": "execute_result"
    }
   ],
   "source": [
    "sorted(autos_df['Brand'].unique())"
   ]
  },
  {
   "cell_type": "markdown",
   "metadata": {
    "id": "1dC4Iuby7Lm6"
   },
   "source": [
    "Переходим к количественным признакам"
   ]
  },
  {
   "cell_type": "markdown",
   "metadata": {
    "id": "MWBgObYA7Lm6"
   },
   "source": [
    "**1. RegistrationYear**"
   ]
  },
  {
   "cell_type": "code",
   "execution_count": 16,
   "metadata": {
    "colab": {
     "base_uri": "https://localhost:8080/",
     "height": 335
    },
    "id": "yPskrZkG7Lm6",
    "outputId": "2ec59080-b597-455a-9a93-02d83db10b7d"
   },
   "outputs": [
    {
     "data": {
      "text/plain": [
       "count    354365.000000\n",
       "mean       2004.234481\n",
       "std          90.228466\n",
       "min        1000.000000\n",
       "25%        1999.000000\n",
       "50%        2003.000000\n",
       "75%        2008.000000\n",
       "max        9999.000000\n",
       "Name: RegistrationYear, dtype: float64"
      ]
     },
     "execution_count": 16,
     "metadata": {},
     "output_type": "execute_result"
    }
   ],
   "source": [
    "autos_df['RegistrationYear'].describe()"
   ]
  },
  {
   "cell_type": "code",
   "execution_count": 17,
   "metadata": {
    "colab": {
     "base_uri": "https://localhost:8080/"
    },
    "id": "oVKT7ch77Lm7",
    "outputId": "2c3c8538-11e4-4717-d1b7-d60b13f54780",
    "scrolled": true
   },
   "outputs": [
    {
     "data": {
      "text/plain": [
       "[1000,\n",
       " 1001,\n",
       " 1039,\n",
       " 1111,\n",
       " 1200,\n",
       " 1234,\n",
       " 1253,\n",
       " 1255,\n",
       " 1300,\n",
       " 1400,\n",
       " 1500,\n",
       " 1600,\n",
       " 1602,\n",
       " 1688,\n",
       " 1800,\n",
       " 1910,\n",
       " 1915,\n",
       " 1919,\n",
       " 1920,\n",
       " 1923,\n",
       " 1925,\n",
       " 1927,\n",
       " 1928,\n",
       " 1929,\n",
       " 1930,\n",
       " 1931,\n",
       " 1932,\n",
       " 1933,\n",
       " 1934,\n",
       " 1935,\n",
       " 1936,\n",
       " 1937,\n",
       " 1938,\n",
       " 1940,\n",
       " 1941,\n",
       " 1942,\n",
       " 1943,\n",
       " 1944,\n",
       " 1945,\n",
       " 1946,\n",
       " 1947,\n",
       " 1948,\n",
       " 1949,\n",
       " 1950,\n",
       " 1951,\n",
       " 1952,\n",
       " 1953,\n",
       " 1954,\n",
       " 1955,\n",
       " 1956,\n",
       " 1957,\n",
       " 1958,\n",
       " 1959,\n",
       " 1960,\n",
       " 1961,\n",
       " 1962,\n",
       " 1963,\n",
       " 1964,\n",
       " 1965,\n",
       " 1966,\n",
       " 1967,\n",
       " 1968,\n",
       " 1969,\n",
       " 1970,\n",
       " 1971,\n",
       " 1972,\n",
       " 1973,\n",
       " 1974,\n",
       " 1975,\n",
       " 1976,\n",
       " 1977,\n",
       " 1978,\n",
       " 1979,\n",
       " 1980,\n",
       " 1981,\n",
       " 1982,\n",
       " 1983,\n",
       " 1984,\n",
       " 1985,\n",
       " 1986,\n",
       " 1987,\n",
       " 1988,\n",
       " 1989,\n",
       " 1990,\n",
       " 1991,\n",
       " 1992,\n",
       " 1993,\n",
       " 1994,\n",
       " 1995,\n",
       " 1996,\n",
       " 1997,\n",
       " 1998,\n",
       " 1999,\n",
       " 2000,\n",
       " 2001,\n",
       " 2002,\n",
       " 2003,\n",
       " 2004,\n",
       " 2005,\n",
       " 2006,\n",
       " 2007,\n",
       " 2008,\n",
       " 2009,\n",
       " 2010,\n",
       " 2011,\n",
       " 2012,\n",
       " 2013,\n",
       " 2014,\n",
       " 2015,\n",
       " 2016,\n",
       " 2017,\n",
       " 2018,\n",
       " 2019,\n",
       " 2066,\n",
       " 2200,\n",
       " 2222,\n",
       " 2290,\n",
       " 2500,\n",
       " 2800,\n",
       " 2900,\n",
       " 3000,\n",
       " 3200,\n",
       " 3500,\n",
       " 3700,\n",
       " 3800,\n",
       " 4000,\n",
       " 4100,\n",
       " 4500,\n",
       " 4800,\n",
       " 5000,\n",
       " 5300,\n",
       " 5555,\n",
       " 5600,\n",
       " 5900,\n",
       " 5911,\n",
       " 6000,\n",
       " 6500,\n",
       " 7000,\n",
       " 7100,\n",
       " 7500,\n",
       " 7800,\n",
       " 8000,\n",
       " 8200,\n",
       " 8455,\n",
       " 8500,\n",
       " 8888,\n",
       " 9000,\n",
       " 9229,\n",
       " 9450,\n",
       " 9996,\n",
       " 9999]"
      ]
     },
     "execution_count": 17,
     "metadata": {},
     "output_type": "execute_result"
    }
   ],
   "source": [
    "sorted(autos_df['RegistrationYear'].unique())"
   ]
  },
  {
   "cell_type": "markdown",
   "metadata": {
    "id": "GAOCJcuY7Lm_"
   },
   "source": [
    "Для начала ограничим год регистрации автомобиля с 1909 по ~2020~ 2016 (год выгрузки анкеты из базы), остальные значения это явные аномалии"
   ]
  },
  {
   "cell_type": "code",
   "execution_count": 18,
   "metadata": {
    "id": "-erBDFPa7Lm_"
   },
   "outputs": [],
   "source": [
    "autos_df = autos_df.query('1909 < RegistrationYear < 2017')"
   ]
  },
  {
   "cell_type": "code",
   "execution_count": 19,
   "metadata": {
    "colab": {
     "base_uri": "https://localhost:8080/",
     "height": 206
    },
    "id": "xqZDba0E7LnA",
    "outputId": "a98cd7b6-ac70-43ab-c77d-77738c4c6e28",
    "scrolled": true
   },
   "outputs": [
    {
     "data": {
      "text/html": [
       "<div>\n",
       "<style scoped>\n",
       "    .dataframe tbody tr th:only-of-type {\n",
       "        vertical-align: middle;\n",
       "    }\n",
       "\n",
       "    .dataframe tbody tr th {\n",
       "        vertical-align: top;\n",
       "    }\n",
       "\n",
       "    .dataframe thead th {\n",
       "        text-align: right;\n",
       "    }\n",
       "</style>\n",
       "<table border=\"1\" class=\"dataframe\">\n",
       "  <thead>\n",
       "    <tr style=\"text-align: right;\">\n",
       "      <th></th>\n",
       "      <th>Price</th>\n",
       "      <th>VehicleType</th>\n",
       "      <th>RegistrationYear</th>\n",
       "      <th>Gearbox</th>\n",
       "      <th>Power</th>\n",
       "      <th>Model</th>\n",
       "      <th>Kilometer</th>\n",
       "      <th>FuelType</th>\n",
       "      <th>Brand</th>\n",
       "      <th>Repaired</th>\n",
       "    </tr>\n",
       "  </thead>\n",
       "  <tbody>\n",
       "    <tr>\n",
       "      <th>0</th>\n",
       "      <td>480</td>\n",
       "      <td>unknown</td>\n",
       "      <td>1993</td>\n",
       "      <td>manual</td>\n",
       "      <td>0</td>\n",
       "      <td>golf</td>\n",
       "      <td>150000</td>\n",
       "      <td>petrol</td>\n",
       "      <td>volkswagen</td>\n",
       "      <td>unknown</td>\n",
       "    </tr>\n",
       "    <tr>\n",
       "      <th>1</th>\n",
       "      <td>18300</td>\n",
       "      <td>coupe</td>\n",
       "      <td>2011</td>\n",
       "      <td>manual</td>\n",
       "      <td>190</td>\n",
       "      <td>unknown</td>\n",
       "      <td>125000</td>\n",
       "      <td>petrol</td>\n",
       "      <td>audi</td>\n",
       "      <td>yes</td>\n",
       "    </tr>\n",
       "    <tr>\n",
       "      <th>2</th>\n",
       "      <td>9800</td>\n",
       "      <td>suv</td>\n",
       "      <td>2004</td>\n",
       "      <td>auto</td>\n",
       "      <td>163</td>\n",
       "      <td>grand</td>\n",
       "      <td>125000</td>\n",
       "      <td>petrol</td>\n",
       "      <td>jeep</td>\n",
       "      <td>unknown</td>\n",
       "    </tr>\n",
       "    <tr>\n",
       "      <th>3</th>\n",
       "      <td>1500</td>\n",
       "      <td>small</td>\n",
       "      <td>2001</td>\n",
       "      <td>manual</td>\n",
       "      <td>75</td>\n",
       "      <td>golf</td>\n",
       "      <td>150000</td>\n",
       "      <td>petrol</td>\n",
       "      <td>volkswagen</td>\n",
       "      <td>no</td>\n",
       "    </tr>\n",
       "    <tr>\n",
       "      <th>4</th>\n",
       "      <td>3600</td>\n",
       "      <td>small</td>\n",
       "      <td>2008</td>\n",
       "      <td>manual</td>\n",
       "      <td>69</td>\n",
       "      <td>fabia</td>\n",
       "      <td>90000</td>\n",
       "      <td>petrol</td>\n",
       "      <td>skoda</td>\n",
       "      <td>no</td>\n",
       "    </tr>\n",
       "  </tbody>\n",
       "</table>\n",
       "</div>"
      ],
      "text/plain": [
       "   Price VehicleType  RegistrationYear Gearbox  Power    Model  Kilometer  \\\n",
       "0    480     unknown              1993  manual      0     golf     150000   \n",
       "1  18300       coupe              2011  manual    190  unknown     125000   \n",
       "2   9800         suv              2004    auto    163    grand     125000   \n",
       "3   1500       small              2001  manual     75     golf     150000   \n",
       "4   3600       small              2008  manual     69    fabia      90000   \n",
       "\n",
       "  FuelType       Brand Repaired  \n",
       "0   petrol  volkswagen  unknown  \n",
       "1   petrol        audi      yes  \n",
       "2   petrol        jeep  unknown  \n",
       "3   petrol  volkswagen       no  \n",
       "4   petrol       skoda       no  "
      ]
     },
     "execution_count": 19,
     "metadata": {},
     "output_type": "execute_result"
    }
   ],
   "source": [
    "autos_df.head()"
   ]
  },
  {
   "cell_type": "code",
   "execution_count": 20,
   "metadata": {
    "colab": {
     "base_uri": "https://localhost:8080/",
     "height": 452
    },
    "id": "G4f9PJyI7LnA",
    "outputId": "5e4c69ee-d107-4555-842e-57d15d0359fd"
   },
   "outputs": [
    {
     "data": {
      "image/png": "[encoded data removed]",
      "text/plain": [
       "<Figure size 432x288 with 1 Axes>"
      ]
     },
     "metadata": {
      "needs_background": "light"
     },
     "output_type": "display_data"
    }
   ],
   "source": [
    "autos_df.boxplot('RegistrationYear')\n",
    "plt.title('Диаграмма размаха года регистрации автомобилей')\n",
    "plt.ylabel('Год регистрации')\n",
    "plt.show()"
   ]
  },
  {
   "cell_type": "markdown",
   "metadata": {
    "id": "0BtagFJ37LnA"
   },
   "source": [
    "На диаграмме размаха видим множество выбросов до 1980 года. Рассмотрим более детально этот период."
   ]
  },
  {
   "cell_type": "code",
   "execution_count": 21,
   "metadata": {
    "colab": {
     "base_uri": "https://localhost:8080/",
     "height": 452
    },
    "id": "xFqwk3We7LnA",
    "outputId": "99702eca-e6a4-46c8-de3c-486a8ef214c3"
   },
   "outputs": [
    {
     "data": {
      "image/png": "[encoded data removed]",
      "text/plain": [
       "<Figure size 432x288 with 1 Axes>"
      ]
     },
     "metadata": {
      "needs_background": "light"
     },
     "output_type": "display_data"
    }
   ],
   "source": [
    "autos_df.query('1909 < RegistrationYear < 1980').boxplot('RegistrationYear')\n",
    "plt.title('Диаграмма размаха регистрации автомобилей до 1980 года')\n",
    "plt.ylabel('Год регистрации')\n",
    "plt.show()"
   ]
  },
  {
   "cell_type": "markdown",
   "metadata": {
    "id": "620X9GGj7LnA"
   },
   "source": [
    "Субъективно, для обучения модели оставляем все автомобили с регистрацией после 1950 года"
   ]
  },
  {
   "cell_type": "code",
   "execution_count": 22,
   "metadata": {
    "id": "rTeXoJQY7LnB"
   },
   "outputs": [],
   "source": [
    "autos_df = autos_df.query('RegistrationYear > 1950')"
   ]
  },
  {
   "cell_type": "code",
   "execution_count": 23,
   "metadata": {
    "colab": {
     "base_uri": "https://localhost:8080/",
     "height": 472
    },
    "id": "dw96LQzT7LnB",
    "outputId": "f06dc641-6f35-4a9c-f43c-6ee3d6028689"
   },
   "outputs": [
    {
     "data": {
      "image/png": "[encoded data removed]",
      "text/plain": [
       "<Figure size 432x288 with 1 Axes>"
      ]
     },
     "metadata": {
      "needs_background": "light"
     },
     "output_type": "display_data"
    }
   ],
   "source": [
    "autos_df['RegistrationYear'].hist(bins=30)\n",
    "plt.title('Гистограмма распределения регистрации автомобилей')\n",
    "plt.xlabel('Год')\n",
    "plt.ylabel('Частота')\n",
    "plt.show()"
   ]
  },
  {
   "cell_type": "markdown",
   "metadata": {
    "id": "Z5kY0E-r7LnB"
   },
   "source": [
    "**2. Power**"
   ]
  },
  {
   "cell_type": "code",
   "execution_count": 24,
   "metadata": {
    "colab": {
     "base_uri": "https://localhost:8080/",
     "height": 335
    },
    "id": "pgpKmDKK7LnB",
    "outputId": "8f285492-bbd8-4ff2-bc79-4f7e3136e1e6"
   },
   "outputs": [
    {
     "data": {
      "text/plain": [
       "count    339571.000000\n",
       "mean        111.049398\n",
       "std         186.904549\n",
       "min           0.000000\n",
       "25%          69.000000\n",
       "50%         105.000000\n",
       "75%         143.000000\n",
       "max       20000.000000\n",
       "Name: Power, dtype: float64"
      ]
     },
     "execution_count": 24,
     "metadata": {},
     "output_type": "execute_result"
    }
   ],
   "source": [
    "autos_df['Power'].describe()"
   ]
  },
  {
   "cell_type": "markdown",
   "metadata": {
    "id": "tHN9FKAg7LnB"
   },
   "source": [
    "Сперва удалим явные аномалии - мощность автомобиля более 2030 л.с."
   ]
  },
  {
   "cell_type": "code",
   "execution_count": 25,
   "metadata": {
    "id": "G2pwrIZu7LnB"
   },
   "outputs": [],
   "source": [
    "autos_df = autos_df.query('Power < 2030')"
   ]
  },
  {
   "cell_type": "markdown",
   "metadata": {
    "id": "0mDctfIF7LnB"
   },
   "source": [
    "Рассмотрим подробнее автомобили с мощностью больше 600 л.с."
   ]
  },
  {
   "cell_type": "code",
   "execution_count": 26,
   "metadata": {
    "colab": {
     "base_uri": "https://localhost:8080/",
     "height": 424
    },
    "id": "8vctI4Jl7LnB",
    "outputId": "9a2957e7-f7ac-4708-eb8a-c74c5bc221d2"
   },
   "outputs": [
    {
     "data": {
      "text/html": [
       "<div>\n",
       "<style scoped>\n",
       "    .dataframe tbody tr th:only-of-type {\n",
       "        vertical-align: middle;\n",
       "    }\n",
       "\n",
       "    .dataframe tbody tr th {\n",
       "        vertical-align: top;\n",
       "    }\n",
       "\n",
       "    .dataframe thead th {\n",
       "        text-align: right;\n",
       "    }\n",
       "</style>\n",
       "<table border=\"1\" class=\"dataframe\">\n",
       "  <thead>\n",
       "    <tr style=\"text-align: right;\">\n",
       "      <th></th>\n",
       "      <th>Price</th>\n",
       "      <th>VehicleType</th>\n",
       "      <th>RegistrationYear</th>\n",
       "      <th>Gearbox</th>\n",
       "      <th>Power</th>\n",
       "      <th>Model</th>\n",
       "      <th>Kilometer</th>\n",
       "      <th>FuelType</th>\n",
       "      <th>Brand</th>\n",
       "      <th>Repaired</th>\n",
       "    </tr>\n",
       "  </thead>\n",
       "  <tbody>\n",
       "    <tr>\n",
       "      <th>1816</th>\n",
       "      <td>3200</td>\n",
       "      <td>small</td>\n",
       "      <td>2004</td>\n",
       "      <td>manual</td>\n",
       "      <td>1398</td>\n",
       "      <td>corolla</td>\n",
       "      <td>5000</td>\n",
       "      <td>petrol</td>\n",
       "      <td>toyota</td>\n",
       "      <td>no</td>\n",
       "    </tr>\n",
       "    <tr>\n",
       "      <th>2102</th>\n",
       "      <td>0</td>\n",
       "      <td>sedan</td>\n",
       "      <td>1999</td>\n",
       "      <td>unknown</td>\n",
       "      <td>1799</td>\n",
       "      <td>vectra</td>\n",
       "      <td>150000</td>\n",
       "      <td>petrol</td>\n",
       "      <td>opel</td>\n",
       "      <td>yes</td>\n",
       "    </tr>\n",
       "    <tr>\n",
       "      <th>4060</th>\n",
       "      <td>3100</td>\n",
       "      <td>sedan</td>\n",
       "      <td>2005</td>\n",
       "      <td>manual</td>\n",
       "      <td>953</td>\n",
       "      <td>colt</td>\n",
       "      <td>150000</td>\n",
       "      <td>petrol</td>\n",
       "      <td>mitsubishi</td>\n",
       "      <td>no</td>\n",
       "    </tr>\n",
       "    <tr>\n",
       "      <th>5328</th>\n",
       "      <td>500</td>\n",
       "      <td>wagon</td>\n",
       "      <td>1999</td>\n",
       "      <td>manual</td>\n",
       "      <td>1001</td>\n",
       "      <td>astra</td>\n",
       "      <td>150000</td>\n",
       "      <td>petrol</td>\n",
       "      <td>opel</td>\n",
       "      <td>unknown</td>\n",
       "    </tr>\n",
       "    <tr>\n",
       "      <th>6296</th>\n",
       "      <td>599</td>\n",
       "      <td>small</td>\n",
       "      <td>2002</td>\n",
       "      <td>manual</td>\n",
       "      <td>603</td>\n",
       "      <td>matiz</td>\n",
       "      <td>5000</td>\n",
       "      <td>petrol</td>\n",
       "      <td>chevrolet</td>\n",
       "      <td>yes</td>\n",
       "    </tr>\n",
       "    <tr>\n",
       "      <th>...</th>\n",
       "      <td>...</td>\n",
       "      <td>...</td>\n",
       "      <td>...</td>\n",
       "      <td>...</td>\n",
       "      <td>...</td>\n",
       "      <td>...</td>\n",
       "      <td>...</td>\n",
       "      <td>...</td>\n",
       "      <td>...</td>\n",
       "      <td>...</td>\n",
       "    </tr>\n",
       "    <tr>\n",
       "      <th>348883</th>\n",
       "      <td>7500</td>\n",
       "      <td>sedan</td>\n",
       "      <td>2011</td>\n",
       "      <td>manual</td>\n",
       "      <td>1548</td>\n",
       "      <td>scenic</td>\n",
       "      <td>90000</td>\n",
       "      <td>petrol</td>\n",
       "      <td>renault</td>\n",
       "      <td>unknown</td>\n",
       "    </tr>\n",
       "    <tr>\n",
       "      <th>348968</th>\n",
       "      <td>250</td>\n",
       "      <td>small</td>\n",
       "      <td>1999</td>\n",
       "      <td>manual</td>\n",
       "      <td>1241</td>\n",
       "      <td>ypsilon</td>\n",
       "      <td>150000</td>\n",
       "      <td>petrol</td>\n",
       "      <td>lancia</td>\n",
       "      <td>yes</td>\n",
       "    </tr>\n",
       "    <tr>\n",
       "      <th>351947</th>\n",
       "      <td>1500</td>\n",
       "      <td>bus</td>\n",
       "      <td>2001</td>\n",
       "      <td>manual</td>\n",
       "      <td>1001</td>\n",
       "      <td>zafira</td>\n",
       "      <td>5000</td>\n",
       "      <td>petrol</td>\n",
       "      <td>opel</td>\n",
       "      <td>no</td>\n",
       "    </tr>\n",
       "    <tr>\n",
       "      <th>353633</th>\n",
       "      <td>2400</td>\n",
       "      <td>sedan</td>\n",
       "      <td>2007</td>\n",
       "      <td>manual</td>\n",
       "      <td>650</td>\n",
       "      <td>c2</td>\n",
       "      <td>150000</td>\n",
       "      <td>petrol</td>\n",
       "      <td>citroen</td>\n",
       "      <td>unknown</td>\n",
       "    </tr>\n",
       "    <tr>\n",
       "      <th>354260</th>\n",
       "      <td>399</td>\n",
       "      <td>other</td>\n",
       "      <td>1994</td>\n",
       "      <td>unknown</td>\n",
       "      <td>1103</td>\n",
       "      <td>3er</td>\n",
       "      <td>150000</td>\n",
       "      <td>unknown</td>\n",
       "      <td>bmw</td>\n",
       "      <td>unknown</td>\n",
       "    </tr>\n",
       "  </tbody>\n",
       "</table>\n",
       "<p>250 rows × 10 columns</p>\n",
       "</div>"
      ],
      "text/plain": [
       "        Price VehicleType  RegistrationYear  Gearbox  Power    Model  \\\n",
       "1816     3200       small              2004   manual   1398  corolla   \n",
       "2102        0       sedan              1999  unknown   1799   vectra   \n",
       "4060     3100       sedan              2005   manual    953     colt   \n",
       "5328      500       wagon              1999   manual   1001    astra   \n",
       "6296      599       small              2002   manual    603    matiz   \n",
       "...       ...         ...               ...      ...    ...      ...   \n",
       "348883   7500       sedan              2011   manual   1548   scenic   \n",
       "348968    250       small              1999   manual   1241  ypsilon   \n",
       "351947   1500         bus              2001   manual   1001   zafira   \n",
       "353633   2400       sedan              2007   manual    650       c2   \n",
       "354260    399       other              1994  unknown   1103      3er   \n",
       "\n",
       "        Kilometer FuelType       Brand Repaired  \n",
       "1816         5000   petrol      toyota       no  \n",
       "2102       150000   petrol        opel      yes  \n",
       "4060       150000   petrol  mitsubishi       no  \n",
       "5328       150000   petrol        opel  unknown  \n",
       "6296         5000   petrol   chevrolet      yes  \n",
       "...           ...      ...         ...      ...  \n",
       "348883      90000   petrol     renault  unknown  \n",
       "348968     150000   petrol      lancia      yes  \n",
       "351947       5000   petrol        opel       no  \n",
       "353633     150000   petrol     citroen  unknown  \n",
       "354260     150000  unknown         bmw  unknown  \n",
       "\n",
       "[250 rows x 10 columns]"
      ]
     },
     "execution_count": 26,
     "metadata": {},
     "output_type": "execute_result"
    }
   ],
   "source": [
    "autos_df.query('Power > 600')"
   ]
  },
  {
   "cell_type": "markdown",
   "metadata": {
    "id": "hQJr5fKk7LnC"
   },
   "source": [
    "Тут, вероятно, есть несоответствия по параметру л.с. и марки автомобиля, и так как строк всего 266 - их можно убрать"
   ]
  },
  {
   "cell_type": "code",
   "execution_count": 27,
   "metadata": {
    "id": "ebD7lAiM7LnC"
   },
   "outputs": [],
   "source": [
    "autos_df = autos_df.query('Power < 601')"
   ]
  },
  {
   "cell_type": "markdown",
   "metadata": {
    "id": "dBwpIljE7LnC"
   },
   "source": [
    "Далее заменим все значения мощности менее 10 л.с. на медиану, так как, вероятно, это тоже ошибка"
   ]
  },
  {
   "cell_type": "code",
   "execution_count": 28,
   "metadata": {
    "id": "0MhM_48q7LnC"
   },
   "outputs": [],
   "source": [
    "median_power = autos_df['Power'].median()\n",
    "autos_df.loc[autos_df['Power'] < 10, 'Power'] = median_power"
   ]
  },
  {
   "cell_type": "code",
   "execution_count": 29,
   "metadata": {
    "colab": {
     "base_uri": "https://localhost:8080/",
     "height": 452
    },
    "id": "48WC7QtA7LnC",
    "outputId": "92eb91a1-912f-4a7e-c7d9-23e3157db417"
   },
   "outputs": [
    {
     "data": {
      "image/png": "[encoded data removed]",
      "text/plain": [
       "<Figure size 432x288 with 1 Axes>"
      ]
     },
     "metadata": {
      "needs_background": "light"
     },
     "output_type": "display_data"
    }
   ],
   "source": [
    "autos_df.boxplot('Power')\n",
    "plt.title('Диаграмма размаха мощности автомобилей')\n",
    "plt.ylabel('Мощность')\n",
    "plt.show()"
   ]
  },
  {
   "cell_type": "code",
   "execution_count": 30,
   "metadata": {
    "colab": {
     "base_uri": "https://localhost:8080/",
     "height": 472
    },
    "id": "W1Fe4BK77LnD",
    "outputId": "d61a0b94-b6e9-4e04-e107-3c7c9498674b"
   },
   "outputs": [
    {
     "data": {
      "image/png": "[encoded data removed]",
      "text/plain": [
       "<Figure size 432x288 with 1 Axes>"
      ]
     },
     "metadata": {
      "needs_background": "light"
     },
     "output_type": "display_data"
    }
   ],
   "source": [
    "autos_df['Power'].hist(bins=30)\n",
    "plt.title('Гистограмма распределения мощности автомобилей')\n",
    "plt.xlabel('Мощность, л.с.')\n",
    "plt.ylabel('Частота')\n",
    "plt.show()"
   ]
  },
  {
   "cell_type": "markdown",
   "metadata": {
    "id": "CzezwJeZ7LnD"
   },
   "source": [
    "**3. Kilometer**"
   ]
  },
  {
   "cell_type": "code",
   "execution_count": 31,
   "metadata": {
    "colab": {
     "base_uri": "https://localhost:8080/",
     "height": 335
    },
    "id": "bFzVA2BK7LnD",
    "outputId": "bbc101f2-6873-445c-dbc8-379e075793fe"
   },
   "outputs": [
    {
     "data": {
      "text/plain": [
       "count    339223.000000\n",
       "mean     128132.452693\n",
       "std       37827.149085\n",
       "min        5000.000000\n",
       "25%      125000.000000\n",
       "50%      150000.000000\n",
       "75%      150000.000000\n",
       "max      150000.000000\n",
       "Name: Kilometer, dtype: float64"
      ]
     },
     "execution_count": 31,
     "metadata": {},
     "output_type": "execute_result"
    }
   ],
   "source": [
    "autos_df['Kilometer'].describe()"
   ]
  },
  {
   "cell_type": "code",
   "execution_count": 32,
   "metadata": {
    "colab": {
     "base_uri": "https://localhost:8080/",
     "height": 452
    },
    "id": "L8ClaL5f7LnD",
    "outputId": "aaf8a6a9-6012-45c0-8a45-8df136877c03"
   },
   "outputs": [
    {
     "data": {
      "image/png": "[encoded data removed]",
      "text/plain": [
       "<Figure size 432x288 with 1 Axes>"
      ]
     },
     "metadata": {
      "needs_background": "light"
     },
     "output_type": "display_data"
    }
   ],
   "source": [
    "autos_df.boxplot('Kilometer')\n",
    "plt.title('Диаграмма размаха пробега автомобилей')\n",
    "plt.ylabel('Пробег, км')\n",
    "plt.show()"
   ]
  },
  {
   "cell_type": "code",
   "execution_count": 33,
   "metadata": {
    "colab": {
     "base_uri": "https://localhost:8080/",
     "height": 472
    },
    "id": "ECOWsOOk7LnD",
    "outputId": "88c983af-2a35-4cff-dd49-9821612c2ed8"
   },
   "outputs": [
    {
     "data": {
      "image/png": "[encoded data removed]",
      "text/plain": [
       "<Figure size 432x288 with 1 Axes>"
      ]
     },
     "metadata": {
      "needs_background": "light"
     },
     "output_type": "display_data"
    }
   ],
   "source": [
    "autos_df['Kilometer'].hist(bins=50)\n",
    "plt.title('Гистограмма распределения пробега автомобилей')\n",
    "plt.xlabel('Пробег, км')\n",
    "plt.ylabel('Частота')\n",
    "plt.show()"
   ]
  },
  {
   "cell_type": "markdown",
   "metadata": {
    "id": "zfHW4o_N7LnD"
   },
   "source": [
    "Здесь видим, что максимальное значение пробега равно медианному, что выглядит странно. Скорее всего, у многих автомобилей пробег далеко за 150 тыс. км ушел, но по каким-то причинам выше этого значения пробеги не ставились."
   ]
  },
  {
   "cell_type": "markdown",
   "metadata": {
    "id": "V9gTyyoI7LnD"
   },
   "source": [
    "**4. Целевой признак Price**"
   ]
  },
  {
   "cell_type": "code",
   "execution_count": 34,
   "metadata": {
    "colab": {
     "base_uri": "https://localhost:8080/",
     "height": 335
    },
    "id": "GAzN2uVe7LnE",
    "outputId": "e2e2dbf4-03ba-463a-d8e9-82b25388b99f"
   },
   "outputs": [
    {
     "data": {
      "text/plain": [
       "count    339223.000000\n",
       "mean       4472.974781\n",
       "std        4545.769580\n",
       "min           0.000000\n",
       "25%        1100.000000\n",
       "50%        2799.000000\n",
       "75%        6500.000000\n",
       "max       20000.000000\n",
       "Name: Price, dtype: float64"
      ]
     },
     "execution_count": 34,
     "metadata": {},
     "output_type": "execute_result"
    }
   ],
   "source": [
    "autos_df['Price'].describe()"
   ]
  },
  {
   "cell_type": "code",
   "execution_count": 35,
   "metadata": {
    "colab": {
     "base_uri": "https://localhost:8080/",
     "height": 452
    },
    "id": "-AKLRtXY7LnE",
    "outputId": "7d3d0c72-e7bb-41a8-b50a-d42b4dd829af"
   },
   "outputs": [
    {
     "data": {
      "image/png": "[encoded data removed]",
      "text/plain": [
       "<Figure size 432x288 with 1 Axes>"
      ]
     },
     "metadata": {
      "needs_background": "light"
     },
     "output_type": "display_data"
    }
   ],
   "source": [
    "autos_df.boxplot('Price')\n",
    "plt.title('Диаграмма размаха цены автомобилей')\n",
    "plt.ylabel('Цена, €')\n",
    "plt.show()"
   ]
  },
  {
   "cell_type": "markdown",
   "metadata": {
    "id": "5DhnuAPm7LnE"
   },
   "source": [
    "Здесь аномалии убирать не следует, а вот нулевые и околонулевые значения вероятнее всего ошибки. Уберем строки с ценой продажи менее 100 евро"
   ]
  },
  {
   "cell_type": "code",
   "execution_count": 36,
   "metadata": {
    "id": "o4YgnjBA7LnE"
   },
   "outputs": [],
   "source": [
    "autos_df = autos_df.query('Price > 100')"
   ]
  },
  {
   "cell_type": "markdown",
   "metadata": {
    "id": "nDKDaWXZ7LnF"
   },
   "source": [
    "Уберем снова дубликаты, сбросим индексы и выведем информациию об итоговом датасете"
   ]
  },
  {
   "cell_type": "code",
   "execution_count": 37,
   "metadata": {
    "id": "C-wL4ZNi7LnF"
   },
   "outputs": [],
   "source": [
    "autos_df = autos_df.drop_duplicates()"
   ]
  },
  {
   "cell_type": "code",
   "execution_count": 38,
   "metadata": {
    "id": "HENL_lAd7LnF"
   },
   "outputs": [],
   "source": [
    "autos_df = autos_df.reset_index(drop=True)"
   ]
  },
  {
   "cell_type": "code",
   "execution_count": 39,
   "metadata": {
    "colab": {
     "base_uri": "https://localhost:8080/"
    },
    "id": "4bazknCO7LnF",
    "outputId": "bb40679a-da20-453b-d40c-f14cac921181"
   },
   "outputs": [
    {
     "name": "stdout",
     "output_type": "stream",
     "text": [
      "<class 'pandas.core.frame.DataFrame'>\n",
      "RangeIndex: 282895 entries, 0 to 282894\n",
      "Data columns (total 10 columns):\n",
      " #   Column            Non-Null Count   Dtype  \n",
      "---  ------            --------------   -----  \n",
      " 0   Price             282895 non-null  int64  \n",
      " 1   VehicleType       282895 non-null  object \n",
      " 2   RegistrationYear  282895 non-null  int64  \n",
      " 3   Gearbox           282895 non-null  object \n",
      " 4   Power             282895 non-null  float64\n",
      " 5   Model             282895 non-null  object \n",
      " 6   Kilometer         282895 non-null  int64  \n",
      " 7   FuelType          282895 non-null  object \n",
      " 8   Brand             282895 non-null  object \n",
      " 9   Repaired          282895 non-null  object \n",
      "dtypes: float64(1), int64(3), object(6)\n",
      "memory usage: 21.6+ MB\n"
     ]
    }
   ],
   "source": [
    "autos_df.info()"
   ]
  },
  {
   "cell_type": "markdown",
   "metadata": {
    "id": "jaXEL-Vy7LnF"
   },
   "source": [
    "**Вывод**"
   ]
  },
  {
   "cell_type": "markdown",
   "metadata": {
    "id": "JquhHbr17LnG"
   },
   "source": [
    "На этапе подготовки данных были обработаны пропуски. Исправлены неявные дубликаты. Удалены неиформативные для моделей столбцы (6). Убраны аномальные значения в количественных признаках. В итоге получился датасет с целевым и 9 входными признаками. Общее количество строк сократилось на ~14920~ 71474"
   ]
  },
  {
   "cell_type": "markdown",
   "metadata": {
    "id": "hJKpOxAn7LnG"
   },
   "source": [
    "## Обучение моделей"
   ]
  },
  {
   "cell_type": "markdown",
   "metadata": {
    "id": "360Hm54e7LnG"
   },
   "source": [
    "### Подготовка данных"
   ]
  },
  {
   "cell_type": "markdown",
   "metadata": {
    "id": "oVrF9P0q7LnG"
   },
   "source": [
    "Поделим выборку на тренировочную, валидационную и тестовую"
   ]
  },
  {
   "cell_type": "code",
   "execution_count": 40,
   "metadata": {
    "id": "dfNajGTT7LnH"
   },
   "outputs": [],
   "source": [
    "RANDOM_STATE = 42\n",
    "\n",
    "X = autos_df.drop('Price', axis=1)\n",
    "y = autos_df['Price']\n",
    "\n",
    "'''\n",
    "X_train, X_valid, y_train, y_valid = train_test_split(\n",
    "    X,\n",
    "    y,\n",
    "    test_size=0.25,\n",
    "    random_state=RANDOM_STATE)\n",
    "\n",
    "X_valid, X_test, y_valid, y_test = train_test_split(\n",
    "    X,\n",
    "    y,\n",
    "    test_size=0.5,\n",
    "    random_state=RANDOM_STATE)\n",
    "'''\n",
    "\n",
    "X_train, X_test, y_train, y_test = train_test_split(\n",
    "    X,\n",
    "    y,\n",
    "    test_size=0.25,\n",
    "    random_state=RANDOM_STATE)"
   ]
  },
  {
   "cell_type": "markdown",
   "metadata": {
    "id": "p6VXgwQj7LnH"
   },
   "source": [
    "Создадим списки со столбцами для обработки признаков перед обучением и общий пайплайн для подготовки данных"
   ]
  },
  {
   "cell_type": "code",
   "execution_count": 43,
   "metadata": {
    "id": "Vr15FuXB7LnH"
   },
   "outputs": [],
   "source": [
    "ohe_cols = ['Gearbox', 'Repaired', 'VehicleType', 'Model', 'FuelType', 'Brand']\n",
    "num_cols = ['RegistrationYear', 'Power', 'Kilometer']"
   ]
  },
  {
   "cell_type": "code",
   "execution_count": 44,
   "metadata": {
    "id": "5k7yaPIH7LnI"
   },
   "outputs": [],
   "source": [
    "scaler = StandardScaler()\n",
    "ohe_encoder = OneHotEncoder(drop='first', handle_unknown='ignore', sparse_output=False)\n",
    "\n",
    "preprocessor = ColumnTransformer(\n",
    "    [\n",
    "        ('ohe', ohe_encoder, ohe_cols),\n",
    "        ('num', scaler, num_cols)\n",
    "    ],\n",
    "    remainder='passthrough')"
   ]
  },
  {
   "cell_type": "markdown",
   "metadata": {
    "id": "QZ6IM8ZV7LnI"
   },
   "source": [
    "### LinearRegression"
   ]
  },
  {
   "cell_type": "code",
   "execution_count": 45,
   "metadata": {
    "colab": {
     "base_uri": "https://localhost:8080/"
    },
    "id": "nO4ZZChh7LnI",
    "outputId": "f2abd683-2daa-4d87-a89d-c02b3a83b7f2"
   },
   "outputs": [
    {
     "name": "stdout",
     "output_type": "stream",
     "text": [
      "Время обучения LinearRegression: 21.05100393295288 c\n"
     ]
    }
   ],
   "source": [
    "linear = LinearRegression()\n",
    "linear_pipe = Pipeline(steps=[\n",
    "    ('preprocessor', preprocessor),\n",
    "    ('linear', linear)])\n",
    "\n",
    "start = time()\n",
    "\n",
    "linear_pipe.fit(X_train, y_train)\n",
    "\n",
    "end = time()\n",
    "\n",
    "linear_fit_time = (end-start)\n",
    "print(f'Время обучения LinearRegression: {linear_fit_time} c')"
   ]
  },
  {
   "cell_type": "code",
   "execution_count": 46,
   "metadata": {
    "colab": {
     "base_uri": "https://localhost:8080/"
    },
    "id": "bNFfi2hY7LnJ",
    "outputId": "4edb34c6-2067-4c64-8fed-ad236eb8aae8"
   },
   "outputs": [
    {
     "name": "stdout",
     "output_type": "stream",
     "text": [
      "Время предсказания LinearRegression: 1.2036945819854736 c\n"
     ]
    }
   ],
   "source": [
    "start = time()\n",
    "\n",
    "y_pred_linear = linear_pipe.predict(X_train)\n",
    "\n",
    "end = time()\n",
    "\n",
    "linear_pred_time = (end-start)\n",
    "print(f'Время предсказания LinearRegression: {linear_pred_time} c')"
   ]
  },
  {
   "cell_type": "code",
   "execution_count": 47,
   "metadata": {
    "id": "6aiCw74p7LnJ"
   },
   "outputs": [],
   "source": [
    "linear = LinearRegression()\n",
    "\n",
    "linear_pipe = Pipeline(steps=[\n",
    "    ('preprocessor', preprocessor),\n",
    "    ('linear', linear)])\n",
    "\n",
    "rmse_linear = -(cross_val_score(linear_pipe, X_train, y_train, scoring='neg_root_mean_squared_error')).mean()"
   ]
  },
  {
   "cell_type": "code",
   "execution_count": 48,
   "metadata": {
    "colab": {
     "base_uri": "https://localhost:8080/"
    },
    "id": "O7YCWE1m7LnJ",
    "outputId": "e8a3225c-15d4-41c3-f5cc-089042384164"
   },
   "outputs": [
    {
     "name": "stdout",
     "output_type": "stream",
     "text": [
      "LinearRegression RMSE: 2730.714980417484\n"
     ]
    }
   ],
   "source": [
    "print(f'LinearRegression RMSE: {rmse_linear}')"
   ]
  },
  {
   "cell_type": "markdown",
   "metadata": {
    "id": "QXU5DYyj7LnJ"
   },
   "source": [
    "### DecisionTree"
   ]
  },
  {
   "cell_type": "markdown",
   "metadata": {
    "id": "J7a8ydDo7LnJ"
   },
   "source": [
    "Подберем гиперпараметры для модели дерева решений"
   ]
  },
  {
   "cell_type": "code",
   "execution_count": 73,
   "metadata": {
    "colab": {
     "base_uri": "https://localhost:8080/"
    },
    "id": "PSYR4fcx7LnJ",
    "outputId": "8d1307c5-9638-4b96-d102-cbd33323558c"
   },
   "outputs": [
    {
     "name": "stdout",
     "output_type": "stream",
     "text": [
      "Pipeline(steps=[('preprocessor',\n",
      "                 ColumnTransformer(remainder='passthrough',\n",
      "                                   transformers=[('ohe',\n",
      "                                                  OneHotEncoder(drop='first',\n",
      "                                                                handle_unknown='ignore',\n",
      "                                                                sparse_output=False),\n",
      "                                                  ['Gearbox', 'Repaired',\n",
      "                                                   'VehicleType', 'Model',\n",
      "                                                   'FuelType', 'Brand']),\n",
      "                                                 ('num', StandardScaler(),\n",
      "                                                  ['RegistrationYear', 'Power',\n",
      "                                                   'Kilometer'])])),\n",
      "                ('tree',\n",
      "                 DecisionTreeRegressor(max_depth=92, max_features=5,\n",
      "                                       random_state=42))])\n"
     ]
    }
   ],
   "source": [
    "tree = DecisionTreeRegressor(random_state=RANDOM_STATE)\n",
    "\n",
    "tree_pipe = Pipeline(steps=[\n",
    "    ('preprocessor', preprocessor),\n",
    "    ('tree', tree)])\n",
    "\n",
    "param_tree = {\n",
    "    'tree__max_depth': range(78, 100, 2),\n",
    "    'tree__max_features': range(2, 8)\n",
    "}\n",
    "rnd_tree = RandomizedSearchCV(tree_pipe, param_tree, scoring='neg_root_mean_squared_error', random_state=RANDOM_STATE, n_jobs=-1)\n",
    "rnd_tree.fit(X_train, y_train)\n",
    "print(rnd_tree.best_estimator_)"
   ]
  },
  {
   "cell_type": "code",
   "execution_count": 74,
   "metadata": {
    "colab": {
     "base_uri": "https://localhost:8080/"
    },
    "id": "tu-llzFv7LnJ",
    "outputId": "c735ddff-b662-4f6c-9a04-1482a9630f7f"
   },
   "outputs": [
    {
     "name": "stdout",
     "output_type": "stream",
     "text": [
      "DecisionTreeRegressor RMSE: 2304.181274935142\n"
     ]
    }
   ],
   "source": [
    "rmse_tree = -rnd_tree.best_score_\n",
    "print(f'DecisionTreeRegressor RMSE: {rmse_tree}')"
   ]
  },
  {
   "cell_type": "code",
   "execution_count": 76,
   "metadata": {
    "colab": {
     "base_uri": "https://localhost:8080/"
    },
    "id": "DtMlOFc-7LnJ",
    "outputId": "d6fbf2f5-2593-4e1a-e03b-2419bd6b6c8c"
   },
   "outputs": [
    {
     "name": "stdout",
     "output_type": "stream",
     "text": [
      "Время обучения DecisionTreeRegressor: 2.094743013381958 c\n"
     ]
    }
   ],
   "source": [
    "tree_best = DecisionTreeRegressor(random_state=RANDOM_STATE, max_depth=92, max_features=5)\n",
    "tree_pipe_best = Pipeline(steps=[\n",
    "    ('preprocessor', preprocessor),\n",
    "    ('tree_best', tree_best)])\n",
    "\n",
    "start = time()\n",
    "\n",
    "tree_pipe_best.fit(X_train, y_train)\n",
    "\n",
    "end = time()\n",
    "tree_fit_time = (end-start)\n",
    "print(f'Время обучения DecisionTreeRegressor: {tree_fit_time} c')"
   ]
  },
  {
   "cell_type": "code",
   "execution_count": 77,
   "metadata": {
    "colab": {
     "base_uri": "https://localhost:8080/"
    },
    "id": "6YHLD1mj7LnK",
    "outputId": "e9edd107-37ef-4d41-bfb9-18a8a133ff82"
   },
   "outputs": [
    {
     "name": "stdout",
     "output_type": "stream",
     "text": [
      "Время предсказания DecisionTreeRegressor: 1.293208122253418 c\n"
     ]
    }
   ],
   "source": [
    "start = time()\n",
    "\n",
    "y_pred_tree = tree_pipe_best.predict(X_train)\n",
    "\n",
    "end = time()\n",
    "tree_pred_time = (end-start)\n",
    "print(f'Время предсказания DecisionTreeRegressor: {tree_pred_time} c')"
   ]
  },
  {
   "cell_type": "markdown",
   "metadata": {
    "id": "xK-UNZE07LnK"
   },
   "source": [
    "### LightGBM"
   ]
  },
  {
   "cell_type": "markdown",
   "metadata": {
    "id": "RRbO5esQ7LnK"
   },
   "source": [
    "Подберем гиперпараметры для модели LightGBM (реализация дерева решений с градиентным бустингом). Этот процесс достаточно долгий, поэтому код был закомментирован после нахождения лучших гиперпараметров при заданных ограничениях."
   ]
  },
  {
   "cell_type": "code",
   "execution_count": 53,
   "metadata": {
    "colab": {
     "base_uri": "https://localhost:8080/"
    },
    "id": "NpKEKkiu7LnK",
    "outputId": "162844b8-6a7b-4b1b-9008-4b7ffc7f9a94",
    "scrolled": true
   },
   "outputs": [
    {
     "name": "stdout",
     "output_type": "stream",
     "text": [
      "Pipeline(steps=[('preprocessor',\n",
      "                 ColumnTransformer(remainder='passthrough',\n",
      "                                   transformers=[('ohe',\n",
      "                                                  OneHotEncoder(drop='first',\n",
      "                                                                handle_unknown='ignore',\n",
      "                                                                sparse_output=False),\n",
      "                                                  ['Gearbox', 'Repaired',\n",
      "                                                   'VehicleType', 'Model',\n",
      "                                                   'FuelType', 'Brand']),\n",
      "                                                 ('num', StandardScaler(),\n",
      "                                                  ['RegistrationYear', 'Power',\n",
      "                                                   'Kilometer'])])),\n",
      "                ('lgbm',\n",
      "                 LGBMRegressor(max_depth=9, num_leaves=34, random_state=42))])\n"
     ]
    }
   ],
   "source": [
    "lgbm = LGBMRegressor(random_state=RANDOM_STATE)\n",
    "\n",
    "lgbm_pipe = Pipeline(steps=[\n",
    "    ('preprocessor', preprocessor),\n",
    "    ('lgbm', lgbm)])\n",
    "\n",
    "param_lgbm = {\n",
    "    'lgbm__max_depth': range(5, 10, 2),\n",
    "    'lgbm__num_leaves': range(26, 35, 2)\n",
    "}\n",
    "rnd_lgbm = RandomizedSearchCV(lgbm_pipe, param_lgbm, scoring='neg_root_mean_squared_error', random_state=RANDOM_STATE, n_jobs=-1)\n",
    "rnd_lgbm.fit(X_train, y_train)\n",
    "print(rnd_lgbm.best_estimator_)"
   ]
  },
  {
   "cell_type": "code",
   "execution_count": 54,
   "metadata": {
    "colab": {
     "base_uri": "https://localhost:8080/"
    },
    "id": "T1YCM3CL7LnK",
    "outputId": "62faf8b3-14d8-4bf5-9959-cd6017348699"
   },
   "outputs": [
    {
     "name": "stdout",
     "output_type": "stream",
     "text": [
      "LGBMRegressor RMSE: 1748.0279580503216\n"
     ]
    }
   ],
   "source": [
    "rmse_lgbm = -rnd_lgbm.best_score_\n",
    "print(f'LGBMRegressor RMSE: {rmse_lgbm}')"
   ]
  },
  {
   "cell_type": "code",
   "execution_count": 55,
   "metadata": {
    "colab": {
     "base_uri": "https://localhost:8080/"
    },
    "id": "SWit1LN47LnK",
    "outputId": "5a4ffb32-5541-489c-cd06-cdb12662ab8b"
   },
   "outputs": [
    {
     "name": "stdout",
     "output_type": "stream",
     "text": [
      "Время обучения LGBMRegressor: 7.994292736053467 c\n"
     ]
    }
   ],
   "source": [
    "lgbm_best = LGBMRegressor(random_state=RANDOM_STATE, max_depth=9, num_leaves=34)\n",
    "lgbm_pipe_best = Pipeline(steps=[\n",
    "    ('preprocessor', preprocessor),\n",
    "    ('lgbm_best', lgbm_best)])\n",
    "\n",
    "start = time()\n",
    "\n",
    "lgbm_pipe_best.fit(X_train, y_train)\n",
    "\n",
    "end = time()\n",
    "lgbm_fit_time = (end-start)\n",
    "print(f'Время обучения LGBMRegressor: {lgbm_fit_time} c')"
   ]
  },
  {
   "cell_type": "code",
   "execution_count": 56,
   "metadata": {
    "colab": {
     "base_uri": "https://localhost:8080/"
    },
    "id": "BjDYeLZo7LnK",
    "outputId": "155ff0a6-02a8-4dea-aa76-9d3fbabc8cee"
   },
   "outputs": [
    {
     "name": "stdout",
     "output_type": "stream",
     "text": [
      "Время предсказания LGBMRegressor: 3.0928714275360107 c\n"
     ]
    }
   ],
   "source": [
    "start = time()\n",
    "\n",
    "y_pred_lgbm = lgbm_pipe_best.predict(X_train)\n",
    "\n",
    "end = time()\n",
    "lgbm_pred_time = (end-start)\n",
    "print(f'Время предсказания LGBMRegressor: {lgbm_pred_time} c')"
   ]
  },
  {
   "cell_type": "markdown",
   "metadata": {
    "id": "QA6Aiq_E7LnL"
   },
   "source": [
    "**Вывод**"
   ]
  },
  {
   "cell_type": "markdown",
   "metadata": {
    "id": "uuhdHugc7LnL"
   },
   "source": [
    "На этапе обучения моделей была произведена разбивка данных на тренировочную~, валидационную~ и тестовую выборки. Построены 3 модели, для двух из них подобраны гиперпараметры. Расчитаны метрики качества каждой из них, а также времена обучения и предсказания."
   ]
  },
  {
   "cell_type": "markdown",
   "metadata": {
    "id": "42KzF4lW7LnL"
   },
   "source": [
    "## Анализ моделей"
   ]
  },
  {
   "cell_type": "code",
   "execution_count": 78,
   "metadata": {
    "colab": {
     "base_uri": "https://localhost:8080/",
     "height": 143
    },
    "id": "I8_7Fh-67LnL",
    "outputId": "749e138e-2ffa-4c6d-d2a4-eea4c32b580d"
   },
   "outputs": [
    {
     "data": {
      "text/html": [
       "<div>\n",
       "<style scoped>\n",
       "    .dataframe tbody tr th:only-of-type {\n",
       "        vertical-align: middle;\n",
       "    }\n",
       "\n",
       "    .dataframe tbody tr th {\n",
       "        vertical-align: top;\n",
       "    }\n",
       "\n",
       "    .dataframe thead th {\n",
       "        text-align: right;\n",
       "    }\n",
       "</style>\n",
       "<table border=\"1\" class=\"dataframe\">\n",
       "  <thead>\n",
       "    <tr style=\"text-align: right;\">\n",
       "      <th></th>\n",
       "      <th>name</th>\n",
       "      <th>rmse</th>\n",
       "      <th>time_fit_s</th>\n",
       "      <th>time_pred_s</th>\n",
       "    </tr>\n",
       "  </thead>\n",
       "  <tbody>\n",
       "    <tr>\n",
       "      <th>0</th>\n",
       "      <td>LinearRegression</td>\n",
       "      <td>2730.714980</td>\n",
       "      <td>21.051004</td>\n",
       "      <td>1.203695</td>\n",
       "    </tr>\n",
       "    <tr>\n",
       "      <th>1</th>\n",
       "      <td>DecisionTreeRegressor</td>\n",
       "      <td>2304.181275</td>\n",
       "      <td>2.094743</td>\n",
       "      <td>1.293208</td>\n",
       "    </tr>\n",
       "    <tr>\n",
       "      <th>2</th>\n",
       "      <td>LGBMRegressor</td>\n",
       "      <td>1748.027958</td>\n",
       "      <td>7.994293</td>\n",
       "      <td>3.092871</td>\n",
       "    </tr>\n",
       "  </tbody>\n",
       "</table>\n",
       "</div>"
      ],
      "text/plain": [
       "                    name         rmse  time_fit_s  time_pred_s\n",
       "0       LinearRegression  2730.714980   21.051004     1.203695\n",
       "1  DecisionTreeRegressor  2304.181275    2.094743     1.293208\n",
       "2          LGBMRegressor  1748.027958    7.994293     3.092871"
      ]
     },
     "execution_count": 78,
     "metadata": {},
     "output_type": "execute_result"
    }
   ],
   "source": [
    "analysis_table = pd.DataFrame({\n",
    "    'name': ['LinearRegression', 'DecisionTreeRegressor', 'LGBMRegressor'],\n",
    "    'rmse': [rmse_linear, rmse_tree, rmse_lgbm],\n",
    "    'time_fit_s': [linear_fit_time, tree_fit_time, lgbm_fit_time],\n",
    "    'time_pred_s': [linear_pred_time, tree_pred_time, lgbm_pred_time]\n",
    "})\n",
    "analysis_table"
   ]
  },
  {
   "cell_type": "markdown",
   "metadata": {
    "id": "bRzgeMXR7LnL"
   },
   "source": [
    "Наилучшей по качеству модели оказалась LGBMRegressor со значением RMSE 1751.6. Время обучения этой модели хуже в 10, чем у LinearRegression. По скорости предсказания эта модель тоже значительно отстает от двух других. DecisionTreeRegressor показала значение RMSE 2046.7, что попадает в критерии заказчика, а скорости ее обучения и предсказания сопоставимы с LinearRegression. Проверим ее на тестовой выборке."
   ]
  },
  {
   "cell_type": "code",
   "execution_count": 79,
   "metadata": {
    "colab": {
     "base_uri": "https://localhost:8080/"
    },
    "id": "TdJSdh7e7LnM",
    "outputId": "c985318d-be54-4aad-f41c-68af061e2819"
   },
   "outputs": [
    {
     "name": "stdout",
     "output_type": "stream",
     "text": [
      "DecisionTreeRegressor (test) RMSE: 2369.9300241986225\n",
      "CPU times: user 255 ms, sys: 174 ms, total: 429 ms\n",
      "Wall time: 428 ms\n"
     ]
    }
   ],
   "source": [
    "%%time\n",
    "\n",
    "y_pred = tree_pipe_best.predict(X_test)\n",
    "\n",
    "rmse = mean_squared_error(y_test, y_pred, squared=False)\n",
    "print(f'DecisionTreeRegressor (test) RMSE: {rmse}')"
   ]
  },
  {
   "cell_type": "markdown",
   "metadata": {
    "id": "OUAFtmXo7LnM"
   },
   "source": [
    "**Вывод**"
   ]
  },
  {
   "cell_type": "markdown",
   "metadata": {
    "id": "DnTZnnxA7LnM"
   },
   "source": [
    "На этапе анализа моделей выполнено сравнение моделей по критериям заказчика. Наилучшей по качеству модели оказалась LGBMRegressor со значением RMSE 1751.6. Время обучения этой модели хуже в 10, чем у LinearRegression. По скорости предсказания эта модель тоже значительно отстает от двух других. DecisionTreeRegressor показала значение RMSE 2046.7, что попадает в критерии заказчика, а скорости ее обучения и предсказания сопоставимы с LinearRegression. Посчитаны RMSE на тестовой выборке - 1984.7, что является допустимым по условию"
   ]
  },
  {
   "cell_type": "code",
   "execution_count": 58,
   "metadata": {
    "colab": {
     "base_uri": "https://localhost:8080/"
    },
    "id": "SeIZkyx17LnN",
    "outputId": "615b6ffc-ce28-4367-b5bd-c5e92e92d2d1"
   },
   "outputs": [
    {
     "name": "stdout",
     "output_type": "stream",
     "text": [
      "DummyRegressor (test) RMSE: 4601.366349115148\n"
     ]
    }
   ],
   "source": [
    "dummy = DummyRegressor()\n",
    "\n",
    "dummy_pipe = Pipeline(steps=[\n",
    "    ('preprocessor', preprocessor),\n",
    "    ('dummy', dummy)])\n",
    "\n",
    "dummy_pipe.fit(X_train, y_train)\n",
    "\n",
    "y_pred_dummy = dummy_pipe.predict(X_test)\n",
    "\n",
    "rmse_dummy = mean_squared_error(y_test, y_pred_dummy, squared=False)\n",
    "print(f'DummyRegressor (test) RMSE: {rmse_dummy}')"
   ]
  },
  {
   "cell_type": "markdown",
   "metadata": {
    "id": "ZjUK_0yo7LnN"
   },
   "source": [
    "## Общий вывод"
   ]
  },
  {
   "cell_type": "markdown",
   "metadata": {
    "id": "U08zG1PQ7LnN"
   },
   "source": [
    "На этапе подготовки данных были обработаны пропуски. Исправлены неявные дубликаты. Удалены неиформативные для моделей столбцы (6). Убраны аномальные значения в количественных признаках. В итоге получился датасет с целевым и 9 входными признаками. Общее количество строк сократилось на 71474.  \n",
    "На этапе обучения моделей была произведена разбивка данных на тренировочную и тестовую выборки. Построены 3 модели, для двух из них подобраны гиперпараметры. Расчитаны метрики качества каждой из них, а также времена обучения и предсказания.    \n",
    "На этапе анализа моделей выполнено сравнение моделей по критериям заказчика. Наилучшей по качеству модели оказалась LGBMRegressor со значением RMSE 1751.6. Время обучения этой модели хуже в 10, чем у LinearRegression. По скорости предсказания эта модель тоже значительно отстает от двух других. DecisionTreeRegressor показала значение RMSE 2046.7, что попадает в критерии заказчика, а скорости ее обучения и предсказания сопоставимы с LinearRegression. Посчитаны RMSE на тестовой выборке - 1984.7, что является допустимым по условию.  \n",
    "Рекомендуемая модель DecisionTreeRegressor(max_depth=14, max_features=5)."
   ]
  }
 ],
 "metadata": {
  "ExecuteTimeLog": [
   {
    "duration": 73,
    "start_time": "2024-10-28T22:14:35.401Z"
   },
   {
    "duration": 404,
    "start_time": "2024-10-28T22:19:16.414Z"
   },
   {
    "duration": 1273,
    "start_time": "2024-10-28T22:20:07.649Z"
   },
   {
    "duration": 174,
    "start_time": "2024-10-28T22:20:40.576Z"
   },
   {
    "duration": 143,
    "start_time": "2024-10-28T22:31:55.137Z"
   },
   {
    "duration": 144,
    "start_time": "2024-10-28T22:35:43.481Z"
   },
   {
    "duration": 140,
    "start_time": "2024-10-28T22:35:55.993Z"
   },
   {
    "duration": 146,
    "start_time": "2024-10-28T22:36:02.432Z"
   },
   {
    "duration": 150,
    "start_time": "2024-10-28T22:36:47.691Z"
   },
   {
    "duration": 155,
    "start_time": "2024-10-28T22:37:33.395Z"
   },
   {
    "duration": 144,
    "start_time": "2024-10-28T22:37:54.633Z"
   },
   {
    "duration": 146,
    "start_time": "2024-10-28T22:38:20.078Z"
   },
   {
    "duration": 212,
    "start_time": "2024-10-28T22:38:49.525Z"
   },
   {
    "duration": 141,
    "start_time": "2024-10-28T22:39:23.081Z"
   },
   {
    "duration": 53,
    "start_time": "2024-10-28T22:39:44.657Z"
   },
   {
    "duration": 145,
    "start_time": "2024-10-28T22:40:01.961Z"
   },
   {
    "duration": 145,
    "start_time": "2024-10-28T22:40:13.226Z"
   },
   {
    "duration": 147,
    "start_time": "2024-10-28T22:40:31.668Z"
   },
   {
    "duration": 175,
    "start_time": "2024-10-28T22:40:39.075Z"
   },
   {
    "duration": 150,
    "start_time": "2024-10-28T22:40:42.480Z"
   },
   {
    "duration": 149,
    "start_time": "2024-10-28T22:41:37.015Z"
   },
   {
    "duration": 148,
    "start_time": "2024-10-28T22:41:44.952Z"
   },
   {
    "duration": 149,
    "start_time": "2024-10-28T22:42:36.879Z"
   },
   {
    "duration": 143,
    "start_time": "2024-10-28T22:43:41.100Z"
   },
   {
    "duration": 99,
    "start_time": "2024-10-29T20:46:39.551Z"
   },
   {
    "duration": 370,
    "start_time": "2024-10-29T20:55:49.870Z"
   },
   {
    "duration": 450,
    "start_time": "2024-10-29T20:56:18.632Z"
   },
   {
    "duration": 25,
    "start_time": "2024-10-29T21:01:13.826Z"
   },
   {
    "duration": 9,
    "start_time": "2024-10-29T21:02:05.656Z"
   },
   {
    "duration": 28,
    "start_time": "2024-10-29T21:02:15.396Z"
   },
   {
    "duration": 24,
    "start_time": "2024-10-29T21:03:13.423Z"
   },
   {
    "duration": 28,
    "start_time": "2024-10-29T21:03:23.619Z"
   },
   {
    "duration": 30,
    "start_time": "2024-10-29T21:04:36.262Z"
   },
   {
    "duration": 28,
    "start_time": "2024-10-29T21:04:44.767Z"
   },
   {
    "duration": 30,
    "start_time": "2024-10-29T21:04:48.399Z"
   },
   {
    "duration": 29,
    "start_time": "2024-10-29T21:04:52.440Z"
   },
   {
    "duration": 24,
    "start_time": "2024-10-29T21:05:36.224Z"
   },
   {
    "duration": 25,
    "start_time": "2024-10-29T21:05:49.558Z"
   },
   {
    "duration": 25,
    "start_time": "2024-10-29T21:06:40.770Z"
   },
   {
    "duration": 23,
    "start_time": "2024-10-29T21:06:55.977Z"
   },
   {
    "duration": 26,
    "start_time": "2024-10-29T21:07:04.835Z"
   },
   {
    "duration": 2,
    "start_time": "2024-10-29T21:07:37.844Z"
   },
   {
    "duration": 22,
    "start_time": "2024-10-29T21:08:59.387Z"
   },
   {
    "duration": 26,
    "start_time": "2024-10-29T21:09:05.532Z"
   },
   {
    "duration": 27,
    "start_time": "2024-10-29T21:09:24.066Z"
   },
   {
    "duration": 24,
    "start_time": "2024-10-29T21:09:32.238Z"
   },
   {
    "duration": 27,
    "start_time": "2024-10-29T21:09:40.688Z"
   },
   {
    "duration": 25,
    "start_time": "2024-10-29T21:09:59.827Z"
   },
   {
    "duration": 29,
    "start_time": "2024-10-29T21:10:06.874Z"
   },
   {
    "duration": 28,
    "start_time": "2024-10-29T21:10:28.860Z"
   },
   {
    "duration": 26,
    "start_time": "2024-10-29T21:12:37.898Z"
   },
   {
    "duration": 27,
    "start_time": "2024-10-29T21:12:44.994Z"
   },
   {
    "duration": 22,
    "start_time": "2024-10-29T21:13:31.326Z"
   },
   {
    "duration": 113,
    "start_time": "2024-10-29T21:21:59.428Z"
   },
   {
    "duration": 14,
    "start_time": "2024-10-29T21:22:18.742Z"
   },
   {
    "duration": 11,
    "start_time": "2024-10-29T21:22:50.296Z"
   },
   {
    "duration": 2,
    "start_time": "2024-10-29T21:23:10.350Z"
   },
   {
    "duration": 902,
    "start_time": "2024-10-29T21:23:10.354Z"
   },
   {
    "duration": 179,
    "start_time": "2024-10-29T21:23:11.257Z"
   },
   {
    "duration": 155,
    "start_time": "2024-10-29T21:23:11.437Z"
   },
   {
    "duration": 108,
    "start_time": "2024-10-29T21:23:11.598Z"
   },
   {
    "duration": 307,
    "start_time": "2024-10-29T21:23:11.708Z"
   },
   {
    "duration": 25,
    "start_time": "2024-10-29T21:23:12.016Z"
   },
   {
    "duration": 26,
    "start_time": "2024-10-29T21:23:12.043Z"
   },
   {
    "duration": 78,
    "start_time": "2024-10-29T21:23:12.071Z"
   },
   {
    "duration": 136,
    "start_time": "2024-10-29T21:23:28.911Z"
   },
   {
    "duration": 11,
    "start_time": "2024-10-29T21:23:36.193Z"
   },
   {
    "duration": 151,
    "start_time": "2024-10-29T21:28:00.079Z"
   },
   {
    "duration": 3,
    "start_time": "2024-10-29T21:29:46.464Z"
   },
   {
    "duration": 847,
    "start_time": "2024-10-29T21:29:46.469Z"
   },
   {
    "duration": 161,
    "start_time": "2024-10-29T21:29:47.318Z"
   },
   {
    "duration": 156,
    "start_time": "2024-10-29T21:29:47.480Z"
   },
   {
    "duration": 112,
    "start_time": "2024-10-29T21:29:47.639Z"
   },
   {
    "duration": 307,
    "start_time": "2024-10-29T21:29:47.753Z"
   },
   {
    "duration": 24,
    "start_time": "2024-10-29T21:29:48.061Z"
   },
   {
    "duration": 49,
    "start_time": "2024-10-29T21:29:48.097Z"
   },
   {
    "duration": 20,
    "start_time": "2024-10-29T21:29:48.148Z"
   },
   {
    "duration": 420,
    "start_time": "2024-10-29T21:29:50.355Z"
   },
   {
    "duration": 493,
    "start_time": "2024-10-29T21:32:59.541Z"
   },
   {
    "duration": 488,
    "start_time": "2024-10-29T21:33:22.838Z"
   },
   {
    "duration": 27,
    "start_time": "2024-10-29T21:34:17.279Z"
   },
   {
    "duration": 32,
    "start_time": "2024-10-29T21:34:19.171Z"
   },
   {
    "duration": 26,
    "start_time": "2024-10-29T21:37:23.288Z"
   },
   {
    "duration": 16,
    "start_time": "2024-10-29T21:43:08.404Z"
   },
   {
    "duration": 639,
    "start_time": "2024-10-29T21:43:52.322Z"
   },
   {
    "duration": 189,
    "start_time": "2024-10-29T21:44:02.253Z"
   },
   {
    "duration": 3,
    "start_time": "2024-10-29T21:44:56.355Z"
   },
   {
    "duration": 170,
    "start_time": "2024-10-29T21:45:01.250Z"
   },
   {
    "duration": 253,
    "start_time": "2024-10-29T21:45:08.855Z"
   },
   {
    "duration": 246,
    "start_time": "2024-10-29T21:45:13.991Z"
   },
   {
    "duration": 18,
    "start_time": "2024-10-29T21:45:54.984Z"
   },
   {
    "duration": 246,
    "start_time": "2024-10-29T21:45:57.621Z"
   },
   {
    "duration": 154,
    "start_time": "2024-10-29T21:46:05.021Z"
   },
   {
    "duration": 8,
    "start_time": "2024-10-29T21:46:45.548Z"
   },
   {
    "duration": 460,
    "start_time": "2024-10-29T21:47:06.071Z"
   },
   {
    "duration": 7,
    "start_time": "2024-10-29T21:48:36.758Z"
   },
   {
    "duration": 7,
    "start_time": "2024-10-29T21:48:46.028Z"
   },
   {
    "duration": 7,
    "start_time": "2024-10-29T21:48:48.924Z"
   },
   {
    "duration": 35,
    "start_time": "2024-10-29T21:59:21.443Z"
   },
   {
    "duration": 9,
    "start_time": "2024-10-29T21:59:42.164Z"
   },
   {
    "duration": 37,
    "start_time": "2024-10-29T21:59:58.914Z"
   },
   {
    "duration": 8,
    "start_time": "2024-10-29T22:00:01.989Z"
   },
   {
    "duration": 9,
    "start_time": "2024-10-29T22:01:31.769Z"
   },
   {
    "duration": 0,
    "start_time": "2024-10-29T22:02:52.202Z"
   },
   {
    "duration": 3192,
    "start_time": "2024-10-29T22:03:01.740Z"
   },
   {
    "duration": 461,
    "start_time": "2024-10-29T22:05:31.192Z"
   },
   {
    "duration": 447,
    "start_time": "2024-10-29T22:07:12.717Z"
   },
   {
    "duration": 528,
    "start_time": "2024-10-29T22:07:31.260Z"
   },
   {
    "duration": 469,
    "start_time": "2024-10-29T22:07:39.161Z"
   },
   {
    "duration": 127,
    "start_time": "2024-10-29T22:18:31.148Z"
   },
   {
    "duration": 128,
    "start_time": "2024-10-29T22:20:07.126Z"
   },
   {
    "duration": 132,
    "start_time": "2024-10-29T22:20:30.277Z"
   },
   {
    "duration": 36,
    "start_time": "2024-10-29T22:24:49.479Z"
   },
   {
    "duration": 16,
    "start_time": "2024-10-29T22:25:55.846Z"
   },
   {
    "duration": 165,
    "start_time": "2024-10-29T22:29:15.869Z"
   },
   {
    "duration": 182,
    "start_time": "2024-10-29T22:29:22.192Z"
   },
   {
    "duration": 176,
    "start_time": "2024-10-29T22:29:34.638Z"
   },
   {
    "duration": 184,
    "start_time": "2024-10-29T22:29:37.640Z"
   },
   {
    "duration": 163,
    "start_time": "2024-10-29T22:29:41.278Z"
   },
   {
    "duration": 180,
    "start_time": "2024-10-29T22:30:49.856Z"
   },
   {
    "duration": 421,
    "start_time": "2024-10-29T22:35:41.855Z"
   },
   {
    "duration": 37,
    "start_time": "2024-10-29T22:37:38.830Z"
   },
   {
    "duration": 427,
    "start_time": "2024-10-29T22:37:41.090Z"
   },
   {
    "duration": 22,
    "start_time": "2024-10-29T22:39:45.915Z"
   },
   {
    "duration": 27,
    "start_time": "2024-10-29T22:43:05.203Z"
   },
   {
    "duration": 20,
    "start_time": "2024-10-29T22:43:25.381Z"
   },
   {
    "duration": 19,
    "start_time": "2024-10-29T22:43:29.248Z"
   },
   {
    "duration": 14,
    "start_time": "2024-10-29T22:45:12.436Z"
   },
   {
    "duration": 18,
    "start_time": "2024-10-29T22:45:29.673Z"
   },
   {
    "duration": 27,
    "start_time": "2024-10-29T22:48:45.810Z"
   },
   {
    "duration": 411,
    "start_time": "2024-10-29T22:49:48.554Z"
   },
   {
    "duration": 19,
    "start_time": "2024-10-29T22:50:23.031Z"
   },
   {
    "duration": 10,
    "start_time": "2024-10-29T22:50:33.789Z"
   },
   {
    "duration": 16,
    "start_time": "2024-10-29T22:54:32.074Z"
   },
   {
    "duration": 21,
    "start_time": "2024-10-29T22:54:39.354Z"
   },
   {
    "duration": 21,
    "start_time": "2024-10-29T22:54:52.002Z"
   },
   {
    "duration": 21,
    "start_time": "2024-10-29T22:54:57.320Z"
   },
   {
    "duration": 3,
    "start_time": "2024-10-29T22:57:38.053Z"
   },
   {
    "duration": 969,
    "start_time": "2024-10-29T22:57:38.058Z"
   },
   {
    "duration": 171,
    "start_time": "2024-10-29T22:57:39.029Z"
   },
   {
    "duration": 198,
    "start_time": "2024-10-29T22:57:39.203Z"
   },
   {
    "duration": 136,
    "start_time": "2024-10-29T22:57:39.404Z"
   },
   {
    "duration": 313,
    "start_time": "2024-10-29T22:57:39.541Z"
   },
   {
    "duration": 27,
    "start_time": "2024-10-29T22:57:39.855Z"
   },
   {
    "duration": 46,
    "start_time": "2024-10-29T22:57:39.884Z"
   },
   {
    "duration": 23,
    "start_time": "2024-10-29T22:57:39.931Z"
   },
   {
    "duration": 507,
    "start_time": "2024-10-29T22:57:39.956Z"
   },
   {
    "duration": 519,
    "start_time": "2024-10-29T22:57:40.465Z"
   },
   {
    "duration": 37,
    "start_time": "2024-10-29T22:57:40.985Z"
   },
   {
    "duration": 10,
    "start_time": "2024-10-29T22:57:41.024Z"
   },
   {
    "duration": 27,
    "start_time": "2024-10-29T22:57:41.037Z"
   },
   {
    "duration": 40,
    "start_time": "2024-10-29T22:57:41.065Z"
   },
   {
    "duration": 8,
    "start_time": "2024-10-29T22:57:41.107Z"
   },
   {
    "duration": 24,
    "start_time": "2024-10-29T22:57:41.117Z"
   },
   {
    "duration": 530,
    "start_time": "2024-10-29T22:57:41.143Z"
   },
   {
    "duration": 145,
    "start_time": "2024-10-29T22:57:41.675Z"
   },
   {
    "duration": 35,
    "start_time": "2024-10-29T22:57:41.822Z"
   },
   {
    "duration": 202,
    "start_time": "2024-10-29T22:57:41.859Z"
   },
   {
    "duration": 17,
    "start_time": "2024-10-29T22:57:42.062Z"
   },
   {
    "duration": 37,
    "start_time": "2024-10-29T22:57:42.080Z"
   },
   {
    "duration": 418,
    "start_time": "2024-10-29T22:57:42.118Z"
   },
   {
    "duration": 19,
    "start_time": "2024-10-29T22:57:42.538Z"
   },
   {
    "duration": 40,
    "start_time": "2024-10-29T22:57:42.558Z"
   },
   {
    "duration": 30,
    "start_time": "2024-10-29T22:57:49.195Z"
   },
   {
    "duration": 14,
    "start_time": "2024-10-29T23:00:17.021Z"
   },
   {
    "duration": 15,
    "start_time": "2024-10-29T23:04:27.845Z"
   },
   {
    "duration": 501,
    "start_time": "2024-10-29T23:05:51.587Z"
   },
   {
    "duration": 180,
    "start_time": "2024-10-29T23:06:39.808Z"
   },
   {
    "duration": 15,
    "start_time": "2024-10-29T23:08:21.577Z"
   },
   {
    "duration": 557,
    "start_time": "2024-10-29T23:11:13.782Z"
   },
   {
    "duration": 184,
    "start_time": "2024-10-29T23:18:17.788Z"
   },
   {
    "duration": 220,
    "start_time": "2024-10-29T23:18:36.689Z"
   },
   {
    "duration": 15,
    "start_time": "2024-10-29T23:22:03.253Z"
   },
   {
    "duration": 474,
    "start_time": "2024-10-29T23:23:56.111Z"
   },
   {
    "duration": 25,
    "start_time": "2024-10-29T23:25:39.977Z"
   },
   {
    "duration": 24,
    "start_time": "2024-10-29T23:25:53.015Z"
   },
   {
    "duration": 23,
    "start_time": "2024-10-29T23:26:15.892Z"
   },
   {
    "duration": 24,
    "start_time": "2024-10-29T23:26:25.869Z"
   },
   {
    "duration": 24,
    "start_time": "2024-10-29T23:26:53.983Z"
   },
   {
    "duration": 24,
    "start_time": "2024-10-29T23:27:33.100Z"
   },
   {
    "duration": 25,
    "start_time": "2024-10-29T23:27:36.555Z"
   },
   {
    "duration": 24,
    "start_time": "2024-10-29T23:27:39.263Z"
   },
   {
    "duration": 27,
    "start_time": "2024-10-29T23:30:09.284Z"
   },
   {
    "duration": 27,
    "start_time": "2024-10-29T23:30:18.527Z"
   },
   {
    "duration": 26,
    "start_time": "2024-10-29T23:30:22.463Z"
   },
   {
    "duration": 25,
    "start_time": "2024-10-29T23:30:37.777Z"
   },
   {
    "duration": 27,
    "start_time": "2024-10-29T23:30:47.453Z"
   },
   {
    "duration": 24,
    "start_time": "2024-10-29T23:30:51.463Z"
   },
   {
    "duration": 25,
    "start_time": "2024-10-29T23:31:01.881Z"
   },
   {
    "duration": 23,
    "start_time": "2024-10-29T23:31:10.078Z"
   },
   {
    "duration": 35,
    "start_time": "2024-10-29T23:32:30.833Z"
   },
   {
    "duration": 97,
    "start_time": "2024-10-29T23:32:52.301Z"
   },
   {
    "duration": 53,
    "start_time": "2024-10-30T21:19:21.084Z"
   },
   {
    "duration": 785,
    "start_time": "2024-10-30T21:19:26.617Z"
   },
   {
    "duration": 1121,
    "start_time": "2024-10-30T21:19:27.404Z"
   },
   {
    "duration": 151,
    "start_time": "2024-10-30T21:19:28.526Z"
   },
   {
    "duration": 150,
    "start_time": "2024-10-30T21:19:28.678Z"
   },
   {
    "duration": 97,
    "start_time": "2024-10-30T21:19:28.830Z"
   },
   {
    "duration": 321,
    "start_time": "2024-10-30T21:19:28.929Z"
   },
   {
    "duration": 22,
    "start_time": "2024-10-30T21:19:29.251Z"
   },
   {
    "duration": 83,
    "start_time": "2024-10-30T21:19:29.274Z"
   },
   {
    "duration": 20,
    "start_time": "2024-10-30T21:19:29.359Z"
   },
   {
    "duration": 440,
    "start_time": "2024-10-30T21:19:29.381Z"
   },
   {
    "duration": 580,
    "start_time": "2024-10-30T21:19:29.823Z"
   },
   {
    "duration": 40,
    "start_time": "2024-10-30T21:19:30.404Z"
   },
   {
    "duration": 19,
    "start_time": "2024-10-30T21:19:30.445Z"
   },
   {
    "duration": 33,
    "start_time": "2024-10-30T21:19:30.468Z"
   },
   {
    "duration": 20,
    "start_time": "2024-10-30T21:19:30.503Z"
   },
   {
    "duration": 25,
    "start_time": "2024-10-30T21:19:30.525Z"
   },
   {
    "duration": 26,
    "start_time": "2024-10-30T21:19:30.552Z"
   },
   {
    "duration": 409,
    "start_time": "2024-10-30T21:19:30.580Z"
   },
   {
    "duration": 130,
    "start_time": "2024-10-30T21:19:30.991Z"
   },
   {
    "duration": 36,
    "start_time": "2024-10-30T21:19:31.122Z"
   },
   {
    "duration": 182,
    "start_time": "2024-10-30T21:19:31.159Z"
   },
   {
    "duration": 15,
    "start_time": "2024-10-30T21:19:31.343Z"
   },
   {
    "duration": 24,
    "start_time": "2024-10-30T21:19:31.359Z"
   },
   {
    "duration": 39,
    "start_time": "2024-10-30T21:19:31.384Z"
   },
   {
    "duration": 23,
    "start_time": "2024-10-30T21:19:31.424Z"
   },
   {
    "duration": 56,
    "start_time": "2024-10-30T21:19:31.449Z"
   },
   {
    "duration": 367,
    "start_time": "2024-10-30T21:19:31.507Z"
   },
   {
    "duration": 207,
    "start_time": "2024-10-30T21:19:31.875Z"
   },
   {
    "duration": 13,
    "start_time": "2024-10-30T21:19:32.084Z"
   },
   {
    "duration": 527,
    "start_time": "2024-10-30T21:19:32.099Z"
   },
   {
    "duration": 194,
    "start_time": "2024-10-30T21:19:32.627Z"
   },
   {
    "duration": 15,
    "start_time": "2024-10-30T21:19:32.822Z"
   },
   {
    "duration": 467,
    "start_time": "2024-10-30T21:19:32.838Z"
   },
   {
    "duration": 33,
    "start_time": "2024-10-30T21:19:33.307Z"
   },
   {
    "duration": 13,
    "start_time": "2024-10-30T21:19:37.629Z"
   },
   {
    "duration": 92,
    "start_time": "2024-10-30T21:20:28.143Z"
   },
   {
    "duration": 769,
    "start_time": "2024-10-30T21:25:29.887Z"
   },
   {
    "duration": 190,
    "start_time": "2024-10-30T21:46:22.164Z"
   },
   {
    "duration": 67,
    "start_time": "2024-10-30T22:12:46.753Z"
   },
   {
    "duration": 3,
    "start_time": "2024-10-30T22:13:06.048Z"
   },
   {
    "duration": 11,
    "start_time": "2024-10-30T22:13:11.947Z"
   },
   {
    "duration": 15825,
    "start_time": "2024-10-30T22:13:58.635Z"
   },
   {
    "duration": 16,
    "start_time": "2024-10-30T22:14:28.550Z"
   },
   {
    "duration": 10,
    "start_time": "2024-10-30T22:14:59.297Z"
   },
   {
    "duration": 4,
    "start_time": "2024-10-30T22:15:03.502Z"
   },
   {
    "duration": 13,
    "start_time": "2024-10-30T22:22:02.206Z"
   },
   {
    "duration": 10,
    "start_time": "2024-10-30T22:24:34.595Z"
   },
   {
    "duration": 10,
    "start_time": "2024-10-30T22:24:39.994Z"
   },
   {
    "duration": 71,
    "start_time": "2024-10-30T22:25:11.068Z"
   },
   {
    "duration": 18639,
    "start_time": "2024-10-30T22:25:20.119Z"
   },
   {
    "duration": 2336,
    "start_time": "2024-10-30T22:25:48.647Z"
   },
   {
    "duration": 1592,
    "start_time": "2024-10-30T22:26:41.461Z"
   },
   {
    "duration": 3,
    "start_time": "2024-10-30T22:27:02.248Z"
   },
   {
    "duration": 3,
    "start_time": "2024-10-30T22:27:13.913Z"
   },
   {
    "duration": 829,
    "start_time": "2024-10-30T22:27:13.918Z"
   },
   {
    "duration": 160,
    "start_time": "2024-10-30T22:27:14.749Z"
   },
   {
    "duration": 145,
    "start_time": "2024-10-30T22:27:14.911Z"
   },
   {
    "duration": 99,
    "start_time": "2024-10-30T22:27:15.058Z"
   },
   {
    "duration": 338,
    "start_time": "2024-10-30T22:27:15.159Z"
   },
   {
    "duration": 41,
    "start_time": "2024-10-30T22:27:15.498Z"
   },
   {
    "duration": 72,
    "start_time": "2024-10-30T22:27:15.541Z"
   },
   {
    "duration": 22,
    "start_time": "2024-10-30T22:27:15.614Z"
   },
   {
    "duration": 454,
    "start_time": "2024-10-30T22:27:15.638Z"
   },
   {
    "duration": 563,
    "start_time": "2024-10-30T22:27:16.094Z"
   },
   {
    "duration": 33,
    "start_time": "2024-10-30T22:27:16.659Z"
   },
   {
    "duration": 40,
    "start_time": "2024-10-30T22:27:16.694Z"
   },
   {
    "duration": 25,
    "start_time": "2024-10-30T22:27:16.736Z"
   },
   {
    "duration": 14,
    "start_time": "2024-10-30T22:27:16.762Z"
   },
   {
    "duration": 6,
    "start_time": "2024-10-30T22:27:16.778Z"
   },
   {
    "duration": 38,
    "start_time": "2024-10-30T22:27:16.785Z"
   },
   {
    "duration": 535,
    "start_time": "2024-10-30T22:27:16.825Z"
   },
   {
    "duration": 193,
    "start_time": "2024-10-30T22:27:17.361Z"
   },
   {
    "duration": 32,
    "start_time": "2024-10-30T22:27:17.555Z"
   },
   {
    "duration": 288,
    "start_time": "2024-10-30T22:27:17.589Z"
   },
   {
    "duration": 15,
    "start_time": "2024-10-30T22:27:17.878Z"
   },
   {
    "duration": 38,
    "start_time": "2024-10-30T22:27:17.894Z"
   },
   {
    "duration": 18,
    "start_time": "2024-10-30T22:27:17.933Z"
   },
   {
    "duration": 21,
    "start_time": "2024-10-30T22:27:17.953Z"
   },
   {
    "duration": 13,
    "start_time": "2024-10-30T22:27:17.976Z"
   },
   {
    "duration": 466,
    "start_time": "2024-10-30T22:27:17.990Z"
   },
   {
    "duration": 234,
    "start_time": "2024-10-30T22:27:18.457Z"
   },
   {
    "duration": 34,
    "start_time": "2024-10-30T22:27:18.692Z"
   },
   {
    "duration": 544,
    "start_time": "2024-10-30T22:27:18.727Z"
   },
   {
    "duration": 354,
    "start_time": "2024-10-30T22:27:19.273Z"
   },
   {
    "duration": 14,
    "start_time": "2024-10-30T22:27:19.628Z"
   },
   {
    "duration": 523,
    "start_time": "2024-10-30T22:27:19.643Z"
   },
   {
    "duration": 57,
    "start_time": "2024-10-30T22:27:20.168Z"
   },
   {
    "duration": 13,
    "start_time": "2024-10-30T22:27:20.226Z"
   },
   {
    "duration": 102,
    "start_time": "2024-10-30T22:27:20.241Z"
   },
   {
    "duration": 165,
    "start_time": "2024-10-30T22:27:20.345Z"
   },
   {
    "duration": 11,
    "start_time": "2024-10-30T22:27:24.899Z"
   },
   {
    "duration": 10,
    "start_time": "2024-10-30T22:27:32.590Z"
   },
   {
    "duration": 4,
    "start_time": "2024-10-30T22:27:40.790Z"
   },
   {
    "duration": 55,
    "start_time": "2024-10-30T22:30:37.199Z"
   },
   {
    "duration": 33,
    "start_time": "2024-10-30T22:31:17.709Z"
   },
   {
    "duration": 558,
    "start_time": "2024-10-30T22:31:21.382Z"
   },
   {
    "duration": 4,
    "start_time": "2024-10-30T22:34:52.562Z"
   },
   {
    "duration": 257,
    "start_time": "2024-10-30T22:34:57.499Z"
   },
   {
    "duration": 4,
    "start_time": "2024-10-30T22:39:26.776Z"
   },
   {
    "duration": 274,
    "start_time": "2024-10-30T22:39:31.248Z"
   },
   {
    "duration": 48,
    "start_time": "2024-10-30T22:40:31.751Z"
   },
   {
    "duration": 249,
    "start_time": "2024-10-30T22:40:40.278Z"
   },
   {
    "duration": 46,
    "start_time": "2024-10-31T13:18:04.999Z"
   },
   {
    "duration": 73,
    "start_time": "2024-10-31T13:24:44.192Z"
   },
   {
    "duration": 58,
    "start_time": "2024-10-31T13:24:52.954Z"
   },
   {
    "duration": 73,
    "start_time": "2024-10-31T13:25:32.830Z"
   },
   {
    "duration": 69,
    "start_time": "2024-10-31T13:26:21.702Z"
   },
   {
    "duration": 70,
    "start_time": "2024-10-31T13:26:48.577Z"
   },
   {
    "duration": 2621,
    "start_time": "2024-10-31T13:27:18.865Z"
   },
   {
    "duration": 2516,
    "start_time": "2024-10-31T13:28:11.432Z"
   },
   {
    "duration": 2473,
    "start_time": "2024-10-31T13:28:43.406Z"
   },
   {
    "duration": 2454,
    "start_time": "2024-10-31T13:28:54.863Z"
   },
   {
    "duration": 2530,
    "start_time": "2024-10-31T13:29:05.872Z"
   },
   {
    "duration": 2495,
    "start_time": "2024-10-31T13:31:59.452Z"
   },
   {
    "duration": 2460,
    "start_time": "2024-10-31T13:32:20.579Z"
   },
   {
    "duration": 4,
    "start_time": "2024-10-31T13:33:49.459Z"
   },
   {
    "duration": 879,
    "start_time": "2024-10-31T13:33:49.465Z"
   },
   {
    "duration": 170,
    "start_time": "2024-10-31T13:33:50.345Z"
   },
   {
    "duration": 151,
    "start_time": "2024-10-31T13:33:50.521Z"
   },
   {
    "duration": 126,
    "start_time": "2024-10-31T13:33:50.675Z"
   },
   {
    "duration": 325,
    "start_time": "2024-10-31T13:33:50.803Z"
   },
   {
    "duration": 25,
    "start_time": "2024-10-31T13:33:51.130Z"
   },
   {
    "duration": 27,
    "start_time": "2024-10-31T13:33:51.157Z"
   },
   {
    "duration": 43,
    "start_time": "2024-10-31T13:33:51.186Z"
   },
   {
    "duration": 431,
    "start_time": "2024-10-31T13:33:51.230Z"
   },
   {
    "duration": 464,
    "start_time": "2024-10-31T13:33:51.662Z"
   },
   {
    "duration": 24,
    "start_time": "2024-10-31T13:33:52.128Z"
   },
   {
    "duration": 10,
    "start_time": "2024-10-31T13:33:52.154Z"
   },
   {
    "duration": 26,
    "start_time": "2024-10-31T13:33:52.167Z"
   },
   {
    "duration": 40,
    "start_time": "2024-10-31T13:33:52.194Z"
   },
   {
    "duration": 20,
    "start_time": "2024-10-31T13:33:52.236Z"
   },
   {
    "duration": 68,
    "start_time": "2024-10-31T13:33:52.257Z"
   },
   {
    "duration": 623,
    "start_time": "2024-10-31T13:33:52.327Z"
   },
   {
    "duration": 206,
    "start_time": "2024-10-31T13:33:52.952Z"
   },
   {
    "duration": 23,
    "start_time": "2024-10-31T13:33:53.160Z"
   },
   {
    "duration": 304,
    "start_time": "2024-10-31T13:33:53.184Z"
   },
   {
    "duration": 17,
    "start_time": "2024-10-31T13:33:53.489Z"
   },
   {
    "duration": 87,
    "start_time": "2024-10-31T13:33:53.507Z"
   },
   {
    "duration": 19,
    "start_time": "2024-10-31T13:33:53.595Z"
   },
   {
    "duration": 22,
    "start_time": "2024-10-31T13:33:53.616Z"
   },
   {
    "duration": 14,
    "start_time": "2024-10-31T13:33:53.640Z"
   },
   {
    "duration": 582,
    "start_time": "2024-10-31T13:33:53.656Z"
   },
   {
    "duration": 262,
    "start_time": "2024-10-31T13:33:54.240Z"
   },
   {
    "duration": 23,
    "start_time": "2024-10-31T13:33:54.503Z"
   },
   {
    "duration": 562,
    "start_time": "2024-10-31T13:33:54.528Z"
   },
   {
    "duration": 317,
    "start_time": "2024-10-31T13:33:55.092Z"
   },
   {
    "duration": 24,
    "start_time": "2024-10-31T13:33:55.411Z"
   },
   {
    "duration": 637,
    "start_time": "2024-10-31T13:33:55.437Z"
   },
   {
    "duration": 49,
    "start_time": "2024-10-31T13:33:56.076Z"
   },
   {
    "duration": 14,
    "start_time": "2024-10-31T13:33:56.126Z"
   },
   {
    "duration": 101,
    "start_time": "2024-10-31T13:33:56.142Z"
   },
   {
    "duration": 159,
    "start_time": "2024-10-31T13:33:56.245Z"
   },
   {
    "duration": 4,
    "start_time": "2024-10-31T13:33:56.405Z"
   },
   {
    "duration": 620,
    "start_time": "2024-10-31T13:33:56.411Z"
   },
   {
    "duration": 392,
    "start_time": "2024-10-31T13:33:57.033Z"
   },
   {
    "duration": 2586,
    "start_time": "2024-10-31T13:34:00.456Z"
   },
   {
    "duration": 34,
    "start_time": "2024-10-31T13:38:59.428Z"
   },
   {
    "duration": 33,
    "start_time": "2024-10-31T13:41:41.321Z"
   },
   {
    "duration": 33,
    "start_time": "2024-10-31T13:42:53.271Z"
   },
   {
    "duration": 35,
    "start_time": "2024-10-31T13:43:07.177Z"
   },
   {
    "duration": 42,
    "start_time": "2024-10-31T13:44:28.730Z"
   },
   {
    "duration": 29825,
    "start_time": "2024-10-31T13:47:45.840Z"
   },
   {
    "duration": 31579,
    "start_time": "2024-10-31T13:49:46.931Z"
   },
   {
    "duration": 794,
    "start_time": "2024-10-31T13:54:34.339Z"
   },
   {
    "duration": 353,
    "start_time": "2024-10-31T13:56:02.744Z"
   },
   {
    "duration": 311,
    "start_time": "2024-10-31T13:56:15.922Z"
   },
   {
    "duration": 38,
    "start_time": "2024-10-31T14:09:18.628Z"
   },
   {
    "duration": 4,
    "start_time": "2024-10-31T14:09:29.771Z"
   },
   {
    "duration": 457514,
    "start_time": "2024-10-31T14:17:11.126Z"
   },
   {
    "duration": 1193607,
    "start_time": "2024-10-31T14:26:32.226Z"
   },
   {
    "duration": 227384,
    "start_time": "2024-10-31T16:06:41.264Z"
   },
   {
    "duration": 3,
    "start_time": "2024-10-31T16:22:19.430Z"
   },
   {
    "duration": 1645,
    "start_time": "2024-10-31T16:22:24.177Z"
   },
   {
    "duration": 323,
    "start_time": "2024-10-31T16:50:57.066Z"
   },
   {
    "duration": 5,
    "start_time": "2024-10-31T17:07:48.351Z"
   },
   {
    "duration": 48,
    "start_time": "2024-11-01T18:27:44.699Z"
   },
   {
    "duration": 1600,
    "start_time": "2024-11-01T18:27:49.996Z"
   },
   {
    "duration": 1173,
    "start_time": "2024-11-01T18:27:51.598Z"
   },
   {
    "duration": 209,
    "start_time": "2024-11-01T18:27:52.773Z"
   },
   {
    "duration": 153,
    "start_time": "2024-11-01T18:27:52.984Z"
   },
   {
    "duration": 108,
    "start_time": "2024-11-01T18:27:53.139Z"
   },
   {
    "duration": 351,
    "start_time": "2024-11-01T18:27:53.249Z"
   },
   {
    "duration": 55,
    "start_time": "2024-11-01T18:27:53.602Z"
   },
   {
    "duration": 27,
    "start_time": "2024-11-01T18:27:53.658Z"
   },
   {
    "duration": 54,
    "start_time": "2024-11-01T18:27:53.687Z"
   },
   {
    "duration": 493,
    "start_time": "2024-11-01T18:27:53.743Z"
   },
   {
    "duration": 622,
    "start_time": "2024-11-01T18:27:54.240Z"
   },
   {
    "duration": 43,
    "start_time": "2024-11-01T18:27:54.863Z"
   },
   {
    "duration": 22,
    "start_time": "2024-11-01T18:27:54.908Z"
   },
   {
    "duration": 52,
    "start_time": "2024-11-01T18:27:54.933Z"
   },
   {
    "duration": 31,
    "start_time": "2024-11-01T18:27:54.986Z"
   },
   {
    "duration": 23,
    "start_time": "2024-11-01T18:27:55.019Z"
   },
   {
    "duration": 51,
    "start_time": "2024-11-01T18:27:55.044Z"
   },
   {
    "duration": 12,
    "start_time": "2024-11-01T18:28:00.213Z"
   },
   {
    "duration": 4,
    "start_time": "2024-11-01T18:29:14.895Z"
   },
   {
    "duration": 863,
    "start_time": "2024-11-01T18:29:14.900Z"
   },
   {
    "duration": 165,
    "start_time": "2024-11-01T18:29:15.765Z"
   },
   {
    "duration": 146,
    "start_time": "2024-11-01T18:29:15.932Z"
   },
   {
    "duration": 113,
    "start_time": "2024-11-01T18:29:16.080Z"
   },
   {
    "duration": 374,
    "start_time": "2024-11-01T18:29:16.194Z"
   },
   {
    "duration": 27,
    "start_time": "2024-11-01T18:29:16.569Z"
   },
   {
    "duration": 43,
    "start_time": "2024-11-01T18:29:16.597Z"
   },
   {
    "duration": 68,
    "start_time": "2024-11-01T18:29:16.642Z"
   },
   {
    "duration": 460,
    "start_time": "2024-11-01T18:29:16.712Z"
   },
   {
    "duration": 547,
    "start_time": "2024-11-01T18:29:17.174Z"
   },
   {
    "duration": 149,
    "start_time": "2024-11-01T18:29:33.890Z"
   },
   {
    "duration": 13,
    "start_time": "2024-11-01T18:29:54.993Z"
   },
   {
    "duration": 464,
    "start_time": "2024-11-01T18:35:10.094Z"
   },
   {
    "duration": 67,
    "start_time": "2024-11-01T18:37:29.248Z"
   },
   {
    "duration": 52,
    "start_time": "2024-11-01T18:38:03.379Z"
   },
   {
    "duration": 145,
    "start_time": "2024-11-01T18:38:14.795Z"
   },
   {
    "duration": 59,
    "start_time": "2024-11-01T18:38:31.209Z"
   },
   {
    "duration": 129,
    "start_time": "2024-11-01T18:38:32.920Z"
   },
   {
    "duration": 29,
    "start_time": "2024-11-01T18:39:55.638Z"
   },
   {
    "duration": 33,
    "start_time": "2024-11-01T18:40:12.478Z"
   },
   {
    "duration": 101,
    "start_time": "2024-11-01T18:44:03.655Z"
   },
   {
    "duration": 11,
    "start_time": "2024-11-01T18:47:09.957Z"
   },
   {
    "duration": 381,
    "start_time": "2024-11-01T18:47:17.318Z"
   },
   {
    "duration": 4,
    "start_time": "2024-11-01T18:47:23.733Z"
   },
   {
    "duration": 909,
    "start_time": "2024-11-01T18:47:23.739Z"
   },
   {
    "duration": 153,
    "start_time": "2024-11-01T18:47:24.650Z"
   },
   {
    "duration": 145,
    "start_time": "2024-11-01T18:47:24.805Z"
   },
   {
    "duration": 122,
    "start_time": "2024-11-01T18:47:24.952Z"
   },
   {
    "duration": 297,
    "start_time": "2024-11-01T18:47:25.075Z"
   },
   {
    "duration": 25,
    "start_time": "2024-11-01T18:47:25.374Z"
   },
   {
    "duration": 41,
    "start_time": "2024-11-01T18:47:25.401Z"
   },
   {
    "duration": 32,
    "start_time": "2024-11-01T18:47:25.444Z"
   },
   {
    "duration": 403,
    "start_time": "2024-11-01T18:47:25.478Z"
   },
   {
    "duration": 449,
    "start_time": "2024-11-01T18:47:25.883Z"
   },
   {
    "duration": 23,
    "start_time": "2024-11-01T18:47:26.333Z"
   },
   {
    "duration": 11,
    "start_time": "2024-11-01T18:47:26.358Z"
   },
   {
    "duration": 48,
    "start_time": "2024-11-01T18:47:26.372Z"
   },
   {
    "duration": 16,
    "start_time": "2024-11-01T18:47:26.422Z"
   },
   {
    "duration": 8,
    "start_time": "2024-11-01T18:47:26.440Z"
   },
   {
    "duration": 21,
    "start_time": "2024-11-01T18:47:26.449Z"
   },
   {
    "duration": 11,
    "start_time": "2024-11-01T18:47:26.472Z"
   },
   {
    "duration": 457,
    "start_time": "2024-11-01T18:47:26.484Z"
   },
   {
    "duration": 134,
    "start_time": "2024-11-01T18:47:26.943Z"
   },
   {
    "duration": 21,
    "start_time": "2024-11-01T18:47:27.079Z"
   },
   {
    "duration": 202,
    "start_time": "2024-11-01T18:47:27.102Z"
   },
   {
    "duration": 30,
    "start_time": "2024-11-01T18:47:27.307Z"
   },
   {
    "duration": 39,
    "start_time": "2024-11-01T18:47:27.339Z"
   },
   {
    "duration": 20,
    "start_time": "2024-11-01T18:47:27.380Z"
   },
   {
    "duration": 23,
    "start_time": "2024-11-01T18:47:27.421Z"
   },
   {
    "duration": 15,
    "start_time": "2024-11-01T18:47:27.446Z"
   },
   {
    "duration": 380,
    "start_time": "2024-11-01T18:47:27.463Z"
   },
   {
    "duration": 247,
    "start_time": "2024-11-01T18:47:27.845Z"
   },
   {
    "duration": 14,
    "start_time": "2024-11-01T18:47:28.093Z"
   },
   {
    "duration": 443,
    "start_time": "2024-11-01T18:47:28.108Z"
   },
   {
    "duration": 202,
    "start_time": "2024-11-01T18:47:28.553Z"
   },
   {
    "duration": 17,
    "start_time": "2024-11-01T18:47:28.756Z"
   },
   {
    "duration": 448,
    "start_time": "2024-11-01T18:47:28.774Z"
   },
   {
    "duration": 23,
    "start_time": "2024-11-01T18:47:29.224Z"
   },
   {
    "duration": 166,
    "start_time": "2024-11-01T18:47:29.249Z"
   },
   {
    "duration": 11,
    "start_time": "2024-11-01T18:47:29.420Z"
   },
   {
    "duration": 76,
    "start_time": "2024-11-01T18:47:32.714Z"
   },
   {
    "duration": 5,
    "start_time": "2024-11-01T19:04:44.890Z"
   },
   {
    "duration": 837,
    "start_time": "2024-11-01T19:04:44.897Z"
   },
   {
    "duration": 173,
    "start_time": "2024-11-01T19:04:45.736Z"
   },
   {
    "duration": 141,
    "start_time": "2024-11-01T19:04:45.920Z"
   },
   {
    "duration": 123,
    "start_time": "2024-11-01T19:04:46.063Z"
   },
   {
    "duration": 294,
    "start_time": "2024-11-01T19:04:46.188Z"
   },
   {
    "duration": 25,
    "start_time": "2024-11-01T19:04:46.484Z"
   },
   {
    "duration": 33,
    "start_time": "2024-11-01T19:04:46.510Z"
   },
   {
    "duration": 20,
    "start_time": "2024-11-01T19:04:46.544Z"
   },
   {
    "duration": 398,
    "start_time": "2024-11-01T19:04:46.566Z"
   },
   {
    "duration": 499,
    "start_time": "2024-11-01T19:04:46.966Z"
   },
   {
    "duration": 25,
    "start_time": "2024-11-01T19:04:47.466Z"
   },
   {
    "duration": 11,
    "start_time": "2024-11-01T19:04:47.493Z"
   },
   {
    "duration": 23,
    "start_time": "2024-11-01T19:04:47.521Z"
   },
   {
    "duration": 16,
    "start_time": "2024-11-01T19:04:47.545Z"
   },
   {
    "duration": 6,
    "start_time": "2024-11-01T19:04:47.563Z"
   },
   {
    "duration": 51,
    "start_time": "2024-11-01T19:04:47.570Z"
   },
   {
    "duration": 11,
    "start_time": "2024-11-01T19:04:47.622Z"
   },
   {
    "duration": 448,
    "start_time": "2024-11-01T19:04:47.634Z"
   },
   {
    "duration": 131,
    "start_time": "2024-11-01T19:04:48.083Z"
   },
   {
    "duration": 35,
    "start_time": "2024-11-01T19:04:48.215Z"
   },
   {
    "duration": 190,
    "start_time": "2024-11-01T19:04:48.251Z"
   },
   {
    "duration": 19,
    "start_time": "2024-11-01T19:04:48.442Z"
   },
   {
    "duration": 33,
    "start_time": "2024-11-01T19:04:48.463Z"
   },
   {
    "duration": 30,
    "start_time": "2024-11-01T19:04:48.498Z"
   },
   {
    "duration": 22,
    "start_time": "2024-11-01T19:04:48.529Z"
   },
   {
    "duration": 14,
    "start_time": "2024-11-01T19:04:48.553Z"
   },
   {
    "duration": 408,
    "start_time": "2024-11-01T19:04:48.570Z"
   },
   {
    "duration": 170,
    "start_time": "2024-11-01T19:04:48.980Z"
   },
   {
    "duration": 13,
    "start_time": "2024-11-01T19:04:49.151Z"
   },
   {
    "duration": 461,
    "start_time": "2024-11-01T19:04:49.165Z"
   },
   {
    "duration": 195,
    "start_time": "2024-11-01T19:04:49.628Z"
   },
   {
    "duration": 16,
    "start_time": "2024-11-01T19:04:49.825Z"
   },
   {
    "duration": 614,
    "start_time": "2024-11-01T19:04:49.842Z"
   },
   {
    "duration": 24,
    "start_time": "2024-11-01T19:04:50.458Z"
   },
   {
    "duration": 162,
    "start_time": "2024-11-01T19:04:50.484Z"
   },
   {
    "duration": 11,
    "start_time": "2024-11-01T19:04:50.648Z"
   },
   {
    "duration": 91,
    "start_time": "2024-11-01T19:04:50.661Z"
   },
   {
    "duration": 156,
    "start_time": "2024-11-01T19:04:50.753Z"
   },
   {
    "duration": 3,
    "start_time": "2024-11-01T19:04:53.024Z"
   },
   {
    "duration": 13,
    "start_time": "2024-11-01T19:04:54.193Z"
   },
   {
    "duration": 3,
    "start_time": "2024-11-01T19:05:14.109Z"
   },
   {
    "duration": 20498,
    "start_time": "2024-11-01T19:05:25.836Z"
   },
   {
    "duration": 1061,
    "start_time": "2024-11-01T19:05:57.759Z"
   },
   {
    "duration": 74,
    "start_time": "2024-11-01T19:19:02.265Z"
   },
   {
    "duration": 35,
    "start_time": "2024-11-01T19:31:17.543Z"
   },
   {
    "duration": 53097,
    "start_time": "2024-11-01T19:31:37.144Z"
   },
   {
    "duration": 203160,
    "start_time": "2024-11-01T19:33:16.671Z"
   },
   {
    "duration": 188162,
    "start_time": "2024-11-01T19:37:44.162Z"
   },
   {
    "duration": 205626,
    "start_time": "2024-11-01T19:56:46.603Z"
   },
   {
    "duration": 4,
    "start_time": "2024-11-01T20:01:03.161Z"
   },
   {
    "duration": 12,
    "start_time": "2024-11-01T20:03:04.801Z"
   },
   {
    "duration": 60,
    "start_time": "2024-11-01T20:07:59.159Z"
   },
   {
    "duration": 10,
    "start_time": "2024-11-01T20:08:36.032Z"
   },
   {
    "duration": 4,
    "start_time": "2024-11-01T20:08:46.350Z"
   },
   {
    "duration": 10,
    "start_time": "2024-11-01T20:15:33.008Z"
   },
   {
    "duration": 4,
    "start_time": "2024-11-01T20:15:55.348Z"
   },
   {
    "duration": 84926,
    "start_time": "2024-11-01T20:16:01.099Z"
   },
   {
    "duration": 96834,
    "start_time": "2024-11-01T20:17:46.789Z"
   },
   {
    "duration": 60,
    "start_time": "2024-11-01T20:21:56.626Z"
   },
   {
    "duration": 4,
    "start_time": "2024-11-01T20:22:11.684Z"
   },
   {
    "duration": 0,
    "start_time": "2024-11-01T20:24:05.248Z"
   },
   {
    "duration": 89432,
    "start_time": "2024-11-01T20:24:15.689Z"
   },
   {
    "duration": 3,
    "start_time": "2024-11-01T20:25:48.851Z"
   },
   {
    "duration": 3,
    "start_time": "2024-11-01T20:29:53.072Z"
   },
   {
    "duration": 93844,
    "start_time": "2024-11-01T20:29:58.678Z"
   },
   {
    "duration": 3,
    "start_time": "2024-11-01T20:31:44.848Z"
   },
   {
    "duration": 3,
    "start_time": "2024-11-01T20:33:20.874Z"
   },
   {
    "duration": 71,
    "start_time": "2024-11-01T20:33:21.658Z"
   },
   {
    "duration": 3,
    "start_time": "2024-11-01T20:33:39.673Z"
   },
   {
    "duration": 3354,
    "start_time": "2024-11-01T20:33:43.496Z"
   },
   {
    "duration": 3,
    "start_time": "2024-11-01T20:33:51.341Z"
   },
   {
    "duration": 58,
    "start_time": "2024-11-01T20:41:13.312Z"
   },
   {
    "duration": 62,
    "start_time": "2024-11-01T20:43:09.905Z"
   },
   {
    "duration": 9,
    "start_time": "2024-11-01T20:54:09.443Z"
   },
   {
    "duration": 60,
    "start_time": "2024-11-01T20:54:19.829Z"
   },
   {
    "duration": 4,
    "start_time": "2024-11-01T20:54:39.426Z"
   },
   {
    "duration": 2,
    "start_time": "2024-11-01T20:55:25.535Z"
   },
   {
    "duration": 3,
    "start_time": "2024-11-01T20:55:28.484Z"
   },
   {
    "duration": 95791,
    "start_time": "2024-11-01T20:55:33.836Z"
   },
   {
    "duration": 3,
    "start_time": "2024-11-01T20:57:24.688Z"
   },
   {
    "duration": 60822,
    "start_time": "2024-11-01T20:57:55.359Z"
   },
   {
    "duration": 13,
    "start_time": "2024-11-01T20:59:00.920Z"
   },
   {
    "duration": 3,
    "start_time": "2024-11-01T20:59:19.473Z"
   },
   {
    "duration": 17,
    "start_time": "2024-11-01T20:59:33.574Z"
   },
   {
    "duration": 70798,
    "start_time": "2024-11-01T20:59:46.649Z"
   },
   {
    "duration": 3,
    "start_time": "2024-11-01T21:01:02.734Z"
   },
   {
    "duration": 314689,
    "start_time": "2024-11-01T21:01:12.234Z"
   },
   {
    "duration": 4,
    "start_time": "2024-11-01T21:07:13.896Z"
   },
   {
    "duration": 3,
    "start_time": "2024-11-01T21:17:06.470Z"
   },
   {
    "duration": 2,
    "start_time": "2024-11-01T21:17:11.697Z"
   },
   {
    "duration": 3,
    "start_time": "2024-11-01T21:17:13.418Z"
   },
   {
    "duration": 16,
    "start_time": "2024-11-01T21:19:09.242Z"
   },
   {
    "duration": 4,
    "start_time": "2024-11-01T21:23:05.974Z"
   },
   {
    "duration": 20268,
    "start_time": "2024-11-01T21:23:10.059Z"
   },
   {
    "duration": 71880,
    "start_time": "2024-11-01T21:27:10.615Z"
   },
   {
    "duration": 3,
    "start_time": "2024-11-01T21:28:30.532Z"
   },
   {
    "duration": 3,
    "start_time": "2024-11-01T21:29:16.806Z"
   },
   {
    "duration": 1343,
    "start_time": "2024-11-01T21:35:22.106Z"
   },
   {
    "duration": 863,
    "start_time": "2024-11-01T21:35:23.450Z"
   },
   {
    "duration": 167,
    "start_time": "2024-11-01T21:35:24.314Z"
   },
   {
    "duration": 162,
    "start_time": "2024-11-01T21:35:24.483Z"
   },
   {
    "duration": 108,
    "start_time": "2024-11-01T21:35:24.646Z"
   },
   {
    "duration": 361,
    "start_time": "2024-11-01T21:35:24.756Z"
   },
   {
    "duration": 32,
    "start_time": "2024-11-01T21:35:25.121Z"
   },
   {
    "duration": 26,
    "start_time": "2024-11-01T21:35:25.154Z"
   },
   {
    "duration": 19,
    "start_time": "2024-11-01T21:35:25.181Z"
   },
   {
    "duration": 454,
    "start_time": "2024-11-01T21:35:25.202Z"
   },
   {
    "duration": 595,
    "start_time": "2024-11-01T21:35:25.658Z"
   },
   {
    "duration": 34,
    "start_time": "2024-11-01T21:35:26.254Z"
   },
   {
    "duration": 49,
    "start_time": "2024-11-01T21:35:26.289Z"
   },
   {
    "duration": 27,
    "start_time": "2024-11-01T21:35:26.339Z"
   },
   {
    "duration": 14,
    "start_time": "2024-11-01T21:35:26.368Z"
   },
   {
    "duration": 6,
    "start_time": "2024-11-01T21:35:26.384Z"
   },
   {
    "duration": 41,
    "start_time": "2024-11-01T21:35:26.391Z"
   },
   {
    "duration": 10,
    "start_time": "2024-11-01T21:35:26.434Z"
   },
   {
    "duration": 424,
    "start_time": "2024-11-01T21:35:26.445Z"
   },
   {
    "duration": 127,
    "start_time": "2024-11-01T21:35:26.870Z"
   },
   {
    "duration": 37,
    "start_time": "2024-11-01T21:35:26.999Z"
   },
   {
    "duration": 177,
    "start_time": "2024-11-01T21:35:27.037Z"
   },
   {
    "duration": 19,
    "start_time": "2024-11-01T21:35:27.216Z"
   },
   {
    "duration": 76,
    "start_time": "2024-11-01T21:35:27.236Z"
   },
   {
    "duration": 24,
    "start_time": "2024-11-01T21:35:27.315Z"
   },
   {
    "duration": 27,
    "start_time": "2024-11-01T21:35:27.340Z"
   },
   {
    "duration": 20,
    "start_time": "2024-11-01T21:35:27.369Z"
   },
   {
    "duration": 392,
    "start_time": "2024-11-01T21:35:27.392Z"
   },
   {
    "duration": 248,
    "start_time": "2024-11-01T21:35:27.785Z"
   },
   {
    "duration": 14,
    "start_time": "2024-11-01T21:35:28.035Z"
   },
   {
    "duration": 440,
    "start_time": "2024-11-01T21:35:28.051Z"
   },
   {
    "duration": 204,
    "start_time": "2024-11-01T21:35:28.492Z"
   },
   {
    "duration": 38,
    "start_time": "2024-11-01T21:35:28.697Z"
   },
   {
    "duration": 432,
    "start_time": "2024-11-01T21:35:28.736Z"
   },
   {
    "duration": 23,
    "start_time": "2024-11-01T21:35:29.170Z"
   },
   {
    "duration": 253,
    "start_time": "2024-11-01T21:35:29.194Z"
   },
   {
    "duration": 11,
    "start_time": "2024-11-01T21:35:29.449Z"
   },
   {
    "duration": 99,
    "start_time": "2024-11-01T21:35:29.461Z"
   },
   {
    "duration": 72,
    "start_time": "2024-11-01T21:35:29.561Z"
   },
   {
    "duration": 2,
    "start_time": "2024-11-01T21:35:29.635Z"
   },
   {
    "duration": 4,
    "start_time": "2024-11-01T21:35:32.381Z"
   },
   {
    "duration": 54,
    "start_time": "2024-11-01T21:36:34.814Z"
   },
   {
    "duration": 57,
    "start_time": "2024-11-01T21:36:40.956Z"
   },
   {
    "duration": 531,
    "start_time": "2024-11-01T21:36:43.001Z"
   },
   {
    "duration": 483,
    "start_time": "2024-11-01T21:36:54.349Z"
   },
   {
    "duration": 489,
    "start_time": "2024-11-01T21:36:58.839Z"
   },
   {
    "duration": 491,
    "start_time": "2024-11-01T21:37:02.072Z"
   },
   {
    "duration": 25699,
    "start_time": "2024-11-01T21:38:22.000Z"
   },
   {
    "duration": 3,
    "start_time": "2024-11-01T21:38:51.952Z"
   },
   {
    "duration": 3,
    "start_time": "2024-11-01T21:39:18.294Z"
   },
   {
    "duration": 634,
    "start_time": "2024-11-01T21:40:30.943Z"
   },
   {
    "duration": 630,
    "start_time": "2024-11-01T21:40:53.235Z"
   },
   {
    "duration": 593,
    "start_time": "2024-11-01T21:44:10.481Z"
   },
   {
    "duration": 330,
    "start_time": "2024-11-01T21:44:13.617Z"
   },
   {
    "duration": 317,
    "start_time": "2024-11-01T21:46:48.507Z"
   },
   {
    "duration": 3280,
    "start_time": "2024-11-01T21:47:11.266Z"
   },
   {
    "duration": 3,
    "start_time": "2024-11-01T21:47:35.211Z"
   },
   {
    "duration": 3,
    "start_time": "2024-11-01T21:48:19.385Z"
   },
   {
    "duration": 3329,
    "start_time": "2024-11-01T21:49:05.818Z"
   },
   {
    "duration": 3,
    "start_time": "2024-11-01T21:49:11.530Z"
   },
   {
    "duration": 352765,
    "start_time": "2024-11-01T21:53:33.869Z"
   },
   {
    "duration": 3,
    "start_time": "2024-11-01T22:00:27.092Z"
   },
   {
    "duration": 3,
    "start_time": "2024-11-01T22:00:37.119Z"
   },
   {
    "duration": 5134,
    "start_time": "2024-11-01T22:02:10.387Z"
   },
   {
    "duration": 1865,
    "start_time": "2024-11-01T22:03:25.171Z"
   },
   {
    "duration": 11,
    "start_time": "2024-11-01T22:14:01.074Z"
   },
   {
    "duration": 100,
    "start_time": "2024-11-01T22:15:34.690Z"
   },
   {
    "duration": 9,
    "start_time": "2024-11-01T22:15:46.997Z"
   },
   {
    "duration": 433,
    "start_time": "2024-11-01T22:17:18.598Z"
   },
   {
    "duration": 302,
    "start_time": "2024-11-01T22:17:20.771Z"
   },
   {
    "duration": 603,
    "start_time": "2024-11-01T22:17:29.927Z"
   },
   {
    "duration": 326,
    "start_time": "2024-11-01T22:17:31.971Z"
   },
   {
    "duration": 4466,
    "start_time": "2024-11-01T22:17:39.761Z"
   },
   {
    "duration": 1912,
    "start_time": "2024-11-01T22:17:46.210Z"
   },
   {
    "duration": 10,
    "start_time": "2024-11-01T22:18:10.710Z"
   },
   {
    "duration": 119,
    "start_time": "2024-11-01T22:26:58.844Z"
   },
   {
    "duration": 4,
    "start_time": "2024-11-01T22:34:05.154Z"
   },
   {
    "duration": 11,
    "start_time": "2024-11-01T22:36:31.720Z"
   },
   {
    "duration": 1986,
    "start_time": "2024-11-01T22:36:52.415Z"
   },
   {
    "duration": 1945,
    "start_time": "2024-11-01T22:37:25.447Z"
   },
   {
    "duration": 1363,
    "start_time": "2024-11-01T22:39:02.229Z"
   },
   {
    "duration": 877,
    "start_time": "2024-11-01T22:39:03.594Z"
   },
   {
    "duration": 168,
    "start_time": "2024-11-01T22:39:04.473Z"
   },
   {
    "duration": 157,
    "start_time": "2024-11-01T22:39:04.642Z"
   },
   {
    "duration": 96,
    "start_time": "2024-11-01T22:39:04.801Z"
   },
   {
    "duration": 326,
    "start_time": "2024-11-01T22:39:04.899Z"
   },
   {
    "duration": 29,
    "start_time": "2024-11-01T22:39:05.227Z"
   },
   {
    "duration": 36,
    "start_time": "2024-11-01T22:39:05.257Z"
   },
   {
    "duration": 34,
    "start_time": "2024-11-01T22:39:05.294Z"
   },
   {
    "duration": 492,
    "start_time": "2024-11-01T22:39:05.329Z"
   },
   {
    "duration": 604,
    "start_time": "2024-11-01T22:39:05.823Z"
   },
   {
    "duration": 34,
    "start_time": "2024-11-01T22:39:06.428Z"
   },
   {
    "duration": 34,
    "start_time": "2024-11-01T22:39:06.464Z"
   },
   {
    "duration": 36,
    "start_time": "2024-11-01T22:39:06.501Z"
   },
   {
    "duration": 33,
    "start_time": "2024-11-01T22:39:06.538Z"
   },
   {
    "duration": 18,
    "start_time": "2024-11-01T22:39:06.572Z"
   },
   {
    "duration": 30,
    "start_time": "2024-11-01T22:39:06.591Z"
   },
   {
    "duration": 30,
    "start_time": "2024-11-01T22:39:06.622Z"
   },
   {
    "duration": 432,
    "start_time": "2024-11-01T22:39:06.654Z"
   },
   {
    "duration": 126,
    "start_time": "2024-11-01T22:39:07.088Z"
   },
   {
    "duration": 26,
    "start_time": "2024-11-01T22:39:07.215Z"
   },
   {
    "duration": 194,
    "start_time": "2024-11-01T22:39:07.242Z"
   },
   {
    "duration": 17,
    "start_time": "2024-11-01T22:39:07.437Z"
   },
   {
    "duration": 32,
    "start_time": "2024-11-01T22:39:07.455Z"
   },
   {
    "duration": 77,
    "start_time": "2024-11-01T22:39:07.488Z"
   },
   {
    "duration": 27,
    "start_time": "2024-11-01T22:39:07.566Z"
   },
   {
    "duration": 24,
    "start_time": "2024-11-01T22:39:07.595Z"
   },
   {
    "duration": 363,
    "start_time": "2024-11-01T22:39:07.620Z"
   },
   {
    "duration": 220,
    "start_time": "2024-11-01T22:39:07.985Z"
   },
   {
    "duration": 21,
    "start_time": "2024-11-01T22:39:08.207Z"
   },
   {
    "duration": 433,
    "start_time": "2024-11-01T22:39:08.230Z"
   },
   {
    "duration": 197,
    "start_time": "2024-11-01T22:39:08.664Z"
   },
   {
    "duration": 18,
    "start_time": "2024-11-01T22:39:08.864Z"
   },
   {
    "duration": 422,
    "start_time": "2024-11-01T22:39:08.883Z"
   },
   {
    "duration": 28,
    "start_time": "2024-11-01T22:39:09.307Z"
   },
   {
    "duration": 185,
    "start_time": "2024-11-01T22:39:09.336Z"
   },
   {
    "duration": 11,
    "start_time": "2024-11-01T22:39:09.522Z"
   },
   {
    "duration": 88,
    "start_time": "2024-11-01T22:39:09.534Z"
   },
   {
    "duration": 60,
    "start_time": "2024-11-01T22:39:09.623Z"
   },
   {
    "duration": 3,
    "start_time": "2024-11-01T22:39:09.684Z"
   },
   {
    "duration": 9,
    "start_time": "2024-11-01T22:39:09.691Z"
   },
   {
    "duration": 6,
    "start_time": "2024-11-01T22:39:09.702Z"
   },
   {
    "duration": 3,
    "start_time": "2024-11-01T22:39:09.721Z"
   },
   {
    "duration": 445,
    "start_time": "2024-11-01T22:39:09.726Z"
   },
   {
    "duration": 467,
    "start_time": "2024-11-01T22:39:10.173Z"
   },
   {
    "duration": 3513,
    "start_time": "2024-11-01T22:39:10.643Z"
   },
   {
    "duration": 5,
    "start_time": "2024-11-01T22:39:14.223Z"
   },
   {
    "duration": 24994,
    "start_time": "2024-11-01T22:39:14.230Z"
   },
   {
    "duration": 3,
    "start_time": "2024-11-01T22:39:39.225Z"
   },
   {
    "duration": 672,
    "start_time": "2024-11-01T22:39:39.229Z"
   },
   {
    "duration": 342,
    "start_time": "2024-11-01T22:39:39.902Z"
   },
   {
    "duration": 307989,
    "start_time": "2024-11-01T22:39:40.245Z"
   },
   {
    "duration": 3,
    "start_time": "2024-11-01T22:44:48.236Z"
   },
   {
    "duration": 4695,
    "start_time": "2024-11-01T22:44:48.240Z"
   },
   {
    "duration": 1996,
    "start_time": "2024-11-01T22:44:52.937Z"
   },
   {
    "duration": 10,
    "start_time": "2024-11-01T22:44:54.934Z"
   },
   {
    "duration": 181,
    "start_time": "2024-11-01T22:44:54.945Z"
   },
   {
    "duration": 1805,
    "start_time": "2024-11-01T22:45:18.752Z"
   },
   {
    "duration": 140,
    "start_time": "2024-11-02T19:47:19.869Z"
   },
   {
    "duration": 1549,
    "start_time": "2024-11-02T19:47:59.294Z"
   },
   {
    "duration": 2977,
    "start_time": "2024-11-02T19:48:00.846Z"
   },
   {
    "duration": 188,
    "start_time": "2024-11-02T19:48:03.824Z"
   },
   {
    "duration": 177,
    "start_time": "2024-11-02T19:48:04.013Z"
   },
   {
    "duration": 104,
    "start_time": "2024-11-02T19:48:04.192Z"
   },
   {
    "duration": 365,
    "start_time": "2024-11-02T19:48:04.297Z"
   },
   {
    "duration": 32,
    "start_time": "2024-11-02T19:48:04.664Z"
   },
   {
    "duration": 30,
    "start_time": "2024-11-02T19:48:04.697Z"
   },
   {
    "duration": 36,
    "start_time": "2024-11-02T19:48:04.744Z"
   },
   {
    "duration": 530,
    "start_time": "2024-11-02T19:48:04.781Z"
   },
   {
    "duration": 673,
    "start_time": "2024-11-02T19:48:05.313Z"
   },
   {
    "duration": 37,
    "start_time": "2024-11-02T19:48:05.987Z"
   },
   {
    "duration": 23,
    "start_time": "2024-11-02T19:48:06.027Z"
   },
   {
    "duration": 53,
    "start_time": "2024-11-02T19:48:06.055Z"
   },
   {
    "duration": 19,
    "start_time": "2024-11-02T19:48:06.110Z"
   },
   {
    "duration": 10,
    "start_time": "2024-11-02T19:48:06.131Z"
   },
   {
    "duration": 24,
    "start_time": "2024-11-02T19:48:06.144Z"
   },
   {
    "duration": 11,
    "start_time": "2024-11-02T19:48:06.169Z"
   },
   {
    "duration": 474,
    "start_time": "2024-11-02T19:48:06.182Z"
   },
   {
    "duration": 138,
    "start_time": "2024-11-02T19:48:06.657Z"
   },
   {
    "duration": 28,
    "start_time": "2024-11-02T19:48:06.797Z"
   },
   {
    "duration": 190,
    "start_time": "2024-11-02T19:48:06.828Z"
   },
   {
    "duration": 27,
    "start_time": "2024-11-02T19:48:07.020Z"
   },
   {
    "duration": 34,
    "start_time": "2024-11-02T19:48:07.049Z"
   },
   {
    "duration": 18,
    "start_time": "2024-11-02T19:48:07.085Z"
   },
   {
    "duration": 40,
    "start_time": "2024-11-02T19:48:07.104Z"
   },
   {
    "duration": 20,
    "start_time": "2024-11-02T19:48:07.145Z"
   },
   {
    "duration": 442,
    "start_time": "2024-11-02T19:48:07.167Z"
   },
   {
    "duration": 255,
    "start_time": "2024-11-02T19:48:07.610Z"
   },
   {
    "duration": 15,
    "start_time": "2024-11-02T19:48:07.866Z"
   },
   {
    "duration": 466,
    "start_time": "2024-11-02T19:48:07.882Z"
   },
   {
    "duration": 188,
    "start_time": "2024-11-02T19:48:08.349Z"
   },
   {
    "duration": 19,
    "start_time": "2024-11-02T19:48:08.539Z"
   },
   {
    "duration": 461,
    "start_time": "2024-11-02T19:48:08.559Z"
   },
   {
    "duration": 36,
    "start_time": "2024-11-02T19:48:09.021Z"
   },
   {
    "duration": 166,
    "start_time": "2024-11-02T19:48:09.059Z"
   },
   {
    "duration": 20,
    "start_time": "2024-11-02T19:48:09.227Z"
   },
   {
    "duration": 76,
    "start_time": "2024-11-02T19:48:09.249Z"
   },
   {
    "duration": 85,
    "start_time": "2024-11-02T19:48:09.327Z"
   },
   {
    "duration": 3,
    "start_time": "2024-11-02T19:48:09.414Z"
   },
   {
    "duration": 33,
    "start_time": "2024-11-02T19:48:09.421Z"
   },
   {
    "duration": 11,
    "start_time": "2024-11-02T19:48:09.456Z"
   },
   {
    "duration": 6,
    "start_time": "2024-11-02T19:48:09.468Z"
   },
   {
    "duration": 487,
    "start_time": "2024-11-02T19:48:09.475Z"
   },
   {
    "duration": 481,
    "start_time": "2024-11-02T19:48:09.964Z"
   },
   {
    "duration": 3504,
    "start_time": "2024-11-02T19:48:10.448Z"
   },
   {
    "duration": 90,
    "start_time": "2024-11-02T19:48:13.954Z"
   },
   {
    "duration": 25187,
    "start_time": "2024-11-02T19:48:14.046Z"
   },
   {
    "duration": 3,
    "start_time": "2024-11-02T19:48:39.235Z"
   },
   {
    "duration": 714,
    "start_time": "2024-11-02T19:48:39.239Z"
   },
   {
    "duration": 379,
    "start_time": "2024-11-02T19:48:39.955Z"
   },
   {
    "duration": 309123,
    "start_time": "2024-11-02T19:48:40.336Z"
   },
   {
    "duration": 3,
    "start_time": "2024-11-02T19:53:49.461Z"
   },
   {
    "duration": 6586,
    "start_time": "2024-11-02T19:53:49.465Z"
   },
   {
    "duration": 1991,
    "start_time": "2024-11-02T19:53:56.053Z"
   },
   {
    "duration": 10,
    "start_time": "2024-11-02T19:53:58.045Z"
   },
   {
    "duration": 146,
    "start_time": "2024-11-02T19:53:58.056Z"
   },
   {
    "duration": 120,
    "start_time": "2024-11-02T19:54:16.297Z"
   },
   {
    "duration": 526,
    "start_time": "2024-11-02T19:54:23.358Z"
   },
   {
    "duration": 467,
    "start_time": "2024-11-02T19:54:40.839Z"
   },
   {
    "duration": 6,
    "start_time": "2024-11-02T19:56:17.200Z"
   },
   {
    "duration": 828,
    "start_time": "2024-11-02T19:56:17.208Z"
   },
   {
    "duration": 148,
    "start_time": "2024-11-02T19:56:18.038Z"
   },
   {
    "duration": 145,
    "start_time": "2024-11-02T19:56:18.188Z"
   },
   {
    "duration": 95,
    "start_time": "2024-11-02T19:56:18.334Z"
   },
   {
    "duration": 284,
    "start_time": "2024-11-02T19:56:18.443Z"
   },
   {
    "duration": 30,
    "start_time": "2024-11-02T19:56:18.728Z"
   },
   {
    "duration": 27,
    "start_time": "2024-11-02T19:56:18.760Z"
   },
   {
    "duration": 29,
    "start_time": "2024-11-02T19:56:18.789Z"
   },
   {
    "duration": 437,
    "start_time": "2024-11-02T19:56:18.842Z"
   },
   {
    "duration": 480,
    "start_time": "2024-11-02T19:56:19.281Z"
   },
   {
    "duration": 26,
    "start_time": "2024-11-02T19:56:19.763Z"
   },
   {
    "duration": 10,
    "start_time": "2024-11-02T19:56:19.791Z"
   },
   {
    "duration": 41,
    "start_time": "2024-11-02T19:56:19.803Z"
   },
   {
    "duration": 42,
    "start_time": "2024-11-02T19:56:19.845Z"
   },
   {
    "duration": 22,
    "start_time": "2024-11-02T19:56:19.889Z"
   },
   {
    "duration": 52,
    "start_time": "2024-11-02T19:56:19.913Z"
   },
   {
    "duration": 13,
    "start_time": "2024-11-02T19:56:19.967Z"
   },
   {
    "duration": 483,
    "start_time": "2024-11-02T19:56:19.981Z"
   },
   {
    "duration": 130,
    "start_time": "2024-11-02T19:56:20.466Z"
   },
   {
    "duration": 27,
    "start_time": "2024-11-02T19:56:20.598Z"
   },
   {
    "duration": 239,
    "start_time": "2024-11-02T19:56:20.627Z"
   },
   {
    "duration": 15,
    "start_time": "2024-11-02T19:56:20.869Z"
   },
   {
    "duration": 56,
    "start_time": "2024-11-02T19:56:20.886Z"
   },
   {
    "duration": 21,
    "start_time": "2024-11-02T19:56:20.943Z"
   },
   {
    "duration": 48,
    "start_time": "2024-11-02T19:56:20.966Z"
   },
   {
    "duration": 19,
    "start_time": "2024-11-02T19:56:21.016Z"
   },
   {
    "duration": 387,
    "start_time": "2024-11-02T19:56:21.039Z"
   },
   {
    "duration": 160,
    "start_time": "2024-11-02T19:56:21.428Z"
   },
   {
    "duration": 13,
    "start_time": "2024-11-02T19:56:21.590Z"
   },
   {
    "duration": 472,
    "start_time": "2024-11-02T19:56:21.605Z"
   },
   {
    "duration": 312,
    "start_time": "2024-11-02T19:56:22.078Z"
   },
   {
    "duration": 18,
    "start_time": "2024-11-02T19:56:22.392Z"
   },
   {
    "duration": 458,
    "start_time": "2024-11-02T19:56:22.412Z"
   },
   {
    "duration": 23,
    "start_time": "2024-11-02T19:56:22.871Z"
   },
   {
    "duration": 181,
    "start_time": "2024-11-02T19:56:22.896Z"
   },
   {
    "duration": 11,
    "start_time": "2024-11-02T19:56:23.078Z"
   },
   {
    "duration": 86,
    "start_time": "2024-11-02T19:56:23.090Z"
   },
   {
    "duration": 99,
    "start_time": "2024-11-02T19:56:23.178Z"
   },
   {
    "duration": 3,
    "start_time": "2024-11-02T19:56:23.279Z"
   },
   {
    "duration": 12,
    "start_time": "2024-11-02T19:56:23.284Z"
   },
   {
    "duration": 4,
    "start_time": "2024-11-02T19:56:23.297Z"
   },
   {
    "duration": 5,
    "start_time": "2024-11-02T19:56:23.302Z"
   },
   {
    "duration": 22145,
    "start_time": "2024-11-02T19:56:23.308Z"
   },
   {
    "duration": 1494,
    "start_time": "2024-11-02T19:56:45.455Z"
   },
   {
    "duration": 89194,
    "start_time": "2024-11-02T19:56:46.951Z"
   },
   {
    "duration": 3,
    "start_time": "2024-11-02T19:58:16.148Z"
   },
   {
    "duration": 71699,
    "start_time": "2024-11-02T19:58:16.153Z"
   },
   {
    "duration": 3,
    "start_time": "2024-11-02T19:59:27.854Z"
   },
   {
    "duration": 1609,
    "start_time": "2024-11-02T19:59:27.858Z"
   },
   {
    "duration": 1407,
    "start_time": "2024-11-02T19:59:29.468Z"
   },
   {
    "duration": 4,
    "start_time": "2024-11-02T19:59:30.877Z"
   },
   {
    "duration": 19,
    "start_time": "2024-11-02T19:59:30.883Z"
   },
   {
    "duration": 9248,
    "start_time": "2024-11-02T19:59:30.904Z"
   },
   {
    "duration": 3003,
    "start_time": "2024-11-02T19:59:40.153Z"
   },
   {
    "duration": 9,
    "start_time": "2024-11-02T19:59:43.158Z"
   },
   {
    "duration": 1659,
    "start_time": "2024-11-02T20:00:52.566Z"
   },
   {
    "duration": 60,
    "start_time": "2024-11-02T20:02:13.458Z"
   },
   {
    "duration": 1418,
    "start_time": "2024-11-03T23:05:48.219Z"
   },
   {
    "duration": 2933,
    "start_time": "2024-11-03T23:05:49.639Z"
   },
   {
    "duration": 116,
    "start_time": "2024-11-03T23:05:52.573Z"
   },
   {
    "duration": 111,
    "start_time": "2024-11-03T23:05:52.691Z"
   },
   {
    "duration": 85,
    "start_time": "2024-11-03T23:05:52.804Z"
   },
   {
    "duration": 257,
    "start_time": "2024-11-03T23:05:52.891Z"
   },
   {
    "duration": 27,
    "start_time": "2024-11-03T23:05:53.150Z"
   },
   {
    "duration": 25,
    "start_time": "2024-11-03T23:05:53.179Z"
   },
   {
    "duration": 21,
    "start_time": "2024-11-03T23:05:53.205Z"
   },
   {
    "duration": 405,
    "start_time": "2024-11-03T23:05:53.228Z"
   },
   {
    "duration": 506,
    "start_time": "2024-11-03T23:05:53.634Z"
   },
   {
    "duration": 37,
    "start_time": "2024-11-03T23:05:54.141Z"
   },
   {
    "duration": 11,
    "start_time": "2024-11-03T23:05:54.179Z"
   },
   {
    "duration": 24,
    "start_time": "2024-11-03T23:05:54.191Z"
   },
   {
    "duration": 18,
    "start_time": "2024-11-03T23:05:54.216Z"
   },
   {
    "duration": 24,
    "start_time": "2024-11-03T23:05:54.236Z"
   },
   {
    "duration": 21,
    "start_time": "2024-11-03T23:05:54.261Z"
   },
   {
    "duration": 9,
    "start_time": "2024-11-03T23:05:54.284Z"
   },
   {
    "duration": 353,
    "start_time": "2024-11-03T23:05:54.295Z"
   },
   {
    "duration": 112,
    "start_time": "2024-11-03T23:05:54.650Z"
   },
   {
    "duration": 29,
    "start_time": "2024-11-03T23:05:54.764Z"
   },
   {
    "duration": 171,
    "start_time": "2024-11-03T23:05:54.795Z"
   },
   {
    "duration": 19,
    "start_time": "2024-11-03T23:05:54.967Z"
   },
   {
    "duration": 46,
    "start_time": "2024-11-03T23:05:54.988Z"
   },
   {
    "duration": 26,
    "start_time": "2024-11-03T23:05:55.036Z"
   },
   {
    "duration": 22,
    "start_time": "2024-11-03T23:05:55.063Z"
   },
   {
    "duration": 13,
    "start_time": "2024-11-03T23:05:55.087Z"
   },
   {
    "duration": 375,
    "start_time": "2024-11-03T23:05:55.103Z"
   },
   {
    "duration": 143,
    "start_time": "2024-11-03T23:05:55.479Z"
   },
   {
    "duration": 11,
    "start_time": "2024-11-03T23:05:55.624Z"
   },
   {
    "duration": 391,
    "start_time": "2024-11-03T23:05:55.636Z"
   },
   {
    "duration": 174,
    "start_time": "2024-11-03T23:05:56.028Z"
   },
   {
    "duration": 16,
    "start_time": "2024-11-03T23:05:56.204Z"
   },
   {
    "duration": 384,
    "start_time": "2024-11-03T23:05:56.221Z"
   },
   {
    "duration": 22,
    "start_time": "2024-11-03T23:05:56.607Z"
   },
   {
    "duration": 158,
    "start_time": "2024-11-03T23:05:56.630Z"
   },
   {
    "duration": 10,
    "start_time": "2024-11-03T23:05:56.790Z"
   },
   {
    "duration": 67,
    "start_time": "2024-11-03T23:05:56.801Z"
   },
   {
    "duration": 51,
    "start_time": "2024-11-03T23:05:56.869Z"
   },
   {
    "duration": 4,
    "start_time": "2024-11-03T23:05:56.921Z"
   },
   {
    "duration": 8,
    "start_time": "2024-11-03T23:05:56.926Z"
   },
   {
    "duration": 34,
    "start_time": "2024-11-03T23:05:56.935Z"
   },
   {
    "duration": 132,
    "start_time": "2024-11-03T23:05:56.971Z"
   },
   {
    "duration": 0,
    "start_time": "2024-11-03T23:05:57.105Z"
   },
   {
    "duration": 0,
    "start_time": "2024-11-03T23:05:57.106Z"
   },
   {
    "duration": 0,
    "start_time": "2024-11-03T23:05:57.108Z"
   },
   {
    "duration": 0,
    "start_time": "2024-11-03T23:05:57.109Z"
   },
   {
    "duration": 0,
    "start_time": "2024-11-03T23:05:57.110Z"
   },
   {
    "duration": 0,
    "start_time": "2024-11-03T23:05:57.112Z"
   },
   {
    "duration": 0,
    "start_time": "2024-11-03T23:05:57.113Z"
   },
   {
    "duration": 0,
    "start_time": "2024-11-03T23:05:57.114Z"
   },
   {
    "duration": 0,
    "start_time": "2024-11-03T23:05:57.115Z"
   },
   {
    "duration": 0,
    "start_time": "2024-11-03T23:05:57.117Z"
   },
   {
    "duration": 0,
    "start_time": "2024-11-03T23:05:57.118Z"
   },
   {
    "duration": 0,
    "start_time": "2024-11-03T23:05:57.120Z"
   },
   {
    "duration": 0,
    "start_time": "2024-11-03T23:05:57.121Z"
   },
   {
    "duration": 0,
    "start_time": "2024-11-03T23:05:57.123Z"
   },
   {
    "duration": 3,
    "start_time": "2024-11-03T23:06:27.136Z"
   },
   {
    "duration": 34,
    "start_time": "2024-11-03T23:06:35.552Z"
   },
   {
    "duration": 1393,
    "start_time": "2024-11-03T23:08:40.886Z"
   },
   {
    "duration": 1386,
    "start_time": "2024-11-03T23:09:21.845Z"
   },
   {
    "duration": 6800,
    "start_time": "2024-11-03T23:10:30.402Z"
   },
   {
    "duration": 3767,
    "start_time": "2024-11-03T23:10:47.314Z"
   },
   {
    "duration": 5,
    "start_time": "2024-11-03T23:10:51.083Z"
   },
   {
    "duration": 755,
    "start_time": "2024-11-03T23:10:51.089Z"
   },
   {
    "duration": 119,
    "start_time": "2024-11-03T23:10:51.846Z"
   },
   {
    "duration": 107,
    "start_time": "2024-11-03T23:10:51.966Z"
   },
   {
    "duration": 84,
    "start_time": "2024-11-03T23:10:52.075Z"
   },
   {
    "duration": 231,
    "start_time": "2024-11-03T23:10:52.161Z"
   },
   {
    "duration": 22,
    "start_time": "2024-11-03T23:10:52.394Z"
   },
   {
    "duration": 41,
    "start_time": "2024-11-03T23:10:52.417Z"
   },
   {
    "duration": 22,
    "start_time": "2024-11-03T23:10:52.461Z"
   },
   {
    "duration": 367,
    "start_time": "2024-11-03T23:10:52.485Z"
   },
   {
    "duration": 390,
    "start_time": "2024-11-03T23:10:52.856Z"
   },
   {
    "duration": 26,
    "start_time": "2024-11-03T23:10:53.247Z"
   },
   {
    "duration": 10,
    "start_time": "2024-11-03T23:10:53.275Z"
   },
   {
    "duration": 45,
    "start_time": "2024-11-03T23:10:53.286Z"
   },
   {
    "duration": 27,
    "start_time": "2024-11-03T23:10:53.333Z"
   },
   {
    "duration": 8,
    "start_time": "2024-11-03T23:10:53.361Z"
   },
   {
    "duration": 22,
    "start_time": "2024-11-03T23:10:53.370Z"
   },
   {
    "duration": 9,
    "start_time": "2024-11-03T23:10:53.393Z"
   },
   {
    "duration": 361,
    "start_time": "2024-11-03T23:10:53.403Z"
   },
   {
    "duration": 118,
    "start_time": "2024-11-03T23:10:53.765Z"
   },
   {
    "duration": 19,
    "start_time": "2024-11-03T23:10:53.884Z"
   },
   {
    "duration": 169,
    "start_time": "2024-11-03T23:10:53.905Z"
   },
   {
    "duration": 16,
    "start_time": "2024-11-03T23:10:54.075Z"
   },
   {
    "duration": 27,
    "start_time": "2024-11-03T23:10:54.092Z"
   },
   {
    "duration": 17,
    "start_time": "2024-11-03T23:10:54.121Z"
   },
   {
    "duration": 39,
    "start_time": "2024-11-03T23:10:54.139Z"
   },
   {
    "duration": 13,
    "start_time": "2024-11-03T23:10:54.182Z"
   },
   {
    "duration": 356,
    "start_time": "2024-11-03T23:10:54.197Z"
   },
   {
    "duration": 154,
    "start_time": "2024-11-03T23:10:54.554Z"
   },
   {
    "duration": 13,
    "start_time": "2024-11-03T23:10:54.709Z"
   },
   {
    "duration": 377,
    "start_time": "2024-11-03T23:10:54.723Z"
   },
   {
    "duration": 253,
    "start_time": "2024-11-03T23:10:55.102Z"
   },
   {
    "duration": 16,
    "start_time": "2024-11-03T23:10:55.357Z"
   },
   {
    "duration": 365,
    "start_time": "2024-11-03T23:10:55.375Z"
   },
   {
    "duration": 29,
    "start_time": "2024-11-03T23:10:55.741Z"
   },
   {
    "duration": 152,
    "start_time": "2024-11-03T23:10:55.771Z"
   },
   {
    "duration": 10,
    "start_time": "2024-11-03T23:10:55.925Z"
   },
   {
    "duration": 67,
    "start_time": "2024-11-03T23:10:55.936Z"
   },
   {
    "duration": 63,
    "start_time": "2024-11-03T23:10:56.005Z"
   },
   {
    "duration": 3,
    "start_time": "2024-11-03T23:10:56.070Z"
   },
   {
    "duration": 16,
    "start_time": "2024-11-03T23:10:56.075Z"
   },
   {
    "duration": 5,
    "start_time": "2024-11-03T23:10:56.093Z"
   },
   {
    "duration": 16,
    "start_time": "2024-11-03T23:10:56.100Z"
   },
   {
    "duration": 0,
    "start_time": "2024-11-03T23:10:56.117Z"
   },
   {
    "duration": 0,
    "start_time": "2024-11-03T23:10:56.118Z"
   },
   {
    "duration": 0,
    "start_time": "2024-11-03T23:10:56.119Z"
   },
   {
    "duration": 0,
    "start_time": "2024-11-03T23:10:56.120Z"
   },
   {
    "duration": 0,
    "start_time": "2024-11-03T23:10:56.121Z"
   },
   {
    "duration": 0,
    "start_time": "2024-11-03T23:10:56.122Z"
   },
   {
    "duration": 0,
    "start_time": "2024-11-03T23:10:56.123Z"
   },
   {
    "duration": 0,
    "start_time": "2024-11-03T23:10:56.124Z"
   },
   {
    "duration": 0,
    "start_time": "2024-11-03T23:10:56.125Z"
   },
   {
    "duration": 0,
    "start_time": "2024-11-03T23:10:56.126Z"
   },
   {
    "duration": 0,
    "start_time": "2024-11-03T23:10:56.127Z"
   },
   {
    "duration": 0,
    "start_time": "2024-11-03T23:10:56.128Z"
   },
   {
    "duration": 0,
    "start_time": "2024-11-03T23:10:56.129Z"
   },
   {
    "duration": 0,
    "start_time": "2024-11-03T23:10:56.130Z"
   },
   {
    "duration": 3694,
    "start_time": "2024-11-03T23:11:14.948Z"
   },
   {
    "duration": 1150,
    "start_time": "2024-11-03T23:11:18.644Z"
   },
   {
    "duration": 749,
    "start_time": "2024-11-03T23:11:19.795Z"
   },
   {
    "duration": 127,
    "start_time": "2024-11-03T23:11:20.546Z"
   },
   {
    "duration": 112,
    "start_time": "2024-11-03T23:11:20.674Z"
   },
   {
    "duration": 85,
    "start_time": "2024-11-03T23:11:20.788Z"
   },
   {
    "duration": 254,
    "start_time": "2024-11-03T23:11:20.874Z"
   },
   {
    "duration": 33,
    "start_time": "2024-11-03T23:11:21.130Z"
   },
   {
    "duration": 28,
    "start_time": "2024-11-03T23:11:21.165Z"
   },
   {
    "duration": 22,
    "start_time": "2024-11-03T23:11:21.195Z"
   },
   {
    "duration": 398,
    "start_time": "2024-11-03T23:11:21.218Z"
   },
   {
    "duration": 537,
    "start_time": "2024-11-03T23:11:21.618Z"
   },
   {
    "duration": 35,
    "start_time": "2024-11-03T23:11:22.156Z"
   },
   {
    "duration": 15,
    "start_time": "2024-11-03T23:11:22.193Z"
   },
   {
    "duration": 25,
    "start_time": "2024-11-03T23:11:22.210Z"
   },
   {
    "duration": 30,
    "start_time": "2024-11-03T23:11:22.237Z"
   },
   {
    "duration": 8,
    "start_time": "2024-11-03T23:11:22.269Z"
   },
   {
    "duration": 23,
    "start_time": "2024-11-03T23:11:22.278Z"
   },
   {
    "duration": 11,
    "start_time": "2024-11-03T23:11:22.302Z"
   },
   {
    "duration": 373,
    "start_time": "2024-11-03T23:11:22.315Z"
   },
   {
    "duration": 115,
    "start_time": "2024-11-03T23:11:22.689Z"
   },
   {
    "duration": 27,
    "start_time": "2024-11-03T23:11:22.806Z"
   },
   {
    "duration": 180,
    "start_time": "2024-11-03T23:11:22.835Z"
   },
   {
    "duration": 17,
    "start_time": "2024-11-03T23:11:23.016Z"
   },
   {
    "duration": 48,
    "start_time": "2024-11-03T23:11:23.034Z"
   },
   {
    "duration": 17,
    "start_time": "2024-11-03T23:11:23.083Z"
   },
   {
    "duration": 23,
    "start_time": "2024-11-03T23:11:23.103Z"
   },
   {
    "duration": 28,
    "start_time": "2024-11-03T23:11:23.129Z"
   },
   {
    "duration": 334,
    "start_time": "2024-11-03T23:11:23.159Z"
   },
   {
    "duration": 144,
    "start_time": "2024-11-03T23:11:23.494Z"
   },
   {
    "duration": 18,
    "start_time": "2024-11-03T23:11:23.640Z"
   },
   {
    "duration": 418,
    "start_time": "2024-11-03T23:11:23.659Z"
   },
   {
    "duration": 172,
    "start_time": "2024-11-03T23:11:24.079Z"
   },
   {
    "duration": 16,
    "start_time": "2024-11-03T23:11:24.257Z"
   },
   {
    "duration": 370,
    "start_time": "2024-11-03T23:11:24.274Z"
   },
   {
    "duration": 30,
    "start_time": "2024-11-03T23:11:24.645Z"
   },
   {
    "duration": 158,
    "start_time": "2024-11-03T23:11:24.676Z"
   },
   {
    "duration": 10,
    "start_time": "2024-11-03T23:11:24.835Z"
   },
   {
    "duration": 66,
    "start_time": "2024-11-03T23:11:24.846Z"
   },
   {
    "duration": 55,
    "start_time": "2024-11-03T23:11:24.913Z"
   },
   {
    "duration": 3,
    "start_time": "2024-11-03T23:11:24.970Z"
   },
   {
    "duration": 19,
    "start_time": "2024-11-03T23:11:24.974Z"
   },
   {
    "duration": 8,
    "start_time": "2024-11-03T23:11:24.994Z"
   },
   {
    "duration": 8,
    "start_time": "2024-11-03T23:11:25.003Z"
   },
   {
    "duration": 21146,
    "start_time": "2024-11-03T23:11:25.012Z"
   },
   {
    "duration": 1207,
    "start_time": "2024-11-03T23:11:46.159Z"
   },
   {
    "duration": 87423,
    "start_time": "2024-11-03T23:11:47.368Z"
   },
   {
    "duration": 4,
    "start_time": "2024-11-03T23:13:14.858Z"
   },
   {
    "duration": 67584,
    "start_time": "2024-11-03T23:13:14.864Z"
   },
   {
    "duration": 8,
    "start_time": "2024-11-03T23:14:22.450Z"
   },
   {
    "duration": 1415,
    "start_time": "2024-11-03T23:14:22.459Z"
   },
   {
    "duration": 1214,
    "start_time": "2024-11-03T23:14:23.875Z"
   },
   {
    "duration": 1520872,
    "start_time": "2024-11-03T23:14:25.090Z"
   },
   {
    "duration": 2,
    "start_time": "2024-11-03T23:39:45.963Z"
   },
   {
    "duration": 8000,
    "start_time": "2024-11-03T23:39:45.966Z"
   },
   {
    "duration": 3095,
    "start_time": "2024-11-03T23:39:53.968Z"
   },
   {
    "duration": 8,
    "start_time": "2024-11-03T23:39:57.065Z"
   },
   {
    "duration": 460,
    "start_time": "2024-11-03T23:39:57.074Z"
   },
   {
    "duration": 71608,
    "start_time": "2024-11-03T23:41:08.160Z"
   },
   {
    "duration": 3,
    "start_time": "2024-11-03T23:42:59.092Z"
   },
   {
    "duration": 77199,
    "start_time": "2024-11-03T23:43:40.753Z"
   },
   {
    "duration": 3,
    "start_time": "2024-11-03T23:45:58.435Z"
   },
   {
    "duration": 82026,
    "start_time": "2024-11-03T23:46:11.202Z"
   },
   {
    "duration": 3,
    "start_time": "2024-11-03T23:47:39.853Z"
   },
   {
    "duration": 85474,
    "start_time": "2024-11-03T23:47:50.286Z"
   },
   {
    "duration": 2,
    "start_time": "2024-11-03T23:49:24.509Z"
   },
   {
    "duration": 406,
    "start_time": "2024-11-03T23:49:40.648Z"
   },
   {
    "duration": 1390,
    "start_time": "2024-11-03T23:49:58.443Z"
   },
   {
    "duration": 1905,
    "start_time": "2024-11-03T23:50:05.786Z"
   },
   {
    "duration": 426,
    "start_time": "2024-11-03T23:50:18.774Z"
   },
   {
    "duration": 93332,
    "start_time": "2024-11-03T23:50:55.990Z"
   },
   {
    "duration": 3,
    "start_time": "2024-11-03T23:52:40.706Z"
   },
   {
    "duration": 98079,
    "start_time": "2024-11-03T23:52:53.065Z"
   },
   {
    "duration": 3,
    "start_time": "2024-11-03T23:54:48.004Z"
   },
   {
    "duration": 2102,
    "start_time": "2024-11-03T23:54:57.484Z"
   },
   {
    "duration": 2099,
    "start_time": "2024-11-03T23:55:10.599Z"
   },
   {
    "duration": 1296,
    "start_time": "2024-11-03T23:55:14.755Z"
   },
   {
    "duration": 8,
    "start_time": "2024-11-03T23:55:25.879Z"
   },
   {
    "duration": 430,
    "start_time": "2024-11-03T23:55:34.544Z"
   }
  ],
  "colab": {
   "provenance": []
  },
  "kernelspec": {
   "display_name": "Python 3 (ipykernel)",
   "language": "python",
   "name": "python3"
  },
  "language_info": {
   "codemirror_mode": {
    "name": "ipython",
    "version": 3
   },
   "file_extension": ".py",
   "mimetype": "text/x-python",
   "name": "python",
   "nbconvert_exporter": "python",
   "pygments_lexer": "ipython3",
   "version": "3.9.5"
  },
  "toc": {
   "base_numbering": 1,
   "nav_menu": {},
   "number_sections": true,
   "sideBar": true,
   "skip_h1_title": true,
   "title_cell": "Table of Contents",
   "title_sidebar": "Contents",
   "toc_cell": false,
   "toc_position": {
    "height": "calc(100% - 180px)",
    "left": "10px",
    "top": "150px",
    "width": "175.594px"
   },
   "toc_section_display": true,
   "toc_window_display": true
  }
 },
 "nbformat": 4,
 "nbformat_minor": 1
}
