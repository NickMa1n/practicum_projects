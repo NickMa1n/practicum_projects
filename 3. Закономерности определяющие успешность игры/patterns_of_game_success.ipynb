{
 "cells": [
  {
   "cell_type": "code",
   "execution_count": 1,
   "metadata": {},
   "outputs": [],
   "source": [
    "import pandas as pd\n",
    "import numpy as np\n",
    "import matplotlib.pyplot as plt\n",
    "import seaborn as sns\n",
    "from scipy import stats as st"
   ]
  },
  {
   "cell_type": "markdown",
   "metadata": {},
   "source": [
    "## Задача проекта"
   ]
  },
  {
   "cell_type": "markdown",
   "metadata": {},
   "source": [
    "Цель проекта: выявить закономерности определяющие успешность компьютерной игры.  \n",
    "Для реализации этой цели были поставлены следующие задачи:\n",
    "* изучить и подготовить к анализу данные, которые содержат информацию об играх\n",
    "* провести исследовательский анализ данных:\n",
    "    1. оценить сколько игр выпускалось в разные годы\n",
    "    2. проанализировать продажи игр в зависимости от платформы\n",
    "    3. определить актуальный период развития компьютерных игр для построения прогноза\n",
    "    4. исследовать глобальные продажи игр в разбивке по платформам при помощи диаграммы размаха\n",
    "    5. выяснить влияние на продажи внутри одной популярной платформы отзывов пользователей и критиков (посчитать корреляцию)\n",
    "    6. изучить общее распределение игр по жанрам (выделить прибыльные жанры)\n",
    "* составить портрет пользователя каждого региона (NA, EU, JP) - определить топ-5 платформ, топ-5 жанров, оценить влияние рейтинга ESRB для каждого региона\n",
    "* проверить гипотезы:\n",
    "    1. cредние пользовательские рейтинги платформ Xbox One и PC одинаковые\n",
    "    2. cредние пользовательские рейтинги жанров Action и Sports разные"
   ]
  },
  {
   "cell_type": "markdown",
   "metadata": {},
   "source": [
    "## Загрузка исходных данных"
   ]
  },
  {
   "cell_type": "markdown",
   "metadata": {},
   "source": [
    "Описание данных\n",
    "\n",
    "|столбец | описание|\n",
    "|:--- |:---|\n",
    "|Name | название игры|\n",
    "|Platform | платформа|\n",
    "|Year_of_Release | год выпуска|\n",
    "|Genre | жанр игры|\n",
    "|NA_sales | продажи в Северной Америке (миллионы проданных копий)|\n",
    "|EU_sales | продажи в Европе (миллионы проданных копий)|\n",
    "|JP_sales | продажи в Японии (миллионы проданных копий)|\n",
    "|Other_sales | продажи в других странах (миллионы проданных копий)|\n",
    "|Critic_Score | оценка критиков (максимум 100)|\n",
    "|User_Score | оценка пользователей (максимум 10)|\n",
    "|Rating | рейтинг от организации ESRB|"
   ]
  },
  {
   "cell_type": "code",
   "execution_count": 2,
   "metadata": {},
   "outputs": [
    {
     "data": {
      "text/html": [
       "<div>\n",
       "<style scoped>\n",
       "    .dataframe tbody tr th:only-of-type {\n",
       "        vertical-align: middle;\n",
       "    }\n",
       "\n",
       "    .dataframe tbody tr th {\n",
       "        vertical-align: top;\n",
       "    }\n",
       "\n",
       "    .dataframe thead th {\n",
       "        text-align: right;\n",
       "    }\n",
       "</style>\n",
       "<table border=\"1\" class=\"dataframe\">\n",
       "  <thead>\n",
       "    <tr style=\"text-align: right;\">\n",
       "      <th></th>\n",
       "      <th>Name</th>\n",
       "      <th>Platform</th>\n",
       "      <th>Year_of_Release</th>\n",
       "      <th>Genre</th>\n",
       "      <th>NA_sales</th>\n",
       "      <th>EU_sales</th>\n",
       "      <th>JP_sales</th>\n",
       "      <th>Other_sales</th>\n",
       "      <th>Critic_Score</th>\n",
       "      <th>User_Score</th>\n",
       "      <th>Rating</th>\n",
       "    </tr>\n",
       "  </thead>\n",
       "  <tbody>\n",
       "    <tr>\n",
       "      <th>0</th>\n",
       "      <td>Wii Sports</td>\n",
       "      <td>Wii</td>\n",
       "      <td>2006.0</td>\n",
       "      <td>Sports</td>\n",
       "      <td>41.36</td>\n",
       "      <td>28.96</td>\n",
       "      <td>3.77</td>\n",
       "      <td>8.45</td>\n",
       "      <td>76.0</td>\n",
       "      <td>8</td>\n",
       "      <td>E</td>\n",
       "    </tr>\n",
       "    <tr>\n",
       "      <th>1</th>\n",
       "      <td>Super Mario Bros.</td>\n",
       "      <td>NES</td>\n",
       "      <td>1985.0</td>\n",
       "      <td>Platform</td>\n",
       "      <td>29.08</td>\n",
       "      <td>3.58</td>\n",
       "      <td>6.81</td>\n",
       "      <td>0.77</td>\n",
       "      <td>NaN</td>\n",
       "      <td>NaN</td>\n",
       "      <td>NaN</td>\n",
       "    </tr>\n",
       "    <tr>\n",
       "      <th>2</th>\n",
       "      <td>Mario Kart Wii</td>\n",
       "      <td>Wii</td>\n",
       "      <td>2008.0</td>\n",
       "      <td>Racing</td>\n",
       "      <td>15.68</td>\n",
       "      <td>12.76</td>\n",
       "      <td>3.79</td>\n",
       "      <td>3.29</td>\n",
       "      <td>82.0</td>\n",
       "      <td>8.3</td>\n",
       "      <td>E</td>\n",
       "    </tr>\n",
       "    <tr>\n",
       "      <th>3</th>\n",
       "      <td>Wii Sports Resort</td>\n",
       "      <td>Wii</td>\n",
       "      <td>2009.0</td>\n",
       "      <td>Sports</td>\n",
       "      <td>15.61</td>\n",
       "      <td>10.93</td>\n",
       "      <td>3.28</td>\n",
       "      <td>2.95</td>\n",
       "      <td>80.0</td>\n",
       "      <td>8</td>\n",
       "      <td>E</td>\n",
       "    </tr>\n",
       "    <tr>\n",
       "      <th>4</th>\n",
       "      <td>Pokemon Red/Pokemon Blue</td>\n",
       "      <td>GB</td>\n",
       "      <td>1996.0</td>\n",
       "      <td>Role-Playing</td>\n",
       "      <td>11.27</td>\n",
       "      <td>8.89</td>\n",
       "      <td>10.22</td>\n",
       "      <td>1.00</td>\n",
       "      <td>NaN</td>\n",
       "      <td>NaN</td>\n",
       "      <td>NaN</td>\n",
       "    </tr>\n",
       "  </tbody>\n",
       "</table>\n",
       "</div>"
      ],
      "text/plain": [
       "                       Name Platform  Year_of_Release         Genre  NA_sales  \\\n",
       "0                Wii Sports      Wii           2006.0        Sports     41.36   \n",
       "1         Super Mario Bros.      NES           1985.0      Platform     29.08   \n",
       "2            Mario Kart Wii      Wii           2008.0        Racing     15.68   \n",
       "3         Wii Sports Resort      Wii           2009.0        Sports     15.61   \n",
       "4  Pokemon Red/Pokemon Blue       GB           1996.0  Role-Playing     11.27   \n",
       "\n",
       "   EU_sales  JP_sales  Other_sales  Critic_Score User_Score Rating  \n",
       "0     28.96      3.77         8.45          76.0          8      E  \n",
       "1      3.58      6.81         0.77           NaN        NaN    NaN  \n",
       "2     12.76      3.79         3.29          82.0        8.3      E  \n",
       "3     10.93      3.28         2.95          80.0          8      E  \n",
       "4      8.89     10.22         1.00           NaN        NaN    NaN  "
      ]
     },
     "execution_count": 2,
     "metadata": {},
     "output_type": "execute_result"
    }
   ],
   "source": [
    "games_df = pd.read_csv('/datasets/games.csv')\n",
    "games_df.head()"
   ]
  },
  {
   "cell_type": "code",
   "execution_count": 3,
   "metadata": {},
   "outputs": [
    {
     "name": "stdout",
     "output_type": "stream",
     "text": [
      "<class 'pandas.core.frame.DataFrame'>\n",
      "RangeIndex: 16715 entries, 0 to 16714\n",
      "Data columns (total 11 columns):\n",
      " #   Column           Non-Null Count  Dtype  \n",
      "---  ------           --------------  -----  \n",
      " 0   Name             16713 non-null  object \n",
      " 1   Platform         16715 non-null  object \n",
      " 2   Year_of_Release  16446 non-null  float64\n",
      " 3   Genre            16713 non-null  object \n",
      " 4   NA_sales         16715 non-null  float64\n",
      " 5   EU_sales         16715 non-null  float64\n",
      " 6   JP_sales         16715 non-null  float64\n",
      " 7   Other_sales      16715 non-null  float64\n",
      " 8   Critic_Score     8137 non-null   float64\n",
      " 9   User_Score       10014 non-null  object \n",
      " 10  Rating           9949 non-null   object \n",
      "dtypes: float64(6), object(5)\n",
      "memory usage: 1.4+ MB\n"
     ]
    }
   ],
   "source": [
    "games_df.info()"
   ]
  },
  {
   "cell_type": "markdown",
   "metadata": {},
   "source": [
    "В исходном датафрейме 11 столбцов и 16715 строк. Пропущенные значения есть в столбцах 'Name', 'Year_of_Release', 'Genre', 'Critic_Score', 'User_Score', 'Rating'. Столбец с датой релиза игры (Year_of_Release) следует привести к типу datetime, в столбце с оценкой пользователя (User_Score) следует привести к типу float (в нем есть строковые значения)."
   ]
  },
  {
   "cell_type": "markdown",
   "metadata": {},
   "source": [
    "## Предобработка исходных данных"
   ]
  },
  {
   "cell_type": "code",
   "execution_count": 4,
   "metadata": {
    "scrolled": false
   },
   "outputs": [
    {
     "data": {
      "text/html": [
       "<div>\n",
       "<style scoped>\n",
       "    .dataframe tbody tr th:only-of-type {\n",
       "        vertical-align: middle;\n",
       "    }\n",
       "\n",
       "    .dataframe tbody tr th {\n",
       "        vertical-align: top;\n",
       "    }\n",
       "\n",
       "    .dataframe thead th {\n",
       "        text-align: right;\n",
       "    }\n",
       "</style>\n",
       "<table border=\"1\" class=\"dataframe\">\n",
       "  <thead>\n",
       "    <tr style=\"text-align: right;\">\n",
       "      <th></th>\n",
       "      <th>name</th>\n",
       "      <th>platform</th>\n",
       "      <th>year_of_release</th>\n",
       "      <th>genre</th>\n",
       "      <th>na_sales</th>\n",
       "      <th>eu_sales</th>\n",
       "      <th>jp_sales</th>\n",
       "      <th>other_sales</th>\n",
       "      <th>critic_score</th>\n",
       "      <th>user_score</th>\n",
       "      <th>rating</th>\n",
       "    </tr>\n",
       "  </thead>\n",
       "  <tbody>\n",
       "    <tr>\n",
       "      <th>0</th>\n",
       "      <td>Wii Sports</td>\n",
       "      <td>Wii</td>\n",
       "      <td>2006.0</td>\n",
       "      <td>Sports</td>\n",
       "      <td>41.36</td>\n",
       "      <td>28.96</td>\n",
       "      <td>3.77</td>\n",
       "      <td>8.45</td>\n",
       "      <td>76.0</td>\n",
       "      <td>8</td>\n",
       "      <td>E</td>\n",
       "    </tr>\n",
       "    <tr>\n",
       "      <th>1</th>\n",
       "      <td>Super Mario Bros.</td>\n",
       "      <td>NES</td>\n",
       "      <td>1985.0</td>\n",
       "      <td>Platform</td>\n",
       "      <td>29.08</td>\n",
       "      <td>3.58</td>\n",
       "      <td>6.81</td>\n",
       "      <td>0.77</td>\n",
       "      <td>NaN</td>\n",
       "      <td>NaN</td>\n",
       "      <td>NaN</td>\n",
       "    </tr>\n",
       "    <tr>\n",
       "      <th>2</th>\n",
       "      <td>Mario Kart Wii</td>\n",
       "      <td>Wii</td>\n",
       "      <td>2008.0</td>\n",
       "      <td>Racing</td>\n",
       "      <td>15.68</td>\n",
       "      <td>12.76</td>\n",
       "      <td>3.79</td>\n",
       "      <td>3.29</td>\n",
       "      <td>82.0</td>\n",
       "      <td>8.3</td>\n",
       "      <td>E</td>\n",
       "    </tr>\n",
       "    <tr>\n",
       "      <th>3</th>\n",
       "      <td>Wii Sports Resort</td>\n",
       "      <td>Wii</td>\n",
       "      <td>2009.0</td>\n",
       "      <td>Sports</td>\n",
       "      <td>15.61</td>\n",
       "      <td>10.93</td>\n",
       "      <td>3.28</td>\n",
       "      <td>2.95</td>\n",
       "      <td>80.0</td>\n",
       "      <td>8</td>\n",
       "      <td>E</td>\n",
       "    </tr>\n",
       "    <tr>\n",
       "      <th>4</th>\n",
       "      <td>Pokemon Red/Pokemon Blue</td>\n",
       "      <td>GB</td>\n",
       "      <td>1996.0</td>\n",
       "      <td>Role-Playing</td>\n",
       "      <td>11.27</td>\n",
       "      <td>8.89</td>\n",
       "      <td>10.22</td>\n",
       "      <td>1.00</td>\n",
       "      <td>NaN</td>\n",
       "      <td>NaN</td>\n",
       "      <td>NaN</td>\n",
       "    </tr>\n",
       "  </tbody>\n",
       "</table>\n",
       "</div>"
      ],
      "text/plain": [
       "                       name platform  year_of_release         genre  na_sales  \\\n",
       "0                Wii Sports      Wii           2006.0        Sports     41.36   \n",
       "1         Super Mario Bros.      NES           1985.0      Platform     29.08   \n",
       "2            Mario Kart Wii      Wii           2008.0        Racing     15.68   \n",
       "3         Wii Sports Resort      Wii           2009.0        Sports     15.61   \n",
       "4  Pokemon Red/Pokemon Blue       GB           1996.0  Role-Playing     11.27   \n",
       "\n",
       "   eu_sales  jp_sales  other_sales  critic_score user_score rating  \n",
       "0     28.96      3.77         8.45          76.0          8      E  \n",
       "1      3.58      6.81         0.77           NaN        NaN    NaN  \n",
       "2     12.76      3.79         3.29          82.0        8.3      E  \n",
       "3     10.93      3.28         2.95          80.0          8      E  \n",
       "4      8.89     10.22         1.00           NaN        NaN    NaN  "
      ]
     },
     "execution_count": 4,
     "metadata": {},
     "output_type": "execute_result"
    }
   ],
   "source": [
    "games_df.columns = games_df.columns.str.lower() #приводим названия столбцов к нижнему регистру\n",
    "games_df.head()"
   ]
  },
  {
   "cell_type": "code",
   "execution_count": 5,
   "metadata": {},
   "outputs": [
    {
     "data": {
      "text/plain": [
       "0"
      ]
     },
     "execution_count": 5,
     "metadata": {},
     "output_type": "execute_result"
    }
   ],
   "source": [
    "games_df.duplicated().sum() #ищем явные дубликаты"
   ]
  },
  {
   "cell_type": "code",
   "execution_count": 6,
   "metadata": {},
   "outputs": [
    {
     "data": {
      "text/html": [
       "<div>\n",
       "<style scoped>\n",
       "    .dataframe tbody tr th:only-of-type {\n",
       "        vertical-align: middle;\n",
       "    }\n",
       "\n",
       "    .dataframe tbody tr th {\n",
       "        vertical-align: top;\n",
       "    }\n",
       "\n",
       "    .dataframe thead th {\n",
       "        text-align: right;\n",
       "    }\n",
       "</style>\n",
       "<table border=\"1\" class=\"dataframe\">\n",
       "  <thead>\n",
       "    <tr style=\"text-align: right;\">\n",
       "      <th></th>\n",
       "      <th>name</th>\n",
       "      <th>platform</th>\n",
       "      <th>year_of_release</th>\n",
       "      <th>genre</th>\n",
       "      <th>na_sales</th>\n",
       "      <th>eu_sales</th>\n",
       "      <th>jp_sales</th>\n",
       "      <th>other_sales</th>\n",
       "      <th>critic_score</th>\n",
       "      <th>user_score</th>\n",
       "      <th>rating</th>\n",
       "    </tr>\n",
       "  </thead>\n",
       "  <tbody>\n",
       "    <tr>\n",
       "      <th>604</th>\n",
       "      <td>Madden NFL 13</td>\n",
       "      <td>PS3</td>\n",
       "      <td>2012.0</td>\n",
       "      <td>Sports</td>\n",
       "      <td>2.11</td>\n",
       "      <td>0.22</td>\n",
       "      <td>0.00</td>\n",
       "      <td>0.23</td>\n",
       "      <td>83.0</td>\n",
       "      <td>5.5</td>\n",
       "      <td>E</td>\n",
       "    </tr>\n",
       "    <tr>\n",
       "      <th>659</th>\n",
       "      <td>NaN</td>\n",
       "      <td>GEN</td>\n",
       "      <td>1993.0</td>\n",
       "      <td>NaN</td>\n",
       "      <td>1.78</td>\n",
       "      <td>0.53</td>\n",
       "      <td>0.00</td>\n",
       "      <td>0.08</td>\n",
       "      <td>NaN</td>\n",
       "      <td>NaN</td>\n",
       "      <td>NaN</td>\n",
       "    </tr>\n",
       "    <tr>\n",
       "      <th>14244</th>\n",
       "      <td>NaN</td>\n",
       "      <td>GEN</td>\n",
       "      <td>1993.0</td>\n",
       "      <td>NaN</td>\n",
       "      <td>0.00</td>\n",
       "      <td>0.00</td>\n",
       "      <td>0.03</td>\n",
       "      <td>0.00</td>\n",
       "      <td>NaN</td>\n",
       "      <td>NaN</td>\n",
       "      <td>NaN</td>\n",
       "    </tr>\n",
       "    <tr>\n",
       "      <th>16230</th>\n",
       "      <td>Madden NFL 13</td>\n",
       "      <td>PS3</td>\n",
       "      <td>2012.0</td>\n",
       "      <td>Sports</td>\n",
       "      <td>0.00</td>\n",
       "      <td>0.01</td>\n",
       "      <td>0.00</td>\n",
       "      <td>0.00</td>\n",
       "      <td>83.0</td>\n",
       "      <td>5.5</td>\n",
       "      <td>E</td>\n",
       "    </tr>\n",
       "  </tbody>\n",
       "</table>\n",
       "</div>"
      ],
      "text/plain": [
       "                name platform  year_of_release   genre  na_sales  eu_sales  \\\n",
       "604    Madden NFL 13      PS3           2012.0  Sports      2.11      0.22   \n",
       "659              NaN      GEN           1993.0     NaN      1.78      0.53   \n",
       "14244            NaN      GEN           1993.0     NaN      0.00      0.00   \n",
       "16230  Madden NFL 13      PS3           2012.0  Sports      0.00      0.01   \n",
       "\n",
       "       jp_sales  other_sales  critic_score user_score rating  \n",
       "604        0.00         0.23          83.0        5.5      E  \n",
       "659        0.00         0.08           NaN        NaN    NaN  \n",
       "14244      0.03         0.00           NaN        NaN    NaN  \n",
       "16230      0.00         0.00          83.0        5.5      E  "
      ]
     },
     "execution_count": 6,
     "metadata": {},
     "output_type": "execute_result"
    }
   ],
   "source": [
    "games_df[games_df.loc[:, ['name', 'platform', 'year_of_release']].duplicated(keep=False)] #ищем неявные дубликаты"
   ]
  },
  {
   "cell_type": "markdown",
   "metadata": {},
   "source": [
    "Найдено два неявных дубликаты, так как далее я обработал 1 пару дубликатов, с другой парой решено сложить продажи и удалить последнее вхождение"
   ]
  },
  {
   "cell_type": "code",
   "execution_count": 7,
   "metadata": {},
   "outputs": [],
   "source": [
    "games_df.loc[604, 'eu_sales'] = 0.23 #записываем сумму продаж в строчку с первым вхождением дубликата\n",
    "games_df.drop(games_df.index[16230], inplace=True) #удаляем 16230 строчку"
   ]
  },
  {
   "cell_type": "code",
   "execution_count": 8,
   "metadata": {},
   "outputs": [
    {
     "data": {
      "text/plain": [
       "critic_score       51.322245\n",
       "rating             40.481034\n",
       "user_score         40.092138\n",
       "year_of_release     1.609429\n",
       "name                0.011966\n",
       "genre               0.011966\n",
       "platform            0.000000\n",
       "na_sales            0.000000\n",
       "eu_sales            0.000000\n",
       "jp_sales            0.000000\n",
       "other_sales         0.000000\n",
       "dtype: float64"
      ]
     },
     "execution_count": 8,
     "metadata": {},
     "output_type": "execute_result"
    }
   ],
   "source": [
    "games_df.isna().mean().sort_values(ascending=False) * 100 #смотрим доли пропущенных значений по столбцам"
   ]
  },
  {
   "cell_type": "code",
   "execution_count": 9,
   "metadata": {},
   "outputs": [
    {
     "data": {
      "text/html": [
       "<div>\n",
       "<style scoped>\n",
       "    .dataframe tbody tr th:only-of-type {\n",
       "        vertical-align: middle;\n",
       "    }\n",
       "\n",
       "    .dataframe tbody tr th {\n",
       "        vertical-align: top;\n",
       "    }\n",
       "\n",
       "    .dataframe thead th {\n",
       "        text-align: right;\n",
       "    }\n",
       "</style>\n",
       "<table border=\"1\" class=\"dataframe\">\n",
       "  <thead>\n",
       "    <tr style=\"text-align: right;\">\n",
       "      <th></th>\n",
       "      <th>name</th>\n",
       "      <th>platform</th>\n",
       "      <th>year_of_release</th>\n",
       "      <th>genre</th>\n",
       "      <th>na_sales</th>\n",
       "      <th>eu_sales</th>\n",
       "      <th>jp_sales</th>\n",
       "      <th>other_sales</th>\n",
       "      <th>critic_score</th>\n",
       "      <th>user_score</th>\n",
       "      <th>rating</th>\n",
       "    </tr>\n",
       "  </thead>\n",
       "  <tbody>\n",
       "    <tr>\n",
       "      <th>659</th>\n",
       "      <td>NaN</td>\n",
       "      <td>GEN</td>\n",
       "      <td>1993.0</td>\n",
       "      <td>NaN</td>\n",
       "      <td>1.78</td>\n",
       "      <td>0.53</td>\n",
       "      <td>0.00</td>\n",
       "      <td>0.08</td>\n",
       "      <td>NaN</td>\n",
       "      <td>NaN</td>\n",
       "      <td>NaN</td>\n",
       "    </tr>\n",
       "    <tr>\n",
       "      <th>14244</th>\n",
       "      <td>NaN</td>\n",
       "      <td>GEN</td>\n",
       "      <td>1993.0</td>\n",
       "      <td>NaN</td>\n",
       "      <td>0.00</td>\n",
       "      <td>0.00</td>\n",
       "      <td>0.03</td>\n",
       "      <td>0.00</td>\n",
       "      <td>NaN</td>\n",
       "      <td>NaN</td>\n",
       "      <td>NaN</td>\n",
       "    </tr>\n",
       "  </tbody>\n",
       "</table>\n",
       "</div>"
      ],
      "text/plain": [
       "      name platform  year_of_release genre  na_sales  eu_sales  jp_sales  \\\n",
       "659    NaN      GEN           1993.0   NaN      1.78      0.53      0.00   \n",
       "14244  NaN      GEN           1993.0   NaN      0.00      0.00      0.03   \n",
       "\n",
       "       other_sales  critic_score user_score rating  \n",
       "659           0.08           NaN        NaN    NaN  \n",
       "14244         0.00           NaN        NaN    NaN  "
      ]
     },
     "execution_count": 9,
     "metadata": {},
     "output_type": "execute_result"
    }
   ],
   "source": [
    "games_df[games_df['name'].isna()] #смотрим строки с пропущенными названием и жанром игры"
   ]
  },
  {
   "cell_type": "code",
   "execution_count": 10,
   "metadata": {},
   "outputs": [
    {
     "name": "stdout",
     "output_type": "stream",
     "text": [
      "<class 'pandas.core.frame.DataFrame'>\n",
      "Int64Index: 16712 entries, 0 to 16714\n",
      "Data columns (total 11 columns):\n",
      " #   Column           Non-Null Count  Dtype  \n",
      "---  ------           --------------  -----  \n",
      " 0   name             16712 non-null  object \n",
      " 1   platform         16712 non-null  object \n",
      " 2   year_of_release  16443 non-null  float64\n",
      " 3   genre            16712 non-null  object \n",
      " 4   na_sales         16712 non-null  float64\n",
      " 5   eu_sales         16712 non-null  float64\n",
      " 6   jp_sales         16712 non-null  float64\n",
      " 7   other_sales      16712 non-null  float64\n",
      " 8   critic_score     8136 non-null   float64\n",
      " 9   user_score       10013 non-null  object \n",
      " 10  rating           9948 non-null   object \n",
      "dtypes: float64(6), object(5)\n",
      "memory usage: 1.5+ MB\n"
     ]
    }
   ],
   "source": [
    "games_df = games_df.dropna(subset=['name']) #удаляем строки с пропущенными названием и жанром игры\n",
    "games_df.info()"
   ]
  },
  {
   "cell_type": "code",
   "execution_count": 11,
   "metadata": {},
   "outputs": [],
   "source": [
    "#games_df['year_of_release'] = pd.to_datetime(games_df['year_of_release'], format='%Y') #приводим столбец 'year_of_release' к типу datetime\n",
    "#games_df.info()"
   ]
  },
  {
   "cell_type": "code",
   "execution_count": 12,
   "metadata": {},
   "outputs": [
    {
     "name": "stdout",
     "output_type": "stream",
     "text": [
      "<class 'pandas.core.frame.DataFrame'>\n",
      "Int64Index: 16712 entries, 0 to 16714\n",
      "Data columns (total 11 columns):\n",
      " #   Column           Non-Null Count  Dtype  \n",
      "---  ------           --------------  -----  \n",
      " 0   name             16712 non-null  object \n",
      " 1   platform         16712 non-null  object \n",
      " 2   year_of_release  16443 non-null  float64\n",
      " 3   genre            16712 non-null  object \n",
      " 4   na_sales         16712 non-null  float64\n",
      " 5   eu_sales         16712 non-null  float64\n",
      " 6   jp_sales         16712 non-null  float64\n",
      " 7   other_sales      16712 non-null  float64\n",
      " 8   critic_score     8136 non-null   float64\n",
      " 9   user_score       7589 non-null   float64\n",
      " 10  rating           9948 non-null   object \n",
      "dtypes: float64(7), object(4)\n",
      "memory usage: 1.5+ MB\n"
     ]
    }
   ],
   "source": [
    "games_df.loc[games_df['user_score'] == 'tbd', 'user_score'] = np.nan #заменяем аббревиатуру 'tbd' в столбце 'user_score' на пропуск\n",
    "games_df['user_score'] = games_df['user_score'].astype('float') #приводим столбец 'user_score' к типу float\n",
    "games_df.info()"
   ]
  },
  {
   "cell_type": "code",
   "execution_count": 13,
   "metadata": {},
   "outputs": [
    {
     "data": {
      "text/html": [
       "<div>\n",
       "<style scoped>\n",
       "    .dataframe tbody tr th:only-of-type {\n",
       "        vertical-align: middle;\n",
       "    }\n",
       "\n",
       "    .dataframe tbody tr th {\n",
       "        vertical-align: top;\n",
       "    }\n",
       "\n",
       "    .dataframe thead th {\n",
       "        text-align: right;\n",
       "    }\n",
       "</style>\n",
       "<table border=\"1\" class=\"dataframe\">\n",
       "  <thead>\n",
       "    <tr style=\"text-align: right;\">\n",
       "      <th></th>\n",
       "      <th>name</th>\n",
       "      <th>platform</th>\n",
       "      <th>year_of_release</th>\n",
       "      <th>genre</th>\n",
       "      <th>na_sales</th>\n",
       "      <th>eu_sales</th>\n",
       "      <th>jp_sales</th>\n",
       "      <th>other_sales</th>\n",
       "      <th>critic_score</th>\n",
       "      <th>user_score</th>\n",
       "      <th>rating</th>\n",
       "      <th>total_sales</th>\n",
       "    </tr>\n",
       "  </thead>\n",
       "  <tbody>\n",
       "    <tr>\n",
       "      <th>0</th>\n",
       "      <td>Wii Sports</td>\n",
       "      <td>Wii</td>\n",
       "      <td>2006.0</td>\n",
       "      <td>Sports</td>\n",
       "      <td>41.36</td>\n",
       "      <td>28.96</td>\n",
       "      <td>3.77</td>\n",
       "      <td>8.45</td>\n",
       "      <td>76.0</td>\n",
       "      <td>8.0</td>\n",
       "      <td>E</td>\n",
       "      <td>82.54</td>\n",
       "    </tr>\n",
       "    <tr>\n",
       "      <th>1</th>\n",
       "      <td>Super Mario Bros.</td>\n",
       "      <td>NES</td>\n",
       "      <td>1985.0</td>\n",
       "      <td>Platform</td>\n",
       "      <td>29.08</td>\n",
       "      <td>3.58</td>\n",
       "      <td>6.81</td>\n",
       "      <td>0.77</td>\n",
       "      <td>NaN</td>\n",
       "      <td>NaN</td>\n",
       "      <td>NaN</td>\n",
       "      <td>40.24</td>\n",
       "    </tr>\n",
       "    <tr>\n",
       "      <th>2</th>\n",
       "      <td>Mario Kart Wii</td>\n",
       "      <td>Wii</td>\n",
       "      <td>2008.0</td>\n",
       "      <td>Racing</td>\n",
       "      <td>15.68</td>\n",
       "      <td>12.76</td>\n",
       "      <td>3.79</td>\n",
       "      <td>3.29</td>\n",
       "      <td>82.0</td>\n",
       "      <td>8.3</td>\n",
       "      <td>E</td>\n",
       "      <td>35.52</td>\n",
       "    </tr>\n",
       "    <tr>\n",
       "      <th>3</th>\n",
       "      <td>Wii Sports Resort</td>\n",
       "      <td>Wii</td>\n",
       "      <td>2009.0</td>\n",
       "      <td>Sports</td>\n",
       "      <td>15.61</td>\n",
       "      <td>10.93</td>\n",
       "      <td>3.28</td>\n",
       "      <td>2.95</td>\n",
       "      <td>80.0</td>\n",
       "      <td>8.0</td>\n",
       "      <td>E</td>\n",
       "      <td>32.77</td>\n",
       "    </tr>\n",
       "    <tr>\n",
       "      <th>4</th>\n",
       "      <td>Pokemon Red/Pokemon Blue</td>\n",
       "      <td>GB</td>\n",
       "      <td>1996.0</td>\n",
       "      <td>Role-Playing</td>\n",
       "      <td>11.27</td>\n",
       "      <td>8.89</td>\n",
       "      <td>10.22</td>\n",
       "      <td>1.00</td>\n",
       "      <td>NaN</td>\n",
       "      <td>NaN</td>\n",
       "      <td>NaN</td>\n",
       "      <td>31.38</td>\n",
       "    </tr>\n",
       "  </tbody>\n",
       "</table>\n",
       "</div>"
      ],
      "text/plain": [
       "                       name platform  year_of_release         genre  na_sales  \\\n",
       "0                Wii Sports      Wii           2006.0        Sports     41.36   \n",
       "1         Super Mario Bros.      NES           1985.0      Platform     29.08   \n",
       "2            Mario Kart Wii      Wii           2008.0        Racing     15.68   \n",
       "3         Wii Sports Resort      Wii           2009.0        Sports     15.61   \n",
       "4  Pokemon Red/Pokemon Blue       GB           1996.0  Role-Playing     11.27   \n",
       "\n",
       "   eu_sales  jp_sales  other_sales  critic_score  user_score rating  \\\n",
       "0     28.96      3.77         8.45          76.0         8.0      E   \n",
       "1      3.58      6.81         0.77           NaN         NaN    NaN   \n",
       "2     12.76      3.79         3.29          82.0         8.3      E   \n",
       "3     10.93      3.28         2.95          80.0         8.0      E   \n",
       "4      8.89     10.22         1.00           NaN         NaN    NaN   \n",
       "\n",
       "   total_sales  \n",
       "0        82.54  \n",
       "1        40.24  \n",
       "2        35.52  \n",
       "3        32.77  \n",
       "4        31.38  "
      ]
     },
     "execution_count": 13,
     "metadata": {},
     "output_type": "execute_result"
    }
   ],
   "source": [
    "games_df['total_sales'] = games_df['na_sales'] + games_df['eu_sales'] + games_df['jp_sales'] + games_df['other_sales'] #считаем суммарные продажи во всех регионах\n",
    "games_df.head()"
   ]
  },
  {
   "cell_type": "markdown",
   "metadata": {},
   "source": [
    "На этапе подготовки данных были приведены названия столбцов к нижнему регистру, явных дубликатов не найдено, строки, содержащие пропуски в стобцах 'name' и 'genre' (2 строки), были удалены, т.к. они нерелевантны для исследования,  преобразованы типы данных в столбцах 'year_of_release', 'user_score' к типам datetime и float соответственно, т.к. в столбце 'year_of_release' указан год выпуска игры, а в столбце 'user_score' пользовательский рейтинг - числовое значение с плавающей точкой, помимо этого, в этом столбце есть строковое значение (2424 строки) - аббревиатура 'tbd' - подлежит уточнению. Принято решение заменить его на пустую строку, т.к. эта информация не нужна для исследования, а замена позволит привести тип данных столбца к float. В остальных столбцах пропуски не были обработаны (аналитик решил что в этом нет смысла, потому что их замена любой статистикой, в особенности когда пропусков много, может повлиять на выводы исследования). Основная масса пропусков лежит в трех столбцах: 'critic_score', 'user_score', 'rating' - все эти столбцы заполняются вручную (так сказать, экпертным мнением), в виду того что это оценки игр -> основная причина пропусков, на мой взгяд, в том, что не всем играм выставлялись рейтинг/оценки, в особенности непопулярным (с малым кол-вом продаж). Были подсчитаны суммарные продажи и записаны в отдельный столбец 'total_sales'."
   ]
  },
  {
   "cell_type": "code",
   "execution_count": 14,
   "metadata": {},
   "outputs": [
    {
     "name": "stdout",
     "output_type": "stream",
     "text": [
      "<class 'pandas.core.frame.DataFrame'>\n",
      "Int64Index: 16712 entries, 0 to 16714\n",
      "Data columns (total 12 columns):\n",
      " #   Column           Non-Null Count  Dtype  \n",
      "---  ------           --------------  -----  \n",
      " 0   name             16712 non-null  object \n",
      " 1   platform         16712 non-null  object \n",
      " 2   year_of_release  16443 non-null  float64\n",
      " 3   genre            16712 non-null  object \n",
      " 4   na_sales         16712 non-null  float64\n",
      " 5   eu_sales         16712 non-null  float64\n",
      " 6   jp_sales         16712 non-null  float64\n",
      " 7   other_sales      16712 non-null  float64\n",
      " 8   critic_score     8136 non-null   float64\n",
      " 9   user_score       7589 non-null   float64\n",
      " 10  rating           9948 non-null   object \n",
      " 11  total_sales      16712 non-null  float64\n",
      "dtypes: float64(8), object(4)\n",
      "memory usage: 1.7+ MB\n",
      "None\n",
      "-------------------------\n",
      "name [' Beyblade Burst' ' Fire Emblem Fates' \" Frozen: Olaf's Quest\" ...\n",
      " 'uDraw Studio: Instant Artist' 'wwe Smackdown vs. Raw 2006'\n",
      " '¡Shin Chan Flipa en colores!']\n",
      "name : кол-во NaN 0 , процент NaN 0.0 %\n",
      "-------------------------\n",
      "platform ['2600' '3DO' '3DS' 'DC' 'DS' 'GB' 'GBA' 'GC' 'GEN' 'GG' 'N64' 'NES' 'NG'\n",
      " 'PC' 'PCFX' 'PS' 'PS2' 'PS3' 'PS4' 'PSP' 'PSV' 'SAT' 'SCD' 'SNES' 'TG16'\n",
      " 'WS' 'Wii' 'WiiU' 'X360' 'XB' 'XOne']\n",
      "platform : кол-во NaN 0 , процент NaN 0.0 %\n",
      "-------------------------\n",
      "year_of_release [1980. 1981. 1982. 1983. 1984. 1985. 1986. 1987. 1988. 1989. 1990. 1991.\n",
      " 1992. 1993. 1994. 1995. 1996. 1997. 1998. 1999. 2000. 2001. 2002. 2003.\n",
      " 2004. 2005. 2006. 2007. 2008. 2009. 2010. 2011. 2012. 2013. 2014. 2015.\n",
      " 2016.   nan]\n",
      "year_of_release : кол-во NaN 269 , процент NaN 1.61 %\n",
      "-------------------------\n",
      "genre ['Action' 'Adventure' 'Fighting' 'Misc' 'Platform' 'Puzzle' 'Racing'\n",
      " 'Role-Playing' 'Shooter' 'Simulation' 'Sports' 'Strategy']\n",
      "genre : кол-во NaN 0 , процент NaN 0.0 %\n",
      "-------------------------\n",
      "critic_score [13. 17. 19. 20. 21. 22. 23. 24. 25. 26. 27. 28. 29. 30. 31. 32. 33. 34.\n",
      " 35. 36. 37. 38. 39. 40. 41. 42. 43. 44. 45. 46. 47. 48. 49. 50. 51. 52.\n",
      " 53. 54. 55. 56. 57. 58. 59. 60. 61. 62. 63. 64. 65. 66. 67. 68. 69. 70.\n",
      " 71. 72. 73. 74. 75. 76. 77. 78. 79. 80. 81. 82. 83. 84. 85. 86. 87. 88.\n",
      " 89. 90. 91. 92. 93. 94. 95. 96. 97. 98. nan]\n",
      "critic_score : кол-во NaN 8576 , процент NaN 51.32 %\n",
      "-------------------------\n",
      "user_score [0.  0.2 0.3 0.5 0.6 0.7 0.9 1.  1.1 1.2 1.3 1.4 1.5 1.6 1.7 1.8 1.9 2.\n",
      " 2.1 2.2 2.3 2.4 2.5 2.6 2.7 2.8 2.9 3.  3.1 3.2 3.3 3.4 3.5 3.6 3.7 3.8\n",
      " 3.9 4.  4.1 4.2 4.3 4.4 4.5 4.6 4.7 4.8 4.9 5.  5.1 5.2 5.3 5.4 5.5 5.6\n",
      " 5.7 5.8 5.9 6.  6.1 6.2 6.3 6.4 6.5 6.6 6.7 6.8 6.9 7.  7.1 7.2 7.3 7.4\n",
      " 7.5 7.6 7.7 7.8 7.9 8.  8.1 8.2 8.3 8.4 8.5 8.6 8.7 8.8 8.9 9.  9.1 9.2\n",
      " 9.3 9.4 9.5 9.6 9.7 nan]\n",
      "user_score : кол-во NaN 9123 , процент NaN 54.59 %\n",
      "-------------------------\n",
      "rating ['AO' 'E' 'E10+' 'EC' 'K-A' 'M' 'RP' 'T' nan]\n",
      "rating : кол-во NaN 6764 , процент NaN 40.47 %\n"
     ]
    }
   ],
   "source": [
    "# Комментарий ревьюера\n",
    "# Посмотрим, что осталось\n",
    "temp = games_df.copy() \n",
    "list_c = ['name', 'platform', 'year_of_release', 'genre', 'critic_score', 'user_score', 'rating']\n",
    "print(temp.info())\n",
    "for col_l in list_c:\n",
    "  print('-'* 25)\n",
    "  print(col_l, temp[col_l].sort_values().unique())\n",
    "  print(col_l,': кол-во NaN',temp[col_l].isna().sum(),\n",
    "        ', процент NaN', round(temp[col_l].isna().mean()*100,2),'%') "
   ]
  },
  {
   "cell_type": "markdown",
   "metadata": {},
   "source": [
    "## Исследовательский анализ данных"
   ]
  },
  {
   "cell_type": "markdown",
   "metadata": {},
   "source": [
    "### Распределение количества выпущенных игр по годам"
   ]
  },
  {
   "cell_type": "code",
   "execution_count": 15,
   "metadata": {},
   "outputs": [
    {
     "data": {
      "text/plain": [
       "2008.0    1427\n",
       "2009.0    1426\n",
       "2010.0    1255\n",
       "2007.0    1197\n",
       "2011.0    1136\n",
       "2006.0    1006\n",
       "2005.0     939\n",
       "2002.0     829\n",
       "2003.0     775\n",
       "2004.0     762\n",
       "2012.0     652\n",
       "2015.0     606\n",
       "2014.0     581\n",
       "2013.0     544\n",
       "2016.0     502\n",
       "2001.0     482\n",
       "1998.0     379\n",
       "2000.0     350\n",
       "1999.0     338\n",
       "1997.0     289\n",
       "1996.0     263\n",
       "1995.0     219\n",
       "1994.0     121\n",
       "1993.0      60\n",
       "1981.0      46\n",
       "1992.0      43\n",
       "1991.0      41\n",
       "1982.0      36\n",
       "1986.0      21\n",
       "1989.0      17\n",
       "1983.0      17\n",
       "1987.0      16\n",
       "1990.0      16\n",
       "1988.0      15\n",
       "1984.0      14\n",
       "1985.0      14\n",
       "1980.0       9\n",
       "Name: year_of_release, dtype: int64"
      ]
     },
     "execution_count": 15,
     "metadata": {},
     "output_type": "execute_result"
    }
   ],
   "source": [
    "games_df['year_of_release'].value_counts() #смотрим кол-во выпущенных игр по годам"
   ]
  },
  {
   "cell_type": "markdown",
   "metadata": {},
   "source": [
    "В 21 веке кол-во выпущенных игр значительно увеличилось по сравнению с 20 веком. Основной пик релизов пришелся на 2008-2009 года, после этого периода идет спад. Рынок видеоигр подвержен сильным изменениям (продукты этой сферы имеют склонность к быстрому устареванию), т.к. относится к сектору информационных технологий, в связи с этим считаю актуальным взять продажи за последние 10 лет."
   ]
  },
  {
   "cell_type": "markdown",
   "metadata": {},
   "source": [
    "### Продажи игр по платформам"
   ]
  },
  {
   "cell_type": "code",
   "execution_count": 16,
   "metadata": {},
   "outputs": [
    {
     "data": {
      "text/plain": [
       "platform\n",
       "PS2     1255.77\n",
       "X360     971.42\n",
       "PS3      939.65\n",
       "Wii      907.51\n",
       "DS       806.12\n",
       "PS       730.86\n",
       "GBA      317.85\n",
       "PS4      314.14\n",
       "PSP      294.05\n",
       "PC       259.52\n",
       "3DS      259.00\n",
       "XB       257.74\n",
       "GB       255.46\n",
       "NES      251.05\n",
       "N64      218.68\n",
       "SNES     200.04\n",
       "GC       198.93\n",
       "XOne     159.32\n",
       "2600      96.98\n",
       "WiiU      82.19\n",
       "PSV       54.07\n",
       "SAT       33.59\n",
       "GEN       28.35\n",
       "DC        15.95\n",
       "SCD        1.86\n",
       "NG         1.44\n",
       "WS         1.42\n",
       "TG16       0.16\n",
       "3DO        0.10\n",
       "GG         0.04\n",
       "PCFX       0.03\n",
       "Name: total_sales, dtype: float64"
      ]
     },
     "execution_count": 16,
     "metadata": {},
     "output_type": "execute_result"
    }
   ],
   "source": [
    "games_df.groupby('platform')['total_sales'].sum().sort_values(ascending=False) #топ платформ по суммарным продажам"
   ]
  },
  {
   "cell_type": "markdown",
   "metadata": {},
   "source": [
    "Топ-5 платформ по суммарным продажам: PS2, X360, PS3, Wii, DS"
   ]
  },
  {
   "cell_type": "markdown",
   "metadata": {},
   "source": [
    "#### Продажи по годам на топ-5 платформ по объему игр"
   ]
  },
  {
   "cell_type": "code",
   "execution_count": 17,
   "metadata": {},
   "outputs": [
    {
     "data": {
      "image/png": "[encoded data removed]",
      "text/plain": [
       "<Figure size 432x288 with 1 Axes>"
      ]
     },
     "metadata": {
      "needs_background": "light"
     },
     "output_type": "display_data"
    }
   ],
   "source": [
    "games_df.query('platform == \"PS2\"').groupby('year_of_release')['total_sales'].sum().plot.bar(title='кол-во проданных игр на PS2, млн. копий', xlabel='год', ylabel='млн. копий')\n",
    "plt.show()"
   ]
  },
  {
   "cell_type": "code",
   "execution_count": 19,
   "metadata": {},
   "outputs": [
    {
     "data": {
      "text/plain": [
       "<AxesSubplot:title={'center':'кол-во проданных игр на PS3, млн. копий'}, xlabel='год', ylabel='млн. копий'>"
      ]
     },
     "execution_count": 19,
     "metadata": {},
     "output_type": "execute_result"
    },
    {
     "data": {
      "image/png": "[encoded data removed]",
      "text/plain": [
       "<Figure size 432x288 with 1 Axes>"
      ]
     },
     "metadata": {
      "needs_background": "light"
     },
     "output_type": "display_data"
    }
   ],
   "source": [
    "games_df.query('platform == \"PS3\"').groupby('year_of_release')['total_sales'].sum().plot.bar(title='кол-во проданных игр на PS3, млн. копий', xlabel='год', ylabel='млн. копий')"
   ]
  },
  {
   "cell_type": "code",
   "execution_count": 20,
   "metadata": {},
   "outputs": [
    {
     "data": {
      "text/plain": [
       "<AxesSubplot:title={'center':'кол-во проданных игр на Wii, млн. копий'}, xlabel='год', ylabel='млн. копий'>"
      ]
     },
     "execution_count": 20,
     "metadata": {},
     "output_type": "execute_result"
    },
    {
     "data": {
      "image/png": "[encoded data removed]",
      "text/plain": [
       "<Figure size 432x288 with 1 Axes>"
      ]
     },
     "metadata": {
      "needs_background": "light"
     },
     "output_type": "display_data"
    }
   ],
   "source": [
    "games_df.query('platform == \"Wii\"').groupby('year_of_release')['total_sales'].sum().plot.bar(title='кол-во проданных игр на Wii, млн. копий', xlabel='год', ylabel='млн. копий')"
   ]
  },
  {
   "cell_type": "code",
   "execution_count": 21,
   "metadata": {},
   "outputs": [
    {
     "data": {
      "text/plain": [
       "<AxesSubplot:title={'center':'кол-во проданных игр на DS, млн. копий'}, xlabel='год', ylabel='млн. копий'>"
      ]
     },
     "execution_count": 21,
     "metadata": {},
     "output_type": "execute_result"
    },
    {
     "data": {
      "image/png": "[encoded data removed]",
      "text/plain": [
       "<Figure size 432x288 with 1 Axes>"
      ]
     },
     "metadata": {
      "needs_background": "light"
     },
     "output_type": "display_data"
    }
   ],
   "source": [
    "games_df.query('platform == \"DS\"').groupby('year_of_release')['total_sales'].sum().plot.bar(title='кол-во проданных игр на DS, млн. копий', xlabel='год', ylabel='млн. копий')"
   ]
  },
  {
   "cell_type": "markdown",
   "metadata": {},
   "source": [
    "Тут найдена ошибка: в 1985 году платформы DS еще не существовало, однако на диаграмме видим что есть продажи"
   ]
  },
  {
   "cell_type": "code",
   "execution_count": 22,
   "metadata": {},
   "outputs": [
    {
     "data": {
      "text/html": [
       "<div>\n",
       "<style scoped>\n",
       "    .dataframe tbody tr th:only-of-type {\n",
       "        vertical-align: middle;\n",
       "    }\n",
       "\n",
       "    .dataframe tbody tr th {\n",
       "        vertical-align: top;\n",
       "    }\n",
       "\n",
       "    .dataframe thead th {\n",
       "        text-align: right;\n",
       "    }\n",
       "</style>\n",
       "<table border=\"1\" class=\"dataframe\">\n",
       "  <thead>\n",
       "    <tr style=\"text-align: right;\">\n",
       "      <th></th>\n",
       "      <th>name</th>\n",
       "      <th>platform</th>\n",
       "      <th>year_of_release</th>\n",
       "      <th>genre</th>\n",
       "      <th>na_sales</th>\n",
       "      <th>eu_sales</th>\n",
       "      <th>jp_sales</th>\n",
       "      <th>other_sales</th>\n",
       "      <th>critic_score</th>\n",
       "      <th>user_score</th>\n",
       "      <th>rating</th>\n",
       "      <th>total_sales</th>\n",
       "    </tr>\n",
       "  </thead>\n",
       "  <tbody>\n",
       "    <tr>\n",
       "      <th>15957</th>\n",
       "      <td>Strongest Tokyo University Shogi DS</td>\n",
       "      <td>DS</td>\n",
       "      <td>1985.0</td>\n",
       "      <td>Action</td>\n",
       "      <td>0.0</td>\n",
       "      <td>0.0</td>\n",
       "      <td>0.02</td>\n",
       "      <td>0.0</td>\n",
       "      <td>NaN</td>\n",
       "      <td>NaN</td>\n",
       "      <td>NaN</td>\n",
       "      <td>0.02</td>\n",
       "    </tr>\n",
       "  </tbody>\n",
       "</table>\n",
       "</div>"
      ],
      "text/plain": [
       "                                      name platform  year_of_release   genre  \\\n",
       "15957  Strongest Tokyo University Shogi DS       DS           1985.0  Action   \n",
       "\n",
       "       na_sales  eu_sales  jp_sales  other_sales  critic_score  user_score  \\\n",
       "15957       0.0       0.0      0.02          0.0           NaN         NaN   \n",
       "\n",
       "      rating  total_sales  \n",
       "15957    NaN         0.02  "
      ]
     },
     "execution_count": 22,
     "metadata": {},
     "output_type": "execute_result"
    }
   ],
   "source": [
    "games_df.query('platform == \"DS\" and year_of_release == 1985')"
   ]
  },
  {
   "cell_type": "markdown",
   "metadata": {},
   "source": [
    "#### Срок актуальности платформы"
   ]
  },
  {
   "cell_type": "markdown",
   "metadata": {},
   "source": [
    "~Исходя из графиков распределения продаж по годам на топ-5 платформах можно сделать вывод, что в среднем срок актуальности платформы составляет 9-10 лет, после этого платформа устаревает.~"
   ]
  },
  {
   "cell_type": "code",
   "execution_count": 23,
   "metadata": {},
   "outputs": [
    {
     "data": {
      "text/plain": [
       "7.0"
      ]
     },
     "execution_count": 23,
     "metadata": {},
     "output_type": "execute_result"
    }
   ],
   "source": [
    "time_life = games_df.pivot_table(index='platform', values='year_of_release', aggfunc=['min', 'max']).reset_index()\n",
    "time_life['life'] = time_life['max'] - time_life['min'] + 1\n",
    "\n",
    "time_life['life'].median()"
   ]
  },
  {
   "cell_type": "markdown",
   "metadata": {},
   "source": [
    "Срок жизни игровой платформы в среднем составляет 7 лет"
   ]
  },
  {
   "cell_type": "code",
   "execution_count": 24,
   "metadata": {},
   "outputs": [
    {
     "data": {
      "text/plain": [
       "7.0"
      ]
     },
     "execution_count": 24,
     "metadata": {},
     "output_type": "execute_result"
    }
   ],
   "source": [
    "# Комментарий ревьюера\n",
    "temp = pd.read_csv('https://code.s3.yandex.net/datasets/games.csv')\n",
    "temp.columns = temp.columns.str.lower()\n",
    "temp.year_of_release = temp.year_of_release.astype('Int64')\n",
    "\n",
    "time_life = temp.pivot_table(index='platform', values='year_of_release', aggfunc=['min', 'max']).reset_index()\n",
    "time_life['life'] = time_life['max'] - time_life['min'] + 1 # в срок жизни платформы, должны входить границы диапазона, \n",
    "                                                            # поэтому +1\n",
    "time_life['life'].median()"
   ]
  },
  {
   "cell_type": "markdown",
   "metadata": {},
   "source": [
    "### Подготовка данных за актуальный период"
   ]
  },
  {
   "cell_type": "code",
   "execution_count": 25,
   "metadata": {},
   "outputs": [
    {
     "data": {
      "text/html": [
       "<div>\n",
       "<style scoped>\n",
       "    .dataframe tbody tr th:only-of-type {\n",
       "        vertical-align: middle;\n",
       "    }\n",
       "\n",
       "    .dataframe tbody tr th {\n",
       "        vertical-align: top;\n",
       "    }\n",
       "\n",
       "    .dataframe thead th {\n",
       "        text-align: right;\n",
       "    }\n",
       "</style>\n",
       "<table border=\"1\" class=\"dataframe\">\n",
       "  <thead>\n",
       "    <tr style=\"text-align: right;\">\n",
       "      <th></th>\n",
       "      <th>name</th>\n",
       "      <th>platform</th>\n",
       "      <th>year_of_release</th>\n",
       "      <th>genre</th>\n",
       "      <th>na_sales</th>\n",
       "      <th>eu_sales</th>\n",
       "      <th>jp_sales</th>\n",
       "      <th>other_sales</th>\n",
       "      <th>critic_score</th>\n",
       "      <th>user_score</th>\n",
       "      <th>rating</th>\n",
       "      <th>total_sales</th>\n",
       "    </tr>\n",
       "  </thead>\n",
       "  <tbody>\n",
       "    <tr>\n",
       "      <th>16</th>\n",
       "      <td>Grand Theft Auto V</td>\n",
       "      <td>PS3</td>\n",
       "      <td>2013.0</td>\n",
       "      <td>Action</td>\n",
       "      <td>7.02</td>\n",
       "      <td>9.09</td>\n",
       "      <td>0.98</td>\n",
       "      <td>3.96</td>\n",
       "      <td>97.0</td>\n",
       "      <td>8.2</td>\n",
       "      <td>M</td>\n",
       "      <td>21.05</td>\n",
       "    </tr>\n",
       "    <tr>\n",
       "      <th>23</th>\n",
       "      <td>Grand Theft Auto V</td>\n",
       "      <td>X360</td>\n",
       "      <td>2013.0</td>\n",
       "      <td>Action</td>\n",
       "      <td>9.66</td>\n",
       "      <td>5.14</td>\n",
       "      <td>0.06</td>\n",
       "      <td>1.41</td>\n",
       "      <td>97.0</td>\n",
       "      <td>8.1</td>\n",
       "      <td>M</td>\n",
       "      <td>16.27</td>\n",
       "    </tr>\n",
       "    <tr>\n",
       "      <th>31</th>\n",
       "      <td>Call of Duty: Black Ops 3</td>\n",
       "      <td>PS4</td>\n",
       "      <td>2015.0</td>\n",
       "      <td>Shooter</td>\n",
       "      <td>6.03</td>\n",
       "      <td>5.86</td>\n",
       "      <td>0.36</td>\n",
       "      <td>2.38</td>\n",
       "      <td>NaN</td>\n",
       "      <td>NaN</td>\n",
       "      <td>NaN</td>\n",
       "      <td>14.63</td>\n",
       "    </tr>\n",
       "    <tr>\n",
       "      <th>33</th>\n",
       "      <td>Pokemon X/Pokemon Y</td>\n",
       "      <td>3DS</td>\n",
       "      <td>2013.0</td>\n",
       "      <td>Role-Playing</td>\n",
       "      <td>5.28</td>\n",
       "      <td>4.19</td>\n",
       "      <td>4.35</td>\n",
       "      <td>0.78</td>\n",
       "      <td>NaN</td>\n",
       "      <td>NaN</td>\n",
       "      <td>NaN</td>\n",
       "      <td>14.60</td>\n",
       "    </tr>\n",
       "    <tr>\n",
       "      <th>34</th>\n",
       "      <td>Call of Duty: Black Ops II</td>\n",
       "      <td>PS3</td>\n",
       "      <td>2012.0</td>\n",
       "      <td>Shooter</td>\n",
       "      <td>4.99</td>\n",
       "      <td>5.73</td>\n",
       "      <td>0.65</td>\n",
       "      <td>2.42</td>\n",
       "      <td>83.0</td>\n",
       "      <td>5.3</td>\n",
       "      <td>M</td>\n",
       "      <td>13.79</td>\n",
       "    </tr>\n",
       "  </tbody>\n",
       "</table>\n",
       "</div>"
      ],
      "text/plain": [
       "                          name platform  year_of_release         genre  \\\n",
       "16          Grand Theft Auto V      PS3           2013.0        Action   \n",
       "23          Grand Theft Auto V     X360           2013.0        Action   \n",
       "31   Call of Duty: Black Ops 3      PS4           2015.0       Shooter   \n",
       "33         Pokemon X/Pokemon Y      3DS           2013.0  Role-Playing   \n",
       "34  Call of Duty: Black Ops II      PS3           2012.0       Shooter   \n",
       "\n",
       "    na_sales  eu_sales  jp_sales  other_sales  critic_score  user_score  \\\n",
       "16      7.02      9.09      0.98         3.96          97.0         8.2   \n",
       "23      9.66      5.14      0.06         1.41          97.0         8.1   \n",
       "31      6.03      5.86      0.36         2.38           NaN         NaN   \n",
       "33      5.28      4.19      4.35         0.78           NaN         NaN   \n",
       "34      4.99      5.73      0.65         2.42          83.0         5.3   \n",
       "\n",
       "   rating  total_sales  \n",
       "16      M        21.05  \n",
       "23      M        16.27  \n",
       "31    NaN        14.63  \n",
       "33    NaN        14.60  \n",
       "34      M        13.79  "
      ]
     },
     "metadata": {},
     "output_type": "display_data"
    },
    {
     "name": "stdout",
     "output_type": "stream",
     "text": [
      "<class 'pandas.core.frame.DataFrame'>\n",
      "Int64Index: 2885 entries, 16 to 16714\n",
      "Data columns (total 12 columns):\n",
      " #   Column           Non-Null Count  Dtype  \n",
      "---  ------           --------------  -----  \n",
      " 0   name             2885 non-null   object \n",
      " 1   platform         2885 non-null   object \n",
      " 2   year_of_release  2885 non-null   float64\n",
      " 3   genre            2885 non-null   object \n",
      " 4   na_sales         2885 non-null   float64\n",
      " 5   eu_sales         2885 non-null   float64\n",
      " 6   jp_sales         2885 non-null   float64\n",
      " 7   other_sales      2885 non-null   float64\n",
      " 8   critic_score     1311 non-null   float64\n",
      " 9   user_score       1530 non-null   float64\n",
      " 10  rating           1610 non-null   object \n",
      " 11  total_sales      2885 non-null   float64\n",
      "dtypes: float64(8), object(4)\n",
      "memory usage: 293.0+ KB\n"
     ]
    }
   ],
   "source": [
    "#rel_games_df = games_df.query('year_of_release > 2005') #создаем датафрейм с релизом игр после 2005 года\n",
    "rel_games_df = games_df.query('year_of_release > 2011')\n",
    "display(rel_games_df.head())\n",
    "rel_games_df.info()"
   ]
  },
  {
   "cell_type": "markdown",
   "metadata": {},
   "source": [
    "### Топ платформ за актуальный период"
   ]
  },
  {
   "cell_type": "code",
   "execution_count": 26,
   "metadata": {},
   "outputs": [
    {
     "data": {
      "text/plain": [
       "platform\n",
       "PS4     314.14\n",
       "PS3     288.79\n",
       "X360    236.54\n",
       "3DS     194.61\n",
       "XOne    159.32\n",
       "WiiU     82.19\n",
       "PC       62.65\n",
       "PSV      49.18\n",
       "Wii      35.37\n",
       "DS       12.55\n",
       "PSP      11.19\n",
       "Name: total_sales, dtype: float64"
      ]
     },
     "execution_count": 26,
     "metadata": {},
     "output_type": "execute_result"
    }
   ],
   "source": [
    "rel_games_df.groupby('platform')['total_sales'].sum().sort_values(ascending=False) #топ платформ по продажам за актуальный период"
   ]
  },
  {
   "cell_type": "code",
   "execution_count": 27,
   "metadata": {
    "scrolled": false
   },
   "outputs": [
    {
     "data": {
      "image/png": "[encoded data removed]",
      "text/plain": [
       "<Figure size 432x288 with 1 Axes>"
      ]
     },
     "metadata": {
      "needs_background": "light"
     },
     "output_type": "display_data"
    },
    {
     "data": {
      "image/png": "[encoded data removed]",
      "text/plain": [
       "<Figure size 432x288 with 1 Axes>"
      ]
     },
     "metadata": {
      "needs_background": "light"
     },
     "output_type": "display_data"
    },
    {
     "data": {
      "image/png": "[encoded data removed]",
      "text/plain": [
       "<Figure size 432x288 with 1 Axes>"
      ]
     },
     "metadata": {
      "needs_background": "light"
     },
     "output_type": "display_data"
    },
    {
     "data": {
      "image/png": "[encoded data removed]",
      "text/plain": [
       "<Figure size 432x288 with 1 Axes>"
      ]
     },
     "metadata": {
      "needs_background": "light"
     },
     "output_type": "display_data"
    },
    {
     "data": {
      "image/png": "[encoded data removed]",
      "text/plain": [
       "<Figure size 432x288 with 1 Axes>"
      ]
     },
     "metadata": {
      "needs_background": "light"
     },
     "output_type": "display_data"
    },
    {
     "data": {
      "image/png": "[encoded data removed]",
      "text/plain": [
       "<Figure size 432x288 with 1 Axes>"
      ]
     },
     "metadata": {
      "needs_background": "light"
     },
     "output_type": "display_data"
    },
    {
     "data": {
      "image/png": "[encoded data removed]",
      "text/plain": [
       "<Figure size 432x288 with 1 Axes>"
      ]
     },
     "metadata": {
      "needs_background": "light"
     },
     "output_type": "display_data"
    },
    {
     "data": {
      "image/png": "[encoded data removed]",
      "text/plain": [
       "<Figure size 432x288 with 1 Axes>"
      ]
     },
     "metadata": {
      "needs_background": "light"
     },
     "output_type": "display_data"
    },
    {
     "data": {
      "image/png": "[encoded data removed]",
      "text/plain": [
       "<Figure size 432x288 with 1 Axes>"
      ]
     },
     "metadata": {
      "needs_background": "light"
     },
     "output_type": "display_data"
    },
    {
     "data": {
      "image/png": "[encoded data removed]",
      "text/plain": [
       "<Figure size 432x288 with 1 Axes>"
      ]
     },
     "metadata": {
      "needs_background": "light"
     },
     "output_type": "display_data"
    },
    {
     "data": {
      "image/png": "[encoded data removed]",
      "text/plain": [
       "<Figure size 432x288 with 1 Axes>"
      ]
     },
     "metadata": {
      "needs_background": "light"
     },
     "output_type": "display_data"
    }
   ],
   "source": [
    "pivot_platform = rel_games_df.pivot_table(index=['platform', 'year_of_release'], values='total_sales', aggfunc='sum') #создаем сводную таблицу сгруппированную по платформе и году релиза игр со значениями общих продаж, чтобы определить потенциально прибыльные платформы\n",
    "pivot_platform.reset_index(inplace=True)\n",
    "for name, group in pivot_platform.groupby('platform'):\n",
    "    group.plot(x='year_of_release', y='total_sales', kind='bar') #строим столбчатые диаграммы для каждой платформы\n",
    "    plt.title(name)\n",
    "    plt.xlabel('год')\n",
    "    plt.ylabel('млн. копий')"
   ]
  },
  {
   "cell_type": "markdown",
   "metadata": {},
   "source": [
    "Как видно из столбчатых диграмм в фазе роста (2016 не берем в расчет, так как данные за этот год получены не полностью) находятся только две платформы - PS4 и XOne, отстальные либо уже утратили актуальность, либо находятся в фазе падения продаж"
   ]
  },
  {
   "cell_type": "markdown",
   "metadata": {},
   "source": [
    "### Глобальные продажи игр в разбивке по платформам за актуальный период"
   ]
  },
  {
   "cell_type": "markdown",
   "metadata": {},
   "source": [
    "Для оценки глобальных продаж используем диаграмму размаха"
   ]
  },
  {
   "cell_type": "code",
   "execution_count": 28,
   "metadata": {},
   "outputs": [
    {
     "data": {
      "text/plain": [
       "(0.0, 2.0)"
      ]
     },
     "execution_count": 28,
     "metadata": {},
     "output_type": "execute_result"
    },
    {
     "data": {
      "image/png": "[encoded data removed]",
      "text/plain": [
       "<Figure size 720x720 with 1 Axes>"
      ]
     },
     "metadata": {
      "needs_background": "light"
     },
     "output_type": "display_data"
    }
   ],
   "source": [
    "sns.catplot(x='platform', y='total_sales', data=rel_games_df, kind='box', height=10)\n",
    "plt.title('продажи за 2012-2016 гг. по платформам')\n",
    "plt.xlabel('платформа')\n",
    "plt.ylabel('млн копий')\n",
    "plt.ylim(0, 2)"
   ]
  },
  {
   "cell_type": "markdown",
   "metadata": {},
   "source": [
    "На диаграммах размаха можно увидеть, что в большинстве своем продажи игр не превышают 2 млн копий, однако есть очень популярные игры с продажами в десятки миллионов."
   ]
  },
  {
   "cell_type": "markdown",
   "metadata": {},
   "source": [
    "### Оценка влияния отзывов пользователей и критиков на продажи внутри платформы"
   ]
  },
  {
   "cell_type": "markdown",
   "metadata": {},
   "source": [
    "Для примера возьмем платформу X360"
   ]
  },
  {
   "cell_type": "code",
   "execution_count": 29,
   "metadata": {},
   "outputs": [],
   "source": [
    "x360_sales = rel_games_df.query('platform == \"X360\"') #создаем отдельный датафрейм с выбранной платформой"
   ]
  },
  {
   "cell_type": "code",
   "execution_count": 30,
   "metadata": {},
   "outputs": [
    {
     "data": {
      "text/plain": [
       "0.006163978646213326"
      ]
     },
     "execution_count": 30,
     "metadata": {},
     "output_type": "execute_result"
    },
    {
     "data": {
      "image/png": "[encoded data removed]",
      "text/plain": [
       "<Figure size 432x288 with 1 Axes>"
      ]
     },
     "metadata": {
      "needs_background": "light"
     },
     "output_type": "display_data"
    }
   ],
   "source": [
    "x360_sales.plot(x='user_score', y='total_sales', kind='scatter', title='влияние оценок пользователей на продажи (X360)', xlabel='оценка пользователей', ylabel='млн. копий') #строим диаграмму рассеивания\n",
    "plt.xlim(0, 10)\n",
    "plt.ylim(0, 2)\n",
    "x360_sales['user_score'].corr(x360_sales['total_sales']) #считаем коэф. корреляции"
   ]
  },
  {
   "cell_type": "code",
   "execution_count": 31,
   "metadata": {},
   "outputs": [
    {
     "data": {
      "text/plain": [
       "0.3605734888507336"
      ]
     },
     "execution_count": 31,
     "metadata": {},
     "output_type": "execute_result"
    },
    {
     "data": {
      "image/png": "[encoded data removed]",
      "text/plain": [
       "<Figure size 432x288 with 1 Axes>"
      ]
     },
     "metadata": {
      "needs_background": "light"
     },
     "output_type": "display_data"
    }
   ],
   "source": [
    "x360_sales.plot(x='critic_score', y='total_sales', kind='scatter', title='влияние оценок критиков на продажи (X360)', xlabel='оценка критиков', ylabel='млн. копий') #строим диаграмму рассеивания\n",
    "plt.xlim(0, 100)\n",
    "plt.ylim(0, 2)\n",
    "x360_sales['critic_score'].corr(x360_sales['total_sales']) #считаем коэф. корреляции"
   ]
  },
  {
   "cell_type": "markdown",
   "metadata": {},
   "source": [
    "Как видим из диаграмм рассеяния корреляции между отзывами пользователей и продажами на платформе X360 нет (коэф. корреляции 0,006), а взаимосвязь между оценками критиков и продажами прослеживается (коэф. корреляции 0,36)."
   ]
  },
  {
   "cell_type": "markdown",
   "metadata": {},
   "source": [
    "### Соотнесение выводов с продажами на других платформах"
   ]
  },
  {
   "cell_type": "markdown",
   "metadata": {},
   "source": [
    "Построим графики рассеивания еще для нескольких популярных платформ"
   ]
  },
  {
   "cell_type": "code",
   "execution_count": 32,
   "metadata": {
    "scrolled": false
   },
   "outputs": [
    {
     "data": {
      "image/png": "[encoded data removed]",
      "text/plain": [
       "<Figure size 432x288 with 1 Axes>"
      ]
     },
     "metadata": {
      "needs_background": "light"
     },
     "output_type": "display_data"
    },
    {
     "name": "stdout",
     "output_type": "stream",
     "text": [
      "коэф. корреляции оценки пользователей - продажи: -0.031957110204556376\n"
     ]
    },
    {
     "data": {
      "image/png": "[encoded data removed]",
      "text/plain": [
       "<Figure size 432x288 with 1 Axes>"
      ]
     },
     "metadata": {
      "needs_background": "light"
     },
     "output_type": "display_data"
    },
    {
     "name": "stdout",
     "output_type": "stream",
     "text": [
      "коэф. корреляции оценки критиков - продажи: 0.40656790206178095\n"
     ]
    },
    {
     "data": {
      "image/png": "[encoded data removed]",
      "text/plain": [
       "<Figure size 432x288 with 1 Axes>"
      ]
     },
     "metadata": {
      "needs_background": "light"
     },
     "output_type": "display_data"
    },
    {
     "name": "stdout",
     "output_type": "stream",
     "text": [
      "коэф. корреляции оценки пользователей - продажи: -0.006217851960559279\n"
     ]
    },
    {
     "data": {
      "image/png": "[encoded data removed]",
      "text/plain": [
       "<Figure size 432x288 with 1 Axes>"
      ]
     },
     "metadata": {
      "needs_background": "light"
     },
     "output_type": "display_data"
    },
    {
     "name": "stdout",
     "output_type": "stream",
     "text": [
      "коэф. корреляции оценки критиков - продажи: 0.33416558787023765\n"
     ]
    },
    {
     "data": {
      "image/png": "[encoded data removed]",
      "text/plain": [
       "<Figure size 432x288 with 1 Axes>"
      ]
     },
     "metadata": {
      "needs_background": "light"
     },
     "output_type": "display_data"
    },
    {
     "name": "stdout",
     "output_type": "stream",
     "text": [
      "коэф. корреляции оценки пользователей - продажи: 0.006163978646213326\n"
     ]
    },
    {
     "data": {
      "image/png": "[encoded data removed]",
      "text/plain": [
       "<Figure size 432x288 with 1 Axes>"
      ]
     },
     "metadata": {
      "needs_background": "light"
     },
     "output_type": "display_data"
    },
    {
     "name": "stdout",
     "output_type": "stream",
     "text": [
      "коэф. корреляции оценки критиков - продажи: 0.3605734888507336\n"
     ]
    },
    {
     "data": {
      "image/png": "[encoded data removed]",
      "text/plain": [
       "<Figure size 432x288 with 1 Axes>"
      ]
     },
     "metadata": {
      "needs_background": "light"
     },
     "output_type": "display_data"
    },
    {
     "name": "stdout",
     "output_type": "stream",
     "text": [
      "коэф. корреляции оценки пользователей - продажи: 0.19758263411038599\n"
     ]
    },
    {
     "data": {
      "image/png": "[encoded data removed]",
      "text/plain": [
       "<Figure size 432x288 with 1 Axes>"
      ]
     },
     "metadata": {
      "needs_background": "light"
     },
     "output_type": "display_data"
    },
    {
     "name": "stdout",
     "output_type": "stream",
     "text": [
      "коэф. корреляции оценки критиков - продажи: 0.3208028695360785\n"
     ]
    },
    {
     "data": {
      "image/png": "[encoded data removed]",
      "text/plain": [
       "<Figure size 432x288 with 1 Axes>"
      ]
     },
     "metadata": {
      "needs_background": "light"
     },
     "output_type": "display_data"
    },
    {
     "name": "stdout",
     "output_type": "stream",
     "text": [
      "коэф. корреляции оценки пользователей - продажи: -0.06892505328279414\n"
     ]
    },
    {
     "data": {
      "image/png": "[encoded data removed]",
      "text/plain": [
       "<Figure size 432x288 with 1 Axes>"
      ]
     },
     "metadata": {
      "needs_background": "light"
     },
     "output_type": "display_data"
    },
    {
     "name": "stdout",
     "output_type": "stream",
     "text": [
      "коэф. корреляции оценки критиков - продажи: 0.4169983280084017\n"
     ]
    },
    {
     "data": {
      "image/png": "[encoded data removed]",
      "text/plain": [
       "<Figure size 432x288 with 1 Axes>"
      ]
     },
     "metadata": {
      "needs_background": "light"
     },
     "output_type": "display_data"
    },
    {
     "name": "stdout",
     "output_type": "stream",
     "text": [
      "коэф. корреляции оценки пользователей - продажи: 0.4002190202148617\n"
     ]
    },
    {
     "data": {
      "image/png": "[encoded data removed]",
      "text/plain": [
       "<Figure size 432x288 with 1 Axes>"
      ]
     },
     "metadata": {
      "needs_background": "light"
     },
     "output_type": "display_data"
    },
    {
     "name": "stdout",
     "output_type": "stream",
     "text": [
      "коэф. корреляции оценки критиков - продажи: 0.34837976012017485\n"
     ]
    },
    {
     "data": {
      "image/png": "[encoded data removed]",
      "text/plain": [
       "<Figure size 432x288 with 1 Axes>"
      ]
     },
     "metadata": {
      "needs_background": "light"
     },
     "output_type": "display_data"
    },
    {
     "name": "stdout",
     "output_type": "stream",
     "text": [
      "коэф. корреляции оценки пользователей - продажи: -0.12186747630735577\n"
     ]
    },
    {
     "data": {
      "image/png": "[encoded data removed]",
      "text/plain": [
       "<Figure size 432x288 with 1 Axes>"
      ]
     },
     "metadata": {
      "needs_background": "light"
     },
     "output_type": "display_data"
    },
    {
     "name": "stdout",
     "output_type": "stream",
     "text": [
      "коэф. корреляции оценки критиков - продажи: 0.23724324311567915\n"
     ]
    }
   ],
   "source": [
    "rel_platform = ['PS4', 'PS3', 'X360', '3DS', 'XOne', 'WiiU', 'PC']\n",
    "for name in rel_platform:\n",
    "#for name in rel_games_df['platform'].unique():\n",
    "    rel_games_df[rel_games_df['platform'] == name].plot(x='user_score', y='total_sales', kind='scatter', xlabel='оценка пользователей', ylabel='млн. копий')\n",
    "    plt.title(f'влияние оценок пользователей на продажи, платформа {name}')\n",
    "    plt.show()\n",
    "    print('коэф. корреляции оценки пользователей - продажи:', rel_games_df[rel_games_df['platform'] == name]['user_score'].corr(rel_games_df[rel_games_df['platform'] == name]['total_sales']))\n",
    "    rel_games_df[rel_games_df['platform'] == name].plot(x='critic_score', y='total_sales', kind='scatter', xlabel='оценка критиков', ylabel='млн. копий')\n",
    "    plt.title(f'влияние оценок критиков на продажи, платформа {name}')\n",
    "    plt.show()\n",
    "    print('коэф. корреляции оценки критиков - продажи:', rel_games_df[rel_games_df['platform'] == name]['critic_score'].corr(rel_games_df[rel_games_df['platform'] == name]['total_sales']))"
   ]
  },
  {
   "cell_type": "markdown",
   "metadata": {},
   "source": [
    "~Коэф. корреляций различаются в зависимости от платформы. Вывод по платформам PS3, PS4, XOne, PS2, GC, XB аналогичен выводу для платформы изученной отдельно - X360. Для платформ Wii, DS, 3DS, PC, PSP, PSV слабо прослеживается связь с продажами как для оценок пользователей, так и для оценок критиков, но коэф. корреляции все же выше у оценок критиков. Для платформы WiiU оценки пользователей больше коррелируют (коэф. корреляции 0,4) с продажами нежели оценки критиков (коэф. корреляции 0,35). Есть же и вовсе странная ситуация для платформы GBA, а именно, прослеживается сильная обратная взаимосвязь между оценками пользователей и продажами (коэф. корреляции -0,75), при этом оценки критиков не влияют на продажи (коэф. корреляции -0,18)~"
   ]
  },
  {
   "cell_type": "markdown",
   "metadata": {},
   "source": [
    "На рассмотренных платформах прослеживается тенденция, что связи между оценками пользователей и объемами продаж нет, исключение составляет японская платформа WiiU где связь оценок пользователей с продажами даже выше, чем у оценок критиков. В других же кейсах ситуация схожа с платформой X360 рассмотренной отдельно, а именно, связь с оценками критиков есть, но она невелика"
   ]
  },
  {
   "cell_type": "markdown",
   "metadata": {},
   "source": [
    "### Общее распределение игр по жанрам"
   ]
  },
  {
   "cell_type": "markdown",
   "metadata": {},
   "source": [
    "Создаем сводную таблицу разбитую по жанрам с количественными характиристиками"
   ]
  },
  {
   "cell_type": "code",
   "execution_count": 33,
   "metadata": {},
   "outputs": [
    {
     "data": {
      "text/html": [
       "<div>\n",
       "<style scoped>\n",
       "    .dataframe tbody tr th:only-of-type {\n",
       "        vertical-align: middle;\n",
       "    }\n",
       "\n",
       "    .dataframe tbody tr th {\n",
       "        vertical-align: top;\n",
       "    }\n",
       "\n",
       "    .dataframe thead th {\n",
       "        text-align: right;\n",
       "    }\n",
       "</style>\n",
       "<table border=\"1\" class=\"dataframe\">\n",
       "  <thead>\n",
       "    <tr style=\"text-align: right;\">\n",
       "      <th></th>\n",
       "      <th>count</th>\n",
       "      <th>sum</th>\n",
       "      <th>mean</th>\n",
       "      <th>median</th>\n",
       "    </tr>\n",
       "    <tr>\n",
       "      <th>genre</th>\n",
       "      <th></th>\n",
       "      <th></th>\n",
       "      <th></th>\n",
       "      <th></th>\n",
       "    </tr>\n",
       "  </thead>\n",
       "  <tbody>\n",
       "    <tr>\n",
       "      <th>Action</th>\n",
       "      <td>1031</td>\n",
       "      <td>441.12</td>\n",
       "      <td>0.427856</td>\n",
       "      <td>0.120</td>\n",
       "    </tr>\n",
       "    <tr>\n",
       "      <th>Role-Playing</th>\n",
       "      <td>370</td>\n",
       "      <td>192.80</td>\n",
       "      <td>0.521081</td>\n",
       "      <td>0.140</td>\n",
       "    </tr>\n",
       "    <tr>\n",
       "      <th>Adventure</th>\n",
       "      <td>302</td>\n",
       "      <td>29.43</td>\n",
       "      <td>0.097450</td>\n",
       "      <td>0.030</td>\n",
       "    </tr>\n",
       "    <tr>\n",
       "      <th>Sports</th>\n",
       "      <td>267</td>\n",
       "      <td>181.07</td>\n",
       "      <td>0.678165</td>\n",
       "      <td>0.240</td>\n",
       "    </tr>\n",
       "    <tr>\n",
       "      <th>Shooter</th>\n",
       "      <td>235</td>\n",
       "      <td>304.73</td>\n",
       "      <td>1.296723</td>\n",
       "      <td>0.440</td>\n",
       "    </tr>\n",
       "    <tr>\n",
       "      <th>Misc</th>\n",
       "      <td>192</td>\n",
       "      <td>85.04</td>\n",
       "      <td>0.442917</td>\n",
       "      <td>0.120</td>\n",
       "    </tr>\n",
       "    <tr>\n",
       "      <th>Racing</th>\n",
       "      <td>115</td>\n",
       "      <td>53.50</td>\n",
       "      <td>0.465217</td>\n",
       "      <td>0.140</td>\n",
       "    </tr>\n",
       "    <tr>\n",
       "      <th>Fighting</th>\n",
       "      <td>109</td>\n",
       "      <td>44.49</td>\n",
       "      <td>0.408165</td>\n",
       "      <td>0.130</td>\n",
       "    </tr>\n",
       "    <tr>\n",
       "      <th>Platform</th>\n",
       "      <td>85</td>\n",
       "      <td>61.00</td>\n",
       "      <td>0.717647</td>\n",
       "      <td>0.210</td>\n",
       "    </tr>\n",
       "    <tr>\n",
       "      <th>Simulation</th>\n",
       "      <td>80</td>\n",
       "      <td>35.12</td>\n",
       "      <td>0.439000</td>\n",
       "      <td>0.120</td>\n",
       "    </tr>\n",
       "    <tr>\n",
       "      <th>Strategy</th>\n",
       "      <td>71</td>\n",
       "      <td>13.34</td>\n",
       "      <td>0.187887</td>\n",
       "      <td>0.080</td>\n",
       "    </tr>\n",
       "    <tr>\n",
       "      <th>Puzzle</th>\n",
       "      <td>28</td>\n",
       "      <td>4.89</td>\n",
       "      <td>0.174643</td>\n",
       "      <td>0.045</td>\n",
       "    </tr>\n",
       "  </tbody>\n",
       "</table>\n",
       "</div>"
      ],
      "text/plain": [
       "              count     sum      mean  median\n",
       "genre                                        \n",
       "Action         1031  441.12  0.427856   0.120\n",
       "Role-Playing    370  192.80  0.521081   0.140\n",
       "Adventure       302   29.43  0.097450   0.030\n",
       "Sports          267  181.07  0.678165   0.240\n",
       "Shooter         235  304.73  1.296723   0.440\n",
       "Misc            192   85.04  0.442917   0.120\n",
       "Racing          115   53.50  0.465217   0.140\n",
       "Fighting        109   44.49  0.408165   0.130\n",
       "Platform         85   61.00  0.717647   0.210\n",
       "Simulation       80   35.12  0.439000   0.120\n",
       "Strategy         71   13.34  0.187887   0.080\n",
       "Puzzle           28    4.89  0.174643   0.045"
      ]
     },
     "execution_count": 33,
     "metadata": {},
     "output_type": "execute_result"
    }
   ],
   "source": [
    "genre = rel_games_df.pivot_table(index='genre', values='total_sales', aggfunc=['count', 'sum', 'mean', 'median'])\n",
    "genre.columns = ['count', 'sum', 'mean', 'median']\n",
    "genre.sort_values(by='count', ascending=False)"
   ]
  },
  {
   "cell_type": "code",
   "execution_count": 34,
   "metadata": {},
   "outputs": [
    {
     "data": {
      "image/png": "[encoded data removed]",
      "text/plain": [
       "<Figure size 720x720 with 1 Axes>"
      ]
     },
     "metadata": {},
     "output_type": "display_data"
    }
   ],
   "source": [
    "genre.plot(y='count', kind='pie', legend=False, title='распределение игр по жанрам (кол-во в долях) за актуальный период', autopct='%.1f%%', figsize=(10, 10))\n",
    "plt.show()"
   ]
  },
  {
   "cell_type": "markdown",
   "metadata": {},
   "source": [
    "### Исследование прибыли по жанрам"
   ]
  },
  {
   "cell_type": "code",
   "execution_count": 35,
   "metadata": {},
   "outputs": [
    {
     "data": {
      "image/png": "[encoded data removed]",
      "text/plain": [
       "<Figure size 432x288 with 1 Axes>"
      ]
     },
     "metadata": {
      "needs_background": "light"
     },
     "output_type": "display_data"
    }
   ],
   "source": [
    "genre.sort_values(by='sum', ascending=False).plot(y='sum', kind='bar', title='распределение игр по жанрам (продажи) за актуальный период', xlabel='жанр', ylabel='млн. копий')\n",
    "plt.show()"
   ]
  },
  {
   "cell_type": "code",
   "execution_count": 36,
   "metadata": {},
   "outputs": [
    {
     "data": {
      "image/png": "[encoded data removed]",
      "text/plain": [
       "<Figure size 432x288 with 1 Axes>"
      ]
     },
     "metadata": {
      "needs_background": "light"
     },
     "output_type": "display_data"
    }
   ],
   "source": [
    "genre.sort_values(by='mean', ascending=False).plot(y='mean', kind='bar', title='распределение игр по жанрам (средние продажи) за актуальный период', xlabel='жанр', ylabel='млн. копий')\n",
    "plt.show()"
   ]
  },
  {
   "cell_type": "code",
   "execution_count": 37,
   "metadata": {},
   "outputs": [
    {
     "data": {
      "image/png": "[encoded data removed]",
      "text/plain": [
       "<Figure size 432x288 with 1 Axes>"
      ]
     },
     "metadata": {
      "needs_background": "light"
     },
     "output_type": "display_data"
    }
   ],
   "source": [
    "genre.sort_values(by='median', ascending=False).plot(y='median', kind='bar', title='распределение игр по жанрам (медианные продажи) за актуальный период', xlabel='жанр', ylabel='млн. копий')\n",
    "plt.show()"
   ]
  },
  {
   "cell_type": "code",
   "execution_count": 38,
   "metadata": {},
   "outputs": [
    {
     "data": {
      "image/png": "[encoded data removed]",
      "text/plain": [
       "<Figure size 720x720 with 1 Axes>"
      ]
     },
     "metadata": {
      "needs_background": "light"
     },
     "output_type": "display_data"
    }
   ],
   "source": [
    "sns.catplot(x='genre', y='total_sales', data=rel_games_df, kind='box', height=10)\n",
    "plt.title('продажи за 2012-2016 гг. по жанрам')\n",
    "plt.xlabel('жанр')\n",
    "plt.ylabel('млн копий')\n",
    "plt.show()"
   ]
  },
  {
   "cell_type": "markdown",
   "metadata": {},
   "source": [
    "~Наиболее популярный жанр 'Action'. Он лидирует как и по кол-ву вышедших игр, так и по кол-ву проданных копий. Далее по кол-ву вышедших игр расположились жанры 'Sports', 'Misc', 'Adventure', 'Role-Playing'. По кол-ву проданных копий после жанра 'Action' сформировался следующий топ: 'Sports', 'Shooter', 'Misc', 'Role-Playing'. Самые неприбыльные жанры: 'Strategy', 'Puzzle', 'Adventure'. Стоит выделить жанр 'Shooter', игры в этом жанре приносят больше всех прибыли за ед. релиза игры.~"
   ]
  },
  {
   "cell_type": "markdown",
   "metadata": {},
   "source": [
    "Жанр 'Shooter' является самым прибыльным. Далее с практически двукратным отставанием идут жанры 'Sports', 'Platform'. Лидер же по продажам жанр 'Action' имеет достаточно невысокую медианную цену. В арьергарде списка как по кол-ву проданных копий, так и по прибыльности находятся жанры: 'Strategy', 'Puzzle', 'Adventure'."
   ]
  },
  {
   "cell_type": "markdown",
   "metadata": {},
   "source": [
    "## Портрет пользователя каждого региона"
   ]
  },
  {
   "cell_type": "markdown",
   "metadata": {},
   "source": [
    "Пояснение для ESRB рейтинга:  \n",
    "<b>EC</b> - для детей младшего возраста  \n",
    "<b>E</b> - для всех  \n",
    "<b>Е10+</b> - для всех от 10 лет и старше  \n",
    "<b>T</b> - подросткам (от 13 лет)  \n",
    "<b>М</b> - для взрослых (от 17 лет)  \n",
    "<b>RP</b> - рейтинг ожидается"
   ]
  },
  {
   "cell_type": "markdown",
   "metadata": {},
   "source": [
    "Определяем для каждого региона топ-5 популярных платформ, топ-5 популярных жанров и влияние рейтинга ESRB на продажи"
   ]
  },
  {
   "cell_type": "markdown",
   "metadata": {},
   "source": [
    "### Регион NA"
   ]
  },
  {
   "cell_type": "code",
   "execution_count": 39,
   "metadata": {},
   "outputs": [
    {
     "data": {
      "text/plain": [
       "platform\n",
       "X360    23.7\n",
       "PS4     18.4\n",
       "PS3     17.5\n",
       "XOne    15.8\n",
       "3DS      9.4\n",
       "Name: na_sales, dtype: float64"
      ]
     },
     "execution_count": 39,
     "metadata": {},
     "output_type": "execute_result"
    }
   ],
   "source": [
    "reg_na_plat = rel_games_df.pivot_table(index='platform', values='na_sales', aggfunc='sum')\n",
    "total_sum_na = reg_na_plat['na_sales'].sum()\n",
    "round(reg_na_plat['na_sales'].sort_values(ascending=False) / total_sum_na, 3).head() * 100 #топ-5 платформ в долях продаж региона NA "
   ]
  },
  {
   "cell_type": "code",
   "execution_count": 40,
   "metadata": {},
   "outputs": [
    {
     "data": {
      "text/plain": [
       "genre\n",
       "Action          30.1\n",
       "Shooter         24.5\n",
       "Sports          13.8\n",
       "Role-Playing    10.8\n",
       "Misc             6.5\n",
       "Name: na_sales, dtype: float64"
      ]
     },
     "execution_count": 40,
     "metadata": {},
     "output_type": "execute_result"
    }
   ],
   "source": [
    "reg_na_genre = rel_games_df.pivot_table(index='genre', values='na_sales', aggfunc='sum')\n",
    "round(reg_na_genre['na_sales'].sort_values(ascending=False) / total_sum_na, 3).head() * 100 #топ-5 жанров игр в долях продаж региона NA"
   ]
  },
  {
   "cell_type": "code",
   "execution_count": 41,
   "metadata": {},
   "outputs": [
    {
     "data": {
      "text/plain": [
       "rating\n",
       "M       39.2\n",
       "E       19.4\n",
       "E10+    12.8\n",
       "T       11.2\n",
       "Name: na_sales, dtype: float64"
      ]
     },
     "execution_count": 41,
     "metadata": {},
     "output_type": "execute_result"
    }
   ],
   "source": [
    "reg_na_rating = rel_games_df.pivot_table(index='rating', values='na_sales', aggfunc='sum')\n",
    "round(reg_na_rating['na_sales'].sort_values(ascending=False) / total_sum_na, 3) * 100 #доли продаж в зависимости от рейтинга ESRB региона NA"
   ]
  },
  {
   "cell_type": "markdown",
   "metadata": {},
   "source": [
    "Для региона NA лидером среди платформ стала X360 (23,7%), что, в целом, логично, так как производитель этой платформы американский. В жанровом топе лидирует 'Action' (30,1%). Больше всего проданных игр с категорией М (39,2%)"
   ]
  },
  {
   "cell_type": "markdown",
   "metadata": {},
   "source": [
    "### Регион EU"
   ]
  },
  {
   "cell_type": "code",
   "execution_count": 42,
   "metadata": {},
   "outputs": [
    {
     "data": {
      "text/plain": [
       "platform\n",
       "PS4     27.8\n",
       "PS3     21.1\n",
       "X360    14.7\n",
       "XOne    10.2\n",
       "3DS      8.4\n",
       "Name: eu_sales, dtype: float64"
      ]
     },
     "execution_count": 42,
     "metadata": {},
     "output_type": "execute_result"
    }
   ],
   "source": [
    "reg_eu_plat = rel_games_df.pivot_table(index='platform', values='eu_sales', aggfunc='sum')\n",
    "total_sum_eu = reg_eu_plat['eu_sales'].sum()\n",
    "round(reg_eu_plat['eu_sales'].sort_values(ascending=False) / total_sum_eu, 3).head() * 100 #топ-5 платформ в долях продаж региона EU"
   ]
  },
  {
   "cell_type": "code",
   "execution_count": 43,
   "metadata": {},
   "outputs": [
    {
     "data": {
      "text/plain": [
       "genre\n",
       "Action          31.4\n",
       "Shooter         22.4\n",
       "Sports          13.6\n",
       "Role-Playing     9.6\n",
       "Racing           5.4\n",
       "Name: eu_sales, dtype: float64"
      ]
     },
     "execution_count": 43,
     "metadata": {},
     "output_type": "execute_result"
    }
   ],
   "source": [
    "reg_eu_genre = rel_games_df.pivot_table(index='genre', values='eu_sales', aggfunc='sum')\n",
    "round(reg_eu_genre['eu_sales'].sort_values(ascending=False) / total_sum_eu, 3).head() * 100 #топ-5 жанров игр в долях продаж региона EU"
   ]
  },
  {
   "cell_type": "code",
   "execution_count": 44,
   "metadata": {},
   "outputs": [
    {
     "data": {
      "text/plain": [
       "rating\n",
       "M       38.3\n",
       "E       22.3\n",
       "E10+    10.9\n",
       "T       10.4\n",
       "Name: eu_sales, dtype: float64"
      ]
     },
     "execution_count": 44,
     "metadata": {},
     "output_type": "execute_result"
    }
   ],
   "source": [
    "reg_eu_rating = rel_games_df.pivot_table(index='rating', values='eu_sales', aggfunc='sum')\n",
    "round(reg_eu_rating['eu_sales'].sort_values(ascending=False) / total_sum_eu, 3) * 100 #доли продаж в зависимости от рейтинга ESRB региона EU"
   ]
  },
  {
   "cell_type": "markdown",
   "metadata": {},
   "source": [
    "Для региона EU лидером среди платформ стала PS4 (27,8%). В жанрах ситуация аналогична региону NA - лидер категория М (38,3%). И с категориями те же дела: М лидирует с 38,3%."
   ]
  },
  {
   "cell_type": "markdown",
   "metadata": {},
   "source": [
    "### Регион JP"
   ]
  },
  {
   "cell_type": "code",
   "execution_count": 45,
   "metadata": {},
   "outputs": [
    {
     "data": {
      "text/plain": [
       "platform\n",
       "3DS     45.6\n",
       "PS3     18.3\n",
       "PSV     10.9\n",
       "PS4      8.3\n",
       "WiiU     6.8\n",
       "Name: jp_sales, dtype: float64"
      ]
     },
     "execution_count": 45,
     "metadata": {},
     "output_type": "execute_result"
    }
   ],
   "source": [
    "reg_jp_plat = rel_games_df.pivot_table(index='platform', values='jp_sales', aggfunc='sum')\n",
    "total_sum_jp = reg_jp_plat['jp_sales'].sum()\n",
    "round(reg_jp_plat['jp_sales'].sort_values(ascending=False) / total_sum_jp, 3).head() * 100 #топ-5 платформ в долях продаж региона JP"
   ]
  },
  {
   "cell_type": "code",
   "execution_count": 46,
   "metadata": {},
   "outputs": [
    {
     "data": {
      "text/plain": [
       "genre\n",
       "Role-Playing    34.0\n",
       "Action          27.4\n",
       "Misc             6.7\n",
       "Simulation       5.4\n",
       "Fighting         4.9\n",
       "Name: jp_sales, dtype: float64"
      ]
     },
     "execution_count": 46,
     "metadata": {},
     "output_type": "execute_result"
    }
   ],
   "source": [
    "reg_jp_genre = rel_games_df.pivot_table(index='genre', values='jp_sales', aggfunc='sum')\n",
    "round(reg_jp_genre['jp_sales'].sort_values(ascending=False) / total_sum_jp, 3).head() * 100 #топ-5 жанров игр в долях продаж региона JP"
   ]
  },
  {
   "cell_type": "code",
   "execution_count": 47,
   "metadata": {},
   "outputs": [
    {
     "data": {
      "text/plain": [
       "rating\n",
       "E       14.7\n",
       "T       13.5\n",
       "M       11.0\n",
       "E10+     4.3\n",
       "Name: jp_sales, dtype: float64"
      ]
     },
     "execution_count": 47,
     "metadata": {},
     "output_type": "execute_result"
    }
   ],
   "source": [
    "reg_jp_rating = rel_games_df.pivot_table(index='rating', values='jp_sales', aggfunc='sum')\n",
    "round(reg_jp_rating['jp_sales'].sort_values(ascending=False) / total_sum_jp, 3) * 100 #доли продаж в зависимости от рейтинга ESRB региона JP"
   ]
  },
  {
   "cell_type": "code",
   "execution_count": 48,
   "metadata": {},
   "outputs": [
    {
     "name": "stdout",
     "output_type": "stream",
     "text": [
      "1275 0.44194107452339687\n"
     ]
    },
    {
     "data": {
      "text/plain": [
       "NaN     1275\n",
       "M        498\n",
       "T        412\n",
       "E        394\n",
       "E10+     306\n",
       "Name: rating, dtype: int64"
      ]
     },
     "execution_count": 48,
     "metadata": {},
     "output_type": "execute_result"
    }
   ],
   "source": [
    "# Комментарий ревьюера\n",
    "temp = rel_games_df.copy()\n",
    "print(temp.rating.isna().sum(), temp.rating.isna().sum()/len(temp))\n",
    "temp.rating.value_counts(dropna=False)"
   ]
  },
  {
   "cell_type": "markdown",
   "metadata": {},
   "source": [
    "У региона JP топ платформа это 3DS (45,6%), все логично -> японская платформа захватила свой же рынок. В жанрах регион JP удивляет: топ жанр является Role-Playing (34%). Предполагаю, что это может быть связано с монополистом в лице Nintendo и ее платформами, которая делала акцент на играх этого жанра. В категориях тоже есть отличия от регионов NA и EU: на первом категория E (14,7%), а лидер в других регионах, категория М, забирает значительно меньшую долю продаж - 11%. Могу предположить, что это связано с тем, что в Японии игры прежде всего создавались для детей. Плюс ко всему в этом регионе очень большая доля игр без рейтинга ESRB (более 50%)"
   ]
  },
  {
   "cell_type": "markdown",
   "metadata": {},
   "source": [
    "Основной вывод, который можно сделать это то, что игровая индустрия в регионе JP сильно отличается от регионов NA и EU, которые во многом схожи."
   ]
  },
  {
   "cell_type": "markdown",
   "metadata": {},
   "source": [
    "## Проверка гипотез"
   ]
  },
  {
   "cell_type": "markdown",
   "metadata": {},
   "source": [
    "Гипотеза: <b>Средние пользовательские рейтинги платформ Xbox One и PC одинаковые</b>"
   ]
  },
  {
   "cell_type": "markdown",
   "metadata": {},
   "source": [
    "Здесь используем двустороннюю гипотезу о равенстве средних двух независимых генеральных совокупностей  \n",
    "H<sub>0</sub>: cредние пользовательские рейтинги платформ Xbox One и PC одинаковые  \n",
    "H<sub>1</sub>: cредние пользовательские рейтинги платформ Xbox One и PC неодинаковые"
   ]
  },
  {
   "cell_type": "code",
   "execution_count": 49,
   "metadata": {},
   "outputs": [
    {
     "data": {
      "text/plain": [
       "count    182.000000\n",
       "mean       6.521429\n",
       "std        1.380941\n",
       "min        1.600000\n",
       "25%        5.800000\n",
       "50%        6.800000\n",
       "75%        7.500000\n",
       "max        9.200000\n",
       "Name: user_score, dtype: float64"
      ]
     },
     "metadata": {},
     "output_type": "display_data"
    },
    {
     "data": {
      "text/plain": [
       "count    206.000000\n",
       "mean       6.428641\n",
       "std        1.664465\n",
       "min        1.400000\n",
       "25%        5.500000\n",
       "50%        6.800000\n",
       "75%        7.700000\n",
       "max        9.300000\n",
       "Name: user_score, dtype: float64"
      ]
     },
     "execution_count": 49,
     "metadata": {},
     "output_type": "execute_result"
    }
   ],
   "source": [
    "xone_stat = rel_games_df.query('platform == \"XOne\"')['user_score'].dropna()\n",
    "pc_stat = rel_games_df.query('platform == \"PC\"')['user_score'].dropna()\n",
    "display(xone_stat.describe())\n",
    "pc_stat.describe()"
   ]
  },
  {
   "cell_type": "markdown",
   "metadata": {},
   "source": [
    "P.S. без метода dropna() p-value принимал значение NaN, почему это происходило я не разобрался"
   ]
  },
  {
   "cell_type": "code",
   "execution_count": 50,
   "metadata": {},
   "outputs": [
    {
     "name": "stdout",
     "output_type": "stream",
     "text": [
      "p-значение: 0.5535080500643661\n",
      "Нет оснований отвергнуть нулевую гипотезу\n"
     ]
    }
   ],
   "source": [
    "alpha = .05 #уровень статистической значимости\n",
    "\n",
    "results = st.ttest_ind(xone_stat, pc_stat)\n",
    "\n",
    "print('p-значение:', results.pvalue)\n",
    "if results.pvalue < alpha:\n",
    "    print('Отвергаем нулевую гипотезу')\n",
    "else:\n",
    "    print('Нет оснований отвергнуть нулевую гипотезу')"
   ]
  },
  {
   "cell_type": "markdown",
   "metadata": {},
   "source": [
    "~Есть основания говорить, что cредние пользовательские рейтинги платформ Xbox One и PC различны (хотя смотря какую значимость выставить)~"
   ]
  },
  {
   "cell_type": "markdown",
   "metadata": {},
   "source": [
    "Есть основания полагать, что cредние пользовательские рейтинги платформ Xbox One и PC одинаковы"
   ]
  },
  {
   "cell_type": "markdown",
   "metadata": {},
   "source": [
    "Гипотеза: <b>Средние пользовательские рейтинги жанров Action (англ. «действие», экшен-игры) и Sports (англ. «спортивные соревнования») разные.</b>"
   ]
  },
  {
   "cell_type": "markdown",
   "metadata": {},
   "source": [
    "Здесь тоже используем двустороннюю гипотезу о равенстве средних двух независимых генеральных совокупностей  \n",
    "H<sub>0</sub>: cредние пользовательские рейтинги жанров Action и Sports одинаковые  \n",
    "H<sub>1</sub>: cредние пользовательские рейтинги жанров Action и Sports неодинаковые"
   ]
  },
  {
   "cell_type": "code",
   "execution_count": 51,
   "metadata": {},
   "outputs": [
    {
     "data": {
      "text/plain": [
       "count    523.000000\n",
       "mean       6.825048\n",
       "std        1.374440\n",
       "min        1.600000\n",
       "25%        6.250000\n",
       "50%        7.100000\n",
       "75%        7.800000\n",
       "max        9.100000\n",
       "Name: user_score, dtype: float64"
      ]
     },
     "metadata": {},
     "output_type": "display_data"
    },
    {
     "data": {
      "text/plain": [
       "count    194.000000\n",
       "mean       5.455670\n",
       "std        1.743142\n",
       "min        0.200000\n",
       "25%        4.300000\n",
       "50%        5.750000\n",
       "75%        6.800000\n",
       "max        8.800000\n",
       "Name: user_score, dtype: float64"
      ]
     },
     "execution_count": 51,
     "metadata": {},
     "output_type": "execute_result"
    }
   ],
   "source": [
    "action_stat = rel_games_df.query('genre == \"Action\"')['user_score'].dropna()\n",
    "sports_stat = rel_games_df.query('genre == \"Sports\"')['user_score'].dropna()\n",
    "display(action_stat.describe())\n",
    "sports_stat.describe()"
   ]
  },
  {
   "cell_type": "code",
   "execution_count": 52,
   "metadata": {},
   "outputs": [
    {
     "name": "stdout",
     "output_type": "stream",
     "text": [
      "p-значение: 4.8045233804629176e-26\n",
      "Отвергаем нулевую гипотезу\n"
     ]
    }
   ],
   "source": [
    "alpha = .05 #уровень статистической значимости\n",
    "\n",
    "results = st.ttest_ind(sports_stat, action_stat)\n",
    "\n",
    "print('p-значение:', results.pvalue)\n",
    "if results.pvalue < alpha:\n",
    "    print('Отвергаем нулевую гипотезу')\n",
    "else:\n",
    "    print('Нет оснований отвергнуть нулевую гипотезу')"
   ]
  },
  {
   "cell_type": "markdown",
   "metadata": {},
   "source": [
    "Есть основания говорить, что cредние пользовательские рейтинги жанров Action и Sports различны"
   ]
  },
  {
   "cell_type": "markdown",
   "metadata": {},
   "source": [
    "## Общий вывод"
   ]
  },
  {
   "cell_type": "markdown",
   "metadata": {},
   "source": [
    "~В 21 веке кол-во выпущенных игр значительно увеличилось по сравнению с 20 веком. Основной пик релизов пришелся на 2008-2009 года, после этого периода идет спад. Спад возможно связан с развитием мобильных игр. В целом рынок видеоигр подвержен сильным изменениям (продукты этой сферы имеют склонность к быстрому устареванию), т.к. относится к сектору информационных технологий. В среднем срок актуальности платформы составляет 9-10 лет, после этого платформа устаревает (PC пока живет вечно).  \n",
    "На период полученных исходных данных в фазе роста продаж находятся только две платформы - PS4 и XOne, отстальные либо уже утратили актуальность, либо находятся в фазе падения продаж. В большинстве случаев продажи игр не превышают 2 млн копий, однако есть очень популярные игры с продажами в десятки миллионов.  \n",
    "На рассмотренном примере платформы X360 корреляции между отзывами пользователей и продажами нет (коэф. корреляции 0,12), но прослеживается небольшая прямая взаимосвязь между оценками критиков и продажами (коэф. корреляции 0,4). Если говорить в целом, то коэф. корреляций данных пар показателей различаются в зависимости от платформы. Вывод по платформам PS3, PS4, XOne, PS2, GC, XB аналогичен выводу для платформы изученной отдельно - X360. Для платформ Wii, DS, 3DS, PC, PSP, PSV слабо прослеживается связь с продажами как для оценок пользователей, так и для оценок критиков, но коэф. корреляции все же выше у оценок критиков. Для платформы WiiU оценки пользователей больше коррелируют (коэф. корреляции 0,4) с продажами нежели оценки критиков (коэф. корреляции 0,35). Есть же и вовсе странная ситуация для платформы GBA, а именно, прослеживается сильная обратная взаимосвязь между оценками пользователей и продажами (коэф. корреляции -0,75), при этом оценки критиков не влияют на продажи (коэф. корреляции -0,18).  \n",
    "Наиболее популярный жанр игр - 'Action'. Он лидирует как и по кол-ву вышедших игр, так и по кол-ву проданных копий. Самые не прибыльные жанры: 'Strategy', 'Puzzle', 'Adventure'. Также стоит выделить жанр 'Shooter', игры в этом жанре приносят больше всех прибыли за ед. релиза игры.\n",
    "Для региона NA лидером среди платформ стала X360 (24,7%), что, в целом, логично, так как производитель этой платформы американский. В жанровом топе с отрывом лидирует 'Action' (22,2%). Категория (Е) охватывающая большую аудиторию нежели другие категории лидирует в регионе собрав 33,4% продаж. Для региона EU лидером среди платформ стала PS3 (21,9%). В жанрах ситуация аналогична региону NA, только отрыв еще чуть больше (23,4% против 16,8% у жанра Sports). И с категориями те же дела: E лидирует с 30,8%. У региона JP топ платформа это DS (25,2%), затем идет преемница 3DS (17,9%), все логично -> японские платформы захватили свой же рынок. В жанрах регион JP удивляет: топ жанр с огромным отрывом (30,4% против 18,2% у Action на втором месте) является Role-Playing. Предполагаю, что это может быть связано с монополистом в лице Nintendo и ее платформами, которая делала акцент на играх этого жанра. В категориях тоже есть отличия от регионов NA и EU: на первом месте как и везде категория E (21,4%), обращает на себя внимание категория М, которая забирает значительно меньшую долю продаж - 7,8%. В других регионах эта категория составляла около четверти от всех продаж. Могу предположить, что это связано с тем, что в Японии игры прежде всего создавались для детей. Плюс ко всему в этом регионе очень большая доля игр без рейтинга ESRB (около 50%). Основной вывод, который можно сделать это то, что игровая индустрия в регионе JP сильно отличается от регионов NA и EU.~"
   ]
  },
  {
   "cell_type": "markdown",
   "metadata": {},
   "source": [
    "В исходном датафрейме 11 столбцов и 16715 строк. Пропущенные значения есть в столбцах 'Name', 'Year_of_Release', 'Genre', 'Critic_Score', 'User_Score', 'Rating'. Cтолбец с оценкой пользователя (User_Score) следует привести к типу float (в нем есть строковые значения).\n",
    "\n",
    "На этапе предобработки данных названия столбцов приведены к нижнему регистру, найдены и обработаны неявные дубликаты, обработана аббревиатура 'tbd' в столбце с оценкой пользователей, были подсчитаны суммарные продажи и записаны в отдельный столбец 'total_sales'.\n",
    "   \n",
    "Этап анализа. В исходном датафрейме представлены данные о релизах игр в период 1980-2016 гг. Основной пик релизов пришелся на 2008-2009 года, после этого периода идет спад. Рынок видеоигр подвержен сильным изменениям (продукты этой сферы имеют склонность к быстрому устареванию), поэтому данные за все периоды не важны. В связи с этим, было принято решение взять актуальный период 5 лет. Срок жизни игровой платформы в среднем составляет 7 лет. На 2016 г. в фазе роста находятся две платформы - PS4 и XOne, отстальные уже утратили актуальность. В общей массе продажи игр не превышают 2 млн копий, однако есть очень популярные игры с продажами в десятки миллионов. Связи между оценками пользователей и объемами продаж в общем случае не наблюдается. Есть прямая связь продаж с оценками критиков, но она невелика. Жанр 'Shooter' является самым прибыльным. Далее с практически двукратным отставанием идут жанры 'Sports', 'Platform'. Лидер же по продажам жанр 'Action' имеет достаточно невысокую медианную цену. В арьергарде списка как по кол-ву проданных копий, так и по прибыльности находятся жанры: 'Strategy', 'Puzzle', 'Adventure'.\n",
    "\n",
    "Портрет пользователя. Регион NA - платформа X360/PS4, жанр Action/Shooter, есть влияние рейтинга ESRB; регион EU - платформа PS4, жанр Action/Shooter, ESRB не влияет; регион JP - платформа 3DS/PS4, жанр Role-Playing/Action, ESRB не влияет.\n",
    "\n",
    "Проверка гипотез.\n",
    "1. Средние пользовательские рейтинги платформ Xbox One и PC одинаковые - есть основания полагать, что это действительно так\n",
    "2. Средние пользовательские рейтинги жанров Action (англ. «действие», экшен-игры) и Sports (англ. «спортивные соревнования») разные - есть основания полагать, что это действительно так"
   ]
  }
 ],
 "metadata": {
  "ExecuteTimeLog": [
   {
    "duration": 404,
    "start_time": "2024-07-11T21:01:55.398Z"
   },
   {
    "duration": 102,
    "start_time": "2024-07-11T21:02:30.932Z"
   },
   {
    "duration": 70,
    "start_time": "2024-07-11T21:02:45.236Z"
   },
   {
    "duration": 12,
    "start_time": "2024-07-11T21:03:24.182Z"
   },
   {
    "duration": 1656,
    "start_time": "2024-07-11T21:09:47.652Z"
   },
   {
    "duration": 6,
    "start_time": "2024-07-11T21:10:00.552Z"
   },
   {
    "duration": 15,
    "start_time": "2024-07-11T21:13:58.539Z"
   },
   {
    "duration": 6,
    "start_time": "2024-07-11T21:14:20.393Z"
   },
   {
    "duration": 4,
    "start_time": "2024-07-11T21:16:03.665Z"
   },
   {
    "duration": 4,
    "start_time": "2024-07-11T21:17:42.429Z"
   },
   {
    "duration": 3,
    "start_time": "2024-07-11T21:18:05.321Z"
   },
   {
    "duration": 4,
    "start_time": "2024-07-11T21:18:15.851Z"
   },
   {
    "duration": 12,
    "start_time": "2024-07-11T21:18:45.194Z"
   },
   {
    "duration": 35,
    "start_time": "2024-07-11T21:24:20.003Z"
   },
   {
    "duration": 60,
    "start_time": "2024-07-11T21:25:02.519Z"
   },
   {
    "duration": 90,
    "start_time": "2024-07-11T21:25:07.117Z"
   },
   {
    "duration": 24,
    "start_time": "2024-07-11T21:25:16.859Z"
   },
   {
    "duration": 76,
    "start_time": "2024-07-11T21:25:37.538Z"
   },
   {
    "duration": 5,
    "start_time": "2024-07-11T21:27:18.065Z"
   },
   {
    "duration": 1167,
    "start_time": "2024-07-11T21:27:24.551Z"
   },
   {
    "duration": 11,
    "start_time": "2024-07-11T21:27:35.511Z"
   },
   {
    "duration": 2,
    "start_time": "2024-07-11T21:27:46.567Z"
   },
   {
    "duration": 81,
    "start_time": "2024-07-11T21:27:46.571Z"
   },
   {
    "duration": 11,
    "start_time": "2024-07-11T21:27:46.654Z"
   },
   {
    "duration": 11,
    "start_time": "2024-07-11T21:27:46.666Z"
   },
   {
    "duration": 5,
    "start_time": "2024-07-11T21:27:48.653Z"
   },
   {
    "duration": 11,
    "start_time": "2024-07-11T21:28:40.817Z"
   },
   {
    "duration": 17,
    "start_time": "2024-07-11T21:31:32.324Z"
   },
   {
    "duration": 15,
    "start_time": "2024-07-11T21:32:30.266Z"
   },
   {
    "duration": 12,
    "start_time": "2024-07-11T21:32:39.773Z"
   },
   {
    "duration": 11,
    "start_time": "2024-07-11T21:33:54.540Z"
   },
   {
    "duration": 27,
    "start_time": "2024-07-11T21:34:23.781Z"
   },
   {
    "duration": 12,
    "start_time": "2024-07-11T21:35:00.544Z"
   },
   {
    "duration": 4,
    "start_time": "2024-07-11T21:39:41.925Z"
   },
   {
    "duration": 11,
    "start_time": "2024-07-11T21:40:06.097Z"
   },
   {
    "duration": 11,
    "start_time": "2024-07-11T21:40:21.756Z"
   },
   {
    "duration": 6,
    "start_time": "2024-07-11T21:40:43.974Z"
   },
   {
    "duration": 3,
    "start_time": "2024-07-11T21:41:05.242Z"
   },
   {
    "duration": 748,
    "start_time": "2024-07-11T21:41:08.367Z"
   },
   {
    "duration": 1647,
    "start_time": "2024-07-11T21:41:22.931Z"
   },
   {
    "duration": 830,
    "start_time": "2024-07-11T21:41:48.102Z"
   },
   {
    "duration": 3,
    "start_time": "2024-07-11T21:42:03.806Z"
   },
   {
    "duration": 85,
    "start_time": "2024-07-11T21:42:03.811Z"
   },
   {
    "duration": 10,
    "start_time": "2024-07-11T21:42:03.898Z"
   },
   {
    "duration": 23,
    "start_time": "2024-07-11T21:42:03.909Z"
   },
   {
    "duration": 13,
    "start_time": "2024-07-11T21:42:03.934Z"
   },
   {
    "duration": 21,
    "start_time": "2024-07-11T21:42:06.884Z"
   },
   {
    "duration": 20,
    "start_time": "2024-07-11T21:43:19.247Z"
   },
   {
    "duration": 11,
    "start_time": "2024-07-11T21:43:29.356Z"
   },
   {
    "duration": 14,
    "start_time": "2024-07-11T21:43:38.884Z"
   },
   {
    "duration": 15,
    "start_time": "2024-07-11T21:44:34.541Z"
   },
   {
    "duration": 6,
    "start_time": "2024-07-11T21:46:10.246Z"
   },
   {
    "duration": 4,
    "start_time": "2024-07-11T21:46:17.051Z"
   },
   {
    "duration": 65,
    "start_time": "2024-07-11T21:46:29.163Z"
   },
   {
    "duration": 18,
    "start_time": "2024-07-11T21:47:34.650Z"
   },
   {
    "duration": 19,
    "start_time": "2024-07-12T18:31:57.612Z"
   },
   {
    "duration": 18,
    "start_time": "2024-07-12T18:33:17.865Z"
   },
   {
    "duration": 4,
    "start_time": "2024-07-12T18:36:39.771Z"
   },
   {
    "duration": 2,
    "start_time": "2024-07-12T18:40:01.412Z"
   },
   {
    "duration": 10,
    "start_time": "2024-07-12T18:42:52.947Z"
   },
   {
    "duration": 2,
    "start_time": "2024-07-12T18:43:38.237Z"
   },
   {
    "duration": 89,
    "start_time": "2024-07-12T18:43:38.240Z"
   },
   {
    "duration": 10,
    "start_time": "2024-07-12T18:43:38.330Z"
   },
   {
    "duration": 12,
    "start_time": "2024-07-12T18:43:38.341Z"
   },
   {
    "duration": 11,
    "start_time": "2024-07-12T18:43:38.355Z"
   },
   {
    "duration": 13,
    "start_time": "2024-07-12T18:43:38.367Z"
   },
   {
    "duration": 31,
    "start_time": "2024-07-12T18:43:38.381Z"
   },
   {
    "duration": 16,
    "start_time": "2024-07-12T18:43:38.413Z"
   },
   {
    "duration": 10,
    "start_time": "2024-07-12T18:43:42.030Z"
   },
   {
    "duration": 7,
    "start_time": "2024-07-12T18:44:58.379Z"
   },
   {
    "duration": 13,
    "start_time": "2024-07-12T18:45:29.633Z"
   },
   {
    "duration": 14,
    "start_time": "2024-07-12T18:48:22.448Z"
   },
   {
    "duration": 8,
    "start_time": "2024-07-12T21:35:52.846Z"
   },
   {
    "duration": 8,
    "start_time": "2024-07-12T21:35:57.268Z"
   },
   {
    "duration": 15,
    "start_time": "2024-07-12T21:38:57.016Z"
   },
   {
    "duration": 385,
    "start_time": "2024-07-12T21:40:46.513Z"
   },
   {
    "duration": 69,
    "start_time": "2024-07-12T21:40:46.900Z"
   },
   {
    "duration": 36,
    "start_time": "2024-07-12T21:40:46.971Z"
   },
   {
    "duration": 22,
    "start_time": "2024-07-12T21:40:47.016Z"
   },
   {
    "duration": 9,
    "start_time": "2024-07-12T21:40:47.044Z"
   },
   {
    "duration": 12,
    "start_time": "2024-07-12T21:40:47.054Z"
   },
   {
    "duration": 13,
    "start_time": "2024-07-12T21:40:47.067Z"
   },
   {
    "duration": 30,
    "start_time": "2024-07-12T21:40:47.081Z"
   },
   {
    "duration": 25,
    "start_time": "2024-07-12T21:40:47.119Z"
   },
   {
    "duration": 22,
    "start_time": "2024-07-12T21:42:09.823Z"
   },
   {
    "duration": 15,
    "start_time": "2024-07-12T21:44:56.185Z"
   },
   {
    "duration": 56,
    "start_time": "2024-07-13T16:44:34.339Z"
   },
   {
    "duration": 8,
    "start_time": "2024-07-13T16:44:49.798Z"
   },
   {
    "duration": 3,
    "start_time": "2024-07-13T16:45:05.551Z"
   },
   {
    "duration": 8,
    "start_time": "2024-07-13T16:45:12.846Z"
   },
   {
    "duration": 5,
    "start_time": "2024-07-13T16:46:10.982Z"
   },
   {
    "duration": 18,
    "start_time": "2024-07-13T16:46:23.861Z"
   },
   {
    "duration": 25,
    "start_time": "2024-07-13T16:47:08.398Z"
   },
   {
    "duration": 11,
    "start_time": "2024-07-13T16:47:26.956Z"
   },
   {
    "duration": 12,
    "start_time": "2024-07-13T16:47:49.155Z"
   },
   {
    "duration": 10,
    "start_time": "2024-07-13T16:47:55.803Z"
   },
   {
    "duration": 11,
    "start_time": "2024-07-13T16:48:05.429Z"
   },
   {
    "duration": 16,
    "start_time": "2024-07-13T16:48:10.409Z"
   },
   {
    "duration": 9,
    "start_time": "2024-07-13T16:48:16.433Z"
   },
   {
    "duration": 11,
    "start_time": "2024-07-13T16:48:21.667Z"
   },
   {
    "duration": 11,
    "start_time": "2024-07-13T16:48:27.254Z"
   },
   {
    "duration": 14,
    "start_time": "2024-07-13T16:48:31.182Z"
   },
   {
    "duration": 11,
    "start_time": "2024-07-13T16:48:36.269Z"
   },
   {
    "duration": 9,
    "start_time": "2024-07-13T16:48:41.794Z"
   },
   {
    "duration": 10,
    "start_time": "2024-07-13T16:48:45.560Z"
   },
   {
    "duration": 13,
    "start_time": "2024-07-13T16:48:54.091Z"
   },
   {
    "duration": 19,
    "start_time": "2024-07-13T16:56:43.408Z"
   },
   {
    "duration": 8,
    "start_time": "2024-07-13T17:03:36.112Z"
   },
   {
    "duration": 19,
    "start_time": "2024-07-13T17:03:40.041Z"
   },
   {
    "duration": 24,
    "start_time": "2024-07-13T17:04:35.897Z"
   },
   {
    "duration": 19,
    "start_time": "2024-07-13T17:04:46.511Z"
   },
   {
    "duration": 12,
    "start_time": "2024-07-13T17:05:09.277Z"
   },
   {
    "duration": 4,
    "start_time": "2024-07-13T17:06:35.295Z"
   },
   {
    "duration": 3,
    "start_time": "2024-07-13T17:06:59.135Z"
   },
   {
    "duration": 61,
    "start_time": "2024-07-13T17:06:59.139Z"
   },
   {
    "duration": 10,
    "start_time": "2024-07-13T17:06:59.202Z"
   },
   {
    "duration": 17,
    "start_time": "2024-07-13T17:06:59.214Z"
   },
   {
    "duration": 21,
    "start_time": "2024-07-13T17:06:59.233Z"
   },
   {
    "duration": 7,
    "start_time": "2024-07-13T17:06:59.256Z"
   },
   {
    "duration": 14,
    "start_time": "2024-07-13T17:06:59.265Z"
   },
   {
    "duration": 14,
    "start_time": "2024-07-13T17:06:59.301Z"
   },
   {
    "duration": 11,
    "start_time": "2024-07-13T17:06:59.316Z"
   },
   {
    "duration": 15,
    "start_time": "2024-07-13T17:06:59.329Z"
   },
   {
    "duration": 12,
    "start_time": "2024-07-13T17:06:59.345Z"
   },
   {
    "duration": 4,
    "start_time": "2024-07-13T17:07:01.743Z"
   },
   {
    "duration": 5,
    "start_time": "2024-07-13T17:07:22.581Z"
   },
   {
    "duration": 5,
    "start_time": "2024-07-13T17:12:03.763Z"
   },
   {
    "duration": 9,
    "start_time": "2024-07-13T17:13:40.783Z"
   },
   {
    "duration": 5,
    "start_time": "2024-07-13T17:14:07.215Z"
   },
   {
    "duration": 5,
    "start_time": "2024-07-13T17:15:07.820Z"
   },
   {
    "duration": 5,
    "start_time": "2024-07-13T17:24:51.748Z"
   },
   {
    "duration": 4,
    "start_time": "2024-07-13T17:29:47.849Z"
   },
   {
    "duration": 3,
    "start_time": "2024-07-13T17:30:04.015Z"
   },
   {
    "duration": 4,
    "start_time": "2024-07-13T17:30:12.487Z"
   },
   {
    "duration": 7,
    "start_time": "2024-07-13T17:30:28.658Z"
   },
   {
    "duration": 10,
    "start_time": "2024-07-13T17:31:32.588Z"
   },
   {
    "duration": 7,
    "start_time": "2024-07-13T17:31:52.624Z"
   },
   {
    "duration": 5,
    "start_time": "2024-07-13T17:33:16.861Z"
   },
   {
    "duration": 7,
    "start_time": "2024-07-13T17:33:27.941Z"
   },
   {
    "duration": 6,
    "start_time": "2024-07-13T17:38:09.080Z"
   },
   {
    "duration": 10,
    "start_time": "2024-07-13T17:38:25.310Z"
   },
   {
    "duration": 7,
    "start_time": "2024-07-13T17:38:49.465Z"
   },
   {
    "duration": 5,
    "start_time": "2024-07-13T17:38:59.937Z"
   },
   {
    "duration": 8,
    "start_time": "2024-07-13T17:39:17.076Z"
   },
   {
    "duration": 22,
    "start_time": "2024-07-13T17:46:18.343Z"
   },
   {
    "duration": 27,
    "start_time": "2024-07-13T17:46:29.364Z"
   },
   {
    "duration": 205,
    "start_time": "2024-07-13T17:47:42.566Z"
   },
   {
    "duration": 119,
    "start_time": "2024-07-13T17:50:09.230Z"
   },
   {
    "duration": 19943,
    "start_time": "2024-07-13T17:50:24.135Z"
   },
   {
    "duration": 1355,
    "start_time": "2024-07-13T17:52:33.808Z"
   },
   {
    "duration": 6,
    "start_time": "2024-07-13T17:52:47.103Z"
   },
   {
    "duration": 6500,
    "start_time": "2024-07-13T17:53:06.438Z"
   },
   {
    "duration": 6,
    "start_time": "2024-07-13T17:54:28.139Z"
   },
   {
    "duration": 6,
    "start_time": "2024-07-13T17:54:49.164Z"
   },
   {
    "duration": 9,
    "start_time": "2024-07-13T17:54:54.416Z"
   },
   {
    "duration": 121,
    "start_time": "2024-07-13T17:55:00.588Z"
   },
   {
    "duration": 170,
    "start_time": "2024-07-13T17:56:06.196Z"
   },
   {
    "duration": 139,
    "start_time": "2024-07-13T17:57:23.457Z"
   },
   {
    "duration": 161,
    "start_time": "2024-07-13T18:00:13.128Z"
   },
   {
    "duration": 155,
    "start_time": "2024-07-13T18:00:59.468Z"
   },
   {
    "duration": 140,
    "start_time": "2024-07-13T18:01:51.851Z"
   },
   {
    "duration": 149,
    "start_time": "2024-07-13T18:02:30.636Z"
   },
   {
    "duration": 345,
    "start_time": "2024-07-13T18:03:04.437Z"
   },
   {
    "duration": 13,
    "start_time": "2024-07-13T18:06:27.026Z"
   },
   {
    "duration": 14,
    "start_time": "2024-07-13T20:31:23.916Z"
   },
   {
    "duration": 15,
    "start_time": "2024-07-13T20:31:33.713Z"
   },
   {
    "duration": 22,
    "start_time": "2024-07-13T20:32:00.538Z"
   },
   {
    "duration": 22,
    "start_time": "2024-07-13T20:33:11.315Z"
   },
   {
    "duration": 7,
    "start_time": "2024-07-13T20:34:22.278Z"
   },
   {
    "duration": 25,
    "start_time": "2024-07-13T20:36:48.849Z"
   },
   {
    "duration": 19,
    "start_time": "2024-07-13T20:39:34.428Z"
   },
   {
    "duration": 9,
    "start_time": "2024-07-13T20:40:18.392Z"
   },
   {
    "duration": 21,
    "start_time": "2024-07-13T20:40:22.188Z"
   },
   {
    "duration": 8,
    "start_time": "2024-07-13T20:40:39.473Z"
   },
   {
    "duration": 11,
    "start_time": "2024-07-13T20:50:25.050Z"
   },
   {
    "duration": 12,
    "start_time": "2024-07-13T20:51:26.523Z"
   },
   {
    "duration": 17,
    "start_time": "2024-07-13T20:51:36.520Z"
   },
   {
    "duration": 117,
    "start_time": "2024-07-13T20:52:42.623Z"
   },
   {
    "duration": 20,
    "start_time": "2024-07-13T20:53:59.197Z"
   },
   {
    "duration": 15,
    "start_time": "2024-07-13T20:54:20.447Z"
   },
   {
    "duration": 95,
    "start_time": "2024-07-13T20:57:51.516Z"
   },
   {
    "duration": 1686,
    "start_time": "2024-07-13T20:59:00.008Z"
   },
   {
    "duration": 12,
    "start_time": "2024-07-13T21:04:17.841Z"
   },
   {
    "duration": 13,
    "start_time": "2024-07-13T21:04:34.025Z"
   },
   {
    "duration": 88,
    "start_time": "2024-07-13T21:04:44.398Z"
   },
   {
    "duration": 13,
    "start_time": "2024-07-13T21:04:56.656Z"
   },
   {
    "duration": 86,
    "start_time": "2024-07-13T21:05:55.468Z"
   },
   {
    "duration": 15,
    "start_time": "2024-07-13T21:09:33.411Z"
   },
   {
    "duration": 21,
    "start_time": "2024-07-13T21:13:22.608Z"
   },
   {
    "duration": 17,
    "start_time": "2024-07-13T21:13:46.378Z"
   },
   {
    "duration": 1904,
    "start_time": "2024-07-13T21:15:36.165Z"
   },
   {
    "duration": 1898,
    "start_time": "2024-07-13T21:30:59.026Z"
   },
   {
    "duration": 1915,
    "start_time": "2024-07-13T21:31:02.945Z"
   },
   {
    "duration": 51,
    "start_time": "2024-07-13T21:33:23.775Z"
   },
   {
    "duration": 365,
    "start_time": "2024-07-13T21:33:29.594Z"
   },
   {
    "duration": 2376,
    "start_time": "2024-07-13T21:34:22.718Z"
   },
   {
    "duration": 17,
    "start_time": "2024-07-13T21:34:54.981Z"
   },
   {
    "duration": 289,
    "start_time": "2024-07-13T21:35:31.580Z"
   },
   {
    "duration": 12,
    "start_time": "2024-07-13T21:36:34.824Z"
   },
   {
    "duration": 280,
    "start_time": "2024-07-13T21:37:23.547Z"
   },
   {
    "duration": 2085,
    "start_time": "2024-07-13T21:38:15.795Z"
   },
   {
    "duration": 78,
    "start_time": "2024-07-13T21:38:36.477Z"
   },
   {
    "duration": 285,
    "start_time": "2024-07-13T21:40:00.492Z"
   },
   {
    "duration": 1916,
    "start_time": "2024-07-13T21:40:22.989Z"
   },
   {
    "duration": 83,
    "start_time": "2024-07-14T09:57:55.465Z"
   },
   {
    "duration": 10,
    "start_time": "2024-07-14T09:58:22.708Z"
   },
   {
    "duration": 680,
    "start_time": "2024-07-14T09:59:18.737Z"
   },
   {
    "duration": 33,
    "start_time": "2024-07-14T09:59:36.444Z"
   },
   {
    "duration": 9,
    "start_time": "2024-07-14T10:00:23.147Z"
   },
   {
    "duration": 9,
    "start_time": "2024-07-14T10:00:56.424Z"
   },
   {
    "duration": 10,
    "start_time": "2024-07-14T10:01:19.954Z"
   },
   {
    "duration": 9,
    "start_time": "2024-07-14T10:01:39.917Z"
   },
   {
    "duration": 10,
    "start_time": "2024-07-14T10:01:51.047Z"
   },
   {
    "duration": 443,
    "start_time": "2024-07-14T10:03:42.558Z"
   },
   {
    "duration": 464,
    "start_time": "2024-07-14T10:04:30.816Z"
   },
   {
    "duration": 442,
    "start_time": "2024-07-14T10:04:35.497Z"
   },
   {
    "duration": 426,
    "start_time": "2024-07-14T10:06:03.048Z"
   },
   {
    "duration": 16,
    "start_time": "2024-07-14T10:14:12.734Z"
   },
   {
    "duration": 491,
    "start_time": "2024-07-14T10:21:19.063Z"
   },
   {
    "duration": 454,
    "start_time": "2024-07-14T10:21:26.028Z"
   },
   {
    "duration": 466,
    "start_time": "2024-07-14T10:22:45.231Z"
   },
   {
    "duration": 492,
    "start_time": "2024-07-14T10:26:44.675Z"
   },
   {
    "duration": 451,
    "start_time": "2024-07-14T10:27:03.536Z"
   },
   {
    "duration": 13,
    "start_time": "2024-07-14T10:36:53.323Z"
   },
   {
    "duration": 5,
    "start_time": "2024-07-14T10:37:19.430Z"
   },
   {
    "duration": 4,
    "start_time": "2024-07-14T10:37:37.232Z"
   },
   {
    "duration": 5,
    "start_time": "2024-07-14T10:38:43.034Z"
   },
   {
    "duration": 102,
    "start_time": "2024-07-14T10:41:18.083Z"
   },
   {
    "duration": 98,
    "start_time": "2024-07-14T10:42:24.738Z"
   },
   {
    "duration": 103,
    "start_time": "2024-07-14T10:47:00.213Z"
   },
   {
    "duration": 112,
    "start_time": "2024-07-14T10:47:59.472Z"
   },
   {
    "duration": 107,
    "start_time": "2024-07-14T10:48:20.044Z"
   },
   {
    "duration": 104,
    "start_time": "2024-07-14T10:48:30.763Z"
   },
   {
    "duration": 125,
    "start_time": "2024-07-14T10:49:44.430Z"
   },
   {
    "duration": 116,
    "start_time": "2024-07-14T10:50:12.035Z"
   },
   {
    "duration": 124,
    "start_time": "2024-07-14T10:51:58.294Z"
   },
   {
    "duration": 123,
    "start_time": "2024-07-14T10:52:21.218Z"
   },
   {
    "duration": 130,
    "start_time": "2024-07-14T10:53:32.658Z"
   },
   {
    "duration": 119,
    "start_time": "2024-07-14T10:54:41.114Z"
   },
   {
    "duration": 121,
    "start_time": "2024-07-14T10:54:53.515Z"
   },
   {
    "duration": 11,
    "start_time": "2024-07-14T11:07:13.272Z"
   },
   {
    "duration": 5,
    "start_time": "2024-07-14T11:08:45.927Z"
   },
   {
    "duration": 8,
    "start_time": "2024-07-14T21:49:00.953Z"
   },
   {
    "duration": 42,
    "start_time": "2024-07-14T21:49:08.018Z"
   },
   {
    "duration": 83,
    "start_time": "2024-07-14T21:54:07.122Z"
   },
   {
    "duration": 79,
    "start_time": "2024-07-14T21:55:32.987Z"
   },
   {
    "duration": 114,
    "start_time": "2024-07-14T21:56:52.169Z"
   },
   {
    "duration": 77,
    "start_time": "2024-07-14T21:58:55.446Z"
   },
   {
    "duration": 11,
    "start_time": "2024-07-14T22:27:06.972Z"
   },
   {
    "duration": 16,
    "start_time": "2024-07-14T22:27:13.862Z"
   },
   {
    "duration": 11,
    "start_time": "2024-07-14T22:27:37.465Z"
   },
   {
    "duration": 16,
    "start_time": "2024-07-14T22:27:42.687Z"
   },
   {
    "duration": 17,
    "start_time": "2024-07-14T22:28:41.241Z"
   },
   {
    "duration": 221,
    "start_time": "2024-07-14T22:29:38.334Z"
   },
   {
    "duration": 97,
    "start_time": "2024-07-14T22:30:22.791Z"
   },
   {
    "duration": 406,
    "start_time": "2024-07-14T22:32:07.824Z"
   },
   {
    "duration": 1039,
    "start_time": "2024-07-14T22:33:33.755Z"
   },
   {
    "duration": 140,
    "start_time": "2024-07-14T22:33:53.158Z"
   },
   {
    "duration": 8,
    "start_time": "2024-07-14T22:35:03.892Z"
   },
   {
    "duration": 133,
    "start_time": "2024-07-14T22:35:10.564Z"
   },
   {
    "duration": 160,
    "start_time": "2024-07-14T22:36:55.070Z"
   },
   {
    "duration": 148,
    "start_time": "2024-07-14T22:37:47.929Z"
   },
   {
    "duration": 13,
    "start_time": "2024-07-15T16:49:59.278Z"
   },
   {
    "duration": 11,
    "start_time": "2024-07-15T16:51:16.506Z"
   },
   {
    "duration": 16,
    "start_time": "2024-07-15T16:52:09.193Z"
   },
   {
    "duration": 11,
    "start_time": "2024-07-15T16:52:13.613Z"
   },
   {
    "duration": 13,
    "start_time": "2024-07-15T16:52:23.567Z"
   },
   {
    "duration": 15,
    "start_time": "2024-07-15T16:53:00.949Z"
   },
   {
    "duration": 11,
    "start_time": "2024-07-15T16:53:09.409Z"
   },
   {
    "duration": 12,
    "start_time": "2024-07-15T16:53:19.177Z"
   },
   {
    "duration": 10,
    "start_time": "2024-07-15T16:53:24.243Z"
   },
   {
    "duration": 10,
    "start_time": "2024-07-15T16:57:14.928Z"
   },
   {
    "duration": 7,
    "start_time": "2024-07-15T16:57:32.729Z"
   },
   {
    "duration": 10,
    "start_time": "2024-07-15T16:57:50.041Z"
   },
   {
    "duration": 10,
    "start_time": "2024-07-15T16:58:36.267Z"
   },
   {
    "duration": 10,
    "start_time": "2024-07-15T16:58:51.597Z"
   },
   {
    "duration": 10,
    "start_time": "2024-07-15T16:58:56.557Z"
   },
   {
    "duration": 11,
    "start_time": "2024-07-15T16:59:17.338Z"
   },
   {
    "duration": 11,
    "start_time": "2024-07-15T17:00:13.505Z"
   },
   {
    "duration": 10,
    "start_time": "2024-07-15T17:00:26.343Z"
   },
   {
    "duration": 11,
    "start_time": "2024-07-15T17:04:17.350Z"
   },
   {
    "duration": 16,
    "start_time": "2024-07-15T17:07:13.208Z"
   },
   {
    "duration": 10,
    "start_time": "2024-07-15T17:07:27.750Z"
   },
   {
    "duration": 11,
    "start_time": "2024-07-15T17:07:30.099Z"
   },
   {
    "duration": 10,
    "start_time": "2024-07-15T17:08:19.755Z"
   },
   {
    "duration": 13,
    "start_time": "2024-07-15T17:08:32.787Z"
   },
   {
    "duration": 10,
    "start_time": "2024-07-15T17:13:16.216Z"
   },
   {
    "duration": 10,
    "start_time": "2024-07-15T17:13:22.428Z"
   },
   {
    "duration": 963,
    "start_time": "2024-07-15T17:24:06.240Z"
   },
   {
    "duration": 1019,
    "start_time": "2024-07-15T17:24:56.934Z"
   },
   {
    "duration": 12,
    "start_time": "2024-07-15T17:25:34.708Z"
   },
   {
    "duration": 1018,
    "start_time": "2024-07-15T17:26:02.444Z"
   },
   {
    "duration": 16,
    "start_time": "2024-07-15T17:26:08.967Z"
   },
   {
    "duration": 17,
    "start_time": "2024-07-15T17:26:21.109Z"
   },
   {
    "duration": 18,
    "start_time": "2024-07-15T17:26:24.975Z"
   },
   {
    "duration": 11,
    "start_time": "2024-07-15T17:26:31.307Z"
   },
   {
    "duration": 11,
    "start_time": "2024-07-15T17:27:31.177Z"
   },
   {
    "duration": 11,
    "start_time": "2024-07-15T17:28:20.199Z"
   },
   {
    "duration": 10,
    "start_time": "2024-07-15T17:31:03.848Z"
   },
   {
    "duration": 9,
    "start_time": "2024-07-15T17:31:58.286Z"
   },
   {
    "duration": 10,
    "start_time": "2024-07-15T17:32:56.902Z"
   },
   {
    "duration": 14,
    "start_time": "2024-07-15T17:33:30.650Z"
   },
   {
    "duration": 11,
    "start_time": "2024-07-15T17:33:34.312Z"
   },
   {
    "duration": 8,
    "start_time": "2024-07-15T19:56:57.004Z"
   },
   {
    "duration": 3,
    "start_time": "2024-07-15T19:58:05.340Z"
   },
   {
    "duration": 14,
    "start_time": "2024-07-15T19:58:12.581Z"
   },
   {
    "duration": 498,
    "start_time": "2024-07-15T19:58:55.538Z"
   },
   {
    "duration": 4,
    "start_time": "2024-07-15T20:00:42.414Z"
   },
   {
    "duration": 9,
    "start_time": "2024-07-15T20:00:51.326Z"
   },
   {
    "duration": 10,
    "start_time": "2024-07-15T20:04:00.114Z"
   },
   {
    "duration": 9,
    "start_time": "2024-07-15T20:06:01.040Z"
   },
   {
    "duration": 5,
    "start_time": "2024-07-15T20:06:02.858Z"
   },
   {
    "duration": 27,
    "start_time": "2024-07-15T20:06:19.598Z"
   },
   {
    "duration": 50,
    "start_time": "2024-07-15T20:06:41.952Z"
   },
   {
    "duration": 18,
    "start_time": "2024-07-15T20:12:00.992Z"
   },
   {
    "duration": 5,
    "start_time": "2024-07-15T20:12:33.181Z"
   },
   {
    "duration": 57,
    "start_time": "2024-07-15T20:23:31.619Z"
   },
   {
    "duration": 9,
    "start_time": "2024-07-15T20:25:32.405Z"
   },
   {
    "duration": 14,
    "start_time": "2024-07-15T20:25:36.921Z"
   },
   {
    "duration": 4,
    "start_time": "2024-07-15T20:25:38.771Z"
   },
   {
    "duration": 13,
    "start_time": "2024-07-15T20:26:23.939Z"
   },
   {
    "duration": 13,
    "start_time": "2024-07-15T20:27:22.431Z"
   },
   {
    "duration": 4,
    "start_time": "2024-07-15T20:28:19.829Z"
   },
   {
    "duration": 4,
    "start_time": "2024-07-15T20:28:47.350Z"
   },
   {
    "duration": 1032,
    "start_time": "2024-07-15T20:40:39.102Z"
   },
   {
    "duration": 61,
    "start_time": "2024-07-15T20:40:40.136Z"
   },
   {
    "duration": 11,
    "start_time": "2024-07-15T20:40:40.198Z"
   },
   {
    "duration": 19,
    "start_time": "2024-07-15T20:40:40.210Z"
   },
   {
    "duration": 32,
    "start_time": "2024-07-15T20:40:40.231Z"
   },
   {
    "duration": 12,
    "start_time": "2024-07-15T20:40:40.267Z"
   },
   {
    "duration": 22,
    "start_time": "2024-07-15T20:40:40.281Z"
   },
   {
    "duration": 17,
    "start_time": "2024-07-15T20:40:40.304Z"
   },
   {
    "duration": 14,
    "start_time": "2024-07-15T20:40:40.323Z"
   },
   {
    "duration": 15,
    "start_time": "2024-07-15T20:40:40.338Z"
   },
   {
    "duration": 12,
    "start_time": "2024-07-15T20:40:40.355Z"
   },
   {
    "duration": 5,
    "start_time": "2024-07-15T20:40:40.368Z"
   },
   {
    "duration": 28,
    "start_time": "2024-07-15T20:40:40.374Z"
   },
   {
    "duration": 171,
    "start_time": "2024-07-15T20:40:40.405Z"
   },
   {
    "duration": 170,
    "start_time": "2024-07-15T20:40:40.578Z"
   },
   {
    "duration": 169,
    "start_time": "2024-07-15T20:40:40.749Z"
   },
   {
    "duration": 157,
    "start_time": "2024-07-15T20:40:40.919Z"
   },
   {
    "duration": 165,
    "start_time": "2024-07-15T20:40:41.077Z"
   },
   {
    "duration": 13,
    "start_time": "2024-07-15T20:40:41.244Z"
   },
   {
    "duration": 34,
    "start_time": "2024-07-15T20:40:41.258Z"
   },
   {
    "duration": 6,
    "start_time": "2024-07-15T20:40:41.294Z"
   },
   {
    "duration": 2041,
    "start_time": "2024-07-15T20:40:41.302Z"
   },
   {
    "duration": 486,
    "start_time": "2024-07-15T20:40:43.345Z"
   },
   {
    "duration": 5,
    "start_time": "2024-07-15T20:40:43.832Z"
   },
   {
    "duration": 136,
    "start_time": "2024-07-15T20:40:43.838Z"
   },
   {
    "duration": 128,
    "start_time": "2024-07-15T20:40:43.976Z"
   },
   {
    "duration": 78,
    "start_time": "2024-07-15T20:40:44.105Z"
   },
   {
    "duration": 30,
    "start_time": "2024-07-15T20:40:44.184Z"
   },
   {
    "duration": 196,
    "start_time": "2024-07-15T20:40:44.215Z"
   },
   {
    "duration": 156,
    "start_time": "2024-07-15T20:40:44.413Z"
   },
   {
    "duration": 11,
    "start_time": "2024-07-15T20:40:44.570Z"
   },
   {
    "duration": 9,
    "start_time": "2024-07-15T20:40:44.582Z"
   },
   {
    "duration": 11,
    "start_time": "2024-07-15T20:40:44.601Z"
   },
   {
    "duration": 12,
    "start_time": "2024-07-15T20:40:44.613Z"
   },
   {
    "duration": 15,
    "start_time": "2024-07-15T20:40:44.626Z"
   },
   {
    "duration": 9,
    "start_time": "2024-07-15T20:40:44.643Z"
   },
   {
    "duration": 9,
    "start_time": "2024-07-15T20:40:44.654Z"
   },
   {
    "duration": 12,
    "start_time": "2024-07-15T20:40:44.664Z"
   },
   {
    "duration": 9,
    "start_time": "2024-07-15T20:40:44.702Z"
   },
   {
    "duration": 12,
    "start_time": "2024-07-15T20:40:44.712Z"
   },
   {
    "duration": 3,
    "start_time": "2024-07-15T20:40:44.727Z"
   },
   {
    "duration": 14,
    "start_time": "2024-07-15T20:40:44.731Z"
   },
   {
    "duration": 5,
    "start_time": "2024-07-15T20:40:49.678Z"
   },
   {
    "duration": 5,
    "start_time": "2024-07-15T20:52:24.362Z"
   },
   {
    "duration": 13,
    "start_time": "2024-07-15T20:52:59.895Z"
   },
   {
    "duration": 4,
    "start_time": "2024-07-15T20:53:04.516Z"
   },
   {
    "duration": 17,
    "start_time": "2024-07-15T20:53:40.346Z"
   },
   {
    "duration": 4,
    "start_time": "2024-07-15T20:53:44.553Z"
   },
   {
    "duration": 4,
    "start_time": "2024-07-15T20:59:20.870Z"
   },
   {
    "duration": 4,
    "start_time": "2024-07-15T20:59:24.018Z"
   },
   {
    "duration": 93,
    "start_time": "2024-07-15T21:00:32.290Z"
   },
   {
    "duration": 4,
    "start_time": "2024-07-15T21:00:46.776Z"
   },
   {
    "duration": 4,
    "start_time": "2024-07-15T21:00:58.919Z"
   },
   {
    "duration": 1060,
    "start_time": "2024-07-15T21:33:06.071Z"
   },
   {
    "duration": 64,
    "start_time": "2024-07-15T21:33:07.133Z"
   },
   {
    "duration": 13,
    "start_time": "2024-07-15T21:33:07.198Z"
   },
   {
    "duration": 13,
    "start_time": "2024-07-15T21:33:07.213Z"
   },
   {
    "duration": 18,
    "start_time": "2024-07-15T21:33:07.228Z"
   },
   {
    "duration": 8,
    "start_time": "2024-07-15T21:33:07.248Z"
   },
   {
    "duration": 70,
    "start_time": "2024-07-15T21:33:07.257Z"
   },
   {
    "duration": 19,
    "start_time": "2024-07-15T21:33:07.328Z"
   },
   {
    "duration": 17,
    "start_time": "2024-07-15T21:33:07.349Z"
   },
   {
    "duration": 15,
    "start_time": "2024-07-15T21:33:07.368Z"
   },
   {
    "duration": 20,
    "start_time": "2024-07-15T21:33:07.384Z"
   },
   {
    "duration": 5,
    "start_time": "2024-07-15T21:33:07.406Z"
   },
   {
    "duration": 10,
    "start_time": "2024-07-15T21:33:07.412Z"
   },
   {
    "duration": 185,
    "start_time": "2024-07-15T21:33:07.424Z"
   },
   {
    "duration": 159,
    "start_time": "2024-07-15T21:33:07.610Z"
   },
   {
    "duration": 153,
    "start_time": "2024-07-15T21:33:07.770Z"
   },
   {
    "duration": 152,
    "start_time": "2024-07-15T21:33:07.924Z"
   },
   {
    "duration": 151,
    "start_time": "2024-07-15T21:33:08.077Z"
   },
   {
    "duration": 12,
    "start_time": "2024-07-15T21:33:08.230Z"
   },
   {
    "duration": 23,
    "start_time": "2024-07-15T21:33:08.243Z"
   },
   {
    "duration": 6,
    "start_time": "2024-07-15T21:33:08.267Z"
   },
   {
    "duration": 2035,
    "start_time": "2024-07-15T21:33:08.274Z"
   },
   {
    "duration": 506,
    "start_time": "2024-07-15T21:33:10.310Z"
   },
   {
    "duration": 5,
    "start_time": "2024-07-15T21:33:10.817Z"
   },
   {
    "duration": 137,
    "start_time": "2024-07-15T21:33:10.823Z"
   },
   {
    "duration": 127,
    "start_time": "2024-07-15T21:33:10.961Z"
   },
   {
    "duration": 82,
    "start_time": "2024-07-15T21:33:11.089Z"
   },
   {
    "duration": 37,
    "start_time": "2024-07-15T21:33:11.173Z"
   },
   {
    "duration": 203,
    "start_time": "2024-07-15T21:33:11.212Z"
   },
   {
    "duration": 160,
    "start_time": "2024-07-15T21:33:11.417Z"
   },
   {
    "duration": 10,
    "start_time": "2024-07-15T21:33:11.578Z"
   },
   {
    "duration": 15,
    "start_time": "2024-07-15T21:33:11.590Z"
   },
   {
    "duration": 10,
    "start_time": "2024-07-15T21:33:11.606Z"
   },
   {
    "duration": 13,
    "start_time": "2024-07-15T21:33:11.617Z"
   },
   {
    "duration": 10,
    "start_time": "2024-07-15T21:33:11.631Z"
   },
   {
    "duration": 27,
    "start_time": "2024-07-15T21:33:11.642Z"
   },
   {
    "duration": 57,
    "start_time": "2024-07-15T21:33:11.670Z"
   },
   {
    "duration": 44,
    "start_time": "2024-07-15T21:33:11.728Z"
   },
   {
    "duration": 10,
    "start_time": "2024-07-15T21:33:11.774Z"
   },
   {
    "duration": 16,
    "start_time": "2024-07-15T21:33:11.786Z"
   },
   {
    "duration": 4,
    "start_time": "2024-07-15T21:33:11.805Z"
   },
   {
    "duration": 14,
    "start_time": "2024-07-15T21:33:11.810Z"
   },
   {
    "duration": 4,
    "start_time": "2024-07-15T21:33:11.825Z"
   },
   {
    "duration": 1203,
    "start_time": "2024-07-15T21:44:45.229Z"
   },
   {
    "duration": 78,
    "start_time": "2024-07-15T21:44:46.434Z"
   },
   {
    "duration": 16,
    "start_time": "2024-07-15T21:44:46.513Z"
   },
   {
    "duration": 18,
    "start_time": "2024-07-15T21:44:46.531Z"
   },
   {
    "duration": 32,
    "start_time": "2024-07-15T21:44:46.550Z"
   },
   {
    "duration": 12,
    "start_time": "2024-07-15T21:44:46.584Z"
   },
   {
    "duration": 24,
    "start_time": "2024-07-15T21:44:46.597Z"
   },
   {
    "duration": 21,
    "start_time": "2024-07-15T21:44:46.622Z"
   },
   {
    "duration": 18,
    "start_time": "2024-07-15T21:44:46.644Z"
   },
   {
    "duration": 42,
    "start_time": "2024-07-15T21:44:46.665Z"
   },
   {
    "duration": 17,
    "start_time": "2024-07-15T21:44:46.709Z"
   },
   {
    "duration": 14,
    "start_time": "2024-07-15T21:44:46.727Z"
   },
   {
    "duration": 15,
    "start_time": "2024-07-15T21:44:46.742Z"
   },
   {
    "duration": 228,
    "start_time": "2024-07-15T21:44:46.759Z"
   },
   {
    "duration": 220,
    "start_time": "2024-07-15T21:44:46.989Z"
   },
   {
    "duration": 247,
    "start_time": "2024-07-15T21:44:47.211Z"
   },
   {
    "duration": 221,
    "start_time": "2024-07-15T21:44:47.460Z"
   },
   {
    "duration": 205,
    "start_time": "2024-07-15T21:44:47.683Z"
   },
   {
    "duration": 27,
    "start_time": "2024-07-15T21:44:47.890Z"
   },
   {
    "duration": 33,
    "start_time": "2024-07-15T21:44:47.919Z"
   },
   {
    "duration": 7,
    "start_time": "2024-07-15T21:44:47.954Z"
   },
   {
    "duration": 2598,
    "start_time": "2024-07-15T21:44:47.963Z"
   },
   {
    "duration": 611,
    "start_time": "2024-07-15T21:44:50.563Z"
   },
   {
    "duration": 6,
    "start_time": "2024-07-15T21:44:51.176Z"
   },
   {
    "duration": 171,
    "start_time": "2024-07-15T21:44:51.183Z"
   },
   {
    "duration": 169,
    "start_time": "2024-07-15T21:44:51.355Z"
   },
   {
    "duration": 119,
    "start_time": "2024-07-15T21:44:51.526Z"
   },
   {
    "duration": 21,
    "start_time": "2024-07-15T21:44:51.649Z"
   },
   {
    "duration": 279,
    "start_time": "2024-07-15T21:44:51.671Z"
   },
   {
    "duration": 203,
    "start_time": "2024-07-15T21:44:51.952Z"
   },
   {
    "duration": 14,
    "start_time": "2024-07-15T21:44:52.156Z"
   },
   {
    "duration": 18,
    "start_time": "2024-07-15T21:44:52.171Z"
   },
   {
    "duration": 30,
    "start_time": "2024-07-15T21:44:52.191Z"
   },
   {
    "duration": 12,
    "start_time": "2024-07-15T21:44:52.223Z"
   },
   {
    "duration": 12,
    "start_time": "2024-07-15T21:44:52.237Z"
   },
   {
    "duration": 20,
    "start_time": "2024-07-15T21:44:52.250Z"
   },
   {
    "duration": 35,
    "start_time": "2024-07-15T21:44:52.272Z"
   },
   {
    "duration": 14,
    "start_time": "2024-07-15T21:44:52.309Z"
   },
   {
    "duration": 20,
    "start_time": "2024-07-15T21:44:52.325Z"
   },
   {
    "duration": 33,
    "start_time": "2024-07-15T21:44:52.347Z"
   },
   {
    "duration": 5,
    "start_time": "2024-07-15T21:44:52.382Z"
   },
   {
    "duration": 30,
    "start_time": "2024-07-15T21:44:52.389Z"
   },
   {
    "duration": 5,
    "start_time": "2024-07-15T21:44:52.420Z"
   },
   {
    "duration": 81,
    "start_time": "2024-07-15T22:48:13.700Z"
   },
   {
    "duration": 154,
    "start_time": "2024-07-15T22:55:15.967Z"
   },
   {
    "duration": 10,
    "start_time": "2024-07-15T23:03:21.765Z"
   },
   {
    "duration": 53,
    "start_time": "2024-07-16T11:38:19.877Z"
   },
   {
    "duration": 1377,
    "start_time": "2024-07-16T11:38:27.252Z"
   },
   {
    "duration": 201,
    "start_time": "2024-07-16T11:38:28.631Z"
   },
   {
    "duration": 16,
    "start_time": "2024-07-16T11:38:28.834Z"
   },
   {
    "duration": 15,
    "start_time": "2024-07-16T11:38:28.852Z"
   },
   {
    "duration": 34,
    "start_time": "2024-07-16T11:38:28.869Z"
   },
   {
    "duration": 14,
    "start_time": "2024-07-16T11:38:35.117Z"
   },
   {
    "duration": 5,
    "start_time": "2024-07-16T11:39:15.943Z"
   },
   {
    "duration": 65,
    "start_time": "2024-07-16T11:40:41.410Z"
   },
   {
    "duration": 11,
    "start_time": "2024-07-16T11:41:14.851Z"
   },
   {
    "duration": 11,
    "start_time": "2024-07-16T11:41:57.255Z"
   },
   {
    "duration": 11,
    "start_time": "2024-07-16T11:42:41.759Z"
   },
   {
    "duration": 10,
    "start_time": "2024-07-16T11:43:51.532Z"
   },
   {
    "duration": 14,
    "start_time": "2024-07-16T15:42:50.038Z"
   },
   {
    "duration": 6,
    "start_time": "2024-07-16T15:43:51.204Z"
   },
   {
    "duration": 15,
    "start_time": "2024-07-16T15:44:01.269Z"
   },
   {
    "duration": 14,
    "start_time": "2024-07-16T15:44:11.812Z"
   },
   {
    "duration": 1144,
    "start_time": "2024-07-16T15:44:32.678Z"
   },
   {
    "duration": 5,
    "start_time": "2024-07-16T15:44:42.037Z"
   },
   {
    "duration": 23,
    "start_time": "2024-07-16T15:45:23.986Z"
   },
   {
    "duration": 24,
    "start_time": "2024-07-16T15:45:37.254Z"
   },
   {
    "duration": 27,
    "start_time": "2024-07-16T15:45:58.346Z"
   },
   {
    "duration": 13,
    "start_time": "2024-07-16T15:46:04.753Z"
   },
   {
    "duration": 12,
    "start_time": "2024-07-16T15:46:20.760Z"
   },
   {
    "duration": 20,
    "start_time": "2024-07-16T15:46:58.368Z"
   },
   {
    "duration": 19,
    "start_time": "2024-07-16T15:51:48.540Z"
   },
   {
    "duration": 17,
    "start_time": "2024-07-16T15:57:03.710Z"
   },
   {
    "duration": 22,
    "start_time": "2024-07-16T15:57:29.835Z"
   },
   {
    "duration": 18,
    "start_time": "2024-07-16T15:57:36.106Z"
   },
   {
    "duration": 20,
    "start_time": "2024-07-16T15:58:01.399Z"
   },
   {
    "duration": 29,
    "start_time": "2024-07-16T15:58:40.877Z"
   },
   {
    "duration": 20,
    "start_time": "2024-07-16T16:05:09.642Z"
   },
   {
    "duration": 27,
    "start_time": "2024-07-16T16:05:14.237Z"
   },
   {
    "duration": 13,
    "start_time": "2024-07-16T16:06:29.509Z"
   },
   {
    "duration": 5,
    "start_time": "2024-07-16T16:06:47.027Z"
   },
   {
    "duration": 5,
    "start_time": "2024-07-16T16:06:52.771Z"
   },
   {
    "duration": 23,
    "start_time": "2024-07-16T16:07:06.853Z"
   },
   {
    "duration": 16,
    "start_time": "2024-07-16T16:07:27.466Z"
   },
   {
    "duration": 21,
    "start_time": "2024-07-16T16:07:34.033Z"
   },
   {
    "duration": 25,
    "start_time": "2024-07-16T16:10:10.442Z"
   },
   {
    "duration": 3,
    "start_time": "2024-07-16T16:10:44.126Z"
   },
   {
    "duration": 74,
    "start_time": "2024-07-16T16:10:44.131Z"
   },
   {
    "duration": 15,
    "start_time": "2024-07-16T16:10:44.207Z"
   },
   {
    "duration": 22,
    "start_time": "2024-07-16T16:10:44.224Z"
   },
   {
    "duration": 48,
    "start_time": "2024-07-16T16:10:44.247Z"
   },
   {
    "duration": 20,
    "start_time": "2024-07-16T16:10:44.296Z"
   },
   {
    "duration": 27,
    "start_time": "2024-07-16T16:10:52.636Z"
   },
   {
    "duration": 24,
    "start_time": "2024-07-16T16:14:11.318Z"
   },
   {
    "duration": 6,
    "start_time": "2024-07-16T16:14:23.208Z"
   },
   {
    "duration": 6,
    "start_time": "2024-07-16T16:16:35.209Z"
   },
   {
    "duration": 19,
    "start_time": "2024-07-16T16:30:04.036Z"
   },
   {
    "duration": 1143,
    "start_time": "2024-07-16T16:33:22.573Z"
   },
   {
    "duration": 71,
    "start_time": "2024-07-16T16:33:23.717Z"
   },
   {
    "duration": 13,
    "start_time": "2024-07-16T16:33:23.790Z"
   },
   {
    "duration": 13,
    "start_time": "2024-07-16T16:33:23.805Z"
   },
   {
    "duration": 16,
    "start_time": "2024-07-16T16:33:23.819Z"
   },
   {
    "duration": 46,
    "start_time": "2024-07-16T16:33:23.837Z"
   },
   {
    "duration": 7,
    "start_time": "2024-07-16T16:33:23.885Z"
   },
   {
    "duration": 15,
    "start_time": "2024-07-16T16:33:23.894Z"
   },
   {
    "duration": 18,
    "start_time": "2024-07-16T16:33:23.910Z"
   },
   {
    "duration": 38,
    "start_time": "2024-07-16T16:33:23.930Z"
   },
   {
    "duration": 20,
    "start_time": "2024-07-16T16:33:23.970Z"
   },
   {
    "duration": 22,
    "start_time": "2024-07-16T16:33:23.992Z"
   },
   {
    "duration": 18,
    "start_time": "2024-07-16T16:33:24.016Z"
   },
   {
    "duration": 112,
    "start_time": "2024-07-16T16:33:24.035Z"
   },
   {
    "duration": 13,
    "start_time": "2024-07-16T16:33:24.161Z"
   },
   {
    "duration": 8,
    "start_time": "2024-07-16T16:33:24.176Z"
   },
   {
    "duration": 195,
    "start_time": "2024-07-16T16:33:26.988Z"
   },
   {
    "duration": 190,
    "start_time": "2024-07-16T16:33:37.210Z"
   },
   {
    "duration": 198,
    "start_time": "2024-07-16T16:33:55.985Z"
   },
   {
    "duration": 125,
    "start_time": "2024-07-16T16:42:56.412Z"
   },
   {
    "duration": 30,
    "start_time": "2024-07-16T16:43:22.974Z"
   },
   {
    "duration": 16,
    "start_time": "2024-07-16T16:44:47.575Z"
   },
   {
    "duration": 31,
    "start_time": "2024-07-16T16:44:52.176Z"
   },
   {
    "duration": 24,
    "start_time": "2024-07-16T16:46:23.041Z"
   },
   {
    "duration": 47,
    "start_time": "2024-07-16T16:47:38.936Z"
   },
   {
    "duration": 32,
    "start_time": "2024-07-16T16:49:17.659Z"
   },
   {
    "duration": 12,
    "start_time": "2024-07-16T16:49:40.157Z"
   },
   {
    "duration": 30,
    "start_time": "2024-07-16T16:50:23.740Z"
   },
   {
    "duration": 25,
    "start_time": "2024-07-16T16:50:42.628Z"
   },
   {
    "duration": 31,
    "start_time": "2024-07-16T16:50:46.656Z"
   },
   {
    "duration": 7,
    "start_time": "2024-07-16T16:52:56.035Z"
   },
   {
    "duration": 35,
    "start_time": "2024-07-16T16:53:22.071Z"
   },
   {
    "duration": 4,
    "start_time": "2024-07-16T18:01:45.663Z"
   },
   {
    "duration": 58,
    "start_time": "2024-07-16T18:03:18.533Z"
   },
   {
    "duration": 1208,
    "start_time": "2024-07-16T18:03:50.993Z"
   },
   {
    "duration": 78,
    "start_time": "2024-07-16T18:03:52.203Z"
   },
   {
    "duration": 16,
    "start_time": "2024-07-16T18:03:52.288Z"
   },
   {
    "duration": 14,
    "start_time": "2024-07-16T18:03:52.306Z"
   },
   {
    "duration": 18,
    "start_time": "2024-07-16T18:03:52.322Z"
   },
   {
    "duration": 43,
    "start_time": "2024-07-16T18:03:52.341Z"
   },
   {
    "duration": 9,
    "start_time": "2024-07-16T18:03:52.386Z"
   },
   {
    "duration": 15,
    "start_time": "2024-07-16T18:03:52.397Z"
   },
   {
    "duration": 15,
    "start_time": "2024-07-16T18:03:52.414Z"
   },
   {
    "duration": 43,
    "start_time": "2024-07-16T18:03:52.431Z"
   },
   {
    "duration": 9,
    "start_time": "2024-07-16T18:03:52.480Z"
   },
   {
    "duration": 18,
    "start_time": "2024-07-16T18:03:52.491Z"
   },
   {
    "duration": 21,
    "start_time": "2024-07-16T18:03:52.511Z"
   },
   {
    "duration": 87,
    "start_time": "2024-07-16T18:03:52.534Z"
   },
   {
    "duration": 7,
    "start_time": "2024-07-16T18:03:52.622Z"
   },
   {
    "duration": 8,
    "start_time": "2024-07-16T18:03:52.630Z"
   },
   {
    "duration": 250,
    "start_time": "2024-07-16T18:03:52.640Z"
   },
   {
    "duration": 178,
    "start_time": "2024-07-16T18:03:52.891Z"
   },
   {
    "duration": 170,
    "start_time": "2024-07-16T18:03:53.075Z"
   },
   {
    "duration": 176,
    "start_time": "2024-07-16T18:03:53.247Z"
   },
   {
    "duration": 176,
    "start_time": "2024-07-16T18:03:53.424Z"
   },
   {
    "duration": 14,
    "start_time": "2024-07-16T18:03:53.602Z"
   },
   {
    "duration": 33,
    "start_time": "2024-07-16T18:03:56.764Z"
   },
   {
    "duration": 26,
    "start_time": "2024-07-16T18:08:46.413Z"
   },
   {
    "duration": 8,
    "start_time": "2024-07-16T18:11:47.845Z"
   },
   {
    "duration": 1493,
    "start_time": "2024-07-16T18:11:59.447Z"
   },
   {
    "duration": 255,
    "start_time": "2024-07-16T18:13:23.685Z"
   },
   {
    "duration": 1419,
    "start_time": "2024-07-16T18:13:38.115Z"
   },
   {
    "duration": 463,
    "start_time": "2024-07-16T18:17:53.501Z"
   },
   {
    "duration": 573,
    "start_time": "2024-07-16T18:18:59.157Z"
   },
   {
    "duration": 5,
    "start_time": "2024-07-16T18:25:21.006Z"
   },
   {
    "duration": 156,
    "start_time": "2024-07-16T18:25:23.695Z"
   },
   {
    "duration": 149,
    "start_time": "2024-07-16T18:25:33.566Z"
   },
   {
    "duration": 51,
    "start_time": "2024-07-16T18:27:25.574Z"
   },
   {
    "duration": 1159,
    "start_time": "2024-07-16T18:28:14.666Z"
   },
   {
    "duration": 71,
    "start_time": "2024-07-16T18:28:15.827Z"
   },
   {
    "duration": 16,
    "start_time": "2024-07-16T18:28:15.900Z"
   },
   {
    "duration": 32,
    "start_time": "2024-07-16T18:28:15.918Z"
   },
   {
    "duration": 23,
    "start_time": "2024-07-16T18:28:15.951Z"
   },
   {
    "duration": 21,
    "start_time": "2024-07-16T18:28:15.975Z"
   },
   {
    "duration": 5,
    "start_time": "2024-07-16T18:28:15.998Z"
   },
   {
    "duration": 17,
    "start_time": "2024-07-16T18:28:16.005Z"
   },
   {
    "duration": 18,
    "start_time": "2024-07-16T18:28:16.024Z"
   },
   {
    "duration": 22,
    "start_time": "2024-07-16T18:28:16.060Z"
   },
   {
    "duration": 2,
    "start_time": "2024-07-16T18:28:16.084Z"
   },
   {
    "duration": 19,
    "start_time": "2024-07-16T18:28:16.088Z"
   },
   {
    "duration": 16,
    "start_time": "2024-07-16T18:28:16.109Z"
   },
   {
    "duration": 104,
    "start_time": "2024-07-16T18:28:16.126Z"
   },
   {
    "duration": 7,
    "start_time": "2024-07-16T18:28:16.231Z"
   },
   {
    "duration": 28,
    "start_time": "2024-07-16T18:28:16.240Z"
   },
   {
    "duration": 184,
    "start_time": "2024-07-16T18:28:16.269Z"
   },
   {
    "duration": 178,
    "start_time": "2024-07-16T18:28:16.454Z"
   },
   {
    "duration": 170,
    "start_time": "2024-07-16T18:28:16.634Z"
   },
   {
    "duration": 176,
    "start_time": "2024-07-16T18:28:16.806Z"
   },
   {
    "duration": 171,
    "start_time": "2024-07-16T18:28:16.984Z"
   },
   {
    "duration": 17,
    "start_time": "2024-07-16T18:28:17.156Z"
   },
   {
    "duration": 23,
    "start_time": "2024-07-16T18:28:17.175Z"
   },
   {
    "duration": 167,
    "start_time": "2024-07-16T18:28:17.200Z"
   },
   {
    "duration": 21,
    "start_time": "2024-07-16T18:28:17.369Z"
   },
   {
    "duration": 5,
    "start_time": "2024-07-16T18:28:17.392Z"
   },
   {
    "duration": 1429,
    "start_time": "2024-07-16T18:28:17.398Z"
   },
   {
    "duration": 496,
    "start_time": "2024-07-16T18:28:18.830Z"
   },
   {
    "duration": 5,
    "start_time": "2024-07-16T18:28:19.327Z"
   },
   {
    "duration": 151,
    "start_time": "2024-07-16T18:28:19.334Z"
   },
   {
    "duration": 160,
    "start_time": "2024-07-16T18:28:19.486Z"
   },
   {
    "duration": 54,
    "start_time": "2024-07-16T18:28:23.247Z"
   },
   {
    "duration": 97,
    "start_time": "2024-07-16T18:29:02.982Z"
   },
   {
    "duration": 57,
    "start_time": "2024-07-16T18:29:11.104Z"
   },
   {
    "duration": 38,
    "start_time": "2024-07-16T18:37:16.951Z"
   },
   {
    "duration": 988,
    "start_time": "2024-07-16T18:53:00.689Z"
   },
   {
    "duration": 56,
    "start_time": "2024-07-16T18:54:09.224Z"
   },
   {
    "duration": 56,
    "start_time": "2024-07-16T18:54:22.971Z"
   },
   {
    "duration": 1160,
    "start_time": "2024-07-16T18:54:34.573Z"
   },
   {
    "duration": 1038,
    "start_time": "2024-07-16T18:58:31.110Z"
   },
   {
    "duration": 155,
    "start_time": "2024-07-16T19:00:17.996Z"
   },
   {
    "duration": 165,
    "start_time": "2024-07-16T19:00:25.392Z"
   },
   {
    "duration": 2584,
    "start_time": "2024-07-16T19:00:38.817Z"
   },
   {
    "duration": 154,
    "start_time": "2024-07-16T19:00:52.972Z"
   },
   {
    "duration": 277,
    "start_time": "2024-07-16T19:00:58.065Z"
   },
   {
    "duration": 169,
    "start_time": "2024-07-16T19:01:02.899Z"
   },
   {
    "duration": 169,
    "start_time": "2024-07-16T19:01:08.460Z"
   },
   {
    "duration": 63,
    "start_time": "2024-07-16T19:01:17.392Z"
   },
   {
    "duration": 2268,
    "start_time": "2024-07-16T19:02:17.465Z"
   },
   {
    "duration": 2087,
    "start_time": "2024-07-16T19:02:57.131Z"
   },
   {
    "duration": 2213,
    "start_time": "2024-07-16T19:04:14.916Z"
   },
   {
    "duration": 6,
    "start_time": "2024-07-16T19:22:45.381Z"
   },
   {
    "duration": 12,
    "start_time": "2024-07-16T19:24:29.513Z"
   },
   {
    "duration": 21,
    "start_time": "2024-07-16T19:24:42.235Z"
   },
   {
    "duration": 142,
    "start_time": "2024-07-16T19:24:44.721Z"
   },
   {
    "duration": 171,
    "start_time": "2024-07-16T19:25:56.374Z"
   },
   {
    "duration": 170,
    "start_time": "2024-07-16T19:26:10.518Z"
   },
   {
    "duration": 157,
    "start_time": "2024-07-16T19:26:33.087Z"
   },
   {
    "duration": 163,
    "start_time": "2024-07-16T19:26:36.953Z"
   },
   {
    "duration": 196,
    "start_time": "2024-07-16T19:27:02.084Z"
   },
   {
    "duration": 174,
    "start_time": "2024-07-16T19:30:53.553Z"
   },
   {
    "duration": 196,
    "start_time": "2024-07-16T19:33:06.953Z"
   },
   {
    "duration": 619,
    "start_time": "2024-07-16T19:33:40.468Z"
   },
   {
    "duration": 536,
    "start_time": "2024-07-16T19:34:11.539Z"
   },
   {
    "duration": 117,
    "start_time": "2024-07-16T19:35:11.382Z"
   },
   {
    "duration": 168,
    "start_time": "2024-07-16T19:35:19.030Z"
   },
   {
    "duration": 83,
    "start_time": "2024-07-16T19:35:59.540Z"
   },
   {
    "duration": 204,
    "start_time": "2024-07-16T19:36:07.320Z"
   },
   {
    "duration": 544,
    "start_time": "2024-07-16T19:36:41.959Z"
   },
   {
    "duration": 488,
    "start_time": "2024-07-16T19:36:51.309Z"
   },
   {
    "duration": 306,
    "start_time": "2024-07-16T19:39:41.538Z"
   },
   {
    "duration": 33,
    "start_time": "2024-07-16T19:39:48.853Z"
   },
   {
    "duration": 290,
    "start_time": "2024-07-16T19:41:18.493Z"
   },
   {
    "duration": 129,
    "start_time": "2024-07-16T19:41:26.027Z"
   },
   {
    "duration": 214,
    "start_time": "2024-07-16T19:43:40.113Z"
   },
   {
    "duration": 15,
    "start_time": "2024-07-16T19:44:08.871Z"
   },
   {
    "duration": 211,
    "start_time": "2024-07-16T19:44:15.386Z"
   },
   {
    "duration": 205,
    "start_time": "2024-07-16T20:09:31.635Z"
   },
   {
    "duration": 1115,
    "start_time": "2024-07-16T20:10:19.868Z"
   },
   {
    "duration": 70,
    "start_time": "2024-07-16T20:10:20.985Z"
   },
   {
    "duration": 15,
    "start_time": "2024-07-16T20:10:21.056Z"
   },
   {
    "duration": 14,
    "start_time": "2024-07-16T20:10:21.073Z"
   },
   {
    "duration": 17,
    "start_time": "2024-07-16T20:10:21.088Z"
   },
   {
    "duration": 18,
    "start_time": "2024-07-16T20:10:21.106Z"
   },
   {
    "duration": 5,
    "start_time": "2024-07-16T20:10:21.126Z"
   },
   {
    "duration": 11,
    "start_time": "2024-07-16T20:10:21.161Z"
   },
   {
    "duration": 14,
    "start_time": "2024-07-16T20:10:21.174Z"
   },
   {
    "duration": 17,
    "start_time": "2024-07-16T20:10:21.191Z"
   },
   {
    "duration": 3,
    "start_time": "2024-07-16T20:10:21.209Z"
   },
   {
    "duration": 17,
    "start_time": "2024-07-16T20:10:21.213Z"
   },
   {
    "duration": 16,
    "start_time": "2024-07-16T20:10:21.261Z"
   },
   {
    "duration": 88,
    "start_time": "2024-07-16T20:10:21.278Z"
   },
   {
    "duration": 6,
    "start_time": "2024-07-16T20:10:21.368Z"
   },
   {
    "duration": 14,
    "start_time": "2024-07-16T20:10:21.375Z"
   },
   {
    "duration": 199,
    "start_time": "2024-07-16T20:10:21.390Z"
   },
   {
    "duration": 174,
    "start_time": "2024-07-16T20:10:21.591Z"
   },
   {
    "duration": 174,
    "start_time": "2024-07-16T20:10:21.767Z"
   },
   {
    "duration": 192,
    "start_time": "2024-07-16T20:10:21.943Z"
   },
   {
    "duration": 168,
    "start_time": "2024-07-16T20:10:22.137Z"
   },
   {
    "duration": 14,
    "start_time": "2024-07-16T20:10:22.307Z"
   },
   {
    "duration": 23,
    "start_time": "2024-07-16T20:10:22.322Z"
   },
   {
    "duration": 136,
    "start_time": "2024-07-16T20:10:22.361Z"
   },
   {
    "duration": 24,
    "start_time": "2024-07-16T20:10:22.499Z"
   },
   {
    "duration": 7,
    "start_time": "2024-07-16T20:10:22.524Z"
   },
   {
    "duration": 1458,
    "start_time": "2024-07-16T20:10:22.532Z"
   },
   {
    "duration": 468,
    "start_time": "2024-07-16T20:10:23.993Z"
   },
   {
    "duration": 5,
    "start_time": "2024-07-16T20:10:24.462Z"
   },
   {
    "duration": 150,
    "start_time": "2024-07-16T20:10:24.469Z"
   },
   {
    "duration": 152,
    "start_time": "2024-07-16T20:10:24.620Z"
   },
   {
    "duration": 2078,
    "start_time": "2024-07-16T20:10:24.773Z"
   },
   {
    "duration": 35,
    "start_time": "2024-07-16T20:10:26.852Z"
   },
   {
    "duration": 207,
    "start_time": "2024-07-16T20:10:26.889Z"
   },
   {
    "duration": 202,
    "start_time": "2024-07-16T20:10:27.097Z"
   },
   {
    "duration": 186,
    "start_time": "2024-07-16T20:10:27.301Z"
   },
   {
    "duration": 174,
    "start_time": "2024-07-16T20:10:36.760Z"
   },
   {
    "duration": 576,
    "start_time": "2024-07-16T20:11:09.468Z"
   },
   {
    "duration": 185,
    "start_time": "2024-07-16T20:13:52.586Z"
   },
   {
    "duration": 14,
    "start_time": "2024-07-16T20:30:12.133Z"
   },
   {
    "duration": 13,
    "start_time": "2024-07-16T20:30:17.987Z"
   },
   {
    "duration": 12,
    "start_time": "2024-07-16T20:30:21.244Z"
   },
   {
    "duration": 13,
    "start_time": "2024-07-16T20:46:10.575Z"
   },
   {
    "duration": 14,
    "start_time": "2024-07-16T20:46:19.928Z"
   },
   {
    "duration": 14,
    "start_time": "2024-07-16T20:46:34.149Z"
   },
   {
    "duration": 12,
    "start_time": "2024-07-16T20:48:43.521Z"
   },
   {
    "duration": 12,
    "start_time": "2024-07-16T20:48:48.306Z"
   },
   {
    "duration": 12,
    "start_time": "2024-07-16T20:48:58.432Z"
   },
   {
    "duration": 12,
    "start_time": "2024-07-16T20:49:01.193Z"
   },
   {
    "duration": 19,
    "start_time": "2024-07-16T21:55:36.527Z"
   },
   {
    "duration": 17,
    "start_time": "2024-07-16T21:55:55.642Z"
   },
   {
    "duration": 5,
    "start_time": "2024-07-16T21:56:00.366Z"
   },
   {
    "duration": 17,
    "start_time": "2024-07-16T22:00:11.946Z"
   },
   {
    "duration": 5,
    "start_time": "2024-07-16T22:00:17.402Z"
   },
   {
    "duration": 1052,
    "start_time": "2024-07-17T11:51:11.037Z"
   },
   {
    "duration": 72,
    "start_time": "2024-07-17T11:51:12.091Z"
   },
   {
    "duration": 15,
    "start_time": "2024-07-17T11:51:12.165Z"
   },
   {
    "duration": 13,
    "start_time": "2024-07-17T11:51:12.182Z"
   },
   {
    "duration": 17,
    "start_time": "2024-07-17T11:51:12.197Z"
   },
   {
    "duration": 19,
    "start_time": "2024-07-17T11:51:12.215Z"
   },
   {
    "duration": 5,
    "start_time": "2024-07-17T11:51:12.236Z"
   },
   {
    "duration": 12,
    "start_time": "2024-07-17T11:51:12.242Z"
   },
   {
    "duration": 41,
    "start_time": "2024-07-17T11:51:12.255Z"
   },
   {
    "duration": 17,
    "start_time": "2024-07-17T11:51:12.298Z"
   },
   {
    "duration": 2,
    "start_time": "2024-07-17T11:51:12.316Z"
   },
   {
    "duration": 25,
    "start_time": "2024-07-17T11:51:12.319Z"
   },
   {
    "duration": 15,
    "start_time": "2024-07-17T11:51:12.346Z"
   },
   {
    "duration": 75,
    "start_time": "2024-07-17T11:51:12.384Z"
   },
   {
    "duration": 6,
    "start_time": "2024-07-17T11:51:12.461Z"
   },
   {
    "duration": 76,
    "start_time": "2024-07-17T11:51:12.469Z"
   },
   {
    "duration": 169,
    "start_time": "2024-07-17T11:51:12.546Z"
   },
   {
    "duration": 159,
    "start_time": "2024-07-17T11:51:12.717Z"
   },
   {
    "duration": 165,
    "start_time": "2024-07-17T11:51:12.885Z"
   },
   {
    "duration": 164,
    "start_time": "2024-07-17T11:51:13.052Z"
   },
   {
    "duration": 168,
    "start_time": "2024-07-17T11:51:13.218Z"
   },
   {
    "duration": 15,
    "start_time": "2024-07-17T11:51:13.387Z"
   },
   {
    "duration": 47,
    "start_time": "2024-07-17T11:51:13.403Z"
   },
   {
    "duration": 158,
    "start_time": "2024-07-17T11:51:13.451Z"
   },
   {
    "duration": 24,
    "start_time": "2024-07-17T11:51:13.611Z"
   },
   {
    "duration": 7,
    "start_time": "2024-07-17T11:51:13.636Z"
   },
   {
    "duration": 1394,
    "start_time": "2024-07-17T11:51:13.644Z"
   },
   {
    "duration": 475,
    "start_time": "2024-07-17T11:51:15.041Z"
   },
   {
    "duration": 4,
    "start_time": "2024-07-17T11:51:15.518Z"
   },
   {
    "duration": 162,
    "start_time": "2024-07-17T11:51:15.523Z"
   },
   {
    "duration": 168,
    "start_time": "2024-07-17T11:51:15.686Z"
   },
   {
    "duration": 1939,
    "start_time": "2024-07-17T11:51:15.856Z"
   },
   {
    "duration": 30,
    "start_time": "2024-07-17T11:51:17.797Z"
   },
   {
    "duration": 198,
    "start_time": "2024-07-17T11:51:17.829Z"
   },
   {
    "duration": 178,
    "start_time": "2024-07-17T11:51:18.029Z"
   },
   {
    "duration": 183,
    "start_time": "2024-07-17T11:51:18.208Z"
   },
   {
    "duration": 174,
    "start_time": "2024-07-17T11:51:18.393Z"
   },
   {
    "duration": 544,
    "start_time": "2024-07-17T11:51:18.568Z"
   },
   {
    "duration": 11,
    "start_time": "2024-07-17T11:51:19.114Z"
   },
   {
    "duration": 10,
    "start_time": "2024-07-17T11:51:19.126Z"
   },
   {
    "duration": 9,
    "start_time": "2024-07-17T11:51:19.138Z"
   },
   {
    "duration": 13,
    "start_time": "2024-07-17T11:51:19.148Z"
   },
   {
    "duration": 34,
    "start_time": "2024-07-17T11:51:19.162Z"
   },
   {
    "duration": 10,
    "start_time": "2024-07-17T11:51:19.198Z"
   },
   {
    "duration": 10,
    "start_time": "2024-07-17T11:51:19.210Z"
   },
   {
    "duration": 10,
    "start_time": "2024-07-17T11:51:19.221Z"
   },
   {
    "duration": 12,
    "start_time": "2024-07-17T11:51:19.232Z"
   },
   {
    "duration": 8,
    "start_time": "2024-07-17T11:51:19.245Z"
   },
   {
    "duration": 16,
    "start_time": "2024-07-17T11:51:19.286Z"
   },
   {
    "duration": 8,
    "start_time": "2024-07-17T11:51:19.303Z"
   },
   {
    "duration": 18,
    "start_time": "2024-07-17T11:51:19.312Z"
   },
   {
    "duration": 4,
    "start_time": "2024-07-17T11:51:19.331Z"
   }
  ],
  "kernelspec": {
   "display_name": "Python 3 (ipykernel)",
   "language": "python",
   "name": "python3"
  },
  "language_info": {
   "codemirror_mode": {
    "name": "ipython",
    "version": 3
   },
   "file_extension": ".py",
   "mimetype": "text/x-python",
   "name": "python",
   "nbconvert_exporter": "python",
   "pygments_lexer": "ipython3",
   "version": "3.9.5"
  },
  "toc": {
   "base_numbering": 1,
   "nav_menu": {
    "height": "110.4px",
    "width": "345.6px"
   },
   "number_sections": true,
   "sideBar": true,
   "skip_h1_title": true,
   "title_cell": "Table of Contents",
   "title_sidebar": "Contents",
   "toc_cell": false,
   "toc_position": {
    "height": "calc(100% - 180px)",
    "left": "10px",
    "top": "150px",
    "width": "181.938px"
   },
   "toc_section_display": true,
   "toc_window_display": true
  }
 },
 "nbformat": 4,
 "nbformat_minor": 2
}
