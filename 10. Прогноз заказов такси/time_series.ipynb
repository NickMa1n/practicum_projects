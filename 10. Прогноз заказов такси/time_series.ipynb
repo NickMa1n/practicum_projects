{
 "cells": [
  {
   "cell_type": "markdown",
   "metadata": {
    "toc": true
   },
   "source": [
    "<h1>Содержание<span class=\"tocSkip\"></span></h1>\n",
    "<div class=\"toc\"><ul class=\"toc-item\"><li><span><a href=\"#Подготовка\" data-toc-modified-id=\"Подготовка-1\"><span class=\"toc-item-num\">1&nbsp;&nbsp;</span>Подготовка</a></span></li><li><span><a href=\"#Анализ\" data-toc-modified-id=\"Анализ-2\"><span class=\"toc-item-num\">2&nbsp;&nbsp;</span>Анализ</a></span></li><li><span><a href=\"#Обучение\" data-toc-modified-id=\"Обучение-3\"><span class=\"toc-item-num\">3&nbsp;&nbsp;</span>Обучение</a></span><ul class=\"toc-item\"><li><span><a href=\"#LinearRegression\" data-toc-modified-id=\"LinearRegression-3.1\"><span class=\"toc-item-num\">3.1&nbsp;&nbsp;</span>LinearRegression</a></span></li><li><span><a href=\"#DecisionTreeRegressor\" data-toc-modified-id=\"DecisionTreeRegressor-3.2\"><span class=\"toc-item-num\">3.2&nbsp;&nbsp;</span>DecisionTreeRegressor</a></span></li><li><span><a href=\"#KNeighborsRegressor\" data-toc-modified-id=\"KNeighborsRegressor-3.3\"><span class=\"toc-item-num\">3.3&nbsp;&nbsp;</span>KNeighborsRegressor</a></span></li><li><span><a href=\"#CatBoostRegressor\" data-toc-modified-id=\"CatBoostRegressor-3.4\"><span class=\"toc-item-num\">3.4&nbsp;&nbsp;</span>CatBoostRegressor</a></span></li></ul></li><li><span><a href=\"#Тестирование\" data-toc-modified-id=\"Тестирование-4\"><span class=\"toc-item-num\">4&nbsp;&nbsp;</span>Тестирование</a></span></li><li><span><a href=\"#Общий-вывод\" data-toc-modified-id=\"Общий-вывод-5\"><span class=\"toc-item-num\">5&nbsp;&nbsp;</span>Общий вывод</a></span></li><li><span><a href=\"#Чек-лист-проверки\" data-toc-modified-id=\"Чек-лист-проверки-6\"><span class=\"toc-item-num\">6&nbsp;&nbsp;</span>Чек-лист проверки</a></span></li></ul></div>"
   ]
  },
  {
   "cell_type": "markdown",
   "metadata": {},
   "source": [
    "#  Прогнозирование заказов такси"
   ]
  },
  {
   "cell_type": "markdown",
   "metadata": {},
   "source": [
    "Компания «Чётенькое такси» собрала исторические данные о заказах такси в аэропортах. Чтобы привлекать больше водителей в период пиковой нагрузки, нужно спрогнозировать количество заказов такси на следующий час. Постройте модель для такого предсказания.\n",
    "\n",
    "Значение метрики *RMSE* на тестовой выборке должно быть не больше 48.\n",
    "\n",
    "Вам нужно:\n",
    "\n",
    "1. Загрузить данные и выполнить их ресемплирование по одному часу.\n",
    "2. Проанализировать данные.\n",
    "3. Обучить разные модели с различными гиперпараметрами. Сделать тестовую выборку размером 10% от исходных данных.\n",
    "4. Проверить данные на тестовой выборке и сделать выводы.\n",
    "\n",
    "\n",
    "Данные лежат в файле `taxi.csv`. Количество заказов находится в столбце `num_orders` (от англ. *number of orders*, «число заказов»)."
   ]
  },
  {
   "cell_type": "code",
   "execution_count": 1,
   "metadata": {
    "scrolled": false
   },
   "outputs": [
    {
     "name": "stdout",
     "output_type": "stream",
     "text": [
      "Note: you may need to restart the kernel to use updated packages.\n"
     ]
    }
   ],
   "source": [
    "pip install -q --upgrade scikit-learn"
   ]
  },
  {
   "cell_type": "code",
   "execution_count": 2,
   "metadata": {},
   "outputs": [],
   "source": [
    "import warnings\n",
    "warnings.filterwarnings('ignore')\n",
    "\n",
    "import pandas as pd\n",
    "import matplotlib.pyplot as plt\n",
    "from statsmodels.tsa.seasonal import seasonal_decompose\n",
    "\n",
    "from sklearn.preprocessing import StandardScaler, OneHotEncoder\n",
    "from sklearn.compose import ColumnTransformer\n",
    "from sklearn.pipeline import Pipeline\n",
    "from sklearn.model_selection import train_test_split, GridSearchCV, cross_val_score, TimeSeriesSplit\n",
    "from sklearn.metrics import mean_squared_error\n",
    "from sklearn.linear_model import LinearRegression\n",
    "from sklearn.tree import DecisionTreeRegressor\n",
    "from sklearn.neighbors import KNeighborsRegressor\n",
    "from catboost import CatBoostRegressor\n",
    "from sklearn.dummy import DummyRegressor"
   ]
  },
  {
   "cell_type": "markdown",
   "metadata": {},
   "source": [
    "## Подготовка"
   ]
  },
  {
   "cell_type": "code",
   "execution_count": 3,
   "metadata": {
    "scrolled": true
   },
   "outputs": [
    {
     "name": "stdout",
     "output_type": "stream",
     "text": [
      "<class 'pandas.core.frame.DataFrame'>\n",
      "DatetimeIndex: 26496 entries, 2018-03-01 00:00:00 to 2018-08-31 23:50:00\n",
      "Data columns (total 1 columns):\n",
      " #   Column      Non-Null Count  Dtype\n",
      "---  ------      --------------  -----\n",
      " 0   num_orders  26496 non-null  int64\n",
      "dtypes: int64(1)\n",
      "memory usage: 414.0 KB\n"
     ]
    }
   ],
   "source": [
    "taxi_df = pd.read_csv('/datasets/taxi.csv', parse_dates=[0], index_col=[0]) #загрузка данных\n",
    "taxi_df.info()"
   ]
  },
  {
   "cell_type": "code",
   "execution_count": 4,
   "metadata": {},
   "outputs": [
    {
     "data": {
      "text/plain": [
       "True"
      ]
     },
     "execution_count": 4,
     "metadata": {},
     "output_type": "execute_result"
    }
   ],
   "source": [
    "taxi_df.index.is_monotonic #проверка на монотонность индекса"
   ]
  },
  {
   "cell_type": "code",
   "execution_count": 5,
   "metadata": {},
   "outputs": [
    {
     "data": {
      "text/html": [
       "<div>\n",
       "<style scoped>\n",
       "    .dataframe tbody tr th:only-of-type {\n",
       "        vertical-align: middle;\n",
       "    }\n",
       "\n",
       "    .dataframe tbody tr th {\n",
       "        vertical-align: top;\n",
       "    }\n",
       "\n",
       "    .dataframe thead th {\n",
       "        text-align: right;\n",
       "    }\n",
       "</style>\n",
       "<table border=\"1\" class=\"dataframe\">\n",
       "  <thead>\n",
       "    <tr style=\"text-align: right;\">\n",
       "      <th></th>\n",
       "      <th>num_orders</th>\n",
       "    </tr>\n",
       "    <tr>\n",
       "      <th>datetime</th>\n",
       "      <th></th>\n",
       "    </tr>\n",
       "  </thead>\n",
       "  <tbody>\n",
       "    <tr>\n",
       "      <th>2018-03-01 00:00:00</th>\n",
       "      <td>124</td>\n",
       "    </tr>\n",
       "    <tr>\n",
       "      <th>2018-03-01 01:00:00</th>\n",
       "      <td>85</td>\n",
       "    </tr>\n",
       "    <tr>\n",
       "      <th>2018-03-01 02:00:00</th>\n",
       "      <td>71</td>\n",
       "    </tr>\n",
       "    <tr>\n",
       "      <th>2018-03-01 03:00:00</th>\n",
       "      <td>66</td>\n",
       "    </tr>\n",
       "    <tr>\n",
       "      <th>2018-03-01 04:00:00</th>\n",
       "      <td>43</td>\n",
       "    </tr>\n",
       "  </tbody>\n",
       "</table>\n",
       "</div>"
      ],
      "text/plain": [
       "                     num_orders\n",
       "datetime                       \n",
       "2018-03-01 00:00:00         124\n",
       "2018-03-01 01:00:00          85\n",
       "2018-03-01 02:00:00          71\n",
       "2018-03-01 03:00:00          66\n",
       "2018-03-01 04:00:00          43"
      ]
     },
     "execution_count": 5,
     "metadata": {},
     "output_type": "execute_result"
    }
   ],
   "source": [
    "taxi_df = taxi_df.resample('1H').sum() #ресемплирование по одному часу\n",
    "taxi_df.head()"
   ]
  },
  {
   "cell_type": "markdown",
   "metadata": {},
   "source": [
    "**Вывод**"
   ]
  },
  {
   "cell_type": "markdown",
   "metadata": {},
   "source": [
    "На этапе подготовки загрузили данные с нужным типом, проверили индекс на монотонность, выполнили ресемплирование данных по одному часу для дальнейшего анализа и обучения. "
   ]
  },
  {
   "cell_type": "markdown",
   "metadata": {},
   "source": [
    "## Анализ"
   ]
  },
  {
   "cell_type": "code",
   "execution_count": 6,
   "metadata": {},
   "outputs": [
    {
     "data": {
      "image/png": "[encoded data removed]",
      "text/plain": [
       "<Figure size 1080x288 with 1 Axes>"
      ]
     },
     "metadata": {
      "needs_background": "light"
     },
     "output_type": "display_data"
    }
   ],
   "source": [
    "taxi_analysis = taxi_df.copy()\n",
    "taxi_analysis['rolling_mean'] = taxi_analysis.rolling(24).mean()\n",
    "\n",
    "taxi_analysis.plot(figsize=(15,4))\n",
    "plt.title('График временного ряда')\n",
    "plt.xlabel('Дата')\n",
    "plt.ylabel('Число заказов')\n",
    "plt.show()"
   ]
  },
  {
   "cell_type": "code",
   "execution_count": 7,
   "metadata": {},
   "outputs": [],
   "source": [
    "decomposed = seasonal_decompose(taxi_df)"
   ]
  },
  {
   "cell_type": "code",
   "execution_count": 8,
   "metadata": {},
   "outputs": [
    {
     "data": {
      "image/png": "[encoded data removed]",
      "text/plain": [
       "<Figure size 1080x288 with 1 Axes>"
      ]
     },
     "metadata": {
      "needs_background": "light"
     },
     "output_type": "display_data"
    }
   ],
   "source": [
    "decomposed.trend.plot(figsize=(15,4))\n",
    "plt.title('Тренд')\n",
    "plt.show()"
   ]
  },
  {
   "cell_type": "code",
   "execution_count": 9,
   "metadata": {},
   "outputs": [
    {
     "data": {
      "image/png": "[encoded data removed]",
      "text/plain": [
       "<Figure size 1080x288 with 1 Axes>"
      ]
     },
     "metadata": {
      "needs_background": "light"
     },
     "output_type": "display_data"
    }
   ],
   "source": [
    "decomposed.seasonal.head(672).plot(figsize=(15,4))\n",
    "plt.title('Сезонность')\n",
    "plt.show()"
   ]
  },
  {
   "cell_type": "code",
   "execution_count": 10,
   "metadata": {},
   "outputs": [
    {
     "data": {
      "image/png": "[encoded data removed]",
      "text/plain": [
       "<Figure size 1080x288 with 1 Axes>"
      ]
     },
     "metadata": {
      "needs_background": "light"
     },
     "output_type": "display_data"
    }
   ],
   "source": [
    "decomposed.resid.plot(figsize=(15,4))\n",
    "plt.title('Остатки')\n",
    "plt.show()"
   ]
  },
  {
   "cell_type": "markdown",
   "metadata": {},
   "source": [
    "**Вывод**"
   ]
  },
  {
   "cell_type": "markdown",
   "metadata": {},
   "source": [
    "На этапе анализа видим тренд роста количества заказов. Наблюдается дневная сезонность - ночью спад заказов, а вечером пик. В августе отмечается увеличение шума."
   ]
  },
  {
   "cell_type": "markdown",
   "metadata": {},
   "source": [
    "## Обучение"
   ]
  },
  {
   "cell_type": "code",
   "execution_count": 11,
   "metadata": {},
   "outputs": [],
   "source": [
    "def make_features(data, max_lag, rolling_mean_size): #функиця создания новых признаков\n",
    "    #data['month'] = data.index.month\n",
    "    data['dayofweek'] = data.index.dayofweek  \n",
    "    #data['day'] = data.index.day\n",
    "    data['hour'] = data.index.hour\n",
    "    \n",
    "    for lag in range(6, max_lag + 1, 6):\n",
    "        data['lag_{}'.format(lag)] = data['num_orders'].shift(lag)\n",
    "    \n",
    "    data['rolling_mean'] = data['num_orders'].shift().rolling(rolling_mean_size).mean()"
   ]
  },
  {
   "cell_type": "code",
   "execution_count": 12,
   "metadata": {},
   "outputs": [
    {
     "data": {
      "text/html": [
       "<div>\n",
       "<style scoped>\n",
       "    .dataframe tbody tr th:only-of-type {\n",
       "        vertical-align: middle;\n",
       "    }\n",
       "\n",
       "    .dataframe tbody tr th {\n",
       "        vertical-align: top;\n",
       "    }\n",
       "\n",
       "    .dataframe thead th {\n",
       "        text-align: right;\n",
       "    }\n",
       "</style>\n",
       "<table border=\"1\" class=\"dataframe\">\n",
       "  <thead>\n",
       "    <tr style=\"text-align: right;\">\n",
       "      <th></th>\n",
       "      <th>num_orders</th>\n",
       "      <th>dayofweek</th>\n",
       "      <th>hour</th>\n",
       "      <th>lag_6</th>\n",
       "      <th>lag_12</th>\n",
       "      <th>lag_18</th>\n",
       "      <th>lag_24</th>\n",
       "      <th>rolling_mean</th>\n",
       "    </tr>\n",
       "    <tr>\n",
       "      <th>datetime</th>\n",
       "      <th></th>\n",
       "      <th></th>\n",
       "      <th></th>\n",
       "      <th></th>\n",
       "      <th></th>\n",
       "      <th></th>\n",
       "      <th></th>\n",
       "      <th></th>\n",
       "    </tr>\n",
       "  </thead>\n",
       "  <tbody>\n",
       "    <tr>\n",
       "      <th>2018-03-01 00:00:00</th>\n",
       "      <td>124</td>\n",
       "      <td>3</td>\n",
       "      <td>0</td>\n",
       "      <td>NaN</td>\n",
       "      <td>NaN</td>\n",
       "      <td>NaN</td>\n",
       "      <td>NaN</td>\n",
       "      <td>NaN</td>\n",
       "    </tr>\n",
       "    <tr>\n",
       "      <th>2018-03-01 01:00:00</th>\n",
       "      <td>85</td>\n",
       "      <td>3</td>\n",
       "      <td>1</td>\n",
       "      <td>NaN</td>\n",
       "      <td>NaN</td>\n",
       "      <td>NaN</td>\n",
       "      <td>NaN</td>\n",
       "      <td>NaN</td>\n",
       "    </tr>\n",
       "    <tr>\n",
       "      <th>2018-03-01 02:00:00</th>\n",
       "      <td>71</td>\n",
       "      <td>3</td>\n",
       "      <td>2</td>\n",
       "      <td>NaN</td>\n",
       "      <td>NaN</td>\n",
       "      <td>NaN</td>\n",
       "      <td>NaN</td>\n",
       "      <td>NaN</td>\n",
       "    </tr>\n",
       "    <tr>\n",
       "      <th>2018-03-01 03:00:00</th>\n",
       "      <td>66</td>\n",
       "      <td>3</td>\n",
       "      <td>3</td>\n",
       "      <td>NaN</td>\n",
       "      <td>NaN</td>\n",
       "      <td>NaN</td>\n",
       "      <td>NaN</td>\n",
       "      <td>NaN</td>\n",
       "    </tr>\n",
       "    <tr>\n",
       "      <th>2018-03-01 04:00:00</th>\n",
       "      <td>43</td>\n",
       "      <td>3</td>\n",
       "      <td>4</td>\n",
       "      <td>NaN</td>\n",
       "      <td>NaN</td>\n",
       "      <td>NaN</td>\n",
       "      <td>NaN</td>\n",
       "      <td>NaN</td>\n",
       "    </tr>\n",
       "    <tr>\n",
       "      <th>2018-03-01 05:00:00</th>\n",
       "      <td>6</td>\n",
       "      <td>3</td>\n",
       "      <td>5</td>\n",
       "      <td>NaN</td>\n",
       "      <td>NaN</td>\n",
       "      <td>NaN</td>\n",
       "      <td>NaN</td>\n",
       "      <td>NaN</td>\n",
       "    </tr>\n",
       "    <tr>\n",
       "      <th>2018-03-01 06:00:00</th>\n",
       "      <td>12</td>\n",
       "      <td>3</td>\n",
       "      <td>6</td>\n",
       "      <td>124.0</td>\n",
       "      <td>NaN</td>\n",
       "      <td>NaN</td>\n",
       "      <td>NaN</td>\n",
       "      <td>NaN</td>\n",
       "    </tr>\n",
       "    <tr>\n",
       "      <th>2018-03-01 07:00:00</th>\n",
       "      <td>15</td>\n",
       "      <td>3</td>\n",
       "      <td>7</td>\n",
       "      <td>85.0</td>\n",
       "      <td>NaN</td>\n",
       "      <td>NaN</td>\n",
       "      <td>NaN</td>\n",
       "      <td>NaN</td>\n",
       "    </tr>\n",
       "    <tr>\n",
       "      <th>2018-03-01 08:00:00</th>\n",
       "      <td>34</td>\n",
       "      <td>3</td>\n",
       "      <td>8</td>\n",
       "      <td>71.0</td>\n",
       "      <td>NaN</td>\n",
       "      <td>NaN</td>\n",
       "      <td>NaN</td>\n",
       "      <td>NaN</td>\n",
       "    </tr>\n",
       "    <tr>\n",
       "      <th>2018-03-01 09:00:00</th>\n",
       "      <td>69</td>\n",
       "      <td>3</td>\n",
       "      <td>9</td>\n",
       "      <td>66.0</td>\n",
       "      <td>NaN</td>\n",
       "      <td>NaN</td>\n",
       "      <td>NaN</td>\n",
       "      <td>NaN</td>\n",
       "    </tr>\n",
       "    <tr>\n",
       "      <th>2018-03-01 10:00:00</th>\n",
       "      <td>64</td>\n",
       "      <td>3</td>\n",
       "      <td>10</td>\n",
       "      <td>43.0</td>\n",
       "      <td>NaN</td>\n",
       "      <td>NaN</td>\n",
       "      <td>NaN</td>\n",
       "      <td>NaN</td>\n",
       "    </tr>\n",
       "    <tr>\n",
       "      <th>2018-03-01 11:00:00</th>\n",
       "      <td>96</td>\n",
       "      <td>3</td>\n",
       "      <td>11</td>\n",
       "      <td>6.0</td>\n",
       "      <td>NaN</td>\n",
       "      <td>NaN</td>\n",
       "      <td>NaN</td>\n",
       "      <td>NaN</td>\n",
       "    </tr>\n",
       "    <tr>\n",
       "      <th>2018-03-01 12:00:00</th>\n",
       "      <td>30</td>\n",
       "      <td>3</td>\n",
       "      <td>12</td>\n",
       "      <td>12.0</td>\n",
       "      <td>124.0</td>\n",
       "      <td>NaN</td>\n",
       "      <td>NaN</td>\n",
       "      <td>NaN</td>\n",
       "    </tr>\n",
       "    <tr>\n",
       "      <th>2018-03-01 13:00:00</th>\n",
       "      <td>32</td>\n",
       "      <td>3</td>\n",
       "      <td>13</td>\n",
       "      <td>15.0</td>\n",
       "      <td>85.0</td>\n",
       "      <td>NaN</td>\n",
       "      <td>NaN</td>\n",
       "      <td>NaN</td>\n",
       "    </tr>\n",
       "    <tr>\n",
       "      <th>2018-03-01 14:00:00</th>\n",
       "      <td>48</td>\n",
       "      <td>3</td>\n",
       "      <td>14</td>\n",
       "      <td>34.0</td>\n",
       "      <td>71.0</td>\n",
       "      <td>NaN</td>\n",
       "      <td>NaN</td>\n",
       "      <td>NaN</td>\n",
       "    </tr>\n",
       "    <tr>\n",
       "      <th>2018-03-01 15:00:00</th>\n",
       "      <td>66</td>\n",
       "      <td>3</td>\n",
       "      <td>15</td>\n",
       "      <td>69.0</td>\n",
       "      <td>66.0</td>\n",
       "      <td>NaN</td>\n",
       "      <td>NaN</td>\n",
       "      <td>NaN</td>\n",
       "    </tr>\n",
       "    <tr>\n",
       "      <th>2018-03-01 16:00:00</th>\n",
       "      <td>43</td>\n",
       "      <td>3</td>\n",
       "      <td>16</td>\n",
       "      <td>64.0</td>\n",
       "      <td>43.0</td>\n",
       "      <td>NaN</td>\n",
       "      <td>NaN</td>\n",
       "      <td>NaN</td>\n",
       "    </tr>\n",
       "    <tr>\n",
       "      <th>2018-03-01 17:00:00</th>\n",
       "      <td>44</td>\n",
       "      <td>3</td>\n",
       "      <td>17</td>\n",
       "      <td>96.0</td>\n",
       "      <td>6.0</td>\n",
       "      <td>NaN</td>\n",
       "      <td>NaN</td>\n",
       "      <td>NaN</td>\n",
       "    </tr>\n",
       "    <tr>\n",
       "      <th>2018-03-01 18:00:00</th>\n",
       "      <td>73</td>\n",
       "      <td>3</td>\n",
       "      <td>18</td>\n",
       "      <td>30.0</td>\n",
       "      <td>12.0</td>\n",
       "      <td>124.0</td>\n",
       "      <td>NaN</td>\n",
       "      <td>NaN</td>\n",
       "    </tr>\n",
       "    <tr>\n",
       "      <th>2018-03-01 19:00:00</th>\n",
       "      <td>45</td>\n",
       "      <td>3</td>\n",
       "      <td>19</td>\n",
       "      <td>32.0</td>\n",
       "      <td>15.0</td>\n",
       "      <td>85.0</td>\n",
       "      <td>NaN</td>\n",
       "      <td>NaN</td>\n",
       "    </tr>\n",
       "    <tr>\n",
       "      <th>2018-03-01 20:00:00</th>\n",
       "      <td>61</td>\n",
       "      <td>3</td>\n",
       "      <td>20</td>\n",
       "      <td>48.0</td>\n",
       "      <td>34.0</td>\n",
       "      <td>71.0</td>\n",
       "      <td>NaN</td>\n",
       "      <td>NaN</td>\n",
       "    </tr>\n",
       "    <tr>\n",
       "      <th>2018-03-01 21:00:00</th>\n",
       "      <td>66</td>\n",
       "      <td>3</td>\n",
       "      <td>21</td>\n",
       "      <td>66.0</td>\n",
       "      <td>69.0</td>\n",
       "      <td>66.0</td>\n",
       "      <td>NaN</td>\n",
       "      <td>NaN</td>\n",
       "    </tr>\n",
       "    <tr>\n",
       "      <th>2018-03-01 22:00:00</th>\n",
       "      <td>113</td>\n",
       "      <td>3</td>\n",
       "      <td>22</td>\n",
       "      <td>43.0</td>\n",
       "      <td>64.0</td>\n",
       "      <td>43.0</td>\n",
       "      <td>NaN</td>\n",
       "      <td>NaN</td>\n",
       "    </tr>\n",
       "    <tr>\n",
       "      <th>2018-03-01 23:00:00</th>\n",
       "      <td>58</td>\n",
       "      <td>3</td>\n",
       "      <td>23</td>\n",
       "      <td>44.0</td>\n",
       "      <td>96.0</td>\n",
       "      <td>6.0</td>\n",
       "      <td>NaN</td>\n",
       "      <td>NaN</td>\n",
       "    </tr>\n",
       "    <tr>\n",
       "      <th>2018-03-02 00:00:00</th>\n",
       "      <td>90</td>\n",
       "      <td>4</td>\n",
       "      <td>0</td>\n",
       "      <td>73.0</td>\n",
       "      <td>30.0</td>\n",
       "      <td>12.0</td>\n",
       "      <td>124.0</td>\n",
       "      <td>56.833333</td>\n",
       "    </tr>\n",
       "  </tbody>\n",
       "</table>\n",
       "</div>"
      ],
      "text/plain": [
       "                     num_orders  dayofweek  hour  lag_6  lag_12  lag_18  \\\n",
       "datetime                                                                  \n",
       "2018-03-01 00:00:00         124          3     0    NaN     NaN     NaN   \n",
       "2018-03-01 01:00:00          85          3     1    NaN     NaN     NaN   \n",
       "2018-03-01 02:00:00          71          3     2    NaN     NaN     NaN   \n",
       "2018-03-01 03:00:00          66          3     3    NaN     NaN     NaN   \n",
       "2018-03-01 04:00:00          43          3     4    NaN     NaN     NaN   \n",
       "2018-03-01 05:00:00           6          3     5    NaN     NaN     NaN   \n",
       "2018-03-01 06:00:00          12          3     6  124.0     NaN     NaN   \n",
       "2018-03-01 07:00:00          15          3     7   85.0     NaN     NaN   \n",
       "2018-03-01 08:00:00          34          3     8   71.0     NaN     NaN   \n",
       "2018-03-01 09:00:00          69          3     9   66.0     NaN     NaN   \n",
       "2018-03-01 10:00:00          64          3    10   43.0     NaN     NaN   \n",
       "2018-03-01 11:00:00          96          3    11    6.0     NaN     NaN   \n",
       "2018-03-01 12:00:00          30          3    12   12.0   124.0     NaN   \n",
       "2018-03-01 13:00:00          32          3    13   15.0    85.0     NaN   \n",
       "2018-03-01 14:00:00          48          3    14   34.0    71.0     NaN   \n",
       "2018-03-01 15:00:00          66          3    15   69.0    66.0     NaN   \n",
       "2018-03-01 16:00:00          43          3    16   64.0    43.0     NaN   \n",
       "2018-03-01 17:00:00          44          3    17   96.0     6.0     NaN   \n",
       "2018-03-01 18:00:00          73          3    18   30.0    12.0   124.0   \n",
       "2018-03-01 19:00:00          45          3    19   32.0    15.0    85.0   \n",
       "2018-03-01 20:00:00          61          3    20   48.0    34.0    71.0   \n",
       "2018-03-01 21:00:00          66          3    21   66.0    69.0    66.0   \n",
       "2018-03-01 22:00:00         113          3    22   43.0    64.0    43.0   \n",
       "2018-03-01 23:00:00          58          3    23   44.0    96.0     6.0   \n",
       "2018-03-02 00:00:00          90          4     0   73.0    30.0    12.0   \n",
       "\n",
       "                     lag_24  rolling_mean  \n",
       "datetime                                   \n",
       "2018-03-01 00:00:00     NaN           NaN  \n",
       "2018-03-01 01:00:00     NaN           NaN  \n",
       "2018-03-01 02:00:00     NaN           NaN  \n",
       "2018-03-01 03:00:00     NaN           NaN  \n",
       "2018-03-01 04:00:00     NaN           NaN  \n",
       "2018-03-01 05:00:00     NaN           NaN  \n",
       "2018-03-01 06:00:00     NaN           NaN  \n",
       "2018-03-01 07:00:00     NaN           NaN  \n",
       "2018-03-01 08:00:00     NaN           NaN  \n",
       "2018-03-01 09:00:00     NaN           NaN  \n",
       "2018-03-01 10:00:00     NaN           NaN  \n",
       "2018-03-01 11:00:00     NaN           NaN  \n",
       "2018-03-01 12:00:00     NaN           NaN  \n",
       "2018-03-01 13:00:00     NaN           NaN  \n",
       "2018-03-01 14:00:00     NaN           NaN  \n",
       "2018-03-01 15:00:00     NaN           NaN  \n",
       "2018-03-01 16:00:00     NaN           NaN  \n",
       "2018-03-01 17:00:00     NaN           NaN  \n",
       "2018-03-01 18:00:00     NaN           NaN  \n",
       "2018-03-01 19:00:00     NaN           NaN  \n",
       "2018-03-01 20:00:00     NaN           NaN  \n",
       "2018-03-01 21:00:00     NaN           NaN  \n",
       "2018-03-01 22:00:00     NaN           NaN  \n",
       "2018-03-01 23:00:00     NaN           NaN  \n",
       "2018-03-02 00:00:00   124.0     56.833333  "
      ]
     },
     "execution_count": 12,
     "metadata": {},
     "output_type": "execute_result"
    }
   ],
   "source": [
    "taxi_ml = taxi_df.copy()\n",
    "make_features(taxi_ml, 24, 24)\n",
    "taxi_ml.head(25)"
   ]
  },
  {
   "cell_type": "code",
   "execution_count": 13,
   "metadata": {},
   "outputs": [],
   "source": [
    "RANDOM_STATE = 42\n",
    "\n",
    "taxi_ml = taxi_ml.dropna()\n",
    "\n",
    "X = taxi_ml.drop('num_orders', axis=1)\n",
    "y = taxi_ml['num_orders']\n",
    "\n",
    "X_train, X_test, y_train, y_test = train_test_split(X, y, shuffle=False, test_size=0.1)"
   ]
  },
  {
   "cell_type": "code",
   "execution_count": 14,
   "metadata": {},
   "outputs": [],
   "source": [
    "train_models = []\n",
    "ohe_cols = ['dayofweek', 'hour']\n",
    "num_cols = ['lag_6', 'lag_12', 'lag_18', 'lag_24', 'rolling_mean']"
   ]
  },
  {
   "cell_type": "code",
   "execution_count": 15,
   "metadata": {},
   "outputs": [],
   "source": [
    "scaler = StandardScaler()\n",
    "ohe_encoder = OneHotEncoder(drop='first', handle_unknown='ignore', sparse_output=False)\n",
    "\n",
    "preprocessor = ColumnTransformer(\n",
    "    [\n",
    "        ('ohe', ohe_encoder, ohe_cols),\n",
    "        ('num', scaler, num_cols)\n",
    "    ],\n",
    "    remainder='passthrough')\n",
    "\n",
    "tscv = TimeSeriesSplit()"
   ]
  },
  {
   "cell_type": "markdown",
   "metadata": {},
   "source": [
    "### LinearRegression"
   ]
  },
  {
   "cell_type": "code",
   "execution_count": 16,
   "metadata": {},
   "outputs": [
    {
     "name": "stdout",
     "output_type": "stream",
     "text": [
      "LinearRegression RMSE: 25.973512752751304\n"
     ]
    }
   ],
   "source": [
    "linear = LinearRegression()\n",
    "linear_pipe = Pipeline(steps=[\n",
    "    ('preprocessor', preprocessor),\n",
    "    ('linear', linear)])\n",
    "linear_pipe.fit(X_train, y_train)\n",
    "rmse_linear = -(cross_val_score(linear_pipe, X_train, y_train, cv=tscv, scoring='neg_root_mean_squared_error')).mean()\n",
    "print(f'LinearRegression RMSE: {rmse_linear}')"
   ]
  },
  {
   "cell_type": "code",
   "execution_count": 17,
   "metadata": {},
   "outputs": [],
   "source": [
    "train_models.append([linear, rmse_linear])"
   ]
  },
  {
   "cell_type": "markdown",
   "metadata": {},
   "source": [
    "### DecisionTreeRegressor"
   ]
  },
  {
   "cell_type": "code",
   "execution_count": 18,
   "metadata": {},
   "outputs": [
    {
     "data": {
      "text/plain": [
       "{'max_depth': 8, 'max_features': 4}"
      ]
     },
     "execution_count": 18,
     "metadata": {},
     "output_type": "execute_result"
    }
   ],
   "source": [
    "tree = DecisionTreeRegressor(random_state=RANDOM_STATE)\n",
    "param_tree = {\n",
    "    'max_depth': range(3, 25, 5),\n",
    "    'max_features': range(3, 10)\n",
    "}\n",
    "gridsearch_tree = GridSearchCV(tree, param_tree, cv=tscv, scoring='neg_root_mean_squared_error', n_jobs=-1)\n",
    "gridsearch_tree.fit(X_train, y_train)\n",
    "gridsearch_tree.best_params_"
   ]
  },
  {
   "cell_type": "code",
   "execution_count": 19,
   "metadata": {},
   "outputs": [
    {
     "name": "stdout",
     "output_type": "stream",
     "text": [
      "DecisionTreeRegressor RMSE: 29.803401194105238\n"
     ]
    }
   ],
   "source": [
    "rmse_tree = -gridsearch_tree.best_score_\n",
    "print(f'DecisionTreeRegressor RMSE: {rmse_tree}')"
   ]
  },
  {
   "cell_type": "code",
   "execution_count": 20,
   "metadata": {},
   "outputs": [],
   "source": [
    "train_models.append([gridsearch_tree, rmse_tree])"
   ]
  },
  {
   "cell_type": "markdown",
   "metadata": {},
   "source": [
    "### KNeighborsRegressor"
   ]
  },
  {
   "cell_type": "code",
   "execution_count": 21,
   "metadata": {},
   "outputs": [
    {
     "data": {
      "text/plain": [
       "{'neighbors__n_neighbors': 8,\n",
       " 'neighbors__p': 1,\n",
       " 'neighbors__weights': 'distance'}"
      ]
     },
     "execution_count": 21,
     "metadata": {},
     "output_type": "execute_result"
    }
   ],
   "source": [
    "neighbors = KNeighborsRegressor()\n",
    "neighbors_pipe = Pipeline(steps=[\n",
    "    ('preprocessor', preprocessor),\n",
    "    ('neighbors', neighbors)])\n",
    "param_neighbors = {\n",
    "    'neighbors__n_neighbors': range(2, 20, 2),\n",
    "    'neighbors__p': [1, 2],\n",
    "    'neighbors__weights': ['uniform', 'distance']\n",
    "}\n",
    "gridsearch_neighbors = GridSearchCV(neighbors_pipe, param_neighbors, cv=tscv, scoring='neg_root_mean_squared_error', n_jobs=-1)\n",
    "gridsearch_neighbors.fit(X_train, y_train)\n",
    "gridsearch_neighbors.best_params_"
   ]
  },
  {
   "cell_type": "code",
   "execution_count": 22,
   "metadata": {},
   "outputs": [
    {
     "name": "stdout",
     "output_type": "stream",
     "text": [
      "KNeighborsRegressor RMSE: 25.93861059247873\n"
     ]
    }
   ],
   "source": [
    "rmse_neighbors = -gridsearch_neighbors.best_score_\n",
    "print(f'KNeighborsRegressor RMSE: {rmse_neighbors}')"
   ]
  },
  {
   "cell_type": "code",
   "execution_count": 23,
   "metadata": {},
   "outputs": [],
   "source": [
    "train_models.append([gridsearch_neighbors, rmse_neighbors])"
   ]
  },
  {
   "cell_type": "markdown",
   "metadata": {},
   "source": [
    "### CatBoostRegressor"
   ]
  },
  {
   "cell_type": "code",
   "execution_count": 24,
   "metadata": {},
   "outputs": [
    {
     "data": {
      "text/plain": [
       "{'depth': 5, 'iterations': 100, 'learning_rate': 0.1}"
      ]
     },
     "execution_count": 24,
     "metadata": {},
     "output_type": "execute_result"
    }
   ],
   "source": [
    "cat = CatBoostRegressor(verbose=False)\n",
    "param_cat = {\n",
    "    'depth': [4, 5, 6],\n",
    "    'learning_rate': [0.05, 0.1],\n",
    "    'iterations': [50, 100]\n",
    "}\n",
    "gridsearch_cat = GridSearchCV(cat, param_cat, cv=tscv, scoring='neg_root_mean_squared_error', n_jobs=1)\n",
    "gridsearch_cat.fit(X_train, y_train)\n",
    "gridsearch_cat.best_params_"
   ]
  },
  {
   "cell_type": "code",
   "execution_count": 25,
   "metadata": {},
   "outputs": [
    {
     "name": "stdout",
     "output_type": "stream",
     "text": [
      "CatBoostRegressor RMSE: 25.1359727441768\n"
     ]
    }
   ],
   "source": [
    "rmse_cat = -gridsearch_cat.best_score_\n",
    "print(f'CatBoostRegressor RMSE: {rmse_cat}')"
   ]
  },
  {
   "cell_type": "code",
   "execution_count": 26,
   "metadata": {},
   "outputs": [],
   "source": [
    "train_models.append([gridsearch_cat, rmse_cat])"
   ]
  },
  {
   "cell_type": "code",
   "execution_count": 27,
   "metadata": {},
   "outputs": [
    {
     "data": {
      "text/html": [
       "<div>\n",
       "<style scoped>\n",
       "    .dataframe tbody tr th:only-of-type {\n",
       "        vertical-align: middle;\n",
       "    }\n",
       "\n",
       "    .dataframe tbody tr th {\n",
       "        vertical-align: top;\n",
       "    }\n",
       "\n",
       "    .dataframe thead th {\n",
       "        text-align: right;\n",
       "    }\n",
       "</style>\n",
       "<table border=\"1\" class=\"dataframe\">\n",
       "  <thead>\n",
       "    <tr style=\"text-align: right;\">\n",
       "      <th></th>\n",
       "      <th>rmse_train</th>\n",
       "    </tr>\n",
       "    <tr>\n",
       "      <th>model</th>\n",
       "      <th></th>\n",
       "    </tr>\n",
       "  </thead>\n",
       "  <tbody>\n",
       "    <tr>\n",
       "      <th>GridSearchCV(cv=TimeSeriesSplit(gap=0, max_train_size=None, n_splits=5, test_size=None),\\n             estimator=&lt;catboost.core.CatBoostRegressor object at 0x7f31c0f97490&gt;,\\n             n_jobs=1,\\n             param_grid={'depth': [4, 5, 6], 'iterations': [50, 100],\\n                         'learning_rate': [0.05, 0.1]},\\n             scoring='neg_root_mean_squared_error')</th>\n",
       "      <td>25.135973</td>\n",
       "    </tr>\n",
       "    <tr>\n",
       "      <th>GridSearchCV(cv=TimeSeriesSplit(gap=0, max_train_size=None, n_splits=5, test_size=None),\\n             estimator=Pipeline(steps=[('preprocessor',\\n                                        ColumnTransformer(remainder='passthrough',\\n                                                          transformers=[('ohe',\\n                                                                         OneHotEncoder(drop='first',\\n                                                                                       handle_unknown='ignore',\\n                                                                                       sparse_output=False),\\n                                                                         ['dayofweek',\\n                                                                          'hour']),\\n                                                                        ('num',\\n                                                                         StandardScaler(),\\n                                                                         ['lag_6',\\n                                                                          'lag_12',\\n                                                                          'lag_18',\\n                                                                          'lag_24',\\n                                                                          'rolling_mean'])])),\\n                                       ('neighbors', KNeighborsRegressor())]),\\n             n_jobs=-1,\\n             param_grid={'neighbors__n_neighbors': range(2, 20, 2),\\n                         'neighbors__p': [1, 2],\\n                         'neighbors__weights': ['uniform', 'distance']},\\n             scoring='neg_root_mean_squared_error')</th>\n",
       "      <td>25.938611</td>\n",
       "    </tr>\n",
       "    <tr>\n",
       "      <th>LinearRegression()</th>\n",
       "      <td>25.973513</td>\n",
       "    </tr>\n",
       "    <tr>\n",
       "      <th>GridSearchCV(cv=TimeSeriesSplit(gap=0, max_train_size=None, n_splits=5, test_size=None),\\n             estimator=DecisionTreeRegressor(random_state=42), n_jobs=-1,\\n             param_grid={'max_depth': range(3, 25, 5),\\n                         'max_features': range(3, 10)},\\n             scoring='neg_root_mean_squared_error')</th>\n",
       "      <td>29.803401</td>\n",
       "    </tr>\n",
       "  </tbody>\n",
       "</table>\n",
       "</div>"
      ],
      "text/plain": [
       "                                                    rmse_train\n",
       "model                                                         \n",
       "GridSearchCV(cv=TimeSeriesSplit(gap=0, max_trai...   25.135973\n",
       "GridSearchCV(cv=TimeSeriesSplit(gap=0, max_trai...   25.938611\n",
       "LinearRegression()                                   25.973513\n",
       "GridSearchCV(cv=TimeSeriesSplit(gap=0, max_trai...   29.803401"
      ]
     },
     "execution_count": 27,
     "metadata": {},
     "output_type": "execute_result"
    }
   ],
   "source": [
    "result = pd.DataFrame(train_models, columns=['model', 'rmse_train'])\n",
    "result.set_index('model').sort_values('rmse_train')"
   ]
  },
  {
   "cell_type": "markdown",
   "metadata": {},
   "source": [
    "**Вывод**"
   ]
  },
  {
   "cell_type": "markdown",
   "metadata": {},
   "source": [
    "На этапе обучения написали функцию для создания новых признаков. Применили функцию к исходным данным - получили  7 входных признаков. Для решения задачи регрессии инициализировали и обучили 4 модели: LinearRegression, DecisionTreeRegressor, KNeighborsRegressor, CatBoostRegressor. Получили метрики RMSE для каждой модели на тренировочной выборке. Лучшей моделью оказалась CatBoostRegressor (RMSE = 24.8)."
   ]
  },
  {
   "cell_type": "markdown",
   "metadata": {},
   "source": [
    "## Тестирование"
   ]
  },
  {
   "cell_type": "markdown",
   "metadata": {},
   "source": [
    "На тестовой выборке проверим лучшую модель CatBoostRegressor"
   ]
  },
  {
   "cell_type": "code",
   "execution_count": 32,
   "metadata": {},
   "outputs": [
    {
     "name": "stdout",
     "output_type": "stream",
     "text": [
      "RMSE лучшей модели на тестовой выборке: 45.32129022614738\n"
     ]
    }
   ],
   "source": [
    "rmse = mean_squared_error(y_test, gridsearch_cat.predict(X_test), squared=False)\n",
    "print(f'RMSE лучшей модели на тестовой выборке: {rmse}')"
   ]
  },
  {
   "cell_type": "code",
   "execution_count": 33,
   "metadata": {},
   "outputs": [
    {
     "name": "stdout",
     "output_type": "stream",
     "text": [
      "RMSE (test) на константной модели: 84.68768287118466\n"
     ]
    }
   ],
   "source": [
    "dummy = DummyRegressor() #проверка моделей на адекватность\n",
    "dummy.fit(X_train, y_train)\n",
    "rmse_dummy_test = mean_squared_error(y_test, dummy.predict(X_test), squared=False)\n",
    "print(f'RMSE (test) на константной модели: {rmse_dummy_test}')"
   ]
  },
  {
   "cell_type": "code",
   "execution_count": 34,
   "metadata": {},
   "outputs": [
    {
     "name": "stdout",
     "output_type": "stream",
     "text": [
      "RMSE по предыдущим суткам: 57.30339907417836\n"
     ]
    }
   ],
   "source": [
    "previous_day = y_test.shift(24)\n",
    "previous_day.loc[previous_day.index[:24]] = y_train.tail(24).values\n",
    "rmse_prev = mean_squared_error(y_test, previous_day, squared=False)\n",
    "print(f'RMSE по предыдущим суткам: {rmse_prev}')"
   ]
  },
  {
   "cell_type": "markdown",
   "metadata": {},
   "source": [
    "**Вывод**"
   ]
  },
  {
   "cell_type": "markdown",
   "metadata": {},
   "source": [
    " На этапе тестирования проверили лучшую модель на тестовой выборке. Получили значение RMSE = 45, что удовлетворяет заданному условию RMSE < 48. Так же проверили модель на адекватность, сравнив метрику модели с метрикой предсказания по предыдущему дню. Обученная модель оказалась эффективнее в 1,3 раза."
   ]
  },
  {
   "cell_type": "markdown",
   "metadata": {},
   "source": [
    "## Общий вывод"
   ]
  },
  {
   "cell_type": "markdown",
   "metadata": {},
   "source": [
    "В данном проекте была поставлена задача с помощью моделей машинного обучения спрогнозировать число заказов такси и отобрать модель подходящую под условие заказчика. Для ее решения проделаны следующие этапы работы.  \n",
    "На этапе подготовки загрузили данные с нужным типом, проверили индекс на монотонность, выполнили ресемплирование данных по одному часу для дальнейшего анализа и обучения.  \n",
    "На этапе анализа видим тренд роста количества заказов. Наблюдается дневная сезонность - ночью спад заказов, а вечером пик. В августе отмечается увеличение шума.  \n",
    "На этапе обучения написали функцию для создания новых признаков. Применили функцию к исходным данным - получили 7 входных признаков. Для решения задачи регрессии инициализировали и обучили 4 модели: LinearRegression, DecisionTreeRegressor, KNeighborsRegressor, CatBoostRegressor. Получили метрики RMSE для каждой модели на тренировочной выборке. Лучшей моделью оказалась CatBoostRegressor (RMSE = 24.8).  \n",
    "На этапе тестирования проверили лучшую модель на тестовой выборке. Получили значение RMSE = 45, что удовлетворяет заданному условию RMSE < 48. Так же проверили модель на адекватность, сравнив метрику модели с метрикой предсказания по предыдущему дню. Обученная модель оказалась эффективнее в 1,3 раза.  \n",
    "Рекомендуемая модель CatBoostRegressor с гиперпараметрами {'depth': 5, 'iterations': 100, 'learning_rate': 0.1}."
   ]
  },
  {
   "cell_type": "markdown",
   "metadata": {},
   "source": [
    "## Чек-лист проверки"
   ]
  },
  {
   "cell_type": "markdown",
   "metadata": {},
   "source": [
    "- [x]  Jupyter Notebook открыт\n",
    "- [x]  Весь код выполняется без ошибок\n",
    "- [x]  Ячейки с кодом расположены в порядке исполнения\n",
    "- [x]  Данные загружены и подготовлены\n",
    "- [x]  Данные проанализированы\n",
    "- [x]  Модель обучена, гиперпараметры подобраны\n",
    "- [x]  Качество моделей проверено, выводы сделаны\n",
    "- [x]  Значение *RMSE* на тестовой выборке не больше 48"
   ]
  }
 ],
 "metadata": {
  "ExecuteTimeLog": [
   {
    "duration": 368,
    "start_time": "2024-11-07T16:41:08.358Z"
   },
   {
    "duration": 183,
    "start_time": "2024-11-07T16:41:48.457Z"
   },
   {
    "duration": 62,
    "start_time": "2024-11-07T16:42:15.249Z"
   },
   {
    "duration": 53,
    "start_time": "2024-11-07T16:42:19.765Z"
   },
   {
    "duration": 55,
    "start_time": "2024-11-07T16:42:44.061Z"
   },
   {
    "duration": 54,
    "start_time": "2024-11-07T16:42:55.291Z"
   },
   {
    "duration": 59,
    "start_time": "2024-11-07T16:43:08.540Z"
   },
   {
    "duration": 57,
    "start_time": "2024-11-07T16:43:27.891Z"
   },
   {
    "duration": 50,
    "start_time": "2024-11-07T16:43:59.372Z"
   },
   {
    "duration": 53,
    "start_time": "2024-11-07T16:44:43.435Z"
   },
   {
    "duration": 63,
    "start_time": "2024-11-07T16:45:07.217Z"
   },
   {
    "duration": 9,
    "start_time": "2024-11-07T16:46:10.859Z"
   },
   {
    "duration": 12,
    "start_time": "2024-11-07T16:46:23.445Z"
   },
   {
    "duration": 16,
    "start_time": "2024-11-07T16:46:46.394Z"
   },
   {
    "duration": 10,
    "start_time": "2024-11-07T16:47:16.971Z"
   },
   {
    "duration": 612,
    "start_time": "2024-11-07T18:01:54.365Z"
   },
   {
    "duration": 209,
    "start_time": "2024-11-07T18:02:39.504Z"
   },
   {
    "duration": 3,
    "start_time": "2024-11-07T18:02:46.857Z"
   },
   {
    "duration": 249,
    "start_time": "2024-11-07T18:02:51.445Z"
   },
   {
    "duration": 214,
    "start_time": "2024-11-07T18:03:34.621Z"
   },
   {
    "duration": 212,
    "start_time": "2024-11-07T18:04:30.534Z"
   },
   {
    "duration": 218,
    "start_time": "2024-11-07T18:07:28.027Z"
   },
   {
    "duration": 7,
    "start_time": "2024-11-07T18:07:49.825Z"
   },
   {
    "duration": 220,
    "start_time": "2024-11-07T18:07:56.645Z"
   },
   {
    "duration": 308,
    "start_time": "2024-11-07T18:08:01.849Z"
   },
   {
    "duration": 219,
    "start_time": "2024-11-07T18:08:27.022Z"
   },
   {
    "duration": 8,
    "start_time": "2024-11-07T18:10:42.811Z"
   },
   {
    "duration": 230,
    "start_time": "2024-11-07T18:11:12.412Z"
   },
   {
    "duration": 274,
    "start_time": "2024-11-07T18:13:30.180Z"
   },
   {
    "duration": 256,
    "start_time": "2024-11-07T18:13:38.656Z"
   },
   {
    "duration": 252,
    "start_time": "2024-11-07T18:17:32.550Z"
   },
   {
    "duration": 338,
    "start_time": "2024-11-07T18:17:58.555Z"
   },
   {
    "duration": 468,
    "start_time": "2024-11-07T18:19:09.390Z"
   },
   {
    "duration": 6890,
    "start_time": "2024-11-07T18:21:08.252Z"
   },
   {
    "duration": 3114,
    "start_time": "2024-11-07T18:21:32.183Z"
   },
   {
    "duration": 1135,
    "start_time": "2024-11-07T18:21:35.299Z"
   },
   {
    "duration": 62,
    "start_time": "2024-11-07T18:21:36.436Z"
   },
   {
    "duration": 6,
    "start_time": "2024-11-07T18:21:36.500Z"
   },
   {
    "duration": 16,
    "start_time": "2024-11-07T18:21:36.508Z"
   },
   {
    "duration": 324,
    "start_time": "2024-11-07T18:21:46.737Z"
   },
   {
    "duration": 103,
    "start_time": "2024-11-07T18:24:40.115Z"
   },
   {
    "duration": 9,
    "start_time": "2024-11-07T18:25:22.878Z"
   },
   {
    "duration": 207,
    "start_time": "2024-11-07T18:26:06.150Z"
   },
   {
    "duration": 204,
    "start_time": "2024-11-07T18:26:18.333Z"
   },
   {
    "duration": 207,
    "start_time": "2024-11-07T18:26:30.838Z"
   },
   {
    "duration": 296,
    "start_time": "2024-11-07T18:27:06.107Z"
   },
   {
    "duration": 249,
    "start_time": "2024-11-07T18:27:12.132Z"
   },
   {
    "duration": 128,
    "start_time": "2024-11-07T18:27:59.355Z"
   },
   {
    "duration": 148,
    "start_time": "2024-11-07T18:28:21.318Z"
   },
   {
    "duration": 16,
    "start_time": "2024-11-07T18:28:37.661Z"
   },
   {
    "duration": 13,
    "start_time": "2024-11-07T18:28:41.783Z"
   },
   {
    "duration": 153,
    "start_time": "2024-11-07T18:28:56.479Z"
   },
   {
    "duration": 147,
    "start_time": "2024-11-07T18:29:09.311Z"
   },
   {
    "duration": 141,
    "start_time": "2024-11-07T18:29:15.453Z"
   },
   {
    "duration": 152,
    "start_time": "2024-11-07T18:29:44.314Z"
   },
   {
    "duration": 148,
    "start_time": "2024-11-07T18:30:31.281Z"
   },
   {
    "duration": 287,
    "start_time": "2024-11-07T18:32:09.452Z"
   },
   {
    "duration": 212,
    "start_time": "2024-11-07T18:33:20.336Z"
   },
   {
    "duration": 218,
    "start_time": "2024-11-07T18:36:39.580Z"
   },
   {
    "duration": 259,
    "start_time": "2024-11-07T18:36:57.582Z"
   },
   {
    "duration": 238,
    "start_time": "2024-11-07T18:38:00.942Z"
   },
   {
    "duration": 6,
    "start_time": "2024-11-07T19:19:13.689Z"
   },
   {
    "duration": 25,
    "start_time": "2024-11-07T19:23:45.973Z"
   },
   {
    "duration": 22,
    "start_time": "2024-11-07T19:23:53.216Z"
   },
   {
    "duration": 108,
    "start_time": "2024-11-07T19:34:16.457Z"
   },
   {
    "duration": 10,
    "start_time": "2024-11-07T19:38:51.646Z"
   },
   {
    "duration": 11,
    "start_time": "2024-11-07T20:02:13.872Z"
   },
   {
    "duration": 13,
    "start_time": "2024-11-07T20:03:18.728Z"
   },
   {
    "duration": 10,
    "start_time": "2024-11-07T20:07:18.477Z"
   },
   {
    "duration": 3,
    "start_time": "2024-11-07T20:12:11.470Z"
   },
   {
    "duration": 54,
    "start_time": "2024-11-07T20:16:32.780Z"
   },
   {
    "duration": 28,
    "start_time": "2024-11-07T20:16:40.894Z"
   },
   {
    "duration": 34,
    "start_time": "2024-11-07T20:17:49.091Z"
   },
   {
    "duration": 13,
    "start_time": "2024-11-07T20:17:55.863Z"
   },
   {
    "duration": 20,
    "start_time": "2024-11-07T20:18:01.917Z"
   },
   {
    "duration": 833,
    "start_time": "2024-11-07T20:18:23.536Z"
   },
   {
    "duration": 9,
    "start_time": "2024-11-07T20:27:06.252Z"
   },
   {
    "duration": 3,
    "start_time": "2024-11-07T20:27:32.761Z"
   },
   {
    "duration": 33,
    "start_time": "2024-11-07T20:27:39.089Z"
   },
   {
    "duration": 90,
    "start_time": "2024-11-07T20:28:21.036Z"
   },
   {
    "duration": 112,
    "start_time": "2024-11-07T20:28:28.315Z"
   },
   {
    "duration": 45,
    "start_time": "2024-11-07T20:29:07.880Z"
   },
   {
    "duration": 103,
    "start_time": "2024-11-07T20:29:48.939Z"
   },
   {
    "duration": 103,
    "start_time": "2024-11-07T20:30:25.720Z"
   },
   {
    "duration": 3,
    "start_time": "2024-11-07T20:31:56.947Z"
   },
   {
    "duration": 892,
    "start_time": "2024-11-07T20:32:42.751Z"
   },
   {
    "duration": 3,
    "start_time": "2024-11-07T20:32:47.459Z"
   },
   {
    "duration": 744,
    "start_time": "2024-11-07T20:33:08.242Z"
   },
   {
    "duration": 3,
    "start_time": "2024-11-07T20:33:11.521Z"
   },
   {
    "duration": 891,
    "start_time": "2024-11-07T20:33:16.669Z"
   },
   {
    "duration": 3,
    "start_time": "2024-11-07T20:33:19.173Z"
   },
   {
    "duration": 3,
    "start_time": "2024-11-07T20:34:37.526Z"
   },
   {
    "duration": 10,
    "start_time": "2024-11-07T20:34:42.514Z"
   },
   {
    "duration": 4589,
    "start_time": "2024-11-07T20:34:55.907Z"
   },
   {
    "duration": 4,
    "start_time": "2024-11-07T20:35:03.395Z"
   },
   {
    "duration": 2959,
    "start_time": "2024-11-07T20:35:13.175Z"
   },
   {
    "duration": 3,
    "start_time": "2024-11-07T20:35:18.242Z"
   },
   {
    "duration": 2815,
    "start_time": "2024-11-07T20:36:03.850Z"
   },
   {
    "duration": 3,
    "start_time": "2024-11-07T20:36:08.610Z"
   },
   {
    "duration": 4,
    "start_time": "2024-11-07T20:47:47.821Z"
   },
   {
    "duration": 17,
    "start_time": "2024-11-07T20:52:06.380Z"
   },
   {
    "duration": 2615,
    "start_time": "2024-11-07T20:52:14.572Z"
   },
   {
    "duration": 5,
    "start_time": "2024-11-07T20:52:54.420Z"
   },
   {
    "duration": 5342,
    "start_time": "2024-11-07T20:55:16.200Z"
   },
   {
    "duration": 3,
    "start_time": "2024-11-07T20:55:26.023Z"
   },
   {
    "duration": 2763,
    "start_time": "2024-11-07T20:55:46.817Z"
   },
   {
    "duration": 5,
    "start_time": "2024-11-07T20:55:49.724Z"
   },
   {
    "duration": 59,
    "start_time": "2024-11-07T20:55:55.623Z"
   },
   {
    "duration": 5138,
    "start_time": "2024-11-07T20:55:58.731Z"
   },
   {
    "duration": 3,
    "start_time": "2024-11-07T20:56:03.871Z"
   },
   {
    "duration": 10010,
    "start_time": "2024-11-07T20:56:56.011Z"
   },
   {
    "duration": 3,
    "start_time": "2024-11-07T20:57:09.754Z"
   },
   {
    "duration": 63,
    "start_time": "2024-11-07T20:59:18.599Z"
   },
   {
    "duration": 5,
    "start_time": "2024-11-07T20:59:28.517Z"
   },
   {
    "duration": 7123,
    "start_time": "2024-11-07T21:10:52.286Z"
   },
   {
    "duration": 7114,
    "start_time": "2024-11-07T21:11:26.734Z"
   },
   {
    "duration": 488736,
    "start_time": "2024-11-07T21:12:50.410Z"
   },
   {
    "duration": 46763,
    "start_time": "2024-11-07T21:22:05.555Z"
   },
   {
    "duration": 43919,
    "start_time": "2024-11-07T21:25:22.463Z"
   },
   {
    "duration": 3,
    "start_time": "2024-11-07T21:27:26.134Z"
   },
   {
    "duration": 9,
    "start_time": "2024-11-07T21:36:17.061Z"
   },
   {
    "duration": 8,
    "start_time": "2024-11-07T21:38:12.475Z"
   },
   {
    "duration": 29,
    "start_time": "2024-11-07T21:39:01.206Z"
   },
   {
    "duration": 7,
    "start_time": "2024-11-07T21:39:49.020Z"
   },
   {
    "duration": 8,
    "start_time": "2024-11-07T21:40:32.115Z"
   },
   {
    "duration": 5,
    "start_time": "2024-11-07T21:41:45.502Z"
   },
   {
    "duration": 8,
    "start_time": "2024-11-07T21:43:16.501Z"
   },
   {
    "duration": 3,
    "start_time": "2024-11-07T21:45:50.612Z"
   },
   {
    "duration": 4,
    "start_time": "2024-11-07T21:46:48.487Z"
   },
   {
    "duration": 5,
    "start_time": "2024-11-07T21:47:01.760Z"
   },
   {
    "duration": 5,
    "start_time": "2024-11-07T21:47:09.211Z"
   },
   {
    "duration": 53,
    "start_time": "2024-11-07T21:47:15.538Z"
   },
   {
    "duration": 6,
    "start_time": "2024-11-07T21:47:17.704Z"
   },
   {
    "duration": 3,
    "start_time": "2024-11-07T21:50:27.634Z"
   },
   {
    "duration": 3,
    "start_time": "2024-11-07T21:51:25.291Z"
   },
   {
    "duration": 3,
    "start_time": "2024-11-07T21:52:12.518Z"
   },
   {
    "duration": 3,
    "start_time": "2024-11-07T21:52:38.039Z"
   },
   {
    "duration": 3,
    "start_time": "2024-11-07T21:52:57.585Z"
   },
   {
    "duration": 4,
    "start_time": "2024-11-07T21:55:32.179Z"
   },
   {
    "duration": 15,
    "start_time": "2024-11-07T21:55:44.209Z"
   },
   {
    "duration": 3,
    "start_time": "2024-11-07T21:57:55.297Z"
   },
   {
    "duration": 11,
    "start_time": "2024-11-07T22:00:54.233Z"
   },
   {
    "duration": 8,
    "start_time": "2024-11-07T22:01:04.147Z"
   },
   {
    "duration": 32,
    "start_time": "2024-11-07T22:01:25.859Z"
   },
   {
    "duration": 4,
    "start_time": "2024-11-07T22:01:43.369Z"
   },
   {
    "duration": 4,
    "start_time": "2024-11-07T22:02:43.118Z"
   },
   {
    "duration": 14,
    "start_time": "2024-11-07T22:03:30.475Z"
   },
   {
    "duration": 9,
    "start_time": "2024-11-07T22:04:18.501Z"
   },
   {
    "duration": 11,
    "start_time": "2024-11-07T22:04:25.000Z"
   },
   {
    "duration": 12,
    "start_time": "2024-11-07T22:05:19.931Z"
   },
   {
    "duration": 7,
    "start_time": "2024-11-07T22:07:38.415Z"
   },
   {
    "duration": 6,
    "start_time": "2024-11-07T22:10:55.128Z"
   },
   {
    "duration": 4,
    "start_time": "2024-11-07T22:11:39.703Z"
   },
   {
    "duration": 2987,
    "start_time": "2024-11-07T22:43:32.641Z"
   },
   {
    "duration": 1262,
    "start_time": "2024-11-07T22:43:35.631Z"
   },
   {
    "duration": 60,
    "start_time": "2024-11-07T22:43:36.895Z"
   },
   {
    "duration": 6,
    "start_time": "2024-11-07T22:43:36.957Z"
   },
   {
    "duration": 26,
    "start_time": "2024-11-07T22:43:36.965Z"
   },
   {
    "duration": 321,
    "start_time": "2024-11-07T22:43:36.993Z"
   },
   {
    "duration": 10,
    "start_time": "2024-11-07T22:43:37.315Z"
   },
   {
    "duration": 237,
    "start_time": "2024-11-07T22:43:37.327Z"
   },
   {
    "duration": 383,
    "start_time": "2024-11-07T22:43:37.565Z"
   },
   {
    "duration": 231,
    "start_time": "2024-11-07T22:43:37.950Z"
   },
   {
    "duration": 5,
    "start_time": "2024-11-07T22:43:38.182Z"
   },
   {
    "duration": 40,
    "start_time": "2024-11-07T22:43:38.189Z"
   },
   {
    "duration": 12,
    "start_time": "2024-11-07T22:43:38.231Z"
   },
   {
    "duration": 4,
    "start_time": "2024-11-07T22:43:38.247Z"
   },
   {
    "duration": 169,
    "start_time": "2024-11-07T22:43:38.253Z"
   },
   {
    "duration": 4,
    "start_time": "2024-11-07T22:43:38.425Z"
   },
   {
    "duration": 2908,
    "start_time": "2024-11-07T22:43:38.431Z"
   },
   {
    "duration": 3,
    "start_time": "2024-11-07T22:43:41.341Z"
   },
   {
    "duration": 3,
    "start_time": "2024-11-07T22:43:41.346Z"
   },
   {
    "duration": 10097,
    "start_time": "2024-11-07T22:43:41.351Z"
   },
   {
    "duration": 4,
    "start_time": "2024-11-07T22:43:51.450Z"
   },
   {
    "duration": 5,
    "start_time": "2024-11-07T22:43:51.457Z"
   },
   {
    "duration": 44557,
    "start_time": "2024-11-07T22:43:51.463Z"
   },
   {
    "duration": 3,
    "start_time": "2024-11-07T22:44:36.022Z"
   },
   {
    "duration": 69,
    "start_time": "2024-11-07T22:44:36.026Z"
   },
   {
    "duration": 31,
    "start_time": "2024-11-07T22:44:36.097Z"
   },
   {
    "duration": 29,
    "start_time": "2024-11-07T22:44:36.130Z"
   },
   {
    "duration": 49,
    "start_time": "2024-11-07T22:44:36.161Z"
   },
   {
    "duration": 3,
    "start_time": "2024-11-07T22:44:36.212Z"
   },
   {
    "duration": 41,
    "start_time": "2024-11-07T22:44:36.217Z"
   },
   {
    "duration": 8,
    "start_time": "2024-11-07T22:44:36.260Z"
   },
   {
    "duration": 8149,
    "start_time": "2024-11-08T08:48:09.935Z"
   },
   {
    "duration": 1249,
    "start_time": "2024-11-08T08:48:18.086Z"
   },
   {
    "duration": 131,
    "start_time": "2024-11-08T08:48:19.337Z"
   },
   {
    "duration": 6,
    "start_time": "2024-11-08T08:48:19.470Z"
   },
   {
    "duration": 14,
    "start_time": "2024-11-08T08:48:19.479Z"
   },
   {
    "duration": 305,
    "start_time": "2024-11-08T08:48:19.495Z"
   },
   {
    "duration": 24,
    "start_time": "2024-11-08T08:48:19.802Z"
   },
   {
    "duration": 237,
    "start_time": "2024-11-08T08:48:19.830Z"
   },
   {
    "duration": 344,
    "start_time": "2024-11-08T08:48:20.068Z"
   },
   {
    "duration": 421,
    "start_time": "2024-11-08T08:48:20.414Z"
   },
   {
    "duration": 5,
    "start_time": "2024-11-08T08:48:20.838Z"
   },
   {
    "duration": 92,
    "start_time": "2024-11-08T08:48:20.845Z"
   },
   {
    "duration": 10,
    "start_time": "2024-11-08T08:48:20.938Z"
   },
   {
    "duration": 2,
    "start_time": "2024-11-08T08:48:20.951Z"
   },
   {
    "duration": 168,
    "start_time": "2024-11-08T08:48:20.954Z"
   },
   {
    "duration": 10,
    "start_time": "2024-11-08T08:48:21.132Z"
   },
   {
    "duration": 4284,
    "start_time": "2024-11-08T08:48:21.144Z"
   },
   {
    "duration": 11,
    "start_time": "2024-11-08T08:48:25.433Z"
   },
   {
    "duration": 5,
    "start_time": "2024-11-08T08:48:25.446Z"
   },
   {
    "duration": 14295,
    "start_time": "2024-11-08T08:48:25.453Z"
   },
   {
    "duration": 3,
    "start_time": "2024-11-08T08:48:39.749Z"
   },
   {
    "duration": 11,
    "start_time": "2024-11-08T08:48:39.754Z"
   },
   {
    "duration": 46559,
    "start_time": "2024-11-08T08:48:39.766Z"
   },
   {
    "duration": 3,
    "start_time": "2024-11-08T08:49:26.327Z"
   },
   {
    "duration": 44,
    "start_time": "2024-11-08T08:49:26.341Z"
   },
   {
    "duration": 41,
    "start_time": "2024-11-08T08:49:26.387Z"
   },
   {
    "duration": 13,
    "start_time": "2024-11-08T08:49:26.433Z"
   },
   {
    "duration": 62,
    "start_time": "2024-11-08T08:49:26.448Z"
   },
   {
    "duration": 4,
    "start_time": "2024-11-08T08:49:26.511Z"
   },
   {
    "duration": 34,
    "start_time": "2024-11-08T08:49:26.516Z"
   },
   {
    "duration": 26,
    "start_time": "2024-11-08T08:49:26.552Z"
   },
   {
    "duration": 6950,
    "start_time": "2024-11-08T14:13:40.352Z"
   },
   {
    "duration": 3048,
    "start_time": "2024-11-08T14:17:02.179Z"
   },
   {
    "duration": 1343,
    "start_time": "2024-11-08T14:17:05.229Z"
   },
   {
    "duration": 103,
    "start_time": "2024-11-08T14:17:06.574Z"
   },
   {
    "duration": 5,
    "start_time": "2024-11-08T14:17:06.678Z"
   },
   {
    "duration": 23,
    "start_time": "2024-11-08T14:17:06.684Z"
   },
   {
    "duration": 276,
    "start_time": "2024-11-08T14:17:06.708Z"
   },
   {
    "duration": 6,
    "start_time": "2024-11-08T14:17:06.985Z"
   },
   {
    "duration": 208,
    "start_time": "2024-11-08T14:17:06.993Z"
   },
   {
    "duration": 273,
    "start_time": "2024-11-08T14:17:07.203Z"
   },
   {
    "duration": 205,
    "start_time": "2024-11-08T14:17:07.478Z"
   },
   {
    "duration": 3,
    "start_time": "2024-11-08T14:17:07.685Z"
   },
   {
    "duration": 41,
    "start_time": "2024-11-08T14:18:20.976Z"
   },
   {
    "duration": 11,
    "start_time": "2024-11-08T14:19:26.590Z"
   },
   {
    "duration": 2,
    "start_time": "2024-11-08T14:19:59.563Z"
   },
   {
    "duration": 18,
    "start_time": "2024-11-08T14:28:04.048Z"
   },
   {
    "duration": 35,
    "start_time": "2024-11-08T14:28:55.609Z"
   },
   {
    "duration": 3,
    "start_time": "2024-11-08T14:29:10.103Z"
   },
   {
    "duration": 16,
    "start_time": "2024-11-08T14:29:12.864Z"
   },
   {
    "duration": 3,
    "start_time": "2024-11-08T14:29:27.178Z"
   },
   {
    "duration": 17,
    "start_time": "2024-11-08T14:29:29.552Z"
   },
   {
    "duration": 3,
    "start_time": "2024-11-08T14:29:45.364Z"
   },
   {
    "duration": 17,
    "start_time": "2024-11-08T14:29:47.590Z"
   },
   {
    "duration": 26,
    "start_time": "2024-11-08T14:30:48.362Z"
   },
   {
    "duration": 24,
    "start_time": "2024-11-08T14:30:57.446Z"
   },
   {
    "duration": 16,
    "start_time": "2024-11-08T14:31:08.528Z"
   },
   {
    "duration": 3,
    "start_time": "2024-11-08T14:31:44.825Z"
   },
   {
    "duration": 15,
    "start_time": "2024-11-08T14:31:47.168Z"
   },
   {
    "duration": 20,
    "start_time": "2024-11-08T14:31:53.297Z"
   },
   {
    "duration": 4,
    "start_time": "2024-11-08T14:32:00.588Z"
   },
   {
    "duration": 20,
    "start_time": "2024-11-08T14:32:02.750Z"
   },
   {
    "duration": 3,
    "start_time": "2024-11-08T14:39:58.732Z"
   },
   {
    "duration": 108,
    "start_time": "2024-11-08T14:41:16.129Z"
   },
   {
    "duration": 8,
    "start_time": "2024-11-08T14:41:58.496Z"
   },
   {
    "duration": 3,
    "start_time": "2024-11-08T14:42:07.763Z"
   },
   {
    "duration": 4,
    "start_time": "2024-11-08T14:46:30.374Z"
   },
   {
    "duration": 65,
    "start_time": "2024-11-08T14:47:18.025Z"
   },
   {
    "duration": 1263,
    "start_time": "2024-11-08T14:47:21.800Z"
   },
   {
    "duration": 2286,
    "start_time": "2024-11-08T14:49:10.486Z"
   },
   {
    "duration": 3,
    "start_time": "2024-11-08T14:49:31.385Z"
   },
   {
    "duration": 2,
    "start_time": "2024-11-08T14:49:44.073Z"
   },
   {
    "duration": 3,
    "start_time": "2024-11-08T14:49:53.470Z"
   },
   {
    "duration": 3,
    "start_time": "2024-11-08T14:51:10.653Z"
   },
   {
    "duration": 3,
    "start_time": "2024-11-08T14:51:19.358Z"
   },
   {
    "duration": 27,
    "start_time": "2024-11-08T15:05:03.389Z"
   },
   {
    "duration": 18163,
    "start_time": "2024-11-08T15:05:37.455Z"
   },
   {
    "duration": 10111,
    "start_time": "2024-11-08T15:06:23.406Z"
   },
   {
    "duration": 3,
    "start_time": "2024-11-08T15:06:53.928Z"
   },
   {
    "duration": 2,
    "start_time": "2024-11-08T15:07:18.220Z"
   },
   {
    "duration": 210873,
    "start_time": "2024-11-08T15:08:00.802Z"
   },
   {
    "duration": 3,
    "start_time": "2024-11-08T15:15:49.112Z"
   },
   {
    "duration": 2,
    "start_time": "2024-11-08T15:16:34.584Z"
   },
   {
    "duration": 3,
    "start_time": "2024-11-08T15:16:36.386Z"
   },
   {
    "duration": 36,
    "start_time": "2024-11-08T15:40:13.460Z"
   },
   {
    "duration": 86796,
    "start_time": "2024-11-08T15:41:23.689Z"
   },
   {
    "duration": 3,
    "start_time": "2024-11-08T15:46:02.713Z"
   },
   {
    "duration": 6,
    "start_time": "2024-11-08T15:51:38.918Z"
   },
   {
    "duration": 9,
    "start_time": "2024-11-08T15:53:38.157Z"
   },
   {
    "duration": 11,
    "start_time": "2024-11-08T16:09:36.754Z"
   },
   {
    "duration": 20,
    "start_time": "2024-11-08T16:11:30.871Z"
   },
   {
    "duration": 8,
    "start_time": "2024-11-08T16:11:54.835Z"
   },
   {
    "duration": 11,
    "start_time": "2024-11-08T16:12:12.138Z"
   },
   {
    "duration": 11,
    "start_time": "2024-11-08T16:12:51.417Z"
   },
   {
    "duration": 531,
    "start_time": "2024-11-08T16:12:56.778Z"
   },
   {
    "duration": 967,
    "start_time": "2024-11-08T16:13:10.137Z"
   },
   {
    "duration": 12,
    "start_time": "2024-11-08T16:13:25.706Z"
   },
   {
    "duration": 11,
    "start_time": "2024-11-08T16:13:28.294Z"
   },
   {
    "duration": 12,
    "start_time": "2024-11-08T16:13:49.751Z"
   },
   {
    "duration": 6,
    "start_time": "2024-11-08T16:14:25.642Z"
   },
   {
    "duration": 14,
    "start_time": "2024-11-08T16:20:36.215Z"
   },
   {
    "duration": 9,
    "start_time": "2024-11-08T16:21:59.711Z"
   },
   {
    "duration": 8,
    "start_time": "2024-11-08T16:22:11.347Z"
   },
   {
    "duration": 4,
    "start_time": "2024-11-08T16:22:23.330Z"
   },
   {
    "duration": 250,
    "start_time": "2024-11-08T16:22:33.350Z"
   },
   {
    "duration": 8,
    "start_time": "2024-11-08T16:22:53.440Z"
   },
   {
    "duration": 229,
    "start_time": "2024-11-08T16:22:57.505Z"
   },
   {
    "duration": 8,
    "start_time": "2024-11-08T16:23:25.305Z"
   },
   {
    "duration": 11,
    "start_time": "2024-11-08T16:24:19.551Z"
   },
   {
    "duration": 16,
    "start_time": "2024-11-08T16:24:26.330Z"
   },
   {
    "duration": 15,
    "start_time": "2024-11-08T16:25:02.984Z"
   },
   {
    "duration": 5,
    "start_time": "2024-11-08T16:25:15.803Z"
   },
   {
    "duration": 1394,
    "start_time": "2024-11-08T16:32:06.417Z"
   },
   {
    "duration": 5,
    "start_time": "2024-11-08T16:32:19.509Z"
   },
   {
    "duration": 4,
    "start_time": "2024-11-08T16:32:35.450Z"
   },
   {
    "duration": 4,
    "start_time": "2024-11-08T16:32:52.141Z"
   },
   {
    "duration": 1152,
    "start_time": "2024-11-08T16:33:35.661Z"
   },
   {
    "duration": 1187,
    "start_time": "2024-11-08T16:33:39.075Z"
   },
   {
    "duration": 2,
    "start_time": "2024-11-08T16:33:44.892Z"
   },
   {
    "duration": 7,
    "start_time": "2024-11-08T16:33:51.151Z"
   },
   {
    "duration": 7,
    "start_time": "2024-11-08T16:34:26.196Z"
   },
   {
    "duration": 6,
    "start_time": "2024-11-08T16:34:34.239Z"
   },
   {
    "duration": 5,
    "start_time": "2024-11-08T16:34:38.768Z"
   },
   {
    "duration": 7,
    "start_time": "2024-11-08T16:34:45.873Z"
   },
   {
    "duration": 7,
    "start_time": "2024-11-08T16:35:00.592Z"
   },
   {
    "duration": 19,
    "start_time": "2024-11-08T16:39:35.022Z"
   },
   {
    "duration": 16,
    "start_time": "2024-11-08T16:41:42.933Z"
   },
   {
    "duration": 6,
    "start_time": "2024-11-08T16:42:40.280Z"
   },
   {
    "duration": 6,
    "start_time": "2024-11-08T16:42:46.350Z"
   },
   {
    "duration": 7,
    "start_time": "2024-11-08T16:42:53.381Z"
   },
   {
    "duration": 4,
    "start_time": "2024-11-08T16:43:14.850Z"
   },
   {
    "duration": 68,
    "start_time": "2024-11-08T16:43:49.526Z"
   },
   {
    "duration": 5,
    "start_time": "2024-11-08T16:44:48.783Z"
   },
   {
    "duration": 4,
    "start_time": "2024-11-08T16:45:13.837Z"
   },
   {
    "duration": 5,
    "start_time": "2024-11-08T16:45:32.406Z"
   },
   {
    "duration": 11,
    "start_time": "2024-11-08T16:46:04.505Z"
   },
   {
    "duration": 7,
    "start_time": "2024-11-08T16:46:12.060Z"
   },
   {
    "duration": 9,
    "start_time": "2024-11-08T16:46:50.157Z"
   },
   {
    "duration": 4,
    "start_time": "2024-11-08T16:47:29.078Z"
   },
   {
    "duration": 4,
    "start_time": "2024-11-08T16:47:34.285Z"
   },
   {
    "duration": 8,
    "start_time": "2024-11-08T16:47:48.416Z"
   },
   {
    "duration": 4,
    "start_time": "2024-11-08T16:47:54.608Z"
   },
   {
    "duration": 10,
    "start_time": "2024-11-08T16:50:25.022Z"
   },
   {
    "duration": 9,
    "start_time": "2024-11-08T16:50:48.391Z"
   },
   {
    "duration": 9,
    "start_time": "2024-11-08T16:51:14.957Z"
   },
   {
    "duration": 9,
    "start_time": "2024-11-08T16:52:55.869Z"
   },
   {
    "duration": 7,
    "start_time": "2024-11-08T16:53:17.204Z"
   },
   {
    "duration": 12,
    "start_time": "2024-11-08T16:53:49.912Z"
   },
   {
    "duration": 11,
    "start_time": "2024-11-08T16:54:39.281Z"
   },
   {
    "duration": 11,
    "start_time": "2024-11-08T16:57:10.728Z"
   },
   {
    "duration": 10,
    "start_time": "2024-11-08T16:58:26.829Z"
   },
   {
    "duration": 12,
    "start_time": "2024-11-08T17:00:12.928Z"
   },
   {
    "duration": 10,
    "start_time": "2024-11-08T17:00:33.013Z"
   },
   {
    "duration": 8,
    "start_time": "2024-11-08T17:03:46.711Z"
   },
   {
    "duration": 9,
    "start_time": "2024-11-08T17:10:10.534Z"
   },
   {
    "duration": 12,
    "start_time": "2024-11-08T17:16:56.443Z"
   },
   {
    "duration": 472,
    "start_time": "2024-11-08T17:17:07.512Z"
   },
   {
    "duration": 7,
    "start_time": "2024-11-08T17:18:47.816Z"
   },
   {
    "duration": 9,
    "start_time": "2024-11-08T17:18:59.504Z"
   },
   {
    "duration": 5,
    "start_time": "2024-11-08T17:20:34.051Z"
   },
   {
    "duration": 5,
    "start_time": "2024-11-08T17:22:19.712Z"
   },
   {
    "duration": 5,
    "start_time": "2024-11-08T17:22:33.713Z"
   },
   {
    "duration": 5,
    "start_time": "2024-11-08T17:23:25.250Z"
   },
   {
    "duration": 4992,
    "start_time": "2024-11-08T17:31:10.351Z"
   },
   {
    "duration": 1211,
    "start_time": "2024-11-08T17:31:15.345Z"
   },
   {
    "duration": 54,
    "start_time": "2024-11-08T17:31:16.557Z"
   },
   {
    "duration": 6,
    "start_time": "2024-11-08T17:31:16.612Z"
   },
   {
    "duration": 13,
    "start_time": "2024-11-08T17:31:16.620Z"
   },
   {
    "duration": 309,
    "start_time": "2024-11-08T17:31:16.635Z"
   },
   {
    "duration": 7,
    "start_time": "2024-11-08T17:31:16.945Z"
   },
   {
    "duration": 248,
    "start_time": "2024-11-08T17:31:16.954Z"
   },
   {
    "duration": 224,
    "start_time": "2024-11-08T17:31:17.203Z"
   },
   {
    "duration": 208,
    "start_time": "2024-11-08T17:31:17.429Z"
   },
   {
    "duration": 3,
    "start_time": "2024-11-08T17:31:17.639Z"
   },
   {
    "duration": 31,
    "start_time": "2024-11-08T17:31:17.644Z"
   },
   {
    "duration": 8,
    "start_time": "2024-11-08T17:31:17.677Z"
   },
   {
    "duration": 2,
    "start_time": "2024-11-08T17:31:17.689Z"
   },
   {
    "duration": 8,
    "start_time": "2024-11-08T17:31:17.693Z"
   },
   {
    "duration": 766,
    "start_time": "2024-11-08T17:31:17.703Z"
   },
   {
    "duration": 4,
    "start_time": "2024-11-08T17:31:18.559Z"
   },
   {
    "duration": 2159,
    "start_time": "2024-11-08T17:31:18.569Z"
   },
   {
    "duration": 3,
    "start_time": "2024-11-08T17:31:20.730Z"
   },
   {
    "duration": 21,
    "start_time": "2024-11-08T17:31:20.734Z"
   },
   {
    "duration": 6933,
    "start_time": "2024-11-08T17:31:20.756Z"
   },
   {
    "duration": 3,
    "start_time": "2024-11-08T17:31:27.691Z"
   },
   {
    "duration": 9,
    "start_time": "2024-11-08T17:31:27.695Z"
   },
   {
    "duration": 32514,
    "start_time": "2024-11-08T17:31:27.705Z"
   },
   {
    "duration": 3,
    "start_time": "2024-11-08T17:32:00.220Z"
   },
   {
    "duration": 11,
    "start_time": "2024-11-08T17:32:00.225Z"
   },
   {
    "duration": 45,
    "start_time": "2024-11-08T17:32:00.238Z"
   },
   {
    "duration": 11,
    "start_time": "2024-11-08T17:32:00.284Z"
   },
   {
    "duration": 32,
    "start_time": "2024-11-08T17:32:00.296Z"
   },
   {
    "duration": 17,
    "start_time": "2024-11-08T17:32:00.330Z"
   },
   {
    "duration": 15,
    "start_time": "2024-11-08T17:32:00.348Z"
   },
   {
    "duration": 7,
    "start_time": "2024-11-08T17:32:00.364Z"
   },
   {
    "duration": 21,
    "start_time": "2024-11-08T17:32:00.372Z"
   },
   {
    "duration": 20,
    "start_time": "2024-11-08T17:32:00.395Z"
   }
  ],
  "kernelspec": {
   "display_name": "Python 3 (ipykernel)",
   "language": "python",
   "name": "python3"
  },
  "language_info": {
   "codemirror_mode": {
    "name": "ipython",
    "version": 3
   },
   "file_extension": ".py",
   "mimetype": "text/x-python",
   "name": "python",
   "nbconvert_exporter": "python",
   "pygments_lexer": "ipython3",
   "version": "3.9.5"
  },
  "toc": {
   "base_numbering": 1,
   "nav_menu": {},
   "number_sections": true,
   "sideBar": true,
   "skip_h1_title": true,
   "title_cell": "Содержание",
   "title_sidebar": "Contents",
   "toc_cell": true,
   "toc_position": {
    "height": "calc(100% - 180px)",
    "left": "10px",
    "top": "150px",
    "width": "241.667px"
   },
   "toc_section_display": true,
   "toc_window_display": true
  }
 },
 "nbformat": 4,
 "nbformat_minor": 2
}
