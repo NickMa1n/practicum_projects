{
 "cells": [
  {
   "cell_type": "markdown",
   "metadata": {},
   "source": [
    "# Выбор локации для скважины"
   ]
  },
  {
   "cell_type": "markdown",
   "metadata": {},
   "source": [
    "Допустим, вы работаете в добывающей компании «ГлавРосГосНефть». Нужно решить, где бурить новую скважину.\n",
    "\n",
    "Вам предоставлены пробы нефти в трёх регионах: в каждом 10 000 месторождений, где измерили качество нефти и объём её запасов. Постройте модель машинного обучения, которая поможет определить регион, где добыча принесёт наибольшую прибыль. Проанализируйте возможную прибыль и риски техникой *Bootstrap.*\n",
    "\n",
    "Шаги для выбора локации:\n",
    "\n",
    "- В избранном регионе ищут месторождения, для каждого определяют значения признаков;\n",
    "- Строят модель и оценивают объём запасов;\n",
    "- Выбирают месторождения с самым высокими оценками значений. Количество месторождений зависит от бюджета компании и стоимости разработки одной скважины;\n",
    "- Прибыль равна суммарной прибыли отобранных месторождений."
   ]
  },
  {
   "cell_type": "markdown",
   "metadata": {},
   "source": [
    "**Цель исследования:** построить модель МО, которая поможет определить регион, гдн добыча нефти принесет наибольшую прибыль. Посчитать риски и прибыль для каждого региона с помощью техники Bootstrap"
   ]
  },
  {
   "cell_type": "markdown",
   "metadata": {},
   "source": [
    "**Условия задачи:**\n",
    "* Для обучения модели подходит только линейная регрессия (остальные — недостаточно предсказуемые).\n",
    "* При разведке региона исследуют 500 точек, из которых с помощью машинного обучения выбирают 200 лучших для разработки.\n",
    "* Бюджет на разработку скважин в регионе — 10 млрд рублей.\n",
    "* При нынешних ценах один баррель сырья приносит 450 рублей дохода. Доход с каждой единицы продукта составляет 450 тыс. рублей, поскольку объём указан в тысячах баррелей.\n",
    "* После оценки рисков нужно оставить лишь те регионы, в которых вероятность убытков меньше 2.5%. Среди них выбирают регион с наибольшей средней прибылью."
   ]
  },
  {
   "cell_type": "markdown",
   "metadata": {},
   "source": [
    "**Описание данных:**\n",
    "* id — уникальный идентификатор скважины;\n",
    "* f0, f1, f2 — три признака точек (неважно, что они означают, но сами признаки значимы);\n",
    "* product — объём запасов в скважине (тыс. баррелей)."
   ]
  },
  {
   "cell_type": "code",
   "execution_count": 54,
   "metadata": {},
   "outputs": [],
   "source": [
    "import pandas as pd\n",
    "import matplotlib.pyplot as plt\n",
    "import numpy as np\n",
    "from sklearn.model_selection import train_test_split\n",
    "from sklearn.preprocessing import StandardScaler\n",
    "from sklearn.linear_model import LinearRegression\n",
    "from sklearn.metrics import mean_squared_error"
   ]
  },
  {
   "cell_type": "markdown",
   "metadata": {},
   "source": [
    "## Загрузка и подготовка данных"
   ]
  },
  {
   "cell_type": "code",
   "execution_count": 55,
   "metadata": {},
   "outputs": [],
   "source": [
    "region_1 = pd.read_csv('/datasets/geo_data_0.csv')\n",
    "region_2 = pd.read_csv('/datasets/geo_data_1.csv')\n",
    "region_3 = pd.read_csv('/datasets/geo_data_2.csv')"
   ]
  },
  {
   "cell_type": "markdown",
   "metadata": {},
   "source": [
    "### Общая информация об исходных данных"
   ]
  },
  {
   "cell_type": "code",
   "execution_count": 56,
   "metadata": {},
   "outputs": [
    {
     "name": "stdout",
     "output_type": "stream",
     "text": [
      "<class 'pandas.core.frame.DataFrame'>\n",
      "RangeIndex: 100000 entries, 0 to 99999\n",
      "Data columns (total 5 columns):\n",
      " #   Column   Non-Null Count   Dtype  \n",
      "---  ------   --------------   -----  \n",
      " 0   id       100000 non-null  object \n",
      " 1   f0       100000 non-null  float64\n",
      " 2   f1       100000 non-null  float64\n",
      " 3   f2       100000 non-null  float64\n",
      " 4   product  100000 non-null  float64\n",
      "dtypes: float64(4), object(1)\n",
      "memory usage: 3.8+ MB\n"
     ]
    },
    {
     "data": {
      "text/html": [
       "<div>\n",
       "<style scoped>\n",
       "    .dataframe tbody tr th:only-of-type {\n",
       "        vertical-align: middle;\n",
       "    }\n",
       "\n",
       "    .dataframe tbody tr th {\n",
       "        vertical-align: top;\n",
       "    }\n",
       "\n",
       "    .dataframe thead th {\n",
       "        text-align: right;\n",
       "    }\n",
       "</style>\n",
       "<table border=\"1\" class=\"dataframe\">\n",
       "  <thead>\n",
       "    <tr style=\"text-align: right;\">\n",
       "      <th></th>\n",
       "      <th>id</th>\n",
       "      <th>f0</th>\n",
       "      <th>f1</th>\n",
       "      <th>f2</th>\n",
       "      <th>product</th>\n",
       "    </tr>\n",
       "  </thead>\n",
       "  <tbody>\n",
       "    <tr>\n",
       "      <th>0</th>\n",
       "      <td>txEyH</td>\n",
       "      <td>0.705745</td>\n",
       "      <td>-0.497823</td>\n",
       "      <td>1.221170</td>\n",
       "      <td>105.280062</td>\n",
       "    </tr>\n",
       "    <tr>\n",
       "      <th>1</th>\n",
       "      <td>2acmU</td>\n",
       "      <td>1.334711</td>\n",
       "      <td>-0.340164</td>\n",
       "      <td>4.365080</td>\n",
       "      <td>73.037750</td>\n",
       "    </tr>\n",
       "    <tr>\n",
       "      <th>2</th>\n",
       "      <td>409Wp</td>\n",
       "      <td>1.022732</td>\n",
       "      <td>0.151990</td>\n",
       "      <td>1.419926</td>\n",
       "      <td>85.265647</td>\n",
       "    </tr>\n",
       "    <tr>\n",
       "      <th>3</th>\n",
       "      <td>iJLyR</td>\n",
       "      <td>-0.032172</td>\n",
       "      <td>0.139033</td>\n",
       "      <td>2.978566</td>\n",
       "      <td>168.620776</td>\n",
       "    </tr>\n",
       "    <tr>\n",
       "      <th>4</th>\n",
       "      <td>Xdl7t</td>\n",
       "      <td>1.988431</td>\n",
       "      <td>0.155413</td>\n",
       "      <td>4.751769</td>\n",
       "      <td>154.036647</td>\n",
       "    </tr>\n",
       "  </tbody>\n",
       "</table>\n",
       "</div>"
      ],
      "text/plain": [
       "      id        f0        f1        f2     product\n",
       "0  txEyH  0.705745 -0.497823  1.221170  105.280062\n",
       "1  2acmU  1.334711 -0.340164  4.365080   73.037750\n",
       "2  409Wp  1.022732  0.151990  1.419926   85.265647\n",
       "3  iJLyR -0.032172  0.139033  2.978566  168.620776\n",
       "4  Xdl7t  1.988431  0.155413  4.751769  154.036647"
      ]
     },
     "execution_count": 56,
     "metadata": {},
     "output_type": "execute_result"
    }
   ],
   "source": [
    "region_1.info()\n",
    "region_1.head()"
   ]
  },
  {
   "cell_type": "code",
   "execution_count": 57,
   "metadata": {},
   "outputs": [
    {
     "name": "stdout",
     "output_type": "stream",
     "text": [
      "<class 'pandas.core.frame.DataFrame'>\n",
      "RangeIndex: 100000 entries, 0 to 99999\n",
      "Data columns (total 5 columns):\n",
      " #   Column   Non-Null Count   Dtype  \n",
      "---  ------   --------------   -----  \n",
      " 0   id       100000 non-null  object \n",
      " 1   f0       100000 non-null  float64\n",
      " 2   f1       100000 non-null  float64\n",
      " 3   f2       100000 non-null  float64\n",
      " 4   product  100000 non-null  float64\n",
      "dtypes: float64(4), object(1)\n",
      "memory usage: 3.8+ MB\n"
     ]
    },
    {
     "data": {
      "text/html": [
       "<div>\n",
       "<style scoped>\n",
       "    .dataframe tbody tr th:only-of-type {\n",
       "        vertical-align: middle;\n",
       "    }\n",
       "\n",
       "    .dataframe tbody tr th {\n",
       "        vertical-align: top;\n",
       "    }\n",
       "\n",
       "    .dataframe thead th {\n",
       "        text-align: right;\n",
       "    }\n",
       "</style>\n",
       "<table border=\"1\" class=\"dataframe\">\n",
       "  <thead>\n",
       "    <tr style=\"text-align: right;\">\n",
       "      <th></th>\n",
       "      <th>id</th>\n",
       "      <th>f0</th>\n",
       "      <th>f1</th>\n",
       "      <th>f2</th>\n",
       "      <th>product</th>\n",
       "    </tr>\n",
       "  </thead>\n",
       "  <tbody>\n",
       "    <tr>\n",
       "      <th>0</th>\n",
       "      <td>kBEdx</td>\n",
       "      <td>-15.001348</td>\n",
       "      <td>-8.276000</td>\n",
       "      <td>-0.005876</td>\n",
       "      <td>3.179103</td>\n",
       "    </tr>\n",
       "    <tr>\n",
       "      <th>1</th>\n",
       "      <td>62mP7</td>\n",
       "      <td>14.272088</td>\n",
       "      <td>-3.475083</td>\n",
       "      <td>0.999183</td>\n",
       "      <td>26.953261</td>\n",
       "    </tr>\n",
       "    <tr>\n",
       "      <th>2</th>\n",
       "      <td>vyE1P</td>\n",
       "      <td>6.263187</td>\n",
       "      <td>-5.948386</td>\n",
       "      <td>5.001160</td>\n",
       "      <td>134.766305</td>\n",
       "    </tr>\n",
       "    <tr>\n",
       "      <th>3</th>\n",
       "      <td>KcrkZ</td>\n",
       "      <td>-13.081196</td>\n",
       "      <td>-11.506057</td>\n",
       "      <td>4.999415</td>\n",
       "      <td>137.945408</td>\n",
       "    </tr>\n",
       "    <tr>\n",
       "      <th>4</th>\n",
       "      <td>AHL4O</td>\n",
       "      <td>12.702195</td>\n",
       "      <td>-8.147433</td>\n",
       "      <td>5.004363</td>\n",
       "      <td>134.766305</td>\n",
       "    </tr>\n",
       "  </tbody>\n",
       "</table>\n",
       "</div>"
      ],
      "text/plain": [
       "      id         f0         f1        f2     product\n",
       "0  kBEdx -15.001348  -8.276000 -0.005876    3.179103\n",
       "1  62mP7  14.272088  -3.475083  0.999183   26.953261\n",
       "2  vyE1P   6.263187  -5.948386  5.001160  134.766305\n",
       "3  KcrkZ -13.081196 -11.506057  4.999415  137.945408\n",
       "4  AHL4O  12.702195  -8.147433  5.004363  134.766305"
      ]
     },
     "execution_count": 57,
     "metadata": {},
     "output_type": "execute_result"
    }
   ],
   "source": [
    "region_2.info()\n",
    "region_2.head()"
   ]
  },
  {
   "cell_type": "code",
   "execution_count": 58,
   "metadata": {},
   "outputs": [
    {
     "name": "stdout",
     "output_type": "stream",
     "text": [
      "<class 'pandas.core.frame.DataFrame'>\n",
      "RangeIndex: 100000 entries, 0 to 99999\n",
      "Data columns (total 5 columns):\n",
      " #   Column   Non-Null Count   Dtype  \n",
      "---  ------   --------------   -----  \n",
      " 0   id       100000 non-null  object \n",
      " 1   f0       100000 non-null  float64\n",
      " 2   f1       100000 non-null  float64\n",
      " 3   f2       100000 non-null  float64\n",
      " 4   product  100000 non-null  float64\n",
      "dtypes: float64(4), object(1)\n",
      "memory usage: 3.8+ MB\n"
     ]
    },
    {
     "data": {
      "text/html": [
       "<div>\n",
       "<style scoped>\n",
       "    .dataframe tbody tr th:only-of-type {\n",
       "        vertical-align: middle;\n",
       "    }\n",
       "\n",
       "    .dataframe tbody tr th {\n",
       "        vertical-align: top;\n",
       "    }\n",
       "\n",
       "    .dataframe thead th {\n",
       "        text-align: right;\n",
       "    }\n",
       "</style>\n",
       "<table border=\"1\" class=\"dataframe\">\n",
       "  <thead>\n",
       "    <tr style=\"text-align: right;\">\n",
       "      <th></th>\n",
       "      <th>id</th>\n",
       "      <th>f0</th>\n",
       "      <th>f1</th>\n",
       "      <th>f2</th>\n",
       "      <th>product</th>\n",
       "    </tr>\n",
       "  </thead>\n",
       "  <tbody>\n",
       "    <tr>\n",
       "      <th>0</th>\n",
       "      <td>fwXo0</td>\n",
       "      <td>-1.146987</td>\n",
       "      <td>0.963328</td>\n",
       "      <td>-0.828965</td>\n",
       "      <td>27.758673</td>\n",
       "    </tr>\n",
       "    <tr>\n",
       "      <th>1</th>\n",
       "      <td>WJtFt</td>\n",
       "      <td>0.262778</td>\n",
       "      <td>0.269839</td>\n",
       "      <td>-2.530187</td>\n",
       "      <td>56.069697</td>\n",
       "    </tr>\n",
       "    <tr>\n",
       "      <th>2</th>\n",
       "      <td>ovLUW</td>\n",
       "      <td>0.194587</td>\n",
       "      <td>0.289035</td>\n",
       "      <td>-5.586433</td>\n",
       "      <td>62.871910</td>\n",
       "    </tr>\n",
       "    <tr>\n",
       "      <th>3</th>\n",
       "      <td>q6cA6</td>\n",
       "      <td>2.236060</td>\n",
       "      <td>-0.553760</td>\n",
       "      <td>0.930038</td>\n",
       "      <td>114.572842</td>\n",
       "    </tr>\n",
       "    <tr>\n",
       "      <th>4</th>\n",
       "      <td>WPMUX</td>\n",
       "      <td>-0.515993</td>\n",
       "      <td>1.716266</td>\n",
       "      <td>5.899011</td>\n",
       "      <td>149.600746</td>\n",
       "    </tr>\n",
       "  </tbody>\n",
       "</table>\n",
       "</div>"
      ],
      "text/plain": [
       "      id        f0        f1        f2     product\n",
       "0  fwXo0 -1.146987  0.963328 -0.828965   27.758673\n",
       "1  WJtFt  0.262778  0.269839 -2.530187   56.069697\n",
       "2  ovLUW  0.194587  0.289035 -5.586433   62.871910\n",
       "3  q6cA6  2.236060 -0.553760  0.930038  114.572842\n",
       "4  WPMUX -0.515993  1.716266  5.899011  149.600746"
      ]
     },
     "execution_count": 58,
     "metadata": {},
     "output_type": "execute_result"
    }
   ],
   "source": [
    "region_3.info()\n",
    "region_3.head()"
   ]
  },
  {
   "cell_type": "markdown",
   "metadata": {},
   "source": [
    "### Проверка на дубликаты"
   ]
  },
  {
   "cell_type": "code",
   "execution_count": 59,
   "metadata": {},
   "outputs": [
    {
     "data": {
      "text/plain": [
       "0"
      ]
     },
     "execution_count": 59,
     "metadata": {},
     "output_type": "execute_result"
    }
   ],
   "source": [
    "region_1.drop('id', axis=1).duplicated().sum()"
   ]
  },
  {
   "cell_type": "code",
   "execution_count": 60,
   "metadata": {},
   "outputs": [
    {
     "data": {
      "text/plain": [
       "0"
      ]
     },
     "execution_count": 60,
     "metadata": {},
     "output_type": "execute_result"
    }
   ],
   "source": [
    "region_2.drop('id', axis=1).duplicated().sum()"
   ]
  },
  {
   "cell_type": "code",
   "execution_count": 61,
   "metadata": {},
   "outputs": [
    {
     "data": {
      "text/plain": [
       "0"
      ]
     },
     "execution_count": 61,
     "metadata": {},
     "output_type": "execute_result"
    }
   ],
   "source": [
    "region_3.drop('id', axis=1).duplicated().sum()"
   ]
  },
  {
   "cell_type": "code",
   "execution_count": 62,
   "metadata": {},
   "outputs": [
    {
     "data": {
      "text/plain": [
       "10"
      ]
     },
     "execution_count": 62,
     "metadata": {},
     "output_type": "execute_result"
    }
   ],
   "source": [
    "region_1['id'].duplicated().sum()"
   ]
  },
  {
   "cell_type": "code",
   "execution_count": 63,
   "metadata": {},
   "outputs": [
    {
     "data": {
      "text/plain": [
       "4"
      ]
     },
     "execution_count": 63,
     "metadata": {},
     "output_type": "execute_result"
    }
   ],
   "source": [
    "region_2['id'].duplicated().sum()"
   ]
  },
  {
   "cell_type": "code",
   "execution_count": 64,
   "metadata": {},
   "outputs": [
    {
     "data": {
      "text/plain": [
       "4"
      ]
     },
     "execution_count": 64,
     "metadata": {},
     "output_type": "execute_result"
    }
   ],
   "source": [
    "region_3['id'].duplicated().sum()"
   ]
  },
  {
   "cell_type": "markdown",
   "metadata": {},
   "source": [
    "### Исследовательский анализ"
   ]
  },
  {
   "cell_type": "markdown",
   "metadata": {},
   "source": [
    "#### Регион 1"
   ]
  },
  {
   "cell_type": "code",
   "execution_count": 65,
   "metadata": {},
   "outputs": [
    {
     "data": {
      "text/html": [
       "<div>\n",
       "<style scoped>\n",
       "    .dataframe tbody tr th:only-of-type {\n",
       "        vertical-align: middle;\n",
       "    }\n",
       "\n",
       "    .dataframe tbody tr th {\n",
       "        vertical-align: top;\n",
       "    }\n",
       "\n",
       "    .dataframe thead th {\n",
       "        text-align: right;\n",
       "    }\n",
       "</style>\n",
       "<table border=\"1\" class=\"dataframe\">\n",
       "  <thead>\n",
       "    <tr style=\"text-align: right;\">\n",
       "      <th></th>\n",
       "      <th>f0</th>\n",
       "      <th>f1</th>\n",
       "      <th>f2</th>\n",
       "      <th>product</th>\n",
       "    </tr>\n",
       "  </thead>\n",
       "  <tbody>\n",
       "    <tr>\n",
       "      <th>count</th>\n",
       "      <td>100000.000000</td>\n",
       "      <td>100000.000000</td>\n",
       "      <td>100000.000000</td>\n",
       "      <td>100000.000000</td>\n",
       "    </tr>\n",
       "    <tr>\n",
       "      <th>mean</th>\n",
       "      <td>0.500419</td>\n",
       "      <td>0.250143</td>\n",
       "      <td>2.502647</td>\n",
       "      <td>92.500000</td>\n",
       "    </tr>\n",
       "    <tr>\n",
       "      <th>std</th>\n",
       "      <td>0.871832</td>\n",
       "      <td>0.504433</td>\n",
       "      <td>3.248248</td>\n",
       "      <td>44.288691</td>\n",
       "    </tr>\n",
       "    <tr>\n",
       "      <th>min</th>\n",
       "      <td>-1.408605</td>\n",
       "      <td>-0.848218</td>\n",
       "      <td>-12.088328</td>\n",
       "      <td>0.000000</td>\n",
       "    </tr>\n",
       "    <tr>\n",
       "      <th>25%</th>\n",
       "      <td>-0.072580</td>\n",
       "      <td>-0.200881</td>\n",
       "      <td>0.287748</td>\n",
       "      <td>56.497507</td>\n",
       "    </tr>\n",
       "    <tr>\n",
       "      <th>50%</th>\n",
       "      <td>0.502360</td>\n",
       "      <td>0.250252</td>\n",
       "      <td>2.515969</td>\n",
       "      <td>91.849972</td>\n",
       "    </tr>\n",
       "    <tr>\n",
       "      <th>75%</th>\n",
       "      <td>1.073581</td>\n",
       "      <td>0.700646</td>\n",
       "      <td>4.715088</td>\n",
       "      <td>128.564089</td>\n",
       "    </tr>\n",
       "    <tr>\n",
       "      <th>max</th>\n",
       "      <td>2.362331</td>\n",
       "      <td>1.343769</td>\n",
       "      <td>16.003790</td>\n",
       "      <td>185.364347</td>\n",
       "    </tr>\n",
       "  </tbody>\n",
       "</table>\n",
       "</div>"
      ],
      "text/plain": [
       "                  f0             f1             f2        product\n",
       "count  100000.000000  100000.000000  100000.000000  100000.000000\n",
       "mean        0.500419       0.250143       2.502647      92.500000\n",
       "std         0.871832       0.504433       3.248248      44.288691\n",
       "min        -1.408605      -0.848218     -12.088328       0.000000\n",
       "25%        -0.072580      -0.200881       0.287748      56.497507\n",
       "50%         0.502360       0.250252       2.515969      91.849972\n",
       "75%         1.073581       0.700646       4.715088     128.564089\n",
       "max         2.362331       1.343769      16.003790     185.364347"
      ]
     },
     "execution_count": 65,
     "metadata": {},
     "output_type": "execute_result"
    }
   ],
   "source": [
    "region_1.describe()"
   ]
  },
  {
   "cell_type": "code",
   "execution_count": 66,
   "metadata": {},
   "outputs": [
    {
     "data": {
      "image/png": "[encoded data removed]",
      "text/plain": [
       "<Figure size 1152x576 with 2 Axes>"
      ]
     },
     "metadata": {
      "needs_background": "light"
     },
     "output_type": "display_data"
    },
    {
     "data": {
      "image/png": "[encoded data removed]",
      "text/plain": [
       "<Figure size 1152x576 with 2 Axes>"
      ]
     },
     "metadata": {
      "needs_background": "light"
     },
     "output_type": "display_data"
    },
    {
     "data": {
      "image/png": "[encoded data removed]",
      "text/plain": [
       "<Figure size 1152x576 with 2 Axes>"
      ]
     },
     "metadata": {
      "needs_background": "light"
     },
     "output_type": "display_data"
    },
    {
     "data": {
      "image/png": "[encoded data removed]",
      "text/plain": [
       "<Figure size 1152x576 with 2 Axes>"
      ]
     },
     "metadata": {
      "needs_background": "light"
     },
     "output_type": "display_data"
    }
   ],
   "source": [
    "for col in region_1.select_dtypes(exclude='object').columns:\n",
    "    fig, ax = plt.subplots(ncols=2, figsize=(16, 8))\n",
    "    ax[0].hist(data=region_1, x=col, bins=30)\n",
    "    ax[0].set_title(f'Гистограмма признака {col}')\n",
    "    ax[0].set_xlabel(col)\n",
    "    ax[0].set_ylabel('количество')\n",
    "    ax[1].boxplot(data=region_1, x=col, vert=False)\n",
    "    ax[1].set_title(f'Диаграмма размаха признака {col}')\n",
    "    ax[1].set_xlabel(col)\n",
    "    plt.show()"
   ]
  },
  {
   "cell_type": "markdown",
   "metadata": {},
   "source": [
    "#### Регион 2"
   ]
  },
  {
   "cell_type": "code",
   "execution_count": 67,
   "metadata": {},
   "outputs": [
    {
     "data": {
      "text/html": [
       "<div>\n",
       "<style scoped>\n",
       "    .dataframe tbody tr th:only-of-type {\n",
       "        vertical-align: middle;\n",
       "    }\n",
       "\n",
       "    .dataframe tbody tr th {\n",
       "        vertical-align: top;\n",
       "    }\n",
       "\n",
       "    .dataframe thead th {\n",
       "        text-align: right;\n",
       "    }\n",
       "</style>\n",
       "<table border=\"1\" class=\"dataframe\">\n",
       "  <thead>\n",
       "    <tr style=\"text-align: right;\">\n",
       "      <th></th>\n",
       "      <th>f0</th>\n",
       "      <th>f1</th>\n",
       "      <th>f2</th>\n",
       "      <th>product</th>\n",
       "    </tr>\n",
       "  </thead>\n",
       "  <tbody>\n",
       "    <tr>\n",
       "      <th>count</th>\n",
       "      <td>100000.000000</td>\n",
       "      <td>100000.000000</td>\n",
       "      <td>100000.000000</td>\n",
       "      <td>100000.000000</td>\n",
       "    </tr>\n",
       "    <tr>\n",
       "      <th>mean</th>\n",
       "      <td>1.141296</td>\n",
       "      <td>-4.796579</td>\n",
       "      <td>2.494541</td>\n",
       "      <td>68.825000</td>\n",
       "    </tr>\n",
       "    <tr>\n",
       "      <th>std</th>\n",
       "      <td>8.965932</td>\n",
       "      <td>5.119872</td>\n",
       "      <td>1.703572</td>\n",
       "      <td>45.944423</td>\n",
       "    </tr>\n",
       "    <tr>\n",
       "      <th>min</th>\n",
       "      <td>-31.609576</td>\n",
       "      <td>-26.358598</td>\n",
       "      <td>-0.018144</td>\n",
       "      <td>0.000000</td>\n",
       "    </tr>\n",
       "    <tr>\n",
       "      <th>25%</th>\n",
       "      <td>-6.298551</td>\n",
       "      <td>-8.267985</td>\n",
       "      <td>1.000021</td>\n",
       "      <td>26.953261</td>\n",
       "    </tr>\n",
       "    <tr>\n",
       "      <th>50%</th>\n",
       "      <td>1.153055</td>\n",
       "      <td>-4.813172</td>\n",
       "      <td>2.011479</td>\n",
       "      <td>57.085625</td>\n",
       "    </tr>\n",
       "    <tr>\n",
       "      <th>75%</th>\n",
       "      <td>8.621015</td>\n",
       "      <td>-1.332816</td>\n",
       "      <td>3.999904</td>\n",
       "      <td>107.813044</td>\n",
       "    </tr>\n",
       "    <tr>\n",
       "      <th>max</th>\n",
       "      <td>29.421755</td>\n",
       "      <td>18.734063</td>\n",
       "      <td>5.019721</td>\n",
       "      <td>137.945408</td>\n",
       "    </tr>\n",
       "  </tbody>\n",
       "</table>\n",
       "</div>"
      ],
      "text/plain": [
       "                  f0             f1             f2        product\n",
       "count  100000.000000  100000.000000  100000.000000  100000.000000\n",
       "mean        1.141296      -4.796579       2.494541      68.825000\n",
       "std         8.965932       5.119872       1.703572      45.944423\n",
       "min       -31.609576     -26.358598      -0.018144       0.000000\n",
       "25%        -6.298551      -8.267985       1.000021      26.953261\n",
       "50%         1.153055      -4.813172       2.011479      57.085625\n",
       "75%         8.621015      -1.332816       3.999904     107.813044\n",
       "max        29.421755      18.734063       5.019721     137.945408"
      ]
     },
     "execution_count": 67,
     "metadata": {},
     "output_type": "execute_result"
    }
   ],
   "source": [
    "region_2.describe()"
   ]
  },
  {
   "cell_type": "code",
   "execution_count": 68,
   "metadata": {},
   "outputs": [
    {
     "data": {
      "image/png": "[encoded data removed]",
      "text/plain": [
       "<Figure size 1152x576 with 2 Axes>"
      ]
     },
     "metadata": {
      "needs_background": "light"
     },
     "output_type": "display_data"
    },
    {
     "data": {
      "image/png": "[encoded data removed]",
      "text/plain": [
       "<Figure size 1152x576 with 2 Axes>"
      ]
     },
     "metadata": {
      "needs_background": "light"
     },
     "output_type": "display_data"
    },
    {
     "data": {
      "image/png": "[encoded data removed]",
      "text/plain": [
       "<Figure size 1152x576 with 2 Axes>"
      ]
     },
     "metadata": {
      "needs_background": "light"
     },
     "output_type": "display_data"
    },
    {
     "data": {
      "image/png": "[encoded data removed]",
      "text/plain": [
       "<Figure size 1152x576 with 2 Axes>"
      ]
     },
     "metadata": {
      "needs_background": "light"
     },
     "output_type": "display_data"
    }
   ],
   "source": [
    "for col in region_2.select_dtypes(exclude='object').columns:\n",
    "    fig, ax = plt.subplots(ncols=2, figsize=(16, 8))\n",
    "    ax[0].hist(data=region_2, x=col, bins=30)\n",
    "    ax[0].set_title(f'Гистограмма признака {col}')\n",
    "    ax[0].set_xlabel(col)\n",
    "    ax[0].set_ylabel('количество')\n",
    "    ax[1].boxplot(data=region_2, x=col, vert=False)\n",
    "    ax[1].set_title(f'Диаграмма размаха признака {col}')\n",
    "    ax[1].set_xlabel(col)\n",
    "    plt.show()"
   ]
  },
  {
   "cell_type": "markdown",
   "metadata": {},
   "source": [
    "#### Регион 3"
   ]
  },
  {
   "cell_type": "code",
   "execution_count": 69,
   "metadata": {},
   "outputs": [
    {
     "data": {
      "text/html": [
       "<div>\n",
       "<style scoped>\n",
       "    .dataframe tbody tr th:only-of-type {\n",
       "        vertical-align: middle;\n",
       "    }\n",
       "\n",
       "    .dataframe tbody tr th {\n",
       "        vertical-align: top;\n",
       "    }\n",
       "\n",
       "    .dataframe thead th {\n",
       "        text-align: right;\n",
       "    }\n",
       "</style>\n",
       "<table border=\"1\" class=\"dataframe\">\n",
       "  <thead>\n",
       "    <tr style=\"text-align: right;\">\n",
       "      <th></th>\n",
       "      <th>f0</th>\n",
       "      <th>f1</th>\n",
       "      <th>f2</th>\n",
       "      <th>product</th>\n",
       "    </tr>\n",
       "  </thead>\n",
       "  <tbody>\n",
       "    <tr>\n",
       "      <th>count</th>\n",
       "      <td>100000.000000</td>\n",
       "      <td>100000.000000</td>\n",
       "      <td>100000.000000</td>\n",
       "      <td>100000.000000</td>\n",
       "    </tr>\n",
       "    <tr>\n",
       "      <th>mean</th>\n",
       "      <td>0.002023</td>\n",
       "      <td>-0.002081</td>\n",
       "      <td>2.495128</td>\n",
       "      <td>95.000000</td>\n",
       "    </tr>\n",
       "    <tr>\n",
       "      <th>std</th>\n",
       "      <td>1.732045</td>\n",
       "      <td>1.730417</td>\n",
       "      <td>3.473445</td>\n",
       "      <td>44.749921</td>\n",
       "    </tr>\n",
       "    <tr>\n",
       "      <th>min</th>\n",
       "      <td>-8.760004</td>\n",
       "      <td>-7.084020</td>\n",
       "      <td>-11.970335</td>\n",
       "      <td>0.000000</td>\n",
       "    </tr>\n",
       "    <tr>\n",
       "      <th>25%</th>\n",
       "      <td>-1.162288</td>\n",
       "      <td>-1.174820</td>\n",
       "      <td>0.130359</td>\n",
       "      <td>59.450441</td>\n",
       "    </tr>\n",
       "    <tr>\n",
       "      <th>50%</th>\n",
       "      <td>0.009424</td>\n",
       "      <td>-0.009482</td>\n",
       "      <td>2.484236</td>\n",
       "      <td>94.925613</td>\n",
       "    </tr>\n",
       "    <tr>\n",
       "      <th>75%</th>\n",
       "      <td>1.158535</td>\n",
       "      <td>1.163678</td>\n",
       "      <td>4.858794</td>\n",
       "      <td>130.595027</td>\n",
       "    </tr>\n",
       "    <tr>\n",
       "      <th>max</th>\n",
       "      <td>7.238262</td>\n",
       "      <td>7.844801</td>\n",
       "      <td>16.739402</td>\n",
       "      <td>190.029838</td>\n",
       "    </tr>\n",
       "  </tbody>\n",
       "</table>\n",
       "</div>"
      ],
      "text/plain": [
       "                  f0             f1             f2        product\n",
       "count  100000.000000  100000.000000  100000.000000  100000.000000\n",
       "mean        0.002023      -0.002081       2.495128      95.000000\n",
       "std         1.732045       1.730417       3.473445      44.749921\n",
       "min        -8.760004      -7.084020     -11.970335       0.000000\n",
       "25%        -1.162288      -1.174820       0.130359      59.450441\n",
       "50%         0.009424      -0.009482       2.484236      94.925613\n",
       "75%         1.158535       1.163678       4.858794     130.595027\n",
       "max         7.238262       7.844801      16.739402     190.029838"
      ]
     },
     "execution_count": 69,
     "metadata": {},
     "output_type": "execute_result"
    }
   ],
   "source": [
    "region_3.describe()"
   ]
  },
  {
   "cell_type": "code",
   "execution_count": 70,
   "metadata": {},
   "outputs": [
    {
     "data": {
      "image/png": "[encoded data removed]",
      "text/plain": [
       "<Figure size 1152x576 with 2 Axes>"
      ]
     },
     "metadata": {
      "needs_background": "light"
     },
     "output_type": "display_data"
    },
    {
     "data": {
      "image/png": "[encoded data removed]",
      "text/plain": [
       "<Figure size 1152x576 with 2 Axes>"
      ]
     },
     "metadata": {
      "needs_background": "light"
     },
     "output_type": "display_data"
    },
    {
     "data": {
      "image/png": "[encoded data removed]",
      "text/plain": [
       "<Figure size 1152x576 with 2 Axes>"
      ]
     },
     "metadata": {
      "needs_background": "light"
     },
     "output_type": "display_data"
    },
    {
     "data": {
      "image/png": "[encoded data removed]",
      "text/plain": [
       "<Figure size 1152x576 with 2 Axes>"
      ]
     },
     "metadata": {
      "needs_background": "light"
     },
     "output_type": "display_data"
    }
   ],
   "source": [
    "for col in region_3.select_dtypes(exclude='object').columns:\n",
    "    fig, ax = plt.subplots(ncols=2, figsize=(16, 8))\n",
    "    ax[0].hist(data=region_3, x=col, bins=30)\n",
    "    ax[0].set_title(f'Гистограмма признака {col}')\n",
    "    ax[0].set_xlabel(col)\n",
    "    ax[0].set_ylabel('количество')\n",
    "    ax[1].boxplot(data=region_3, x=col, vert=False)\n",
    "    ax[1].set_title(f'Диаграмма размаха признака {col}')\n",
    "    ax[1].set_xlabel(col)\n",
    "    plt.show()"
   ]
  },
  {
   "cell_type": "markdown",
   "metadata": {},
   "source": [
    "### Корреляционный анализ"
   ]
  },
  {
   "cell_type": "markdown",
   "metadata": {},
   "source": [
    "#### Регион 1"
   ]
  },
  {
   "cell_type": "code",
   "execution_count": 71,
   "metadata": {},
   "outputs": [
    {
     "data": {
      "text/html": [
       "<div>\n",
       "<style scoped>\n",
       "    .dataframe tbody tr th:only-of-type {\n",
       "        vertical-align: middle;\n",
       "    }\n",
       "\n",
       "    .dataframe tbody tr th {\n",
       "        vertical-align: top;\n",
       "    }\n",
       "\n",
       "    .dataframe thead th {\n",
       "        text-align: right;\n",
       "    }\n",
       "</style>\n",
       "<table border=\"1\" class=\"dataframe\">\n",
       "  <thead>\n",
       "    <tr style=\"text-align: right;\">\n",
       "      <th></th>\n",
       "      <th>f0</th>\n",
       "      <th>f1</th>\n",
       "      <th>f2</th>\n",
       "      <th>product</th>\n",
       "    </tr>\n",
       "  </thead>\n",
       "  <tbody>\n",
       "    <tr>\n",
       "      <th>f0</th>\n",
       "      <td>1.000000</td>\n",
       "      <td>-0.440723</td>\n",
       "      <td>-0.003153</td>\n",
       "      <td>0.143536</td>\n",
       "    </tr>\n",
       "    <tr>\n",
       "      <th>f1</th>\n",
       "      <td>-0.440723</td>\n",
       "      <td>1.000000</td>\n",
       "      <td>0.001724</td>\n",
       "      <td>-0.192356</td>\n",
       "    </tr>\n",
       "    <tr>\n",
       "      <th>f2</th>\n",
       "      <td>-0.003153</td>\n",
       "      <td>0.001724</td>\n",
       "      <td>1.000000</td>\n",
       "      <td>0.483663</td>\n",
       "    </tr>\n",
       "    <tr>\n",
       "      <th>product</th>\n",
       "      <td>0.143536</td>\n",
       "      <td>-0.192356</td>\n",
       "      <td>0.483663</td>\n",
       "      <td>1.000000</td>\n",
       "    </tr>\n",
       "  </tbody>\n",
       "</table>\n",
       "</div>"
      ],
      "text/plain": [
       "               f0        f1        f2   product\n",
       "f0       1.000000 -0.440723 -0.003153  0.143536\n",
       "f1      -0.440723  1.000000  0.001724 -0.192356\n",
       "f2      -0.003153  0.001724  1.000000  0.483663\n",
       "product  0.143536 -0.192356  0.483663  1.000000"
      ]
     },
     "execution_count": 71,
     "metadata": {},
     "output_type": "execute_result"
    }
   ],
   "source": [
    "region_1.corr()"
   ]
  },
  {
   "cell_type": "markdown",
   "metadata": {},
   "source": [
    "#### Регион 2"
   ]
  },
  {
   "cell_type": "code",
   "execution_count": 72,
   "metadata": {},
   "outputs": [
    {
     "data": {
      "text/html": [
       "<div>\n",
       "<style scoped>\n",
       "    .dataframe tbody tr th:only-of-type {\n",
       "        vertical-align: middle;\n",
       "    }\n",
       "\n",
       "    .dataframe tbody tr th {\n",
       "        vertical-align: top;\n",
       "    }\n",
       "\n",
       "    .dataframe thead th {\n",
       "        text-align: right;\n",
       "    }\n",
       "</style>\n",
       "<table border=\"1\" class=\"dataframe\">\n",
       "  <thead>\n",
       "    <tr style=\"text-align: right;\">\n",
       "      <th></th>\n",
       "      <th>f0</th>\n",
       "      <th>f1</th>\n",
       "      <th>f2</th>\n",
       "      <th>product</th>\n",
       "    </tr>\n",
       "  </thead>\n",
       "  <tbody>\n",
       "    <tr>\n",
       "      <th>f0</th>\n",
       "      <td>1.000000</td>\n",
       "      <td>0.182287</td>\n",
       "      <td>-0.001777</td>\n",
       "      <td>-0.030491</td>\n",
       "    </tr>\n",
       "    <tr>\n",
       "      <th>f1</th>\n",
       "      <td>0.182287</td>\n",
       "      <td>1.000000</td>\n",
       "      <td>-0.002595</td>\n",
       "      <td>-0.010155</td>\n",
       "    </tr>\n",
       "    <tr>\n",
       "      <th>f2</th>\n",
       "      <td>-0.001777</td>\n",
       "      <td>-0.002595</td>\n",
       "      <td>1.000000</td>\n",
       "      <td>0.999397</td>\n",
       "    </tr>\n",
       "    <tr>\n",
       "      <th>product</th>\n",
       "      <td>-0.030491</td>\n",
       "      <td>-0.010155</td>\n",
       "      <td>0.999397</td>\n",
       "      <td>1.000000</td>\n",
       "    </tr>\n",
       "  </tbody>\n",
       "</table>\n",
       "</div>"
      ],
      "text/plain": [
       "               f0        f1        f2   product\n",
       "f0       1.000000  0.182287 -0.001777 -0.030491\n",
       "f1       0.182287  1.000000 -0.002595 -0.010155\n",
       "f2      -0.001777 -0.002595  1.000000  0.999397\n",
       "product -0.030491 -0.010155  0.999397  1.000000"
      ]
     },
     "execution_count": 72,
     "metadata": {},
     "output_type": "execute_result"
    }
   ],
   "source": [
    "region_2.corr()"
   ]
  },
  {
   "cell_type": "markdown",
   "metadata": {},
   "source": [
    "#### Регион 3"
   ]
  },
  {
   "cell_type": "code",
   "execution_count": 73,
   "metadata": {},
   "outputs": [
    {
     "data": {
      "text/html": [
       "<div>\n",
       "<style scoped>\n",
       "    .dataframe tbody tr th:only-of-type {\n",
       "        vertical-align: middle;\n",
       "    }\n",
       "\n",
       "    .dataframe tbody tr th {\n",
       "        vertical-align: top;\n",
       "    }\n",
       "\n",
       "    .dataframe thead th {\n",
       "        text-align: right;\n",
       "    }\n",
       "</style>\n",
       "<table border=\"1\" class=\"dataframe\">\n",
       "  <thead>\n",
       "    <tr style=\"text-align: right;\">\n",
       "      <th></th>\n",
       "      <th>f0</th>\n",
       "      <th>f1</th>\n",
       "      <th>f2</th>\n",
       "      <th>product</th>\n",
       "    </tr>\n",
       "  </thead>\n",
       "  <tbody>\n",
       "    <tr>\n",
       "      <th>f0</th>\n",
       "      <td>1.000000</td>\n",
       "      <td>0.000528</td>\n",
       "      <td>-0.000448</td>\n",
       "      <td>-0.001987</td>\n",
       "    </tr>\n",
       "    <tr>\n",
       "      <th>f1</th>\n",
       "      <td>0.000528</td>\n",
       "      <td>1.000000</td>\n",
       "      <td>0.000779</td>\n",
       "      <td>-0.001012</td>\n",
       "    </tr>\n",
       "    <tr>\n",
       "      <th>f2</th>\n",
       "      <td>-0.000448</td>\n",
       "      <td>0.000779</td>\n",
       "      <td>1.000000</td>\n",
       "      <td>0.445871</td>\n",
       "    </tr>\n",
       "    <tr>\n",
       "      <th>product</th>\n",
       "      <td>-0.001987</td>\n",
       "      <td>-0.001012</td>\n",
       "      <td>0.445871</td>\n",
       "      <td>1.000000</td>\n",
       "    </tr>\n",
       "  </tbody>\n",
       "</table>\n",
       "</div>"
      ],
      "text/plain": [
       "               f0        f1        f2   product\n",
       "f0       1.000000  0.000528 -0.000448 -0.001987\n",
       "f1       0.000528  1.000000  0.000779 -0.001012\n",
       "f2      -0.000448  0.000779  1.000000  0.445871\n",
       "product -0.001987 -0.001012  0.445871  1.000000"
      ]
     },
     "execution_count": 73,
     "metadata": {},
     "output_type": "execute_result"
    }
   ],
   "source": [
    "region_3.corr()"
   ]
  },
  {
   "cell_type": "markdown",
   "metadata": {},
   "source": [
    "### Вывод"
   ]
  },
  {
   "cell_type": "markdown",
   "metadata": {},
   "source": [
    "На данном этапе были загружены и изучены исходные датасеты. Проверены дубликаты, в каждом из регионов обнаружены строки с одинаковым id скважин, но разными признаками - их немного, поэтому решено оставить как есть. В *регионе 1* признаки f0, f1 распределены ненормально - имеют два пика, признак f2 имеет выбросы. В *регионе 2* признаки f0, f2 и целевой признак распределены ненормально, признак f1 имеет выбросы. В *регионе 3* все признаки распределены нормально, все входные признаки имееют выбросы. В регионе 2 обнаружена сильная корреляция признака f2 с целевым признаком. И распределения этих признаков вызывают сомнения. Возможно, следует не учитывать этот признак для МО."
   ]
  },
  {
   "cell_type": "markdown",
   "metadata": {},
   "source": [
    "## Обучение и проверка модели"
   ]
  },
  {
   "cell_type": "code",
   "execution_count": 74,
   "metadata": {},
   "outputs": [],
   "source": [
    "RANDOM_STATE = 42\n",
    "TEST_SIZE = 0.25"
   ]
  },
  {
   "cell_type": "markdown",
   "metadata": {},
   "source": [
    "### Регион 1"
   ]
  },
  {
   "cell_type": "code",
   "execution_count": 75,
   "metadata": {},
   "outputs": [],
   "source": [
    "#разбиваем данные на обучающую и валидационную выборки\n",
    "X1 = region_1.drop(['id', 'product'], axis=1)\n",
    "y1 = region_1['product']\n",
    "X1_train, X1_valid, y1_train, y1_valid = train_test_split(\n",
    "    X1,\n",
    "    y1,\n",
    "    test_size=TEST_SIZE,\n",
    "    random_state=RANDOM_STATE\n",
    ")"
   ]
  },
  {
   "cell_type": "code",
   "execution_count": 76,
   "metadata": {},
   "outputs": [],
   "source": [
    "#масштабируем входные признаки\n",
    "scaler1 = StandardScaler()\n",
    "X1_train_scaled = scaler1.fit_transform(X1_train)\n",
    "X1_valid_scaled = scaler1.transform(X1_valid)"
   ]
  },
  {
   "cell_type": "code",
   "execution_count": 77,
   "metadata": {},
   "outputs": [
    {
     "name": "stdout",
     "output_type": "stream",
     "text": [
      "Средний запас предсказанного сырья: 92.39879990657768\n",
      "RMSE модели: 37.75660035026169\n"
     ]
    }
   ],
   "source": [
    "#объявляем, обучаем модель\n",
    "model1 = LinearRegression()\n",
    "model1.fit(X1_train_scaled, y1_train)\n",
    "#делаем предсказания на валидационной выборке\n",
    "pred1 = model1.predict(X1_valid_scaled)\n",
    "print(f'Средний запас предсказанного сырья: {pred1.mean()}\\n\\\n",
    "RMSE модели: {mean_squared_error(y1_valid, pred1, squared=False)}')\n"
   ]
  },
  {
   "cell_type": "markdown",
   "metadata": {},
   "source": [
    "### Регион 2"
   ]
  },
  {
   "cell_type": "code",
   "execution_count": 78,
   "metadata": {},
   "outputs": [],
   "source": [
    "#разбиваем данные на обучающую и валидационную выборки\n",
    "X2 = region_2.drop(['id', 'product'], axis=1)\n",
    "y2 = region_2['product']\n",
    "X2_train, X2_valid, y2_train, y2_valid = train_test_split(\n",
    "    X2,\n",
    "    y2,\n",
    "    test_size=TEST_SIZE,\n",
    "    random_state=RANDOM_STATE\n",
    ")"
   ]
  },
  {
   "cell_type": "code",
   "execution_count": 79,
   "metadata": {},
   "outputs": [],
   "source": [
    "#масштабируем входные признаки\n",
    "scaler2 = StandardScaler()\n",
    "X2_train_scaled = scaler2.fit_transform(X2_train)\n",
    "X2_valid_scaled = scaler2.transform(X2_valid)"
   ]
  },
  {
   "cell_type": "code",
   "execution_count": 80,
   "metadata": {},
   "outputs": [
    {
     "name": "stdout",
     "output_type": "stream",
     "text": [
      "Средний запас предсказанного сырья: 68.7128780391376\n",
      "RMSE модели: 0.8902801001028846\n"
     ]
    }
   ],
   "source": [
    "#объявляем, обучаем модель\n",
    "model2 = LinearRegression()\n",
    "model2.fit(X2_train_scaled, y2_train)\n",
    "#делаем предсказания на валидационной выборке\n",
    "pred2 = model2.predict(X2_valid_scaled)\n",
    "print(f'Средний запас предсказанного сырья: {pred2.mean()}\\n\\\n",
    "RMSE модели: {mean_squared_error(y2_valid, pred2, squared=False)}')\n"
   ]
  },
  {
   "cell_type": "markdown",
   "metadata": {},
   "source": [
    "### Регион 3"
   ]
  },
  {
   "cell_type": "code",
   "execution_count": 81,
   "metadata": {},
   "outputs": [],
   "source": [
    "#разбиваем данные на обучающую и валидационную выборки\n",
    "X3 = region_3.drop(['id', 'product'], axis=1)\n",
    "y3 = region_3['product']\n",
    "X3_train, X3_valid, y3_train, y3_valid = train_test_split(\n",
    "    X3,\n",
    "    y3,\n",
    "    test_size=TEST_SIZE,\n",
    "    random_state=RANDOM_STATE\n",
    ")"
   ]
  },
  {
   "cell_type": "code",
   "execution_count": 82,
   "metadata": {},
   "outputs": [],
   "source": [
    "#масштабируем входные признаки\n",
    "scaler3 = StandardScaler()\n",
    "X3_train_scaled = scaler3.fit_transform(X3_train)\n",
    "X3_valid_scaled = scaler3.transform(X3_valid)"
   ]
  },
  {
   "cell_type": "code",
   "execution_count": 83,
   "metadata": {},
   "outputs": [
    {
     "name": "stdout",
     "output_type": "stream",
     "text": [
      "Средний запас предсказанного сырья: 94.77102387765939\n",
      "RMSE модели: 40.145872311342174\n"
     ]
    }
   ],
   "source": [
    "#объявляем, обучаем модель\n",
    "model3 = LinearRegression()\n",
    "model3.fit(X3_train_scaled, y3_train)\n",
    "#делаем предсказания на валидационной выборке\n",
    "pred3 = model3.predict(X3_valid_scaled)\n",
    "print(f'Средний запас предсказанного сырья: {pred3.mean()}\\n\\\n",
    "RMSE модели: {mean_squared_error(y3_valid, pred3, squared=False)}')\n"
   ]
  },
  {
   "cell_type": "markdown",
   "metadata": {},
   "source": [
    "### Вывод"
   ]
  },
  {
   "cell_type": "markdown",
   "metadata": {},
   "source": [
    "Наибольший средний запас предсказанного сырья в регионе 3 - 94.77, наименьшая среднеквадратичная ошибка в регионе 2 - ~34.96~ 0.89"
   ]
  },
  {
   "cell_type": "markdown",
   "metadata": {},
   "source": [
    "## Подготовка к расчёту прибыли"
   ]
  },
  {
   "cell_type": "code",
   "execution_count": 84,
   "metadata": {},
   "outputs": [],
   "source": [
    "N = 500 #точек для исследования\n",
    "BEST = 200 #лучшие точки из исследованных\n",
    "BUDGET = 10 * 10 ** 9 #выделенный бюджет\n",
    "PROFIT = 450000 #доход с единиы продукта\n",
    "LOSS = .025 #пороговое значение вероятности убытков"
   ]
  },
  {
   "cell_type": "code",
   "execution_count": 85,
   "metadata": {},
   "outputs": [
    {
     "name": "stdout",
     "output_type": "stream",
     "text": [
      "Необходимый объем сырья для безубыточной разработки скважины: 111.11111111111111\n"
     ]
    }
   ],
   "source": [
    "#рассчитываем объем сырья для безубыточной разработки\n",
    "volume = BUDGET / BEST / PROFIT\n",
    "print(f'Необходимый объем сырья для безубыточной разработки скважины: {volume}')"
   ]
  },
  {
   "cell_type": "markdown",
   "metadata": {},
   "source": [
    "**Вывод**  \n",
    "В каждом регионе среднее значение сырья предсказанного моделями меньше необходимого (111.1) для безубыточной разработки"
   ]
  },
  {
   "cell_type": "markdown",
   "metadata": {},
   "source": [
    "## Расчёт прибыли и рисков "
   ]
  },
  {
   "cell_type": "code",
   "execution_count": 86,
   "metadata": {},
   "outputs": [],
   "source": [
    "#создаем функцию для расчета прибыли по лучшим скважинам из выборки\n",
    "def income(data, target, prob, count):\n",
    "    data['target'] = target\n",
    "    data['prob'] = prob\n",
    "    data = data.sort_values(by='prob', ascending=False)[:count]\n",
    "    return round(data['target'].sum() * PROFIT - BUDGET, 1)"
   ]
  },
  {
   "cell_type": "code",
   "execution_count": 87,
   "metadata": {},
   "outputs": [],
   "source": [
    "#используем технику Bootstrap для нахождения распределения прибыли для регионов\n",
    "state = np.random.RandomState(12345)\n",
    "\n",
    "income1 = []\n",
    "for i in range(1000):\n",
    "    subsample = X1_valid.sample(N, replace=True, random_state=state)\n",
    "    income1.append(income(subsample, y1_valid, pd.Series(pred1, index = X1_valid.index), BEST))"
   ]
  },
  {
   "cell_type": "code",
   "execution_count": 88,
   "metadata": {},
   "outputs": [],
   "source": [
    "income2 = []\n",
    "for i in range(1000):\n",
    "    subsample = X2_valid.sample(N, replace=True, random_state=state)\n",
    "    income2.append(income(subsample, y2_valid, pd.Series(pred2, index = X2_valid.index), BEST))"
   ]
  },
  {
   "cell_type": "code",
   "execution_count": 89,
   "metadata": {},
   "outputs": [],
   "source": [
    "income3 = []\n",
    "for i in range(1000):\n",
    "    subsample = X3_valid.sample(N, replace=True, random_state=state)\n",
    "    income3.append(income(subsample, y3_valid, pd.Series(pred3, index = X3_valid.index), BEST))"
   ]
  },
  {
   "cell_type": "markdown",
   "metadata": {},
   "source": [
    "### Регион 1"
   ]
  },
  {
   "cell_type": "code",
   "execution_count": 90,
   "metadata": {},
   "outputs": [
    {
     "name": "stdout",
     "output_type": "stream",
     "text": [
      "Cредняя прибыль 1го региона: 406278783.4\n"
     ]
    }
   ],
   "source": [
    "print(f'Cредняя прибыль 1го региона: {round(pd.Series(income1).mean(), 1)}')"
   ]
  },
  {
   "cell_type": "code",
   "execution_count": 91,
   "metadata": {},
   "outputs": [
    {
     "name": "stdout",
     "output_type": "stream",
     "text": [
      "95%-й доверительный интервал 1го региона: (-117742136.5, 911737050.8)\n"
     ]
    }
   ],
   "source": [
    "print(f'95%-й доверительный интервал 1го региона: ({round(pd.Series(income1).quantile(LOSS), 1)}, {round(pd.Series(income1).quantile(1 - LOSS), 1)})')"
   ]
  },
  {
   "cell_type": "code",
   "execution_count": 92,
   "metadata": {
    "scrolled": true
   },
   "outputs": [
    {
     "name": "stdout",
     "output_type": "stream",
     "text": [
      "Вероятность убытков: 6.7 %\n"
     ]
    }
   ],
   "source": [
    "print(f'Вероятность убытков: {round((len([i for i in income1 if i < 0]) / len(income1)) * 100, 2)} %')"
   ]
  },
  {
   "cell_type": "markdown",
   "metadata": {},
   "source": [
    "### Регион 2"
   ]
  },
  {
   "cell_type": "code",
   "execution_count": 93,
   "metadata": {},
   "outputs": [
    {
     "name": "stdout",
     "output_type": "stream",
     "text": [
      "Cредняя прибыль 2го региона: 441504277.6\n"
     ]
    }
   ],
   "source": [
    "print(f'Cредняя прибыль 2го региона: {round(pd.Series(income2).mean(), 1)}')"
   ]
  },
  {
   "cell_type": "code",
   "execution_count": 94,
   "metadata": {},
   "outputs": [
    {
     "name": "stdout",
     "output_type": "stream",
     "text": [
      "95%-й доверительный интервал 2го региона: (35728489.3, 828006639.0)\n"
     ]
    }
   ],
   "source": [
    "print(f'95%-й доверительный интервал 2го региона: ({round(pd.Series(income2).quantile(LOSS), 1)}, {round(pd.Series(income2).quantile(1 - LOSS), 1)})')"
   ]
  },
  {
   "cell_type": "code",
   "execution_count": 95,
   "metadata": {
    "scrolled": true
   },
   "outputs": [
    {
     "name": "stdout",
     "output_type": "stream",
     "text": [
      "Вероятность убытков: 1.6 %\n"
     ]
    }
   ],
   "source": [
    "print(f'Вероятность убытков: {round((len([i for i in income2 if i < 0]) / len(income2)) * 100, 2)} %')"
   ]
  },
  {
   "cell_type": "markdown",
   "metadata": {},
   "source": [
    "### Регион 3"
   ]
  },
  {
   "cell_type": "code",
   "execution_count": 96,
   "metadata": {},
   "outputs": [
    {
     "name": "stdout",
     "output_type": "stream",
     "text": [
      "Cредняя прибыль 3го региона: 385213195.9\n"
     ]
    }
   ],
   "source": [
    "print(f'Cредняя прибыль 3го региона: {round(pd.Series(income3).mean(), 1)}')"
   ]
  },
  {
   "cell_type": "code",
   "execution_count": 97,
   "metadata": {},
   "outputs": [
    {
     "name": "stdout",
     "output_type": "stream",
     "text": [
      "95%-й доверительный интервал 3го региона: (-164785166.1, 888206234.2)\n"
     ]
    }
   ],
   "source": [
    "print(f'95%-й доверительный интервал 3го региона: ({round(pd.Series(income3).quantile(LOSS), 1)}, {round(pd.Series(income3).quantile(1 - LOSS), 1)})')"
   ]
  },
  {
   "cell_type": "code",
   "execution_count": 98,
   "metadata": {
    "scrolled": false
   },
   "outputs": [
    {
     "name": "stdout",
     "output_type": "stream",
     "text": [
      "Вероятность убытков: 7.8 %\n"
     ]
    }
   ],
   "source": [
    "print(f'Вероятность убытков: {round((len([i for i in income3 if i < 0]) / len(income3)) * 100, 2)} %')"
   ]
  },
  {
   "cell_type": "markdown",
   "metadata": {},
   "source": [
    "### Вывод"
   ]
  },
  {
   "cell_type": "markdown",
   "metadata": {},
   "source": [
    "По условию заказчика вероятность убытков должна быть меньше 2.5%, ~ни один регион не удовлетворяет этому условию. Если все же выбирать регион для разработки скважин, то наилучшим по средней прибыли оказался регион 1 с вероятностью убытков 6.7%.~ получается рекомендовать заказчику можно регион 2 с вероятностью убытков в 1.6%. Также средняя прибыль этого региона оказалась наибольшей."
   ]
  },
  {
   "cell_type": "markdown",
   "metadata": {},
   "source": [
    "## Общий вывод"
   ]
  },
  {
   "cell_type": "markdown",
   "metadata": {},
   "source": [
    "На подготовительном этапе были загружены и изучены исходные датасеты. Проверены дубликаты, в каждом из регионов обнаружены строки с одинаковым id скважин, но разными признаками - их немного, поэтому решено оставить как есть. В *регионе 1* признаки f0, f1 распределены ненормально - имеют два пика, признак f2 имеет выбросы. В *регионе 2* признаки f0, f2 и целевой признак распределены ненормально, признак f1 имеет выбросы. В *регионе 3* все признаки распределены нормально, все входные признаки имееют выбросы. В регионе 2 обнаружена сильная корреляция признака f2 с целевым признаком. И распределения этих признаков вызывают сомнения. Возможно, следует не учитывать этот признак для МО.  \n",
    "Далее была построена линейная модель для предсказания объема запасов сырья в скважинах. Наибольший средний запас предсказанного сырья в регионе 3 - 94.77, наименьшая среднеквадратичная ошибка в регионе 2 - 0.89.\n",
    "Был рассчитан достаточный объём сырья для безубыточной разработки новой скважины. В каждом регионе среднее значение сырья предсказанного моделями оказалось меньше необходимого (111.1) для безубыточной разработки.  \n",
    "По выбранным скважинам и предсказаниям модели была написана функция для рассчета прибыли для полученного объема сырья. При помощи техники Bootstrap определили распределение прибыли для каждого региона, среднюю прибыль, 95%-й доверительный интервал, вероятность убытков. По условию заказчика вероятность убытков должна быть меньше 2.5%, получается рекомендовать заказчику можно регион 2 с вероятностью убытков в 1.6%. Также средняя прибыль этого региона оказалась наибольшей"
   ]
  },
  {
   "cell_type": "markdown",
   "metadata": {},
   "source": [
    "## Чек-лист готовности проекта"
   ]
  },
  {
   "cell_type": "markdown",
   "metadata": {},
   "source": [
    "Поставьте 'x' в выполненных пунктах. Далее нажмите Shift+Enter."
   ]
  },
  {
   "cell_type": "markdown",
   "metadata": {},
   "source": [
    "- [x]  Jupyter Notebook открыт\n",
    "- [x]  Весь код выполняется без ошибок\n",
    "- [x]  Ячейки с кодом расположены в порядке исполнения\n",
    "- [x]  Выполнен шаг 1: данные подготовлены\n",
    "- [x]  Выполнен шаг 2: модели обучены и проверены\n",
    "    - [x]  Данные корректно разбиты на обучающую и валидационную выборки\n",
    "    - [x]  Модели обучены, предсказания сделаны\n",
    "    - [x]  Предсказания и правильные ответы на валидационной выборке сохранены\n",
    "    - [x]  На экране напечатаны результаты\n",
    "    - [x]  Сделаны выводы\n",
    "- [x]  Выполнен шаг 3: проведена подготовка к расчёту прибыли\n",
    "    - [x]  Для всех ключевых значений созданы константы Python\n",
    "    - [x]  Посчитано минимальное среднее количество продукта в месторождениях региона, достаточное для разработки\n",
    "    - [x]  По предыдущему пункту сделаны выводы\n",
    "    - [x]  Написана функция расчёта прибыли\n",
    "- [x]  Выполнен шаг 4: посчитаны риски и прибыль\n",
    "    - [x]  Проведена процедура *Bootstrap*\n",
    "    - [x]  Все параметры бутстрепа соответствуют условию\n",
    "    - [x]  Найдены все нужные величины\n",
    "    - [x]  Предложен регион для разработки месторождения\n",
    "    - [x]  Выбор региона обоснован"
   ]
  }
 ],
 "metadata": {
  "ExecuteTimeLog": [
   {
    "duration": 435,
    "start_time": "2024-10-04T12:32:58.020Z"
   },
   {
    "duration": 1828,
    "start_time": "2024-10-04T12:37:31.962Z"
   },
   {
    "duration": 23,
    "start_time": "2024-10-04T12:38:06.293Z"
   },
   {
    "duration": 28,
    "start_time": "2024-10-04T12:38:30.765Z"
   },
   {
    "duration": 22,
    "start_time": "2024-10-04T12:39:06.311Z"
   },
   {
    "duration": 22,
    "start_time": "2024-10-04T12:39:19.976Z"
   },
   {
    "duration": 54,
    "start_time": "2024-10-04T12:56:12.152Z"
   },
   {
    "duration": 51,
    "start_time": "2024-10-04T12:56:16.876Z"
   },
   {
    "duration": 38,
    "start_time": "2024-10-04T12:56:36.915Z"
   },
   {
    "duration": 12,
    "start_time": "2024-10-04T12:56:49.153Z"
   },
   {
    "duration": 29,
    "start_time": "2024-10-04T12:57:15.605Z"
   },
   {
    "duration": 38,
    "start_time": "2024-10-04T12:57:26.046Z"
   },
   {
    "duration": 18,
    "start_time": "2024-10-04T12:58:39.898Z"
   },
   {
    "duration": 19,
    "start_time": "2024-10-04T12:59:10.889Z"
   },
   {
    "duration": 19,
    "start_time": "2024-10-04T12:59:19.514Z"
   },
   {
    "duration": 23,
    "start_time": "2024-10-04T13:00:09.168Z"
   },
   {
    "duration": 10,
    "start_time": "2024-10-04T13:02:50.480Z"
   },
   {
    "duration": 10,
    "start_time": "2024-10-04T13:02:57.041Z"
   },
   {
    "duration": 24,
    "start_time": "2024-10-04T13:03:01.312Z"
   },
   {
    "duration": 32,
    "start_time": "2024-10-04T13:04:05.437Z"
   },
   {
    "duration": 50,
    "start_time": "2024-10-04T14:34:47.326Z"
   },
   {
    "duration": 69,
    "start_time": "2024-10-04T14:38:04.422Z"
   },
   {
    "duration": 12,
    "start_time": "2024-10-04T14:38:11.365Z"
   },
   {
    "duration": 7,
    "start_time": "2024-10-04T14:38:40.403Z"
   },
   {
    "duration": 425,
    "start_time": "2024-10-04T14:38:48.445Z"
   },
   {
    "duration": 235,
    "start_time": "2024-10-04T14:38:55.383Z"
   },
   {
    "duration": 1210,
    "start_time": "2024-10-04T14:39:14.920Z"
   },
   {
    "duration": 39,
    "start_time": "2024-10-04T14:41:17.743Z"
   },
   {
    "duration": 1232,
    "start_time": "2024-10-04T14:41:43.840Z"
   },
   {
    "duration": 38,
    "start_time": "2024-10-04T14:43:23.763Z"
   },
   {
    "duration": 1136,
    "start_time": "2024-10-04T14:44:16.358Z"
   },
   {
    "duration": 12,
    "start_time": "2024-10-04T14:48:18.357Z"
   },
   {
    "duration": 3676,
    "start_time": "2024-10-04T14:48:30.995Z"
   },
   {
    "duration": 567,
    "start_time": "2024-10-04T14:48:36.330Z"
   },
   {
    "duration": 0,
    "start_time": "2024-10-04T14:51:00.711Z"
   },
   {
    "duration": 3,
    "start_time": "2024-10-04T17:50:34.459Z"
   },
   {
    "duration": 17,
    "start_time": "2024-10-04T17:50:48.292Z"
   },
   {
    "duration": 14,
    "start_time": "2024-10-04T17:51:44.687Z"
   },
   {
    "duration": 15,
    "start_time": "2024-10-04T17:51:56.025Z"
   },
   {
    "duration": 232,
    "start_time": "2024-10-04T18:35:32.821Z"
   },
   {
    "duration": 18,
    "start_time": "2024-10-04T18:35:41.849Z"
   },
   {
    "duration": 11,
    "start_time": "2024-10-04T18:35:56.187Z"
   },
   {
    "duration": 12,
    "start_time": "2024-10-04T18:36:03.997Z"
   },
   {
    "duration": 19,
    "start_time": "2024-10-04T18:36:23.279Z"
   },
   {
    "duration": 12,
    "start_time": "2024-10-04T18:36:27.812Z"
   },
   {
    "duration": 14,
    "start_time": "2024-10-04T18:39:26.069Z"
   },
   {
    "duration": 10,
    "start_time": "2024-10-04T18:39:58.240Z"
   },
   {
    "duration": 12,
    "start_time": "2024-10-04T18:40:04.488Z"
   },
   {
    "duration": 10,
    "start_time": "2024-10-04T18:40:06.413Z"
   },
   {
    "duration": 14,
    "start_time": "2024-10-04T18:41:43.394Z"
   },
   {
    "duration": 9,
    "start_time": "2024-10-04T18:41:54.402Z"
   },
   {
    "duration": 67,
    "start_time": "2024-10-04T18:46:04.141Z"
   },
   {
    "duration": 65,
    "start_time": "2024-10-04T18:46:18.217Z"
   },
   {
    "duration": 29,
    "start_time": "2024-10-04T18:46:22.798Z"
   },
   {
    "duration": 9,
    "start_time": "2024-10-04T18:46:54.018Z"
   },
   {
    "duration": 3,
    "start_time": "2024-10-04T18:47:13.898Z"
   },
   {
    "duration": 45,
    "start_time": "2024-10-04T18:47:18.282Z"
   },
   {
    "duration": 11,
    "start_time": "2024-10-04T18:47:26.165Z"
   },
   {
    "duration": 60,
    "start_time": "2024-10-04T18:47:31.354Z"
   },
   {
    "duration": 51,
    "start_time": "2024-10-04T18:47:35.357Z"
   },
   {
    "duration": 66,
    "start_time": "2024-10-04T18:47:41.526Z"
   },
   {
    "duration": 13,
    "start_time": "2024-10-04T18:47:48.876Z"
   },
   {
    "duration": 13,
    "start_time": "2024-10-04T18:48:00.791Z"
   },
   {
    "duration": 11,
    "start_time": "2024-10-04T18:48:05.237Z"
   },
   {
    "duration": 11,
    "start_time": "2024-10-04T18:50:09.131Z"
   },
   {
    "duration": 27,
    "start_time": "2024-10-04T18:50:30.099Z"
   },
   {
    "duration": 66,
    "start_time": "2024-10-04T18:50:35.961Z"
   },
   {
    "duration": 11,
    "start_time": "2024-10-04T18:50:41.003Z"
   },
   {
    "duration": 2,
    "start_time": "2024-10-04T18:52:13.260Z"
   },
   {
    "duration": 12,
    "start_time": "2024-10-04T18:52:26.091Z"
   },
   {
    "duration": 12,
    "start_time": "2024-10-04T18:52:28.626Z"
   },
   {
    "duration": 14,
    "start_time": "2024-10-04T18:59:03.319Z"
   },
   {
    "duration": 12,
    "start_time": "2024-10-04T18:59:04.460Z"
   },
   {
    "duration": 14,
    "start_time": "2024-10-04T18:59:17.159Z"
   },
   {
    "duration": 15,
    "start_time": "2024-10-04T19:00:58.243Z"
   },
   {
    "duration": 12,
    "start_time": "2024-10-04T19:00:59.033Z"
   },
   {
    "duration": 16,
    "start_time": "2024-10-04T19:00:59.718Z"
   },
   {
    "duration": 3,
    "start_time": "2024-10-04T19:42:18.486Z"
   },
   {
    "duration": 4,
    "start_time": "2024-10-04T19:46:41.016Z"
   },
   {
    "duration": 4,
    "start_time": "2024-10-04T19:47:48.000Z"
   },
   {
    "duration": 3,
    "start_time": "2024-10-04T19:48:07.255Z"
   },
   {
    "duration": 10,
    "start_time": "2024-10-04T20:27:26.176Z"
   },
   {
    "duration": 12,
    "start_time": "2024-10-04T20:27:40.251Z"
   },
   {
    "duration": 9,
    "start_time": "2024-10-04T20:30:24.690Z"
   },
   {
    "duration": 13,
    "start_time": "2024-10-04T20:30:33.760Z"
   },
   {
    "duration": 16,
    "start_time": "2024-10-04T20:30:40.180Z"
   },
   {
    "duration": 18,
    "start_time": "2024-10-04T20:33:48.879Z"
   },
   {
    "duration": 23,
    "start_time": "2024-10-04T20:33:56.760Z"
   },
   {
    "duration": 25,
    "start_time": "2024-10-04T20:35:08.527Z"
   },
   {
    "duration": 22,
    "start_time": "2024-10-04T20:35:47.113Z"
   },
   {
    "duration": 10,
    "start_time": "2024-10-04T20:39:42.127Z"
   },
   {
    "duration": 8,
    "start_time": "2024-10-04T20:39:58.340Z"
   },
   {
    "duration": 4,
    "start_time": "2024-10-04T20:40:06.798Z"
   },
   {
    "duration": 8,
    "start_time": "2024-10-04T20:40:30.672Z"
   },
   {
    "duration": 5,
    "start_time": "2024-10-04T20:40:38.919Z"
   },
   {
    "duration": 10,
    "start_time": "2024-10-04T20:40:57.515Z"
   },
   {
    "duration": 3,
    "start_time": "2024-10-04T20:41:04.583Z"
   },
   {
    "duration": 3,
    "start_time": "2024-10-04T20:41:25.215Z"
   },
   {
    "duration": 23,
    "start_time": "2024-10-04T20:44:29.131Z"
   },
   {
    "duration": 4,
    "start_time": "2024-10-04T20:45:18.841Z"
   },
   {
    "duration": 25,
    "start_time": "2024-10-04T20:45:41.315Z"
   },
   {
    "duration": 20,
    "start_time": "2024-10-04T20:46:21.903Z"
   },
   {
    "duration": 8,
    "start_time": "2024-10-04T20:46:51.103Z"
   },
   {
    "duration": 8,
    "start_time": "2024-10-04T20:46:59.828Z"
   },
   {
    "duration": 1398,
    "start_time": "2024-10-04T20:48:13.619Z"
   },
   {
    "duration": 438,
    "start_time": "2024-10-04T20:48:15.019Z"
   },
   {
    "duration": 26,
    "start_time": "2024-10-04T20:48:15.459Z"
   },
   {
    "duration": 20,
    "start_time": "2024-10-04T20:48:15.487Z"
   },
   {
    "duration": 34,
    "start_time": "2024-10-04T20:48:15.509Z"
   },
   {
    "duration": 38,
    "start_time": "2024-10-04T20:48:15.544Z"
   },
   {
    "duration": 48,
    "start_time": "2024-10-04T20:48:15.584Z"
   },
   {
    "duration": 34,
    "start_time": "2024-10-04T20:48:15.633Z"
   },
   {
    "duration": 17,
    "start_time": "2024-10-04T20:48:15.668Z"
   },
   {
    "duration": 28,
    "start_time": "2024-10-04T20:48:15.687Z"
   },
   {
    "duration": 18,
    "start_time": "2024-10-04T20:48:15.726Z"
   },
   {
    "duration": 39,
    "start_time": "2024-10-04T20:48:15.746Z"
   },
   {
    "duration": 1166,
    "start_time": "2024-10-04T20:48:15.786Z"
   },
   {
    "duration": 36,
    "start_time": "2024-10-04T20:48:16.955Z"
   },
   {
    "duration": 1089,
    "start_time": "2024-10-04T20:48:16.992Z"
   },
   {
    "duration": 48,
    "start_time": "2024-10-04T20:48:18.083Z"
   },
   {
    "duration": 1170,
    "start_time": "2024-10-04T20:48:18.133Z"
   },
   {
    "duration": 23,
    "start_time": "2024-10-04T20:48:19.305Z"
   },
   {
    "duration": 48,
    "start_time": "2024-10-04T20:48:19.329Z"
   },
   {
    "duration": 14,
    "start_time": "2024-10-04T20:48:19.378Z"
   },
   {
    "duration": 3,
    "start_time": "2024-10-04T20:48:19.393Z"
   },
   {
    "duration": 63,
    "start_time": "2024-10-04T20:48:19.397Z"
   },
   {
    "duration": 12,
    "start_time": "2024-10-04T20:48:19.462Z"
   },
   {
    "duration": 53,
    "start_time": "2024-10-04T20:48:19.476Z"
   },
   {
    "duration": 101,
    "start_time": "2024-10-04T20:48:19.530Z"
   },
   {
    "duration": 11,
    "start_time": "2024-10-04T20:48:19.633Z"
   },
   {
    "duration": 13,
    "start_time": "2024-10-04T20:48:19.646Z"
   },
   {
    "duration": 165,
    "start_time": "2024-10-04T20:48:19.661Z"
   },
   {
    "duration": 12,
    "start_time": "2024-10-04T20:48:19.828Z"
   },
   {
    "duration": 13,
    "start_time": "2024-10-04T20:48:19.841Z"
   },
   {
    "duration": 71,
    "start_time": "2024-10-04T20:48:19.856Z"
   },
   {
    "duration": 97,
    "start_time": "2024-10-04T20:48:19.929Z"
   },
   {
    "duration": 5,
    "start_time": "2024-10-04T20:48:20.028Z"
   },
   {
    "duration": 8,
    "start_time": "2024-10-04T20:48:23.390Z"
   },
   {
    "duration": 9,
    "start_time": "2024-10-04T20:49:34.292Z"
   },
   {
    "duration": 9,
    "start_time": "2024-10-04T20:49:54.148Z"
   },
   {
    "duration": 9,
    "start_time": "2024-10-04T20:51:06.279Z"
   },
   {
    "duration": 106,
    "start_time": "2024-10-04T20:51:12.406Z"
   },
   {
    "duration": 8,
    "start_time": "2024-10-04T20:51:17.037Z"
   },
   {
    "duration": 10,
    "start_time": "2024-10-04T20:58:12.260Z"
   },
   {
    "duration": 3,
    "start_time": "2024-10-04T21:02:32.977Z"
   },
   {
    "duration": 13,
    "start_time": "2024-10-04T21:04:59.686Z"
   },
   {
    "duration": 1945,
    "start_time": "2024-10-04T21:05:26.701Z"
   },
   {
    "duration": 1962,
    "start_time": "2024-10-04T21:05:49.854Z"
   },
   {
    "duration": 1954,
    "start_time": "2024-10-04T21:05:56.345Z"
   },
   {
    "duration": 1934,
    "start_time": "2024-10-04T21:07:06.061Z"
   },
   {
    "duration": 1937,
    "start_time": "2024-10-04T21:07:18.078Z"
   },
   {
    "duration": 3,
    "start_time": "2024-10-04T21:10:26.871Z"
   },
   {
    "duration": 1991,
    "start_time": "2024-10-04T21:10:29.313Z"
   },
   {
    "duration": 1899,
    "start_time": "2024-10-04T21:15:41.119Z"
   },
   {
    "duration": 1900,
    "start_time": "2024-10-04T21:15:45.579Z"
   },
   {
    "duration": 1973,
    "start_time": "2024-10-04T21:15:58.716Z"
   },
   {
    "duration": 5,
    "start_time": "2024-10-04T21:17:30.287Z"
   },
   {
    "duration": 10,
    "start_time": "2024-10-04T21:17:50.437Z"
   },
   {
    "duration": 5,
    "start_time": "2024-10-04T21:18:12.052Z"
   },
   {
    "duration": 1948,
    "start_time": "2024-10-04T21:18:56.944Z"
   },
   {
    "duration": 1921,
    "start_time": "2024-10-04T21:19:24.677Z"
   },
   {
    "duration": 1914,
    "start_time": "2024-10-04T21:19:50.961Z"
   },
   {
    "duration": 9,
    "start_time": "2024-10-04T21:29:29.502Z"
   },
   {
    "duration": 6,
    "start_time": "2024-10-04T21:31:33.786Z"
   },
   {
    "duration": 5,
    "start_time": "2024-10-04T21:32:00.685Z"
   },
   {
    "duration": 4,
    "start_time": "2024-10-04T21:33:37.760Z"
   },
   {
    "duration": 4,
    "start_time": "2024-10-04T21:33:55.736Z"
   },
   {
    "duration": 5,
    "start_time": "2024-10-04T21:34:03.512Z"
   },
   {
    "duration": 8,
    "start_time": "2024-10-04T21:38:21.232Z"
   },
   {
    "duration": 68,
    "start_time": "2024-10-04T21:47:53.315Z"
   },
   {
    "duration": 4,
    "start_time": "2024-10-04T21:48:03.364Z"
   },
   {
    "duration": 4,
    "start_time": "2024-10-04T21:50:37.670Z"
   },
   {
    "duration": 4,
    "start_time": "2024-10-04T21:51:02.959Z"
   },
   {
    "duration": 4,
    "start_time": "2024-10-04T21:51:13.673Z"
   },
   {
    "duration": 4,
    "start_time": "2024-10-04T21:51:17.563Z"
   },
   {
    "duration": 4,
    "start_time": "2024-10-04T21:52:41.918Z"
   },
   {
    "duration": 5,
    "start_time": "2024-10-04T21:52:57.906Z"
   },
   {
    "duration": 9,
    "start_time": "2024-10-04T21:53:03.770Z"
   },
   {
    "duration": 1941,
    "start_time": "2024-10-04T21:53:39.541Z"
   },
   {
    "duration": 1940,
    "start_time": "2024-10-04T21:53:43.880Z"
   },
   {
    "duration": 1954,
    "start_time": "2024-10-04T21:53:47.649Z"
   },
   {
    "duration": 4,
    "start_time": "2024-10-04T21:53:54.370Z"
   },
   {
    "duration": 6,
    "start_time": "2024-10-04T21:53:56.533Z"
   },
   {
    "duration": 4,
    "start_time": "2024-10-04T21:53:58.566Z"
   },
   {
    "duration": 4,
    "start_time": "2024-10-04T21:54:02.094Z"
   },
   {
    "duration": 6,
    "start_time": "2024-10-04T21:54:04.509Z"
   },
   {
    "duration": 4,
    "start_time": "2024-10-04T21:54:07.792Z"
   },
   {
    "duration": 5,
    "start_time": "2024-10-04T21:55:02.207Z"
   },
   {
    "duration": 6,
    "start_time": "2024-10-04T21:55:04.067Z"
   },
   {
    "duration": 3,
    "start_time": "2024-10-04T21:55:06.036Z"
   },
   {
    "duration": 75,
    "start_time": "2024-10-04T22:05:09.564Z"
   },
   {
    "duration": 6488,
    "start_time": "2024-10-05T16:30:33.076Z"
   },
   {
    "duration": 986,
    "start_time": "2024-10-05T16:30:39.566Z"
   },
   {
    "duration": 26,
    "start_time": "2024-10-05T16:30:40.553Z"
   },
   {
    "duration": 20,
    "start_time": "2024-10-05T16:30:40.580Z"
   },
   {
    "duration": 19,
    "start_time": "2024-10-05T16:30:40.601Z"
   },
   {
    "duration": 54,
    "start_time": "2024-10-05T16:30:40.621Z"
   },
   {
    "duration": 27,
    "start_time": "2024-10-05T16:30:40.677Z"
   },
   {
    "duration": 43,
    "start_time": "2024-10-05T16:30:40.705Z"
   },
   {
    "duration": 21,
    "start_time": "2024-10-05T16:30:40.765Z"
   },
   {
    "duration": 38,
    "start_time": "2024-10-05T16:30:40.788Z"
   },
   {
    "duration": 18,
    "start_time": "2024-10-05T16:30:40.827Z"
   },
   {
    "duration": 40,
    "start_time": "2024-10-05T16:30:40.846Z"
   },
   {
    "duration": 1193,
    "start_time": "2024-10-05T16:30:40.887Z"
   },
   {
    "duration": 36,
    "start_time": "2024-10-05T16:30:42.082Z"
   },
   {
    "duration": 1092,
    "start_time": "2024-10-05T16:30:42.120Z"
   },
   {
    "duration": 34,
    "start_time": "2024-10-05T16:30:43.214Z"
   },
   {
    "duration": 1141,
    "start_time": "2024-10-05T16:30:43.250Z"
   },
   {
    "duration": 16,
    "start_time": "2024-10-05T16:30:44.393Z"
   },
   {
    "duration": 15,
    "start_time": "2024-10-05T16:30:44.411Z"
   },
   {
    "duration": 41,
    "start_time": "2024-10-05T16:30:44.427Z"
   },
   {
    "duration": 3,
    "start_time": "2024-10-05T16:30:44.470Z"
   },
   {
    "duration": 12,
    "start_time": "2024-10-05T16:30:44.475Z"
   },
   {
    "duration": 19,
    "start_time": "2024-10-05T16:30:44.488Z"
   },
   {
    "duration": 57,
    "start_time": "2024-10-05T16:30:44.508Z"
   },
   {
    "duration": 100,
    "start_time": "2024-10-05T16:30:44.573Z"
   },
   {
    "duration": 12,
    "start_time": "2024-10-05T16:30:44.674Z"
   },
   {
    "duration": 15,
    "start_time": "2024-10-05T16:30:44.687Z"
   },
   {
    "duration": 166,
    "start_time": "2024-10-05T16:30:44.704Z"
   },
   {
    "duration": 12,
    "start_time": "2024-10-05T16:30:44.871Z"
   },
   {
    "duration": 13,
    "start_time": "2024-10-05T16:30:44.884Z"
   },
   {
    "duration": 10,
    "start_time": "2024-10-05T16:30:57.171Z"
   },
   {
    "duration": 3,
    "start_time": "2024-10-05T16:32:03.944Z"
   },
   {
    "duration": 16,
    "start_time": "2024-10-05T16:32:04.271Z"
   },
   {
    "duration": 2,
    "start_time": "2024-10-05T16:32:18.439Z"
   },
   {
    "duration": 14,
    "start_time": "2024-10-05T16:32:18.649Z"
   },
   {
    "duration": 10,
    "start_time": "2024-10-05T16:32:22.341Z"
   },
   {
    "duration": 11,
    "start_time": "2024-10-05T16:32:22.629Z"
   },
   {
    "duration": 19,
    "start_time": "2024-10-05T16:32:35.986Z"
   },
   {
    "duration": 12,
    "start_time": "2024-10-05T16:32:38.776Z"
   },
   {
    "duration": 404,
    "start_time": "2024-10-05T16:33:06.431Z"
   },
   {
    "duration": 23,
    "start_time": "2024-10-05T16:33:06.983Z"
   },
   {
    "duration": 20,
    "start_time": "2024-10-05T16:33:07.277Z"
   },
   {
    "duration": 21,
    "start_time": "2024-10-05T16:33:07.673Z"
   },
   {
    "duration": 36,
    "start_time": "2024-10-05T16:33:09.541Z"
   },
   {
    "duration": 29,
    "start_time": "2024-10-05T16:33:09.854Z"
   },
   {
    "duration": 34,
    "start_time": "2024-10-05T16:33:10.089Z"
   },
   {
    "duration": 19,
    "start_time": "2024-10-05T16:33:10.287Z"
   },
   {
    "duration": 23,
    "start_time": "2024-10-05T16:33:10.467Z"
   },
   {
    "duration": 18,
    "start_time": "2024-10-05T16:33:10.642Z"
   },
   {
    "duration": 37,
    "start_time": "2024-10-05T16:33:11.428Z"
   },
   {
    "duration": 1255,
    "start_time": "2024-10-05T16:33:11.797Z"
   },
   {
    "duration": 42,
    "start_time": "2024-10-05T16:33:13.054Z"
   },
   {
    "duration": 1159,
    "start_time": "2024-10-05T16:33:13.098Z"
   },
   {
    "duration": 35,
    "start_time": "2024-10-05T16:33:14.259Z"
   },
   {
    "duration": 1063,
    "start_time": "2024-10-05T16:33:14.296Z"
   },
   {
    "duration": 15,
    "start_time": "2024-10-05T16:33:16.168Z"
   },
   {
    "duration": 14,
    "start_time": "2024-10-05T16:33:18.924Z"
   },
   {
    "duration": 13,
    "start_time": "2024-10-05T16:33:19.446Z"
   },
   {
    "duration": 1565,
    "start_time": "2024-10-05T18:23:06.039Z"
   },
   {
    "duration": 961,
    "start_time": "2024-10-05T18:23:07.607Z"
   },
   {
    "duration": 26,
    "start_time": "2024-10-05T18:23:08.570Z"
   },
   {
    "duration": 20,
    "start_time": "2024-10-05T18:23:08.598Z"
   },
   {
    "duration": 21,
    "start_time": "2024-10-05T18:23:08.620Z"
   },
   {
    "duration": 54,
    "start_time": "2024-10-05T18:23:08.642Z"
   },
   {
    "duration": 26,
    "start_time": "2024-10-05T18:23:08.697Z"
   },
   {
    "duration": 55,
    "start_time": "2024-10-05T18:23:08.725Z"
   },
   {
    "duration": 16,
    "start_time": "2024-10-05T18:23:08.782Z"
   },
   {
    "duration": 17,
    "start_time": "2024-10-05T18:23:08.800Z"
   },
   {
    "duration": 19,
    "start_time": "2024-10-05T18:23:08.818Z"
   },
   {
    "duration": 39,
    "start_time": "2024-10-05T18:23:08.864Z"
   },
   {
    "duration": 1145,
    "start_time": "2024-10-05T18:23:08.904Z"
   },
   {
    "duration": 41,
    "start_time": "2024-10-05T18:23:10.051Z"
   },
   {
    "duration": 1131,
    "start_time": "2024-10-05T18:23:10.094Z"
   },
   {
    "duration": 41,
    "start_time": "2024-10-05T18:23:11.226Z"
   },
   {
    "duration": 1281,
    "start_time": "2024-10-05T18:23:11.269Z"
   },
   {
    "duration": 20,
    "start_time": "2024-10-05T18:23:12.553Z"
   },
   {
    "duration": 14,
    "start_time": "2024-10-05T18:23:12.575Z"
   },
   {
    "duration": 14,
    "start_time": "2024-10-05T18:23:12.591Z"
   },
   {
    "duration": 2,
    "start_time": "2024-10-05T18:23:12.606Z"
   },
   {
    "duration": 11,
    "start_time": "2024-10-05T18:23:12.610Z"
   },
   {
    "duration": 47,
    "start_time": "2024-10-05T18:23:12.622Z"
   },
   {
    "duration": 95,
    "start_time": "2024-10-05T18:23:12.671Z"
   },
   {
    "duration": 105,
    "start_time": "2024-10-05T18:23:12.768Z"
   },
   {
    "duration": 12,
    "start_time": "2024-10-05T18:23:12.875Z"
   },
   {
    "duration": 14,
    "start_time": "2024-10-05T18:23:17.507Z"
   },
   {
    "duration": 86,
    "start_time": "2024-10-05T18:27:30.782Z"
   },
   {
    "duration": 4,
    "start_time": "2024-10-05T18:28:16.272Z"
   },
   {
    "duration": 3,
    "start_time": "2024-10-05T18:29:52.166Z"
   },
   {
    "duration": 3,
    "start_time": "2024-10-05T18:30:26.494Z"
   },
   {
    "duration": 3,
    "start_time": "2024-10-05T18:31:03.209Z"
   },
   {
    "duration": 3,
    "start_time": "2024-10-05T18:31:05.106Z"
   },
   {
    "duration": 3,
    "start_time": "2024-10-05T18:31:07.444Z"
   },
   {
    "duration": 116,
    "start_time": "2024-10-05T18:31:09.593Z"
   },
   {
    "duration": 1943,
    "start_time": "2024-10-05T18:31:17.555Z"
   },
   {
    "duration": 1937,
    "start_time": "2024-10-05T18:31:20.708Z"
   },
   {
    "duration": 10,
    "start_time": "2024-10-05T18:31:24.032Z"
   },
   {
    "duration": 17,
    "start_time": "2024-10-05T18:31:49.836Z"
   },
   {
    "duration": 12,
    "start_time": "2024-10-05T18:31:51.543Z"
   },
   {
    "duration": 12,
    "start_time": "2024-10-05T18:32:23.184Z"
   },
   {
    "duration": 13,
    "start_time": "2024-10-05T18:32:27.389Z"
   },
   {
    "duration": 2096,
    "start_time": "2024-10-05T18:33:21.572Z"
   },
   {
    "duration": 4,
    "start_time": "2024-10-05T18:33:26.986Z"
   },
   {
    "duration": 9,
    "start_time": "2024-10-05T18:33:29.215Z"
   },
   {
    "duration": 8,
    "start_time": "2024-10-05T18:33:42.033Z"
   },
   {
    "duration": 3,
    "start_time": "2024-10-05T18:33:45.905Z"
   },
   {
    "duration": 4,
    "start_time": "2024-10-05T18:33:49.954Z"
   },
   {
    "duration": 7,
    "start_time": "2024-10-05T18:34:01.786Z"
   },
   {
    "duration": 4,
    "start_time": "2024-10-05T18:34:07.324Z"
   },
   {
    "duration": 4,
    "start_time": "2024-10-05T18:34:14.634Z"
   },
   {
    "duration": 6,
    "start_time": "2024-10-05T18:34:24.692Z"
   },
   {
    "duration": 4,
    "start_time": "2024-10-05T18:34:26.881Z"
   },
   {
    "duration": 4,
    "start_time": "2024-10-05T18:41:58.496Z"
   },
   {
    "duration": 441,
    "start_time": "2024-10-05T18:41:58.502Z"
   },
   {
    "duration": 27,
    "start_time": "2024-10-05T18:41:58.945Z"
   },
   {
    "duration": 18,
    "start_time": "2024-10-05T18:41:58.973Z"
   },
   {
    "duration": 20,
    "start_time": "2024-10-05T18:41:58.993Z"
   },
   {
    "duration": 52,
    "start_time": "2024-10-05T18:41:59.014Z"
   },
   {
    "duration": 23,
    "start_time": "2024-10-05T18:41:59.067Z"
   },
   {
    "duration": 27,
    "start_time": "2024-10-05T18:41:59.092Z"
   },
   {
    "duration": 16,
    "start_time": "2024-10-05T18:41:59.120Z"
   },
   {
    "duration": 42,
    "start_time": "2024-10-05T18:41:59.137Z"
   },
   {
    "duration": 16,
    "start_time": "2024-10-05T18:41:59.181Z"
   },
   {
    "duration": 35,
    "start_time": "2024-10-05T18:41:59.199Z"
   },
   {
    "duration": 1170,
    "start_time": "2024-10-05T18:41:59.236Z"
   },
   {
    "duration": 33,
    "start_time": "2024-10-05T18:42:00.409Z"
   },
   {
    "duration": 1103,
    "start_time": "2024-10-05T18:42:00.444Z"
   },
   {
    "duration": 46,
    "start_time": "2024-10-05T18:42:01.548Z"
   },
   {
    "duration": 1211,
    "start_time": "2024-10-05T18:42:01.596Z"
   },
   {
    "duration": 14,
    "start_time": "2024-10-05T18:42:02.809Z"
   },
   {
    "duration": 14,
    "start_time": "2024-10-05T18:42:02.824Z"
   },
   {
    "duration": 36,
    "start_time": "2024-10-05T18:42:02.839Z"
   },
   {
    "duration": 3,
    "start_time": "2024-10-05T18:42:02.876Z"
   },
   {
    "duration": 14,
    "start_time": "2024-10-05T18:42:02.880Z"
   },
   {
    "duration": 10,
    "start_time": "2024-10-05T18:42:02.896Z"
   },
   {
    "duration": 66,
    "start_time": "2024-10-05T18:42:02.907Z"
   },
   {
    "duration": 100,
    "start_time": "2024-10-05T18:42:02.975Z"
   },
   {
    "duration": 13,
    "start_time": "2024-10-05T18:42:03.077Z"
   },
   {
    "duration": 74,
    "start_time": "2024-10-05T18:42:03.092Z"
   },
   {
    "duration": 106,
    "start_time": "2024-10-05T18:42:03.168Z"
   },
   {
    "duration": 11,
    "start_time": "2024-10-05T18:42:03.276Z"
   },
   {
    "duration": 28,
    "start_time": "2024-10-05T18:42:03.288Z"
   },
   {
    "duration": 49,
    "start_time": "2024-10-05T18:42:03.318Z"
   },
   {
    "duration": 6,
    "start_time": "2024-10-05T18:42:03.369Z"
   },
   {
    "duration": 4,
    "start_time": "2024-10-05T18:42:03.466Z"
   },
   {
    "duration": 1971,
    "start_time": "2024-10-05T18:42:03.472Z"
   },
   {
    "duration": 1976,
    "start_time": "2024-10-05T18:42:05.445Z"
   },
   {
    "duration": 1879,
    "start_time": "2024-10-05T18:42:07.423Z"
   },
   {
    "duration": 4,
    "start_time": "2024-10-05T18:42:09.304Z"
   },
   {
    "duration": 7,
    "start_time": "2024-10-05T18:42:09.309Z"
   },
   {
    "duration": 3,
    "start_time": "2024-10-05T18:42:09.318Z"
   },
   {
    "duration": 3,
    "start_time": "2024-10-05T18:42:09.323Z"
   },
   {
    "duration": 6,
    "start_time": "2024-10-05T18:42:09.330Z"
   },
   {
    "duration": 4,
    "start_time": "2024-10-05T18:42:09.365Z"
   },
   {
    "duration": 5,
    "start_time": "2024-10-05T18:42:09.370Z"
   },
   {
    "duration": 7,
    "start_time": "2024-10-05T18:42:09.377Z"
   },
   {
    "duration": 4,
    "start_time": "2024-10-05T18:42:09.385Z"
   }
  ],
  "kernelspec": {
   "display_name": "Python 3 (ipykernel)",
   "language": "python",
   "name": "python3"
  },
  "language_info": {
   "codemirror_mode": {
    "name": "ipython",
    "version": 3
   },
   "file_extension": ".py",
   "mimetype": "text/x-python",
   "name": "python",
   "nbconvert_exporter": "python",
   "pygments_lexer": "ipython3",
   "version": "3.9.5"
  },
  "toc": {
   "base_numbering": 1,
   "nav_menu": {},
   "number_sections": true,
   "sideBar": true,
   "skip_h1_title": true,
   "title_cell": "Table of Contents",
   "title_sidebar": "Contents",
   "toc_cell": false,
   "toc_position": {
    "height": "calc(100% - 180px)",
    "left": "10px",
    "top": "150px",
    "width": "349.091px"
   },
   "toc_section_display": true,
   "toc_window_display": false
  }
 },
 "nbformat": 4,
 "nbformat_minor": 2
}
