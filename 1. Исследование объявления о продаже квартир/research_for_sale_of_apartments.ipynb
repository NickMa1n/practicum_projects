{
 "cells": [
  {
   "cell_type": "markdown",
   "metadata": {
    "id": "-VFbjcb3Awb7"
   },
   "source": [
    "# Исследование объявлений о продаже квартир\n",
    "\n",
    "В вашем распоряжении данные сервиса Яндекс Недвижимость — архив объявлений о продаже квартир в Санкт-Петербурге и соседних населённых пунктах за несколько лет. Вам нужно научиться определять рыночную стоимость объектов недвижимости. Для этого проведите исследовательский анализ данных и установите параметры, влияющие на цену объектов. Это позволит построить автоматизированную систему: она отследит аномалии и мошенническую деятельность.\n",
    "\n",
    "По каждой квартире на продажу доступны два вида данных. Первые вписаны пользователем, вторые — получены автоматически на основе картографических данных. Например, расстояние до центра, аэропорта и других объектов — эти данные автоматически получены из геосервисов. Количество парков и водоёмов также заполняется без участия пользователя."
   ]
  },
  {
   "cell_type": "markdown",
   "metadata": {
    "id": "aeFLH07FAwb9"
   },
   "source": [
    "### Откройте файл с данными и изучите общую информацию"
   ]
  },
  {
   "cell_type": "code",
   "execution_count": 2,
   "metadata": {
    "id": "7MZxY65pAwb9"
   },
   "outputs": [],
   "source": [
    "import pandas as pd\n",
    "import numpy as np\n",
    "import matplotlib.pyplot as plt"
   ]
  },
  {
   "cell_type": "code",
   "execution_count": 3,
   "metadata": {
    "id": "7MZxY65pAwb9"
   },
   "outputs": [
    {
     "data": {
      "text/html": [
       "<div>\n",
       "<style scoped>\n",
       "    .dataframe tbody tr th:only-of-type {\n",
       "        vertical-align: middle;\n",
       "    }\n",
       "\n",
       "    .dataframe tbody tr th {\n",
       "        vertical-align: top;\n",
       "    }\n",
       "\n",
       "    .dataframe thead th {\n",
       "        text-align: right;\n",
       "    }\n",
       "</style>\n",
       "<table border=\"1\" class=\"dataframe\">\n",
       "  <thead>\n",
       "    <tr style=\"text-align: right;\">\n",
       "      <th></th>\n",
       "      <th>total_images</th>\n",
       "      <th>last_price</th>\n",
       "      <th>total_area</th>\n",
       "      <th>first_day_exposition</th>\n",
       "      <th>rooms</th>\n",
       "      <th>ceiling_height</th>\n",
       "      <th>floors_total</th>\n",
       "      <th>living_area</th>\n",
       "      <th>floor</th>\n",
       "      <th>is_apartment</th>\n",
       "      <th>...</th>\n",
       "      <th>kitchen_area</th>\n",
       "      <th>balcony</th>\n",
       "      <th>locality_name</th>\n",
       "      <th>airports_nearest</th>\n",
       "      <th>cityCenters_nearest</th>\n",
       "      <th>parks_around3000</th>\n",
       "      <th>parks_nearest</th>\n",
       "      <th>ponds_around3000</th>\n",
       "      <th>ponds_nearest</th>\n",
       "      <th>days_exposition</th>\n",
       "    </tr>\n",
       "  </thead>\n",
       "  <tbody>\n",
       "    <tr>\n",
       "      <th>0</th>\n",
       "      <td>20</td>\n",
       "      <td>13000000.0</td>\n",
       "      <td>108.0</td>\n",
       "      <td>2019-03-07T00:00:00</td>\n",
       "      <td>3</td>\n",
       "      <td>2.70</td>\n",
       "      <td>16.0</td>\n",
       "      <td>51.0</td>\n",
       "      <td>8</td>\n",
       "      <td>NaN</td>\n",
       "      <td>...</td>\n",
       "      <td>25.0</td>\n",
       "      <td>NaN</td>\n",
       "      <td>Санкт-Петербург</td>\n",
       "      <td>18863.0</td>\n",
       "      <td>16028.0</td>\n",
       "      <td>1.0</td>\n",
       "      <td>482.0</td>\n",
       "      <td>2.0</td>\n",
       "      <td>755.0</td>\n",
       "      <td>NaN</td>\n",
       "    </tr>\n",
       "    <tr>\n",
       "      <th>1</th>\n",
       "      <td>7</td>\n",
       "      <td>3350000.0</td>\n",
       "      <td>40.4</td>\n",
       "      <td>2018-12-04T00:00:00</td>\n",
       "      <td>1</td>\n",
       "      <td>NaN</td>\n",
       "      <td>11.0</td>\n",
       "      <td>18.6</td>\n",
       "      <td>1</td>\n",
       "      <td>NaN</td>\n",
       "      <td>...</td>\n",
       "      <td>11.0</td>\n",
       "      <td>2.0</td>\n",
       "      <td>посёлок Шушары</td>\n",
       "      <td>12817.0</td>\n",
       "      <td>18603.0</td>\n",
       "      <td>0.0</td>\n",
       "      <td>NaN</td>\n",
       "      <td>0.0</td>\n",
       "      <td>NaN</td>\n",
       "      <td>81.0</td>\n",
       "    </tr>\n",
       "    <tr>\n",
       "      <th>2</th>\n",
       "      <td>10</td>\n",
       "      <td>5196000.0</td>\n",
       "      <td>56.0</td>\n",
       "      <td>2015-08-20T00:00:00</td>\n",
       "      <td>2</td>\n",
       "      <td>NaN</td>\n",
       "      <td>5.0</td>\n",
       "      <td>34.3</td>\n",
       "      <td>4</td>\n",
       "      <td>NaN</td>\n",
       "      <td>...</td>\n",
       "      <td>8.3</td>\n",
       "      <td>0.0</td>\n",
       "      <td>Санкт-Петербург</td>\n",
       "      <td>21741.0</td>\n",
       "      <td>13933.0</td>\n",
       "      <td>1.0</td>\n",
       "      <td>90.0</td>\n",
       "      <td>2.0</td>\n",
       "      <td>574.0</td>\n",
       "      <td>558.0</td>\n",
       "    </tr>\n",
       "    <tr>\n",
       "      <th>3</th>\n",
       "      <td>0</td>\n",
       "      <td>64900000.0</td>\n",
       "      <td>159.0</td>\n",
       "      <td>2015-07-24T00:00:00</td>\n",
       "      <td>3</td>\n",
       "      <td>NaN</td>\n",
       "      <td>14.0</td>\n",
       "      <td>NaN</td>\n",
       "      <td>9</td>\n",
       "      <td>NaN</td>\n",
       "      <td>...</td>\n",
       "      <td>NaN</td>\n",
       "      <td>0.0</td>\n",
       "      <td>Санкт-Петербург</td>\n",
       "      <td>28098.0</td>\n",
       "      <td>6800.0</td>\n",
       "      <td>2.0</td>\n",
       "      <td>84.0</td>\n",
       "      <td>3.0</td>\n",
       "      <td>234.0</td>\n",
       "      <td>424.0</td>\n",
       "    </tr>\n",
       "    <tr>\n",
       "      <th>4</th>\n",
       "      <td>2</td>\n",
       "      <td>10000000.0</td>\n",
       "      <td>100.0</td>\n",
       "      <td>2018-06-19T00:00:00</td>\n",
       "      <td>2</td>\n",
       "      <td>3.03</td>\n",
       "      <td>14.0</td>\n",
       "      <td>32.0</td>\n",
       "      <td>13</td>\n",
       "      <td>NaN</td>\n",
       "      <td>...</td>\n",
       "      <td>41.0</td>\n",
       "      <td>NaN</td>\n",
       "      <td>Санкт-Петербург</td>\n",
       "      <td>31856.0</td>\n",
       "      <td>8098.0</td>\n",
       "      <td>2.0</td>\n",
       "      <td>112.0</td>\n",
       "      <td>1.0</td>\n",
       "      <td>48.0</td>\n",
       "      <td>121.0</td>\n",
       "    </tr>\n",
       "  </tbody>\n",
       "</table>\n",
       "<p>5 rows × 22 columns</p>\n",
       "</div>"
      ],
      "text/plain": [
       "   total_images  last_price  total_area first_day_exposition  rooms  \\\n",
       "0            20  13000000.0       108.0  2019-03-07T00:00:00      3   \n",
       "1             7   3350000.0        40.4  2018-12-04T00:00:00      1   \n",
       "2            10   5196000.0        56.0  2015-08-20T00:00:00      2   \n",
       "3             0  64900000.0       159.0  2015-07-24T00:00:00      3   \n",
       "4             2  10000000.0       100.0  2018-06-19T00:00:00      2   \n",
       "\n",
       "   ceiling_height  floors_total  living_area  floor is_apartment  ...  \\\n",
       "0            2.70          16.0         51.0      8          NaN  ...   \n",
       "1             NaN          11.0         18.6      1          NaN  ...   \n",
       "2             NaN           5.0         34.3      4          NaN  ...   \n",
       "3             NaN          14.0          NaN      9          NaN  ...   \n",
       "4            3.03          14.0         32.0     13          NaN  ...   \n",
       "\n",
       "   kitchen_area  balcony    locality_name  airports_nearest  \\\n",
       "0          25.0      NaN  Санкт-Петербург           18863.0   \n",
       "1          11.0      2.0   посёлок Шушары           12817.0   \n",
       "2           8.3      0.0  Санкт-Петербург           21741.0   \n",
       "3           NaN      0.0  Санкт-Петербург           28098.0   \n",
       "4          41.0      NaN  Санкт-Петербург           31856.0   \n",
       "\n",
       "  cityCenters_nearest  parks_around3000  parks_nearest  ponds_around3000  \\\n",
       "0             16028.0               1.0          482.0               2.0   \n",
       "1             18603.0               0.0            NaN               0.0   \n",
       "2             13933.0               1.0           90.0               2.0   \n",
       "3              6800.0               2.0           84.0               3.0   \n",
       "4              8098.0               2.0          112.0               1.0   \n",
       "\n",
       "   ponds_nearest  days_exposition  \n",
       "0          755.0              NaN  \n",
       "1            NaN             81.0  \n",
       "2          574.0            558.0  \n",
       "3          234.0            424.0  \n",
       "4           48.0            121.0  \n",
       "\n",
       "[5 rows x 22 columns]"
      ]
     },
     "execution_count": 3,
     "metadata": {},
     "output_type": "execute_result"
    }
   ],
   "source": [
    "data = pd.read_csv('/datasets/real_estate_data.csv', sep='\\t')\n",
    "data.head()"
   ]
  },
  {
   "cell_type": "code",
   "execution_count": 4,
   "metadata": {},
   "outputs": [
    {
     "name": "stdout",
     "output_type": "stream",
     "text": [
      "<class 'pandas.core.frame.DataFrame'>\n",
      "RangeIndex: 23699 entries, 0 to 23698\n",
      "Data columns (total 22 columns):\n",
      " #   Column                Non-Null Count  Dtype  \n",
      "---  ------                --------------  -----  \n",
      " 0   total_images          23699 non-null  int64  \n",
      " 1   last_price            23699 non-null  float64\n",
      " 2   total_area            23699 non-null  float64\n",
      " 3   first_day_exposition  23699 non-null  object \n",
      " 4   rooms                 23699 non-null  int64  \n",
      " 5   ceiling_height        14504 non-null  float64\n",
      " 6   floors_total          23613 non-null  float64\n",
      " 7   living_area           21796 non-null  float64\n",
      " 8   floor                 23699 non-null  int64  \n",
      " 9   is_apartment          2775 non-null   object \n",
      " 10  studio                23699 non-null  bool   \n",
      " 11  open_plan             23699 non-null  bool   \n",
      " 12  kitchen_area          21421 non-null  float64\n",
      " 13  balcony               12180 non-null  float64\n",
      " 14  locality_name         23650 non-null  object \n",
      " 15  airports_nearest      18157 non-null  float64\n",
      " 16  cityCenters_nearest   18180 non-null  float64\n",
      " 17  parks_around3000      18181 non-null  float64\n",
      " 18  parks_nearest         8079 non-null   float64\n",
      " 19  ponds_around3000      18181 non-null  float64\n",
      " 20  ponds_nearest         9110 non-null   float64\n",
      " 21  days_exposition       20518 non-null  float64\n",
      "dtypes: bool(2), float64(14), int64(3), object(3)\n",
      "memory usage: 3.7+ MB\n"
     ]
    }
   ],
   "source": [
    "data.info()"
   ]
  },
  {
   "cell_type": "code",
   "execution_count": 5,
   "metadata": {},
   "outputs": [
    {
     "data": {
      "text/plain": [
       "array([[<AxesSubplot:title={'center':'total_images'}>,\n",
       "        <AxesSubplot:title={'center':'last_price'}>,\n",
       "        <AxesSubplot:title={'center':'total_area'}>,\n",
       "        <AxesSubplot:title={'center':'rooms'}>],\n",
       "       [<AxesSubplot:title={'center':'ceiling_height'}>,\n",
       "        <AxesSubplot:title={'center':'floors_total'}>,\n",
       "        <AxesSubplot:title={'center':'living_area'}>,\n",
       "        <AxesSubplot:title={'center':'floor'}>],\n",
       "       [<AxesSubplot:title={'center':'kitchen_area'}>,\n",
       "        <AxesSubplot:title={'center':'balcony'}>,\n",
       "        <AxesSubplot:title={'center':'airports_nearest'}>,\n",
       "        <AxesSubplot:title={'center':'cityCenters_nearest'}>],\n",
       "       [<AxesSubplot:title={'center':'parks_around3000'}>,\n",
       "        <AxesSubplot:title={'center':'parks_nearest'}>,\n",
       "        <AxesSubplot:title={'center':'ponds_around3000'}>,\n",
       "        <AxesSubplot:title={'center':'ponds_nearest'}>],\n",
       "       [<AxesSubplot:title={'center':'days_exposition'}>, <AxesSubplot:>,\n",
       "        <AxesSubplot:>, <AxesSubplot:>]], dtype=object)"
      ]
     },
     "execution_count": 5,
     "metadata": {},
     "output_type": "execute_result"
    },
    {
     "data": {
      "image/png": "[encoded data removed]",
      "text/plain": [
       "<Figure size 1080x1440 with 20 Axes>"
      ]
     },
     "metadata": {
      "needs_background": "light"
     },
     "output_type": "display_data"
    }
   ],
   "source": [
    "data.hist(figsize=(15, 20))"
   ]
  },
  {
   "cell_type": "code",
   "execution_count": 27,
   "metadata": {},
   "outputs": [
    {
     "data": {
      "text/plain": [
       "0"
      ]
     },
     "execution_count": 27,
     "metadata": {},
     "output_type": "execute_result"
    }
   ],
   "source": [
    "data.duplicated().sum() #поиск явных дубликатов"
   ]
  },
  {
   "cell_type": "markdown",
   "metadata": {},
   "source": [
    "В предоставленных данных 23699 строки и 22 столбца. Есть пропуски данных в 14 столбцах (в пункте ниже расписано в каких). Явные дубликаты отсутствуют. Есть выраженные положительные выбросы в столбцах 'last_price', 'total_area', 'ceiling_height', 'living_area', 'kitchen_area'. В столбце 'first_day_exposition' (дата публикации) неверный тип данных, необходимо его изменить на datetime, в столбце 'is_apartment' на bool, в столбцах 'balcony', 'floors_total', 'parks_around3000', 'ponds_around3000', 'days_exposition' на int"
   ]
  },
  {
   "cell_type": "markdown",
   "metadata": {
    "id": "-O5NtivEAwb9"
   },
   "source": [
    "### Выполните предобработку данных"
   ]
  },
  {
   "cell_type": "code",
   "execution_count": 46,
   "metadata": {},
   "outputs": [
    {
     "data": {
      "text/plain": [
       "is_apartment            88.290645\n",
       "parks_nearest           65.909954\n",
       "ponds_nearest           61.559559\n",
       "balcony                 48.605426\n",
       "ceiling_height          38.799105\n",
       "airports_nearest        23.384953\n",
       "cityCenters_nearest     23.287902\n",
       "ponds_around3000        23.283683\n",
       "parks_around3000        23.283683\n",
       "days_exposition         13.422507\n",
       "kitchen_area             9.612220\n",
       "living_area              8.029875\n",
       "floors_total             0.362885\n",
       "locality_name            0.206760\n",
       "total_images             0.000000\n",
       "last_price               0.000000\n",
       "studio                   0.000000\n",
       "floor                    0.000000\n",
       "rooms                    0.000000\n",
       "first_day_exposition     0.000000\n",
       "total_area               0.000000\n",
       "open_plan                0.000000\n",
       "dtype: float64"
      ]
     },
     "execution_count": 46,
     "metadata": {},
     "output_type": "execute_result"
    }
   ],
   "source": [
    "data.isna().mean().sort_values(ascending=False)*100 #доля пропущенных значений по столбцам"
   ]
  },
  {
   "cell_type": "markdown",
   "metadata": {},
   "source": [
    "<div class=\"alert alert-block alert-danger\">\n",
    "<h2> Комментарий ревьюера v1<a class=\"tocSkip\"></h2>\n",
    "\n",
    "<b>На доработку🤔:</b> Пропуски нужно посмотреть явно. Такие таблицы важно сортировать от большего количества пропусков к меньшему. Также полезно посмотреть на доли пропусков по столбцам, чтобы сразу была возможность принять решение об удалении прпоусков, например. Для этого удобно использовать:\n",
    "\n",
    "\n",
    "            isna().mean()*100"
   ]
  },
  {
   "cell_type": "markdown",
   "metadata": {},
   "source": [
    "<div class=\"alert alert-info\">\n",
    "<h2>Комментарий v1<a class=\"tocSkip\"></h2>\n",
    "\n",
    "<b>Я понял, хорошее замечание, почему-то все пропуски смотрел через .info из предыдущего пункта, даже в голову не пришло так сделать</b> \n",
    "</div>"
   ]
  },
  {
   "cell_type": "markdown",
   "metadata": {},
   "source": [
    "<div class=\"alert alert-success\">\n",
    "<h2> Комментарий ревьюера v2 <a class=\"tocSkip\"> </h2>\n",
    "\n",
    "<b>Все супер!👍:</b> Исправлено!"
   ]
  },
  {
   "cell_type": "markdown",
   "metadata": {},
   "source": [
    "#### Поиск пропущенных значений\n",
    "Пропущенные значения есть в столбцах:\n",
    "* ceiling_height - высота потолков (м) <b>(пропущено почти половина)</b>\n",
    "* floors_total - всего этажей в доме (мало пропусков)\n",
    "* living_area - жилая площадь в квадратных метрах (м²) (мало пропусков)\n",
    "* is_apartment - апартаменты (булев тип) <b>(пропущено очень много, предположу, что все пропущенные это не апартаменты)</b>\n",
    "* kitchen_area - площадь кухни в квадратных метрах (м²) (мало пропусков)\n",
    "* balcony - число балконов <b>(пропущено почти половина, предположу, что все пропущенные это квартиры без балкона)</b>\n",
    "* locality_name - название населённого пункта (мало пропусков)\n",
    "* airports_nearest - расстояние до ближайшего аэропорта в метрах (м) <b>(пропущено около четверти)</b>\n",
    "* cityCenters_nearest - расстояние до центра города (м) <b>(пропущено около четверти)</b>\n",
    "* parks_around3000 - число парков в радиусе 3 км <b>(пропущено около четверти)</b>\n",
    "* parks_nearest - расстояние до ближайшего парка (м) <b>(пропущено больше половины)</b>\n",
    "* ponds_around3000 - число водоёмов в радиусе 3 км <b>(пропущено около четверти)</b>\n",
    "* ponds_nearest - расстояние до ближайшего водоёма (м) <b>(пропущено больше половины)</b>\n",
    "* days_exposition - сколько дней было размещено объявление (от публикации до снятия) (мало пропусков)\n"
   ]
  },
  {
   "cell_type": "code",
   "execution_count": 4,
   "metadata": {},
   "outputs": [
    {
     "data": {
      "text/plain": [
       "array([0., 2., 1., 5., 4., 3.])"
      ]
     },
     "execution_count": 4,
     "metadata": {},
     "output_type": "execute_result"
    }
   ],
   "source": [
    "data['balcony'] = data['balcony'].fillna(0) #заменяем пропущенные значения в столбце 'balcony' на 0\n",
    "data['balcony'].unique()"
   ]
  },
  {
   "cell_type": "code",
   "execution_count": 5,
   "metadata": {},
   "outputs": [
    {
     "data": {
      "text/plain": [
       "array([False,  True])"
      ]
     },
     "execution_count": 5,
     "metadata": {},
     "output_type": "execute_result"
    }
   ],
   "source": [
    "data['is_apartment'] = data['is_apartment'].fillna(False) #заменяем пропущенные значения в столбце 'is_apartment' на False\n",
    "data['is_apartment'].unique()"
   ]
  },
  {
   "cell_type": "markdown",
   "metadata": {},
   "source": [
    "<div class=\"alert alert-success\">\n",
    "<h2> Комментарий ревьюера v1 <a class=\"tocSkip\"> </h2>\n",
    "\n",
    "<b>Все супер!👍:</b> Пропуски заполнены верно!"
   ]
  },
  {
   "cell_type": "markdown",
   "metadata": {},
   "source": [
    "Возможные причины пропусков:\n",
    "* ceiling_height - странно что так много пропусков в этой колонке, возможно, при заполнении данных о квартире многие пользователи не видят эту графу о высоте потолка\n",
    "* living_area, kitchen_area - +/- одинаковое кол-во пропусков, возможно, у этих пользователей совмещены кухня и жилое помещение\n",
    "* airports_nearest, cityCenters_nearest, parks_around3000, ponds_around3000 - +/- одинаковое кол-во пропусков, скорее всего не были/некорректно получены данные от геосервисов\n",
    "* parks_nearest, ponds_nearest - аналогичное объяснение (см. предыдущий пункт) только пропусков больше, т.к. там где в столбце parks/ponds_around3000 - ноль, в столбце parks/ponds_nearest - пропуски\n",
    "* days_exposition - здесь, возможно, пропуски связаны с тем, что на момент выгрузки датафрейма часть публикаций были актуальны"
   ]
  },
  {
   "cell_type": "markdown",
   "metadata": {},
   "source": [
    "<div class=\"alert alert-warning\">\n",
    "    <h2> Комментарий ревьюера v1<a class=\"tocSkip\"> </h2>\n",
    "    \n",
    "<b>Небольшие замечания и рекомендации💡:</b> Заполнено очень мало прпоусков - можно попробовать заполнить пррпоуски в площаадях, напримеер, количество прудов и парков"
   ]
  },
  {
   "cell_type": "markdown",
   "metadata": {},
   "source": [
    "<div class=\"alert alert-info\">\n",
    "<h2>Комментарий v1<a class=\"tocSkip\"></h2>\n",
    "\n",
    "<b>У меня вопрос, а какой целевой смысл заполнять пропуски там, где ты не знаешь что должно быть? Только ради того чтобы изменить тип данных в столбце? И если в этом есть смысл, то я правильно понимаю, что заполнять медианой/средним значением нужно столбцы где мало пропусков (в данном случае это kitchen_area, living_area, floors_total), иначе же они могут исказить реальное положение дел?</b> \n",
    "</div>"
   ]
  },
  {
   "cell_type": "markdown",
   "metadata": {},
   "source": [
    "<div class=\"alert alert-warning\">\n",
    "    <h2> Комментарий ревьюера v2 <a class=\"tocSkip\"> </h2>\n",
    "    \n",
    "<b>Небольшие замечания и рекомендации💡:</b> Правильно понимаешь! Пропуски можно заполнять там, где их немного. Для этого можно использовать медиану, моду, среднее"
   ]
  },
  {
   "cell_type": "markdown",
   "metadata": {},
   "source": [
    "#### Изменение типа данных столбцов"
   ]
  },
  {
   "cell_type": "code",
   "execution_count": 6,
   "metadata": {},
   "outputs": [
    {
     "name": "stdout",
     "output_type": "stream",
     "text": [
      "<class 'pandas.core.frame.DataFrame'>\n",
      "RangeIndex: 23699 entries, 0 to 23698\n",
      "Data columns (total 22 columns):\n",
      " #   Column                Non-Null Count  Dtype         \n",
      "---  ------                --------------  -----         \n",
      " 0   total_images          23699 non-null  int64         \n",
      " 1   last_price            23699 non-null  float64       \n",
      " 2   total_area            23699 non-null  float64       \n",
      " 3   first_day_exposition  23699 non-null  datetime64[ns]\n",
      " 4   rooms                 23699 non-null  int64         \n",
      " 5   ceiling_height        14504 non-null  float64       \n",
      " 6   floors_total          23613 non-null  float64       \n",
      " 7   living_area           21796 non-null  float64       \n",
      " 8   floor                 23699 non-null  int64         \n",
      " 9   is_apartment          23699 non-null  bool          \n",
      " 10  studio                23699 non-null  bool          \n",
      " 11  open_plan             23699 non-null  bool          \n",
      " 12  kitchen_area          21421 non-null  float64       \n",
      " 13  balcony               23699 non-null  int64         \n",
      " 14  locality_name         23650 non-null  object        \n",
      " 15  airports_nearest      18157 non-null  float64       \n",
      " 16  cityCenters_nearest   18180 non-null  float64       \n",
      " 17  parks_around3000      18181 non-null  float64       \n",
      " 18  parks_nearest         8079 non-null   float64       \n",
      " 19  ponds_around3000      18181 non-null  float64       \n",
      " 20  ponds_nearest         9110 non-null   float64       \n",
      " 21  days_exposition       20518 non-null  float64       \n",
      "dtypes: bool(3), datetime64[ns](1), float64(13), int64(4), object(1)\n",
      "memory usage: 3.5+ MB\n"
     ]
    }
   ],
   "source": [
    "data['first_day_exposition'] = pd.to_datetime(data['first_day_exposition'], format='%Y-%m-%dT%H:%M:%S') #меняем тип данных столбца 'first_day_exposition'\n",
    "data['is_apartment'] = data['is_apartment'].astype('bool') #меняем тип данных столбца 'is_apartment'\n",
    "data['balcony'] = data['balcony'].astype('int') #меняем тип данных столбца 'balcony'\n",
    "data.info()"
   ]
  },
  {
   "cell_type": "markdown",
   "metadata": {},
   "source": [
    "1. 'first_day_exposition': object -> datetime64 (в этом столбце дата размещения объявления, поэтому используем datetime)\n",
    "2. 'is_apartment': object -> bool (здесь только два возможных варианта True/False, поэтому используем bool, т.к. занимает меньше памяти)\n",
    "3. 'balcony': float64 -> int64 (кол-во балконов всегда целое, поэтому используем int, т.к. занимает меньше памяти)"
   ]
  },
  {
   "cell_type": "markdown",
   "metadata": {},
   "source": [
    "<div class=\"alert alert-warning\">\n",
    "    <h2> Комментарий ревьюера v1<a class=\"tocSkip\"> </h2>\n",
    "    \n",
    "<b>Небольшие замечания и рекомендации💡:</b> Если выше зполним больше пропусков, то можно больше типов данных привести"
   ]
  },
  {
   "cell_type": "markdown",
   "metadata": {},
   "source": [
    "#### Устранение неявных дубликатов"
   ]
  },
  {
   "cell_type": "code",
   "execution_count": 7,
   "metadata": {},
   "outputs": [
    {
     "data": {
      "text/plain": [
       "331"
      ]
     },
     "execution_count": 7,
     "metadata": {},
     "output_type": "execute_result"
    }
   ],
   "source": [
    "data['locality_name'] = data['locality_name'].str.replace('ё', 'е') #заменяем е на ё в столбце 'locality_name': получаем из 365 -> 331 уникальное значение\n",
    "len(data['locality_name'].unique())"
   ]
  },
  {
   "cell_type": "code",
   "execution_count": 8,
   "metadata": {
    "scrolled": true
   },
   "outputs": [
    {
     "data": {
      "text/plain": [
       "['поселок Аннино',\n",
       " 'поселок Александровская',\n",
       " 'поселок Алексеевка',\n",
       " 'поселок Бугры',\n",
       " 'городской поселок Большая Ижора',\n",
       " 'поселок Барышево',\n",
       " 'городской поселок Будогощь',\n",
       " 'поселок Белоостров',\n",
       " 'поселок городского типа Большая Ижора',\n",
       " 'поселок городского типа Вырица',\n",
       " 'поселок станции Вещево',\n",
       " 'поселок Войсковицы',\n",
       " 'поселок Войскорово',\n",
       " 'поселок городского типа Важины',\n",
       " 'городской поселок Виллози',\n",
       " 'поселок Возрождение',\n",
       " 'поселок при железнодорожной станции Вещево',\n",
       " 'поселок городского типа Вознесенье',\n",
       " 'поселок Высокоключевой',\n",
       " 'поселок Володарское',\n",
       " 'поселок Гаврилово',\n",
       " 'поселок Глажево',\n",
       " 'поселок Глебычево',\n",
       " 'поселок Гончарово',\n",
       " 'поселок станции Громово',\n",
       " 'поселок Гладкое',\n",
       " 'поселок Гарболово',\n",
       " 'поселок Громово',\n",
       " 'поселок городского типа Дубровка',\n",
       " 'поселок городского типа Дружная Горка',\n",
       " 'поселок Дружноселье',\n",
       " 'поселок Дзержинского',\n",
       " 'поселок городского типа Ефимовский',\n",
       " 'поселок Елизаветино',\n",
       " 'поселок Жилпоселок',\n",
       " 'поселок Житково',\n",
       " 'поселок Жилгородок',\n",
       " 'поселок Заводской',\n",
       " 'поселок Зимитицы',\n",
       " 'поселок Запорожское',\n",
       " 'поселок Ильичево',\n",
       " 'поселок городского типа Красный Бор',\n",
       " 'поселок городского типа Кузьмоловский',\n",
       " 'поселок станции Корнево',\n",
       " 'поселок городского типа Кузнечное',\n",
       " 'поселок Кобринское',\n",
       " 'поселок Кикерино',\n",
       " 'поселок Красная Долина',\n",
       " 'поселок Каложицы',\n",
       " 'поселок Кингисеппский',\n",
       " 'поселок Коммунары',\n",
       " 'поселок Коробицыно',\n",
       " 'поселок Кобралово',\n",
       " 'поселок городского типа Кондратьево',\n",
       " 'поселок Котельский',\n",
       " 'поселок Красносельское',\n",
       " 'коттеджный поселок Кивеннапа Север',\n",
       " 'поселок Кирпичное',\n",
       " 'поселок Калитино',\n",
       " 'поселок городского типа Лебяжье',\n",
       " 'городской поселок Лесогорский',\n",
       " 'поселок Лисий Нос',\n",
       " 'поселок Левашово',\n",
       " 'поселок городского типа Лесогорский',\n",
       " 'поселок Лукаши',\n",
       " 'поселок Любань',\n",
       " 'поселок Лесное',\n",
       " 'поселок Ленинское',\n",
       " 'поселок станции Лужайка',\n",
       " 'коттеджный поселок Лесное',\n",
       " 'поселок Мурино',\n",
       " 'поселок Металлострой',\n",
       " 'поселок Молодцово',\n",
       " 'поселок Молодежное',\n",
       " 'городской поселок Мга',\n",
       " 'поселок Мичуринское',\n",
       " 'поселок городского типа имени Морозова',\n",
       " 'поселок Мельниково',\n",
       " 'поселок городского типа Мга',\n",
       " 'поселок Мыза-Ивановка',\n",
       " 'поселок Новый Свет',\n",
       " 'поселок Новогорелово',\n",
       " 'городской поселок Новоселье',\n",
       " 'поселок городского типа Никольский',\n",
       " 'городской поселок Назия',\n",
       " 'поселок Новый Учхоз',\n",
       " 'поселок городского типа Назия',\n",
       " 'поселок Оредеж',\n",
       " 'поселок Парголово',\n",
       " 'поселок Плодовое',\n",
       " 'поселок Первомайское',\n",
       " 'поселок Понтонный',\n",
       " 'поселок Победа',\n",
       " 'поселок Петровское',\n",
       " 'городской поселок Павлово',\n",
       " 'поселок Поляны',\n",
       " 'поселок Песочный',\n",
       " 'поселок городского типа Приладожский',\n",
       " 'поселок Петро-Славянка',\n",
       " 'поселок станции Приветнинское',\n",
       " 'поселок Пудость',\n",
       " 'поселок Пригородный',\n",
       " 'поселок городского типа Павлово',\n",
       " 'поселок Почап',\n",
       " 'поселок Платформа 69-й километр',\n",
       " 'поселок Починок',\n",
       " 'поселок при железнодорожной станции Приветнинское',\n",
       " 'поселок Перово',\n",
       " 'поселок Плоское',\n",
       " 'поселок Пушное',\n",
       " 'поселок Пансионат Зеленый Бор',\n",
       " 'поселок Пчевжа',\n",
       " 'поселок Романовка',\n",
       " 'поселок городского типа Рощино',\n",
       " 'поселок городского типа Рахья',\n",
       " 'поселок Рябово',\n",
       " 'поселок Ропша',\n",
       " 'поселок Репино',\n",
       " 'поселок городского типа Рябово',\n",
       " 'городской поселок Рощино',\n",
       " 'поселок Ромашки',\n",
       " 'поселок Рабитицы',\n",
       " 'поселок городского типа Сиверский',\n",
       " 'поселок городского типа Синявино',\n",
       " 'поселок Стрельна',\n",
       " 'поселок городского типа Советский',\n",
       " 'поселок Сельцо',\n",
       " 'поселок Севастьяново',\n",
       " 'поселок городского типа имени Свердлова',\n",
       " 'поселок Сосново',\n",
       " 'поселок Старая Малукса',\n",
       " 'поселок Саперный',\n",
       " 'поселок Семрино',\n",
       " 'поселок Селезнево',\n",
       " 'поселок Стеклянный',\n",
       " 'поселок Сумино',\n",
       " 'поселок Суходолье',\n",
       " 'поселок Саперное',\n",
       " 'поселок Серебрянский',\n",
       " 'городской поселок Советский',\n",
       " 'коттеджный поселок Счастье',\n",
       " 'поселок Семиозерье',\n",
       " 'поселок Совхозный',\n",
       " 'поселок Суйда',\n",
       " 'поселок станции Свирь',\n",
       " 'городской поселок Свирьстрой',\n",
       " 'поселок Торковичи',\n",
       " 'поселок Терволово',\n",
       " 'поселок городского типа Токсово',\n",
       " 'поселок Тельмана',\n",
       " 'поселок городского типа Тайцы',\n",
       " 'поселок Торфяное',\n",
       " 'поселок Тесово-4',\n",
       " 'поселок городского типа Ульяновка',\n",
       " 'поселок Углово',\n",
       " 'поселок Усть-Луга',\n",
       " 'поселок Ушаки',\n",
       " 'поселок Усть-Ижора',\n",
       " 'городской поселок Федоровское',\n",
       " 'поселок городского типа Форносово',\n",
       " 'поселок Форт Красная Горка',\n",
       " 'поселок Цвелодубово',\n",
       " 'поселок Цвылево',\n",
       " 'поселок Шушары',\n",
       " 'поселок Шугозеро',\n",
       " 'поселок Щеглово',\n",
       " 'городской поселок Янино-1']"
      ]
     },
     "execution_count": 8,
     "metadata": {},
     "output_type": "execute_result"
    }
   ],
   "source": [
    "filtred_data = data[(data['locality_name'].isna() == False) & (data['locality_name'].str.contains('поселок'))] #фильтруем дф, где в названии местности есть слово поселок\n",
    "\n",
    "def find_uppercase_char_key(s): #для удобства поиска неявных дубликатов создаем функцию поиска заглавной буквы в строке\n",
    "    for char in s:\n",
    "        if char.isupper():\n",
    "            return char\n",
    "\n",
    "sorted(filtred_data['locality_name'].unique(), key=find_uppercase_char_key) #сортируем отфильтрованный дф с уникальными названиями по заглавной букве"
   ]
  },
  {
   "cell_type": "markdown",
   "metadata": {},
   "source": [
    "Изучив полученный список, находим неявные дубликаты (возможно не все, получилось затратно это все проверять): Лесогорский, Мга, Назия, Павлово, Рощино, Советский - все эти названия одного и того же населенного пункта указаны в разных интерпретациях (кстати, в инструкции в качестве примера указан поселок Рябово, но в Ленинградской области есть и поселок Рябово, и поселок городского типа Рябово - решил не объединять)\n",
    "P.S. зря душился :)"
   ]
  },
  {
   "cell_type": "code",
   "execution_count": 9,
   "metadata": {
    "scrolled": true
   },
   "outputs": [
    {
     "data": {
      "text/plain": [
       "325"
      ]
     },
     "execution_count": 9,
     "metadata": {},
     "output_type": "execute_result"
    }
   ],
   "source": [
    "data = data.replace('поселок городского типа Лесогорский', 'городской поселок Лесогорский')\n",
    "data = data.replace('поселок городского типа Мга', 'городской поселок Мга')\n",
    "data = data.replace('поселок городского типа Назия', 'городской поселок Назия')\n",
    "data = data.replace('поселок городского типа Павлово', 'городской поселок Павлово')\n",
    "data = data.replace('поселок городского типа Рощино', 'городской поселок Рощино')\n",
    "data = data.replace('поселок городского типа Советский', 'городской поселок Советский')\n",
    "len(data['locality_name'].unique()) #обработав неявные дубликаты, получем из 331 -> 325 уникальных значений"
   ]
  },
  {
   "cell_type": "markdown",
   "metadata": {},
   "source": [
    "<div class=\"alert alert-success\">\n",
    "<h2> Комментарий ревьюера v1 <a class=\"tocSkip\"> </h2>\n",
    "\n",
    "<b>Все супер!👍:</b> Качественная работа с неявными дублями по локации"
   ]
  },
  {
   "cell_type": "markdown",
   "metadata": {
    "id": "QCcvyY6YAwb-"
   },
   "source": [
    "### Добавьте в таблицу новые столбцы"
   ]
  },
  {
   "cell_type": "code",
   "execution_count": 10,
   "metadata": {
    "id": "Z8eJek3IAwb-"
   },
   "outputs": [
    {
     "data": {
      "text/html": [
       "<div>\n",
       "<style scoped>\n",
       "    .dataframe tbody tr th:only-of-type {\n",
       "        vertical-align: middle;\n",
       "    }\n",
       "\n",
       "    .dataframe tbody tr th {\n",
       "        vertical-align: top;\n",
       "    }\n",
       "\n",
       "    .dataframe thead th {\n",
       "        text-align: right;\n",
       "    }\n",
       "</style>\n",
       "<table border=\"1\" class=\"dataframe\">\n",
       "  <thead>\n",
       "    <tr style=\"text-align: right;\">\n",
       "      <th></th>\n",
       "      <th>total_images</th>\n",
       "      <th>last_price</th>\n",
       "      <th>total_area</th>\n",
       "      <th>first_day_exposition</th>\n",
       "      <th>rooms</th>\n",
       "      <th>ceiling_height</th>\n",
       "      <th>floors_total</th>\n",
       "      <th>living_area</th>\n",
       "      <th>floor</th>\n",
       "      <th>is_apartment</th>\n",
       "      <th>...</th>\n",
       "      <th>parks_nearest</th>\n",
       "      <th>ponds_around3000</th>\n",
       "      <th>ponds_nearest</th>\n",
       "      <th>days_exposition</th>\n",
       "      <th>price_per_square</th>\n",
       "      <th>day_of_week</th>\n",
       "      <th>month</th>\n",
       "      <th>year</th>\n",
       "      <th>floor_type</th>\n",
       "      <th>dist_to_city</th>\n",
       "    </tr>\n",
       "  </thead>\n",
       "  <tbody>\n",
       "    <tr>\n",
       "      <th>0</th>\n",
       "      <td>20</td>\n",
       "      <td>13000000.0</td>\n",
       "      <td>108.0</td>\n",
       "      <td>2019-03-07</td>\n",
       "      <td>3</td>\n",
       "      <td>2.70</td>\n",
       "      <td>16.0</td>\n",
       "      <td>51.0</td>\n",
       "      <td>8</td>\n",
       "      <td>False</td>\n",
       "      <td>...</td>\n",
       "      <td>482.0</td>\n",
       "      <td>2.0</td>\n",
       "      <td>755.0</td>\n",
       "      <td>NaN</td>\n",
       "      <td>120370.370370</td>\n",
       "      <td>3</td>\n",
       "      <td>3</td>\n",
       "      <td>2019</td>\n",
       "      <td>другой</td>\n",
       "      <td>16.0</td>\n",
       "    </tr>\n",
       "    <tr>\n",
       "      <th>1</th>\n",
       "      <td>7</td>\n",
       "      <td>3350000.0</td>\n",
       "      <td>40.4</td>\n",
       "      <td>2018-12-04</td>\n",
       "      <td>1</td>\n",
       "      <td>NaN</td>\n",
       "      <td>11.0</td>\n",
       "      <td>18.6</td>\n",
       "      <td>1</td>\n",
       "      <td>False</td>\n",
       "      <td>...</td>\n",
       "      <td>NaN</td>\n",
       "      <td>0.0</td>\n",
       "      <td>NaN</td>\n",
       "      <td>81.0</td>\n",
       "      <td>82920.792079</td>\n",
       "      <td>1</td>\n",
       "      <td>12</td>\n",
       "      <td>2018</td>\n",
       "      <td>первый</td>\n",
       "      <td>19.0</td>\n",
       "    </tr>\n",
       "    <tr>\n",
       "      <th>2</th>\n",
       "      <td>10</td>\n",
       "      <td>5196000.0</td>\n",
       "      <td>56.0</td>\n",
       "      <td>2015-08-20</td>\n",
       "      <td>2</td>\n",
       "      <td>NaN</td>\n",
       "      <td>5.0</td>\n",
       "      <td>34.3</td>\n",
       "      <td>4</td>\n",
       "      <td>False</td>\n",
       "      <td>...</td>\n",
       "      <td>90.0</td>\n",
       "      <td>2.0</td>\n",
       "      <td>574.0</td>\n",
       "      <td>558.0</td>\n",
       "      <td>92785.714286</td>\n",
       "      <td>3</td>\n",
       "      <td>8</td>\n",
       "      <td>2015</td>\n",
       "      <td>другой</td>\n",
       "      <td>14.0</td>\n",
       "    </tr>\n",
       "    <tr>\n",
       "      <th>3</th>\n",
       "      <td>0</td>\n",
       "      <td>64900000.0</td>\n",
       "      <td>159.0</td>\n",
       "      <td>2015-07-24</td>\n",
       "      <td>3</td>\n",
       "      <td>NaN</td>\n",
       "      <td>14.0</td>\n",
       "      <td>NaN</td>\n",
       "      <td>9</td>\n",
       "      <td>False</td>\n",
       "      <td>...</td>\n",
       "      <td>84.0</td>\n",
       "      <td>3.0</td>\n",
       "      <td>234.0</td>\n",
       "      <td>424.0</td>\n",
       "      <td>408176.100629</td>\n",
       "      <td>4</td>\n",
       "      <td>7</td>\n",
       "      <td>2015</td>\n",
       "      <td>другой</td>\n",
       "      <td>7.0</td>\n",
       "    </tr>\n",
       "    <tr>\n",
       "      <th>4</th>\n",
       "      <td>2</td>\n",
       "      <td>10000000.0</td>\n",
       "      <td>100.0</td>\n",
       "      <td>2018-06-19</td>\n",
       "      <td>2</td>\n",
       "      <td>3.03</td>\n",
       "      <td>14.0</td>\n",
       "      <td>32.0</td>\n",
       "      <td>13</td>\n",
       "      <td>False</td>\n",
       "      <td>...</td>\n",
       "      <td>112.0</td>\n",
       "      <td>1.0</td>\n",
       "      <td>48.0</td>\n",
       "      <td>121.0</td>\n",
       "      <td>100000.000000</td>\n",
       "      <td>1</td>\n",
       "      <td>6</td>\n",
       "      <td>2018</td>\n",
       "      <td>другой</td>\n",
       "      <td>8.0</td>\n",
       "    </tr>\n",
       "  </tbody>\n",
       "</table>\n",
       "<p>5 rows × 28 columns</p>\n",
       "</div>"
      ],
      "text/plain": [
       "   total_images  last_price  total_area first_day_exposition  rooms  \\\n",
       "0            20  13000000.0       108.0           2019-03-07      3   \n",
       "1             7   3350000.0        40.4           2018-12-04      1   \n",
       "2            10   5196000.0        56.0           2015-08-20      2   \n",
       "3             0  64900000.0       159.0           2015-07-24      3   \n",
       "4             2  10000000.0       100.0           2018-06-19      2   \n",
       "\n",
       "   ceiling_height  floors_total  living_area  floor  is_apartment  ...  \\\n",
       "0            2.70          16.0         51.0      8         False  ...   \n",
       "1             NaN          11.0         18.6      1         False  ...   \n",
       "2             NaN           5.0         34.3      4         False  ...   \n",
       "3             NaN          14.0          NaN      9         False  ...   \n",
       "4            3.03          14.0         32.0     13         False  ...   \n",
       "\n",
       "   parks_nearest  ponds_around3000  ponds_nearest  days_exposition  \\\n",
       "0          482.0               2.0          755.0              NaN   \n",
       "1            NaN               0.0            NaN             81.0   \n",
       "2           90.0               2.0          574.0            558.0   \n",
       "3           84.0               3.0          234.0            424.0   \n",
       "4          112.0               1.0           48.0            121.0   \n",
       "\n",
       "  price_per_square  day_of_week  month  year  floor_type  dist_to_city  \n",
       "0    120370.370370            3      3  2019      другой          16.0  \n",
       "1     82920.792079            1     12  2018      первый          19.0  \n",
       "2     92785.714286            3      8  2015      другой          14.0  \n",
       "3    408176.100629            4      7  2015      другой           7.0  \n",
       "4    100000.000000            1      6  2018      другой           8.0  \n",
       "\n",
       "[5 rows x 28 columns]"
      ]
     },
     "execution_count": 10,
     "metadata": {},
     "output_type": "execute_result"
    }
   ],
   "source": [
    "data['price_per_square'] = data['last_price'] / data['total_area'] #создаем столбец с ценой одного квадратного метра\n",
    "\n",
    "data['day_of_week'] = pd.DatetimeIndex(data['first_day_exposition']).weekday #создаем столбец с днем недели публикации объявления\n",
    "\n",
    "data['month'] = pd.DatetimeIndex(data['first_day_exposition']).month #создаем столбец с месяцем публикации объявления\n",
    "\n",
    "data['year'] = pd.DatetimeIndex(data['first_day_exposition']).year #создаем столбец с годом публикации объявления\n",
    "\n",
    "def floor_type(row): #функция для категоризации\n",
    "    floor = row['floor']\n",
    "    total = row['floors_total']\n",
    "    if floor == 1:\n",
    "        return 'первый'\n",
    "    if floor == total:\n",
    "        return 'последний'\n",
    "    return 'другой'\n",
    "\n",
    "data['floor_type'] = data.apply(floor_type, axis=1) #создаем столбец с типом этажа квартиры\n",
    "\n",
    "data['dist_to_city'] = round(data['cityCenters_nearest'] / 1000) #создаем столбец с расстоянием до центра города в км\n",
    "\n",
    "data.head()"
   ]
  },
  {
   "cell_type": "code",
   "execution_count": 11,
   "metadata": {},
   "outputs": [
    {
     "name": "stdout",
     "output_type": "stream",
     "text": [
      "<class 'pandas.core.frame.DataFrame'>\n",
      "RangeIndex: 23699 entries, 0 to 23698\n",
      "Data columns (total 28 columns):\n",
      " #   Column                Non-Null Count  Dtype         \n",
      "---  ------                --------------  -----         \n",
      " 0   total_images          23699 non-null  int64         \n",
      " 1   last_price            23699 non-null  float64       \n",
      " 2   total_area            23699 non-null  float64       \n",
      " 3   first_day_exposition  23699 non-null  datetime64[ns]\n",
      " 4   rooms                 23699 non-null  int64         \n",
      " 5   ceiling_height        14504 non-null  float64       \n",
      " 6   floors_total          23613 non-null  float64       \n",
      " 7   living_area           21796 non-null  float64       \n",
      " 8   floor                 23699 non-null  int64         \n",
      " 9   is_apartment          23699 non-null  bool          \n",
      " 10  studio                23699 non-null  bool          \n",
      " 11  open_plan             23699 non-null  bool          \n",
      " 12  kitchen_area          21421 non-null  float64       \n",
      " 13  balcony               23699 non-null  int64         \n",
      " 14  locality_name         23650 non-null  object        \n",
      " 15  airports_nearest      18157 non-null  float64       \n",
      " 16  cityCenters_nearest   18180 non-null  float64       \n",
      " 17  parks_around3000      18181 non-null  float64       \n",
      " 18  parks_nearest         8079 non-null   float64       \n",
      " 19  ponds_around3000      18181 non-null  float64       \n",
      " 20  ponds_nearest         9110 non-null   float64       \n",
      " 21  days_exposition       20518 non-null  float64       \n",
      " 22  price_per_square      23699 non-null  float64       \n",
      " 23  day_of_week           23699 non-null  int64         \n",
      " 24  month                 23699 non-null  int64         \n",
      " 25  year                  23699 non-null  int64         \n",
      " 26  floor_type            23699 non-null  object        \n",
      " 27  dist_to_city          18180 non-null  float64       \n",
      "dtypes: bool(3), datetime64[ns](1), float64(15), int64(7), object(2)\n",
      "memory usage: 4.6+ MB\n"
     ]
    }
   ],
   "source": [
    "data.info()"
   ]
  },
  {
   "cell_type": "markdown",
   "metadata": {
    "id": "pPyxrKWTAwb-"
   },
   "source": [
    "### Проведите исследовательский анализ данных"
   ]
  },
  {
   "cell_type": "markdown",
   "metadata": {},
   "source": [
    "#### Исследование параметров объектов"
   ]
  },
  {
   "cell_type": "code",
   "execution_count": 12,
   "metadata": {
    "id": "V2f0D3kLAwb-"
   },
   "outputs": [
    {
     "data": {
      "text/plain": [
       "count    23699.000000\n",
       "mean        60.348651\n",
       "std         35.654083\n",
       "min         12.000000\n",
       "25%         40.000000\n",
       "50%         52.000000\n",
       "75%         69.900000\n",
       "max        900.000000\n",
       "Name: total_area, dtype: float64"
      ]
     },
     "metadata": {},
     "output_type": "display_data"
    },
    {
     "data": {
      "text/plain": [
       "<AxesSubplot:>"
      ]
     },
     "execution_count": 12,
     "metadata": {},
     "output_type": "execute_result"
    },
    {
     "data": {
      "image/png": "[encoded data removed]",
      "text/plain": [
       "<Figure size 432x288 with 1 Axes>"
      ]
     },
     "metadata": {
      "needs_background": "light"
     },
     "output_type": "display_data"
    }
   ],
   "source": [
    "display(data['total_area'].describe()) #общая площадь\n",
    "data['total_area'].hist(bins=30)"
   ]
  },
  {
   "cell_type": "code",
   "execution_count": 13,
   "metadata": {},
   "outputs": [
    {
     "data": {
      "text/plain": [
       "count    21790.000000\n",
       "mean        34.466404\n",
       "std         22.027437\n",
       "min          6.000000\n",
       "25%         18.600000\n",
       "50%         30.000000\n",
       "75%         42.300000\n",
       "max        409.700000\n",
       "Name: living_area, dtype: float64"
      ]
     },
     "metadata": {},
     "output_type": "display_data"
    },
    {
     "data": {
      "text/plain": [
       "<AxesSubplot:>"
      ]
     },
     "execution_count": 13,
     "metadata": {},
     "output_type": "execute_result"
    },
    {
     "data": {
      "image/png": "[encoded data removed]",
      "text/plain": [
       "<Figure size 432x288 with 1 Axes>"
      ]
     },
     "metadata": {
      "needs_background": "light"
     },
     "output_type": "display_data"
    }
   ],
   "source": [
    "data.loc[data['living_area'] < 6, 'living_area'] = np.nan #заменяем жилую площадь меньше 6 м2 на значения NaN\n",
    "display(data['living_area'].describe()) #жилая площадь\n",
    "data['living_area'].hist(bins=30)"
   ]
  },
  {
   "cell_type": "code",
   "execution_count": 14,
   "metadata": {},
   "outputs": [
    {
     "data": {
      "text/plain": [
       "count    21316.000000\n",
       "mean        10.602188\n",
       "std          5.901569\n",
       "min          5.000000\n",
       "25%          7.000000\n",
       "50%          9.200000\n",
       "75%         12.000000\n",
       "max        112.000000\n",
       "Name: kitchen_area, dtype: float64"
      ]
     },
     "metadata": {},
     "output_type": "display_data"
    },
    {
     "data": {
      "text/plain": [
       "<AxesSubplot:>"
      ]
     },
     "execution_count": 14,
     "metadata": {},
     "output_type": "execute_result"
    },
    {
     "data": {
      "image/png": "[encoded data removed]",
      "text/plain": [
       "<Figure size 432x288 with 1 Axes>"
      ]
     },
     "metadata": {
      "needs_background": "light"
     },
     "output_type": "display_data"
    }
   ],
   "source": [
    "data.loc[data['kitchen_area'] < 5, 'kitchen_area'] = np.nan #заменяем площадь кухни меньше 5 м2 на значения NaN\n",
    "display(data['kitchen_area'].describe()) #площадь кухни\n",
    "data['kitchen_area'].hist(bins=30)"
   ]
  },
  {
   "cell_type": "code",
   "execution_count": 15,
   "metadata": {},
   "outputs": [
    {
     "data": {
      "text/plain": [
       "count    2.369900e+04\n",
       "mean     6.541549e+06\n",
       "std      1.088701e+07\n",
       "min      1.219000e+04\n",
       "25%      3.400000e+06\n",
       "50%      4.650000e+06\n",
       "75%      6.800000e+06\n",
       "max      7.630000e+08\n",
       "Name: last_price, dtype: float64"
      ]
     },
     "metadata": {},
     "output_type": "display_data"
    },
    {
     "data": {
      "text/plain": [
       "<AxesSubplot:>"
      ]
     },
     "execution_count": 15,
     "metadata": {},
     "output_type": "execute_result"
    },
    {
     "data": {
      "image/png": "[encoded data removed]",
      "text/plain": [
       "<Figure size 432x288 with 1 Axes>"
      ]
     },
     "metadata": {
      "needs_background": "light"
     },
     "output_type": "display_data"
    }
   ],
   "source": [
    "display(data['last_price'].describe()) #цена объекта\n",
    "data['last_price'].hist(bins=50)"
   ]
  },
  {
   "cell_type": "code",
   "execution_count": 16,
   "metadata": {},
   "outputs": [
    {
     "data": {
      "text/plain": [
       "count    23699.000000\n",
       "mean         2.070636\n",
       "std          1.078405\n",
       "min          0.000000\n",
       "25%          1.000000\n",
       "50%          2.000000\n",
       "75%          3.000000\n",
       "max         19.000000\n",
       "Name: rooms, dtype: float64"
      ]
     },
     "metadata": {},
     "output_type": "display_data"
    },
    {
     "data": {
      "text/html": [
       "<div>\n",
       "<style scoped>\n",
       "    .dataframe tbody tr th:only-of-type {\n",
       "        vertical-align: middle;\n",
       "    }\n",
       "\n",
       "    .dataframe tbody tr th {\n",
       "        vertical-align: top;\n",
       "    }\n",
       "\n",
       "    .dataframe thead th {\n",
       "        text-align: right;\n",
       "    }\n",
       "</style>\n",
       "<table border=\"1\" class=\"dataframe\">\n",
       "  <thead>\n",
       "    <tr style=\"text-align: right;\">\n",
       "      <th></th>\n",
       "      <th>total_images</th>\n",
       "      <th>last_price</th>\n",
       "      <th>total_area</th>\n",
       "      <th>first_day_exposition</th>\n",
       "      <th>rooms</th>\n",
       "      <th>ceiling_height</th>\n",
       "      <th>floors_total</th>\n",
       "      <th>living_area</th>\n",
       "      <th>floor</th>\n",
       "      <th>is_apartment</th>\n",
       "      <th>...</th>\n",
       "      <th>parks_nearest</th>\n",
       "      <th>ponds_around3000</th>\n",
       "      <th>ponds_nearest</th>\n",
       "      <th>days_exposition</th>\n",
       "      <th>price_per_square</th>\n",
       "      <th>day_of_week</th>\n",
       "      <th>month</th>\n",
       "      <th>year</th>\n",
       "      <th>floor_type</th>\n",
       "      <th>dist_to_city</th>\n",
       "    </tr>\n",
       "  </thead>\n",
       "  <tbody>\n",
       "    <tr>\n",
       "      <th>144</th>\n",
       "      <td>1</td>\n",
       "      <td>2450000.0</td>\n",
       "      <td>27.00</td>\n",
       "      <td>2017-03-30</td>\n",
       "      <td>0</td>\n",
       "      <td>NaN</td>\n",
       "      <td>24.0</td>\n",
       "      <td>15.50</td>\n",
       "      <td>2</td>\n",
       "      <td>False</td>\n",
       "      <td>...</td>\n",
       "      <td>NaN</td>\n",
       "      <td>NaN</td>\n",
       "      <td>NaN</td>\n",
       "      <td>181.0</td>\n",
       "      <td>90740.740741</td>\n",
       "      <td>3</td>\n",
       "      <td>3</td>\n",
       "      <td>2017</td>\n",
       "      <td>другой</td>\n",
       "      <td>NaN</td>\n",
       "    </tr>\n",
       "    <tr>\n",
       "      <th>349</th>\n",
       "      <td>4</td>\n",
       "      <td>2320000.0</td>\n",
       "      <td>25.00</td>\n",
       "      <td>2017-09-27</td>\n",
       "      <td>0</td>\n",
       "      <td>NaN</td>\n",
       "      <td>14.0</td>\n",
       "      <td>17.00</td>\n",
       "      <td>1</td>\n",
       "      <td>False</td>\n",
       "      <td>...</td>\n",
       "      <td>NaN</td>\n",
       "      <td>NaN</td>\n",
       "      <td>NaN</td>\n",
       "      <td>45.0</td>\n",
       "      <td>92800.000000</td>\n",
       "      <td>2</td>\n",
       "      <td>9</td>\n",
       "      <td>2017</td>\n",
       "      <td>первый</td>\n",
       "      <td>NaN</td>\n",
       "    </tr>\n",
       "    <tr>\n",
       "      <th>440</th>\n",
       "      <td>8</td>\n",
       "      <td>2480000.0</td>\n",
       "      <td>27.11</td>\n",
       "      <td>2018-03-12</td>\n",
       "      <td>0</td>\n",
       "      <td>NaN</td>\n",
       "      <td>17.0</td>\n",
       "      <td>24.75</td>\n",
       "      <td>4</td>\n",
       "      <td>False</td>\n",
       "      <td>...</td>\n",
       "      <td>NaN</td>\n",
       "      <td>2.0</td>\n",
       "      <td>982.0</td>\n",
       "      <td>64.0</td>\n",
       "      <td>91479.158982</td>\n",
       "      <td>0</td>\n",
       "      <td>3</td>\n",
       "      <td>2018</td>\n",
       "      <td>другой</td>\n",
       "      <td>15.0</td>\n",
       "    </tr>\n",
       "    <tr>\n",
       "      <th>508</th>\n",
       "      <td>0</td>\n",
       "      <td>3375000.0</td>\n",
       "      <td>34.40</td>\n",
       "      <td>2017-03-28</td>\n",
       "      <td>0</td>\n",
       "      <td>NaN</td>\n",
       "      <td>26.0</td>\n",
       "      <td>24.30</td>\n",
       "      <td>19</td>\n",
       "      <td>False</td>\n",
       "      <td>...</td>\n",
       "      <td>NaN</td>\n",
       "      <td>1.0</td>\n",
       "      <td>593.0</td>\n",
       "      <td>430.0</td>\n",
       "      <td>98110.465116</td>\n",
       "      <td>1</td>\n",
       "      <td>3</td>\n",
       "      <td>2017</td>\n",
       "      <td>другой</td>\n",
       "      <td>19.0</td>\n",
       "    </tr>\n",
       "    <tr>\n",
       "      <th>608</th>\n",
       "      <td>2</td>\n",
       "      <td>1850000.0</td>\n",
       "      <td>25.00</td>\n",
       "      <td>2019-02-20</td>\n",
       "      <td>0</td>\n",
       "      <td>NaN</td>\n",
       "      <td>10.0</td>\n",
       "      <td>NaN</td>\n",
       "      <td>7</td>\n",
       "      <td>False</td>\n",
       "      <td>...</td>\n",
       "      <td>NaN</td>\n",
       "      <td>NaN</td>\n",
       "      <td>NaN</td>\n",
       "      <td>29.0</td>\n",
       "      <td>74000.000000</td>\n",
       "      <td>2</td>\n",
       "      <td>2</td>\n",
       "      <td>2019</td>\n",
       "      <td>другой</td>\n",
       "      <td>NaN</td>\n",
       "    </tr>\n",
       "    <tr>\n",
       "      <th>...</th>\n",
       "      <td>...</td>\n",
       "      <td>...</td>\n",
       "      <td>...</td>\n",
       "      <td>...</td>\n",
       "      <td>...</td>\n",
       "      <td>...</td>\n",
       "      <td>...</td>\n",
       "      <td>...</td>\n",
       "      <td>...</td>\n",
       "      <td>...</td>\n",
       "      <td>...</td>\n",
       "      <td>...</td>\n",
       "      <td>...</td>\n",
       "      <td>...</td>\n",
       "      <td>...</td>\n",
       "      <td>...</td>\n",
       "      <td>...</td>\n",
       "      <td>...</td>\n",
       "      <td>...</td>\n",
       "      <td>...</td>\n",
       "      <td>...</td>\n",
       "    </tr>\n",
       "    <tr>\n",
       "      <th>23210</th>\n",
       "      <td>7</td>\n",
       "      <td>3200000.0</td>\n",
       "      <td>26.00</td>\n",
       "      <td>2017-09-01</td>\n",
       "      <td>0</td>\n",
       "      <td>NaN</td>\n",
       "      <td>25.0</td>\n",
       "      <td>18.00</td>\n",
       "      <td>16</td>\n",
       "      <td>False</td>\n",
       "      <td>...</td>\n",
       "      <td>NaN</td>\n",
       "      <td>1.0</td>\n",
       "      <td>623.0</td>\n",
       "      <td>14.0</td>\n",
       "      <td>123076.923077</td>\n",
       "      <td>4</td>\n",
       "      <td>9</td>\n",
       "      <td>2017</td>\n",
       "      <td>другой</td>\n",
       "      <td>13.0</td>\n",
       "    </tr>\n",
       "    <tr>\n",
       "      <th>23442</th>\n",
       "      <td>0</td>\n",
       "      <td>2500000.0</td>\n",
       "      <td>27.70</td>\n",
       "      <td>2017-09-28</td>\n",
       "      <td>0</td>\n",
       "      <td>NaN</td>\n",
       "      <td>24.0</td>\n",
       "      <td>18.00</td>\n",
       "      <td>4</td>\n",
       "      <td>False</td>\n",
       "      <td>...</td>\n",
       "      <td>NaN</td>\n",
       "      <td>NaN</td>\n",
       "      <td>NaN</td>\n",
       "      <td>4.0</td>\n",
       "      <td>90252.707581</td>\n",
       "      <td>3</td>\n",
       "      <td>9</td>\n",
       "      <td>2017</td>\n",
       "      <td>другой</td>\n",
       "      <td>NaN</td>\n",
       "    </tr>\n",
       "    <tr>\n",
       "      <th>23554</th>\n",
       "      <td>15</td>\n",
       "      <td>3350000.0</td>\n",
       "      <td>26.00</td>\n",
       "      <td>2018-09-07</td>\n",
       "      <td>0</td>\n",
       "      <td>NaN</td>\n",
       "      <td>19.0</td>\n",
       "      <td>NaN</td>\n",
       "      <td>8</td>\n",
       "      <td>False</td>\n",
       "      <td>...</td>\n",
       "      <td>NaN</td>\n",
       "      <td>2.0</td>\n",
       "      <td>112.0</td>\n",
       "      <td>31.0</td>\n",
       "      <td>128846.153846</td>\n",
       "      <td>4</td>\n",
       "      <td>9</td>\n",
       "      <td>2018</td>\n",
       "      <td>другой</td>\n",
       "      <td>17.0</td>\n",
       "    </tr>\n",
       "    <tr>\n",
       "      <th>23592</th>\n",
       "      <td>10</td>\n",
       "      <td>1450000.0</td>\n",
       "      <td>29.00</td>\n",
       "      <td>2017-11-11</td>\n",
       "      <td>0</td>\n",
       "      <td>NaN</td>\n",
       "      <td>9.0</td>\n",
       "      <td>18.00</td>\n",
       "      <td>8</td>\n",
       "      <td>False</td>\n",
       "      <td>...</td>\n",
       "      <td>NaN</td>\n",
       "      <td>NaN</td>\n",
       "      <td>NaN</td>\n",
       "      <td>82.0</td>\n",
       "      <td>50000.000000</td>\n",
       "      <td>5</td>\n",
       "      <td>11</td>\n",
       "      <td>2017</td>\n",
       "      <td>другой</td>\n",
       "      <td>NaN</td>\n",
       "    </tr>\n",
       "    <tr>\n",
       "      <th>23637</th>\n",
       "      <td>8</td>\n",
       "      <td>2350000.0</td>\n",
       "      <td>26.00</td>\n",
       "      <td>2018-06-26</td>\n",
       "      <td>0</td>\n",
       "      <td>NaN</td>\n",
       "      <td>25.0</td>\n",
       "      <td>17.00</td>\n",
       "      <td>4</td>\n",
       "      <td>False</td>\n",
       "      <td>...</td>\n",
       "      <td>NaN</td>\n",
       "      <td>NaN</td>\n",
       "      <td>NaN</td>\n",
       "      <td>207.0</td>\n",
       "      <td>90384.615385</td>\n",
       "      <td>1</td>\n",
       "      <td>6</td>\n",
       "      <td>2018</td>\n",
       "      <td>другой</td>\n",
       "      <td>NaN</td>\n",
       "    </tr>\n",
       "  </tbody>\n",
       "</table>\n",
       "<p>197 rows × 28 columns</p>\n",
       "</div>"
      ],
      "text/plain": [
       "       total_images  last_price  total_area first_day_exposition  rooms  \\\n",
       "144               1   2450000.0       27.00           2017-03-30      0   \n",
       "349               4   2320000.0       25.00           2017-09-27      0   \n",
       "440               8   2480000.0       27.11           2018-03-12      0   \n",
       "508               0   3375000.0       34.40           2017-03-28      0   \n",
       "608               2   1850000.0       25.00           2019-02-20      0   \n",
       "...             ...         ...         ...                  ...    ...   \n",
       "23210             7   3200000.0       26.00           2017-09-01      0   \n",
       "23442             0   2500000.0       27.70           2017-09-28      0   \n",
       "23554            15   3350000.0       26.00           2018-09-07      0   \n",
       "23592            10   1450000.0       29.00           2017-11-11      0   \n",
       "23637             8   2350000.0       26.00           2018-06-26      0   \n",
       "\n",
       "       ceiling_height  floors_total  living_area  floor  is_apartment  ...  \\\n",
       "144               NaN          24.0        15.50      2         False  ...   \n",
       "349               NaN          14.0        17.00      1         False  ...   \n",
       "440               NaN          17.0        24.75      4         False  ...   \n",
       "508               NaN          26.0        24.30     19         False  ...   \n",
       "608               NaN          10.0          NaN      7         False  ...   \n",
       "...               ...           ...          ...    ...           ...  ...   \n",
       "23210             NaN          25.0        18.00     16         False  ...   \n",
       "23442             NaN          24.0        18.00      4         False  ...   \n",
       "23554             NaN          19.0          NaN      8         False  ...   \n",
       "23592             NaN           9.0        18.00      8         False  ...   \n",
       "23637             NaN          25.0        17.00      4         False  ...   \n",
       "\n",
       "       parks_nearest  ponds_around3000  ponds_nearest  days_exposition  \\\n",
       "144              NaN               NaN            NaN            181.0   \n",
       "349              NaN               NaN            NaN             45.0   \n",
       "440              NaN               2.0          982.0             64.0   \n",
       "508              NaN               1.0          593.0            430.0   \n",
       "608              NaN               NaN            NaN             29.0   \n",
       "...              ...               ...            ...              ...   \n",
       "23210            NaN               1.0          623.0             14.0   \n",
       "23442            NaN               NaN            NaN              4.0   \n",
       "23554            NaN               2.0          112.0             31.0   \n",
       "23592            NaN               NaN            NaN             82.0   \n",
       "23637            NaN               NaN            NaN            207.0   \n",
       "\n",
       "      price_per_square  day_of_week  month  year  floor_type  dist_to_city  \n",
       "144       90740.740741            3      3  2017      другой           NaN  \n",
       "349       92800.000000            2      9  2017      первый           NaN  \n",
       "440       91479.158982            0      3  2018      другой          15.0  \n",
       "508       98110.465116            1      3  2017      другой          19.0  \n",
       "608       74000.000000            2      2  2019      другой           NaN  \n",
       "...                ...          ...    ...   ...         ...           ...  \n",
       "23210    123076.923077            4      9  2017      другой          13.0  \n",
       "23442     90252.707581            3      9  2017      другой           NaN  \n",
       "23554    128846.153846            4      9  2018      другой          17.0  \n",
       "23592     50000.000000            5     11  2017      другой           NaN  \n",
       "23637     90384.615385            1      6  2018      другой           NaN  \n",
       "\n",
       "[197 rows x 28 columns]"
      ]
     },
     "execution_count": 16,
     "metadata": {},
     "output_type": "execute_result"
    },
    {
     "data": {
      "image/png": "[encoded data removed]",
      "text/plain": [
       "<Figure size 432x288 with 1 Axes>"
      ]
     },
     "metadata": {
      "needs_background": "light"
     },
     "output_type": "display_data"
    }
   ],
   "source": [
    "display(data['rooms'].describe()) #кол-во комнат\n",
    "data['rooms'].hist(bins=30)\n",
    "data.query('rooms == 0')"
   ]
  },
  {
   "cell_type": "code",
   "execution_count": 17,
   "metadata": {
    "scrolled": false
   },
   "outputs": [
    {
     "data": {
      "text/plain": [
       "count    14488.000000\n",
       "mean         2.729727\n",
       "std          0.304588\n",
       "min          2.200000\n",
       "25%          2.520000\n",
       "50%          2.650000\n",
       "75%          2.800000\n",
       "max         10.300000\n",
       "Name: ceiling_height, dtype: float64"
      ]
     },
     "metadata": {},
     "output_type": "display_data"
    },
    {
     "data": {
      "text/plain": [
       "<AxesSubplot:>"
      ]
     },
     "execution_count": 17,
     "metadata": {},
     "output_type": "execute_result"
    },
    {
     "data": {
      "image/png": "[encoded data removed]",
      "text/plain": [
       "<Figure size 432x288 with 1 Axes>"
      ]
     },
     "metadata": {
      "needs_background": "light"
     },
     "output_type": "display_data"
    }
   ],
   "source": [
    "data['ceiling_height'] = data['ceiling_height'].where(data['ceiling_height'] < 10.4, data['ceiling_height'] / 10) #заменяем ошибочные значения высот на правильные\n",
    "data.loc[data['ceiling_height'] < 2.2, 'ceiling_height'] = np.nan #заменяем высоты меньше 2,2 м на значения NaN\n",
    "display(data['ceiling_height'].describe()) #высота потолка\n",
    "data['ceiling_height'].hist(bins=30)"
   ]
  },
  {
   "cell_type": "code",
   "execution_count": 18,
   "metadata": {},
   "outputs": [
    {
     "data": {
      "text/plain": [
       "count      23699\n",
       "unique         3\n",
       "top       другой\n",
       "freq       17446\n",
       "Name: floor_type, dtype: object"
      ]
     },
     "metadata": {},
     "output_type": "display_data"
    },
    {
     "data": {
      "text/plain": [
       "<AxesSubplot:>"
      ]
     },
     "execution_count": 18,
     "metadata": {},
     "output_type": "execute_result"
    },
    {
     "data": {
      "image/png": "[encoded data removed]",
      "text/plain": [
       "<Figure size 432x288 with 1 Axes>"
      ]
     },
     "metadata": {
      "needs_background": "light"
     },
     "output_type": "display_data"
    }
   ],
   "source": [
    "display(data['floor_type'].describe()) #тип этажа квартиры\n",
    "data['floor_type'].hist(bins=30)"
   ]
  },
  {
   "cell_type": "code",
   "execution_count": 19,
   "metadata": {},
   "outputs": [
    {
     "data": {
      "text/plain": [
       "count    23613.000000\n",
       "mean        10.673824\n",
       "std          6.597173\n",
       "min          1.000000\n",
       "25%          5.000000\n",
       "50%          9.000000\n",
       "75%         16.000000\n",
       "max         60.000000\n",
       "Name: floors_total, dtype: float64"
      ]
     },
     "metadata": {},
     "output_type": "display_data"
    },
    {
     "data": {
      "text/plain": [
       "<AxesSubplot:>"
      ]
     },
     "execution_count": 19,
     "metadata": {},
     "output_type": "execute_result"
    },
    {
     "data": {
      "image/png": "[encoded data removed]",
      "text/plain": [
       "<Figure size 432x288 with 1 Axes>"
      ]
     },
     "metadata": {
      "needs_background": "light"
     },
     "output_type": "display_data"
    }
   ],
   "source": [
    "display(data['floors_total'].describe()) #общее кол-во этажей\n",
    "data['floors_total'].hist(bins=30)"
   ]
  },
  {
   "cell_type": "code",
   "execution_count": 20,
   "metadata": {},
   "outputs": [
    {
     "data": {
      "text/plain": [
       "count    18180.000000\n",
       "mean     14191.277833\n",
       "std       8608.386210\n",
       "min        181.000000\n",
       "25%       9238.000000\n",
       "50%      13098.500000\n",
       "75%      16293.000000\n",
       "max      65968.000000\n",
       "Name: cityCenters_nearest, dtype: float64"
      ]
     },
     "metadata": {},
     "output_type": "display_data"
    },
    {
     "data": {
      "text/plain": [
       "<AxesSubplot:>"
      ]
     },
     "execution_count": 20,
     "metadata": {},
     "output_type": "execute_result"
    },
    {
     "data": {
      "image/png": "[encoded data removed]",
      "text/plain": [
       "<Figure size 432x288 with 1 Axes>"
      ]
     },
     "metadata": {
      "needs_background": "light"
     },
     "output_type": "display_data"
    }
   ],
   "source": [
    "display(data['cityCenters_nearest'].describe()) #расстояние до центра города в метрах\n",
    "data['cityCenters_nearest'].hist(bins=30)"
   ]
  },
  {
   "cell_type": "code",
   "execution_count": 21,
   "metadata": {},
   "outputs": [
    {
     "data": {
      "text/plain": [
       "count    8079.000000\n",
       "mean      490.804555\n",
       "std       342.317995\n",
       "min         1.000000\n",
       "25%       288.000000\n",
       "50%       455.000000\n",
       "75%       612.000000\n",
       "max      3190.000000\n",
       "Name: parks_nearest, dtype: float64"
      ]
     },
     "metadata": {},
     "output_type": "display_data"
    },
    {
     "data": {
      "text/plain": [
       "<AxesSubplot:>"
      ]
     },
     "execution_count": 21,
     "metadata": {},
     "output_type": "execute_result"
    },
    {
     "data": {
      "image/png": "[encoded data removed]",
      "text/plain": [
       "<Figure size 432x288 with 1 Axes>"
      ]
     },
     "metadata": {
      "needs_background": "light"
     },
     "output_type": "display_data"
    }
   ],
   "source": [
    "display(data['parks_nearest'].describe()) #расстояние до ближайшего парка\n",
    "data['parks_nearest'].hist(bins=30)"
   ]
  },
  {
   "cell_type": "markdown",
   "metadata": {},
   "source": [
    "1. Общая площадь: средняя больше медианы, что говорит о влиянии квартир с значительно большей площадью\n",
    "2. Жилая площидь: есть значения, которые меньше установленных ЖК РФ по жилой площади квартир -> их убираем (причины: неправильно заполненные данные)\n",
    "3. Площадь кухни: см. пункт выше\n",
    "4. Цена: аналогично пункту 1, большое влияние цен элитных квартир\n",
    "5. Кол-во комнат: квартиры с 0 комнат - это, как я понял, студии (?)\n",
    "6. Высота потолка: были обработаны аномальные значения > 10.4 м и < 2.2 м\n",
    "7. Тип этажа квартиры: первых и последних этажей +/- одинаковое кол-во\n",
    "8. Общее кол-во этажей в доме: есть два пика - 5 этажей и 9 этажей (логично: хрущевки и брежневки)\n",
    "9. Расстояние до центра города: график похож на нормальное распределение\n",
    "10. Расстояние до ближайшего парка: см. пункт выше"
   ]
  },
  {
   "cell_type": "markdown",
   "metadata": {},
   "source": [
    "#### Исследование срока с момента размещения объявления до его снятия"
   ]
  },
  {
   "cell_type": "code",
   "execution_count": 22,
   "metadata": {},
   "outputs": [
    {
     "data": {
      "text/plain": [
       "count    20518.000000\n",
       "mean       180.888634\n",
       "std        219.727988\n",
       "min          1.000000\n",
       "25%         45.000000\n",
       "50%         95.000000\n",
       "75%        232.000000\n",
       "max       1580.000000\n",
       "Name: days_exposition, dtype: float64"
      ]
     },
     "metadata": {},
     "output_type": "display_data"
    },
    {
     "data": {
      "text/plain": [
       "<AxesSubplot:>"
      ]
     },
     "execution_count": 22,
     "metadata": {},
     "output_type": "execute_result"
    },
    {
     "data": {
      "image/png": "[encoded data removed]",
      "text/plain": [
       "<Figure size 432x288 with 1 Axes>"
      ]
     },
     "metadata": {
      "needs_background": "light"
     },
     "output_type": "display_data"
    }
   ],
   "source": [
    "display(data['days_exposition'].describe()) #сколько дней было размещено объявление\n",
    "data['days_exposition'].hist(bins=30)"
   ]
  },
  {
   "cell_type": "code",
   "execution_count": 23,
   "metadata": {},
   "outputs": [
    {
     "data": {
      "text/plain": [
       "<AxesSubplot:>"
      ]
     },
     "execution_count": 23,
     "metadata": {},
     "output_type": "execute_result"
    },
    {
     "data": {
      "image/png": "[encoded data removed]",
      "text/plain": [
       "<Figure size 432x288 with 1 Axes>"
      ]
     },
     "metadata": {
      "needs_background": "light"
     },
     "output_type": "display_data"
    }
   ],
   "source": [
    "data.boxplot('days_exposition')\n",
    "#plt.show()"
   ]
  },
  {
   "cell_type": "markdown",
   "metadata": {},
   "source": [
    "Среднее арифметическое время продажи составляет полгода (180,9 дней), медиана чуть больше 3 месяцев (95 дней), если судить по диаграмме размаха, то датафрейме имеется очень много выбросов вплоть до 1600 дней. Субъективно: продать квартиру за 1-2 дня - маловероятно, эти продажи можно считать необычно быстрыми, то что больше 1,5 года - необычно долгими. Медиана более точно отражает время продажи квартиры"
   ]
  },
  {
   "cell_type": "code",
   "execution_count": 24,
   "metadata": {},
   "outputs": [
    {
     "data": {
      "text/plain": [
       "count    19028.000000\n",
       "mean       132.643578\n",
       "std        127.142251\n",
       "min          3.000000\n",
       "25%         42.000000\n",
       "50%         86.000000\n",
       "75%        188.000000\n",
       "max        547.000000\n",
       "Name: days_exposition, dtype: float64"
      ]
     },
     "execution_count": 24,
     "metadata": {},
     "output_type": "execute_result"
    }
   ],
   "source": [
    "good_data = data.query('2 < days_exposition < 547.5')\n",
    "good_data['days_exposition'].describe()"
   ]
  },
  {
   "cell_type": "markdown",
   "metadata": {},
   "source": [
    "#### Исследование факторов, влияющих на стоимость объекта"
   ]
  },
  {
   "cell_type": "code",
   "execution_count": 25,
   "metadata": {},
   "outputs": [
    {
     "data": {
      "text/plain": [
       "0.6310153165209474"
      ]
     },
     "execution_count": 25,
     "metadata": {},
     "output_type": "execute_result"
    },
    {
     "data": {
      "image/png": "[encoded data removed]",
      "text/plain": [
       "<Figure size 432x288 with 1 Axes>"
      ]
     },
     "metadata": {
      "needs_background": "light"
     },
     "output_type": "display_data"
    }
   ],
   "source": [
    "good_data.plot(x='total_area', y='last_price', kind='scatter', alpha=0.1) #зависимость цены от общей площади\n",
    "plt.xlim(0, 300)\n",
    "plt.ylim(0, 50000000)\n",
    "good_data['total_area'].corr(good_data['last_price']) #коэф. корреляции"
   ]
  },
  {
   "cell_type": "markdown",
   "metadata": {},
   "source": [
    "1. Чем больше общая площадь объекта, тем выше цена"
   ]
  },
  {
   "cell_type": "code",
   "execution_count": 26,
   "metadata": {},
   "outputs": [
    {
     "data": {
      "text/plain": [
       "0.5449128590060996"
      ]
     },
     "execution_count": 26,
     "metadata": {},
     "output_type": "execute_result"
    },
    {
     "data": {
      "image/png": "[encoded data removed]",
      "text/plain": [
       "<Figure size 432x288 with 1 Axes>"
      ]
     },
     "metadata": {
      "needs_background": "light"
     },
     "output_type": "display_data"
    }
   ],
   "source": [
    "good_data.plot(x='living_area', y='last_price', kind='scatter', alpha=0.1) #зависимость цены от жилой площади\n",
    "plt.xlim(0, 300)\n",
    "plt.ylim(0, 50000000)\n",
    "good_data['living_area'].corr(good_data['last_price']) #коэф. корреляции"
   ]
  },
  {
   "cell_type": "markdown",
   "metadata": {},
   "source": [
    "2. Чем больше жилая площадь, тем выше цена (коэф. корреляции ниже 0,54 против 0,63)"
   ]
  },
  {
   "cell_type": "code",
   "execution_count": 27,
   "metadata": {},
   "outputs": [
    {
     "data": {
      "text/plain": [
       "0.4983517942981275"
      ]
     },
     "execution_count": 27,
     "metadata": {},
     "output_type": "execute_result"
    },
    {
     "data": {
      "image/png": "[encoded data removed]",
      "text/plain": [
       "<Figure size 432x288 with 1 Axes>"
      ]
     },
     "metadata": {
      "needs_background": "light"
     },
     "output_type": "display_data"
    }
   ],
   "source": [
    "good_data.plot(x='kitchen_area', y='last_price', kind='scatter', alpha=0.1) #зависимость цены от площади кухни\n",
    "plt.xlim(0, 60)\n",
    "plt.ylim(0, 50000000)\n",
    "good_data['kitchen_area'].corr(good_data['last_price']) #коэф. корреляции"
   ]
  },
  {
   "cell_type": "markdown",
   "metadata": {},
   "source": [
    "3. Чем больше площадь кухни, тем выше цена (коэф. корреляции еще ниже - 0,5)"
   ]
  },
  {
   "cell_type": "code",
   "execution_count": 95,
   "metadata": {},
   "outputs": [
    {
     "data": {
      "text/plain": [
       "(0.0, 50000000.0)"
      ]
     },
     "execution_count": 95,
     "metadata": {},
     "output_type": "execute_result"
    },
    {
     "data": {
      "image/png": "[encoded data removed]",
      "text/plain": [
       "<Figure size 432x288 with 1 Axes>"
      ]
     },
     "metadata": {
      "needs_background": "light"
     },
     "output_type": "display_data"
    }
   ],
   "source": [
    "rooms_stat = good_data.pivot_table(index='rooms', values='last_price', aggfunc=['median', 'count']) #создаем сводную таблицу с медианным значением цены в зависимости от кол-ва комнат\n",
    "rooms_stat.columns = ['median', 'count']\n",
    "rooms_stat['median'].plot()\n",
    "plt.xlim(0, 8)\n",
    "plt.ylim(0, 50000000)\n",
    "#я не понял как сделать гистограмму где по оси x - комнаты, а по оси y - цена (ниже ситуация аналогичная)"
   ]
  },
  {
   "cell_type": "markdown",
   "metadata": {},
   "source": [
    "4. Чем больше комнат, тем выше цена (у объектов, где комнат больше 7 - малая выборка и корреляция отсутствует)"
   ]
  },
  {
   "cell_type": "code",
   "execution_count": 30,
   "metadata": {
    "scrolled": true
   },
   "outputs": [
    {
     "data": {
      "text/html": [
       "<div>\n",
       "<style scoped>\n",
       "    .dataframe tbody tr th:only-of-type {\n",
       "        vertical-align: middle;\n",
       "    }\n",
       "\n",
       "    .dataframe tbody tr th {\n",
       "        vertical-align: top;\n",
       "    }\n",
       "\n",
       "    .dataframe thead tr th {\n",
       "        text-align: left;\n",
       "    }\n",
       "\n",
       "    .dataframe thead tr:last-of-type th {\n",
       "        text-align: right;\n",
       "    }\n",
       "</style>\n",
       "<table border=\"1\" class=\"dataframe\">\n",
       "  <thead>\n",
       "    <tr>\n",
       "      <th></th>\n",
       "      <th>median</th>\n",
       "      <th>count</th>\n",
       "    </tr>\n",
       "    <tr>\n",
       "      <th></th>\n",
       "      <th>last_price</th>\n",
       "      <th>last_price</th>\n",
       "    </tr>\n",
       "    <tr>\n",
       "      <th>floor_type</th>\n",
       "      <th></th>\n",
       "      <th></th>\n",
       "    </tr>\n",
       "  </thead>\n",
       "  <tbody>\n",
       "    <tr>\n",
       "      <th>другой</th>\n",
       "      <td>4650000.0</td>\n",
       "      <td>14174</td>\n",
       "    </tr>\n",
       "    <tr>\n",
       "      <th>первый</th>\n",
       "      <td>3800000.0</td>\n",
       "      <td>2269</td>\n",
       "    </tr>\n",
       "    <tr>\n",
       "      <th>последний</th>\n",
       "      <td>4200000.0</td>\n",
       "      <td>2585</td>\n",
       "    </tr>\n",
       "  </tbody>\n",
       "</table>\n",
       "</div>"
      ],
      "text/plain": [
       "               median      count\n",
       "           last_price last_price\n",
       "floor_type                      \n",
       "другой      4650000.0      14174\n",
       "первый      3800000.0       2269\n",
       "последний   4200000.0       2585"
      ]
     },
     "execution_count": 30,
     "metadata": {},
     "output_type": "execute_result"
    }
   ],
   "source": [
    "good_data.pivot_table(index='floor_type', values='last_price', aggfunc=['median', 'count']) #создаем сводную таблицу с медианным значением цены в зависимости от типа этажа"
   ]
  },
  {
   "cell_type": "markdown",
   "metadata": {},
   "source": [
    "5. Цены объектов, которые расположены на первом и последнем этажах ниже цен на других этажах. Цены объектов на первом этаже ниже цен на последенем"
   ]
  },
  {
   "cell_type": "code",
   "execution_count": 96,
   "metadata": {},
   "outputs": [
    {
     "data": {
      "text/plain": [
       "<AxesSubplot:xlabel='day_of_week'>"
      ]
     },
     "execution_count": 96,
     "metadata": {},
     "output_type": "execute_result"
    },
    {
     "data": {
      "image/png": "[encoded data removed]",
      "text/plain": [
       "<Figure size 432x288 with 1 Axes>"
      ]
     },
     "metadata": {
      "needs_background": "light"
     },
     "output_type": "display_data"
    }
   ],
   "source": [
    "day_of_week_stat = good_data.pivot_table(index='day_of_week', values='last_price', aggfunc=['median', 'count']) #создаем сводную таблицу с медианным значением цены в зависимости от дня недели\n",
    "day_of_week_stat.columns = ['median', 'count']\n",
    "day_of_week_stat['median'].plot()"
   ]
  },
  {
   "cell_type": "markdown",
   "metadata": {},
   "source": [
    "6. Цены не зависят от дня недели размещения объявления"
   ]
  },
  {
   "cell_type": "code",
   "execution_count": 97,
   "metadata": {},
   "outputs": [
    {
     "data": {
      "text/plain": [
       "<AxesSubplot:xlabel='month'>"
      ]
     },
     "execution_count": 97,
     "metadata": {},
     "output_type": "execute_result"
    },
    {
     "data": {
      "image/png": "[encoded data removed]",
      "text/plain": [
       "<Figure size 432x288 with 1 Axes>"
      ]
     },
     "metadata": {
      "needs_background": "light"
     },
     "output_type": "display_data"
    }
   ],
   "source": [
    "month_stat = good_data.pivot_table(index='month', values='last_price', aggfunc=['median', 'count']) #создаем сводную таблицу с медианным значением цены в зависимости от месяца\n",
    "month_stat.columns = ['median', 'count']\n",
    "month_stat['median'].plot()"
   ]
  },
  {
   "cell_type": "markdown",
   "metadata": {},
   "source": [
    "7. Цены не зависят от месяца размещения объявления"
   ]
  },
  {
   "cell_type": "code",
   "execution_count": 98,
   "metadata": {},
   "outputs": [
    {
     "data": {
      "text/plain": [
       "<AxesSubplot:xlabel='year'>"
      ]
     },
     "execution_count": 98,
     "metadata": {},
     "output_type": "execute_result"
    },
    {
     "data": {
      "image/png": "[encoded data removed]",
      "text/plain": [
       "<Figure size 432x288 with 1 Axes>"
      ]
     },
     "metadata": {
      "needs_background": "light"
     },
     "output_type": "display_data"
    }
   ],
   "source": [
    "year_stat = good_data.pivot_table(index='year', values='last_price', aggfunc=['median', 'count']) #создаем сводную таблицу с медианным значением цены в зависимости от года\n",
    "year_stat.columns = ['median', 'count']\n",
    "year_stat['median'].plot()"
   ]
  },
  {
   "cell_type": "markdown",
   "metadata": {},
   "source": [
    "8. Зависимость цены от года размещения неоднозначна. В 2015 году цена самая высокая, затем произошло падение, а далее наблюдается рост цен"
   ]
  },
  {
   "cell_type": "markdown",
   "metadata": {},
   "source": [
    "#### Исследование стоимости одного кв. метра по населенным пунктам"
   ]
  },
  {
   "cell_type": "code",
   "execution_count": 54,
   "metadata": {},
   "outputs": [
    {
     "data": {
      "text/html": [
       "<div>\n",
       "<style scoped>\n",
       "    .dataframe tbody tr th:only-of-type {\n",
       "        vertical-align: middle;\n",
       "    }\n",
       "\n",
       "    .dataframe tbody tr th {\n",
       "        vertical-align: top;\n",
       "    }\n",
       "\n",
       "    .dataframe thead th {\n",
       "        text-align: right;\n",
       "    }\n",
       "</style>\n",
       "<table border=\"1\" class=\"dataframe\">\n",
       "  <thead>\n",
       "    <tr style=\"text-align: right;\">\n",
       "      <th></th>\n",
       "      <th>mean_price_per_square</th>\n",
       "      <th>median_price_per_square</th>\n",
       "      <th>count</th>\n",
       "    </tr>\n",
       "    <tr>\n",
       "      <th>locality_name</th>\n",
       "      <th></th>\n",
       "      <th></th>\n",
       "      <th></th>\n",
       "    </tr>\n",
       "  </thead>\n",
       "  <tbody>\n",
       "    <tr>\n",
       "      <th>Санкт-Петербург</th>\n",
       "      <td>111798.190559</td>\n",
       "      <td>102941.176471</td>\n",
       "      <td>12597</td>\n",
       "    </tr>\n",
       "    <tr>\n",
       "      <th>поселок Мурино</th>\n",
       "      <td>85899.102121</td>\n",
       "      <td>86171.497585</td>\n",
       "      <td>524</td>\n",
       "    </tr>\n",
       "    <tr>\n",
       "      <th>поселок Шушары</th>\n",
       "      <td>77976.127316</td>\n",
       "      <td>76125.000000</td>\n",
       "      <td>391</td>\n",
       "    </tr>\n",
       "    <tr>\n",
       "      <th>Всеволожск</th>\n",
       "      <td>68639.798593</td>\n",
       "      <td>65540.540541</td>\n",
       "      <td>309</td>\n",
       "    </tr>\n",
       "    <tr>\n",
       "      <th>Колпино</th>\n",
       "      <td>74772.126214</td>\n",
       "      <td>73728.813559</td>\n",
       "      <td>295</td>\n",
       "    </tr>\n",
       "    <tr>\n",
       "      <th>поселок Парголово</th>\n",
       "      <td>89199.549040</td>\n",
       "      <td>91243.680790</td>\n",
       "      <td>290</td>\n",
       "    </tr>\n",
       "    <tr>\n",
       "      <th>Пушкин</th>\n",
       "      <td>101679.194377</td>\n",
       "      <td>97625.329815</td>\n",
       "      <td>281</td>\n",
       "    </tr>\n",
       "    <tr>\n",
       "      <th>деревня Кудрово</th>\n",
       "      <td>92602.351164</td>\n",
       "      <td>92044.864227</td>\n",
       "      <td>272</td>\n",
       "    </tr>\n",
       "    <tr>\n",
       "      <th>Гатчина</th>\n",
       "      <td>68125.554990</td>\n",
       "      <td>67187.500000</td>\n",
       "      <td>247</td>\n",
       "    </tr>\n",
       "    <tr>\n",
       "      <th>Выборг</th>\n",
       "      <td>56980.850901</td>\n",
       "      <td>56711.711712</td>\n",
       "      <td>194</td>\n",
       "    </tr>\n",
       "  </tbody>\n",
       "</table>\n",
       "</div>"
      ],
      "text/plain": [
       "                   mean_price_per_square  median_price_per_square  count\n",
       "locality_name                                                           \n",
       "Санкт-Петербург            111798.190559            102941.176471  12597\n",
       "поселок Мурино              85899.102121             86171.497585    524\n",
       "поселок Шушары              77976.127316             76125.000000    391\n",
       "Всеволожск                  68639.798593             65540.540541    309\n",
       "Колпино                     74772.126214             73728.813559    295\n",
       "поселок Парголово           89199.549040             91243.680790    290\n",
       "Пушкин                     101679.194377             97625.329815    281\n",
       "деревня Кудрово             92602.351164             92044.864227    272\n",
       "Гатчина                     68125.554990             67187.500000    247\n",
       "Выборг                      56980.850901             56711.711712    194"
      ]
     },
     "execution_count": 54,
     "metadata": {},
     "output_type": "execute_result"
    }
   ],
   "source": [
    "locality_stat = good_data.pivot_table(index='locality_name', values='price_per_square', aggfunc=['mean', 'median', 'count'])\n",
    "locality_stat.columns = ['mean_price_per_square', 'median_price_per_square', 'count']\n",
    "locality_stat.sort_values(by='count', ascending=False).head(10)"
   ]
  },
  {
   "cell_type": "markdown",
   "metadata": {},
   "source": [
    "Самая высокая средняя цена за 1 кв. метр недвижимости среди 10 населенных пунктов с наибольшим числом объявлений в Санкт-Петербурге - 111798,2; Самая низкая стоимость за 1 кв. метр в Выборге - 56980,9"
   ]
  },
  {
   "cell_type": "markdown",
   "metadata": {},
   "source": [
    "#### Исследование стоимости квартир на разном удалении от центра"
   ]
  },
  {
   "cell_type": "code",
   "execution_count": 102,
   "metadata": {},
   "outputs": [
    {
     "data": {
      "text/html": [
       "<div>\n",
       "<style scoped>\n",
       "    .dataframe tbody tr th:only-of-type {\n",
       "        vertical-align: middle;\n",
       "    }\n",
       "\n",
       "    .dataframe tbody tr th {\n",
       "        vertical-align: top;\n",
       "    }\n",
       "\n",
       "    .dataframe thead th {\n",
       "        text-align: right;\n",
       "    }\n",
       "</style>\n",
       "<table border=\"1\" class=\"dataframe\">\n",
       "  <thead>\n",
       "    <tr style=\"text-align: right;\">\n",
       "      <th></th>\n",
       "      <th>last_price</th>\n",
       "    </tr>\n",
       "    <tr>\n",
       "      <th>dist_to_city</th>\n",
       "      <th></th>\n",
       "    </tr>\n",
       "  </thead>\n",
       "  <tbody>\n",
       "    <tr>\n",
       "      <th>0.0</th>\n",
       "      <td>2.896125e+07</td>\n",
       "    </tr>\n",
       "    <tr>\n",
       "      <th>1.0</th>\n",
       "      <td>2.011940e+07</td>\n",
       "    </tr>\n",
       "    <tr>\n",
       "      <th>2.0</th>\n",
       "      <td>1.774146e+07</td>\n",
       "    </tr>\n",
       "    <tr>\n",
       "      <th>3.0</th>\n",
       "      <td>1.003073e+07</td>\n",
       "    </tr>\n",
       "    <tr>\n",
       "      <th>4.0</th>\n",
       "      <td>1.311004e+07</td>\n",
       "    </tr>\n",
       "    <tr>\n",
       "      <th>5.0</th>\n",
       "      <td>1.350179e+07</td>\n",
       "    </tr>\n",
       "    <tr>\n",
       "      <th>6.0</th>\n",
       "      <td>1.433357e+07</td>\n",
       "    </tr>\n",
       "    <tr>\n",
       "      <th>7.0</th>\n",
       "      <td>1.282526e+07</td>\n",
       "    </tr>\n",
       "    <tr>\n",
       "      <th>8.0</th>\n",
       "      <td>9.398096e+06</td>\n",
       "    </tr>\n",
       "    <tr>\n",
       "      <th>9.0</th>\n",
       "      <td>6.596137e+06</td>\n",
       "    </tr>\n",
       "    <tr>\n",
       "      <th>10.0</th>\n",
       "      <td>6.090258e+06</td>\n",
       "    </tr>\n",
       "    <tr>\n",
       "      <th>11.0</th>\n",
       "      <td>5.881323e+06</td>\n",
       "    </tr>\n",
       "    <tr>\n",
       "      <th>12.0</th>\n",
       "      <td>5.570855e+06</td>\n",
       "    </tr>\n",
       "    <tr>\n",
       "      <th>13.0</th>\n",
       "      <td>5.888642e+06</td>\n",
       "    </tr>\n",
       "    <tr>\n",
       "      <th>14.0</th>\n",
       "      <td>5.433738e+06</td>\n",
       "    </tr>\n",
       "    <tr>\n",
       "      <th>15.0</th>\n",
       "      <td>5.543522e+06</td>\n",
       "    </tr>\n",
       "    <tr>\n",
       "      <th>16.0</th>\n",
       "      <td>5.208243e+06</td>\n",
       "    </tr>\n",
       "    <tr>\n",
       "      <th>17.0</th>\n",
       "      <td>5.091791e+06</td>\n",
       "    </tr>\n",
       "    <tr>\n",
       "      <th>18.0</th>\n",
       "      <td>5.063103e+06</td>\n",
       "    </tr>\n",
       "    <tr>\n",
       "      <th>19.0</th>\n",
       "      <td>4.888022e+06</td>\n",
       "    </tr>\n",
       "    <tr>\n",
       "      <th>20.0</th>\n",
       "      <td>5.399669e+06</td>\n",
       "    </tr>\n",
       "    <tr>\n",
       "      <th>21.0</th>\n",
       "      <td>5.128171e+06</td>\n",
       "    </tr>\n",
       "    <tr>\n",
       "      <th>22.0</th>\n",
       "      <td>5.158176e+06</td>\n",
       "    </tr>\n",
       "    <tr>\n",
       "      <th>23.0</th>\n",
       "      <td>4.586452e+06</td>\n",
       "    </tr>\n",
       "    <tr>\n",
       "      <th>24.0</th>\n",
       "      <td>3.835887e+06</td>\n",
       "    </tr>\n",
       "    <tr>\n",
       "      <th>25.0</th>\n",
       "      <td>4.052840e+06</td>\n",
       "    </tr>\n",
       "    <tr>\n",
       "      <th>26.0</th>\n",
       "      <td>3.914994e+06</td>\n",
       "    </tr>\n",
       "    <tr>\n",
       "      <th>27.0</th>\n",
       "      <td>8.300000e+06</td>\n",
       "    </tr>\n",
       "    <tr>\n",
       "      <th>28.0</th>\n",
       "      <td>5.026429e+06</td>\n",
       "    </tr>\n",
       "    <tr>\n",
       "      <th>29.0</th>\n",
       "      <td>4.050000e+06</td>\n",
       "    </tr>\n",
       "  </tbody>\n",
       "</table>\n",
       "</div>"
      ],
      "text/plain": [
       "                last_price\n",
       "dist_to_city              \n",
       "0.0           2.896125e+07\n",
       "1.0           2.011940e+07\n",
       "2.0           1.774146e+07\n",
       "3.0           1.003073e+07\n",
       "4.0           1.311004e+07\n",
       "5.0           1.350179e+07\n",
       "6.0           1.433357e+07\n",
       "7.0           1.282526e+07\n",
       "8.0           9.398096e+06\n",
       "9.0           6.596137e+06\n",
       "10.0          6.090258e+06\n",
       "11.0          5.881323e+06\n",
       "12.0          5.570855e+06\n",
       "13.0          5.888642e+06\n",
       "14.0          5.433738e+06\n",
       "15.0          5.543522e+06\n",
       "16.0          5.208243e+06\n",
       "17.0          5.091791e+06\n",
       "18.0          5.063103e+06\n",
       "19.0          4.888022e+06\n",
       "20.0          5.399669e+06\n",
       "21.0          5.128171e+06\n",
       "22.0          5.158176e+06\n",
       "23.0          4.586452e+06\n",
       "24.0          3.835887e+06\n",
       "25.0          4.052840e+06\n",
       "26.0          3.914994e+06\n",
       "27.0          8.300000e+06\n",
       "28.0          5.026429e+06\n",
       "29.0          4.050000e+06"
      ]
     },
     "metadata": {},
     "output_type": "display_data"
    },
    {
     "data": {
      "text/plain": [
       "<AxesSubplot:xlabel='dist_to_city'>"
      ]
     },
     "execution_count": 102,
     "metadata": {},
     "output_type": "execute_result"
    },
    {
     "data": {
      "image/png": "[encoded data removed]",
      "text/plain": [
       "<Figure size 432x288 with 1 Axes>"
      ]
     },
     "metadata": {
      "needs_background": "light"
     },
     "output_type": "display_data"
    }
   ],
   "source": [
    "real_estate_sp = good_data.query('locality_name == \"Санкт-Петербург\"').pivot_table(index='dist_to_city', values='last_price')\n",
    "display(real_estate_sp)\n",
    "real_estate_sp['last_price'].plot()"
   ]
  },
  {
   "cell_type": "markdown",
   "metadata": {},
   "source": [
    "Стоимость квартир снижается по мере удаления от центра города. Однако есть два пика в районе 6 км и 27 км. Возможно пики обусловлены элитными жилыми комплексами."
   ]
  },
  {
   "cell_type": "markdown",
   "metadata": {
    "id": "h7VpzkIDAwb-"
   },
   "source": [
    "### Напишите общий вывод"
   ]
  },
  {
   "cell_type": "markdown",
   "metadata": {
    "id": "3H4lnp_KAwb-"
   },
   "source": [
    "Среднее время продажи объекта недвижимости после размещения объявления составляет 95 дней. На стоимость объекта в большей степени влияет его общая площадь (коэф. корреляции 0,63), так же имеет значение жилая площадь (+ корреляция), площадь кухни (+ корреляция), кол-во комнат (с увеличением кол-ва комнат растет и цена), этаж (если это первый/последний - цена ниже). Самая высокая средняя цена за 1 кв. метр недвижимости среди 10 населенных пунктов с наибольшим числом объявлений в Санкт-Петербурге - 111798,2. Самая низкая стоимость за 1 кв. метр в Выборге - 56980,9. В Санкт-Петербурге стоимость квартир снижается по мере удаления от центра города. Однако есть два пика в районе 6 км и 27 км. Возможно, пики обусловлены элитными жилыми комплексами."
   ]
  },
  {
   "cell_type": "markdown",
   "metadata": {
    "id": "A90mc0BgAwb-"
   },
   "source": [
    "**Чек-лист готовности проекта**\n",
    "\n",
    "Поставьте 'x' в выполненных пунктах. Далее нажмите Shift+Enter."
   ]
  },
  {
   "cell_type": "markdown",
   "metadata": {
    "id": "ME3sTWm6Awb-"
   },
   "source": [
    "- [x]  Файл с данными открыт.\n",
    "- [x]  Файл с данными изучен: выведены первые строки, использован метод `info()`, построены гистограммы.\n",
    "- [x]  Найдены пропущенные значения.\n",
    "- [x]  Пропущенные значения заполнены там, где это возможно.\n",
    "- [x]  Объяснено, какие пропущенные значения обнаружены.\n",
    "- [x]  В каждом столбце установлен корректный тип данных.\n",
    "- [x]  Объяснено, в каких столбцах изменён тип данных и почему.\n",
    "- [x]  Устранены неявные дубликаты в названиях населённых пунктов.\n",
    "- [x]  Обработаны редкие и выбивающиеся значения (аномалии).\n",
    "- [x]  В таблицу добавлены новые параметры:\n",
    "       – цена одного квадратного метра;\n",
    "       – день публикации объявления (0 - понедельник, 1 - вторник и т. д.);\n",
    "       – месяц публикации объявления;\n",
    "       – год публикации объявления;\n",
    "       – тип этажа квартиры (значения — «первый», «последний», «другой»);\n",
    "       – расстояние до центра города в километрах.\n",
    "- [x]  Изучены и описаны параметры:\n",
    "        - общая площадь;\n",
    "        - жилая площадь;\n",
    "        - площадь кухни;\n",
    "        - цена объекта;\n",
    "        - количество комнат;\n",
    "        - высота потолков;\n",
    "        - тип этажа квартиры («первый», «последний», «другой»);\n",
    "        - общее количество этажей в доме;\n",
    "        - расстояние до центра города в метрах;\n",
    "        - расстояние до ближайшего парка.\n",
    "- [x]  Выполнено задание «Изучите, как быстро продавались квартиры (столбец `days_exposition`)»:\n",
    "    - построена гистограмма;\n",
    "    - рассчитаны среднее и медиана;\n",
    "    - описано, сколько обычно занимает продажа и указано, какие продажи можно считать быстрыми, а какие — необычно долгими.\n",
    "- [x]  Выполнено задание «Определите факторы, которые больше всего влияют на общую (полную) стоимость объекта». Построены графики, которые показывают зависимость цены от параметров:\n",
    "        - общая площадь;\n",
    "        - жилая площадь;\n",
    "        - площадь кухни;\n",
    "        - количество комнат;\n",
    "        - тип этажа, на котором расположена квартира (первый, последний, другой);\n",
    "        - дата размещения (день недели, месяц, год).\n",
    "- [x]  Выполнено задание «Посчитайте среднюю цену одного квадратного метра в 10 населённых пунктах с наибольшим числом объявлений»:\n",
    "    - выделены населённые пункты с самой высокой и низкой стоимостью квадратного метра.\n",
    "- [x]  Выполнено задание «Выделите квартиры в Санкт-Петербурге с помощью столбца `locality_name` и вычислите их среднюю стоимость на разном удалении от центра»:\n",
    "    -  учтён каждый километр расстояния, известны средние цены квартир в одном километре от центра, в двух и так далее;\n",
    "    -  описано, как стоимость объекта зависит от расстояния до центра города;\n",
    "    -  построен график изменения средней цены для каждого километра от центра Петербурга.\n",
    "- [x]  На каждом этапе сделаны промежуточные выводы.\n",
    "- [x]  В конце проекта сделан общий вывод."
   ]
  },
  {
   "cell_type": "code",
   "execution_count": null,
   "metadata": {},
   "outputs": [],
   "source": []
  }
 ],
 "metadata": {
  "ExecuteTimeLog": [
   {
    "duration": 657,
    "start_time": "2024-06-20T11:05:56.881Z"
   },
   {
    "duration": 71,
    "start_time": "2024-06-20T11:06:20.069Z"
   },
   {
    "duration": 66,
    "start_time": "2024-06-20T11:06:25.060Z"
   },
   {
    "duration": 83,
    "start_time": "2024-06-20T11:06:33.456Z"
   },
   {
    "duration": 101,
    "start_time": "2024-06-20T11:06:48.337Z"
   },
   {
    "duration": 13,
    "start_time": "2024-06-20T11:08:00.097Z"
   },
   {
    "duration": 59,
    "start_time": "2024-06-20T11:09:45.452Z"
   },
   {
    "duration": 1964,
    "start_time": "2024-06-20T11:11:56.368Z"
   },
   {
    "duration": 1314,
    "start_time": "2024-06-20T11:15:10.698Z"
   },
   {
    "duration": 1707,
    "start_time": "2024-06-20T11:15:20.075Z"
   },
   {
    "duration": 1868,
    "start_time": "2024-06-20T11:15:35.553Z"
   },
   {
    "duration": 1956,
    "start_time": "2024-06-20T11:15:53.842Z"
   },
   {
    "duration": 1974,
    "start_time": "2024-06-20T11:16:06.947Z"
   },
   {
    "duration": 2228,
    "start_time": "2024-06-20T11:16:26.252Z"
   },
   {
    "duration": 1558,
    "start_time": "2024-06-20T11:16:43.282Z"
   },
   {
    "duration": 5,
    "start_time": "2024-06-20T11:38:47.973Z"
   },
   {
    "duration": 3,
    "start_time": "2024-06-20T11:41:25.537Z"
   },
   {
    "duration": 4,
    "start_time": "2024-06-20T11:41:42.237Z"
   },
   {
    "duration": 4,
    "start_time": "2024-06-20T11:42:48.283Z"
   },
   {
    "duration": 5,
    "start_time": "2024-06-20T11:43:39.408Z"
   },
   {
    "duration": 4,
    "start_time": "2024-06-20T11:44:11.874Z"
   },
   {
    "duration": 5,
    "start_time": "2024-06-20T11:44:24.102Z"
   },
   {
    "duration": 6,
    "start_time": "2024-06-20T11:45:10.917Z"
   },
   {
    "duration": 5,
    "start_time": "2024-06-20T11:46:28.367Z"
   },
   {
    "duration": 7,
    "start_time": "2024-06-20T11:47:20.476Z"
   },
   {
    "duration": 4,
    "start_time": "2024-06-20T11:57:55.559Z"
   },
   {
    "duration": 4,
    "start_time": "2024-06-20T12:00:01.281Z"
   },
   {
    "duration": 64,
    "start_time": "2024-06-20T12:00:48.764Z"
   },
   {
    "duration": 66,
    "start_time": "2024-06-20T12:01:26.524Z"
   },
   {
    "duration": 31,
    "start_time": "2024-06-20T12:01:32.608Z"
   },
   {
    "duration": 51,
    "start_time": "2024-06-20T14:23:43.075Z"
   },
   {
    "duration": 32,
    "start_time": "2024-06-20T14:24:05.099Z"
   },
   {
    "duration": 10,
    "start_time": "2024-06-20T14:25:34.240Z"
   },
   {
    "duration": 30,
    "start_time": "2024-06-20T14:26:31.660Z"
   },
   {
    "duration": 31,
    "start_time": "2024-06-20T14:26:45.119Z"
   },
   {
    "duration": 3,
    "start_time": "2024-06-20T14:28:45.946Z"
   },
   {
    "duration": 31,
    "start_time": "2024-06-20T14:28:51.505Z"
   },
   {
    "duration": 31,
    "start_time": "2024-06-20T14:29:57.763Z"
   },
   {
    "duration": 36,
    "start_time": "2024-06-20T14:31:30.725Z"
   },
   {
    "duration": 6,
    "start_time": "2024-06-20T14:32:15.435Z"
   },
   {
    "duration": 8,
    "start_time": "2024-06-20T14:33:15.354Z"
   },
   {
    "duration": 3,
    "start_time": "2024-06-20T14:35:41.492Z"
   },
   {
    "duration": 29,
    "start_time": "2024-06-20T14:35:49.434Z"
   },
   {
    "duration": 55,
    "start_time": "2024-06-20T14:36:06.461Z"
   },
   {
    "duration": 43,
    "start_time": "2024-06-20T14:42:23.067Z"
   },
   {
    "duration": 38,
    "start_time": "2024-06-20T14:42:38.169Z"
   },
   {
    "duration": 6,
    "start_time": "2024-06-20T14:44:00.383Z"
   },
   {
    "duration": 53,
    "start_time": "2024-06-20T14:52:03.356Z"
   },
   {
    "duration": 28,
    "start_time": "2024-06-20T14:54:58.408Z"
   },
   {
    "duration": 30,
    "start_time": "2024-06-20T14:56:03.988Z"
   },
   {
    "duration": 46,
    "start_time": "2024-06-20T15:38:11.004Z"
   },
   {
    "duration": 20,
    "start_time": "2024-06-20T15:38:33.733Z"
   },
   {
    "duration": 35,
    "start_time": "2024-06-20T15:39:42.520Z"
   },
   {
    "duration": 72,
    "start_time": "2024-06-20T15:40:43.318Z"
   },
   {
    "duration": 14,
    "start_time": "2024-06-20T15:41:02.748Z"
   },
   {
    "duration": 209,
    "start_time": "2024-06-20T15:41:20.065Z"
   },
   {
    "duration": 11,
    "start_time": "2024-06-20T15:41:44.727Z"
   },
   {
    "duration": 38,
    "start_time": "2024-06-20T15:41:56.152Z"
   },
   {
    "duration": 15,
    "start_time": "2024-06-20T15:42:02.168Z"
   },
   {
    "duration": 34,
    "start_time": "2024-06-20T15:42:55.043Z"
   },
   {
    "duration": 8,
    "start_time": "2024-06-20T18:59:46.698Z"
   },
   {
    "duration": 12,
    "start_time": "2024-06-20T19:01:04.502Z"
   },
   {
    "duration": 148,
    "start_time": "2024-06-20T19:03:26.291Z"
   },
   {
    "duration": 20,
    "start_time": "2024-06-20T19:04:12.644Z"
   },
   {
    "duration": 36,
    "start_time": "2024-06-20T19:04:41.822Z"
   },
   {
    "duration": 18,
    "start_time": "2024-06-20T19:06:11.837Z"
   },
   {
    "duration": 35,
    "start_time": "2024-06-20T19:06:29.410Z"
   },
   {
    "duration": 19,
    "start_time": "2024-06-20T19:08:09.541Z"
   },
   {
    "duration": 6,
    "start_time": "2024-06-20T19:20:42.447Z"
   },
   {
    "duration": 7,
    "start_time": "2024-06-20T19:20:58.757Z"
   },
   {
    "duration": 7,
    "start_time": "2024-06-20T19:21:13.823Z"
   },
   {
    "duration": 8,
    "start_time": "2024-06-20T19:21:26.580Z"
   },
   {
    "duration": 6,
    "start_time": "2024-06-20T19:21:41.023Z"
   },
   {
    "duration": 7,
    "start_time": "2024-06-20T19:23:15.680Z"
   },
   {
    "duration": 6,
    "start_time": "2024-06-20T19:24:18.784Z"
   },
   {
    "duration": 6,
    "start_time": "2024-06-20T19:24:23.800Z"
   },
   {
    "duration": 5,
    "start_time": "2024-06-20T19:25:36.813Z"
   },
   {
    "duration": 4,
    "start_time": "2024-06-20T19:25:46.217Z"
   },
   {
    "duration": 6,
    "start_time": "2024-06-20T19:27:40.011Z"
   },
   {
    "duration": 7,
    "start_time": "2024-06-20T19:28:09.166Z"
   },
   {
    "duration": 4,
    "start_time": "2024-06-20T19:29:09.396Z"
   },
   {
    "duration": 21,
    "start_time": "2024-06-20T19:29:20.017Z"
   },
   {
    "duration": 3,
    "start_time": "2024-06-20T19:30:03.206Z"
   },
   {
    "duration": 8,
    "start_time": "2024-06-20T19:30:56.851Z"
   },
   {
    "duration": 6,
    "start_time": "2024-06-20T19:31:19.575Z"
   },
   {
    "duration": 4,
    "start_time": "2024-06-20T19:31:58.819Z"
   },
   {
    "duration": 4,
    "start_time": "2024-06-20T19:32:53.594Z"
   },
   {
    "duration": 13,
    "start_time": "2024-06-20T19:33:47.241Z"
   },
   {
    "duration": 25,
    "start_time": "2024-06-20T19:33:50.035Z"
   },
   {
    "duration": 13,
    "start_time": "2024-06-20T19:36:14.612Z"
   },
   {
    "duration": 20,
    "start_time": "2024-06-20T19:39:22.100Z"
   },
   {
    "duration": 13,
    "start_time": "2024-06-20T19:41:40.697Z"
   },
   {
    "duration": 14,
    "start_time": "2024-06-20T19:44:45.504Z"
   },
   {
    "duration": 27,
    "start_time": "2024-06-20T19:45:43.293Z"
   },
   {
    "duration": 13,
    "start_time": "2024-06-20T19:46:15.273Z"
   },
   {
    "duration": 11,
    "start_time": "2024-06-20T19:46:23.527Z"
   },
   {
    "duration": 16,
    "start_time": "2024-06-20T19:46:36.265Z"
   },
   {
    "duration": 21,
    "start_time": "2024-06-20T19:49:39.597Z"
   },
   {
    "duration": 27,
    "start_time": "2024-06-20T19:50:51.937Z"
   },
   {
    "duration": 17,
    "start_time": "2024-06-20T19:51:07.721Z"
   },
   {
    "duration": 445,
    "start_time": "2024-06-20T19:51:24.048Z"
   },
   {
    "duration": 15,
    "start_time": "2024-06-20T19:52:17.857Z"
   },
   {
    "duration": 14,
    "start_time": "2024-06-20T19:56:19.129Z"
   },
   {
    "duration": 11,
    "start_time": "2024-06-20T19:56:54.193Z"
   },
   {
    "duration": 15,
    "start_time": "2024-06-20T19:57:04.286Z"
   },
   {
    "duration": 16,
    "start_time": "2024-06-20T19:57:21.260Z"
   },
   {
    "duration": 16,
    "start_time": "2024-06-20T19:57:40.669Z"
   },
   {
    "duration": 458,
    "start_time": "2024-06-20T19:58:00.034Z"
   },
   {
    "duration": 13,
    "start_time": "2024-06-20T19:58:00.494Z"
   },
   {
    "duration": 1864,
    "start_time": "2024-06-20T19:58:00.508Z"
   },
   {
    "duration": 5,
    "start_time": "2024-06-20T19:58:02.373Z"
   },
   {
    "duration": 11,
    "start_time": "2024-06-20T19:58:02.379Z"
   },
   {
    "duration": 54,
    "start_time": "2024-06-20T19:58:02.391Z"
   },
   {
    "duration": 11,
    "start_time": "2024-06-20T19:58:07.583Z"
   },
   {
    "duration": 22,
    "start_time": "2024-06-21T11:09:19.607Z"
   },
   {
    "duration": 26,
    "start_time": "2024-06-21T11:11:39.234Z"
   },
   {
    "duration": 20,
    "start_time": "2024-06-21T11:19:52.614Z"
   },
   {
    "duration": 84,
    "start_time": "2024-06-21T11:20:24.875Z"
   },
   {
    "duration": 23,
    "start_time": "2024-06-21T11:21:44.211Z"
   },
   {
    "duration": 386,
    "start_time": "2024-06-21T11:22:44.805Z"
   },
   {
    "duration": 379,
    "start_time": "2024-06-21T11:22:50.274Z"
   },
   {
    "duration": 18,
    "start_time": "2024-06-21T11:23:09.828Z"
   },
   {
    "duration": 14,
    "start_time": "2024-06-21T11:23:18.479Z"
   },
   {
    "duration": 20,
    "start_time": "2024-06-21T11:23:37.080Z"
   },
   {
    "duration": 23,
    "start_time": "2024-06-21T11:24:22.330Z"
   },
   {
    "duration": 27,
    "start_time": "2024-06-21T11:25:48.770Z"
   },
   {
    "duration": 44,
    "start_time": "2024-06-21T11:26:05.773Z"
   },
   {
    "duration": 23,
    "start_time": "2024-06-21T11:27:00.297Z"
   },
   {
    "duration": 21,
    "start_time": "2024-06-21T11:27:59.348Z"
   },
   {
    "duration": 34,
    "start_time": "2024-06-21T11:28:22.566Z"
   },
   {
    "duration": 22,
    "start_time": "2024-06-21T11:28:32.352Z"
   },
   {
    "duration": 20,
    "start_time": "2024-06-21T11:28:36.023Z"
   },
   {
    "duration": 27,
    "start_time": "2024-06-21T11:28:50.766Z"
   },
   {
    "duration": 26,
    "start_time": "2024-06-21T11:29:11.506Z"
   },
   {
    "duration": 20,
    "start_time": "2024-06-21T11:31:01.811Z"
   },
   {
    "duration": 21,
    "start_time": "2024-06-21T11:31:09.940Z"
   },
   {
    "duration": 23,
    "start_time": "2024-06-21T11:32:31.894Z"
   },
   {
    "duration": 23,
    "start_time": "2024-06-21T11:32:47.666Z"
   },
   {
    "duration": 21,
    "start_time": "2024-06-21T11:32:52.865Z"
   },
   {
    "duration": 23,
    "start_time": "2024-06-21T11:33:09.804Z"
   },
   {
    "duration": 21,
    "start_time": "2024-06-21T11:34:18.047Z"
   },
   {
    "duration": 23,
    "start_time": "2024-06-21T11:34:21.041Z"
   },
   {
    "duration": 24,
    "start_time": "2024-06-21T11:35:02.034Z"
   },
   {
    "duration": 28,
    "start_time": "2024-06-21T11:48:15.174Z"
   },
   {
    "duration": 11,
    "start_time": "2024-06-21T12:09:23.871Z"
   },
   {
    "duration": 18,
    "start_time": "2024-06-21T12:14:43.210Z"
   },
   {
    "duration": 18,
    "start_time": "2024-06-21T12:24:26.051Z"
   },
   {
    "duration": 391,
    "start_time": "2024-06-21T12:24:57.005Z"
   },
   {
    "duration": 17,
    "start_time": "2024-06-21T12:25:08.459Z"
   },
   {
    "duration": 3,
    "start_time": "2024-06-21T12:27:40.396Z"
   },
   {
    "duration": 17,
    "start_time": "2024-06-21T12:27:48.901Z"
   },
   {
    "duration": 16,
    "start_time": "2024-06-21T12:28:11.782Z"
   },
   {
    "duration": 38,
    "start_time": "2024-06-21T12:36:45.661Z"
   },
   {
    "duration": 28,
    "start_time": "2024-06-21T12:37:01.279Z"
   },
   {
    "duration": 16,
    "start_time": "2024-06-21T12:42:09.028Z"
   },
   {
    "duration": 45,
    "start_time": "2024-06-21T12:42:15.583Z"
   },
   {
    "duration": 37,
    "start_time": "2024-06-21T12:47:43.185Z"
   },
   {
    "duration": 47,
    "start_time": "2024-06-21T12:47:55.172Z"
   },
   {
    "duration": 34,
    "start_time": "2024-06-21T12:48:39.964Z"
   },
   {
    "duration": 35,
    "start_time": "2024-06-21T12:49:21.431Z"
   },
   {
    "duration": 46,
    "start_time": "2024-06-21T12:51:28.120Z"
   },
   {
    "duration": 32,
    "start_time": "2024-06-21T12:51:58.611Z"
   },
   {
    "duration": 14,
    "start_time": "2024-06-21T12:52:34.172Z"
   },
   {
    "duration": 12,
    "start_time": "2024-06-21T12:52:51.656Z"
   },
   {
    "duration": 11,
    "start_time": "2024-06-21T12:55:34.249Z"
   },
   {
    "duration": 3,
    "start_time": "2024-06-21T13:01:21.966Z"
   },
   {
    "duration": 3,
    "start_time": "2024-06-21T13:01:48.880Z"
   },
   {
    "duration": 10,
    "start_time": "2024-06-21T13:06:12.474Z"
   },
   {
    "duration": 5,
    "start_time": "2024-06-21T13:06:52.614Z"
   },
   {
    "duration": 21,
    "start_time": "2024-06-21T13:07:03.193Z"
   },
   {
    "duration": 10,
    "start_time": "2024-06-21T13:10:38.303Z"
   },
   {
    "duration": 8,
    "start_time": "2024-06-21T13:10:57.728Z"
   },
   {
    "duration": 7,
    "start_time": "2024-06-21T13:17:52.938Z"
   },
   {
    "duration": 67,
    "start_time": "2024-06-21T13:18:23.144Z"
   },
   {
    "duration": 9,
    "start_time": "2024-06-21T13:18:37.973Z"
   },
   {
    "duration": 8,
    "start_time": "2024-06-21T13:23:08.344Z"
   },
   {
    "duration": 9,
    "start_time": "2024-06-21T13:23:19.150Z"
   },
   {
    "duration": 21,
    "start_time": "2024-06-21T13:25:14.345Z"
   },
   {
    "duration": 23,
    "start_time": "2024-06-21T13:28:41.800Z"
   },
   {
    "duration": 702,
    "start_time": "2024-06-21T13:39:31.032Z"
   },
   {
    "duration": 23,
    "start_time": "2024-06-21T13:41:11.371Z"
   },
   {
    "duration": 228,
    "start_time": "2024-06-21T13:41:20.318Z"
   },
   {
    "duration": 355,
    "start_time": "2024-06-21T13:42:06.480Z"
   },
   {
    "duration": 660,
    "start_time": "2024-06-21T13:42:31.134Z"
   },
   {
    "duration": 708,
    "start_time": "2024-06-21T13:43:22.904Z"
   },
   {
    "duration": 685,
    "start_time": "2024-06-21T13:43:58.888Z"
   },
   {
    "duration": 688,
    "start_time": "2024-06-21T13:44:10.396Z"
   },
   {
    "duration": 743,
    "start_time": "2024-06-21T15:24:15.594Z"
   },
   {
    "duration": 15,
    "start_time": "2024-06-21T15:24:36.002Z"
   },
   {
    "duration": 799,
    "start_time": "2024-06-21T15:25:18.492Z"
   },
   {
    "duration": 18,
    "start_time": "2024-06-21T15:25:34.088Z"
   },
   {
    "duration": 16,
    "start_time": "2024-06-21T15:29:06.212Z"
   },
   {
    "duration": 90,
    "start_time": "2024-06-21T15:29:44.316Z"
   },
   {
    "duration": 123,
    "start_time": "2024-06-21T15:31:57.528Z"
   },
   {
    "duration": 769,
    "start_time": "2024-06-21T15:33:43.592Z"
   },
   {
    "duration": 84,
    "start_time": "2024-06-21T15:33:51.262Z"
   },
   {
    "duration": 29,
    "start_time": "2024-06-21T15:34:43.886Z"
   },
   {
    "duration": 287,
    "start_time": "2024-06-21T15:35:50.059Z"
   },
   {
    "duration": 283,
    "start_time": "2024-06-21T18:40:09.489Z"
   },
   {
    "duration": 364,
    "start_time": "2024-06-21T18:40:16.954Z"
   },
   {
    "duration": 282,
    "start_time": "2024-06-21T18:40:38.341Z"
   },
   {
    "duration": 285,
    "start_time": "2024-06-21T18:42:26.882Z"
   },
   {
    "duration": 325,
    "start_time": "2024-06-21T18:42:30.954Z"
   },
   {
    "duration": 327,
    "start_time": "2024-06-21T18:42:50.714Z"
   },
   {
    "duration": 280,
    "start_time": "2024-06-21T18:42:57.102Z"
   },
   {
    "duration": 284,
    "start_time": "2024-06-21T18:43:12.425Z"
   },
   {
    "duration": 291,
    "start_time": "2024-06-21T18:47:18.454Z"
   },
   {
    "duration": 323,
    "start_time": "2024-06-21T18:47:28.279Z"
   },
   {
    "duration": 282,
    "start_time": "2024-06-21T18:47:32.669Z"
   },
   {
    "duration": 285,
    "start_time": "2024-06-21T18:47:48.687Z"
   },
   {
    "duration": 12,
    "start_time": "2024-06-21T18:48:49.887Z"
   },
   {
    "duration": 91,
    "start_time": "2024-06-21T18:51:13.466Z"
   },
   {
    "duration": 120,
    "start_time": "2024-06-21T18:51:46.872Z"
   },
   {
    "duration": 7,
    "start_time": "2024-06-21T18:52:29.626Z"
   },
   {
    "duration": 23,
    "start_time": "2024-06-21T19:51:56.413Z"
   },
   {
    "duration": 7,
    "start_time": "2024-06-21T19:53:01.584Z"
   },
   {
    "duration": 128,
    "start_time": "2024-06-21T19:53:28.796Z"
   },
   {
    "duration": 211,
    "start_time": "2024-06-21T19:53:39.426Z"
   },
   {
    "duration": 127,
    "start_time": "2024-06-21T19:53:50.392Z"
   },
   {
    "duration": 126,
    "start_time": "2024-06-21T19:54:17.573Z"
   },
   {
    "duration": 121,
    "start_time": "2024-06-21T19:54:28.032Z"
   },
   {
    "duration": 140,
    "start_time": "2024-06-21T19:54:48.245Z"
   },
   {
    "duration": 8,
    "start_time": "2024-06-21T19:58:14.203Z"
   },
   {
    "duration": 7,
    "start_time": "2024-06-21T19:58:37.204Z"
   },
   {
    "duration": 122,
    "start_time": "2024-06-21T19:59:12.919Z"
   },
   {
    "duration": 114,
    "start_time": "2024-06-21T20:00:52.432Z"
   },
   {
    "duration": 124,
    "start_time": "2024-06-21T20:01:56.865Z"
   },
   {
    "duration": 153,
    "start_time": "2024-06-21T20:03:11.603Z"
   },
   {
    "duration": 144,
    "start_time": "2024-06-21T20:03:18.704Z"
   },
   {
    "duration": 173,
    "start_time": "2024-06-21T20:03:58.473Z"
   },
   {
    "duration": 188,
    "start_time": "2024-06-21T20:05:05.444Z"
   },
   {
    "duration": 140,
    "start_time": "2024-06-21T20:05:11.181Z"
   },
   {
    "duration": 198,
    "start_time": "2024-06-21T20:05:16.840Z"
   },
   {
    "duration": 144,
    "start_time": "2024-06-21T20:05:23.155Z"
   },
   {
    "duration": 150,
    "start_time": "2024-06-21T20:06:21.498Z"
   },
   {
    "duration": 152,
    "start_time": "2024-06-21T20:07:03.238Z"
   },
   {
    "duration": 159,
    "start_time": "2024-06-21T20:07:13.071Z"
   },
   {
    "duration": 139,
    "start_time": "2024-06-21T20:07:51.611Z"
   },
   {
    "duration": 138,
    "start_time": "2024-06-21T20:08:21.692Z"
   },
   {
    "duration": 218,
    "start_time": "2024-06-21T20:08:56.289Z"
   },
   {
    "duration": 145,
    "start_time": "2024-06-21T20:09:25.284Z"
   },
   {
    "duration": 172,
    "start_time": "2024-06-21T20:12:44.381Z"
   },
   {
    "duration": 140,
    "start_time": "2024-06-21T20:15:10.365Z"
   },
   {
    "duration": 141,
    "start_time": "2024-06-21T20:15:16.187Z"
   },
   {
    "duration": 151,
    "start_time": "2024-06-21T20:17:29.691Z"
   },
   {
    "duration": 152,
    "start_time": "2024-06-21T20:18:34.806Z"
   },
   {
    "duration": 142,
    "start_time": "2024-06-21T20:19:19.407Z"
   },
   {
    "duration": 141,
    "start_time": "2024-06-21T20:20:02.016Z"
   },
   {
    "duration": 126,
    "start_time": "2024-06-21T20:23:12.997Z"
   },
   {
    "duration": 137,
    "start_time": "2024-06-21T20:23:42.242Z"
   },
   {
    "duration": 170,
    "start_time": "2024-06-21T20:24:44.087Z"
   },
   {
    "duration": 155,
    "start_time": "2024-06-21T20:24:58.584Z"
   },
   {
    "duration": 150,
    "start_time": "2024-06-21T20:27:37.167Z"
   },
   {
    "duration": 240,
    "start_time": "2024-06-21T20:30:22.280Z"
   },
   {
    "duration": 144,
    "start_time": "2024-06-21T20:31:05.588Z"
   },
   {
    "duration": 179,
    "start_time": "2024-06-22T07:59:35.353Z"
   },
   {
    "duration": 158,
    "start_time": "2024-06-22T07:59:42.287Z"
   },
   {
    "duration": 140,
    "start_time": "2024-06-22T08:05:04.826Z"
   },
   {
    "duration": 126,
    "start_time": "2024-06-22T08:05:55.412Z"
   },
   {
    "duration": 126,
    "start_time": "2024-06-22T08:06:05.921Z"
   },
   {
    "duration": 142,
    "start_time": "2024-06-22T08:07:35.471Z"
   },
   {
    "duration": 141,
    "start_time": "2024-06-22T08:08:09.675Z"
   },
   {
    "duration": 166,
    "start_time": "2024-06-22T08:09:27.920Z"
   },
   {
    "duration": 153,
    "start_time": "2024-06-22T08:09:44.204Z"
   },
   {
    "duration": 147,
    "start_time": "2024-06-22T08:11:48.127Z"
   },
   {
    "duration": 143,
    "start_time": "2024-06-22T08:12:20.817Z"
   },
   {
    "duration": 144,
    "start_time": "2024-06-22T08:13:27.765Z"
   },
   {
    "duration": 485,
    "start_time": "2024-06-22T08:14:19.767Z"
   },
   {
    "duration": 12,
    "start_time": "2024-06-22T08:14:20.253Z"
   },
   {
    "duration": 1753,
    "start_time": "2024-06-22T08:14:20.266Z"
   },
   {
    "duration": 5,
    "start_time": "2024-06-22T08:14:22.021Z"
   },
   {
    "duration": 6,
    "start_time": "2024-06-22T08:14:22.027Z"
   },
   {
    "duration": 18,
    "start_time": "2024-06-22T08:14:22.035Z"
   },
   {
    "duration": 21,
    "start_time": "2024-06-22T08:14:22.054Z"
   },
   {
    "duration": 20,
    "start_time": "2024-06-22T08:14:22.076Z"
   },
   {
    "duration": 13,
    "start_time": "2024-06-22T08:14:22.097Z"
   },
   {
    "duration": 303,
    "start_time": "2024-06-22T08:14:22.112Z"
   },
   {
    "duration": 12,
    "start_time": "2024-06-22T08:14:22.416Z"
   },
   {
    "duration": 137,
    "start_time": "2024-06-22T08:14:22.429Z"
   },
   {
    "duration": 139,
    "start_time": "2024-06-22T08:14:22.567Z"
   },
   {
    "duration": 123,
    "start_time": "2024-06-22T08:14:22.708Z"
   },
   {
    "duration": 189,
    "start_time": "2024-06-22T08:14:22.832Z"
   },
   {
    "duration": 149,
    "start_time": "2024-06-22T08:14:23.023Z"
   },
   {
    "duration": 155,
    "start_time": "2024-06-22T08:14:27.376Z"
   },
   {
    "duration": 133,
    "start_time": "2024-06-22T09:16:15.191Z"
   },
   {
    "duration": 64,
    "start_time": "2024-06-22T09:16:48.445Z"
   },
   {
    "duration": 150,
    "start_time": "2024-06-22T09:16:53.596Z"
   },
   {
    "duration": 154,
    "start_time": "2024-06-22T09:18:26.484Z"
   },
   {
    "duration": 180,
    "start_time": "2024-06-22T09:19:03.105Z"
   },
   {
    "duration": 132,
    "start_time": "2024-06-22T09:20:45.998Z"
   },
   {
    "duration": 4,
    "start_time": "2024-06-22T09:21:39.305Z"
   },
   {
    "duration": 135,
    "start_time": "2024-06-22T09:22:17.299Z"
   },
   {
    "duration": 140,
    "start_time": "2024-06-22T09:22:36.948Z"
   },
   {
    "duration": 141,
    "start_time": "2024-06-22T09:23:42.163Z"
   },
   {
    "duration": 193,
    "start_time": "2024-06-22T09:24:15.906Z"
   },
   {
    "duration": 134,
    "start_time": "2024-06-22T09:24:25.912Z"
   },
   {
    "duration": 187,
    "start_time": "2024-06-22T09:24:41.443Z"
   },
   {
    "duration": 200,
    "start_time": "2024-06-22T09:25:08.580Z"
   },
   {
    "duration": 177,
    "start_time": "2024-06-22T09:25:19.900Z"
   },
   {
    "duration": 213,
    "start_time": "2024-06-22T09:25:27.767Z"
   },
   {
    "duration": 46,
    "start_time": "2024-06-22T09:25:45.726Z"
   },
   {
    "duration": 6,
    "start_time": "2024-06-22T09:26:28.367Z"
   },
   {
    "duration": 484,
    "start_time": "2024-06-22T09:26:39.047Z"
   },
   {
    "duration": 12,
    "start_time": "2024-06-22T09:26:39.532Z"
   },
   {
    "duration": 1782,
    "start_time": "2024-06-22T09:26:39.545Z"
   },
   {
    "duration": 5,
    "start_time": "2024-06-22T09:26:41.329Z"
   },
   {
    "duration": 6,
    "start_time": "2024-06-22T09:26:41.336Z"
   },
   {
    "duration": 23,
    "start_time": "2024-06-22T09:26:41.343Z"
   },
   {
    "duration": 12,
    "start_time": "2024-06-22T09:26:41.367Z"
   },
   {
    "duration": 19,
    "start_time": "2024-06-22T09:26:41.380Z"
   },
   {
    "duration": 12,
    "start_time": "2024-06-22T09:26:41.401Z"
   },
   {
    "duration": 317,
    "start_time": "2024-06-22T09:26:41.415Z"
   },
   {
    "duration": 15,
    "start_time": "2024-06-22T09:26:41.734Z"
   },
   {
    "duration": 130,
    "start_time": "2024-06-22T09:26:41.751Z"
   },
   {
    "duration": 142,
    "start_time": "2024-06-22T09:26:41.883Z"
   },
   {
    "duration": 116,
    "start_time": "2024-06-22T09:26:42.028Z"
   },
   {
    "duration": 228,
    "start_time": "2024-06-22T09:26:42.145Z"
   },
   {
    "duration": 141,
    "start_time": "2024-06-22T09:26:42.374Z"
   },
   {
    "duration": 128,
    "start_time": "2024-06-22T09:26:50.048Z"
   },
   {
    "duration": 158,
    "start_time": "2024-06-22T09:29:55.195Z"
   },
   {
    "duration": 132,
    "start_time": "2024-06-22T09:30:01.163Z"
   },
   {
    "duration": 66,
    "start_time": "2024-06-22T09:32:51.196Z"
   },
   {
    "duration": 496,
    "start_time": "2024-06-22T09:32:58.019Z"
   },
   {
    "duration": 189,
    "start_time": "2024-06-22T09:33:53.109Z"
   },
   {
    "duration": 176,
    "start_time": "2024-06-22T09:34:14.960Z"
   },
   {
    "duration": 139,
    "start_time": "2024-06-22T09:35:12.269Z"
   },
   {
    "duration": 169,
    "start_time": "2024-06-22T09:35:50.750Z"
   },
   {
    "duration": 286,
    "start_time": "2024-06-22T09:36:28.469Z"
   },
   {
    "duration": 135,
    "start_time": "2024-06-22T09:36:49.476Z"
   },
   {
    "duration": 525,
    "start_time": "2024-06-22T09:37:21.160Z"
   },
   {
    "duration": 12,
    "start_time": "2024-06-22T09:37:21.686Z"
   },
   {
    "duration": 1764,
    "start_time": "2024-06-22T09:37:21.699Z"
   },
   {
    "duration": 4,
    "start_time": "2024-06-22T09:37:23.465Z"
   },
   {
    "duration": 6,
    "start_time": "2024-06-22T09:37:23.471Z"
   },
   {
    "duration": 19,
    "start_time": "2024-06-22T09:37:23.478Z"
   },
   {
    "duration": 11,
    "start_time": "2024-06-22T09:37:23.498Z"
   },
   {
    "duration": 19,
    "start_time": "2024-06-22T09:37:23.511Z"
   },
   {
    "duration": 14,
    "start_time": "2024-06-22T09:37:23.530Z"
   },
   {
    "duration": 313,
    "start_time": "2024-06-22T09:37:23.545Z"
   },
   {
    "duration": 20,
    "start_time": "2024-06-22T09:37:23.859Z"
   },
   {
    "duration": 131,
    "start_time": "2024-06-22T09:37:23.880Z"
   },
   {
    "duration": 135,
    "start_time": "2024-06-22T09:37:24.012Z"
   },
   {
    "duration": 123,
    "start_time": "2024-06-22T09:37:24.149Z"
   },
   {
    "duration": 200,
    "start_time": "2024-06-22T09:37:24.273Z"
   },
   {
    "duration": 152,
    "start_time": "2024-06-22T09:37:24.474Z"
   },
   {
    "duration": 133,
    "start_time": "2024-06-22T09:37:52.709Z"
   },
   {
    "duration": 71,
    "start_time": "2024-06-22T09:39:42.731Z"
   },
   {
    "duration": 15,
    "start_time": "2024-06-22T09:41:58.634Z"
   },
   {
    "duration": 126,
    "start_time": "2024-06-22T09:42:19.806Z"
   },
   {
    "duration": 121,
    "start_time": "2024-06-22T09:43:21.492Z"
   },
   {
    "duration": 135,
    "start_time": "2024-06-22T09:43:40.436Z"
   },
   {
    "duration": 162,
    "start_time": "2024-06-22T09:43:49.271Z"
   },
   {
    "duration": 148,
    "start_time": "2024-06-22T09:43:57.930Z"
   },
   {
    "duration": 853,
    "start_time": "2024-06-23T09:14:00.910Z"
   },
   {
    "duration": 18,
    "start_time": "2024-06-23T09:14:01.765Z"
   },
   {
    "duration": 2919,
    "start_time": "2024-06-23T09:14:01.786Z"
   },
   {
    "duration": 7,
    "start_time": "2024-06-23T09:14:04.708Z"
   },
   {
    "duration": 16,
    "start_time": "2024-06-23T09:14:04.717Z"
   },
   {
    "duration": 32,
    "start_time": "2024-06-23T09:14:04.735Z"
   },
   {
    "duration": 19,
    "start_time": "2024-06-23T09:14:04.769Z"
   },
   {
    "duration": 64,
    "start_time": "2024-06-23T09:14:04.791Z"
   },
   {
    "duration": 27,
    "start_time": "2024-06-23T09:14:04.857Z"
   },
   {
    "duration": 520,
    "start_time": "2024-06-23T09:14:04.886Z"
   },
   {
    "duration": 22,
    "start_time": "2024-06-23T09:14:05.409Z"
   },
   {
    "duration": 262,
    "start_time": "2024-06-23T09:14:05.434Z"
   },
   {
    "duration": 250,
    "start_time": "2024-06-23T09:14:05.699Z"
   },
   {
    "duration": 281,
    "start_time": "2024-06-23T09:14:05.952Z"
   },
   {
    "duration": 278,
    "start_time": "2024-06-23T09:14:06.235Z"
   },
   {
    "duration": 201,
    "start_time": "2024-06-23T09:14:06.515Z"
   },
   {
    "duration": 309,
    "start_time": "2024-06-23T09:15:39.841Z"
   },
   {
    "duration": 195,
    "start_time": "2024-06-23T09:16:15.269Z"
   },
   {
    "duration": 249,
    "start_time": "2024-06-23T09:16:52.279Z"
   },
   {
    "duration": 189,
    "start_time": "2024-06-23T09:22:45.198Z"
   },
   {
    "duration": 194,
    "start_time": "2024-06-23T09:23:54.218Z"
   },
   {
    "duration": 174,
    "start_time": "2024-06-23T09:25:04.097Z"
   },
   {
    "duration": 184,
    "start_time": "2024-06-23T09:26:04.021Z"
   },
   {
    "duration": 183,
    "start_time": "2024-06-23T09:27:34.877Z"
   },
   {
    "duration": 305,
    "start_time": "2024-06-23T09:29:25.492Z"
   },
   {
    "duration": 224,
    "start_time": "2024-06-23T10:16:05.632Z"
   },
   {
    "duration": 193,
    "start_time": "2024-06-23T12:00:08.526Z"
   },
   {
    "duration": 196,
    "start_time": "2024-06-23T12:05:01.073Z"
   },
   {
    "duration": 253,
    "start_time": "2024-06-23T12:06:32.181Z"
   },
   {
    "duration": 140,
    "start_time": "2024-06-23T12:07:11.125Z"
   },
   {
    "duration": 165,
    "start_time": "2024-06-23T12:07:34.106Z"
   },
   {
    "duration": 247,
    "start_time": "2024-06-23T12:08:15.288Z"
   },
   {
    "duration": 196,
    "start_time": "2024-06-23T12:08:25.479Z"
   },
   {
    "duration": 134,
    "start_time": "2024-06-23T12:09:40.713Z"
   },
   {
    "duration": 137,
    "start_time": "2024-06-23T12:09:53.201Z"
   },
   {
    "duration": 144,
    "start_time": "2024-06-23T12:22:57.173Z"
   },
   {
    "duration": 214,
    "start_time": "2024-06-23T12:23:06.804Z"
   },
   {
    "duration": 404,
    "start_time": "2024-06-23T12:28:20.989Z"
   },
   {
    "duration": 260,
    "start_time": "2024-06-23T12:29:27.531Z"
   },
   {
    "duration": 210,
    "start_time": "2024-06-23T12:29:34.754Z"
   },
   {
    "duration": 146,
    "start_time": "2024-06-23T12:33:03.293Z"
   },
   {
    "duration": 208,
    "start_time": "2024-06-23T12:33:11.835Z"
   },
   {
    "duration": 209,
    "start_time": "2024-06-23T12:33:31.481Z"
   },
   {
    "duration": 156,
    "start_time": "2024-06-23T12:34:37.390Z"
   },
   {
    "duration": 161,
    "start_time": "2024-06-23T12:34:41.008Z"
   },
   {
    "duration": 167,
    "start_time": "2024-06-23T12:34:46.334Z"
   },
   {
    "duration": 206,
    "start_time": "2024-06-23T12:34:51.849Z"
   },
   {
    "duration": 230,
    "start_time": "2024-06-23T12:35:02.078Z"
   },
   {
    "duration": 190,
    "start_time": "2024-06-23T12:35:21.184Z"
   },
   {
    "duration": 200,
    "start_time": "2024-06-23T12:35:25.282Z"
   },
   {
    "duration": 186,
    "start_time": "2024-06-23T12:35:48.694Z"
   },
   {
    "duration": 281,
    "start_time": "2024-06-23T12:36:01.204Z"
   },
   {
    "duration": 266,
    "start_time": "2024-06-23T12:36:11.673Z"
   },
   {
    "duration": 218,
    "start_time": "2024-06-23T12:36:17.316Z"
   },
   {
    "duration": 219,
    "start_time": "2024-06-23T12:36:22.689Z"
   },
   {
    "duration": 203,
    "start_time": "2024-06-23T12:36:53.194Z"
   },
   {
    "duration": 223,
    "start_time": "2024-06-23T12:37:02.444Z"
   },
   {
    "duration": 216,
    "start_time": "2024-06-23T12:37:28.254Z"
   },
   {
    "duration": 235,
    "start_time": "2024-06-23T12:40:24.654Z"
   },
   {
    "duration": 342,
    "start_time": "2024-06-23T12:40:40.602Z"
   },
   {
    "duration": 195,
    "start_time": "2024-06-23T12:41:57.693Z"
   },
   {
    "duration": 193,
    "start_time": "2024-06-23T12:42:07.474Z"
   },
   {
    "duration": 216,
    "start_time": "2024-06-23T12:42:13.075Z"
   },
   {
    "duration": 191,
    "start_time": "2024-06-23T12:42:18.171Z"
   },
   {
    "duration": 204,
    "start_time": "2024-06-23T12:42:21.704Z"
   },
   {
    "duration": 188,
    "start_time": "2024-06-23T12:42:24.590Z"
   },
   {
    "duration": 200,
    "start_time": "2024-06-23T12:42:31.672Z"
   },
   {
    "duration": 214,
    "start_time": "2024-06-23T12:42:41.228Z"
   },
   {
    "duration": 193,
    "start_time": "2024-06-23T12:47:02.840Z"
   },
   {
    "duration": 24,
    "start_time": "2024-06-23T12:56:58.434Z"
   },
   {
    "duration": 16,
    "start_time": "2024-06-23T12:57:16.874Z"
   },
   {
    "duration": 16,
    "start_time": "2024-06-23T12:59:02.012Z"
   },
   {
    "duration": 19,
    "start_time": "2024-06-23T12:59:29.990Z"
   },
   {
    "duration": 10,
    "start_time": "2024-06-23T13:01:29.419Z"
   },
   {
    "duration": 8,
    "start_time": "2024-06-23T13:01:39.066Z"
   },
   {
    "duration": 69,
    "start_time": "2024-06-23T13:01:45.934Z"
   },
   {
    "duration": 7,
    "start_time": "2024-06-23T13:01:57.354Z"
   },
   {
    "duration": 174,
    "start_time": "2024-06-23T13:02:33.830Z"
   },
   {
    "duration": 165,
    "start_time": "2024-06-23T13:03:23.251Z"
   },
   {
    "duration": 175,
    "start_time": "2024-06-23T13:03:35.892Z"
   },
   {
    "duration": 15,
    "start_time": "2024-06-23T13:04:36.463Z"
   },
   {
    "duration": 16,
    "start_time": "2024-06-23T13:05:14.771Z"
   },
   {
    "duration": 13,
    "start_time": "2024-06-23T13:05:34.919Z"
   },
   {
    "duration": 13,
    "start_time": "2024-06-23T13:05:39.096Z"
   },
   {
    "duration": 14,
    "start_time": "2024-06-23T13:05:48.903Z"
   },
   {
    "duration": 13,
    "start_time": "2024-06-23T13:06:02.599Z"
   },
   {
    "duration": 14,
    "start_time": "2024-06-23T13:06:10.995Z"
   },
   {
    "duration": 13,
    "start_time": "2024-06-23T13:06:16.493Z"
   },
   {
    "duration": 14,
    "start_time": "2024-06-23T13:11:47.593Z"
   },
   {
    "duration": 18,
    "start_time": "2024-06-23T13:11:51.175Z"
   },
   {
    "duration": 14,
    "start_time": "2024-06-23T13:11:58.170Z"
   },
   {
    "duration": 16,
    "start_time": "2024-06-23T13:12:02.400Z"
   },
   {
    "duration": 15,
    "start_time": "2024-06-23T13:12:14.461Z"
   },
   {
    "duration": 16,
    "start_time": "2024-06-23T13:12:26.737Z"
   },
   {
    "duration": 13,
    "start_time": "2024-06-23T13:13:00.546Z"
   },
   {
    "duration": 14,
    "start_time": "2024-06-23T13:14:24.981Z"
   },
   {
    "duration": 14,
    "start_time": "2024-06-23T13:14:54.556Z"
   },
   {
    "duration": 190,
    "start_time": "2024-06-23T14:35:54.902Z"
   },
   {
    "duration": 172,
    "start_time": "2024-06-23T14:38:37.158Z"
   },
   {
    "duration": 176,
    "start_time": "2024-06-23T14:40:55.921Z"
   },
   {
    "duration": 203,
    "start_time": "2024-06-23T14:41:05.793Z"
   },
   {
    "duration": 172,
    "start_time": "2024-06-23T14:41:14.264Z"
   },
   {
    "duration": 172,
    "start_time": "2024-06-23T14:41:30.214Z"
   },
   {
    "duration": 174,
    "start_time": "2024-06-23T14:42:43.515Z"
   },
   {
    "duration": 169,
    "start_time": "2024-06-23T14:42:48.352Z"
   },
   {
    "duration": 197,
    "start_time": "2024-06-23T14:43:53.155Z"
   },
   {
    "duration": 170,
    "start_time": "2024-06-23T14:43:56.954Z"
   },
   {
    "duration": 331,
    "start_time": "2024-06-23T14:44:06.228Z"
   },
   {
    "duration": 179,
    "start_time": "2024-06-23T14:44:10.936Z"
   },
   {
    "duration": 176,
    "start_time": "2024-06-23T14:45:14.387Z"
   },
   {
    "duration": 10,
    "start_time": "2024-06-23T14:51:06.832Z"
   },
   {
    "duration": 15,
    "start_time": "2024-06-23T14:51:12.965Z"
   },
   {
    "duration": 179,
    "start_time": "2024-06-23T14:52:10.602Z"
   },
   {
    "duration": 175,
    "start_time": "2024-06-23T14:52:37.035Z"
   },
   {
    "duration": 191,
    "start_time": "2024-06-23T14:52:43.747Z"
   },
   {
    "duration": 181,
    "start_time": "2024-06-23T14:55:52.200Z"
   },
   {
    "duration": 187,
    "start_time": "2024-06-23T14:56:03.268Z"
   },
   {
    "duration": 244,
    "start_time": "2024-06-23T14:56:07.821Z"
   },
   {
    "duration": 193,
    "start_time": "2024-06-23T14:56:11.957Z"
   },
   {
    "duration": 21,
    "start_time": "2024-06-23T14:57:29.940Z"
   },
   {
    "duration": 19,
    "start_time": "2024-06-23T14:57:42.841Z"
   },
   {
    "duration": 194,
    "start_time": "2024-06-23T14:57:52.934Z"
   },
   {
    "duration": 208,
    "start_time": "2024-06-23T14:58:33.030Z"
   },
   {
    "duration": 20,
    "start_time": "2024-06-23T14:58:46.838Z"
   },
   {
    "duration": 28,
    "start_time": "2024-06-23T15:00:21.900Z"
   },
   {
    "duration": 2530,
    "start_time": "2024-06-23T15:00:26.534Z"
   },
   {
    "duration": 2349,
    "start_time": "2024-06-23T15:00:44.142Z"
   },
   {
    "duration": 208,
    "start_time": "2024-06-23T15:00:57.819Z"
   },
   {
    "duration": 175,
    "start_time": "2024-06-23T15:02:20.758Z"
   },
   {
    "duration": 135,
    "start_time": "2024-06-23T15:02:29.504Z"
   },
   {
    "duration": 138,
    "start_time": "2024-06-23T15:03:30.313Z"
   },
   {
    "duration": 1146,
    "start_time": "2024-06-23T15:05:55.621Z"
   },
   {
    "duration": 14,
    "start_time": "2024-06-23T15:06:09.175Z"
   },
   {
    "duration": 1317,
    "start_time": "2024-06-23T15:06:27.808Z"
   },
   {
    "duration": 13,
    "start_time": "2024-06-23T15:06:50.131Z"
   },
   {
    "duration": 139,
    "start_time": "2024-06-23T15:15:50.187Z"
   },
   {
    "duration": 262,
    "start_time": "2024-06-23T15:17:14.590Z"
   },
   {
    "duration": 376,
    "start_time": "2024-06-23T15:17:35.076Z"
   },
   {
    "duration": 1626,
    "start_time": "2024-06-23T15:17:39.658Z"
   },
   {
    "duration": 265,
    "start_time": "2024-06-23T15:17:46.565Z"
   },
   {
    "duration": 269,
    "start_time": "2024-06-23T15:18:42.080Z"
   },
   {
    "duration": 276,
    "start_time": "2024-06-23T15:18:54.293Z"
   },
   {
    "duration": 650,
    "start_time": "2024-06-23T15:19:06.212Z"
   },
   {
    "duration": 155,
    "start_time": "2024-06-23T15:20:41.352Z"
   },
   {
    "duration": 201,
    "start_time": "2024-06-23T15:20:51.857Z"
   },
   {
    "duration": 1068,
    "start_time": "2024-06-23T15:21:02.297Z"
   },
   {
    "duration": 208,
    "start_time": "2024-06-23T15:21:15.075Z"
   },
   {
    "duration": 17,
    "start_time": "2024-06-23T15:21:28.779Z"
   },
   {
    "duration": 162,
    "start_time": "2024-06-23T15:21:51.257Z"
   },
   {
    "duration": 189,
    "start_time": "2024-06-23T15:22:02.051Z"
   },
   {
    "duration": 168,
    "start_time": "2024-06-23T15:22:17.324Z"
   },
   {
    "duration": 187,
    "start_time": "2024-06-23T15:22:26.721Z"
   },
   {
    "duration": 3,
    "start_time": "2024-06-23T15:23:37.152Z"
   },
   {
    "duration": 9,
    "start_time": "2024-06-23T15:23:42.403Z"
   },
   {
    "duration": 4,
    "start_time": "2024-06-23T15:23:44.994Z"
   },
   {
    "duration": 41,
    "start_time": "2024-06-23T15:24:05.670Z"
   },
   {
    "duration": 42,
    "start_time": "2024-06-23T15:24:32.229Z"
   },
   {
    "duration": 53,
    "start_time": "2024-06-23T15:24:37.932Z"
   },
   {
    "duration": 187,
    "start_time": "2024-06-23T15:25:07.391Z"
   },
   {
    "duration": 24,
    "start_time": "2024-06-23T15:25:17.869Z"
   },
   {
    "duration": 1207,
    "start_time": "2024-06-23T15:27:30.860Z"
   },
   {
    "duration": 1049,
    "start_time": "2024-06-23T16:54:17.881Z"
   },
   {
    "duration": 10,
    "start_time": "2024-06-23T16:58:24.728Z"
   },
   {
    "duration": 16,
    "start_time": "2024-06-23T16:58:35.986Z"
   },
   {
    "duration": 21,
    "start_time": "2024-06-23T16:59:11.083Z"
   },
   {
    "duration": 20,
    "start_time": "2024-06-23T17:01:45.616Z"
   },
   {
    "duration": 1065,
    "start_time": "2024-06-23T17:03:05.328Z"
   },
   {
    "duration": 14,
    "start_time": "2024-06-23T17:03:24.169Z"
   },
   {
    "duration": 21,
    "start_time": "2024-06-23T17:03:28.939Z"
   },
   {
    "duration": 235,
    "start_time": "2024-06-23T17:04:58.056Z"
   },
   {
    "duration": 21,
    "start_time": "2024-06-23T17:07:07.564Z"
   },
   {
    "duration": 21,
    "start_time": "2024-06-23T17:09:02.196Z"
   },
   {
    "duration": 15,
    "start_time": "2024-06-23T17:10:02.351Z"
   },
   {
    "duration": 14,
    "start_time": "2024-06-23T17:10:10.944Z"
   },
   {
    "duration": 14,
    "start_time": "2024-06-23T17:10:40.323Z"
   },
   {
    "duration": 26,
    "start_time": "2024-06-23T17:10:58.897Z"
   },
   {
    "duration": 830,
    "start_time": "2024-06-23T17:13:21.482Z"
   },
   {
    "duration": 16,
    "start_time": "2024-06-23T17:13:22.313Z"
   },
   {
    "duration": 2133,
    "start_time": "2024-06-23T17:13:22.331Z"
   },
   {
    "duration": 7,
    "start_time": "2024-06-23T17:13:24.467Z"
   },
   {
    "duration": 25,
    "start_time": "2024-06-23T17:13:24.476Z"
   },
   {
    "duration": 69,
    "start_time": "2024-06-23T17:13:24.503Z"
   },
   {
    "duration": 17,
    "start_time": "2024-06-23T17:13:24.574Z"
   },
   {
    "duration": 39,
    "start_time": "2024-06-23T17:13:24.593Z"
   },
   {
    "duration": 17,
    "start_time": "2024-06-23T17:13:24.634Z"
   },
   {
    "duration": 338,
    "start_time": "2024-06-23T17:13:24.653Z"
   },
   {
    "duration": 15,
    "start_time": "2024-06-23T17:13:24.993Z"
   },
   {
    "duration": 185,
    "start_time": "2024-06-23T17:13:25.009Z"
   },
   {
    "duration": 178,
    "start_time": "2024-06-23T17:13:25.195Z"
   },
   {
    "duration": 160,
    "start_time": "2024-06-23T17:13:25.381Z"
   },
   {
    "duration": 283,
    "start_time": "2024-06-23T17:13:25.543Z"
   },
   {
    "duration": 271,
    "start_time": "2024-06-23T17:13:25.828Z"
   },
   {
    "duration": 199,
    "start_time": "2024-06-23T17:13:26.101Z"
   },
   {
    "duration": 171,
    "start_time": "2024-06-23T17:13:26.301Z"
   },
   {
    "duration": 189,
    "start_time": "2024-06-23T17:13:26.474Z"
   },
   {
    "duration": 180,
    "start_time": "2024-06-23T17:13:26.665Z"
   },
   {
    "duration": 181,
    "start_time": "2024-06-23T17:13:26.847Z"
   },
   {
    "duration": 189,
    "start_time": "2024-06-23T17:13:27.030Z"
   },
   {
    "duration": 136,
    "start_time": "2024-06-23T17:13:27.221Z"
   },
   {
    "duration": 28,
    "start_time": "2024-06-23T17:13:27.358Z"
   },
   {
    "duration": 196,
    "start_time": "2024-06-23T17:13:27.388Z"
   },
   {
    "duration": 185,
    "start_time": "2024-06-23T17:13:27.586Z"
   },
   {
    "duration": 315,
    "start_time": "2024-06-23T17:13:27.773Z"
   },
   {
    "duration": 21,
    "start_time": "2024-06-23T17:13:28.090Z"
   },
   {
    "duration": 24,
    "start_time": "2024-06-23T17:13:34.899Z"
   },
   {
    "duration": 20,
    "start_time": "2024-06-23T17:13:52.316Z"
   },
   {
    "duration": 19,
    "start_time": "2024-06-23T17:19:32.354Z"
   },
   {
    "duration": 20,
    "start_time": "2024-06-23T17:20:16.423Z"
   },
   {
    "duration": 21,
    "start_time": "2024-06-23T17:21:01.116Z"
   },
   {
    "duration": 22,
    "start_time": "2024-06-23T17:22:01.112Z"
   },
   {
    "duration": 59,
    "start_time": "2024-06-23T17:32:17.394Z"
   },
   {
    "duration": 56,
    "start_time": "2024-06-23T17:40:06.005Z"
   },
   {
    "duration": 35,
    "start_time": "2024-06-23T17:58:52.914Z"
   },
   {
    "duration": 101,
    "start_time": "2024-06-23T17:59:49.231Z"
   },
   {
    "duration": 23,
    "start_time": "2024-06-23T18:00:03.784Z"
   },
   {
    "duration": 26,
    "start_time": "2024-06-23T18:00:14.069Z"
   },
   {
    "duration": 19,
    "start_time": "2024-06-23T18:03:57.598Z"
   },
   {
    "duration": 22,
    "start_time": "2024-06-23T18:04:59.809Z"
   },
   {
    "duration": 20,
    "start_time": "2024-06-23T18:07:03.170Z"
   },
   {
    "duration": 23,
    "start_time": "2024-06-23T18:08:10.832Z"
   },
   {
    "duration": 24,
    "start_time": "2024-06-23T18:08:17.034Z"
   },
   {
    "duration": 25,
    "start_time": "2024-06-23T18:08:23.939Z"
   },
   {
    "duration": 23,
    "start_time": "2024-06-23T18:08:32.606Z"
   },
   {
    "duration": 26,
    "start_time": "2024-06-23T18:10:45.162Z"
   },
   {
    "duration": 22,
    "start_time": "2024-06-23T18:10:54.769Z"
   },
   {
    "duration": 23,
    "start_time": "2024-06-23T18:12:13.809Z"
   },
   {
    "duration": 310,
    "start_time": "2024-06-23T18:13:12.224Z"
   },
   {
    "duration": 16,
    "start_time": "2024-06-23T18:13:14.867Z"
   },
   {
    "duration": 308,
    "start_time": "2024-06-23T18:13:28.628Z"
   },
   {
    "duration": 29,
    "start_time": "2024-06-23T18:14:09.682Z"
   },
   {
    "duration": 48,
    "start_time": "2024-06-23T18:29:10.983Z"
   },
   {
    "duration": 29,
    "start_time": "2024-06-23T18:29:34.419Z"
   },
   {
    "duration": 37,
    "start_time": "2024-06-23T18:29:52.076Z"
   },
   {
    "duration": 55,
    "start_time": "2024-06-23T18:30:09.844Z"
   },
   {
    "duration": 21,
    "start_time": "2024-06-23T18:31:52.919Z"
   },
   {
    "duration": 38,
    "start_time": "2024-06-23T18:32:34.582Z"
   },
   {
    "duration": 21,
    "start_time": "2024-06-23T18:32:38.692Z"
   },
   {
    "duration": 139,
    "start_time": "2024-06-23T18:34:20.488Z"
   },
   {
    "duration": 15,
    "start_time": "2024-06-23T18:36:42.429Z"
   },
   {
    "duration": 143,
    "start_time": "2024-06-23T18:37:07.220Z"
   },
   {
    "duration": 182,
    "start_time": "2024-06-23T18:38:26.726Z"
   },
   {
    "duration": 31,
    "start_time": "2024-06-23T18:38:51.303Z"
   },
   {
    "duration": 181,
    "start_time": "2024-06-23T18:38:58.647Z"
   },
   {
    "duration": 1115,
    "start_time": "2024-06-23T18:39:20.059Z"
   },
   {
    "duration": 20,
    "start_time": "2024-06-23T18:39:45.643Z"
   },
   {
    "duration": 21,
    "start_time": "2024-06-23T18:39:50.356Z"
   },
   {
    "duration": 23,
    "start_time": "2024-06-23T18:40:02.993Z"
   },
   {
    "duration": 170,
    "start_time": "2024-06-23T18:40:15.264Z"
   },
   {
    "duration": 153,
    "start_time": "2024-06-23T18:40:56.759Z"
   },
   {
    "duration": 189,
    "start_time": "2024-06-23T18:41:03.831Z"
   },
   {
    "duration": 8,
    "start_time": "2024-06-23T18:42:32.916Z"
   },
   {
    "duration": 16,
    "start_time": "2024-06-23T18:43:47.419Z"
   },
   {
    "duration": 149,
    "start_time": "2024-06-23T18:44:15.952Z"
   },
   {
    "duration": 139,
    "start_time": "2024-06-23T18:44:29.194Z"
   },
   {
    "duration": 149,
    "start_time": "2024-06-23T18:45:18.748Z"
   },
   {
    "duration": 157,
    "start_time": "2024-06-23T18:45:49.758Z"
   },
   {
    "duration": 140,
    "start_time": "2024-06-23T18:45:58.333Z"
   },
   {
    "duration": 139,
    "start_time": "2024-06-23T18:46:10.231Z"
   },
   {
    "duration": 146,
    "start_time": "2024-06-23T18:46:13.557Z"
   },
   {
    "duration": 154,
    "start_time": "2024-06-23T18:46:24.393Z"
   },
   {
    "duration": 156,
    "start_time": "2024-06-23T18:46:28.975Z"
   },
   {
    "duration": 300,
    "start_time": "2024-06-23T18:46:32.321Z"
   },
   {
    "duration": 136,
    "start_time": "2024-06-23T18:46:38.308Z"
   },
   {
    "duration": 148,
    "start_time": "2024-06-23T18:46:43.601Z"
   },
   {
    "duration": 159,
    "start_time": "2024-06-23T18:46:48.039Z"
   },
   {
    "duration": 154,
    "start_time": "2024-06-23T18:47:06.405Z"
   },
   {
    "duration": 163,
    "start_time": "2024-06-23T18:47:16.859Z"
   },
   {
    "duration": 143,
    "start_time": "2024-06-23T18:47:20.692Z"
   },
   {
    "duration": 146,
    "start_time": "2024-06-23T18:47:34.397Z"
   },
   {
    "duration": 162,
    "start_time": "2024-06-23T18:48:06.905Z"
   },
   {
    "duration": 152,
    "start_time": "2024-06-23T18:48:47.015Z"
   },
   {
    "duration": 151,
    "start_time": "2024-06-23T18:50:23.889Z"
   },
   {
    "duration": 143,
    "start_time": "2024-06-23T18:51:58.759Z"
   },
   {
    "duration": 146,
    "start_time": "2024-06-23T18:53:00.075Z"
   },
   {
    "duration": 146,
    "start_time": "2024-06-23T19:01:57.360Z"
   },
   {
    "duration": 134,
    "start_time": "2024-06-23T19:02:19.743Z"
   },
   {
    "duration": 19,
    "start_time": "2024-06-23T19:02:28.870Z"
   },
   {
    "duration": 169,
    "start_time": "2024-06-23T19:02:34.371Z"
   },
   {
    "duration": 60,
    "start_time": "2024-06-25T11:31:07.018Z"
   },
   {
    "duration": 870,
    "start_time": "2024-06-25T11:31:20.832Z"
   },
   {
    "duration": 261,
    "start_time": "2024-06-25T11:31:21.708Z"
   },
   {
    "duration": 20,
    "start_time": "2024-06-25T11:31:21.970Z"
   },
   {
    "duration": 2233,
    "start_time": "2024-06-25T11:31:21.992Z"
   },
   {
    "duration": 26,
    "start_time": "2024-06-25T11:31:28.433Z"
   },
   {
    "duration": 53,
    "start_time": "2024-06-25T11:32:17.235Z"
   },
   {
    "duration": 23,
    "start_time": "2024-06-25T11:32:55.729Z"
   },
   {
    "duration": 5,
    "start_time": "2024-06-25T11:34:31.558Z"
   },
   {
    "duration": 6,
    "start_time": "2024-06-25T11:35:07.294Z"
   },
   {
    "duration": 23,
    "start_time": "2024-06-25T11:35:21.512Z"
   },
   {
    "duration": 1207,
    "start_time": "2024-06-25T11:36:20.605Z"
   },
   {
    "duration": 1171,
    "start_time": "2024-06-25T11:36:29.767Z"
   },
   {
    "duration": 10,
    "start_time": "2024-06-25T11:36:56.245Z"
   },
   {
    "duration": 6,
    "start_time": "2024-06-25T11:37:02.052Z"
   },
   {
    "duration": 1071,
    "start_time": "2024-06-25T11:37:33.215Z"
   },
   {
    "duration": 1092,
    "start_time": "2024-06-25T11:37:44.903Z"
   },
   {
    "duration": 1100,
    "start_time": "2024-06-25T11:38:42.365Z"
   },
   {
    "duration": 1200,
    "start_time": "2024-06-25T11:39:06.442Z"
   },
   {
    "duration": 1058,
    "start_time": "2024-06-25T11:39:14.228Z"
   },
   {
    "duration": 88,
    "start_time": "2024-06-25T11:39:21.733Z"
   },
   {
    "duration": 7,
    "start_time": "2024-06-25T11:39:24.831Z"
   },
   {
    "duration": 5,
    "start_time": "2024-06-25T11:39:30.823Z"
   },
   {
    "duration": 4,
    "start_time": "2024-06-25T11:39:54.979Z"
   },
   {
    "duration": 6,
    "start_time": "2024-06-25T12:47:09.231Z"
   },
   {
    "duration": 5,
    "start_time": "2024-06-25T12:47:41.902Z"
   },
   {
    "duration": 25,
    "start_time": "2024-06-25T13:02:07.850Z"
   },
   {
    "duration": 11,
    "start_time": "2024-06-25T13:17:10.820Z"
   },
   {
    "duration": 12,
    "start_time": "2024-06-25T13:17:16.844Z"
   },
   {
    "duration": 9,
    "start_time": "2024-06-25T13:20:23.719Z"
   },
   {
    "duration": 11,
    "start_time": "2024-06-25T13:20:38.678Z"
   },
   {
    "duration": 95,
    "start_time": "2024-06-25T13:21:22.994Z"
   },
   {
    "duration": 94,
    "start_time": "2024-06-25T13:21:34.845Z"
   },
   {
    "duration": 12,
    "start_time": "2024-06-25T13:21:55.321Z"
   },
   {
    "duration": 13,
    "start_time": "2024-06-25T13:22:08.378Z"
   },
   {
    "duration": 11,
    "start_time": "2024-06-25T13:22:20.546Z"
   },
   {
    "duration": 11,
    "start_time": "2024-06-25T13:23:35.584Z"
   },
   {
    "duration": 14,
    "start_time": "2024-06-25T13:23:51.719Z"
   },
   {
    "duration": 11,
    "start_time": "2024-06-25T13:24:51.043Z"
   },
   {
    "duration": 11,
    "start_time": "2024-06-25T13:24:59.503Z"
   },
   {
    "duration": 12,
    "start_time": "2024-06-25T13:25:26.621Z"
   },
   {
    "duration": 13,
    "start_time": "2024-06-25T13:25:30.016Z"
   },
   {
    "duration": 12,
    "start_time": "2024-06-25T13:25:33.609Z"
   },
   {
    "duration": 12,
    "start_time": "2024-06-25T13:25:35.637Z"
   },
   {
    "duration": 13,
    "start_time": "2024-06-25T13:25:37.824Z"
   },
   {
    "duration": 12,
    "start_time": "2024-06-25T13:25:43.560Z"
   },
   {
    "duration": 22,
    "start_time": "2024-06-25T15:56:19.439Z"
   }
  ],
  "colab": {
   "provenance": []
  },
  "kernelspec": {
   "display_name": "Python 3 (ipykernel)",
   "language": "python",
   "name": "python3"
  },
  "language_info": {
   "codemirror_mode": {
    "name": "ipython",
    "version": 3
   },
   "file_extension": ".py",
   "mimetype": "text/x-python",
   "name": "python",
   "nbconvert_exporter": "python",
   "pygments_lexer": "ipython3",
   "version": "3.9.5"
  },
  "toc": {
   "base_numbering": 1,
   "nav_menu": {
    "height": "139.4px",
    "width": "389.8px"
   },
   "number_sections": true,
   "sideBar": true,
   "skip_h1_title": true,
   "title_cell": "Table of Contents",
   "title_sidebar": "Contents",
   "toc_cell": false,
   "toc_position": {},
   "toc_section_display": true,
   "toc_window_display": false
  }
 },
 "nbformat": 4,
 "nbformat_minor": 1
}
