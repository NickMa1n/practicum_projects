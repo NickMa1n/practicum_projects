{
 "cells": [
  {
   "cell_type": "markdown",
   "metadata": {
    "toc": true
   },
   "source": [
    "<h1>Содержание<span class=\"tocSkip\"></span></h1>\n",
    "<div class=\"toc\"><ul class=\"toc-item\"><li><span><a href=\"#Подготовка\" data-toc-modified-id=\"Подготовка-1\"><span class=\"toc-item-num\">1&nbsp;&nbsp;</span>Подготовка</a></span></li><li><span><a href=\"#Обучение\" data-toc-modified-id=\"Обучение-2\"><span class=\"toc-item-num\">2&nbsp;&nbsp;</span>Обучение</a></span></li><li><span><a href=\"#Выводы\" data-toc-modified-id=\"Выводы-3\"><span class=\"toc-item-num\">3&nbsp;&nbsp;</span>Выводы</a></span></li><li><span><a href=\"#Чек-лист-проверки\" data-toc-modified-id=\"Чек-лист-проверки-4\"><span class=\"toc-item-num\">4&nbsp;&nbsp;</span>Чек-лист проверки</a></span></li></ul></div>"
   ]
  },
  {
   "cell_type": "markdown",
   "metadata": {},
   "source": [
    "# Проект для «Викишоп»"
   ]
  },
  {
   "cell_type": "markdown",
   "metadata": {},
   "source": [
    "Интернет-магазин «Викишоп» запускает новый сервис. Теперь пользователи могут редактировать и дополнять описания товаров, как в вики-сообществах. То есть клиенты предлагают свои правки и комментируют изменения других. Магазину нужен инструмент, который будет искать токсичные комментарии и отправлять их на модерацию. \n",
    "\n",
    "Обучите модель классифицировать комментарии на позитивные и негативные. В вашем распоряжении набор данных с разметкой о токсичности правок.\n",
    "\n",
    "Постройте модель со значением метрики качества *F1* не меньше 0.75. \n",
    "\n",
    "**Инструкция по выполнению проекта**\n",
    "\n",
    "1. Загрузите и подготовьте данные.\n",
    "2. Обучите разные модели. \n",
    "3. Сделайте выводы.\n",
    "\n",
    "Для выполнения проекта применять *BERT* необязательно, но вы можете попробовать.\n",
    "\n",
    "**Описание данных**\n",
    "\n",
    "Данные находятся в файле `toxic_comments.csv`. Столбец *text* в нём содержит текст комментария, а *toxic* — целевой признак."
   ]
  },
  {
   "cell_type": "code",
   "execution_count": 30,
   "metadata": {},
   "outputs": [],
   "source": [
    "import warnings\n",
    "warnings.filterwarnings('ignore')\n",
    "from time import time\n",
    "\n",
    "import pandas as pd\n",
    "import numpy as np\n",
    "import re\n",
    "import nltk\n",
    "#from nltk.stem import WordNetLemmatizer\n",
    "#from nltk.tokenize import word_tokenize\n",
    "from nltk.corpus import stopwords\n",
    "import spacy\n",
    "from tqdm import tqdm\n",
    "tqdm.pandas()\n",
    "from sklearn.pipeline import Pipeline\n",
    "from sklearn.model_selection import train_test_split, RandomizedSearchCV\n",
    "from sklearn.feature_extraction.text import TfidfVectorizer\n",
    "from sklearn.linear_model import LogisticRegression\n",
    "from catboost import CatBoostClassifier\n",
    "from sklearn.metrics import f1_score"
   ]
  },
  {
   "cell_type": "code",
   "execution_count": 16,
   "metadata": {},
   "outputs": [
    {
     "name": "stderr",
     "output_type": "stream",
     "text": [
      "[nltk_data] Downloading package stopwords to /home/jovyan/nltk_data...\n",
      "[nltk_data]   Package stopwords is already up-to-date!\n",
      "[nltk_data] Downloading package punkt to /home/jovyan/nltk_data...\n",
      "[nltk_data]   Package punkt is already up-to-date!\n",
      "[nltk_data] Downloading package wordnet to /home/jovyan/nltk_data...\n",
      "[nltk_data]   Package wordnet is already up-to-date!\n"
     ]
    }
   ],
   "source": [
    "pd.set_option('display.max_colwidth', None)\n",
    "nltk.download('stopwords')\n",
    "nltk.download('punkt')  \n",
    "nltk.download('wordnet')\n",
    "nlp = spacy.load('en_core_web_sm')"
   ]
  },
  {
   "cell_type": "markdown",
   "metadata": {},
   "source": [
    "## Подготовка"
   ]
  },
  {
   "cell_type": "code",
   "execution_count": 19,
   "metadata": {},
   "outputs": [
    {
     "name": "stdout",
     "output_type": "stream",
     "text": [
      "<class 'pandas.core.frame.DataFrame'>\n",
      "RangeIndex: 159292 entries, 0 to 159291\n",
      "Data columns (total 3 columns):\n",
      " #   Column      Non-Null Count   Dtype \n",
      "---  ------      --------------   ----- \n",
      " 0   Unnamed: 0  159292 non-null  int64 \n",
      " 1   text        159292 non-null  object\n",
      " 2   toxic       159292 non-null  int64 \n",
      "dtypes: int64(2), object(1)\n",
      "memory usage: 3.6+ MB\n"
     ]
    },
    {
     "data": {
      "text/html": [
       "<div>\n",
       "<style scoped>\n",
       "    .dataframe tbody tr th:only-of-type {\n",
       "        vertical-align: middle;\n",
       "    }\n",
       "\n",
       "    .dataframe tbody tr th {\n",
       "        vertical-align: top;\n",
       "    }\n",
       "\n",
       "    .dataframe thead th {\n",
       "        text-align: right;\n",
       "    }\n",
       "</style>\n",
       "<table border=\"1\" class=\"dataframe\">\n",
       "  <thead>\n",
       "    <tr style=\"text-align: right;\">\n",
       "      <th></th>\n",
       "      <th>Unnamed: 0</th>\n",
       "      <th>text</th>\n",
       "      <th>toxic</th>\n",
       "    </tr>\n",
       "  </thead>\n",
       "  <tbody>\n",
       "    <tr>\n",
       "      <th>0</th>\n",
       "      <td>0</td>\n",
       "      <td>Explanation\\nWhy the edits made under my username Hardcore Metallica Fan were reverted? They weren't vandalisms, just closure on some GAs after I voted at New York Dolls FAC. And please don't remove the template from the talk page since I'm retired now.89.205.38.27</td>\n",
       "      <td>0</td>\n",
       "    </tr>\n",
       "    <tr>\n",
       "      <th>1</th>\n",
       "      <td>1</td>\n",
       "      <td>D'aww! He matches this background colour I'm seemingly stuck with. Thanks.  (talk) 21:51, January 11, 2016 (UTC)</td>\n",
       "      <td>0</td>\n",
       "    </tr>\n",
       "    <tr>\n",
       "      <th>2</th>\n",
       "      <td>2</td>\n",
       "      <td>Hey man, I'm really not trying to edit war. It's just that this guy is constantly removing relevant information and talking to me through edits instead of my talk page. He seems to care more about the formatting than the actual info.</td>\n",
       "      <td>0</td>\n",
       "    </tr>\n",
       "    <tr>\n",
       "      <th>3</th>\n",
       "      <td>3</td>\n",
       "      <td>\"\\nMore\\nI can't make any real suggestions on improvement - I wondered if the section statistics should be later on, or a subsection of \"\"types of accidents\"\"  -I think the references may need tidying so that they are all in the exact same format ie date format etc. I can do that later on, if no-one else does first - if you have any preferences for formatting style on references or want to do it yourself please let me know.\\n\\nThere appears to be a backlog on articles for review so I guess there may be a delay until a reviewer turns up. It's listed in the relevant form eg Wikipedia:Good_article_nominations#Transport  \"</td>\n",
       "      <td>0</td>\n",
       "    </tr>\n",
       "    <tr>\n",
       "      <th>4</th>\n",
       "      <td>4</td>\n",
       "      <td>You, sir, are my hero. Any chance you remember what page that's on?</td>\n",
       "      <td>0</td>\n",
       "    </tr>\n",
       "  </tbody>\n",
       "</table>\n",
       "</div>"
      ],
      "text/plain": [
       "   Unnamed: 0  \\\n",
       "0           0   \n",
       "1           1   \n",
       "2           2   \n",
       "3           3   \n",
       "4           4   \n",
       "\n",
       "                                                                                                                                                                                                                                                                                                                                                                                                                                                                                                                                                                                                                                                 text  \\\n",
       "0                                                                                                                                                                                                                                                                                                                                                                           Explanation\\nWhy the edits made under my username Hardcore Metallica Fan were reverted? They weren't vandalisms, just closure on some GAs after I voted at New York Dolls FAC. And please don't remove the template from the talk page since I'm retired now.89.205.38.27   \n",
       "1                                                                                                                                                                                                                                                                                                                                                                                                                                                                                                                                    D'aww! He matches this background colour I'm seemingly stuck with. Thanks.  (talk) 21:51, January 11, 2016 (UTC)   \n",
       "2                                                                                                                                                                                                                                                                                                                                                                                                           Hey man, I'm really not trying to edit war. It's just that this guy is constantly removing relevant information and talking to me through edits instead of my talk page. He seems to care more about the formatting than the actual info.   \n",
       "3  \"\\nMore\\nI can't make any real suggestions on improvement - I wondered if the section statistics should be later on, or a subsection of \"\"types of accidents\"\"  -I think the references may need tidying so that they are all in the exact same format ie date format etc. I can do that later on, if no-one else does first - if you have any preferences for formatting style on references or want to do it yourself please let me know.\\n\\nThere appears to be a backlog on articles for review so I guess there may be a delay until a reviewer turns up. It's listed in the relevant form eg Wikipedia:Good_article_nominations#Transport  \"   \n",
       "4                                                                                                                                                                                                                                                                                                                                                                                                                                                                                                                                                                                 You, sir, are my hero. Any chance you remember what page that's on?   \n",
       "\n",
       "   toxic  \n",
       "0      0  \n",
       "1      0  \n",
       "2      0  \n",
       "3      0  \n",
       "4      0  "
      ]
     },
     "execution_count": 19,
     "metadata": {},
     "output_type": "execute_result"
    }
   ],
   "source": [
    "comments_df = pd.read_csv('/datasets/toxic_comments.csv')\n",
    "comments_df.info()\n",
    "comments_df.head()"
   ]
  },
  {
   "cell_type": "code",
   "execution_count": 20,
   "metadata": {},
   "outputs": [
    {
     "data": {
      "text/plain": [
       "0    143106\n",
       "1     16186\n",
       "Name: toxic, dtype: int64"
      ]
     },
     "execution_count": 20,
     "metadata": {},
     "output_type": "execute_result"
    }
   ],
   "source": [
    "comments_df['toxic'].value_counts()"
   ]
  },
  {
   "cell_type": "markdown",
   "metadata": {},
   "source": [
    "\"Токсичных\" комментариев почти в 10 раз меньше"
   ]
  },
  {
   "cell_type": "code",
   "execution_count": 21,
   "metadata": {},
   "outputs": [],
   "source": [
    "#не уверен, что английский язык нуждается в лемматизации...\n",
    "#создадим функцию лемматизации и удаления избыточных символов\n",
    "'''\n",
    "def clear_text(text):\n",
    "    text = \" \".join(re.sub(r'[^a-zA-Z\\']', ' ', text).split())\n",
    "    lemma = WordNetLemmatizer()\n",
    "    words = word_tokenize(text)\n",
    "    lemm_list = [lemma.lemmatize(word) for word in words]\n",
    "    lemm_text = \" \".join(lemm_list)\n",
    "    return lemm_text\n",
    "'''\n",
    "\n",
    "def clear_text(text):\n",
    "    text = \" \".join(re.sub(r'[^a-zA-Z\\']', ' ', text).split())\n",
    "    doc = nlp(text)\n",
    "    lemm_text = \" \".join([token.lemma_ for token in doc])\n",
    "    return lemm_text\n"
   ]
  },
  {
   "cell_type": "code",
   "execution_count": 22,
   "metadata": {},
   "outputs": [
    {
     "name": "stdout",
     "output_type": "stream",
     "text": [
      "Исходный текст:\n",
      " Explanation\n",
      "Why the edits made under my username Hardcore Metallica Fan were reverted? They weren't vandalisms, just closure on some GAs after I voted at New York Dolls FAC. And please don't remove the template from the talk page since I'm retired now.89.205.38.27\n",
      "\n",
      "Текст после лемматизации и обработки:\n",
      " explanation why the edit make under my username Hardcore Metallica Fan be revert they be not vandalism just closure on some gas after I vote at New York Dolls FAC and please do not remove the template from the talk page since I be retire now\n"
     ]
    }
   ],
   "source": [
    "print('Исходный текст:\\n', comments_df['text'][0])\n",
    "print()\n",
    "print('Текст после лемматизации и обработки:\\n', clear_text(comments_df['text'][0]))"
   ]
  },
  {
   "cell_type": "code",
   "execution_count": 44,
   "metadata": {},
   "outputs": [
    {
     "name": "stdout",
     "output_type": "stream",
     "text": [
      "                                                  text\n",
      "0  The striped bats are hanging on their feet for best\n",
      "1        you should be ashamed of yourself went worked\n",
      "0    the stripe bat be hang on their foot for good\n",
      "1        you should be ashamed of yourself go work\n",
      "Name: text, dtype: object\n"
     ]
    }
   ],
   "source": [
    "sentence1 = \"The striped bats are hanging on their feet for best\"\n",
    "sentence2 = \"you should be ashamed of yourself went worked\"\n",
    "df_my = pd.DataFrame([sentence1, sentence2], columns = ['text'])\n",
    "print(df_my)\n",
    "\n",
    "\n",
    "print(df_my['text'].apply(clear_text))"
   ]
  },
  {
   "cell_type": "code",
   "execution_count": 26,
   "metadata": {},
   "outputs": [
    {
     "name": "stderr",
     "output_type": "stream",
     "text": [
      "100%|██████████| 159292/159292 [32:56<00:00, 80.59it/s] \n"
     ]
    }
   ],
   "source": [
    "comments_df['text'] = comments_df['text'].progress_apply(clear_text)"
   ]
  },
  {
   "cell_type": "code",
   "execution_count": 28,
   "metadata": {},
   "outputs": [],
   "source": [
    "#разделим выборку на тренировочную и тестовую\n",
    "RANDOM_STATE = 42\n",
    "TEST_SIZE = 0.25\n",
    "X = comments_df['text']\n",
    "y = comments_df['toxic']\n",
    "X_train, X_test, y_train, y_test = train_test_split(X, y, test_size=TEST_SIZE, random_state=RANDOM_STATE, stratify=y)"
   ]
  },
  {
   "cell_type": "code",
   "execution_count": 29,
   "metadata": {},
   "outputs": [],
   "source": [
    "#инициализируем счетчик с указанием стоп-слов\n",
    "stopwords = set(stopwords.words('english'))\n",
    "\n",
    "count_tf_idf = TfidfVectorizer(stop_words=stopwords)"
   ]
  },
  {
   "cell_type": "markdown",
   "metadata": {},
   "source": [
    "На этапе подготовки данных загрузили данные, создали функцию лемматизации и очистки текста от ненужных символов, применили функцию к корпусу текстов, разделили выборку на тренировочную и тестовую"
   ]
  },
  {
   "cell_type": "markdown",
   "metadata": {},
   "source": [
    "## Обучение"
   ]
  },
  {
   "cell_type": "code",
   "execution_count": 49,
   "metadata": {},
   "outputs": [],
   "source": [
    "def ml_search(model, params):\n",
    "    pipe = Pipeline(steps=[\n",
    "        ('tfidf', count_tf_idf),\n",
    "        ('model', model)\n",
    "    ])\n",
    "    rnd = RandomizedSearchCV(pipe, param_distributions=params, scoring='f1', n_jobs=-1)\n",
    "    rnd.fit(X_train, y_train)\n",
    "    print('Лучший результат:', rnd.best_score_)\n",
    "    print('Лучшие параметры:', rnd.best_params_)\n",
    "    return rnd"
   ]
  },
  {
   "cell_type": "code",
   "execution_count": 50,
   "metadata": {},
   "outputs": [
    {
     "name": "stdout",
     "output_type": "stream",
     "text": [
      "Лучший результат: 0.7764318994886119\n",
      "Лучшие параметры: {'model__penalty': 'l2', 'model__C': 15}\n",
      "Время выполнения функции 20.66081416606903 мин\n"
     ]
    }
   ],
   "source": [
    "start = time()\n",
    "logistic = ml_search(\n",
    "    LogisticRegression(),\n",
    "    {\n",
    "        'model__C': [5, 10, 15],\n",
    "        'model__penalty': ['none', 'l2']\n",
    "    }\n",
    ")\n",
    "end = time()\n",
    "print(f'Время выполнения функции {(end - start)/60} мин')"
   ]
  },
  {
   "cell_type": "code",
   "execution_count": 51,
   "metadata": {},
   "outputs": [
    {
     "name": "stdout",
     "output_type": "stream",
     "text": [
      "Лучший результат: 0.6078873715761742\n",
      "Лучшие параметры: {'model__learning_rate': 0.1, 'model__iterations': 50, 'model__depth': 6}\n",
      "Время выполнения функции 53.19417901039124 мин\n"
     ]
    }
   ],
   "source": [
    "start = time()\n",
    "cat = ml_search(\n",
    "    CatBoostClassifier(verbose=False),\n",
    "    {\n",
    "        'model__iterations': [10, 50],\n",
    "        'model__learning_rate': [0.03, 0.1],\n",
    "        'model__depth': [4, 6]\n",
    "    }\n",
    ")\n",
    "end = time()\n",
    "print(f'Время выполнения функции {(end - start)/60} мин')"
   ]
  },
  {
   "cell_type": "markdown",
   "metadata": {},
   "source": [
    "Проверим модель LogisticRegression на тестовой выборке"
   ]
  },
  {
   "cell_type": "code",
   "execution_count": 56,
   "metadata": {},
   "outputs": [
    {
     "name": "stdout",
     "output_type": "stream",
     "text": [
      "Метрика f1 на лучшей модели: 0.7777169449767314\n"
     ]
    }
   ],
   "source": [
    "result = f1_score(y_test, logistic.predict(X_test))\n",
    "print(f'Метрика f1 на лучшей модели: {result}')"
   ]
  },
  {
   "cell_type": "markdown",
   "metadata": {},
   "source": [
    "На этапе обучения для удобства создали функцию для перебора заданных гиперпараметров конкретной модели с выводом значимой информации об обученной модели. Обучили, подобрали гиперпараметры и оценили метрику f1 двух моделей LogisticRegression и CatBoostClassifier. Лучшей оказалась модель LogisticRegression. Оценили метрику лучшей модели на тестовой выборке. Полученное значение удовлетворяет заданному условию > 0.75."
   ]
  },
  {
   "cell_type": "markdown",
   "metadata": {},
   "source": [
    "## Выводы"
   ]
  },
  {
   "cell_type": "markdown",
   "metadata": {},
   "source": [
    "На этапе подготовки данных загрузили данные, создали функцию лемматизации и очистки текста от ненужных символов, применили функцию к корпусу текстов, разделили выборку на тренировочную и тестовую  \n",
    "На этапе обучения для удобства создали функцию для перебора заданных гиперпараметров конкретной модели с выводом значимой информации об обученной модели. Обучили, подобрали гиперпараметры и оценили метрику f1 двух моделей LogisticRegression и CatBoostClassifier. Лучшей оказалась модель LogisticRegression. Оценили метрику лучшей модели на тестовой выборке. Полученное значение удовлетворяет заданному условию > 0.75.  \n",
    "Лучшая модель LogisticRegression с гиперпараметрами {'model__penalty': 'l2', 'model__C': 15} и f1 метрикой на тестовой выборке: 0.77"
   ]
  },
  {
   "cell_type": "markdown",
   "metadata": {},
   "source": [
    "## Чек-лист проверки"
   ]
  },
  {
   "cell_type": "markdown",
   "metadata": {},
   "source": [
    "- [x]  Jupyter Notebook открыт\n",
    "- [x]  Весь код выполняется без ошибок\n",
    "- [x]  Ячейки с кодом расположены в порядке исполнения\n",
    "- [x]  Данные загружены и подготовлены\n",
    "- [x]  Модели обучены\n",
    "- [x]  Значение метрики *F1* не меньше 0.75\n",
    "- [x]  Выводы написаны"
   ]
  }
 ],
 "metadata": {
  "ExecuteTimeLog": [
   {
    "duration": 344,
    "start_time": "2024-11-23T15:03:00.854Z"
   },
   {
    "duration": 1308,
    "start_time": "2024-11-23T15:05:47.901Z"
   },
   {
    "duration": 915,
    "start_time": "2024-11-23T15:05:56.634Z"
   },
   {
    "duration": 2,
    "start_time": "2024-11-23T15:10:28.388Z"
   },
   {
    "duration": 843,
    "start_time": "2024-11-23T15:10:31.032Z"
   },
   {
    "duration": 850,
    "start_time": "2024-11-23T15:10:56.554Z"
   },
   {
    "duration": 46,
    "start_time": "2024-11-23T15:12:11.054Z"
   },
   {
    "duration": 7,
    "start_time": "2024-11-23T15:12:14.521Z"
   },
   {
    "duration": 364,
    "start_time": "2024-11-23T15:12:27.628Z"
   },
   {
    "duration": 922,
    "start_time": "2024-11-23T15:12:29.549Z"
   },
   {
    "duration": 410,
    "start_time": "2024-11-23T15:12:44.388Z"
   },
   {
    "duration": 917,
    "start_time": "2024-11-23T15:12:46.239Z"
   },
   {
    "duration": 858,
    "start_time": "2024-11-23T15:13:04.998Z"
   },
   {
    "duration": 2,
    "start_time": "2024-11-23T15:13:10.430Z"
   },
   {
    "duration": 884,
    "start_time": "2024-11-23T15:13:11.933Z"
   },
   {
    "duration": 3,
    "start_time": "2024-11-23T15:14:53.742Z"
   },
   {
    "duration": 3,
    "start_time": "2024-11-23T15:17:02.620Z"
   },
   {
    "duration": 2,
    "start_time": "2024-11-23T15:17:04.197Z"
   },
   {
    "duration": 2,
    "start_time": "2024-11-23T15:20:20.850Z"
   },
   {
    "duration": 7,
    "start_time": "2024-11-23T22:12:47.647Z"
   },
   {
    "duration": 5,
    "start_time": "2024-11-23T22:19:50.575Z"
   },
   {
    "duration": 4,
    "start_time": "2024-11-23T22:27:47.032Z"
   },
   {
    "duration": 98,
    "start_time": "2024-11-23T22:30:32.581Z"
   },
   {
    "duration": 65,
    "start_time": "2024-11-23T22:30:55.892Z"
   },
   {
    "duration": 60,
    "start_time": "2024-11-23T22:31:09.902Z"
   },
   {
    "duration": 57,
    "start_time": "2024-11-23T22:31:28.449Z"
   },
   {
    "duration": 56,
    "start_time": "2024-11-23T22:31:39.293Z"
   },
   {
    "duration": 61,
    "start_time": "2024-11-23T22:31:43.290Z"
   },
   {
    "duration": 3,
    "start_time": "2024-11-23T22:32:43.990Z"
   },
   {
    "duration": 728,
    "start_time": "2024-11-23T22:34:45.403Z"
   },
   {
    "duration": 705,
    "start_time": "2024-11-23T22:35:44.977Z"
   },
   {
    "duration": 719,
    "start_time": "2024-11-23T22:36:03.994Z"
   },
   {
    "duration": 745,
    "start_time": "2024-11-23T22:36:11.253Z"
   },
   {
    "duration": 3,
    "start_time": "2024-11-23T22:37:43.821Z"
   },
   {
    "duration": 777,
    "start_time": "2024-11-23T22:37:46.418Z"
   },
   {
    "duration": 3644,
    "start_time": "2024-11-23T22:46:02.001Z"
   },
   {
    "duration": 2168,
    "start_time": "2024-11-23T22:52:01.857Z"
   },
   {
    "duration": 4,
    "start_time": "2024-11-23T22:52:21.174Z"
   },
   {
    "duration": 3,
    "start_time": "2024-11-23T22:53:06.479Z"
   },
   {
    "duration": 5,
    "start_time": "2024-11-23T22:53:34.122Z"
   },
   {
    "duration": 3,
    "start_time": "2024-11-23T22:53:46.609Z"
   },
   {
    "duration": 4,
    "start_time": "2024-11-23T22:53:55.525Z"
   },
   {
    "duration": 3014,
    "start_time": "2024-11-23T22:57:11.425Z"
   },
   {
    "duration": 4,
    "start_time": "2024-11-23T22:57:24.296Z"
   },
   {
    "duration": 3,
    "start_time": "2024-11-23T22:57:35.699Z"
   },
   {
    "duration": 53769,
    "start_time": "2024-11-24T19:28:49.219Z"
   },
   {
    "duration": 392,
    "start_time": "2024-11-24T19:29:52.920Z"
   },
   {
    "duration": 3,
    "start_time": "2024-11-24T19:29:53.314Z"
   },
   {
    "duration": 944,
    "start_time": "2024-11-24T19:29:53.319Z"
   },
   {
    "duration": 6,
    "start_time": "2024-11-24T19:29:54.265Z"
   },
   {
    "duration": 7,
    "start_time": "2024-11-24T19:29:54.272Z"
   },
   {
    "duration": 717,
    "start_time": "2024-11-24T19:29:54.280Z"
   },
   {
    "duration": 508846,
    "start_time": "2024-11-24T19:29:58.300Z"
   },
   {
    "duration": 3617,
    "start_time": "2024-11-24T19:38:38.982Z"
   },
   {
    "duration": 1041,
    "start_time": "2024-11-24T19:40:04.287Z"
   },
   {
    "duration": 3,
    "start_time": "2024-11-24T19:40:24.742Z"
   },
   {
    "duration": 5,
    "start_time": "2024-11-24T19:40:29.579Z"
   },
   {
    "duration": 3,
    "start_time": "2024-11-24T19:43:28.905Z"
   },
   {
    "duration": 3,
    "start_time": "2024-11-24T19:49:02.222Z"
   },
   {
    "duration": 7,
    "start_time": "2024-11-24T19:54:30.094Z"
   },
   {
    "duration": 3,
    "start_time": "2024-11-24T19:57:28.424Z"
   },
   {
    "duration": 2,
    "start_time": "2024-11-24T20:01:15.457Z"
   },
   {
    "duration": 4,
    "start_time": "2024-11-24T20:09:41.682Z"
   },
   {
    "duration": 3,
    "start_time": "2024-11-24T20:10:02.442Z"
   },
   {
    "duration": 9,
    "start_time": "2024-11-24T20:10:02.446Z"
   },
   {
    "duration": 900,
    "start_time": "2024-11-24T20:10:02.456Z"
   },
   {
    "duration": 6,
    "start_time": "2024-11-24T20:10:03.358Z"
   },
   {
    "duration": 40,
    "start_time": "2024-11-24T20:10:03.366Z"
   },
   {
    "duration": 3,
    "start_time": "2024-11-24T20:10:11.286Z"
   },
   {
    "duration": 3582,
    "start_time": "2024-11-24T20:11:19.879Z"
   },
   {
    "duration": 3,
    "start_time": "2024-11-24T20:15:32.748Z"
   },
   {
    "duration": 50,
    "start_time": "2024-11-24T20:16:07.980Z"
   },
   {
    "duration": 58,
    "start_time": "2024-11-24T20:22:46.854Z"
   },
   {
    "duration": 5,
    "start_time": "2024-11-24T20:24:56.447Z"
   },
   {
    "duration": 4,
    "start_time": "2024-11-24T20:25:31.854Z"
   },
   {
    "duration": 5,
    "start_time": "2024-11-24T20:26:17.387Z"
   },
   {
    "duration": 5,
    "start_time": "2024-11-24T20:26:27.967Z"
   },
   {
    "duration": 3,
    "start_time": "2024-11-24T20:29:02.494Z"
   },
   {
    "duration": 3,
    "start_time": "2024-11-24T20:29:10.512Z"
   },
   {
    "duration": 6110,
    "start_time": "2024-11-24T20:29:47.885Z"
   },
   {
    "duration": 1129,
    "start_time": "2024-11-24T20:37:03.562Z"
   },
   {
    "duration": 4,
    "start_time": "2024-11-24T20:37:14.578Z"
   },
   {
    "duration": 4,
    "start_time": "2024-11-24T20:37:48.242Z"
   },
   {
    "duration": 3,
    "start_time": "2024-11-24T20:37:51.916Z"
   },
   {
    "duration": 5,
    "start_time": "2024-11-24T20:38:03.880Z"
   },
   {
    "duration": 4,
    "start_time": "2024-11-24T20:38:07.251Z"
   },
   {
    "duration": 9,
    "start_time": "2024-11-24T20:38:15.086Z"
   },
   {
    "duration": 8,
    "start_time": "2024-11-24T20:38:41.480Z"
   },
   {
    "duration": 8,
    "start_time": "2024-11-24T20:38:46.129Z"
   },
   {
    "duration": 3,
    "start_time": "2024-11-24T20:38:50.227Z"
   },
   {
    "duration": 3,
    "start_time": "2024-11-24T20:39:00.675Z"
   },
   {
    "duration": 4,
    "start_time": "2024-11-24T20:39:15.971Z"
   },
   {
    "duration": 3,
    "start_time": "2024-11-24T20:39:55.429Z"
   },
   {
    "duration": 3,
    "start_time": "2024-11-24T20:40:45.166Z"
   },
   {
    "duration": 3,
    "start_time": "2024-11-24T20:40:59.506Z"
   },
   {
    "duration": 230,
    "start_time": "2024-11-24T20:43:20.059Z"
   },
   {
    "duration": 3,
    "start_time": "2024-11-24T20:47:30.136Z"
   },
   {
    "duration": 3,
    "start_time": "2024-11-24T20:47:51.513Z"
   },
   {
    "duration": 5,
    "start_time": "2024-11-24T20:48:54.742Z"
   },
   {
    "duration": 4,
    "start_time": "2024-11-24T20:49:37.339Z"
   },
   {
    "duration": 3,
    "start_time": "2024-11-24T20:49:48.828Z"
   },
   {
    "duration": 4,
    "start_time": "2024-11-24T20:49:52.323Z"
   },
   {
    "duration": 3,
    "start_time": "2024-11-24T20:50:57.669Z"
   },
   {
    "duration": 4,
    "start_time": "2024-11-24T20:51:00.408Z"
   },
   {
    "duration": 3,
    "start_time": "2024-11-24T20:52:30.653Z"
   },
   {
    "duration": 4,
    "start_time": "2024-11-24T20:52:51.596Z"
   },
   {
    "duration": 4,
    "start_time": "2024-11-24T20:58:23.806Z"
   },
   {
    "duration": 6,
    "start_time": "2024-11-24T20:58:34.833Z"
   },
   {
    "duration": 3,
    "start_time": "2024-11-24T20:58:59.797Z"
   },
   {
    "duration": 8,
    "start_time": "2024-11-24T20:58:59.801Z"
   },
   {
    "duration": 817,
    "start_time": "2024-11-24T20:58:59.810Z"
   },
   {
    "duration": 5,
    "start_time": "2024-11-24T20:59:00.629Z"
   },
   {
    "duration": 31,
    "start_time": "2024-11-24T20:59:00.635Z"
   },
   {
    "duration": 6,
    "start_time": "2024-11-24T20:59:05.148Z"
   },
   {
    "duration": 3,
    "start_time": "2024-11-24T21:00:00.763Z"
   },
   {
    "duration": 5,
    "start_time": "2024-11-24T21:00:02.847Z"
   },
   {
    "duration": 4,
    "start_time": "2024-11-24T21:00:38.679Z"
   },
   {
    "duration": 4,
    "start_time": "2024-11-24T21:00:40.591Z"
   },
   {
    "duration": 3,
    "start_time": "2024-11-24T21:00:52.265Z"
   },
   {
    "duration": 54,
    "start_time": "2024-11-24T21:00:52.270Z"
   },
   {
    "duration": 847,
    "start_time": "2024-11-24T21:00:52.326Z"
   },
   {
    "duration": 5,
    "start_time": "2024-11-24T21:00:53.174Z"
   },
   {
    "duration": 3,
    "start_time": "2024-11-24T21:00:56.880Z"
   },
   {
    "duration": 6,
    "start_time": "2024-11-24T21:00:58.749Z"
   },
   {
    "duration": 4,
    "start_time": "2024-11-24T21:01:49.515Z"
   },
   {
    "duration": 1187,
    "start_time": "2024-11-24T21:01:59.639Z"
   },
   {
    "duration": 224,
    "start_time": "2024-11-24T21:02:00.828Z"
   },
   {
    "duration": 947,
    "start_time": "2024-11-24T21:02:01.053Z"
   },
   {
    "duration": 5,
    "start_time": "2024-11-24T21:02:02.007Z"
   },
   {
    "duration": 3,
    "start_time": "2024-11-24T21:02:10.839Z"
   },
   {
    "duration": 1092,
    "start_time": "2024-11-24T21:02:12.758Z"
   },
   {
    "duration": 78885,
    "start_time": "2024-11-24T21:02:52.754Z"
   },
   {
    "duration": 49,
    "start_time": "2024-11-24T21:04:25.943Z"
   },
   {
    "duration": 4,
    "start_time": "2024-11-24T21:04:29.165Z"
   },
   {
    "duration": 6324,
    "start_time": "2024-11-24T21:04:32.170Z"
   },
   {
    "duration": 4,
    "start_time": "2024-11-24T21:08:54.854Z"
   },
   {
    "duration": 62,
    "start_time": "2024-11-24T21:09:44.387Z"
   },
   {
    "duration": 111,
    "start_time": "2024-11-24T21:10:13.097Z"
   },
   {
    "duration": 4,
    "start_time": "2024-11-24T21:10:17.797Z"
   },
   {
    "duration": 9,
    "start_time": "2024-11-24T21:11:29.060Z"
   },
   {
    "duration": 3,
    "start_time": "2024-11-24T21:12:06.577Z"
   },
   {
    "duration": 224,
    "start_time": "2024-11-24T21:12:06.582Z"
   },
   {
    "duration": 1035,
    "start_time": "2024-11-24T21:12:06.807Z"
   },
   {
    "duration": 5,
    "start_time": "2024-11-24T21:12:07.844Z"
   },
   {
    "duration": 12,
    "start_time": "2024-11-24T21:12:07.850Z"
   },
   {
    "duration": 59,
    "start_time": "2024-11-24T21:12:07.863Z"
   },
   {
    "duration": 80014,
    "start_time": "2024-11-24T21:12:07.924Z"
   },
   {
    "duration": 59,
    "start_time": "2024-11-24T21:13:27.939Z"
   },
   {
    "duration": 13,
    "start_time": "2024-11-24T21:13:43.239Z"
   },
   {
    "duration": 6090,
    "start_time": "2024-11-24T21:13:45.417Z"
   },
   {
    "duration": 4,
    "start_time": "2024-11-24T21:28:54.426Z"
   },
   {
    "duration": 9,
    "start_time": "2024-11-24T21:29:25.490Z"
   },
   {
    "duration": 3,
    "start_time": "2024-11-24T21:29:47.645Z"
   },
   {
    "duration": 4,
    "start_time": "2024-11-24T21:31:06.511Z"
   },
   {
    "duration": 20,
    "start_time": "2024-11-24T21:31:42.911Z"
   },
   {
    "duration": 55,
    "start_time": "2024-11-24T21:32:56.750Z"
   },
   {
    "duration": 3,
    "start_time": "2024-11-24T21:33:23.731Z"
   },
   {
    "duration": 3,
    "start_time": "2024-11-24T21:38:32.768Z"
   },
   {
    "duration": 791396,
    "start_time": "2024-11-24T21:42:55.712Z"
   },
   {
    "duration": 4,
    "start_time": "2024-11-24T21:57:02.940Z"
   },
   {
    "duration": 4,
    "start_time": "2024-11-24T21:57:35.345Z"
   },
   {
    "duration": 12,
    "start_time": "2024-11-24T21:57:41.079Z"
   },
   {
    "duration": 4,
    "start_time": "2024-11-24T21:58:34.071Z"
   },
   {
    "duration": 1214,
    "start_time": "2024-11-24T22:06:55.557Z"
   },
   {
    "duration": 254,
    "start_time": "2024-11-24T22:06:56.773Z"
   },
   {
    "duration": 907,
    "start_time": "2024-11-24T22:06:57.028Z"
   },
   {
    "duration": 5,
    "start_time": "2024-11-24T22:06:57.936Z"
   },
   {
    "duration": 16,
    "start_time": "2024-11-24T22:06:57.943Z"
   },
   {
    "duration": 1110,
    "start_time": "2024-11-24T22:06:57.961Z"
   },
   {
    "duration": 79369,
    "start_time": "2024-11-24T22:06:59.072Z"
   },
   {
    "duration": 51,
    "start_time": "2024-11-24T22:08:18.442Z"
   },
   {
    "duration": 13,
    "start_time": "2024-11-24T22:08:18.495Z"
   },
   {
    "duration": 6141,
    "start_time": "2024-11-24T22:08:18.509Z"
   },
   {
    "duration": 3,
    "start_time": "2024-11-24T22:09:28.574Z"
   },
   {
    "duration": 647105,
    "start_time": "2024-11-24T22:09:31.209Z"
   },
   {
    "duration": 4,
    "start_time": "2024-11-24T22:22:59.851Z"
   },
   {
    "duration": 1084835,
    "start_time": "2024-11-24T22:27:41.456Z"
   },
   {
    "duration": 832360,
    "start_time": "2024-11-24T22:46:14.054Z"
   },
   {
    "duration": 4,
    "start_time": "2024-11-24T23:01:29.296Z"
   },
   {
    "duration": 8,
    "start_time": "2024-11-24T23:05:18.331Z"
   },
   {
    "duration": 4,
    "start_time": "2024-11-24T23:05:37.247Z"
   },
   {
    "duration": 1311,
    "start_time": "2024-11-25T00:23:44.669Z"
   },
   {
    "duration": 183,
    "start_time": "2024-11-25T00:23:45.982Z"
   },
   {
    "duration": 887,
    "start_time": "2024-11-25T00:23:46.166Z"
   },
   {
    "duration": 5,
    "start_time": "2024-11-25T00:23:47.055Z"
   },
   {
    "duration": 30,
    "start_time": "2024-11-25T00:23:47.062Z"
   },
   {
    "duration": 1139,
    "start_time": "2024-11-25T00:23:47.094Z"
   },
   {
    "duration": 78154,
    "start_time": "2024-11-25T00:23:48.234Z"
   },
   {
    "duration": 57,
    "start_time": "2024-11-25T00:25:06.389Z"
   },
   {
    "duration": 29,
    "start_time": "2024-11-25T00:25:06.447Z"
   },
   {
    "duration": 6055,
    "start_time": "2024-11-25T00:25:06.478Z"
   },
   {
    "duration": 4,
    "start_time": "2024-11-25T00:25:12.535Z"
   },
   {
    "duration": 1223768,
    "start_time": "2024-11-25T00:25:12.540Z"
   },
   {
    "duration": 32135020,
    "start_time": "2024-11-25T00:45:36.310Z"
   },
   {
    "duration": 0,
    "start_time": "2024-11-25T09:41:11.332Z"
   },
   {
    "duration": 8,
    "start_time": "2024-11-25T09:43:03.949Z"
   },
   {
    "duration": 4,
    "start_time": "2024-11-25T09:44:01.726Z"
   },
   {
    "duration": 3339,
    "start_time": "2024-11-25T09:44:10.391Z"
   },
   {
    "duration": 46,
    "start_time": "2024-11-25T09:45:41.698Z"
   },
   {
    "duration": 1285,
    "start_time": "2024-11-25T09:45:47.998Z"
   },
   {
    "duration": 264,
    "start_time": "2024-11-25T09:45:56.851Z"
   },
   {
    "duration": 1208,
    "start_time": "2024-11-25T09:46:00.165Z"
   },
   {
    "duration": 6,
    "start_time": "2024-11-25T09:46:05.272Z"
   },
   {
    "duration": 4,
    "start_time": "2024-11-25T09:46:08.183Z"
   },
   {
    "duration": 1106,
    "start_time": "2024-11-25T09:46:13.383Z"
   },
   {
    "duration": 78837,
    "start_time": "2024-11-25T09:46:20.564Z"
   },
   {
    "duration": 48,
    "start_time": "2024-11-25T09:47:47.877Z"
   },
   {
    "duration": 3,
    "start_time": "2024-11-25T09:47:51.868Z"
   },
   {
    "duration": 6136,
    "start_time": "2024-11-25T09:47:53.946Z"
   },
   {
    "duration": 6070,
    "start_time": "2024-11-25T09:48:09.569Z"
   },
   {
    "duration": 8,
    "start_time": "2024-11-25T10:01:02.693Z"
   },
   {
    "duration": 4,
    "start_time": "2024-11-25T10:01:13.072Z"
   },
   {
    "duration": 8,
    "start_time": "2024-11-25T10:01:18.990Z"
   },
   {
    "duration": 5,
    "start_time": "2024-11-25T10:01:32.569Z"
   },
   {
    "duration": 3,
    "start_time": "2024-11-25T10:01:41.876Z"
   },
   {
    "duration": 39,
    "start_time": "2024-11-25T10:01:41.881Z"
   },
   {
    "duration": 853,
    "start_time": "2024-11-25T10:01:41.921Z"
   },
   {
    "duration": 5,
    "start_time": "2024-11-25T10:01:42.776Z"
   },
   {
    "duration": 24,
    "start_time": "2024-11-25T10:01:42.783Z"
   },
   {
    "duration": 14,
    "start_time": "2024-11-25T10:01:42.809Z"
   },
   {
    "duration": 79431,
    "start_time": "2024-11-25T10:01:42.825Z"
   },
   {
    "duration": 62,
    "start_time": "2024-11-25T10:03:02.258Z"
   },
   {
    "duration": 12,
    "start_time": "2024-11-25T10:03:02.322Z"
   },
   {
    "duration": 6408,
    "start_time": "2024-11-25T10:03:02.336Z"
   },
   {
    "duration": 4,
    "start_time": "2024-11-25T10:03:08.745Z"
   },
   {
    "duration": 8,
    "start_time": "2024-11-25T10:03:15.162Z"
   },
   {
    "duration": 16380,
    "start_time": "2024-11-25T10:03:24.068Z"
   },
   {
    "duration": 3176028,
    "start_time": "2024-11-25T10:04:16.761Z"
   },
   {
    "duration": 3485673,
    "start_time": "2024-11-25T11:16:58.956Z"
   },
   {
    "duration": 8,
    "start_time": "2024-11-25T12:21:07.750Z"
   },
   {
    "duration": 1060364,
    "start_time": "2024-11-25T12:21:15.547Z"
   },
   {
    "duration": 16,
    "start_time": "2024-11-25T12:49:30.615Z"
   },
   {
    "duration": 4,
    "start_time": "2024-11-25T13:05:14.296Z"
   },
   {
    "duration": 4,
    "start_time": "2024-11-25T13:05:25.131Z"
   },
   {
    "duration": 1260,
    "start_time": "2024-11-25T13:09:40.604Z"
   },
   {
    "duration": 180,
    "start_time": "2024-11-25T13:09:41.865Z"
   },
   {
    "duration": 1213,
    "start_time": "2024-11-25T13:09:42.047Z"
   },
   {
    "duration": 7,
    "start_time": "2024-11-25T13:09:43.308Z"
   },
   {
    "duration": 30,
    "start_time": "2024-11-25T13:09:43.318Z"
   },
   {
    "duration": 1470,
    "start_time": "2024-11-25T13:09:43.349Z"
   },
   {
    "duration": 79579,
    "start_time": "2024-11-25T13:09:44.820Z"
   },
   {
    "duration": 52,
    "start_time": "2024-11-25T13:11:04.400Z"
   },
   {
    "duration": 4,
    "start_time": "2024-11-25T13:11:04.453Z"
   },
   {
    "duration": 6104,
    "start_time": "2024-11-25T13:11:04.458Z"
   },
   {
    "duration": 3,
    "start_time": "2024-11-25T13:11:10.563Z"
   },
   {
    "duration": 1259972,
    "start_time": "2024-11-25T13:11:10.568Z"
   },
   {
    "duration": 3217446,
    "start_time": "2024-11-25T13:32:10.541Z"
   },
   {
    "duration": 18,
    "start_time": "2024-11-25T14:25:47.990Z"
   },
   {
    "duration": 2305,
    "start_time": "2024-11-25T15:49:22.201Z"
   },
   {
    "duration": 711,
    "start_time": "2024-11-25T15:50:57.846Z"
   },
   {
    "duration": 3,
    "start_time": "2024-11-25T15:54:31.669Z"
   },
   {
    "duration": 18,
    "start_time": "2024-11-25T15:54:36.372Z"
   },
   {
    "duration": 861,
    "start_time": "2024-11-25T15:55:07.827Z"
   },
   {
    "duration": 6,
    "start_time": "2024-11-25T15:55:11.455Z"
   },
   {
    "duration": 3,
    "start_time": "2024-11-25T15:55:14.601Z"
   },
   {
    "duration": 21,
    "start_time": "2024-11-25T15:55:19.496Z"
   },
   {
    "duration": 57,
    "start_time": "2024-11-25T15:58:29.361Z"
   },
   {
    "duration": 437419,
    "start_time": "2024-11-25T15:59:06.814Z"
   },
   {
    "duration": 4,
    "start_time": "2024-11-25T16:07:16.098Z"
   },
   {
    "duration": 1976679,
    "start_time": "2024-11-25T16:07:37.383Z"
   },
   {
    "duration": 6,
    "start_time": "2024-11-25T16:41:41.366Z"
   },
   {
    "duration": 52,
    "start_time": "2024-11-25T16:43:08.621Z"
   },
   {
    "duration": 12,
    "start_time": "2024-11-25T16:48:42.980Z"
   },
   {
    "duration": 5,
    "start_time": "2024-11-25T16:51:12.233Z"
   },
   {
    "duration": 4,
    "start_time": "2024-11-25T16:52:04.724Z"
   },
   {
    "duration": 64,
    "start_time": "2024-11-25T16:53:25.322Z"
   },
   {
    "duration": 43,
    "start_time": "2024-11-25T16:54:30.546Z"
   },
   {
    "duration": 46,
    "start_time": "2024-11-25T16:57:45.455Z"
   },
   {
    "duration": 3,
    "start_time": "2024-11-25T16:58:00.162Z"
   },
   {
    "duration": 61,
    "start_time": "2024-11-25T16:58:04.783Z"
   },
   {
    "duration": 56647,
    "start_time": "2024-11-25T16:59:38.178Z"
   },
   {
    "duration": 4,
    "start_time": "2024-11-25T17:01:33.728Z"
   },
   {
    "duration": 278,
    "start_time": "2024-11-25T17:01:42.026Z"
   },
   {
    "duration": 290,
    "start_time": "2024-11-25T17:02:01.168Z"
   },
   {
    "duration": 4,
    "start_time": "2024-11-25T17:04:02.951Z"
   },
   {
    "duration": 260,
    "start_time": "2024-11-25T17:04:06.074Z"
   },
   {
    "duration": 5,
    "start_time": "2024-11-25T17:08:12.268Z"
   },
   {
    "duration": 19,
    "start_time": "2024-11-25T17:10:21.542Z"
   },
   {
    "duration": 3,
    "start_time": "2024-11-25T17:11:28.619Z"
   },
   {
    "duration": 333,
    "start_time": "2024-11-25T17:11:31.575Z"
   },
   {
    "duration": 3,
    "start_time": "2024-11-25T17:13:47.691Z"
   },
   {
    "duration": 292,
    "start_time": "2024-11-25T17:13:49.833Z"
   },
   {
    "duration": 5,
    "start_time": "2024-11-25T17:17:47.543Z"
   },
   {
    "duration": 1239653,
    "start_time": "2024-11-25T17:17:56.158Z"
   },
   {
    "duration": 3191655,
    "start_time": "2024-11-25T17:40:47.286Z"
   },
   {
    "duration": 26,
    "start_time": "2024-11-25T18:39:54.897Z"
   },
   {
    "duration": 17,
    "start_time": "2024-11-25T18:40:42.492Z"
   },
   {
    "duration": 6390,
    "start_time": "2024-11-25T18:40:53.250Z"
   },
   {
    "duration": 20,
    "start_time": "2024-11-25T18:41:10.477Z"
   },
   {
    "duration": 1590,
    "start_time": "2024-11-25T18:41:54.076Z"
   }
  ],
  "kernelspec": {
   "display_name": "Python 3 (ipykernel)",
   "language": "python",
   "name": "python3"
  },
  "language_info": {
   "codemirror_mode": {
    "name": "ipython",
    "version": 3
   },
   "file_extension": ".py",
   "mimetype": "text/x-python",
   "name": "python",
   "nbconvert_exporter": "python",
   "pygments_lexer": "ipython3",
   "version": "3.9.5"
  },
  "toc": {
   "base_numbering": 1,
   "nav_menu": {
    "height": "80.9896px",
    "width": "246.125px"
   },
   "number_sections": true,
   "sideBar": true,
   "skip_h1_title": true,
   "title_cell": "Содержание",
   "title_sidebar": "Contents",
   "toc_cell": true,
   "toc_position": {
    "height": "calc(100% - 180px)",
    "left": "10px",
    "top": "150px",
    "width": "165px"
   },
   "toc_section_display": true,
   "toc_window_display": true
  }
 },
 "nbformat": 4,
 "nbformat_minor": 2
}
