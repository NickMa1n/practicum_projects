{
 "cells": [
  {
   "cell_type": "markdown",
   "id": "382ff386",
   "metadata": {},
   "source": [
    "#### Проект: Статистический анализ данных"
   ]
  },
  {
   "cell_type": "markdown",
   "id": "c2553595",
   "metadata": {},
   "source": [
    "Задача проекта: проанализировать данные о пользователях сервиса аренды самокатов, а также об их поездках, проверить следующие гипотезы:\n",
    "1. Тратят ли пользователи с подпиской больше времени на поездки?\n",
    "2. Среднее расстояние, которое проезжают пользователи с подпиской за одну поездку, не превышает 3130 метров?\n",
    "3. Будет ли помесячная выручка от пользователей с подпиской по месяцам выше, чем выручка от пользователей без подписки?"
   ]
  },
  {
   "cell_type": "code",
   "execution_count": 2,
   "id": "72576667",
   "metadata": {},
   "outputs": [],
   "source": [
    "import pandas as pd\n",
    "import matplotlib.pyplot as plt\n",
    "import numpy as np\n",
    "from scipy import stats as st"
   ]
  },
  {
   "cell_type": "markdown",
   "id": "b6551f2e",
   "metadata": {},
   "source": [
    "#### Шаг 0. Описание данных"
   ]
  },
  {
   "cell_type": "markdown",
   "id": "fbb1c9d2",
   "metadata": {},
   "source": [
    "*Пользователи* - users_go.csv\n",
    "\n",
    "| Столбец | Описание |\n",
    "| :--- | :--- |\n",
    "| user_id | уникальный идентификатор пользователя |\n",
    "| name | имя пользователя |\n",
    "| age | возраст |\n",
    "| city | город |\n",
    "| subscription_type | тип подписки (free, ultra) |"
   ]
  },
  {
   "cell_type": "markdown",
   "id": "56fc8054",
   "metadata": {},
   "source": [
    "*Поездки* - rides_go.csv\n",
    "\n",
    "| Столбец | Описание |\n",
    "| :--- | :--- |\n",
    "| user_id | уникальный идентификатор пользователя |\n",
    "| distance | расстояние, которое пользователь проехал в текущей сессии (в метрах) |\n",
    "| duration | продолжительность сессии (в минутах) — время с того момента, как пользователь нажал кнопку «Начать поездку» до момента, как он нажал кнопку «Завершить поездку» |\n",
    "| date | дата совершения поездки |"
   ]
  },
  {
   "cell_type": "markdown",
   "id": "d6207e9d",
   "metadata": {},
   "source": [
    "*Подписки* - subscriptions_go.csv\n",
    "\n",
    "| Столбец | Описание |\n",
    "| :--- | :--- |\n",
    "| subscription_type | тип подписки |\n",
    "| minute_price | стоимость одной минуты поездки по данной подписке |\n",
    "| start_ride_price | стоимость начала поездки |\n",
    "| subscription_fee | стоимость ежемесячного платежа |"
   ]
  },
  {
   "cell_type": "markdown",
   "id": "c42cbe00",
   "metadata": {},
   "source": [
    "#### Шаг 1. Загрузка данных"
   ]
  },
  {
   "cell_type": "code",
   "execution_count": 3,
   "id": "eff9f206",
   "metadata": {},
   "outputs": [
    {
     "data": {
      "text/html": [
       "<div>\n",
       "<style scoped>\n",
       "    .dataframe tbody tr th:only-of-type {\n",
       "        vertical-align: middle;\n",
       "    }\n",
       "\n",
       "    .dataframe tbody tr th {\n",
       "        vertical-align: top;\n",
       "    }\n",
       "\n",
       "    .dataframe thead th {\n",
       "        text-align: right;\n",
       "    }\n",
       "</style>\n",
       "<table border=\"1\" class=\"dataframe\">\n",
       "  <thead>\n",
       "    <tr style=\"text-align: right;\">\n",
       "      <th></th>\n",
       "      <th>user_id</th>\n",
       "      <th>name</th>\n",
       "      <th>age</th>\n",
       "      <th>city</th>\n",
       "      <th>subscription_type</th>\n",
       "    </tr>\n",
       "  </thead>\n",
       "  <tbody>\n",
       "    <tr>\n",
       "      <th>0</th>\n",
       "      <td>1</td>\n",
       "      <td>Кира</td>\n",
       "      <td>22</td>\n",
       "      <td>Тюмень</td>\n",
       "      <td>ultra</td>\n",
       "    </tr>\n",
       "    <tr>\n",
       "      <th>1</th>\n",
       "      <td>2</td>\n",
       "      <td>Станислав</td>\n",
       "      <td>31</td>\n",
       "      <td>Омск</td>\n",
       "      <td>ultra</td>\n",
       "    </tr>\n",
       "    <tr>\n",
       "      <th>2</th>\n",
       "      <td>3</td>\n",
       "      <td>Алексей</td>\n",
       "      <td>20</td>\n",
       "      <td>Москва</td>\n",
       "      <td>ultra</td>\n",
       "    </tr>\n",
       "    <tr>\n",
       "      <th>3</th>\n",
       "      <td>4</td>\n",
       "      <td>Константин</td>\n",
       "      <td>26</td>\n",
       "      <td>Ростов-на-Дону</td>\n",
       "      <td>ultra</td>\n",
       "    </tr>\n",
       "    <tr>\n",
       "      <th>4</th>\n",
       "      <td>5</td>\n",
       "      <td>Адель</td>\n",
       "      <td>28</td>\n",
       "      <td>Омск</td>\n",
       "      <td>ultra</td>\n",
       "    </tr>\n",
       "  </tbody>\n",
       "</table>\n",
       "</div>"
      ],
      "text/plain": [
       "   user_id        name  age            city subscription_type\n",
       "0        1        Кира   22          Тюмень             ultra\n",
       "1        2   Станислав   31            Омск             ultra\n",
       "2        3     Алексей   20          Москва             ultra\n",
       "3        4  Константин   26  Ростов-на-Дону             ultra\n",
       "4        5       Адель   28            Омск             ultra"
      ]
     },
     "metadata": {},
     "output_type": "display_data"
    },
    {
     "name": "stdout",
     "output_type": "stream",
     "text": [
      "<class 'pandas.core.frame.DataFrame'>\n",
      "RangeIndex: 1565 entries, 0 to 1564\n",
      "Data columns (total 5 columns):\n",
      " #   Column             Non-Null Count  Dtype \n",
      "---  ------             --------------  ----- \n",
      " 0   user_id            1565 non-null   int64 \n",
      " 1   name               1565 non-null   object\n",
      " 2   age                1565 non-null   int64 \n",
      " 3   city               1565 non-null   object\n",
      " 4   subscription_type  1565 non-null   object\n",
      "dtypes: int64(2), object(3)\n",
      "memory usage: 61.3+ KB\n"
     ]
    }
   ],
   "source": [
    "#пользователи\n",
    "\n",
    "users_df = pd.read_csv('/datasets/users_go.csv')\n",
    "display(users_df.head())\n",
    "users_df.info()"
   ]
  },
  {
   "cell_type": "code",
   "execution_count": 3,
   "id": "e0f26338",
   "metadata": {},
   "outputs": [
    {
     "data": {
      "text/plain": [
       "Пятигорск         226\n",
       "Екатеринбург      206\n",
       "Ростов-на-Дону    202\n",
       "Краснодар         196\n",
       "Сочи              192\n",
       "Омск              186\n",
       "Тюмень            185\n",
       "Москва            172\n",
       "Name: city, dtype: int64"
      ]
     },
     "execution_count": 3,
     "metadata": {},
     "output_type": "execute_result"
    }
   ],
   "source": [
    "users_df['city'].value_counts()"
   ]
  },
  {
   "cell_type": "code",
   "execution_count": 4,
   "id": "f4741d7b",
   "metadata": {},
   "outputs": [
    {
     "data": {
      "text/html": [
       "<div>\n",
       "<style scoped>\n",
       "    .dataframe tbody tr th:only-of-type {\n",
       "        vertical-align: middle;\n",
       "    }\n",
       "\n",
       "    .dataframe tbody tr th {\n",
       "        vertical-align: top;\n",
       "    }\n",
       "\n",
       "    .dataframe thead th {\n",
       "        text-align: right;\n",
       "    }\n",
       "</style>\n",
       "<table border=\"1\" class=\"dataframe\">\n",
       "  <thead>\n",
       "    <tr style=\"text-align: right;\">\n",
       "      <th></th>\n",
       "      <th>user_id</th>\n",
       "      <th>distance</th>\n",
       "      <th>duration</th>\n",
       "      <th>date</th>\n",
       "    </tr>\n",
       "  </thead>\n",
       "  <tbody>\n",
       "    <tr>\n",
       "      <th>0</th>\n",
       "      <td>1</td>\n",
       "      <td>4409.919140</td>\n",
       "      <td>25.599769</td>\n",
       "      <td>2021-01-01</td>\n",
       "    </tr>\n",
       "    <tr>\n",
       "      <th>1</th>\n",
       "      <td>1</td>\n",
       "      <td>2617.592153</td>\n",
       "      <td>15.816871</td>\n",
       "      <td>2021-01-18</td>\n",
       "    </tr>\n",
       "    <tr>\n",
       "      <th>2</th>\n",
       "      <td>1</td>\n",
       "      <td>754.159807</td>\n",
       "      <td>6.232113</td>\n",
       "      <td>2021-04-20</td>\n",
       "    </tr>\n",
       "    <tr>\n",
       "      <th>3</th>\n",
       "      <td>1</td>\n",
       "      <td>2694.783254</td>\n",
       "      <td>18.511000</td>\n",
       "      <td>2021-08-11</td>\n",
       "    </tr>\n",
       "    <tr>\n",
       "      <th>4</th>\n",
       "      <td>1</td>\n",
       "      <td>4028.687306</td>\n",
       "      <td>26.265803</td>\n",
       "      <td>2021-08-28</td>\n",
       "    </tr>\n",
       "  </tbody>\n",
       "</table>\n",
       "</div>"
      ],
      "text/plain": [
       "   user_id     distance   duration        date\n",
       "0        1  4409.919140  25.599769  2021-01-01\n",
       "1        1  2617.592153  15.816871  2021-01-18\n",
       "2        1   754.159807   6.232113  2021-04-20\n",
       "3        1  2694.783254  18.511000  2021-08-11\n",
       "4        1  4028.687306  26.265803  2021-08-28"
      ]
     },
     "metadata": {},
     "output_type": "display_data"
    },
    {
     "name": "stdout",
     "output_type": "stream",
     "text": [
      "<class 'pandas.core.frame.DataFrame'>\n",
      "RangeIndex: 18068 entries, 0 to 18067\n",
      "Data columns (total 4 columns):\n",
      " #   Column    Non-Null Count  Dtype  \n",
      "---  ------    --------------  -----  \n",
      " 0   user_id   18068 non-null  int64  \n",
      " 1   distance  18068 non-null  float64\n",
      " 2   duration  18068 non-null  float64\n",
      " 3   date      18068 non-null  object \n",
      "dtypes: float64(2), int64(1), object(1)\n",
      "memory usage: 564.8+ KB\n"
     ]
    }
   ],
   "source": [
    "#поездки\n",
    "\n",
    "rides_df = pd.read_csv('/datasets/rides_go.csv')\n",
    "display(rides_df.head())\n",
    "rides_df.info()"
   ]
  },
  {
   "cell_type": "code",
   "execution_count": 5,
   "id": "aa6e656e",
   "metadata": {},
   "outputs": [
    {
     "data": {
      "text/html": [
       "<div>\n",
       "<style scoped>\n",
       "    .dataframe tbody tr th:only-of-type {\n",
       "        vertical-align: middle;\n",
       "    }\n",
       "\n",
       "    .dataframe tbody tr th {\n",
       "        vertical-align: top;\n",
       "    }\n",
       "\n",
       "    .dataframe thead th {\n",
       "        text-align: right;\n",
       "    }\n",
       "</style>\n",
       "<table border=\"1\" class=\"dataframe\">\n",
       "  <thead>\n",
       "    <tr style=\"text-align: right;\">\n",
       "      <th></th>\n",
       "      <th>subscription_type</th>\n",
       "      <th>minute_price</th>\n",
       "      <th>start_ride_price</th>\n",
       "      <th>subscription_fee</th>\n",
       "    </tr>\n",
       "  </thead>\n",
       "  <tbody>\n",
       "    <tr>\n",
       "      <th>0</th>\n",
       "      <td>free</td>\n",
       "      <td>8</td>\n",
       "      <td>50</td>\n",
       "      <td>0</td>\n",
       "    </tr>\n",
       "    <tr>\n",
       "      <th>1</th>\n",
       "      <td>ultra</td>\n",
       "      <td>6</td>\n",
       "      <td>0</td>\n",
       "      <td>199</td>\n",
       "    </tr>\n",
       "  </tbody>\n",
       "</table>\n",
       "</div>"
      ],
      "text/plain": [
       "  subscription_type  minute_price  start_ride_price  subscription_fee\n",
       "0              free             8                50                 0\n",
       "1             ultra             6                 0               199"
      ]
     },
     "metadata": {},
     "output_type": "display_data"
    },
    {
     "name": "stdout",
     "output_type": "stream",
     "text": [
      "<class 'pandas.core.frame.DataFrame'>\n",
      "RangeIndex: 2 entries, 0 to 1\n",
      "Data columns (total 4 columns):\n",
      " #   Column             Non-Null Count  Dtype \n",
      "---  ------             --------------  ----- \n",
      " 0   subscription_type  2 non-null      object\n",
      " 1   minute_price       2 non-null      int64 \n",
      " 2   start_ride_price   2 non-null      int64 \n",
      " 3   subscription_fee   2 non-null      int64 \n",
      "dtypes: int64(3), object(1)\n",
      "memory usage: 192.0+ bytes\n"
     ]
    }
   ],
   "source": [
    "#подписки\n",
    "\n",
    "subscriptions_df = pd.read_csv('/datasets/subscriptions_go.csv')\n",
    "display(subscriptions_df.head())\n",
    "subscriptions_df.info()"
   ]
  },
  {
   "cell_type": "markdown",
   "id": "49f549b5",
   "metadata": {},
   "source": [
    "В нашем распоряжении 3 датафрейма:\n",
    "1. users_df (информация о пользователях) - 5 столбцов, 1565 строк, пропусков нет, есть данные по 8 городам, в столбце 'subscription_type' только 2 значения -> можно изменить тип данных на bool (0 - free, 1- ultra)\n",
    "2. riders_df (информация о поездках) - 4 столбца, 18068 строк, пропусков нет, в столбце 'date' следует изменить тип данных на datetime\n",
    "3. subscriptions_df (информация о подписках) - 4 столбца, 2 строки, пропусков нет"
   ]
  },
  {
   "cell_type": "markdown",
   "id": "e95ebca7",
   "metadata": {},
   "source": [
    "#### Шаг 2. Предобработка данных"
   ]
  },
  {
   "cell_type": "code",
   "execution_count": 6,
   "id": "af6d202c",
   "metadata": {},
   "outputs": [
    {
     "name": "stdout",
     "output_type": "stream",
     "text": [
      "<class 'pandas.core.frame.DataFrame'>\n",
      "RangeIndex: 18068 entries, 0 to 18067\n",
      "Data columns (total 4 columns):\n",
      " #   Column    Non-Null Count  Dtype         \n",
      "---  ------    --------------  -----         \n",
      " 0   user_id   18068 non-null  int64         \n",
      " 1   distance  18068 non-null  float64       \n",
      " 2   duration  18068 non-null  float64       \n",
      " 3   date      18068 non-null  datetime64[ns]\n",
      "dtypes: datetime64[ns](1), float64(2), int64(1)\n",
      "memory usage: 564.8 KB\n"
     ]
    }
   ],
   "source": [
    "rides_df['date'] = pd.to_datetime(rides_df['date'], format='%Y-%m-%d') #приводим формат данных столбца 'date' к типу даты\n",
    "rides_df.info()"
   ]
  },
  {
   "cell_type": "code",
   "execution_count": 7,
   "id": "bb5aea1c",
   "metadata": {},
   "outputs": [
    {
     "data": {
      "text/html": [
       "<div>\n",
       "<style scoped>\n",
       "    .dataframe tbody tr th:only-of-type {\n",
       "        vertical-align: middle;\n",
       "    }\n",
       "\n",
       "    .dataframe tbody tr th {\n",
       "        vertical-align: top;\n",
       "    }\n",
       "\n",
       "    .dataframe thead th {\n",
       "        text-align: right;\n",
       "    }\n",
       "</style>\n",
       "<table border=\"1\" class=\"dataframe\">\n",
       "  <thead>\n",
       "    <tr style=\"text-align: right;\">\n",
       "      <th></th>\n",
       "      <th>user_id</th>\n",
       "      <th>distance</th>\n",
       "      <th>duration</th>\n",
       "      <th>date</th>\n",
       "      <th>month</th>\n",
       "    </tr>\n",
       "  </thead>\n",
       "  <tbody>\n",
       "    <tr>\n",
       "      <th>0</th>\n",
       "      <td>1</td>\n",
       "      <td>4409.919140</td>\n",
       "      <td>25.599769</td>\n",
       "      <td>2021-01-01</td>\n",
       "      <td>1</td>\n",
       "    </tr>\n",
       "    <tr>\n",
       "      <th>1</th>\n",
       "      <td>1</td>\n",
       "      <td>2617.592153</td>\n",
       "      <td>15.816871</td>\n",
       "      <td>2021-01-18</td>\n",
       "      <td>1</td>\n",
       "    </tr>\n",
       "    <tr>\n",
       "      <th>2</th>\n",
       "      <td>1</td>\n",
       "      <td>754.159807</td>\n",
       "      <td>6.232113</td>\n",
       "      <td>2021-04-20</td>\n",
       "      <td>4</td>\n",
       "    </tr>\n",
       "    <tr>\n",
       "      <th>3</th>\n",
       "      <td>1</td>\n",
       "      <td>2694.783254</td>\n",
       "      <td>18.511000</td>\n",
       "      <td>2021-08-11</td>\n",
       "      <td>8</td>\n",
       "    </tr>\n",
       "    <tr>\n",
       "      <th>4</th>\n",
       "      <td>1</td>\n",
       "      <td>4028.687306</td>\n",
       "      <td>26.265803</td>\n",
       "      <td>2021-08-28</td>\n",
       "      <td>8</td>\n",
       "    </tr>\n",
       "  </tbody>\n",
       "</table>\n",
       "</div>"
      ],
      "text/plain": [
       "   user_id     distance   duration       date  month\n",
       "0        1  4409.919140  25.599769 2021-01-01      1\n",
       "1        1  2617.592153  15.816871 2021-01-18      1\n",
       "2        1   754.159807   6.232113 2021-04-20      4\n",
       "3        1  2694.783254  18.511000 2021-08-11      8\n",
       "4        1  4028.687306  26.265803 2021-08-28      8"
      ]
     },
     "execution_count": 7,
     "metadata": {},
     "output_type": "execute_result"
    }
   ],
   "source": [
    "rides_df['month'] = pd.DatetimeIndex(rides_df['date']).month #создаем новый столбец с номером месяца\n",
    "rides_df.head()"
   ]
  },
  {
   "cell_type": "code",
   "execution_count": 8,
   "id": "676d934d",
   "metadata": {},
   "outputs": [],
   "source": [
    "users_df.duplicated().sum() #поиск явных дубликатов в users_df (31)\n",
    "users_df = users_df.drop_duplicates() #удаляем дубликаты"
   ]
  },
  {
   "cell_type": "markdown",
   "id": "f6aab07e",
   "metadata": {},
   "source": [
    "В датафрейме с поездками был изменен тип данных столбца 'date' на тип даты, а также создан новый столбец с номером месяца поездки. В датафрейме с пользователями были обнаружены и удалены явные дубликаты."
   ]
  },
  {
   "cell_type": "markdown",
   "id": "212593c7",
   "metadata": {},
   "source": [
    "#### Шаг 3. Исследовательский анализ данных"
   ]
  },
  {
   "cell_type": "markdown",
   "id": "7375a7ea",
   "metadata": {},
   "source": [
    "##### Частота встречаемости городов"
   ]
  },
  {
   "cell_type": "code",
   "execution_count": 9,
   "id": "54ce72cc",
   "metadata": {},
   "outputs": [
    {
     "data": {
      "text/plain": [
       "Пятигорск         14.276402\n",
       "Екатеринбург      13.298566\n",
       "Ростов-на-Дону    12.907432\n",
       "Краснодар         12.581486\n",
       "Сочи              12.320730\n",
       "Омск              11.929596\n",
       "Тюмень            11.734029\n",
       "Москва            10.951760\n",
       "Name: city, dtype: float64"
      ]
     },
     "metadata": {},
     "output_type": "display_data"
    },
    {
     "data": {
      "text/plain": [
       "<AxesSubplot:title={'center':'доля встречаемости городов, %'}, xlabel='город', ylabel='доля'>"
      ]
     },
     "execution_count": 9,
     "metadata": {},
     "output_type": "execute_result"
    },
    {
     "data": {
      "image/png": "[encoded data removed]",
      "text/plain": [
       "<Figure size 432x288 with 1 Axes>"
      ]
     },
     "metadata": {
      "needs_background": "light"
     },
     "output_type": "display_data"
    }
   ],
   "source": [
    "display(users_df['city'].value_counts() / users_df.shape[0] * 100)\n",
    "(users_df['city'].value_counts() / users_df.shape[0] * 100).plot.bar(title='доля встречаемости городов, %', xlabel='город', ylabel='доля') #распределение пользователей по городам"
   ]
  },
  {
   "cell_type": "markdown",
   "id": "7b3620ab",
   "metadata": {},
   "source": [
    "##### Cоотношение пользователей с подпиской и без подписки"
   ]
  },
  {
   "cell_type": "code",
   "execution_count": 10,
   "id": "06d57c01",
   "metadata": {
    "scrolled": true
   },
   "outputs": [
    {
     "data": {
      "text/plain": [
       "free     54.432855\n",
       "ultra    45.567145\n",
       "Name: subscription_type, dtype: float64"
      ]
     },
     "metadata": {},
     "output_type": "display_data"
    },
    {
     "data": {
      "text/plain": [
       "<AxesSubplot:title={'center':'соотношение пользователей с подпиской и без'}, ylabel='тип подписки'>"
      ]
     },
     "execution_count": 10,
     "metadata": {},
     "output_type": "execute_result"
    },
    {
     "data": {
      "image/png": "[encoded data removed]",
      "text/plain": [
       "<Figure size 432x288 with 1 Axes>"
      ]
     },
     "metadata": {},
     "output_type": "display_data"
    }
   ],
   "source": [
    "display(users_df['subscription_type'].value_counts() / users_df.shape[0] * 100) #соотношение пользователей с подпиской и без\n",
    "(users_df['subscription_type'].value_counts() / users_df.shape[0] * 100).plot(kind='pie', title='соотношение пользователей с подпиской и без', ylabel='тип подписки')"
   ]
  },
  {
   "cell_type": "markdown",
   "id": "b88ed5da",
   "metadata": {},
   "source": [
    "##### Возраст пользователей"
   ]
  },
  {
   "cell_type": "code",
   "execution_count": 11,
   "id": "91640656",
   "metadata": {},
   "outputs": [
    {
     "data": {
      "text/plain": [
       "count    1534.000000\n",
       "mean       24.903520\n",
       "std         4.572367\n",
       "min        12.000000\n",
       "25%        22.000000\n",
       "50%        25.000000\n",
       "75%        28.000000\n",
       "max        43.000000\n",
       "Name: age, dtype: float64"
      ]
     },
     "metadata": {},
     "output_type": "display_data"
    },
    {
     "data": {
      "text/plain": [
       "Text(0, 0.5, 'кол-во пользователей')"
      ]
     },
     "execution_count": 11,
     "metadata": {},
     "output_type": "execute_result"
    },
    {
     "data": {
      "image/png": "[encoded data removed]",
      "text/plain": [
       "<Figure size 432x288 with 1 Axes>"
      ]
     },
     "metadata": {
      "needs_background": "light"
     },
     "output_type": "display_data"
    }
   ],
   "source": [
    "display(users_df['age'].describe()) #информация о возрасте пользователей\n",
    "users_df['age'].hist(bins=30)\n",
    "plt.title('гистограмма распределения возраста пользователей')\n",
    "plt.xlabel('возраст, лет')\n",
    "plt.ylabel('кол-во пользователей')"
   ]
  },
  {
   "cell_type": "markdown",
   "id": "c4ac428d",
   "metadata": {},
   "source": [
    "##### Расстояние поездок"
   ]
  },
  {
   "cell_type": "code",
   "execution_count": 12,
   "id": "6cf71613",
   "metadata": {},
   "outputs": [
    {
     "data": {
      "text/plain": [
       "count    18068.000000\n",
       "mean      3070.659976\n",
       "std       1116.831209\n",
       "min          0.855683\n",
       "25%       2543.226360\n",
       "50%       3133.609994\n",
       "75%       3776.222735\n",
       "max       7211.007745\n",
       "Name: distance, dtype: float64"
      ]
     },
     "metadata": {},
     "output_type": "display_data"
    },
    {
     "data": {
      "text/plain": [
       "Text(0, 0.5, 'кол-во поездок')"
      ]
     },
     "execution_count": 12,
     "metadata": {},
     "output_type": "execute_result"
    },
    {
     "data": {
      "image/png": "[encoded data removed]",
      "text/plain": [
       "<Figure size 432x288 with 1 Axes>"
      ]
     },
     "metadata": {
      "needs_background": "light"
     },
     "output_type": "display_data"
    }
   ],
   "source": [
    "display(rides_df['distance'].describe()) #информация о расстоянии поездок\n",
    "rides_df['distance'].hist(bins=30)\n",
    "plt.title('гистограмма распределения расстояний одной поездки')\n",
    "plt.xlabel('расстояние, м')\n",
    "plt.ylabel('кол-во поездок')"
   ]
  },
  {
   "cell_type": "code",
   "execution_count": 13,
   "id": "9e21a1a9",
   "metadata": {
    "scrolled": true
   },
   "outputs": [
    {
     "data": {
      "text/plain": [
       "Text(0, 0.5, 'расстояние, м')"
      ]
     },
     "execution_count": 13,
     "metadata": {},
     "output_type": "execute_result"
    },
    {
     "data": {
      "image/png": "[encoded data removed]",
      "text/plain": [
       "<Figure size 432x288 with 1 Axes>"
      ]
     },
     "metadata": {
      "needs_background": "light"
     },
     "output_type": "display_data"
    }
   ],
   "source": [
    "rides_df.boxplot('distance')\n",
    "plt.title('диаграмма размаха расстояний одной поездки')\n",
    "plt.ylabel('расстояние, м')"
   ]
  },
  {
   "cell_type": "markdown",
   "id": "dde4b37e",
   "metadata": {},
   "source": [
    "##### Продолжительность поездок"
   ]
  },
  {
   "cell_type": "code",
   "execution_count": 14,
   "id": "92857a09",
   "metadata": {},
   "outputs": [
    {
     "data": {
      "text/plain": [
       "count    18068.000000\n",
       "mean        17.805011\n",
       "std          6.091051\n",
       "min          0.500000\n",
       "25%         13.597563\n",
       "50%         17.678395\n",
       "75%         21.724800\n",
       "max         40.823963\n",
       "Name: duration, dtype: float64"
      ]
     },
     "metadata": {},
     "output_type": "display_data"
    },
    {
     "data": {
      "text/plain": [
       "Text(0, 0.5, 'кол-во поездок')"
      ]
     },
     "execution_count": 14,
     "metadata": {},
     "output_type": "execute_result"
    },
    {
     "data": {
      "image/png": "[encoded data removed]",
      "text/plain": [
       "<Figure size 432x288 with 1 Axes>"
      ]
     },
     "metadata": {
      "needs_background": "light"
     },
     "output_type": "display_data"
    }
   ],
   "source": [
    "display(rides_df['duration'].describe()) #информация о времени поездок\n",
    "rides_df['duration'].hist(bins=30)\n",
    "plt.title('гистограмма распределения времени одной поездки')\n",
    "plt.xlabel('время, мин')\n",
    "plt.ylabel('кол-во поездок')"
   ]
  },
  {
   "cell_type": "code",
   "execution_count": 15,
   "id": "2517bd2a",
   "metadata": {},
   "outputs": [
    {
     "data": {
      "text/plain": [
       "Text(0, 0.5, 'время, мин')"
      ]
     },
     "execution_count": 15,
     "metadata": {},
     "output_type": "execute_result"
    },
    {
     "data": {
      "image/png": "[encoded data removed]",
      "text/plain": [
       "<Figure size 432x288 with 1 Axes>"
      ]
     },
     "metadata": {
      "needs_background": "light"
     },
     "output_type": "display_data"
    }
   ],
   "source": [
    "rides_df.boxplot('duration')\n",
    "plt.title('диаграмма размаха времени одной поездки')\n",
    "plt.ylabel('время, мин')"
   ]
  },
  {
   "cell_type": "markdown",
   "id": "f95f2e8d",
   "metadata": {},
   "source": [
    "Доли пользователей по городам распределены равномерно, всех больше в Пятигорске (14%), всех меньше в Москве (11%). Пользователей с подпиской чуть меньше (45,6), чем пользователей без нее (54,4). График распределения возраста имеет вид нормального распределения со средним значением в 24,9 лет. Графики распределения расстояния и времени имеют вид нормального распределения (на гистограмме дистанции есть еще малый пик в районе ~500 м) со средними 3070,7 м и 17,8 минут соотвественно. Также на диаграммах размаха расстояния и времени видим аномальные значения как сверху, так и снизу"
   ]
  },
  {
   "cell_type": "markdown",
   "id": "4ef51331",
   "metadata": {},
   "source": [
    "#### Шаг 4. Объединение данных"
   ]
  },
  {
   "cell_type": "code",
   "execution_count": 16,
   "id": "6bf288b5",
   "metadata": {},
   "outputs": [
    {
     "data": {
      "text/html": [
       "<div>\n",
       "<style scoped>\n",
       "    .dataframe tbody tr th:only-of-type {\n",
       "        vertical-align: middle;\n",
       "    }\n",
       "\n",
       "    .dataframe tbody tr th {\n",
       "        vertical-align: top;\n",
       "    }\n",
       "\n",
       "    .dataframe thead th {\n",
       "        text-align: right;\n",
       "    }\n",
       "</style>\n",
       "<table border=\"1\" class=\"dataframe\">\n",
       "  <thead>\n",
       "    <tr style=\"text-align: right;\">\n",
       "      <th></th>\n",
       "      <th>user_id</th>\n",
       "      <th>name</th>\n",
       "      <th>age</th>\n",
       "      <th>city</th>\n",
       "      <th>subscription_type</th>\n",
       "      <th>distance</th>\n",
       "      <th>duration</th>\n",
       "      <th>date</th>\n",
       "      <th>month</th>\n",
       "      <th>minute_price</th>\n",
       "      <th>start_ride_price</th>\n",
       "      <th>subscription_fee</th>\n",
       "    </tr>\n",
       "  </thead>\n",
       "  <tbody>\n",
       "    <tr>\n",
       "      <th>0</th>\n",
       "      <td>1</td>\n",
       "      <td>Кира</td>\n",
       "      <td>22</td>\n",
       "      <td>Тюмень</td>\n",
       "      <td>ultra</td>\n",
       "      <td>4409.919140</td>\n",
       "      <td>25.599769</td>\n",
       "      <td>2021-01-01</td>\n",
       "      <td>1</td>\n",
       "      <td>6</td>\n",
       "      <td>0</td>\n",
       "      <td>199</td>\n",
       "    </tr>\n",
       "    <tr>\n",
       "      <th>1</th>\n",
       "      <td>1</td>\n",
       "      <td>Кира</td>\n",
       "      <td>22</td>\n",
       "      <td>Тюмень</td>\n",
       "      <td>ultra</td>\n",
       "      <td>2617.592153</td>\n",
       "      <td>15.816871</td>\n",
       "      <td>2021-01-18</td>\n",
       "      <td>1</td>\n",
       "      <td>6</td>\n",
       "      <td>0</td>\n",
       "      <td>199</td>\n",
       "    </tr>\n",
       "    <tr>\n",
       "      <th>2</th>\n",
       "      <td>1</td>\n",
       "      <td>Кира</td>\n",
       "      <td>22</td>\n",
       "      <td>Тюмень</td>\n",
       "      <td>ultra</td>\n",
       "      <td>754.159807</td>\n",
       "      <td>6.232113</td>\n",
       "      <td>2021-04-20</td>\n",
       "      <td>4</td>\n",
       "      <td>6</td>\n",
       "      <td>0</td>\n",
       "      <td>199</td>\n",
       "    </tr>\n",
       "    <tr>\n",
       "      <th>3</th>\n",
       "      <td>1</td>\n",
       "      <td>Кира</td>\n",
       "      <td>22</td>\n",
       "      <td>Тюмень</td>\n",
       "      <td>ultra</td>\n",
       "      <td>2694.783254</td>\n",
       "      <td>18.511000</td>\n",
       "      <td>2021-08-11</td>\n",
       "      <td>8</td>\n",
       "      <td>6</td>\n",
       "      <td>0</td>\n",
       "      <td>199</td>\n",
       "    </tr>\n",
       "    <tr>\n",
       "      <th>4</th>\n",
       "      <td>1</td>\n",
       "      <td>Кира</td>\n",
       "      <td>22</td>\n",
       "      <td>Тюмень</td>\n",
       "      <td>ultra</td>\n",
       "      <td>4028.687306</td>\n",
       "      <td>26.265803</td>\n",
       "      <td>2021-08-28</td>\n",
       "      <td>8</td>\n",
       "      <td>6</td>\n",
       "      <td>0</td>\n",
       "      <td>199</td>\n",
       "    </tr>\n",
       "  </tbody>\n",
       "</table>\n",
       "</div>"
      ],
      "text/plain": [
       "   user_id  name  age    city subscription_type     distance   duration  \\\n",
       "0        1  Кира   22  Тюмень             ultra  4409.919140  25.599769   \n",
       "1        1  Кира   22  Тюмень             ultra  2617.592153  15.816871   \n",
       "2        1  Кира   22  Тюмень             ultra   754.159807   6.232113   \n",
       "3        1  Кира   22  Тюмень             ultra  2694.783254  18.511000   \n",
       "4        1  Кира   22  Тюмень             ultra  4028.687306  26.265803   \n",
       "\n",
       "        date  month  minute_price  start_ride_price  subscription_fee  \n",
       "0 2021-01-01      1             6                 0               199  \n",
       "1 2021-01-18      1             6                 0               199  \n",
       "2 2021-04-20      4             6                 0               199  \n",
       "3 2021-08-11      8             6                 0               199  \n",
       "4 2021-08-28      8             6                 0               199  "
      ]
     },
     "execution_count": 16,
     "metadata": {},
     "output_type": "execute_result"
    }
   ],
   "source": [
    "subtotal_df = users_df.merge(rides_df, on='user_id')\n",
    "total_df = subtotal_df.merge(subscriptions_df, on='subscription_type') #объединенный датафрейм\n",
    "total_df.head()"
   ]
  },
  {
   "cell_type": "code",
   "execution_count": 17,
   "id": "1eeaeb8e",
   "metadata": {},
   "outputs": [],
   "source": [
    "free_users = total_df.query('subscription_type == \"free\"') #дф о пользователях без подписки\n",
    "ultra_users = total_df.query('subscription_type == \"ultra\"') #дф о пользователях с подпиской"
   ]
  },
  {
   "cell_type": "code",
   "execution_count": 18,
   "id": "6cc789dc",
   "metadata": {
    "scrolled": false
   },
   "outputs": [
    {
     "data": {
      "text/plain": [
       "count    11568.000000\n",
       "mean      3045.495282\n",
       "std       1246.173806\n",
       "min          0.855683\n",
       "25%       2366.562689\n",
       "50%       3114.648465\n",
       "75%       3905.697894\n",
       "max       7211.007745\n",
       "Name: distance, dtype: float64"
      ]
     },
     "metadata": {},
     "output_type": "display_data"
    },
    {
     "data": {
      "text/plain": [
       "Text(0, 0.5, 'кол-во поездок')"
      ]
     },
     "execution_count": 18,
     "metadata": {},
     "output_type": "execute_result"
    },
    {
     "data": {
      "image/png": "[encoded data removed]",
      "text/plain": [
       "<Figure size 432x288 with 1 Axes>"
      ]
     },
     "metadata": {
      "needs_background": "light"
     },
     "output_type": "display_data"
    }
   ],
   "source": [
    "display(free_users['distance'].describe()) #расстояние поездок пользователей без подписки\n",
    "free_users['distance'].hist(bins=30)\n",
    "plt.title('гистограмма распределения расстояний одной поездки пользователей без подписки')\n",
    "plt.xlabel('расстояние, м')\n",
    "plt.ylabel('кол-во поездок')"
   ]
  },
  {
   "cell_type": "code",
   "execution_count": 19,
   "id": "bce48308",
   "metadata": {},
   "outputs": [
    {
     "data": {
      "text/plain": [
       "count    6500.000000\n",
       "mean     3115.445388\n",
       "std       836.895330\n",
       "min       244.210438\n",
       "25%      2785.444017\n",
       "50%      3148.637229\n",
       "75%      3560.574425\n",
       "max      5699.769662\n",
       "Name: distance, dtype: float64"
      ]
     },
     "metadata": {},
     "output_type": "display_data"
    },
    {
     "data": {
      "text/plain": [
       "Text(0, 0.5, 'кол-во поездок')"
      ]
     },
     "execution_count": 19,
     "metadata": {},
     "output_type": "execute_result"
    },
    {
     "data": {
      "image/png": "[encoded data removed]",
      "text/plain": [
       "<Figure size 432x288 with 1 Axes>"
      ]
     },
     "metadata": {
      "needs_background": "light"
     },
     "output_type": "display_data"
    }
   ],
   "source": [
    "display(ultra_users['distance'].describe()) #расстояние поездок пользователей с подпиской\n",
    "ultra_users['distance'].hist(bins=30)\n",
    "plt.title('гистограмма распределения расстояний одной поездки пользователей с подпиской')\n",
    "plt.xlabel('расстояние, м')\n",
    "plt.ylabel('кол-во поездок')"
   ]
  },
  {
   "cell_type": "code",
   "execution_count": 20,
   "id": "84daf1f2",
   "metadata": {},
   "outputs": [
    {
     "data": {
      "text/plain": [
       "count    11568.000000\n",
       "mean        17.390909\n",
       "std          6.326803\n",
       "min          0.500000\n",
       "25%         12.958437\n",
       "50%         17.326890\n",
       "75%         21.594071\n",
       "max         34.948498\n",
       "Name: duration, dtype: float64"
      ]
     },
     "metadata": {},
     "output_type": "display_data"
    },
    {
     "data": {
      "text/plain": [
       "Text(0, 0.5, 'кол-во поездок')"
      ]
     },
     "execution_count": 20,
     "metadata": {},
     "output_type": "execute_result"
    },
    {
     "data": {
      "image/png": "[encoded data removed]",
      "text/plain": [
       "<Figure size 432x288 with 1 Axes>"
      ]
     },
     "metadata": {
      "needs_background": "light"
     },
     "output_type": "display_data"
    }
   ],
   "source": [
    "display(free_users['duration'].describe()) #время поездок пользователей без подписки\n",
    "free_users['duration'].hist(bins=30)\n",
    "plt.title('гистограмма распределения времени одной поездки пользователей без подписки')\n",
    "plt.xlabel('время, мин')\n",
    "plt.ylabel('кол-во поездок')"
   ]
  },
  {
   "cell_type": "code",
   "execution_count": 21,
   "id": "4e294e8b",
   "metadata": {},
   "outputs": [
    {
     "data": {
      "text/plain": [
       "count    6500.000000\n",
       "mean       18.541985\n",
       "std         5.572048\n",
       "min         3.760353\n",
       "25%        14.524654\n",
       "50%        18.178153\n",
       "75%        21.884129\n",
       "max        40.823963\n",
       "Name: duration, dtype: float64"
      ]
     },
     "metadata": {},
     "output_type": "display_data"
    },
    {
     "data": {
      "text/plain": [
       "Text(0, 0.5, 'кол-во поездок')"
      ]
     },
     "execution_count": 21,
     "metadata": {},
     "output_type": "execute_result"
    },
    {
     "data": {
      "image/png": "[encoded data removed]",
      "text/plain": [
       "<Figure size 432x288 with 1 Axes>"
      ]
     },
     "metadata": {
      "needs_background": "light"
     },
     "output_type": "display_data"
    }
   ],
   "source": [
    "display(ultra_users['duration'].describe()) #время поездок пользователей с подпиской\n",
    "ultra_users['duration'].hist(bins=30)\n",
    "plt.title('гистограмма распределения времени одной поездки пользователей с подпиской')\n",
    "plt.xlabel('время, мин')\n",
    "plt.ylabel('кол-во поездок')"
   ]
  },
  {
   "cell_type": "markdown",
   "id": "daee214f",
   "metadata": {},
   "source": [
    "Кол-во поездок пользователей без подписки почти в два раза больше, чем у пользователей с подпиской. Среднее преодолеваемое расстояние и у тех и у других чуть больше 3 км. Пользователи с подпиской, в среднем, используют самокат на 1 минуту дольше, чем пользователи без подписки"
   ]
  },
  {
   "cell_type": "markdown",
   "id": "402d620f",
   "metadata": {},
   "source": [
    "#### Шаг 5. Подсчёт выручки"
   ]
  },
  {
   "cell_type": "code",
   "execution_count": 22,
   "id": "e69cd5bd",
   "metadata": {},
   "outputs": [
    {
     "data": {
      "text/html": [
       "<div>\n",
       "<style scoped>\n",
       "    .dataframe tbody tr th:only-of-type {\n",
       "        vertical-align: middle;\n",
       "    }\n",
       "\n",
       "    .dataframe tbody tr th {\n",
       "        vertical-align: top;\n",
       "    }\n",
       "\n",
       "    .dataframe thead th {\n",
       "        text-align: right;\n",
       "    }\n",
       "</style>\n",
       "<table border=\"1\" class=\"dataframe\">\n",
       "  <thead>\n",
       "    <tr style=\"text-align: right;\">\n",
       "      <th></th>\n",
       "      <th>user_id</th>\n",
       "      <th>name</th>\n",
       "      <th>age</th>\n",
       "      <th>city</th>\n",
       "      <th>subscription_type</th>\n",
       "      <th>distance</th>\n",
       "      <th>duration</th>\n",
       "      <th>date</th>\n",
       "      <th>month</th>\n",
       "      <th>minute_price</th>\n",
       "      <th>start_ride_price</th>\n",
       "      <th>subscription_fee</th>\n",
       "    </tr>\n",
       "  </thead>\n",
       "  <tbody>\n",
       "    <tr>\n",
       "      <th>0</th>\n",
       "      <td>1</td>\n",
       "      <td>Кира</td>\n",
       "      <td>22</td>\n",
       "      <td>Тюмень</td>\n",
       "      <td>ultra</td>\n",
       "      <td>4409.919140</td>\n",
       "      <td>26</td>\n",
       "      <td>2021-01-01</td>\n",
       "      <td>1</td>\n",
       "      <td>6</td>\n",
       "      <td>0</td>\n",
       "      <td>199</td>\n",
       "    </tr>\n",
       "    <tr>\n",
       "      <th>1</th>\n",
       "      <td>1</td>\n",
       "      <td>Кира</td>\n",
       "      <td>22</td>\n",
       "      <td>Тюмень</td>\n",
       "      <td>ultra</td>\n",
       "      <td>2617.592153</td>\n",
       "      <td>16</td>\n",
       "      <td>2021-01-18</td>\n",
       "      <td>1</td>\n",
       "      <td>6</td>\n",
       "      <td>0</td>\n",
       "      <td>199</td>\n",
       "    </tr>\n",
       "    <tr>\n",
       "      <th>2</th>\n",
       "      <td>1</td>\n",
       "      <td>Кира</td>\n",
       "      <td>22</td>\n",
       "      <td>Тюмень</td>\n",
       "      <td>ultra</td>\n",
       "      <td>754.159807</td>\n",
       "      <td>7</td>\n",
       "      <td>2021-04-20</td>\n",
       "      <td>4</td>\n",
       "      <td>6</td>\n",
       "      <td>0</td>\n",
       "      <td>199</td>\n",
       "    </tr>\n",
       "    <tr>\n",
       "      <th>3</th>\n",
       "      <td>1</td>\n",
       "      <td>Кира</td>\n",
       "      <td>22</td>\n",
       "      <td>Тюмень</td>\n",
       "      <td>ultra</td>\n",
       "      <td>2694.783254</td>\n",
       "      <td>19</td>\n",
       "      <td>2021-08-11</td>\n",
       "      <td>8</td>\n",
       "      <td>6</td>\n",
       "      <td>0</td>\n",
       "      <td>199</td>\n",
       "    </tr>\n",
       "    <tr>\n",
       "      <th>4</th>\n",
       "      <td>1</td>\n",
       "      <td>Кира</td>\n",
       "      <td>22</td>\n",
       "      <td>Тюмень</td>\n",
       "      <td>ultra</td>\n",
       "      <td>4028.687306</td>\n",
       "      <td>27</td>\n",
       "      <td>2021-08-28</td>\n",
       "      <td>8</td>\n",
       "      <td>6</td>\n",
       "      <td>0</td>\n",
       "      <td>199</td>\n",
       "    </tr>\n",
       "  </tbody>\n",
       "</table>\n",
       "</div>"
      ],
      "text/plain": [
       "   user_id  name  age    city subscription_type     distance  duration  \\\n",
       "0        1  Кира   22  Тюмень             ultra  4409.919140        26   \n",
       "1        1  Кира   22  Тюмень             ultra  2617.592153        16   \n",
       "2        1  Кира   22  Тюмень             ultra   754.159807         7   \n",
       "3        1  Кира   22  Тюмень             ultra  2694.783254        19   \n",
       "4        1  Кира   22  Тюмень             ultra  4028.687306        27   \n",
       "\n",
       "        date  month  minute_price  start_ride_price  subscription_fee  \n",
       "0 2021-01-01      1             6                 0               199  \n",
       "1 2021-01-18      1             6                 0               199  \n",
       "2 2021-04-20      4             6                 0               199  \n",
       "3 2021-08-11      8             6                 0               199  \n",
       "4 2021-08-28      8             6                 0               199  "
      ]
     },
     "execution_count": 22,
     "metadata": {},
     "output_type": "execute_result"
    }
   ],
   "source": [
    "total_df['duration'] = np.ceil(total_df['duration']).astype('int') #округляем суммарное время до целого числа вверх и приводим тип данных в столбце к int\n",
    "total_df.head()"
   ]
  },
  {
   "cell_type": "code",
   "execution_count": 23,
   "id": "53049e0a",
   "metadata": {},
   "outputs": [
    {
     "data": {
      "text/html": [
       "<div>\n",
       "<style scoped>\n",
       "    .dataframe tbody tr th:only-of-type {\n",
       "        vertical-align: middle;\n",
       "    }\n",
       "\n",
       "    .dataframe tbody tr th {\n",
       "        vertical-align: top;\n",
       "    }\n",
       "\n",
       "    .dataframe thead th {\n",
       "        text-align: right;\n",
       "    }\n",
       "</style>\n",
       "<table border=\"1\" class=\"dataframe\">\n",
       "  <thead>\n",
       "    <tr style=\"text-align: right;\">\n",
       "      <th></th>\n",
       "      <th></th>\n",
       "      <th></th>\n",
       "      <th></th>\n",
       "      <th></th>\n",
       "      <th></th>\n",
       "      <th>count</th>\n",
       "      <th>sum_distance</th>\n",
       "      <th>sum_duration</th>\n",
       "    </tr>\n",
       "    <tr>\n",
       "      <th>user_id</th>\n",
       "      <th>month</th>\n",
       "      <th>subscription_type</th>\n",
       "      <th>minute_price</th>\n",
       "      <th>start_ride_price</th>\n",
       "      <th>subscription_fee</th>\n",
       "      <th></th>\n",
       "      <th></th>\n",
       "      <th></th>\n",
       "    </tr>\n",
       "  </thead>\n",
       "  <tbody>\n",
       "    <tr>\n",
       "      <th rowspan=\"5\" valign=\"top\">1</th>\n",
       "      <th>1</th>\n",
       "      <th>ultra</th>\n",
       "      <th>6</th>\n",
       "      <th>0</th>\n",
       "      <th>199</th>\n",
       "      <td>2</td>\n",
       "      <td>7027.511294</td>\n",
       "      <td>42</td>\n",
       "    </tr>\n",
       "    <tr>\n",
       "      <th>4</th>\n",
       "      <th>ultra</th>\n",
       "      <th>6</th>\n",
       "      <th>0</th>\n",
       "      <th>199</th>\n",
       "      <td>1</td>\n",
       "      <td>754.159807</td>\n",
       "      <td>7</td>\n",
       "    </tr>\n",
       "    <tr>\n",
       "      <th>8</th>\n",
       "      <th>ultra</th>\n",
       "      <th>6</th>\n",
       "      <th>0</th>\n",
       "      <th>199</th>\n",
       "      <td>2</td>\n",
       "      <td>6723.470560</td>\n",
       "      <td>46</td>\n",
       "    </tr>\n",
       "    <tr>\n",
       "      <th>10</th>\n",
       "      <th>ultra</th>\n",
       "      <th>6</th>\n",
       "      <th>0</th>\n",
       "      <th>199</th>\n",
       "      <td>2</td>\n",
       "      <td>5809.911100</td>\n",
       "      <td>32</td>\n",
       "    </tr>\n",
       "    <tr>\n",
       "      <th>11</th>\n",
       "      <th>ultra</th>\n",
       "      <th>6</th>\n",
       "      <th>0</th>\n",
       "      <th>199</th>\n",
       "      <td>3</td>\n",
       "      <td>7003.499363</td>\n",
       "      <td>56</td>\n",
       "    </tr>\n",
       "  </tbody>\n",
       "</table>\n",
       "</div>"
      ],
      "text/plain": [
       "                                                                                count  \\\n",
       "user_id month subscription_type minute_price start_ride_price subscription_fee          \n",
       "1       1     ultra             6            0                199                   2   \n",
       "        4     ultra             6            0                199                   1   \n",
       "        8     ultra             6            0                199                   2   \n",
       "        10    ultra             6            0                199                   2   \n",
       "        11    ultra             6            0                199                   3   \n",
       "\n",
       "                                                                                sum_distance  \\\n",
       "user_id month subscription_type minute_price start_ride_price subscription_fee                 \n",
       "1       1     ultra             6            0                199                7027.511294   \n",
       "        4     ultra             6            0                199                 754.159807   \n",
       "        8     ultra             6            0                199                6723.470560   \n",
       "        10    ultra             6            0                199                5809.911100   \n",
       "        11    ultra             6            0                199                7003.499363   \n",
       "\n",
       "                                                                                sum_duration  \n",
       "user_id month subscription_type minute_price start_ride_price subscription_fee                \n",
       "1       1     ultra             6            0                199                         42  \n",
       "        4     ultra             6            0                199                          7  \n",
       "        8     ultra             6            0                199                         46  \n",
       "        10    ultra             6            0                199                         32  \n",
       "        11    ultra             6            0                199                         56  "
      ]
     },
     "execution_count": 23,
     "metadata": {},
     "output_type": "execute_result"
    }
   ],
   "source": [
    "month_pivot = total_df.pivot_table(index=['user_id', 'month', 'subscription_type', 'minute_price', 'start_ride_price', 'subscription_fee'], values=['distance', 'duration'], aggfunc={'distance': ['count', 'sum'], 'duration': 'sum'}) #создаем сводную таблицу с данными поездок для каждого пользователя по месяцам\n",
    "month_pivot.columns = ['count', 'sum_distance', 'sum_duration'] #переименовываем названия столбцов\n",
    "month_pivot.head()"
   ]
  },
  {
   "cell_type": "code",
   "execution_count": 24,
   "id": "d5f65790",
   "metadata": {},
   "outputs": [
    {
     "data": {
      "text/html": [
       "<div>\n",
       "<style scoped>\n",
       "    .dataframe tbody tr th:only-of-type {\n",
       "        vertical-align: middle;\n",
       "    }\n",
       "\n",
       "    .dataframe tbody tr th {\n",
       "        vertical-align: top;\n",
       "    }\n",
       "\n",
       "    .dataframe thead th {\n",
       "        text-align: right;\n",
       "    }\n",
       "</style>\n",
       "<table border=\"1\" class=\"dataframe\">\n",
       "  <thead>\n",
       "    <tr style=\"text-align: right;\">\n",
       "      <th></th>\n",
       "      <th>user_id</th>\n",
       "      <th>month</th>\n",
       "      <th>subscription_type</th>\n",
       "      <th>minute_price</th>\n",
       "      <th>start_ride_price</th>\n",
       "      <th>subscription_fee</th>\n",
       "      <th>count</th>\n",
       "      <th>sum_distance</th>\n",
       "      <th>sum_duration</th>\n",
       "      <th>monthly_revenue</th>\n",
       "    </tr>\n",
       "  </thead>\n",
       "  <tbody>\n",
       "    <tr>\n",
       "      <th>0</th>\n",
       "      <td>1</td>\n",
       "      <td>1</td>\n",
       "      <td>ultra</td>\n",
       "      <td>6</td>\n",
       "      <td>0</td>\n",
       "      <td>199</td>\n",
       "      <td>2</td>\n",
       "      <td>7027.511294</td>\n",
       "      <td>42</td>\n",
       "      <td>451</td>\n",
       "    </tr>\n",
       "    <tr>\n",
       "      <th>1</th>\n",
       "      <td>1</td>\n",
       "      <td>4</td>\n",
       "      <td>ultra</td>\n",
       "      <td>6</td>\n",
       "      <td>0</td>\n",
       "      <td>199</td>\n",
       "      <td>1</td>\n",
       "      <td>754.159807</td>\n",
       "      <td>7</td>\n",
       "      <td>241</td>\n",
       "    </tr>\n",
       "    <tr>\n",
       "      <th>2</th>\n",
       "      <td>1</td>\n",
       "      <td>8</td>\n",
       "      <td>ultra</td>\n",
       "      <td>6</td>\n",
       "      <td>0</td>\n",
       "      <td>199</td>\n",
       "      <td>2</td>\n",
       "      <td>6723.470560</td>\n",
       "      <td>46</td>\n",
       "      <td>475</td>\n",
       "    </tr>\n",
       "    <tr>\n",
       "      <th>3</th>\n",
       "      <td>1</td>\n",
       "      <td>10</td>\n",
       "      <td>ultra</td>\n",
       "      <td>6</td>\n",
       "      <td>0</td>\n",
       "      <td>199</td>\n",
       "      <td>2</td>\n",
       "      <td>5809.911100</td>\n",
       "      <td>32</td>\n",
       "      <td>391</td>\n",
       "    </tr>\n",
       "    <tr>\n",
       "      <th>4</th>\n",
       "      <td>1</td>\n",
       "      <td>11</td>\n",
       "      <td>ultra</td>\n",
       "      <td>6</td>\n",
       "      <td>0</td>\n",
       "      <td>199</td>\n",
       "      <td>3</td>\n",
       "      <td>7003.499363</td>\n",
       "      <td>56</td>\n",
       "      <td>535</td>\n",
       "    </tr>\n",
       "  </tbody>\n",
       "</table>\n",
       "</div>"
      ],
      "text/plain": [
       "   user_id  month subscription_type  minute_price  start_ride_price  \\\n",
       "0        1      1             ultra             6                 0   \n",
       "1        1      4             ultra             6                 0   \n",
       "2        1      8             ultra             6                 0   \n",
       "3        1     10             ultra             6                 0   \n",
       "4        1     11             ultra             6                 0   \n",
       "\n",
       "   subscription_fee  count  sum_distance  sum_duration  monthly_revenue  \n",
       "0               199      2   7027.511294            42              451  \n",
       "1               199      1    754.159807             7              241  \n",
       "2               199      2   6723.470560            46              475  \n",
       "3               199      2   5809.911100            32              391  \n",
       "4               199      3   7003.499363            56              535  "
      ]
     },
     "execution_count": 24,
     "metadata": {},
     "output_type": "execute_result"
    }
   ],
   "source": [
    "month_pivot.reset_index(inplace=True) #ничего лучше не придумал, без этого следующая строка не работала\n",
    "month_pivot['monthly_revenue'] = month_pivot['start_ride_price'] * month_pivot['count'] + month_pivot['minute_price'] * month_pivot['sum_duration'] + month_pivot['subscription_fee'] #рассчитываем помесячную выручку от пользователя по месяцам\n",
    "month_pivot.head()"
   ]
  },
  {
   "cell_type": "markdown",
   "id": "41545ac0",
   "metadata": {},
   "source": [
    "#### Шаг 6. Проверка гипотез"
   ]
  },
  {
   "cell_type": "markdown",
   "id": "28948ea3",
   "metadata": {},
   "source": [
    "##### Проверка гипотезы: тратят ли пользователи с подпиской больше времени на поездки?"
   ]
  },
  {
   "cell_type": "markdown",
   "id": "3aa8a5b7",
   "metadata": {},
   "source": [
    "Здесь первая генеральная совокупность (с подпиской) меньше второй (без подписки) почти в 2 раза, стоит ли здесь здесь оценивать вторую по выборке или это касается очень больших объемов данных? Если да (стОит), то к такому меня жизнь не готовила."
   ]
  },
  {
   "cell_type": "markdown",
   "id": "208d2d00",
   "metadata": {},
   "source": [
    "H<sub>0</sub>: между средними значениями двух совокупностей нет разницы, они равны  \n",
    "H<sub>1</sub>: среднее значение первой генеральной совокупности (с подпиской) больше среднего значения второй генеральной совокупности (без подписки)"
   ]
  },
  {
   "cell_type": "code",
   "execution_count": 25,
   "id": "23ea867b",
   "metadata": {},
   "outputs": [
    {
     "name": "stdout",
     "output_type": "stream",
     "text": [
      "p-значение: 1.2804098316645618e-34\n",
      "Отвергаем нулевую гипотезу\n"
     ]
    }
   ],
   "source": [
    "alpha = .05 #уровень статистической значимости\n",
    "\n",
    "results = st.ttest_ind(ultra_users['duration'], free_users['duration'], alternative='greater')\n",
    "\n",
    "print('p-значение:', results.pvalue)\n",
    "if results.pvalue < alpha:\n",
    "    print('Отвергаем нулевую гипотезу')\n",
    "else:\n",
    "    print('Нет оснований отвергнуть нулевую гипотезу')\n",
    "\n"
   ]
  },
  {
   "cell_type": "markdown",
   "id": "60e3e150",
   "metadata": {},
   "source": [
    "Есть основания говорить, что пользователи с подпиской тратят больше времени на поездки  \n",
    "P.S. похожий вывод сделан в шаге 4"
   ]
  },
  {
   "cell_type": "markdown",
   "id": "dc95428b",
   "metadata": {},
   "source": [
    "##### Проверка гипотезы: среднее расстояние, которое проезжают пользователи с подпиской за одну поездку, не превышает 3130 метров? "
   ]
  },
  {
   "cell_type": "markdown",
   "id": "25e7d1c1",
   "metadata": {},
   "source": [
    "H<sub>0</sub>: среднее расстояние, которое проезжаю пользователи с подпиской за одну поездку равно 3130 м  \n",
    "H<sub>1</sub>: среднее расстояние, которое проезжаю пользователи с подпиской за одну поездку больше 3130 м"
   ]
  },
  {
   "cell_type": "code",
   "execution_count": 26,
   "id": "cc14fbcc",
   "metadata": {},
   "outputs": [
    {
     "name": "stdout",
     "output_type": "stream",
     "text": [
      "p-значение: 0.9195368847849785\n",
      "Нет оснований отвергнуть нулевую гипотезу\n"
     ]
    }
   ],
   "source": [
    "alpha = .05 #уровень статистической значимости\n",
    "\n",
    "avg_distance = 3130\n",
    "\n",
    "results = st.ttest_1samp(ultra_users['distance'], avg_distance , alternative='greater')\n",
    "\n",
    "print('p-значение:', results.pvalue)\n",
    "if results.pvalue < alpha:\n",
    "    print('Отвергаем нулевую гипотезу')\n",
    "else:\n",
    "    print('Нет оснований отвергнуть нулевую гипотезу')"
   ]
  },
  {
   "cell_type": "markdown",
   "id": "dda09410",
   "metadata": {},
   "source": [
    "Есть основания полагать, что среднее расстояние одной поездки не превышает оптимального с точки зрения износа самоката"
   ]
  },
  {
   "cell_type": "markdown",
   "id": "7bc7ead5",
   "metadata": {},
   "source": [
    "##### Помесячная выручка от пользователей с подпиской по месяцам выше, чем выручка от пользователей без подписки?"
   ]
  },
  {
   "cell_type": "markdown",
   "id": "0cd9281a",
   "metadata": {},
   "source": [
    "H<sub>0</sub>: между средними значениями двух совокупностей нет разницы, они равны  \n",
    "H<sub>1</sub>: среднее значение первой генеральной совокупности (с подпиской) больше среднего значения второй генеральной совокупности (без подписки)"
   ]
  },
  {
   "cell_type": "code",
   "execution_count": 27,
   "id": "ea66f0bb",
   "metadata": {},
   "outputs": [
    {
     "name": "stdout",
     "output_type": "stream",
     "text": [
      "p-значение: 1.8850394384715216e-31\n",
      "Отвергаем нулевую гипотезу\n"
     ]
    }
   ],
   "source": [
    "alpha = .05 #уровень статистической значимости\n",
    "\n",
    "results = st.ttest_ind(month_pivot.query('subscription_type == \"ultra\"')['monthly_revenue'], month_pivot.query('subscription_type == \"free\"')['monthly_revenue'], alternative='greater')\n",
    "\n",
    "print('p-значение:', results.pvalue)\n",
    "if results.pvalue < alpha:\n",
    "    print('Отвергаем нулевую гипотезу')\n",
    "else:\n",
    "    print('Нет оснований отвергнуть нулевую гипотезу')"
   ]
  },
  {
   "cell_type": "markdown",
   "id": "bd2dcf6c",
   "metadata": {},
   "source": [
    "Есть основания полагать, что пользователи с подпиской приносят выручки больше, чем пользователи без подписки"
   ]
  },
  {
   "cell_type": "markdown",
   "id": "9f26d44c",
   "metadata": {},
   "source": [
    "##### Вопрос о тесте для проверки гипотезы"
   ]
  },
  {
   "cell_type": "markdown",
   "id": "ccdd4630",
   "metadata": {},
   "source": [
    "Гипотеза: количество обращений в техподдержку значимо снизится после обновления сервера  \n",
    "Так как в данном случае мы рассматриваем одну генеральную совокупность, а именно данные о кол-ве обращений для каждого пользователя до обновления и после него, то следует использовать гипотезу о равенстве средних для зависимых выборок и применить тест st.ttest_rel()"
   ]
  },
  {
   "cell_type": "markdown",
   "id": "113df7ff",
   "metadata": {},
   "source": [
    "#### Общий вывод"
   ]
  },
  {
   "cell_type": "markdown",
   "id": "88bd8eed",
   "metadata": {},
   "source": [
    "В данном проекте был проведен анализ данных и проверены гипотезы для сервиса аренды самокатов.  \n",
    "Выполнена предобработка данных в датафрейме с поездками - изменен тип данных столбца 'date' на тип даты, а также создан новый столбец с номером месяца поездки. В датафрейме с пользователями были обнаружены и удалены явные дубликаты.  \n",
    "Выполнен исследовательский анализ данных: доли пользователей по городам распределены равномерно, всех больше в Пятигорске (14%), всех меньше в Москве (11%). Пользователей с подпиской чуть меньше (45,6), чем пользователей без нее (54,4). График распределения возраста имеет вид нормального распределения со средним значением в 24,9 лет. Графики распределения расстояния и времени имеют вид нормального распределения (на гистограмме дистанции есть еще малый пик в районе ~500 м) со средними 3070,7 м и 17,8 минут соотвественно.  \n",
    "Выполено объединение данных и получены датафреймы с данными о пользователях без подписки и с подпиской. На основе этих данных сделаны следующие выводы: кол-во поездок пользователей без подписки почти в два раза больше (11568), чем у пользователей с подпиской (6500). Среднее преодолеваемое расстояние и у тех и у других чуть больше 3 км. Пользователи с подпиской, в среднем, используют самокат на 1 минуту дольше, чем пользователи без подписки.  \n",
    "Произведен подсчет выручки, полученной от каждого пользователя, по месяцам. \n",
    "Проверены гипотезы и сделаны выводы:\n",
    "1. Пользователи с подпиской тратят больше времени на поездки, чем пользователи без нее\n",
    "2. Среднее расстояние одной поездки не превышает оптимального с точки зрения износа самоката\n",
    "3. Пользователи с подпиской приносят выручки больше, чем пользователи без подписки -> являются более выгодными  \n",
    "\n",
    "Был дан ответ выбора теста для гипотезы: количество обращений в техподдержку значимо снизится после обновления сервера.  \n",
    "Так как в данном случае мы рассматриваем одну генеральную совокупность, а именно данные о кол-ве обращений для каждого пользователя до обновления и после него, то следует использовать гипотезу о равенстве средних для зависимых выборок и применить тест st.ttest_rel()"
   ]
  }
 ],
 "metadata": {
  "ExecuteTimeLog": [
   {
    "duration": 400,
    "start_time": "2024-07-04T20:44:50.862Z"
   },
   {
    "duration": 395,
    "start_time": "2024-07-04T20:46:17.605Z"
   },
   {
    "duration": 355,
    "start_time": "2024-07-04T20:48:28.227Z"
   },
   {
    "duration": 2,
    "start_time": "2024-07-04T20:49:14.662Z"
   },
   {
    "duration": 37,
    "start_time": "2024-07-04T20:50:36.246Z"
   },
   {
    "duration": 53,
    "start_time": "2024-07-04T20:50:58.144Z"
   },
   {
    "duration": 76,
    "start_time": "2024-07-04T21:00:59.404Z"
   },
   {
    "duration": 122,
    "start_time": "2024-07-04T21:19:36.455Z"
   },
   {
    "duration": 40,
    "start_time": "2024-07-04T21:20:42.475Z"
   },
   {
    "duration": 37,
    "start_time": "2024-07-04T21:21:05.629Z"
   },
   {
    "duration": 100,
    "start_time": "2024-07-04T21:22:06.701Z"
   },
   {
    "duration": 80,
    "start_time": "2024-07-04T21:23:27.965Z"
   },
   {
    "duration": 5,
    "start_time": "2024-07-06T09:46:16.319Z"
   },
   {
    "duration": 5,
    "start_time": "2024-07-06T09:46:29.015Z"
   },
   {
    "duration": 5,
    "start_time": "2024-07-06T09:46:35.231Z"
   },
   {
    "duration": 10,
    "start_time": "2024-07-06T09:51:35.482Z"
   },
   {
    "duration": 7,
    "start_time": "2024-07-06T09:51:49.146Z"
   },
   {
    "duration": 8,
    "start_time": "2024-07-06T09:52:07.889Z"
   },
   {
    "duration": 6,
    "start_time": "2024-07-06T09:52:29.982Z"
   },
   {
    "duration": 12,
    "start_time": "2024-07-06T09:52:41.575Z"
   },
   {
    "duration": 129,
    "start_time": "2024-07-06T09:53:03.419Z"
   },
   {
    "duration": 118,
    "start_time": "2024-07-06T09:53:10.616Z"
   },
   {
    "duration": 223,
    "start_time": "2024-07-06T09:53:59.202Z"
   },
   {
    "duration": 122,
    "start_time": "2024-07-06T09:54:09.297Z"
   },
   {
    "duration": 39,
    "start_time": "2024-07-06T09:54:50.532Z"
   },
   {
    "duration": 48,
    "start_time": "2024-07-06T09:55:09.959Z"
   },
   {
    "duration": 38,
    "start_time": "2024-07-06T09:55:35.733Z"
   },
   {
    "duration": 8,
    "start_time": "2024-07-06T09:57:26.736Z"
   },
   {
    "duration": 5,
    "start_time": "2024-07-06T09:57:35.066Z"
   },
   {
    "duration": 5,
    "start_time": "2024-07-06T10:02:31.904Z"
   },
   {
    "duration": 6,
    "start_time": "2024-07-06T10:06:47.451Z"
   },
   {
    "duration": 219,
    "start_time": "2024-07-06T10:06:54.445Z"
   },
   {
    "duration": 16,
    "start_time": "2024-07-06T10:07:21.610Z"
   },
   {
    "duration": 6,
    "start_time": "2024-07-06T10:08:06.429Z"
   },
   {
    "duration": 999,
    "start_time": "2024-07-06T10:08:22.300Z"
   },
   {
    "duration": 11,
    "start_time": "2024-07-06T10:08:34.058Z"
   },
   {
    "duration": 7,
    "start_time": "2024-07-06T10:08:55.314Z"
   },
   {
    "duration": 134,
    "start_time": "2024-07-06T10:09:36.700Z"
   },
   {
    "duration": 134,
    "start_time": "2024-07-06T10:09:44.455Z"
   },
   {
    "duration": 147,
    "start_time": "2024-07-06T10:10:34.620Z"
   },
   {
    "duration": 188,
    "start_time": "2024-07-06T10:10:42.184Z"
   },
   {
    "duration": 147,
    "start_time": "2024-07-06T10:11:10.088Z"
   },
   {
    "duration": 36,
    "start_time": "2024-07-06T10:20:19.885Z"
   },
   {
    "duration": 7,
    "start_time": "2024-07-06T10:25:53.155Z"
   },
   {
    "duration": 7,
    "start_time": "2024-07-06T10:25:57.482Z"
   },
   {
    "duration": 7,
    "start_time": "2024-07-06T10:26:01.445Z"
   },
   {
    "duration": 18,
    "start_time": "2024-07-06T10:26:18.480Z"
   },
   {
    "duration": 15,
    "start_time": "2024-07-06T10:26:29.671Z"
   },
   {
    "duration": 17,
    "start_time": "2024-07-06T10:26:37.786Z"
   },
   {
    "duration": 15,
    "start_time": "2024-07-06T15:41:30.023Z"
   },
   {
    "duration": 7,
    "start_time": "2024-07-06T15:42:30.780Z"
   },
   {
    "duration": 7,
    "start_time": "2024-07-06T15:42:33.732Z"
   },
   {
    "duration": 4,
    "start_time": "2024-07-06T15:43:21.157Z"
   },
   {
    "duration": 8,
    "start_time": "2024-07-06T15:43:40.438Z"
   },
   {
    "duration": 15,
    "start_time": "2024-07-06T15:44:23.758Z"
   },
   {
    "duration": 9,
    "start_time": "2024-07-06T15:44:26.028Z"
   },
   {
    "duration": 8,
    "start_time": "2024-07-06T15:44:33.509Z"
   },
   {
    "duration": 5,
    "start_time": "2024-07-06T15:46:44.061Z"
   },
   {
    "duration": 8,
    "start_time": "2024-07-06T15:48:11.069Z"
   },
   {
    "duration": 5,
    "start_time": "2024-07-06T15:48:51.577Z"
   },
   {
    "duration": 5,
    "start_time": "2024-07-06T15:49:40.782Z"
   },
   {
    "duration": 6,
    "start_time": "2024-07-06T15:52:03.590Z"
   },
   {
    "duration": 9,
    "start_time": "2024-07-06T15:52:55.526Z"
   },
   {
    "duration": 6,
    "start_time": "2024-07-06T15:53:13.498Z"
   },
   {
    "duration": 7,
    "start_time": "2024-07-06T15:53:38.654Z"
   },
   {
    "duration": 9,
    "start_time": "2024-07-06T15:53:44.696Z"
   },
   {
    "duration": 5,
    "start_time": "2024-07-06T16:01:55.638Z"
   },
   {
    "duration": 4,
    "start_time": "2024-07-06T16:02:02.929Z"
   },
   {
    "duration": 5,
    "start_time": "2024-07-06T16:02:13.433Z"
   },
   {
    "duration": 8,
    "start_time": "2024-07-06T16:03:26.308Z"
   },
   {
    "duration": 3,
    "start_time": "2024-07-06T16:03:39.858Z"
   },
   {
    "duration": 3,
    "start_time": "2024-07-06T16:03:51.102Z"
   },
   {
    "duration": 23,
    "start_time": "2024-07-06T16:04:07.099Z"
   },
   {
    "duration": 5,
    "start_time": "2024-07-06T16:04:14.126Z"
   },
   {
    "duration": 5,
    "start_time": "2024-07-06T16:08:15.708Z"
   },
   {
    "duration": 7,
    "start_time": "2024-07-06T16:08:40.839Z"
   },
   {
    "duration": 7,
    "start_time": "2024-07-06T16:10:00.701Z"
   },
   {
    "duration": 9,
    "start_time": "2024-07-06T16:10:27.770Z"
   },
   {
    "duration": 9,
    "start_time": "2024-07-06T16:10:33.665Z"
   },
   {
    "duration": 6,
    "start_time": "2024-07-06T16:11:31.712Z"
   },
   {
    "duration": 15,
    "start_time": "2024-07-06T16:11:42.177Z"
   },
   {
    "duration": 113,
    "start_time": "2024-07-06T16:12:00.609Z"
   },
   {
    "duration": 116,
    "start_time": "2024-07-06T16:13:22.604Z"
   },
   {
    "duration": 68,
    "start_time": "2024-07-06T16:15:02.611Z"
   },
   {
    "duration": 12,
    "start_time": "2024-07-06T16:15:08.923Z"
   },
   {
    "duration": 117,
    "start_time": "2024-07-06T16:15:57.139Z"
   },
   {
    "duration": 8,
    "start_time": "2024-07-06T16:16:27.437Z"
   },
   {
    "duration": 8,
    "start_time": "2024-07-06T16:18:25.389Z"
   },
   {
    "duration": 153,
    "start_time": "2024-07-06T16:18:41.564Z"
   },
   {
    "duration": 11,
    "start_time": "2024-07-06T16:18:55.966Z"
   },
   {
    "duration": 90,
    "start_time": "2024-07-06T16:19:08.848Z"
   },
   {
    "duration": 85,
    "start_time": "2024-07-06T16:19:15.332Z"
   },
   {
    "duration": 16,
    "start_time": "2024-07-06T16:19:55.047Z"
   },
   {
    "duration": 79,
    "start_time": "2024-07-06T16:20:44.056Z"
   },
   {
    "duration": 6,
    "start_time": "2024-07-06T16:20:54.120Z"
   },
   {
    "duration": 5,
    "start_time": "2024-07-06T16:21:44.926Z"
   },
   {
    "duration": 13464,
    "start_time": "2024-07-06T16:23:11.049Z"
   },
   {
    "duration": 127,
    "start_time": "2024-07-06T16:23:49.403Z"
   },
   {
    "duration": 121,
    "start_time": "2024-07-06T19:55:43.403Z"
   },
   {
    "duration": 237,
    "start_time": "2024-07-06T19:56:46.089Z"
   },
   {
    "duration": 122,
    "start_time": "2024-07-06T19:57:49.963Z"
   },
   {
    "duration": 972,
    "start_time": "2024-07-06T19:58:22.628Z"
   },
   {
    "duration": 152,
    "start_time": "2024-07-06T19:58:33.196Z"
   },
   {
    "duration": 142,
    "start_time": "2024-07-06T20:00:50.390Z"
   },
   {
    "duration": 7,
    "start_time": "2024-07-06T20:22:23.898Z"
   },
   {
    "duration": 142,
    "start_time": "2024-07-06T20:23:16.288Z"
   },
   {
    "duration": 96,
    "start_time": "2024-07-06T20:23:55.543Z"
   },
   {
    "duration": 80,
    "start_time": "2024-07-06T20:25:11.678Z"
   },
   {
    "duration": 82,
    "start_time": "2024-07-06T20:25:16.978Z"
   },
   {
    "duration": 81,
    "start_time": "2024-07-06T20:25:22.051Z"
   },
   {
    "duration": 92,
    "start_time": "2024-07-06T20:25:30.744Z"
   },
   {
    "duration": 92,
    "start_time": "2024-07-06T20:25:59.048Z"
   },
   {
    "duration": 121,
    "start_time": "2024-07-06T20:32:18.739Z"
   },
   {
    "duration": 11,
    "start_time": "2024-07-06T20:49:03.206Z"
   },
   {
    "duration": 20,
    "start_time": "2024-07-06T20:49:27.211Z"
   },
   {
    "duration": 16,
    "start_time": "2024-07-06T20:49:35.191Z"
   },
   {
    "duration": 12,
    "start_time": "2024-07-06T20:52:20.255Z"
   },
   {
    "duration": 13,
    "start_time": "2024-07-06T20:52:23.948Z"
   },
   {
    "duration": 21,
    "start_time": "2024-07-06T20:52:37.938Z"
   },
   {
    "duration": 19,
    "start_time": "2024-07-06T20:53:55.070Z"
   },
   {
    "duration": 24,
    "start_time": "2024-07-06T20:55:55.552Z"
   },
   {
    "duration": 8,
    "start_time": "2024-07-06T20:56:17.434Z"
   },
   {
    "duration": 6,
    "start_time": "2024-07-06T20:57:10.936Z"
   },
   {
    "duration": 6,
    "start_time": "2024-07-06T20:57:19.848Z"
   },
   {
    "duration": 6,
    "start_time": "2024-07-06T20:57:47.328Z"
   },
   {
    "duration": 12,
    "start_time": "2024-07-06T20:58:04.104Z"
   },
   {
    "duration": 12,
    "start_time": "2024-07-06T20:58:21.701Z"
   },
   {
    "duration": 13,
    "start_time": "2024-07-06T20:58:41.651Z"
   },
   {
    "duration": 5,
    "start_time": "2024-07-06T20:59:23.676Z"
   },
   {
    "duration": 6,
    "start_time": "2024-07-06T20:59:26.653Z"
   },
   {
    "duration": 7,
    "start_time": "2024-07-06T21:00:02.462Z"
   },
   {
    "duration": 126,
    "start_time": "2024-07-06T21:01:22.288Z"
   },
   {
    "duration": 110,
    "start_time": "2024-07-06T21:01:47.038Z"
   },
   {
    "duration": 125,
    "start_time": "2024-07-06T21:14:10.859Z"
   },
   {
    "duration": 114,
    "start_time": "2024-07-06T21:14:34.950Z"
   },
   {
    "duration": 1025,
    "start_time": "2024-07-06T21:16:07.501Z"
   },
   {
    "duration": 127,
    "start_time": "2024-07-06T21:16:13.941Z"
   },
   {
    "duration": 123,
    "start_time": "2024-07-06T21:16:37.771Z"
   },
   {
    "duration": 22,
    "start_time": "2024-07-06T21:36:13.100Z"
   },
   {
    "duration": 40,
    "start_time": "2024-07-06T21:36:24.499Z"
   },
   {
    "duration": 30,
    "start_time": "2024-07-06T21:39:04.625Z"
   },
   {
    "duration": 34,
    "start_time": "2024-07-06T21:42:16.091Z"
   },
   {
    "duration": 39,
    "start_time": "2024-07-06T21:42:51.843Z"
   },
   {
    "duration": 57,
    "start_time": "2024-07-06T21:43:08.152Z"
   },
   {
    "duration": 17,
    "start_time": "2024-07-06T21:48:41.197Z"
   },
   {
    "duration": 32,
    "start_time": "2024-07-06T21:48:56.493Z"
   },
   {
    "duration": 37,
    "start_time": "2024-07-06T21:49:33.559Z"
   },
   {
    "duration": 30,
    "start_time": "2024-07-06T21:49:46.740Z"
   },
   {
    "duration": 23,
    "start_time": "2024-07-06T21:53:34.735Z"
   },
   {
    "duration": 42,
    "start_time": "2024-07-06T21:53:49.166Z"
   },
   {
    "duration": 16,
    "start_time": "2024-07-06T21:55:29.419Z"
   },
   {
    "duration": 21,
    "start_time": "2024-07-06T21:56:13.022Z"
   },
   {
    "duration": 22,
    "start_time": "2024-07-06T21:56:33.891Z"
   },
   {
    "duration": 21,
    "start_time": "2024-07-06T21:56:40.833Z"
   },
   {
    "duration": 21,
    "start_time": "2024-07-06T21:56:59.899Z"
   },
   {
    "duration": 20,
    "start_time": "2024-07-06T22:00:48.719Z"
   },
   {
    "duration": 30,
    "start_time": "2024-07-06T22:03:28.907Z"
   },
   {
    "duration": 21,
    "start_time": "2024-07-06T22:04:09.863Z"
   },
   {
    "duration": 21,
    "start_time": "2024-07-06T22:07:48.842Z"
   },
   {
    "duration": 27,
    "start_time": "2024-07-06T22:10:34.761Z"
   },
   {
    "duration": 33,
    "start_time": "2024-07-06T22:11:46.724Z"
   },
   {
    "duration": 26,
    "start_time": "2024-07-06T22:12:44.133Z"
   },
   {
    "duration": 27,
    "start_time": "2024-07-06T22:12:52.987Z"
   },
   {
    "duration": 28,
    "start_time": "2024-07-06T22:13:00.882Z"
   },
   {
    "duration": 33,
    "start_time": "2024-07-06T22:13:32.676Z"
   },
   {
    "duration": 6,
    "start_time": "2024-07-06T22:14:50.250Z"
   },
   {
    "duration": 3,
    "start_time": "2024-07-06T22:15:00.223Z"
   },
   {
    "duration": 147,
    "start_time": "2024-07-06T22:15:00.228Z"
   },
   {
    "duration": 50,
    "start_time": "2024-07-06T22:15:00.377Z"
   },
   {
    "duration": 53,
    "start_time": "2024-07-06T22:15:00.428Z"
   },
   {
    "duration": 86,
    "start_time": "2024-07-06T22:15:00.483Z"
   },
   {
    "duration": 69,
    "start_time": "2024-07-06T22:15:00.570Z"
   },
   {
    "duration": 64,
    "start_time": "2024-07-06T22:15:00.641Z"
   },
   {
    "duration": 83,
    "start_time": "2024-07-06T22:15:00.706Z"
   },
   {
    "duration": 160,
    "start_time": "2024-07-06T22:15:00.791Z"
   },
   {
    "duration": 192,
    "start_time": "2024-07-06T22:15:00.952Z"
   },
   {
    "duration": 6,
    "start_time": "2024-07-06T22:15:01.146Z"
   },
   {
    "duration": 170,
    "start_time": "2024-07-06T22:15:01.154Z"
   },
   {
    "duration": 142,
    "start_time": "2024-07-06T22:15:01.326Z"
   },
   {
    "duration": 102,
    "start_time": "2024-07-06T22:15:01.470Z"
   },
   {
    "duration": 144,
    "start_time": "2024-07-06T22:15:01.573Z"
   },
   {
    "duration": 107,
    "start_time": "2024-07-06T22:15:01.718Z"
   },
   {
    "duration": 21,
    "start_time": "2024-07-06T22:15:01.826Z"
   },
   {
    "duration": 10,
    "start_time": "2024-07-06T22:15:01.848Z"
   },
   {
    "duration": 335,
    "start_time": "2024-07-06T22:15:01.859Z"
   },
   {
    "duration": 138,
    "start_time": "2024-07-06T22:15:02.201Z"
   },
   {
    "duration": 153,
    "start_time": "2024-07-06T22:15:02.340Z"
   },
   {
    "duration": 136,
    "start_time": "2024-07-06T22:15:02.494Z"
   },
   {
    "duration": 34,
    "start_time": "2024-07-06T22:15:02.631Z"
   },
   {
    "duration": 4,
    "start_time": "2024-07-06T22:15:05.358Z"
   },
   {
    "duration": 10,
    "start_time": "2024-07-06T22:15:14.216Z"
   },
   {
    "duration": 10,
    "start_time": "2024-07-06T22:16:10.578Z"
   },
   {
    "duration": 1010,
    "start_time": "2024-07-06T22:26:41.774Z"
   },
   {
    "duration": 998,
    "start_time": "2024-07-06T22:27:47.498Z"
   },
   {
    "duration": 57,
    "start_time": "2024-07-06T22:28:54.808Z"
   },
   {
    "duration": 10,
    "start_time": "2024-07-06T22:39:34.053Z"
   },
   {
    "duration": 106,
    "start_time": "2024-07-06T22:39:57.833Z"
   },
   {
    "duration": 43,
    "start_time": "2024-07-06T22:41:34.970Z"
   },
   {
    "duration": 89,
    "start_time": "2024-07-06T22:41:41.823Z"
   },
   {
    "duration": 48,
    "start_time": "2024-07-06T22:42:30.305Z"
   },
   {
    "duration": 29,
    "start_time": "2024-07-06T22:42:52.032Z"
   },
   {
    "duration": 49,
    "start_time": "2024-07-06T22:49:48.636Z"
   },
   {
    "duration": 31,
    "start_time": "2024-07-06T22:51:08.128Z"
   },
   {
    "duration": 32,
    "start_time": "2024-07-06T22:51:16.032Z"
   },
   {
    "duration": 35,
    "start_time": "2024-07-06T22:52:18.853Z"
   },
   {
    "duration": 37,
    "start_time": "2024-07-06T22:52:43.250Z"
   },
   {
    "duration": 52,
    "start_time": "2024-07-06T22:52:53.312Z"
   },
   {
    "duration": 31,
    "start_time": "2024-07-06T22:53:00.829Z"
   },
   {
    "duration": 19,
    "start_time": "2024-07-06T22:53:50.474Z"
   },
   {
    "duration": 17,
    "start_time": "2024-07-06T22:59:26.172Z"
   },
   {
    "duration": 12,
    "start_time": "2024-07-06T22:59:52.533Z"
   },
   {
    "duration": 12,
    "start_time": "2024-07-06T23:00:52.362Z"
   },
   {
    "duration": 11,
    "start_time": "2024-07-06T23:01:12.548Z"
   },
   {
    "duration": 2,
    "start_time": "2024-07-06T23:01:27.309Z"
   },
   {
    "duration": 47,
    "start_time": "2024-07-06T23:01:27.313Z"
   },
   {
    "duration": 5,
    "start_time": "2024-07-06T23:01:27.362Z"
   },
   {
    "duration": 18,
    "start_time": "2024-07-06T23:01:27.368Z"
   },
   {
    "duration": 45,
    "start_time": "2024-07-06T23:01:27.387Z"
   },
   {
    "duration": 23,
    "start_time": "2024-07-06T23:01:27.433Z"
   },
   {
    "duration": 10,
    "start_time": "2024-07-06T23:01:27.458Z"
   },
   {
    "duration": 15,
    "start_time": "2024-07-06T23:01:27.469Z"
   },
   {
    "duration": 17,
    "start_time": "2024-07-06T23:01:27.485Z"
   },
   {
    "duration": 133,
    "start_time": "2024-07-06T23:01:27.503Z"
   },
   {
    "duration": 6,
    "start_time": "2024-07-06T23:01:27.637Z"
   },
   {
    "duration": 153,
    "start_time": "2024-07-06T23:01:27.645Z"
   },
   {
    "duration": 158,
    "start_time": "2024-07-06T23:01:27.803Z"
   },
   {
    "duration": 104,
    "start_time": "2024-07-06T23:01:27.962Z"
   },
   {
    "duration": 167,
    "start_time": "2024-07-06T23:01:28.067Z"
   },
   {
    "duration": 106,
    "start_time": "2024-07-06T23:01:28.235Z"
   },
   {
    "duration": 20,
    "start_time": "2024-07-06T23:01:28.342Z"
   },
   {
    "duration": 10,
    "start_time": "2024-07-06T23:01:28.363Z"
   },
   {
    "duration": 167,
    "start_time": "2024-07-06T23:01:28.374Z"
   },
   {
    "duration": 124,
    "start_time": "2024-07-06T23:01:28.542Z"
   },
   {
    "duration": 156,
    "start_time": "2024-07-06T23:01:28.667Z"
   },
   {
    "duration": 140,
    "start_time": "2024-07-06T23:01:28.825Z"
   },
   {
    "duration": 45,
    "start_time": "2024-07-06T23:01:28.966Z"
   },
   {
    "duration": 980,
    "start_time": "2024-07-06T23:01:32.945Z"
   },
   {
    "duration": 32,
    "start_time": "2024-07-06T23:02:08.769Z"
   },
   {
    "duration": 1042,
    "start_time": "2024-07-06T23:02:13.495Z"
   },
   {
    "duration": 43,
    "start_time": "2024-07-06T23:02:18.788Z"
   },
   {
    "duration": 1019,
    "start_time": "2024-07-06T23:02:52.112Z"
   },
   {
    "duration": 1041,
    "start_time": "2024-07-06T23:05:09.547Z"
   },
   {
    "duration": 59,
    "start_time": "2024-07-06T23:10:35.480Z"
   },
   {
    "duration": 11,
    "start_time": "2024-07-06T23:12:13.633Z"
   },
   {
    "duration": 1015,
    "start_time": "2024-07-06T23:13:26.979Z"
   },
   {
    "duration": 12,
    "start_time": "2024-07-06T23:13:46.788Z"
   },
   {
    "duration": 293,
    "start_time": "2024-07-06T23:19:35.858Z"
   },
   {
    "duration": 37,
    "start_time": "2024-07-06T23:19:48.029Z"
   },
   {
    "duration": 1263,
    "start_time": "2024-07-07T22:08:39.936Z"
   },
   {
    "duration": 87,
    "start_time": "2024-07-07T22:08:41.201Z"
   },
   {
    "duration": 5,
    "start_time": "2024-07-07T22:08:41.289Z"
   },
   {
    "duration": 5,
    "start_time": "2024-07-07T22:08:41.296Z"
   },
   {
    "duration": 89,
    "start_time": "2024-07-07T22:08:41.303Z"
   },
   {
    "duration": 67,
    "start_time": "2024-07-07T22:08:41.394Z"
   },
   {
    "duration": 14,
    "start_time": "2024-07-07T22:08:41.462Z"
   },
   {
    "duration": 10,
    "start_time": "2024-07-07T22:08:41.477Z"
   },
   {
    "duration": 13,
    "start_time": "2024-07-07T22:08:41.489Z"
   },
   {
    "duration": 165,
    "start_time": "2024-07-07T22:08:41.503Z"
   },
   {
    "duration": 8,
    "start_time": "2024-07-07T22:08:41.670Z"
   },
   {
    "duration": 166,
    "start_time": "2024-07-07T22:08:41.679Z"
   },
   {
    "duration": 169,
    "start_time": "2024-07-07T22:08:41.846Z"
   },
   {
    "duration": 112,
    "start_time": "2024-07-07T22:08:42.017Z"
   },
   {
    "duration": 175,
    "start_time": "2024-07-07T22:08:42.137Z"
   },
   {
    "duration": 137,
    "start_time": "2024-07-07T22:08:42.313Z"
   },
   {
    "duration": 29,
    "start_time": "2024-07-07T22:08:42.452Z"
   },
   {
    "duration": 13,
    "start_time": "2024-07-07T22:08:42.482Z"
   },
   {
    "duration": 192,
    "start_time": "2024-07-07T22:08:42.496Z"
   },
   {
    "duration": 164,
    "start_time": "2024-07-07T22:08:42.689Z"
   },
   {
    "duration": 172,
    "start_time": "2024-07-07T22:08:42.855Z"
   },
   {
    "duration": 236,
    "start_time": "2024-07-07T22:08:43.029Z"
   },
   {
    "duration": 391,
    "start_time": "2024-07-07T22:08:46.939Z"
   },
   {
    "duration": 36,
    "start_time": "2024-07-07T22:09:15.376Z"
   },
   {
    "duration": 517,
    "start_time": "2024-07-07T22:13:31.474Z"
   },
   {
    "duration": 1031,
    "start_time": "2024-07-07T22:14:03.738Z"
   },
   {
    "duration": 38,
    "start_time": "2024-07-07T22:18:30.546Z"
   },
   {
    "duration": 9,
    "start_time": "2024-07-07T22:19:02.211Z"
   },
   {
    "duration": 6,
    "start_time": "2024-07-07T22:19:18.483Z"
   },
   {
    "duration": 37,
    "start_time": "2024-07-07T22:20:16.432Z"
   },
   {
    "duration": 1317,
    "start_time": "2024-07-07T22:20:19.685Z"
   },
   {
    "duration": 5,
    "start_time": "2024-07-07T22:20:42.961Z"
   },
   {
    "duration": 8,
    "start_time": "2024-07-07T22:21:34.871Z"
   },
   {
    "duration": 4,
    "start_time": "2024-07-07T22:21:42.377Z"
   },
   {
    "duration": 4,
    "start_time": "2024-07-07T22:22:03.093Z"
   },
   {
    "duration": 6,
    "start_time": "2024-07-07T22:22:59.233Z"
   },
   {
    "duration": 8,
    "start_time": "2024-07-07T22:23:12.463Z"
   },
   {
    "duration": 3,
    "start_time": "2024-07-07T22:23:22.060Z"
   },
   {
    "duration": 4,
    "start_time": "2024-07-07T22:23:24.049Z"
   },
   {
    "duration": 1031,
    "start_time": "2024-07-07T22:27:24.857Z"
   },
   {
    "duration": 1085,
    "start_time": "2024-07-07T22:28:11.281Z"
   },
   {
    "duration": 40,
    "start_time": "2024-07-07T22:28:27.997Z"
   },
   {
    "duration": 14,
    "start_time": "2024-07-07T22:28:32.241Z"
   },
   {
    "duration": 14,
    "start_time": "2024-07-07T22:28:54.803Z"
   },
   {
    "duration": 18,
    "start_time": "2024-07-07T22:30:30.569Z"
   },
   {
    "duration": 44,
    "start_time": "2024-07-07T22:30:35.076Z"
   },
   {
    "duration": 1070,
    "start_time": "2024-07-07T22:30:37.583Z"
   },
   {
    "duration": 50,
    "start_time": "2024-07-07T22:31:02.927Z"
   },
   {
    "duration": 1031,
    "start_time": "2024-07-07T22:31:06.116Z"
   },
   {
    "duration": 12,
    "start_time": "2024-07-07T22:33:36.302Z"
   },
   {
    "duration": 10,
    "start_time": "2024-07-07T22:34:01.904Z"
   },
   {
    "duration": 1061,
    "start_time": "2024-07-07T22:34:37.831Z"
   },
   {
    "duration": 11,
    "start_time": "2024-07-07T22:34:50.153Z"
   },
   {
    "duration": 10,
    "start_time": "2024-07-07T22:35:16.133Z"
   },
   {
    "duration": 9,
    "start_time": "2024-07-07T22:35:19.062Z"
   },
   {
    "duration": 41,
    "start_time": "2024-07-07T22:35:23.419Z"
   },
   {
    "duration": 1002,
    "start_time": "2024-07-07T22:35:26.599Z"
   },
   {
    "duration": 49,
    "start_time": "2024-07-07T22:35:57.377Z"
   },
   {
    "duration": 1059,
    "start_time": "2024-07-07T22:36:01.259Z"
   },
   {
    "duration": 12,
    "start_time": "2024-07-07T22:36:11.859Z"
   },
   {
    "duration": 12,
    "start_time": "2024-07-07T22:36:28.326Z"
   },
   {
    "duration": 1135,
    "start_time": "2024-07-07T22:37:30.956Z"
   },
   {
    "duration": 38,
    "start_time": "2024-07-07T22:37:35.214Z"
   },
   {
    "duration": 1003,
    "start_time": "2024-07-07T22:37:37.793Z"
   },
   {
    "duration": 11,
    "start_time": "2024-07-07T22:37:47.304Z"
   },
   {
    "duration": 9,
    "start_time": "2024-07-07T22:43:14.872Z"
   },
   {
    "duration": 37,
    "start_time": "2024-07-07T22:43:17.804Z"
   },
   {
    "duration": 12,
    "start_time": "2024-07-07T22:43:20.497Z"
   },
   {
    "duration": 35,
    "start_time": "2024-07-07T22:43:54.780Z"
   },
   {
    "duration": 11,
    "start_time": "2024-07-07T22:43:58.213Z"
   },
   {
    "duration": 16,
    "start_time": "2024-07-07T22:45:16.967Z"
   },
   {
    "duration": 15,
    "start_time": "2024-07-07T22:45:19.627Z"
   },
   {
    "duration": 34,
    "start_time": "2024-07-07T22:45:46.235Z"
   },
   {
    "duration": 16,
    "start_time": "2024-07-07T22:46:46.464Z"
   },
   {
    "duration": 16,
    "start_time": "2024-07-07T22:50:12.616Z"
   },
   {
    "duration": 16,
    "start_time": "2024-07-07T22:50:47.019Z"
   },
   {
    "duration": 1136,
    "start_time": "2024-07-07T22:51:40.451Z"
   },
   {
    "duration": 36,
    "start_time": "2024-07-07T22:52:02.057Z"
   },
   {
    "duration": 1025,
    "start_time": "2024-07-07T22:52:04.864Z"
   },
   {
    "duration": 12,
    "start_time": "2024-07-07T22:52:22.379Z"
   },
   {
    "duration": 38,
    "start_time": "2024-07-07T22:53:32.125Z"
   },
   {
    "duration": 1025,
    "start_time": "2024-07-07T22:53:36.930Z"
   },
   {
    "duration": 15,
    "start_time": "2024-07-07T22:53:55.154Z"
   },
   {
    "duration": 3,
    "start_time": "2024-07-07T22:54:47.976Z"
   },
   {
    "duration": 42,
    "start_time": "2024-07-07T22:54:47.981Z"
   },
   {
    "duration": 5,
    "start_time": "2024-07-07T22:54:48.024Z"
   },
   {
    "duration": 20,
    "start_time": "2024-07-07T22:54:48.030Z"
   },
   {
    "duration": 47,
    "start_time": "2024-07-07T22:54:48.052Z"
   },
   {
    "duration": 27,
    "start_time": "2024-07-07T22:54:48.100Z"
   },
   {
    "duration": 14,
    "start_time": "2024-07-07T22:54:48.128Z"
   },
   {
    "duration": 11,
    "start_time": "2024-07-07T22:54:48.144Z"
   },
   {
    "duration": 6,
    "start_time": "2024-07-07T22:54:48.156Z"
   },
   {
    "duration": 168,
    "start_time": "2024-07-07T22:54:48.164Z"
   },
   {
    "duration": 6,
    "start_time": "2024-07-07T22:54:48.337Z"
   },
   {
    "duration": 181,
    "start_time": "2024-07-07T22:54:48.345Z"
   },
   {
    "duration": 194,
    "start_time": "2024-07-07T22:54:48.528Z"
   },
   {
    "duration": 128,
    "start_time": "2024-07-07T22:54:48.725Z"
   },
   {
    "duration": 202,
    "start_time": "2024-07-07T22:54:48.854Z"
   },
   {
    "duration": 127,
    "start_time": "2024-07-07T22:54:49.058Z"
   },
   {
    "duration": 26,
    "start_time": "2024-07-07T22:54:49.187Z"
   },
   {
    "duration": 28,
    "start_time": "2024-07-07T22:54:49.215Z"
   },
   {
    "duration": 162,
    "start_time": "2024-07-07T22:54:49.244Z"
   },
   {
    "duration": 159,
    "start_time": "2024-07-07T22:54:49.408Z"
   },
   {
    "duration": 178,
    "start_time": "2024-07-07T22:54:49.569Z"
   },
   {
    "duration": 269,
    "start_time": "2024-07-07T22:54:49.749Z"
   },
   {
    "duration": 47,
    "start_time": "2024-07-07T22:54:50.019Z"
   },
   {
    "duration": 1156,
    "start_time": "2024-07-07T22:55:02.125Z"
   },
   {
    "duration": 47,
    "start_time": "2024-07-07T22:55:03.283Z"
   },
   {
    "duration": 6,
    "start_time": "2024-07-07T22:55:03.331Z"
   },
   {
    "duration": 26,
    "start_time": "2024-07-07T22:55:03.338Z"
   },
   {
    "duration": 42,
    "start_time": "2024-07-07T22:55:03.367Z"
   },
   {
    "duration": 27,
    "start_time": "2024-07-07T22:55:03.411Z"
   },
   {
    "duration": 19,
    "start_time": "2024-07-07T22:55:03.440Z"
   },
   {
    "duration": 14,
    "start_time": "2024-07-07T22:55:03.461Z"
   },
   {
    "duration": 8,
    "start_time": "2024-07-07T22:55:03.477Z"
   },
   {
    "duration": 192,
    "start_time": "2024-07-07T22:55:03.487Z"
   },
   {
    "duration": 6,
    "start_time": "2024-07-07T22:55:03.681Z"
   },
   {
    "duration": 168,
    "start_time": "2024-07-07T22:55:03.689Z"
   },
   {
    "duration": 188,
    "start_time": "2024-07-07T22:55:03.858Z"
   },
   {
    "duration": 126,
    "start_time": "2024-07-07T22:55:04.049Z"
   },
   {
    "duration": 216,
    "start_time": "2024-07-07T22:55:04.177Z"
   },
   {
    "duration": 146,
    "start_time": "2024-07-07T22:55:04.394Z"
   },
   {
    "duration": 24,
    "start_time": "2024-07-07T22:55:04.542Z"
   },
   {
    "duration": 12,
    "start_time": "2024-07-07T22:55:04.568Z"
   },
   {
    "duration": 180,
    "start_time": "2024-07-07T22:55:04.581Z"
   },
   {
    "duration": 158,
    "start_time": "2024-07-07T22:55:04.762Z"
   },
   {
    "duration": 177,
    "start_time": "2024-07-07T22:55:04.921Z"
   },
   {
    "duration": 248,
    "start_time": "2024-07-07T22:55:05.100Z"
   },
   {
    "duration": 39,
    "start_time": "2024-07-07T22:55:15.112Z"
   },
   {
    "duration": 16,
    "start_time": "2024-07-07T22:55:17.584Z"
   },
   {
    "duration": 6,
    "start_time": "2024-07-07T23:15:55.600Z"
   },
   {
    "duration": 5,
    "start_time": "2024-07-07T23:19:02.782Z"
   },
   {
    "duration": 5,
    "start_time": "2024-07-07T23:43:17.572Z"
   },
   {
    "duration": 4,
    "start_time": "2024-07-07T23:46:11.716Z"
   },
   {
    "duration": 5,
    "start_time": "2024-07-07T23:46:16.188Z"
   },
   {
    "duration": 5,
    "start_time": "2024-07-07T23:48:30.418Z"
   },
   {
    "duration": 5,
    "start_time": "2024-07-07T23:48:33.557Z"
   },
   {
    "duration": 5,
    "start_time": "2024-07-07T23:48:48.902Z"
   },
   {
    "duration": 5,
    "start_time": "2024-07-07T23:48:51.983Z"
   },
   {
    "duration": 95,
    "start_time": "2024-07-07T23:57:24.492Z"
   },
   {
    "duration": 16,
    "start_time": "2024-07-07T23:57:53.148Z"
   },
   {
    "duration": 11,
    "start_time": "2024-07-07T23:58:15.645Z"
   },
   {
    "duration": 11,
    "start_time": "2024-07-07T23:58:25.101Z"
   },
   {
    "duration": 951,
    "start_time": "2024-07-08T04:34:37.544Z"
   },
   {
    "duration": 41,
    "start_time": "2024-07-08T04:34:38.497Z"
   },
   {
    "duration": 6,
    "start_time": "2024-07-08T04:34:38.540Z"
   },
   {
    "duration": 40,
    "start_time": "2024-07-08T04:34:38.548Z"
   },
   {
    "duration": 25,
    "start_time": "2024-07-08T04:34:38.589Z"
   },
   {
    "duration": 14,
    "start_time": "2024-07-08T04:34:38.615Z"
   },
   {
    "duration": 9,
    "start_time": "2024-07-08T04:34:38.630Z"
   },
   {
    "duration": 6,
    "start_time": "2024-07-08T04:34:38.640Z"
   },
   {
    "duration": 164,
    "start_time": "2024-07-08T04:34:38.647Z"
   },
   {
    "duration": 6,
    "start_time": "2024-07-08T04:34:38.814Z"
   },
   {
    "duration": 201,
    "start_time": "2024-07-08T04:34:38.822Z"
   },
   {
    "duration": 175,
    "start_time": "2024-07-08T04:34:39.024Z"
   },
   {
    "duration": 130,
    "start_time": "2024-07-08T04:34:39.201Z"
   },
   {
    "duration": 162,
    "start_time": "2024-07-08T04:34:39.332Z"
   },
   {
    "duration": 117,
    "start_time": "2024-07-08T04:34:39.496Z"
   },
   {
    "duration": 24,
    "start_time": "2024-07-08T04:34:39.614Z"
   },
   {
    "duration": 12,
    "start_time": "2024-07-08T04:34:39.640Z"
   },
   {
    "duration": 178,
    "start_time": "2024-07-08T04:34:39.653Z"
   },
   {
    "duration": 143,
    "start_time": "2024-07-08T04:34:39.833Z"
   },
   {
    "duration": 159,
    "start_time": "2024-07-08T04:34:39.978Z"
   },
   {
    "duration": 207,
    "start_time": "2024-07-08T04:34:40.138Z"
   },
   {
    "duration": 62,
    "start_time": "2024-07-08T04:34:40.347Z"
   },
   {
    "duration": 19,
    "start_time": "2024-07-08T04:34:40.411Z"
   },
   {
    "duration": 5,
    "start_time": "2024-07-08T04:34:40.431Z"
   },
   {
    "duration": 5,
    "start_time": "2024-07-08T04:34:40.438Z"
   },
   {
    "duration": 45,
    "start_time": "2024-07-08T04:34:40.445Z"
   },
   {
    "duration": 1291,
    "start_time": "2024-07-08T07:20:18.577Z"
   },
   {
    "duration": 122,
    "start_time": "2024-07-08T07:20:19.870Z"
   },
   {
    "duration": 5,
    "start_time": "2024-07-08T07:20:19.993Z"
   },
   {
    "duration": 164,
    "start_time": "2024-07-08T07:20:20.000Z"
   },
   {
    "duration": 76,
    "start_time": "2024-07-08T07:20:20.165Z"
   },
   {
    "duration": 13,
    "start_time": "2024-07-08T07:20:20.243Z"
   },
   {
    "duration": 55,
    "start_time": "2024-07-08T07:20:20.257Z"
   },
   {
    "duration": 8,
    "start_time": "2024-07-08T07:20:20.313Z"
   },
   {
    "duration": 239,
    "start_time": "2024-07-08T07:20:20.323Z"
   },
   {
    "duration": 6,
    "start_time": "2024-07-08T07:20:20.564Z"
   },
   {
    "duration": 310,
    "start_time": "2024-07-08T07:20:20.609Z"
   },
   {
    "duration": 339,
    "start_time": "2024-07-08T07:20:20.920Z"
   },
   {
    "duration": 180,
    "start_time": "2024-07-08T07:20:21.261Z"
   },
   {
    "duration": 480,
    "start_time": "2024-07-08T07:20:21.443Z"
   },
   {
    "duration": 213,
    "start_time": "2024-07-08T07:20:21.924Z"
   },
   {
    "duration": 79,
    "start_time": "2024-07-08T07:20:22.139Z"
   },
   {
    "duration": 12,
    "start_time": "2024-07-08T07:20:22.219Z"
   },
   {
    "duration": 293,
    "start_time": "2024-07-08T07:20:22.233Z"
   },
   {
    "duration": 497,
    "start_time": "2024-07-08T07:20:22.528Z"
   },
   {
    "duration": 312,
    "start_time": "2024-07-08T07:20:23.027Z"
   },
   {
    "duration": 476,
    "start_time": "2024-07-08T07:20:23.341Z"
   },
   {
    "duration": 106,
    "start_time": "2024-07-08T07:20:23.818Z"
   },
   {
    "duration": 15,
    "start_time": "2024-07-08T07:20:23.926Z"
   },
   {
    "duration": 69,
    "start_time": "2024-07-08T07:20:23.943Z"
   },
   {
    "duration": 5,
    "start_time": "2024-07-08T07:20:24.014Z"
   },
   {
    "duration": 27,
    "start_time": "2024-07-08T07:20:24.021Z"
   },
   {
    "duration": 44,
    "start_time": "2024-07-08T07:23:18.297Z"
   },
   {
    "duration": 5,
    "start_time": "2024-07-08T07:23:21.842Z"
   },
   {
    "duration": 7,
    "start_time": "2024-07-08T07:24:04.377Z"
   },
   {
    "duration": 11,
    "start_time": "2024-07-08T07:24:56.572Z"
   },
   {
    "duration": 44,
    "start_time": "2024-07-08T20:55:14.162Z"
   },
   {
    "duration": 1173,
    "start_time": "2024-07-08T20:55:25.982Z"
   },
   {
    "duration": 108,
    "start_time": "2024-07-08T20:55:27.157Z"
   },
   {
    "duration": 4,
    "start_time": "2024-07-08T20:55:27.267Z"
   },
   {
    "duration": 141,
    "start_time": "2024-07-08T20:55:27.273Z"
   },
   {
    "duration": 73,
    "start_time": "2024-07-08T20:55:27.415Z"
   },
   {
    "duration": 12,
    "start_time": "2024-07-08T20:55:27.489Z"
   },
   {
    "duration": 8,
    "start_time": "2024-07-08T20:55:27.502Z"
   },
   {
    "duration": 8,
    "start_time": "2024-07-08T20:55:27.511Z"
   },
   {
    "duration": 151,
    "start_time": "2024-07-08T20:55:30.998Z"
   },
   {
    "duration": 132,
    "start_time": "2024-07-08T20:59:08.222Z"
   },
   {
    "duration": 165,
    "start_time": "2024-07-08T21:00:55.959Z"
   },
   {
    "duration": 58,
    "start_time": "2024-07-08T21:04:50.643Z"
   },
   {
    "duration": 59,
    "start_time": "2024-07-08T21:05:51.558Z"
   },
   {
    "duration": 59,
    "start_time": "2024-07-08T21:06:13.254Z"
   },
   {
    "duration": 69,
    "start_time": "2024-07-08T21:07:03.016Z"
   },
   {
    "duration": 179,
    "start_time": "2024-07-08T21:08:20.154Z"
   },
   {
    "duration": 146,
    "start_time": "2024-07-08T21:10:55.122Z"
   },
   {
    "duration": 182,
    "start_time": "2024-07-08T21:11:44.514Z"
   },
   {
    "duration": 157,
    "start_time": "2024-07-08T21:12:27.961Z"
   },
   {
    "duration": 200,
    "start_time": "2024-07-08T21:14:01.356Z"
   },
   {
    "duration": 157,
    "start_time": "2024-07-08T21:14:50.908Z"
   },
   {
    "duration": 119,
    "start_time": "2024-07-08T21:16:55.647Z"
   },
   {
    "duration": 123,
    "start_time": "2024-07-08T21:17:24.685Z"
   },
   {
    "duration": 193,
    "start_time": "2024-07-08T21:18:17.489Z"
   },
   {
    "duration": 112,
    "start_time": "2024-07-08T21:18:57.012Z"
   },
   {
    "duration": 8,
    "start_time": "2024-07-08T21:21:34.716Z"
   },
   {
    "duration": 3,
    "start_time": "2024-07-08T21:21:59.858Z"
   },
   {
    "duration": 36,
    "start_time": "2024-07-08T21:21:59.865Z"
   },
   {
    "duration": 5,
    "start_time": "2024-07-08T21:21:59.903Z"
   },
   {
    "duration": 41,
    "start_time": "2024-07-08T21:21:59.909Z"
   },
   {
    "duration": 25,
    "start_time": "2024-07-08T21:21:59.952Z"
   },
   {
    "duration": 29,
    "start_time": "2024-07-08T21:21:59.978Z"
   },
   {
    "duration": 9,
    "start_time": "2024-07-08T21:22:00.009Z"
   },
   {
    "duration": 51,
    "start_time": "2024-07-08T21:22:00.020Z"
   },
   {
    "duration": 177,
    "start_time": "2024-07-08T21:22:00.073Z"
   },
   {
    "duration": 159,
    "start_time": "2024-07-08T21:22:00.251Z"
   },
   {
    "duration": 187,
    "start_time": "2024-07-08T21:22:00.413Z"
   },
   {
    "duration": 246,
    "start_time": "2024-07-08T21:22:00.601Z"
   },
   {
    "duration": 138,
    "start_time": "2024-07-08T21:22:00.849Z"
   },
   {
    "duration": 214,
    "start_time": "2024-07-08T21:22:00.989Z"
   },
   {
    "duration": 144,
    "start_time": "2024-07-08T21:22:01.205Z"
   },
   {
    "duration": 33,
    "start_time": "2024-07-08T21:22:01.351Z"
   },
   {
    "duration": 12,
    "start_time": "2024-07-08T21:22:01.386Z"
   },
   {
    "duration": 160,
    "start_time": "2024-07-08T21:22:06.325Z"
   },
   {
    "duration": 165,
    "start_time": "2024-07-08T21:23:18.258Z"
   },
   {
    "duration": 151,
    "start_time": "2024-07-08T21:23:38.097Z"
   },
   {
    "duration": 153,
    "start_time": "2024-07-08T21:23:53.955Z"
   },
   {
    "duration": 177,
    "start_time": "2024-07-08T21:24:36.783Z"
   },
   {
    "duration": 4,
    "start_time": "2024-07-08T21:37:20.727Z"
   },
   {
    "duration": 11,
    "start_time": "2024-07-08T21:37:42.419Z"
   },
   {
    "duration": 37,
    "start_time": "2024-07-08T21:38:10.900Z"
   },
   {
    "duration": 14,
    "start_time": "2024-07-08T21:38:37.861Z"
   },
   {
    "duration": 2,
    "start_time": "2024-07-08T21:39:06.940Z"
   },
   {
    "duration": 41,
    "start_time": "2024-07-08T21:39:06.946Z"
   },
   {
    "duration": 5,
    "start_time": "2024-07-08T21:39:06.989Z"
   },
   {
    "duration": 36,
    "start_time": "2024-07-08T21:39:06.995Z"
   },
   {
    "duration": 23,
    "start_time": "2024-07-08T21:39:07.033Z"
   },
   {
    "duration": 25,
    "start_time": "2024-07-08T21:39:07.058Z"
   },
   {
    "duration": 10,
    "start_time": "2024-07-08T21:39:07.085Z"
   },
   {
    "duration": 6,
    "start_time": "2024-07-08T21:39:07.096Z"
   },
   {
    "duration": 161,
    "start_time": "2024-07-08T21:39:07.104Z"
   },
   {
    "duration": 69,
    "start_time": "2024-07-08T21:39:07.266Z"
   },
   {
    "duration": 242,
    "start_time": "2024-07-08T21:39:07.336Z"
   },
   {
    "duration": 161,
    "start_time": "2024-07-08T21:39:07.580Z"
   },
   {
    "duration": 116,
    "start_time": "2024-07-08T21:39:07.742Z"
   },
   {
    "duration": 177,
    "start_time": "2024-07-08T21:39:07.859Z"
   },
   {
    "duration": 115,
    "start_time": "2024-07-08T21:39:08.039Z"
   },
   {
    "duration": 29,
    "start_time": "2024-07-08T21:39:08.156Z"
   },
   {
    "duration": 9,
    "start_time": "2024-07-08T21:39:08.187Z"
   },
   {
    "duration": 166,
    "start_time": "2024-07-08T21:39:08.198Z"
   },
   {
    "duration": 149,
    "start_time": "2024-07-08T21:39:08.371Z"
   },
   {
    "duration": 184,
    "start_time": "2024-07-08T21:39:08.522Z"
   },
   {
    "duration": 165,
    "start_time": "2024-07-08T21:39:08.707Z"
   },
   {
    "duration": 12,
    "start_time": "2024-07-08T21:39:08.874Z"
   },
   {
    "duration": 41,
    "start_time": "2024-07-08T21:39:08.888Z"
   },
   {
    "duration": 18,
    "start_time": "2024-07-08T21:39:14.715Z"
   },
   {
    "duration": 5,
    "start_time": "2024-07-08T21:40:41.332Z"
   },
   {
    "duration": 5,
    "start_time": "2024-07-08T21:41:13.600Z"
   },
   {
    "duration": 5,
    "start_time": "2024-07-08T21:41:19.394Z"
   },
   {
    "duration": 4,
    "start_time": "2024-07-08T21:41:36.018Z"
   },
   {
    "duration": 10,
    "start_time": "2024-07-08T21:42:48.885Z"
   },
   {
    "duration": 3076,
    "start_time": "2024-07-09T11:58:18.474Z"
   },
   {
    "duration": 110,
    "start_time": "2024-07-09T11:58:21.552Z"
   },
   {
    "duration": 8,
    "start_time": "2024-07-09T11:58:21.664Z"
   },
   {
    "duration": 116,
    "start_time": "2024-07-09T11:58:21.746Z"
   },
   {
    "duration": 95,
    "start_time": "2024-07-09T11:58:21.864Z"
   },
   {
    "duration": 88,
    "start_time": "2024-07-09T11:58:21.961Z"
   },
   {
    "duration": 11,
    "start_time": "2024-07-09T11:58:22.051Z"
   },
   {
    "duration": 84,
    "start_time": "2024-07-09T11:58:22.064Z"
   },
   {
    "duration": 795,
    "start_time": "2024-07-09T11:58:22.151Z"
   },
   {
    "duration": 314,
    "start_time": "2024-07-09T11:58:22.948Z"
   },
   {
    "duration": 782,
    "start_time": "2024-07-09T11:58:23.264Z"
   },
   {
    "duration": 827,
    "start_time": "2024-07-09T11:58:24.048Z"
   },
   {
    "duration": 413,
    "start_time": "2024-07-09T11:58:24.946Z"
   },
   {
    "duration": 491,
    "start_time": "2024-07-09T11:58:25.362Z"
   },
   {
    "duration": 320,
    "start_time": "2024-07-09T11:58:25.855Z"
   },
   {
    "duration": 81,
    "start_time": "2024-07-09T11:58:26.176Z"
   },
   {
    "duration": 13,
    "start_time": "2024-07-09T11:58:26.258Z"
   },
   {
    "duration": 478,
    "start_time": "2024-07-09T11:58:26.273Z"
   },
   {
    "duration": 418,
    "start_time": "2024-07-09T11:58:26.753Z"
   },
   {
    "duration": 606,
    "start_time": "2024-07-09T11:58:27.172Z"
   },
   {
    "duration": 467,
    "start_time": "2024-07-09T11:58:27.781Z"
   },
   {
    "duration": 17,
    "start_time": "2024-07-09T11:58:28.251Z"
   },
   {
    "duration": 131,
    "start_time": "2024-07-09T11:58:28.269Z"
   },
   {
    "duration": 17,
    "start_time": "2024-07-09T11:58:28.446Z"
   },
   {
    "duration": 6,
    "start_time": "2024-07-09T11:58:28.464Z"
   },
   {
    "duration": 9,
    "start_time": "2024-07-09T11:58:28.471Z"
   },
   {
    "duration": 77,
    "start_time": "2024-07-09T11:58:28.481Z"
   },
   {
    "duration": 41,
    "start_time": "2024-07-11T21:07:58.059Z"
   },
   {
    "duration": 1139,
    "start_time": "2024-07-11T21:08:04.484Z"
   },
   {
    "duration": 89,
    "start_time": "2024-07-11T21:08:08.399Z"
   }
  ],
  "kernelspec": {
   "display_name": "Python 3 (ipykernel)",
   "language": "python",
   "name": "python3"
  },
  "language_info": {
   "codemirror_mode": {
    "name": "ipython",
    "version": 3
   },
   "file_extension": ".py",
   "mimetype": "text/x-python",
   "name": "python",
   "nbconvert_exporter": "python",
   "pygments_lexer": "ipython3",
   "version": "3.9.5"
  },
  "toc": {
   "base_numbering": 1,
   "nav_menu": {
    "height": "157px",
    "width": "361px"
   },
   "number_sections": true,
   "sideBar": true,
   "skip_h1_title": true,
   "title_cell": "Table of Contents",
   "title_sidebar": "Contents",
   "toc_cell": false,
   "toc_position": {},
   "toc_section_display": true,
   "toc_window_display": true
  }
 },
 "nbformat": 4,
 "nbformat_minor": 5
}
